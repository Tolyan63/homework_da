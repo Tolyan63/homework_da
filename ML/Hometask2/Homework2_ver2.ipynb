{
 "cells": [
  {
   "cell_type": "code",
   "execution_count": 1,
   "id": "4aa67fef",
   "metadata": {},
   "outputs": [],
   "source": [
    "import pandas as pd\n",
    "from sklearn.feature_extraction.text import TfidfVectorizer\n",
    "from sklearn.model_selection import train_test_split\n",
    "from sklearn import tree\n",
    "from sklearn.metrics import f1_score\n",
    "import nltk\n",
    "import ssl\n",
    "from nltk.corpus import stopwords\n",
    "import re\n",
    "import pymorphy2"
   ]
  },
  {
   "cell_type": "code",
   "execution_count": 3,
   "id": "7909940d",
   "metadata": {},
   "outputs": [
    {
     "name": "stderr",
     "output_type": "stream",
     "text": [
      "<timed exec>:3: DtypeWarning: Columns (3) have mixed types. Specify dtype option on import or set low_memory=False.\n"
     ]
    },
    {
     "name": "stdout",
     "output_type": "stream",
     "text": [
      "Wall time: 1min 25s\n"
     ]
    }
   ],
   "source": [
    "%%time\n",
    "#читаем csv\n",
    "#%%time\n",
    "df = pd.read_csv('C:\\Temp\\lenta-ru-news.csv')"
   ]
  },
  {
   "cell_type": "code",
   "execution_count": 4,
   "id": "44aa4ffd",
   "metadata": {},
   "outputs": [],
   "source": [
    "# в новый dateframe записываем только нужные нам темы\n",
    "df_2 = df[df.topic.isin(['Россия','Мир','Экономика','Спорт','Культура'])].copy()\n",
    "df_2= df_2.drop(columns = ['url', 'tags','date'], axis = 1)"
   ]
  },
  {
   "cell_type": "code",
   "execution_count": 5,
   "id": "a9d67f9f",
   "metadata": {},
   "outputs": [],
   "source": [
    "RANDOM_STATE = 123"
   ]
  },
  {
   "cell_type": "code",
   "execution_count": 6,
   "id": "e4c4048b",
   "metadata": {},
   "outputs": [
    {
     "data": {
      "text/plain": [
       "(494804, 3)"
      ]
     },
     "execution_count": 6,
     "metadata": {},
     "output_type": "execute_result"
    }
   ],
   "source": [
    "df_2.shape"
   ]
  },
  {
   "cell_type": "code",
   "execution_count": 7,
   "id": "342555dd",
   "metadata": {},
   "outputs": [
    {
     "data": {
      "text/plain": [
       "Россия       160445\n",
       "Мир          136621\n",
       "Экономика     79528\n",
       "Спорт         64413\n",
       "Культура      53797\n",
       "Name: topic, dtype: int64"
      ]
     },
     "execution_count": 7,
     "metadata": {},
     "output_type": "execute_result"
    }
   ],
   "source": [
    "df_2.topic.value_counts()"
   ]
  },
  {
   "cell_type": "code",
   "execution_count": 8,
   "id": "2cc0b6f3",
   "metadata": {},
   "outputs": [
    {
     "data": {
      "text/plain": [
       "title    0\n",
       "text     5\n",
       "topic    0\n",
       "dtype: int64"
      ]
     },
     "execution_count": 8,
     "metadata": {},
     "output_type": "execute_result"
    }
   ],
   "source": [
    "df_2.isna().sum()"
   ]
  },
  {
   "cell_type": "code",
   "execution_count": 9,
   "id": "224af6de",
   "metadata": {},
   "outputs": [],
   "source": [
    "#удаляем строки без текста\n",
    "df_2.dropna(subset=['text'],inplace = True)"
   ]
  },
  {
   "cell_type": "code",
   "execution_count": 10,
   "id": "48ead012",
   "metadata": {
    "scrolled": true
   },
   "outputs": [
    {
     "data": {
      "text/plain": [
       "title    0\n",
       "text     0\n",
       "topic    0\n",
       "dtype: int64"
      ]
     },
     "execution_count": 10,
     "metadata": {},
     "output_type": "execute_result"
    }
   ],
   "source": [
    "df_2.isna().sum()"
   ]
  },
  {
   "cell_type": "code",
   "execution_count": 11,
   "id": "1780523a",
   "metadata": {},
   "outputs": [
    {
     "data": {
      "text/html": [
       "<div>\n",
       "<style scoped>\n",
       "    .dataframe tbody tr th:only-of-type {\n",
       "        vertical-align: middle;\n",
       "    }\n",
       "\n",
       "    .dataframe tbody tr th {\n",
       "        vertical-align: top;\n",
       "    }\n",
       "\n",
       "    .dataframe thead th {\n",
       "        text-align: right;\n",
       "    }\n",
       "</style>\n",
       "<table border=\"1\" class=\"dataframe\">\n",
       "  <thead>\n",
       "    <tr style=\"text-align: right;\">\n",
       "      <th></th>\n",
       "      <th>title</th>\n",
       "      <th>text</th>\n",
       "      <th>topic</th>\n",
       "    </tr>\n",
       "  </thead>\n",
       "  <tbody>\n",
       "    <tr>\n",
       "      <th>5</th>\n",
       "      <td>Космонавты сомневаются в надежности \"Мира\"</td>\n",
       "      <td>Как стало известно агентству Ассошиэйтед Пресс...</td>\n",
       "      <td>Россия</td>\n",
       "    </tr>\n",
       "    <tr>\n",
       "      <th>6</th>\n",
       "      <td>Взрыв в центре Москвы: пострадало 30 человек</td>\n",
       "      <td>В зале игровых автоматов в третьем ярусе подзе...</td>\n",
       "      <td>Россия</td>\n",
       "    </tr>\n",
       "    <tr>\n",
       "      <th>7</th>\n",
       "      <td>Япония кредитует Россию на полтора миллиарда д...</td>\n",
       "      <td>Япония приняла решение разморозить кредиты Рос...</td>\n",
       "      <td>Россия</td>\n",
       "    </tr>\n",
       "    <tr>\n",
       "      <th>8</th>\n",
       "      <td>Британцы отмечают двухлетие смерти Дианы</td>\n",
       "      <td>Британцы отмечают сегодня скорбную дату - втор...</td>\n",
       "      <td>Мир</td>\n",
       "    </tr>\n",
       "    <tr>\n",
       "      <th>9</th>\n",
       "      <td>Отмытые через Bank of NY деньги не имели отнош...</td>\n",
       "      <td>В понедельник директор департамента внешних св...</td>\n",
       "      <td>Россия</td>\n",
       "    </tr>\n",
       "  </tbody>\n",
       "</table>\n",
       "</div>"
      ],
      "text/plain": [
       "                                               title  \\\n",
       "5         Космонавты сомневаются в надежности \"Мира\"   \n",
       "6       Взрыв в центре Москвы: пострадало 30 человек   \n",
       "7  Япония кредитует Россию на полтора миллиарда д...   \n",
       "8           Британцы отмечают двухлетие смерти Дианы   \n",
       "9  Отмытые через Bank of NY деньги не имели отнош...   \n",
       "\n",
       "                                                text   topic  \n",
       "5  Как стало известно агентству Ассошиэйтед Пресс...  Россия  \n",
       "6  В зале игровых автоматов в третьем ярусе подзе...  Россия  \n",
       "7  Япония приняла решение разморозить кредиты Рос...  Россия  \n",
       "8  Британцы отмечают сегодня скорбную дату - втор...     Мир  \n",
       "9  В понедельник директор департамента внешних св...  Россия  "
      ]
     },
     "execution_count": 11,
     "metadata": {},
     "output_type": "execute_result"
    }
   ],
   "source": [
    "df_2.head()"
   ]
  },
  {
   "cell_type": "code",
   "execution_count": null,
   "id": "90f67a29",
   "metadata": {},
   "outputs": [],
   "source": [
    "#работаем с текстом"
   ]
  },
  {
   "cell_type": "code",
   "execution_count": 11,
   "id": "4251a573",
   "metadata": {},
   "outputs": [],
   "source": [
    "text_transformer = TfidfVectorizer()"
   ]
  },
  {
   "cell_type": "code",
   "execution_count": 12,
   "id": "5b5d461f",
   "metadata": {},
   "outputs": [
    {
     "name": "stdout",
     "output_type": "stream",
     "text": [
      "Wall time: 1min 56s\n"
     ]
    }
   ],
   "source": [
    "%%time\n",
    "text = text_transformer.fit_transform(df_2['text'])"
   ]
  },
  {
   "cell_type": "code",
   "execution_count": 15,
   "id": "918c58f0",
   "metadata": {},
   "outputs": [
    {
     "data": {
      "text/plain": [
       "(494799, 821732)"
      ]
     },
     "execution_count": 15,
     "metadata": {},
     "output_type": "execute_result"
    }
   ],
   "source": [
    "text.shape"
   ]
  },
  {
   "cell_type": "code",
   "execution_count": 18,
   "id": "d102db0b",
   "metadata": {},
   "outputs": [
    {
     "name": "stdout",
     "output_type": "stream",
     "text": [
      "Wall time: 605 ms\n"
     ]
    }
   ],
   "source": [
    "%%time\n",
    "X_train, X_test, y_train, y_test = train_test_split(text, df_2['topic'], test_size=0.20, random_state=RANDOM_STATE)"
   ]
  },
  {
   "cell_type": "code",
   "execution_count": 22,
   "id": "8fbd6363",
   "metadata": {},
   "outputs": [
    {
     "name": "stdout",
     "output_type": "stream",
     "text": [
      "Wall time: 0 ns\n"
     ]
    }
   ],
   "source": [
    "%%time\n",
    "clf = tree.DecisionTreeClassifier()"
   ]
  },
  {
   "cell_type": "code",
   "execution_count": 23,
   "id": "bc98f2b9",
   "metadata": {},
   "outputs": [
    {
     "name": "stdout",
     "output_type": "stream",
     "text": [
      "Wall time: 2h 14min 11s\n"
     ]
    },
    {
     "data": {
      "text/plain": [
       "DecisionTreeClassifier()"
      ]
     },
     "execution_count": 23,
     "metadata": {},
     "output_type": "execute_result"
    }
   ],
   "source": [
    "#очень долгие выисления, на моей тестовой машине 2 часа 14 минут\n",
    "%%time\n",
    "clf.fit(X_train,y_train)"
   ]
  },
  {
   "cell_type": "code",
   "execution_count": 38,
   "id": "3a5faf60",
   "metadata": {},
   "outputs": [
    {
     "name": "stdout",
     "output_type": "stream",
     "text": [
      "Wall time: 478 ms\n"
     ]
    }
   ],
   "source": [
    "%%time\n",
    "pred = clf.predict(X_test)"
   ]
  },
  {
   "cell_type": "code",
   "execution_count": 40,
   "id": "c8df4e7e",
   "metadata": {},
   "outputs": [
    {
     "data": {
      "text/plain": [
       "array(['Мир', 'Мир', 'Культура', ..., 'Россия', 'Мир', 'Россия'],\n",
       "      dtype=object)"
      ]
     },
     "execution_count": 40,
     "metadata": {},
     "output_type": "execute_result"
    }
   ],
   "source": [
    "pred"
   ]
  },
  {
   "cell_type": "code",
   "execution_count": null,
   "id": "dc54a055",
   "metadata": {},
   "outputs": [],
   "source": []
  },
  {
   "cell_type": "code",
   "execution_count": 35,
   "id": "f36522a5",
   "metadata": {},
   "outputs": [
    {
     "name": "stdout",
     "output_type": "stream",
     "text": [
      "Качество модели по метрике F1 0.7916565805994169\n"
     ]
    }
   ],
   "source": [
    "print('Качество модели по метрике F1', f1_score(y_test,pred,average='weighted'))"
   ]
  },
  {
   "cell_type": "code",
   "execution_count": null,
   "id": "3c71009d",
   "metadata": {},
   "outputs": [],
   "source": [
    "#преобразуем текст"
   ]
  },
  {
   "cell_type": "code",
   "execution_count": 45,
   "id": "95d23ef5",
   "metadata": {},
   "outputs": [
    {
     "name": "stdout",
     "output_type": "stream",
     "text": [
      "showing info https://raw.githubusercontent.com/nltk/nltk_data/gh-pages/index.xml\n"
     ]
    },
    {
     "data": {
      "text/plain": [
       "True"
      ]
     },
     "execution_count": 45,
     "metadata": {},
     "output_type": "execute_result"
    }
   ],
   "source": [
    "import nltk\n",
    "import ssl\n",
    "\n",
    "try:\n",
    "    _create_unverified_https_context = ssl._create_unverified_context\n",
    "except AttributeError:\n",
    "    pass\n",
    "else:\n",
    "    ssl._create_default_https_context = _create_unverified_https_context\n",
    "\n",
    "nltk.download()"
   ]
  },
  {
   "cell_type": "code",
   "execution_count": 16,
   "id": "85a7b635",
   "metadata": {},
   "outputs": [
    {
     "name": "stderr",
     "output_type": "stream",
     "text": [
      "[nltk_data] Downloading package stopwords to\n",
      "[nltk_data]     C:\\Users\\Tolyan\\AppData\\Roaming\\nltk_data...\n",
      "[nltk_data]   Package stopwords is already up-to-date!\n"
     ]
    },
    {
     "data": {
      "text/plain": [
       "True"
      ]
     },
     "execution_count": 16,
     "metadata": {},
     "output_type": "execute_result"
    }
   ],
   "source": [
    "nltk.download('stopwords')"
   ]
  },
  {
   "cell_type": "code",
   "execution_count": 12,
   "id": "6b06669c",
   "metadata": {},
   "outputs": [],
   "source": [
    "stop_russian = stopwords.words('russian')"
   ]
  },
  {
   "cell_type": "code",
   "execution_count": 13,
   "id": "5575273e",
   "metadata": {},
   "outputs": [],
   "source": [
    "text_transformer2 = TfidfVectorizer(stop_words=stop_russian, \n",
    "                                   ngram_range=(1,1), \n",
    "                                   lowercase=True)"
   ]
  },
  {
   "cell_type": "code",
   "execution_count": 14,
   "id": "6d935288",
   "metadata": {},
   "outputs": [],
   "source": [
    "# #Что я только не делал, не работает в итоге похоже просто перезапуск всего и вся помог\n",
    "\n",
    "# # функция удаления пунктуации и цифр\n",
    "# def remove_trash(str): \n",
    "#     pattern = r'[^А-Яа-я]+'\n",
    "#     try:\n",
    "#         #не знаю почему не работала ваша функция, пришлось добавить join чтобы оно собиралось в строку\n",
    "#       str = ''.join([re.sub(pattern, ' ', i) for i in str])\n",
    "# #       print (list)\n",
    "#     except Exception as e:\n",
    "#       print(e)\n",
    "#     return str\n",
    "\n",
    "def remove_trash(list): \n",
    "    pattern = r'[^А-Яа-я]+'\n",
    "    try:\n",
    "      list = [re.sub(pattern, ' ', i) for i in list] \n",
    "#       print (list)\n",
    "    except Exception as e:\n",
    "      print(e)\n",
    "    return list"
   ]
  },
  {
   "cell_type": "code",
   "execution_count": 14,
   "id": "81bf56db",
   "metadata": {},
   "outputs": [],
   "source": [
    "#df_3=df_2.copy()"
   ]
  },
  {
   "cell_type": "code",
   "execution_count": 15,
   "id": "fb0b3f35",
   "metadata": {},
   "outputs": [
    {
     "name": "stdout",
     "output_type": "stream",
     "text": [
      "Wall time: 41.4 s\n"
     ]
    }
   ],
   "source": [
    "%%time\n",
    "df_2['text_clean'] = remove_trash(df_2['text'])"
   ]
  },
  {
   "cell_type": "code",
   "execution_count": 16,
   "id": "bffd1e2d",
   "metadata": {},
   "outputs": [
    {
     "data": {
      "text/plain": [
       "'\"Женщины России\" , возмущенные отсутствием своих кандидаток в региональных кандидатских списках, вышли из блока \"Отечество - Вся Россия\" Лидер Движения в поддержку армии (ДПА) Виктор Илюхин заверил агентство \"Интерфакс\" в том, что не собирается входить со своим движением в избирательный блок \"За победу\", создаваемый КПРФ. Сегодня Илюхин заявил, что ДПА идет на выборы самостоятельно. Он, Илюхин не одобряет тактики коммунистов и считает свое движение самодостаточным, раз коммунисты сами заявили о своей самостоятельности еще в 1998 году. Илюхин не принял предложения патриотического объединения \"Русский дом\" возглавить новый блок, а предупредил, что установит для будущих попутчиков из других движений жесткие квоты на кандидатские места. Илюхин уверен, что преодолеет 5-процентный барьер. Тем временем Владимир Исаков, когда-то один из первых оппонентов президента Ельцина на съезде народных депутатов РФ, а ныне руководитель правового управления Госдумы, объяснил корреспонденту Интерфакса неудачу КПРФ с созданием блока \"За победу\" падением авторитета этой организации во всех сферах общества. Столь резкое заявление объяснимо тем, что Исаков больше не связан с КПРФ, а баллотируется в списке движения \"Отечество-Вся Россия\" по квоте Аграрной партии. Хроника регистрации предвыборных блоков такова: 18 августа- \"Голос России\", включающий \"Союз \"Живое кольцо\". Это демократический блок.26 августа зарегистрировались \"Коммунисты, трудящиеся России- за Советский Союз\". В первой \"тройке\" федерального списка входит всего одна известная фамилия - Тюлькин. Движение \"Женщины России\" вышло из движения \"Отечество\", обидевшись на то, что в 16 региональных группах не представлено ни одной женщины, сообщила агентству РИА \"Новости\" Алевтина Федулова, сопредседатель движения женщин России.'"
      ]
     },
     "execution_count": 16,
     "metadata": {},
     "output_type": "execute_result"
    }
   ],
   "source": [
    "df_2['text'][23]"
   ]
  },
  {
   "cell_type": "code",
   "execution_count": 17,
   "id": "2715a26a",
   "metadata": {},
   "outputs": [
    {
     "data": {
      "text/plain": [
       "' Женщины России возмущенные отсутствием своих кандидаток в региональных кандидатских списках вышли из блока Отечество Вся Россия Лидер Движения в поддержку армии ДПА Виктор Илюхин заверил агентство Интерфакс в том что не собирается входить со своим движением в избирательный блок За победу создаваемый КПРФ Сегодня Илюхин заявил что ДПА идет на выборы самостоятельно Он Илюхин не одобряет тактики коммунистов и считает свое движение самодостаточным раз коммунисты сами заявили о своей самостоятельности еще в году Илюхин не принял предложения патриотического объединения Русский дом возглавить новый блок а предупредил что установит для будущих попутчиков из других движений жесткие квоты на кандидатские места Илюхин уверен что преодолеет процентный барьер Тем временем Владимир Исаков когда то один из первых оппонентов президента Ельцина на съезде народных депутатов РФ а ныне руководитель правового управления Госдумы объяснил корреспонденту Интерфакса неудачу КПРФ с созданием блока За победу падением авторитета этой организации во всех сферах общества Столь резкое заявление объяснимо тем что Исаков больше не связан с КПРФ а баллотируется в списке движения Отечество Вся Россия по квоте Аграрной партии Хроника регистрации предвыборных блоков такова августа Голос России включающий Союз Живое кольцо Это демократический блок августа зарегистрировались Коммунисты трудящиеся России за Советский Союз В первой тройке федерального списка входит всего одна известная фамилия Тюлькин Движение Женщины России вышло из движения Отечество обидевшись на то что в региональных группах не представлено ни одной женщины сообщила агентству РИА Новости Алевтина Федулова сопредседатель движения женщин России '"
      ]
     },
     "execution_count": 17,
     "metadata": {},
     "output_type": "execute_result"
    }
   ],
   "source": [
    "df_2['text_clean'][23]"
   ]
  },
  {
   "cell_type": "code",
   "execution_count": 18,
   "id": "2bbb3688",
   "metadata": {},
   "outputs": [],
   "source": [
    "morph = pymorphy2.MorphAnalyzer()"
   ]
  },
  {
   "cell_type": "code",
   "execution_count": 19,
   "id": "99807300",
   "metadata": {},
   "outputs": [],
   "source": [
    "# функция лемматизации\n",
    "def lemmatize(row):\n",
    "    t = []\n",
    "    text = row['text_clean']\n",
    "    for word in text.split():\n",
    "        if len(word)<=1:\n",
    "            continue\n",
    "        p = morph.parse(word)[0]\n",
    "        t.append(p.normal_form)\n",
    "    return \" \".join(t)"
   ]
  },
  {
   "cell_type": "code",
   "execution_count": 20,
   "id": "ab92b4b3",
   "metadata": {
    "scrolled": false
   },
   "outputs": [
    {
     "data": {
      "text/html": [
       "<div>\n",
       "<style scoped>\n",
       "    .dataframe tbody tr th:only-of-type {\n",
       "        vertical-align: middle;\n",
       "    }\n",
       "\n",
       "    .dataframe tbody tr th {\n",
       "        vertical-align: top;\n",
       "    }\n",
       "\n",
       "    .dataframe thead th {\n",
       "        text-align: right;\n",
       "    }\n",
       "</style>\n",
       "<table border=\"1\" class=\"dataframe\">\n",
       "  <thead>\n",
       "    <tr style=\"text-align: right;\">\n",
       "      <th></th>\n",
       "      <th>title</th>\n",
       "      <th>text</th>\n",
       "      <th>topic</th>\n",
       "      <th>text_clean</th>\n",
       "    </tr>\n",
       "  </thead>\n",
       "  <tbody>\n",
       "    <tr>\n",
       "      <th>5</th>\n",
       "      <td>Космонавты сомневаются в надежности \"Мира\"</td>\n",
       "      <td>Как стало известно агентству Ассошиэйтед Пресс...</td>\n",
       "      <td>Россия</td>\n",
       "      <td>Как стало известно агентству Ассошиэйтед Пресс...</td>\n",
       "    </tr>\n",
       "    <tr>\n",
       "      <th>6</th>\n",
       "      <td>Взрыв в центре Москвы: пострадало 30 человек</td>\n",
       "      <td>В зале игровых автоматов в третьем ярусе подзе...</td>\n",
       "      <td>Россия</td>\n",
       "      <td>В зале игровых автоматов в третьем ярусе подзе...</td>\n",
       "    </tr>\n",
       "    <tr>\n",
       "      <th>7</th>\n",
       "      <td>Япония кредитует Россию на полтора миллиарда д...</td>\n",
       "      <td>Япония приняла решение разморозить кредиты Рос...</td>\n",
       "      <td>Россия</td>\n",
       "      <td>Япония приняла решение разморозить кредиты Рос...</td>\n",
       "    </tr>\n",
       "    <tr>\n",
       "      <th>8</th>\n",
       "      <td>Британцы отмечают двухлетие смерти Дианы</td>\n",
       "      <td>Британцы отмечают сегодня скорбную дату - втор...</td>\n",
       "      <td>Мир</td>\n",
       "      <td>Британцы отмечают сегодня скорбную дату вторую...</td>\n",
       "    </tr>\n",
       "    <tr>\n",
       "      <th>9</th>\n",
       "      <td>Отмытые через Bank of NY деньги не имели отнош...</td>\n",
       "      <td>В понедельник директор департамента внешних св...</td>\n",
       "      <td>Россия</td>\n",
       "      <td>В понедельник директор департамента внешних св...</td>\n",
       "    </tr>\n",
       "  </tbody>\n",
       "</table>\n",
       "</div>"
      ],
      "text/plain": [
       "                                               title  \\\n",
       "5         Космонавты сомневаются в надежности \"Мира\"   \n",
       "6       Взрыв в центре Москвы: пострадало 30 человек   \n",
       "7  Япония кредитует Россию на полтора миллиарда д...   \n",
       "8           Британцы отмечают двухлетие смерти Дианы   \n",
       "9  Отмытые через Bank of NY деньги не имели отнош...   \n",
       "\n",
       "                                                text   topic  \\\n",
       "5  Как стало известно агентству Ассошиэйтед Пресс...  Россия   \n",
       "6  В зале игровых автоматов в третьем ярусе подзе...  Россия   \n",
       "7  Япония приняла решение разморозить кредиты Рос...  Россия   \n",
       "8  Британцы отмечают сегодня скорбную дату - втор...     Мир   \n",
       "9  В понедельник директор департамента внешних св...  Россия   \n",
       "\n",
       "                                          text_clean  \n",
       "5  Как стало известно агентству Ассошиэйтед Пресс...  \n",
       "6  В зале игровых автоматов в третьем ярусе подзе...  \n",
       "7  Япония приняла решение разморозить кредиты Рос...  \n",
       "8  Британцы отмечают сегодня скорбную дату вторую...  \n",
       "9  В понедельник директор департамента внешних св...  "
      ]
     },
     "execution_count": 20,
     "metadata": {},
     "output_type": "execute_result"
    }
   ],
   "source": [
    "#df_4=df_3.copy()\n",
    "#df_4.head()"
   ]
  },
  {
   "cell_type": "code",
   "execution_count": 20,
   "id": "4d217baf",
   "metadata": {},
   "outputs": [
    {
     "name": "stdout",
     "output_type": "stream",
     "text": [
      "Wall time: 5h 52min 1s\n"
     ]
    }
   ],
   "source": [
    "%%time\n",
    "#после увеличения ОЗУ прошло 1 час быстрее,  Wall time: 5h 52min 1s , а было в первой попытке почти 7 часов \n",
    "df_2['text_clean_normal'] = df_2.apply(lemmatize,axis=1)"
   ]
  },
  {
   "cell_type": "code",
   "execution_count": 21,
   "id": "dab594a8",
   "metadata": {
    "scrolled": true
   },
   "outputs": [
    {
     "name": "stdout",
     "output_type": "stream",
     "text": [
      "Wall time: 1min 27s\n"
     ]
    }
   ],
   "source": [
    "%%time\n",
    "text_norm = text_transformer2.fit_transform(df_2['text_clean_normal'])\n",
    "X_train, X_test, y_train, y_test = train_test_split(text_norm, df_2['topic'], test_size=0.20, random_state=RANDOM_STATE)"
   ]
  },
  {
   "cell_type": "code",
   "execution_count": 22,
   "id": "227a6e23",
   "metadata": {},
   "outputs": [
    {
     "name": "stdout",
     "output_type": "stream",
     "text": [
      "Wall time: 1h 9min 55s\n"
     ]
    },
    {
     "data": {
      "text/plain": [
       "DecisionTreeClassifier()"
      ]
     },
     "execution_count": 22,
     "metadata": {},
     "output_type": "execute_result"
    }
   ],
   "source": [
    "%%time\n",
    "#Wall time: 1h 9min 55s видно что толи нормализация текста, толи увеличение ОЗУ с 6 до 12 \n",
    "#обучение позволило провести в два раза быстрее\n",
    "clf_norm = tree.DecisionTreeClassifier()\n",
    "clf_norm.fit(X_train,y_train)\n"
   ]
  },
  {
   "cell_type": "code",
   "execution_count": 23,
   "id": "d611a0f9",
   "metadata": {},
   "outputs": [
    {
     "name": "stdout",
     "output_type": "stream",
     "text": [
      "Wall time: 630 ms\n"
     ]
    }
   ],
   "source": [
    "%%time\n",
    "pred_norm = clf_norm.predict(X_test)"
   ]
  },
  {
   "cell_type": "code",
   "execution_count": 24,
   "id": "f790e2bc",
   "metadata": {},
   "outputs": [
    {
     "data": {
      "text/plain": [
       "array(['Мир', 'Мир', 'Культура', ..., 'Россия', 'Мир', 'Россия'],\n",
       "      dtype=object)"
      ]
     },
     "execution_count": 24,
     "metadata": {},
     "output_type": "execute_result"
    }
   ],
   "source": [
    "pred_norm"
   ]
  },
  {
   "cell_type": "code",
   "execution_count": 25,
   "id": "f1ac00fa",
   "metadata": {},
   "outputs": [
    {
     "name": "stdout",
     "output_type": "stream",
     "text": [
      "Качество модели по метрике F1 после нормализации текста 0.8178625612235791\n"
     ]
    }
   ],
   "source": [
    "print('Качество модели по метрике F1 после нормализации текста', f1_score(y_test,pred_norm,average='weighted'))"
   ]
  },
  {
   "cell_type": "markdown",
   "id": "71eb88ba",
   "metadata": {},
   "source": [
    "Удивило что качество модели по метрике F1 0.7916565805994169 до нормализации, а после всего 0.8178625612235791 по одной и той же модели  классификации \n",
    "то есть вcе наши действия в несколько часов обработки увечили качество всего на 2,5 процента. \n",
    "но в целом было интересно. посмотреть как измениться текст"
   ]
  },
  {
   "cell_type": "code",
   "execution_count": null,
   "id": "06a2479b",
   "metadata": {},
   "outputs": [],
   "source": []
  }
 ],
 "metadata": {
  "kernelspec": {
   "display_name": "Python 3 (ipykernel)",
   "language": "python",
   "name": "python3"
  },
  "language_info": {
   "codemirror_mode": {
    "name": "ipython",
    "version": 3
   },
   "file_extension": ".py",
   "mimetype": "text/x-python",
   "name": "python",
   "nbconvert_exporter": "python",
   "pygments_lexer": "ipython3",
   "version": "3.9.13"
  }
 },
 "nbformat": 4,
 "nbformat_minor": 5
}
