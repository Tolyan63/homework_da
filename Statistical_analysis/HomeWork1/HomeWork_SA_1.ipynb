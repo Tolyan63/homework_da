{
 "cells": [
  {
   "cell_type": "markdown",
   "metadata": {
    "id": "pDrecLU-4QjS"
   },
   "source": [
    "# Практика"
   ]
  },
  {
   "cell_type": "markdown",
   "metadata": {
    "id": "gUvTNDlMaV-a"
   },
   "source": [
    "## Определение вероятности. События\n",
    "\n",
    "Требуется сгенерировать необходимые выборки и произвести по ним расчеты"
   ]
  },
  {
   "cell_type": "markdown",
   "metadata": {
    "id": "5V70InEBTgup"
   },
   "source": [
    "### Задача 1\n",
    "Брошено две монеты. Найти вероятность того, что монеты выпали разными сторонами"
   ]
  },
  {
   "cell_type": "code",
   "execution_count": 1,
   "metadata": {},
   "outputs": [],
   "source": [
    "import pandas as pd\n",
    "import numpy as np\n",
    "import random\n",
    "import matplotlib.pyplot as plt"
   ]
  },
  {
   "cell_type": "code",
   "execution_count": 2,
   "metadata": {
    "scrolled": true
   },
   "outputs": [
    {
     "name": "stdout",
     "output_type": "stream",
     "text": [
      "вероятность того, что монеты выпали разными сторонами равна 0.500783\n"
     ]
    }
   ],
   "source": [
    "coin1 = ['Орел', 'Решка']\n",
    "coin2 = ['Орел', 'Решка']\n",
    "n = 1000000\n",
    "x = 0\n",
    "i = 1\n",
    "while i <= n:\n",
    "  if random.choice(coin1) != random.choice(coin2):\n",
    "    x += 1\n",
    "    i += 1\n",
    "  else: i += 1\n",
    "P = x/n\n",
    "print(f'вероятность того, что монеты выпали разными сторонами равна {P}')"
   ]
  },
  {
   "cell_type": "code",
   "execution_count": null,
   "metadata": {},
   "outputs": [],
   "source": []
  },
  {
   "cell_type": "code",
   "execution_count": null,
   "metadata": {},
   "outputs": [],
   "source": []
  },
  {
   "cell_type": "markdown",
   "metadata": {
    "id": "t0XOMos2Tl0e"
   },
   "source": [
    "### Задача 2\n",
    "Брошено три монеты. Описать множество всех элементарных событий. Найти вероятности следующих событий:\n",
    "\n",
    "\n",
    "1.   A = {не выпало ни одного герба}\n",
    "2.   B = {выпало четное число гербов}\n",
    "3.   C = {на третьей монете выпал герб}\n"
   ]
  },
  {
   "cell_type": "code",
   "execution_count": 3,
   "metadata": {
    "id": "o7NjAE9uUo-L"
   },
   "outputs": [
    {
     "name": "stdout",
     "output_type": "stream",
     "text": [
      "вероятность, не выпало ни одного герба A = 0.12665\n",
      "вероятность, выпало четное число гербов B = 0.37185\n",
      "вероятность, на третьей монете выпал герб C = 0.50119\n",
      "\n",
      "Возможные варианты событий: \n",
      " [0 0 0 0 1 1 1 1] \n",
      " [0 0 1 1 0 0 1 1] \n",
      " [0 1 0 1 0 1 0 1]\n"
     ]
    }
   ],
   "source": [
    "#количество подбрасывания 3х монет\n",
    "# 0 - Орел, 1 - Решка\n",
    "N = 100000\n",
    "count_A = 0\n",
    "count_B = 0\n",
    "count_C = 0\n",
    "B1 = [random.choice(range(0,2)) for i in range(N)] #подбрасывание первой монеты\n",
    "B2 = [random.choice(range(0,2)) for i in range(N)] #подбрасывание второй монеты\n",
    "B3 = [random.choice(range(0,2)) for i in range(N)] #подбрасывание третьей монеты\n",
    "#Создаем цикл и проверяем условия\n",
    "for i in range(N):\n",
    "  if B1[i]== 1 and B2[i]==1 and B3[i]==1: #все Решка\n",
    "    count_A += 1 #прибавляем в событие А\n",
    "  if (B1[i]==0 and B2[i]==0 and B3[i]==1) or (B1[i]==0 and B3[i]==0 and B2[i]==1) or (B2[i]== 0 and B3[i]==0 and B1[i]==1):\n",
    "    count_B += 1 #прибавляем в событие В\n",
    "  if B3[i] == 0:\n",
    "    count_C += 1 #прибавляем в событие С\n",
    "\n",
    "#print(count_A,'\\n',count_B,'\\n',count_C)\n",
    "print('вероятность, не выпало ни одного герба A =', count_A/N)\n",
    "print('вероятность, выпало четное число гербов B =', count_B/N)\n",
    "print('вероятность, на третьей монете выпал герб C =', count_C/N)\n",
    "all_var = np.unique([B1, B2, B3], axis=1)\n",
    "print('\\nВозможные варианты событий: \\n', all_var[0],'\\n', all_var[1], '\\n', all_var[2])"
   ]
  },
  {
   "cell_type": "code",
   "execution_count": null,
   "metadata": {},
   "outputs": [],
   "source": []
  },
  {
   "cell_type": "code",
   "execution_count": null,
   "metadata": {},
   "outputs": [],
   "source": []
  },
  {
   "cell_type": "markdown",
   "metadata": {},
   "source": [
    "Предлагается также решить задачи: \n",
    "\n",
    "### Задача 3\n",
    "Из двух претендентов E и L на ответственную должность три члена комиссии должны отобрать одного. Каждый член комиссии должен указать либо одного достойного, либо забраковать обоих. Претендент считается выбранным, если он был признана достойным хотя бы двумя членами комиссии.\n",
    "Найти вероятность событий:\n",
    "\n",
    "A = {рекомендован L}, B = {рекомендован E}\n"
   ]
  },
  {
   "cell_type": "code",
   "execution_count": 4,
   "metadata": {},
   "outputs": [
    {
     "name": "stdout",
     "output_type": "stream",
     "text": [
      "вероятность, рекомендован L = 0.25977\n",
      "вероятность, рекомендован E = 0.25596\n"
     ]
    }
   ],
   "source": [
    "#число испытаний\n",
    "N = 100000\n",
    "E = 0\n",
    "L = 0\n",
    "# каждый член комисии может поставить 0 1 или 2\n",
    "# 1 - рекомендован Е\n",
    "# 2 - рекомендован L \n",
    "# 0 - ни кто не рекомендован\n",
    "B1 = [random.choice(range(0,3)) for i in range(N)]\n",
    "B2 = [random.choice(range(0,3)) for i in range(N)]\n",
    "B3 = [random.choice(range(0,3)) for i in range(N)]\n",
    "#делаем цикл и сравниваем \n",
    "for i in range(N):\n",
    "  if (B1[i]==1 and B2[i]==1) or (B1[i]==1 and B3[i]==1) or (B2[i]==1 and B3[i]==1):\n",
    "    E += 1\n",
    "  if (B1[i]== 2 and B2[i]==2) or (B1[i]==2 and B3[i]==2) or (B2[i]==2 and B3[i]==2):\n",
    "    L += 1\n",
    "print('вероятность, рекомендован L =', E/N)\n",
    "print('вероятность, рекомендован E =', L/N)"
   ]
  },
  {
   "cell_type": "code",
   "execution_count": null,
   "metadata": {},
   "outputs": [],
   "source": []
  },
  {
   "cell_type": "code",
   "execution_count": null,
   "metadata": {},
   "outputs": [],
   "source": []
  },
  {
   "cell_type": "markdown",
   "metadata": {
    "id": "peM38mVfYa5B"
   },
   "source": [
    "### Задача 4\n",
    "Брошено две игральных кости. Описать множество элементарных событий. Найти вероятности событий:\n",
    "\n",
    "A = {вышло две \"шестерки\"}\n",
    "\n",
    "B = {сумма выпавших очков не меньше 11}\n",
    "\n",
    "C = {не выпала ни одна \"шестерка\"}"
   ]
  },
  {
   "cell_type": "code",
   "execution_count": 5,
   "metadata": {},
   "outputs": [
    {
     "name": "stdout",
     "output_type": "stream",
     "text": [
      "вероятность, вышло две \"шестерки\" = 0.02782\n",
      "вероятность, сумма выпавших очков не меньше = 0.08402\n",
      "вероятность, не выпала ни одна \"шестерка\" 0.69481\n",
      "\n",
      "Возможные варианты событий: \n",
      " [1 1 1 1 1 1 2 2 2 2 2 2 3 3 3 3 3 3 4 4 4 4 4 4 5 5 5 5 5 5 6 6 6 6 6 6] \n",
      " [1 2 3 4 5 6 1 2 3 4 5 6 1 2 3 4 5 6 1 2 3 4 5 6 1 2 3 4 5 6 1 2 3 4 5 6]\n"
     ]
    }
   ],
   "source": [
    "#число испытаний\n",
    "N = 100000\n",
    "A=0\n",
    "B=0\n",
    "C=0\n",
    "dice1 = [random.choice(range(1,7)) for i in range(N)] #выпавшее число на первом кубике\n",
    "dice2 = [random.choice(range(1,7)) for i in range(N)] #выпавшее число на втором кубике\n",
    "#делаем цикл и сравниваем \n",
    "for i in range(N):\n",
    "    if dice1[i]==6 and dice2[i] ==6:\n",
    "        A+=1\n",
    "    if dice1[i]+dice2[i] >=11:\n",
    "        B+=1\n",
    "    if dice1[i]!=6 and dice2[i]!=6:\n",
    "        C+=1\n",
    "#print(A,'\\n',B,'\\n',C)\n",
    "print('вероятность, вышло две \"шестерки\" =', A/N)\n",
    "print('вероятность, сумма выпавших очков не меньше =', B/N)\n",
    "print('вероятность, не выпала ни одна \"шестерка\"', C/N)\n",
    "all_var = np.unique([dice1, dice2], axis=1)\n",
    "print('\\nВозможные варианты событий: \\n', all_var[0],'\\n', all_var[1])"
   ]
  },
  {
   "cell_type": "code",
   "execution_count": null,
   "metadata": {},
   "outputs": [],
   "source": []
  },
  {
   "cell_type": "code",
   "execution_count": null,
   "metadata": {},
   "outputs": [],
   "source": []
  },
  {
   "cell_type": "markdown",
   "metadata": {
    "id": "f-Bi0p8haclB"
   },
   "source": [
    "## Вероятность суммы событий"
   ]
  },
  {
   "cell_type": "markdown",
   "metadata": {
    "id": "g7A7QlvGTnwZ"
   },
   "source": [
    "### Задача 5\n",
    "Брошены две игральные кости. Найти вероятность события D = {выпала хотя бы одна шестёрка}\n"
   ]
  },
  {
   "cell_type": "code",
   "execution_count": 6,
   "metadata": {
    "id": "vjtTJN-kUp9D"
   },
   "outputs": [
    {
     "name": "stdout",
     "output_type": "stream",
     "text": [
      "вероятность, выпала хотя бы одна шестёрка = 0.30363\n"
     ]
    }
   ],
   "source": [
    "#по Аналогии с 4 задчей\n",
    "N = 100000\n",
    "D=0\n",
    "dice1 = [random.choice(range(1,7)) for i in range(N)] #выпавшее число на первом кубике\n",
    "dice2 = [random.choice(range(1,7)) for i in range(N)] #выпавшее число на втором кубике\n",
    "#делаем цикл и сравниваем \n",
    "for i in range(N):\n",
    "    if dice1[i]==6 or dice2[i] ==6 or(dice1[i]==6 and  dice2[i] == 6):\n",
    "        D+=1\n",
    "\n",
    "#print(A,'\\n',B,'\\n',C)\n",
    "print('вероятность, выпала хотя бы одна шестёрка =', D/N)\n"
   ]
  },
  {
   "cell_type": "markdown",
   "metadata": {
    "id": "R1bYSzQQbC6I"
   },
   "source": [
    "Предлагается также решить задачи: \n",
    "\n",
    "### Задача 6\n",
    "В телефонном номере три последние цифры стерлись. Считая, что все возможные значения стершихся цифр равновероятны, найти вероятность событий:\n",
    "\n",
    "A = {Стерлись различные цифры},\n",
    "\n",
    "B = {Стерлись одинаковые цифры},\n",
    "\n",
    "C = {Среди стершихся цифр хотя бы две совпадают},\n",
    "\n",
    "D = {Среди стершихся цифр хотя бы две различны}\n"
   ]
  },
  {
   "cell_type": "code",
   "execution_count": 7,
   "metadata": {},
   "outputs": [
    {
     "name": "stdout",
     "output_type": "stream",
     "text": [
      "вероятность, Стерлись различные цифры = 0.71594\n",
      "вероятность, Стерлись одинаковые цифры = 0.01061\n",
      "вероятность, Среди стершихся цифр хотя бы две совпадают 0.28406\n",
      "вероятность, Среди стершихся цифр хотя бы две различны 0.98939\n"
     ]
    }
   ],
   "source": [
    "#по Аналогии с 4 задчей\n",
    "N = 100000\n",
    "a=0\n",
    "b=0\n",
    "c=0\n",
    "d=0\n",
    "number1 = [random.choice(range(0,10)) for i in range(N)] #выпавшее число на первом кубике\n",
    "number2 = [random.choice(range(0,10)) for i in range(N)] #выпавшее число на втором кубике\n",
    "number3 = [random.choice(range(0,10)) for i in range(N)] #выпавшее число на втором кубике\n",
    "#делаем цикл и сравниваем \n",
    "for i in range(N):\n",
    "    if number1[i]!=number2[i] and number2[i]!=number3[i] and number1[i]!=number3[i]:\n",
    "        a+=1\n",
    "    if number1[i]==number2[i] and number2[i]==number3[i] and number1[i]==number3[i]:\n",
    "        b+=1\n",
    "    if number1[i]==number2[i] or number2[i]==number3[i] or number1[i]==number3[i]:\n",
    "        c+=1\n",
    "    if number1[i]!=number2[i] or number2[i]!=number3[i] or number1[i]!=number3[i]:\n",
    "        d+=1\n",
    "\n",
    "#print(a,'\\n',b,'\\n',c, '\\n', d)\n",
    "print('вероятность, Стерлись различные цифры =', a/N)\n",
    "print('вероятность, Стерлись одинаковые цифры =', b/N)\n",
    "print('вероятность, Среди стершихся цифр хотя бы две совпадают', c/N)\n",
    "print('вероятность, Среди стершихся цифр хотя бы две различны', d/N)"
   ]
  },
  {
   "cell_type": "markdown",
   "metadata": {
    "id": "RnugkR8BalK_"
   },
   "source": [
    "## Случайные величины"
   ]
  },
  {
   "cell_type": "markdown",
   "metadata": {
    "id": "yLoZDZ17UVsp"
   },
   "source": [
    "### Задача 7\n",
    "В лотерее имеется 10 билетов, из которых один выигрышный. Размер выигрыша 10 ден. ед.; стоимость билета 1 ден ед. Найти закон распределения случайной величины X, равной чистому выигрышу участника лотереи, который вытаскивает билет первым."
   ]
  },
  {
   "cell_type": "code",
   "execution_count": null,
   "metadata": {
    "id": "oNk432sKUqzT"
   },
   "outputs": [],
   "source": []
  },
  {
   "cell_type": "markdown",
   "metadata": {
    "id": "U-NK9liSbpvb"
   },
   "source": [
    "Предлагается также решить задачу: \n",
    "\n",
    "### Задача 8\n",
    "Брошены две игральные кости. Найти закон распределения случайной величины $X$, равной сумме выпавших очков. Найти вероятности событий ${X <= 4}$, ${X > 4}$"
   ]
  },
  {
   "cell_type": "code",
   "execution_count": 8,
   "metadata": {
    "scrolled": true
   },
   "outputs": [
    {
     "name": "stdout",
     "output_type": "stream",
     "text": [
      "вероятность события  X<=4 0.1635\n",
      "вероятность события  X>4 0.8365\n"
     ]
    },
    {
     "data": {
      "text/plain": [
       "[]"
      ]
     },
     "execution_count": 8,
     "metadata": {},
     "output_type": "execute_result"
    },
    {
     "data": {
      "image/png": "[encoded data removed]",
      "text/plain": [
       "<Figure size 640x480 with 1 Axes>"
      ]
     },
     "metadata": {},
     "output_type": "display_data"
    }
   ],
   "source": [
    "#сложно, искал разное в интернете , и получилась некая солянка в решении\n",
    "N = 100000\n",
    "A = 0\n",
    "B = 0\n",
    "dice1 = [random.choice(range(1,7)) for i in range(N)] #выпавшее число на первом кубике\n",
    "dice2 = [random.choice(range(1,7)) for i in range(N)] #выпавшее число на втором кубике\n",
    "summ = [dice1[i] + dice2[i] for i in range(N)] # сумма очков в итерациях\n",
    "dice_summ = {i: summ.count(i) for i in range(2,13)} #количество очков \n",
    "dice_summ_P = {i: summ.count(i)/N for i in range(2,13)}  # Вероятность таких сумм очков\n",
    "#создаем цикл и сравниваем с числом 4 и суммируем число таких совпадений\n",
    "for key, value in dice_summ.items():\n",
    "  if key <= 4:\n",
    "    A += value\n",
    "  else:\n",
    "    B += value\n",
    "#Вычиляем вероятность событий    \n",
    "print('вероятность события  X<=4', A/N)\n",
    "print('вероятность события  X>4', B/N)\n",
    "#print(A)\n",
    "plt.bar(range(len(dice_summ_P)), list(dice_summ_P.values()), align='center')\n",
    "plt.xticks(range(len(dice_summ_P)), list(dice_summ_P.keys()))\n",
    "plt.plot()"
   ]
  },
  {
   "cell_type": "markdown",
   "metadata": {
    "id": "shgW4D83awjK"
   },
   "source": [
    "## Условные вероятности"
   ]
  },
  {
   "cell_type": "markdown",
   "metadata": {
    "id": "Fbu1RFZwWZrk"
   },
   "source": [
    "Задача 9\n",
    "Из колоды (36 карт) вынимают последовательно без возвращения две карты. Найти вероятность того, что первой картой была шестерка, а второй — семерка. Найти условную вероятность того же события при условии, что обе карты бубновой масти.\n"
   ]
  },
  {
   "cell_type": "code",
   "execution_count": 9,
   "metadata": {
    "id": "037o56awW9-E"
   },
   "outputs": [
    {
     "data": {
      "text/plain": [
       "36"
      ]
     },
     "execution_count": 9,
     "metadata": {},
     "output_type": "execute_result"
    }
   ],
   "source": [
    "#Создадим колоду\n",
    "suit = ['Бубны', 'Червы', 'Трефы', 'Пики']\n",
    "card = ['6', '7', '8', '9', '10', 'Валет', 'Дама', 'Король', 'Туз']\n",
    "cards = []\n",
    "for i in range(len(card)):\n",
    "  cards.append(f'{card[i]} {suit[0]}')\n",
    "  cards.append(f'{card[i]} {suit[1]}')\n",
    "  cards.append(f'{card[i]} {suit[2]}')\n",
    "  cards.append(f'{card[i]} {suit[3]}')\n",
    "len(cards)"
   ]
  },
  {
   "cell_type": "code",
   "execution_count": 10,
   "metadata": {},
   "outputs": [
    {
     "name": "stdout",
     "output_type": "stream",
     "text": [
      "Вероятность события что первой картой была шестерка, а второй — семерка = 0.0129\n",
      "Вероятность события  обе карты бубновой масти = 0.05675\n",
      "Услованя вероятность что первой картой была шестерка,\n",
      "а второй — семерка при условии, что обе карты бубновой масти = 0.014625550660792951\n"
     ]
    }
   ],
   "source": [
    "N=100000\n",
    "A=0 \n",
    "B=0\n",
    "C=0\n",
    "# создаем цикл\n",
    "i=0\n",
    "while i<N:\n",
    "    i+=1\n",
    "    cards_old=cards.copy()\n",
    "    x1=random.choice(cards) # тянем первую карту\n",
    "    cards_old.remove(x1)\n",
    "    cards_new = cards_old.copy()\n",
    "    x2=random.choice(cards_new) # тянем вторую карту\n",
    "    if x1.startswith('6')==True and x2.startswith('7')==True: # проверяем что первая карта 6 и втроая 7 \n",
    "        #и считаем число таких исходов\n",
    "        A+=1\n",
    "    \n",
    "    # найдем количество события В\n",
    "    if x1.endswith('Бубны')==True and x2.endswith('Бубны')==True:\n",
    "        B+=1\n",
    "    #Найдем вероятность что первой картой была шестерка,а второй — семерка \n",
    "    #при условии, что обе карты бубновой масти\n",
    "    if x1=='6 Бубны' and x2=='7 Бубны':\n",
    "        C+=1\n",
    "\n",
    "#\n",
    "#print(A,B)\n",
    "print('Вероятность события что первой картой была шестерка, а второй — семерка =', A/N)\n",
    "print('Вероятность события  обе карты бубновой масти =', B/N)\n",
    "#Услованя вероятность это отношнние вероятностьей АВ по отношение к вероятности В\n",
    "#В нашем случаии это событие С когда 6 и 7 бубны\n",
    "P=(C/N)/(B/N)\n",
    "print(\"\"\"Услованя вероятность что первой картой была шестерка,\n",
    "а второй — семерка при условии, что обе карты бубновой масти =\"\"\", P)"
   ]
  },
  {
   "cell_type": "code",
   "execution_count": null,
   "metadata": {},
   "outputs": [],
   "source": []
  },
  {
   "cell_type": "markdown",
   "metadata": {
    "id": "hNVxtaz5c57b"
   },
   "source": [
    "Предлагается также решить задачу: \n",
    "\n",
    "### Задача 10\n",
    "Из урны, содержащей два белых и три черных шара, последовательно извлекают два шара; вынутые шары не возвращаются. Если первый шар оказался черным, то перед вторым извлечением в урну добавляют белый шар. В противном случае состав оставшихся шаров не меняют. Найти вероятности событий:\n",
    "\n",
    "$A$ = {извлечены два белых шара},\n",
    "\n",
    "$B$ = {извлечены два черных шара}\n",
    "\n",
    "Указание. Пусть событие $C_1$ = {первый шар белый}, событие $C_2$ = {второй шар белый}. Тогда $A = C_1C_2$, $B = \\overline C_1 \\overline C_2$ "
   ]
  },
  {
   "cell_type": "code",
   "execution_count": 11,
   "metadata": {
    "id": "WSLnhk2sdBt_"
   },
   "outputs": [
    {
     "name": "stdout",
     "output_type": "stream",
     "text": [
      "вероятность события извлечены два белых шара = 0.09957\n",
      "вероятность события извлечены два черных шара = 0.30155\n"
     ]
    }
   ],
   "source": [
    " #\n",
    "N=100000\n",
    "urna=['w', 'w', 'b', 'b', 'b'] #первоначальная урна\n",
    "\n",
    "A=0 \n",
    "B=0\n",
    "# создаем цикл\n",
    "i=0\n",
    "while i<N:\n",
    "    i+=1\n",
    "    urna=['w', 'w', 'b', 'b', 'b']\n",
    "    x1=random.choice(urna)\n",
    "        \n",
    "    if x1 == 'b': # если первый шар черный, добавлем в урну белый\n",
    "        urna.append('w')\n",
    "        urna2=urna\n",
    "    else: # в противном случаи убираем из списка один белый, и дальше вибираем из остатка\n",
    "        urna.remove(x1)\n",
    "        urna2=urna\n",
    "    #else: urna=urna.remove(x1)\n",
    "    x2=random.choice(urna2) #Вынимаем второй шар из новой урны(или на 1 шар меньше, или на 1 больше)\n",
    "        \n",
    "    if x1=='w' and x2 == 'w':\n",
    "        A+=1 #считаем сколько белых подряд было\n",
    "    elif x1=='b' and x2 == 'b':\n",
    "        B+=1 #считаем сколько черных подряд было\n",
    "    #print(x1, x2)\n",
    "        #print(urna2)\n",
    "print('вероятность события извлечены два белых шара =', A/N)\n",
    "print('вероятность события извлечены два черных шара =', B/N)"
   ]
  },
  {
   "cell_type": "code",
   "execution_count": null,
   "metadata": {},
   "outputs": [],
   "source": []
  },
  {
   "cell_type": "code",
   "execution_count": null,
   "metadata": {},
   "outputs": [],
   "source": []
  },
  {
   "cell_type": "code",
   "execution_count": null,
   "metadata": {},
   "outputs": [],
   "source": []
  }
 ],
 "metadata": {
  "colab": {
   "collapsed_sections": [],
   "name": "Практика к занятию 11.ipynb",
   "provenance": []
  },
  "kernelspec": {
   "display_name": "Python 3 (ipykernel)",
   "language": "python",
   "name": "python3"
  },
  "language_info": {
   "codemirror_mode": {
    "name": "ipython",
    "version": 3
   },
   "file_extension": ".py",
   "mimetype": "text/x-python",
   "name": "python",
   "nbconvert_exporter": "python",
   "pygments_lexer": "ipython3",
   "version": "3.9.13"
  }
 },
 "nbformat": 4,
 "nbformat_minor": 1
}
