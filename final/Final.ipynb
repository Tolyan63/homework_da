{
 "cells": [
  {
   "cell_type": "code",
   "execution_count": 876,
   "id": "68213671",
   "metadata": {},
   "outputs": [],
   "source": [
    "import requests\n",
    "from tqdm.auto import tqdm\n",
    "import time #для цикла, чтобы сделать паузу между обращениями к api hh\n",
    "import joblib # для сохранкения дампа в файл\n",
    "import math # для окпругления в большую сторону\n",
    "import pandas as pd\n",
    "from datetime import datetime # для работы с дата время\n",
    "import re\n",
    "import plotly.express as px\n",
    "#для переворота словаря\n",
    "from operator import itemgetter\n",
    "import plotly as py\n",
    "import plotly.graph_objs as go\n",
    "from plotly.subplots import make_subplots\n",
    "\n",
    "import nltk #стоп слова\n",
    "import ssl #стоп слова\n",
    "from nltk.corpus import stopwords\n",
    "import pymorphy2 #для лемматизации\n",
    "#для прогнозов sklearn\n",
    "from sklearn.feature_extraction.text import TfidfVectorizer\n",
    "from sklearn.model_selection import train_test_split\n",
    "from sklearn import tree\n",
    "from sklearn.metrics import f1_score\n",
    "RANDOM_STATE=123\n",
    "\n",
    "# import numpy as np\n",
    "# import os\n",
    "\n",
    "# #для переворота словаря\n",
    "# from operator import itemgetter\n"
   ]
  },
  {
   "cell_type": "markdown",
   "id": "90305b20",
   "metadata": {},
   "source": [
    "# Запрос вакансий с hh.ru"
   ]
  },
  {
   "cell_type": "code",
   "execution_count": 2,
   "id": "03d9137a",
   "metadata": {},
   "outputs": [],
   "source": [
    "#определим список городом где есть плошадки МЦТП УП АРМ (мое подразделение) и для сравнения добавим туда Москву и Питер\n",
    "cities = ['Москва', 'Санкт-Петербург', 'Новосибирск', 'Екатеринбург', 'Нижний Новгород',  'Самара', 'Тула']"
   ]
  },
  {
   "cell_type": "code",
   "execution_count": 29,
   "id": "3ddbd407",
   "metadata": {},
   "outputs": [],
   "source": [
    "#Выясним номера регионов\n",
    "areas = []\n",
    "for city in cities:\n",
    "    url = f'https://api.hh.ru/suggests/area_leaves?text={city}'\n",
    "    res = requests.get(url)\n",
    "    for item in res.json()['items']:\n",
    "        if item['text'] in cities:\n",
    "            areas.append(item)"
   ]
  },
  {
   "cell_type": "code",
   "execution_count": 31,
   "id": "7d8880d2",
   "metadata": {},
   "outputs": [
    {
     "data": {
      "text/plain": [
       "[{'id': '1', 'text': 'Москва', 'url': 'https://api.hh.ru/areas/1'},\n",
       " {'id': '2', 'text': 'Санкт-Петербург', 'url': 'https://api.hh.ru/areas/2'},\n",
       " {'id': '4', 'text': 'Новосибирск', 'url': 'https://api.hh.ru/areas/4'},\n",
       " {'id': '3', 'text': 'Екатеринбург', 'url': 'https://api.hh.ru/areas/3'},\n",
       " {'id': '66', 'text': 'Нижний Новгород', 'url': 'https://api.hh.ru/areas/66'},\n",
       " {'id': '78', 'text': 'Самара', 'url': 'https://api.hh.ru/areas/78'},\n",
       " {'id': '92', 'text': 'Тула', 'url': 'https://api.hh.ru/areas/92'}]"
      ]
     },
     "execution_count": 31,
     "metadata": {},
     "output_type": "execute_result"
    }
   ],
   "source": [
    "areas"
   ]
  },
  {
   "cell_type": "code",
   "execution_count": 68,
   "id": "769dd03a",
   "metadata": {
    "scrolled": true
   },
   "outputs": [
    {
     "data": {
      "application/vnd.jupyter.widget-view+json": {
       "model_id": "1769a71feb8241e8bba423f3631b59d4",
       "version_major": 2,
       "version_minor": 0
      },
      "text/plain": [
       "  0%|          | 0/7 [00:00<?, ?it/s]"
      ]
     },
     "metadata": {},
     "output_type": "display_data"
    }
   ],
   "source": [
    "%%time\n",
    "#Сохраним все номера id вакансий\n",
    "page = 1\n",
    "num_per_page = 100\n",
    "all_vacancy_ids=[]\n",
    "for region in tqdm(range(len(areas))):\n",
    "    reg_id = areas[region]['id']\n",
    "    time.sleep(60)\n",
    "    #print(reg_id)\n",
    "    url = f'https://api.hh.ru/vacancies?&page={page}&per_page={num_per_page}&area={reg_id}'\n",
    "    for i in range(20):\n",
    "        res = requests.get(url)\n",
    "        vacancies = res.json()\n",
    "        num_pages = vacancies.get('pages')\n",
    "        vacancy_ids = [el.get('id') for el in vacancies.get('items')]\n",
    "        all_vacancy_ids.extend(vacancy_ids)\n",
    "        "
   ]
  },
  {
   "cell_type": "code",
   "execution_count": 72,
   "id": "e2ddd201",
   "metadata": {},
   "outputs": [
    {
     "data": {
      "text/plain": [
       "['all_vacancy_ids_dump']"
      ]
     },
     "execution_count": 72,
     "metadata": {},
     "output_type": "execute_result"
    }
   ],
   "source": [
    "%%time\n",
    "#сохраним номера вакансий в файл\n",
    "#\n",
    "joblib.dump(all_vacancy_ids,'all_vacancy_ids_dump')\n"
   ]
  },
  {
   "cell_type": "code",
   "execution_count": null,
   "id": "32644372",
   "metadata": {},
   "outputs": [],
   "source": [
    "#чтобы открыть =joblib.load('all_vacancy_ids_dump')"
   ]
  },
  {
   "cell_type": "code",
   "execution_count": 73,
   "id": "cfa446ea",
   "metadata": {},
   "outputs": [
    {
     "data": {
      "text/plain": [
       "14000"
      ]
     },
     "execution_count": 73,
     "metadata": {},
     "output_type": "execute_result"
    }
   ],
   "source": [
    "# проверяем число вакансий\n",
    "len(all_vacancy_ids)"
   ]
  },
  {
   "cell_type": "code",
   "execution_count": 111,
   "id": "bd429c75",
   "metadata": {},
   "outputs": [
    {
     "name": "stdout",
     "output_type": "stream",
     "text": [
      "Wall time: 5h 17min 16s\n"
     ]
    }
   ],
   "source": [
    "%%time\n",
    "#достаем все по вакансиям, подробно\n",
    "vacancy_all_info = []\n",
    "all_iteration = math.ceil((len(all_vacancy_ids))/50) #делим все вакансии на 50, и округляем в большую сторону.\n",
    "for ii in range(all_iteration): #создал цикл по 50  вакнсий\n",
    "    # Запрос исполняется Wall time: 5h 17min 16s\n",
    "    x=50*ii\n",
    "    ii+=1\n",
    "    y=50*ii\n",
    "    for i in range(x, y): #перебор вакансий с 0 по 49, с  50 по 99 и тд\n",
    "        vac_id = all_vacancy_ids[i]\n",
    "        url = f'https://api.hh.ru/vacancies/{vac_id}'\n",
    "        res = requests.get(url)\n",
    "        vacancy = res.json()\n",
    "        vacancy_all_info.append(vacancy)\n",
    "    #print(ii)\n",
    "    time.sleep(60) #пауза в 60 секунд после каждого запроса на 50 вакансий, чтобы небыло капчи"
   ]
  },
  {
   "cell_type": "code",
   "execution_count": 112,
   "id": "5c8e1ebb",
   "metadata": {},
   "outputs": [
    {
     "name": "stdout",
     "output_type": "stream",
     "text": [
      "Wall time: 14.2 s\n"
     ]
    },
    {
     "data": {
      "text/plain": [
       "['vacancy_all_info_dump']"
      ]
     },
     "execution_count": 112,
     "metadata": {},
     "output_type": "execute_result"
    }
   ],
   "source": [
    "%%time\n",
    "#сохраним номера вакансий в файл\n",
    "#\n",
    "joblib.dump(vacancy_all_info,'vacancy_all_info_dump')"
   ]
  },
  {
   "cell_type": "code",
   "execution_count": 568,
   "id": "f030dfd2",
   "metadata": {
    "scrolled": false
   },
   "outputs": [
    {
     "data": {
      "text/plain": [
       "{'id': '78393684',\n",
       " 'premium': False,\n",
       " 'billing_type': {'id': 'standard', 'name': 'Стандарт'},\n",
       " 'relations': [],\n",
       " 'name': 'Сотрудник на производство картин по номерам',\n",
       " 'insider_interview': None,\n",
       " 'response_letter_required': False,\n",
       " 'area': {'id': '4',\n",
       "  'name': 'Новосибирск',\n",
       "  'url': 'https://api.hh.ru/areas/4'},\n",
       " 'salary': {'from': 36000, 'to': 40000, 'currency': 'RUR', 'gross': False},\n",
       " 'type': {'id': 'open', 'name': 'Открытая'},\n",
       " 'address': None,\n",
       " 'allow_messages': True,\n",
       " 'experience': {'id': 'noExperience', 'name': 'Нет опыта'},\n",
       " 'schedule': {'id': 'fullDay', 'name': 'Полный день'},\n",
       " 'employment': {'id': 'full', 'name': 'Полная занятость'},\n",
       " 'department': None,\n",
       " 'contacts': None,\n",
       " 'description': '<p><em><strong>Мы ищем сотрудников на производство картин по номерам. Нам нужны трудолюбивые, ответственные люди. </strong></em></p> <p><em><strong>Эта работа для вас:</strong></em></p> <p><em><strong>если вы любите выполнять монотонную работу;</strong></em></p> <p><em><strong>если у вас есть возможность и желание работать пятидневную рабочую неделю с плавающими выходными. </strong></em></p> <p><strong>Что вы будете делать:</strong></p> <ul> <li>комплектование картин по номерам;</li> <li>печать на принтере;</li> <li>оформление на рамку;</li> <li>набор краски;</li> <li>погрузка готовой продукции на отправку.</li> </ul> <p><strong>Требования:</strong></p> <ul> <li>ответственность;</li> <li>внимательность;</li> <li>заинтересованность в постоянной работе.</li> </ul> <p><strong>Условия:</strong></p> <p><em>Заинтересованным кандидатам предоставляем обучение. </em></p> <ul> <li>полный рабочий день, 5/2 с 9 до 18 часов;</li> <li>работа в теплом помещении;</li> <li>зарплата без задержек (1800 ставка/день);</li> <li>рабочее место, Ленинский район, ул. Блюхера</li> </ul>',\n",
       " 'branded_description': None,\n",
       " 'vacancy_constructor_template': None,\n",
       " 'key_skills': [{'name': 'Работа в команде'},\n",
       "  {'name': 'Желание обучаться'},\n",
       "  {'name': 'Внимание к мелочам'},\n",
       "  {'name': 'Работа в условиях многозадачности'},\n",
       "  {'name': 'Ответственность и пунктуальность'},\n",
       "  {'name': 'Заинтересованность'}],\n",
       " 'accept_handicapped': False,\n",
       " 'accept_kids': False,\n",
       " 'archived': False,\n",
       " 'response_url': None,\n",
       " 'specializations': [],\n",
       " 'professional_roles': [{'id': '131', 'name': 'Упаковщик, комплектовщик'}],\n",
       " 'code': None,\n",
       " 'hidden': False,\n",
       " 'quick_responses_allowed': False,\n",
       " 'driver_license_types': [],\n",
       " 'accept_incomplete_resumes': False,\n",
       " 'employer': {'id': '115276',\n",
       "  'name': 'МыРисуем',\n",
       "  'url': 'https://api.hh.ru/employers/115276',\n",
       "  'alternate_url': 'https://hh.ru/employer/115276',\n",
       "  'logo_urls': {'original': 'https://hhcdn.ru/employer-logo-original/1072456.jpg',\n",
       "   '240': 'https://hhcdn.ru/employer-logo/5910454.jpeg',\n",
       "   '90': 'https://hhcdn.ru/employer-logo/5910453.jpeg'},\n",
       "  'vacancies_url': 'https://api.hh.ru/vacancies?employer_id=115276',\n",
       "  'trusted': True},\n",
       " 'published_at': '2023-04-05T06:18:52+0300',\n",
       " 'created_at': '2023-04-05T06:18:52+0300',\n",
       " 'initial_created_at': '2023-03-22T10:51:39+0300',\n",
       " 'negotiations_url': None,\n",
       " 'suitable_resumes_url': None,\n",
       " 'apply_alternate_url': 'https://hh.ru/applicant/vacancy_response?vacancyId=78393684',\n",
       " 'has_test': False,\n",
       " 'test': None,\n",
       " 'alternate_url': 'https://hh.ru/vacancy/78393684',\n",
       " 'working_days': [],\n",
       " 'working_time_intervals': [],\n",
       " 'working_time_modes': [],\n",
       " 'accept_temporary': False,\n",
       " 'languages': []}"
      ]
     },
     "execution_count": 568,
     "metadata": {},
     "output_type": "execute_result"
    }
   ],
   "source": [
    "#посмотрим на одну вакансию\n",
    "vacancy_all_info[4000]"
   ]
  },
  {
   "cell_type": "code",
   "execution_count": 592,
   "id": "6461b74e",
   "metadata": {},
   "outputs": [],
   "source": [
    "#Создаем DataFrame с нужными нам полями из всего массива данных\n",
    "vac_info = pd.DataFrame(vacancy_all_info, columns = ['id', 'name', 'area','salary', 'experience', 'schedule', \n",
    "                                                     'employment', 'description', 'key_skills', 'professional_roles', \n",
    "                                                     'employer', 'published_at'])"
   ]
  },
  {
   "cell_type": "code",
   "execution_count": 926,
   "id": "2864ddb5",
   "metadata": {
    "scrolled": true
   },
   "outputs": [],
   "source": [
    "#vac_info.info()"
   ]
  },
  {
   "cell_type": "code",
   "execution_count": 927,
   "id": "7527016c",
   "metadata": {},
   "outputs": [],
   "source": [
    "#Работаем с данными, очишаем, выбираем нужное и тд, в том числе через написанные функции"
   ]
  },
  {
   "cell_type": "code",
   "execution_count": 594,
   "id": "82b56a3f",
   "metadata": {},
   "outputs": [],
   "source": [
    "def name_of_property (slovar):\n",
    "    \"\"\"\n",
    "    функция вытягивания конкретного свойства из поля\n",
    "    \"\"\"\n",
    "    name_prop = slovar['name']\n",
    "    return name_prop"
   ]
  },
  {
   "cell_type": "code",
   "execution_count": 595,
   "id": "0475c2e6",
   "metadata": {},
   "outputs": [],
   "source": [
    "# применем функцию и оставим нужные нам свойства\n",
    "vac_info['area'] = vac_info['area'].apply(name_of_property)\n",
    "vac_info['experience'] = vac_info['experience'].apply(name_of_property)\n",
    "vac_info['schedule'] = vac_info['schedule'].apply(name_of_property)\n",
    "vac_info['employment'] = vac_info['employment'].apply(name_of_property)\n",
    "vac_info['employer'] = vac_info['employer'].apply(name_of_property)"
   ]
  },
  {
   "cell_type": "code",
   "execution_count": 596,
   "id": "f9c442a7",
   "metadata": {},
   "outputs": [],
   "source": [
    "def name_professional_roles (slovar):\n",
    "    \"\"\"\n",
    "    функция вытягивания конкретного свойства из поля professional_roles\n",
    "    \"\"\"\n",
    "    name_prop = slovar[0]['name']\n",
    "    return name_prop"
   ]
  },
  {
   "cell_type": "code",
   "execution_count": 599,
   "id": "4c8edb38",
   "metadata": {},
   "outputs": [],
   "source": [
    "vac_info['professional_roles']=vac_info['professional_roles'].apply(name_professional_roles)"
   ]
  },
  {
   "cell_type": "code",
   "execution_count": 580,
   "id": "d94e0c9e",
   "metadata": {},
   "outputs": [],
   "source": [
    "#функции для разбора поля salary на зарплату от и до \n",
    "def salary_from (slovar):\n",
    "    \"\"\"\n",
    "    функция зарплата от\n",
    "    \"\"\"\n",
    "    if type(slovar) ==dict:\n",
    "        if type(slovar['from']) == int:\n",
    "            salary_from = slovar['from']\n",
    "            return salary_from\n",
    "\n",
    "def salary_to (slovar):\n",
    "    \"\"\"\n",
    "    функция зарплата до\n",
    "    \"\"\"\n",
    "    if type(slovar) ==dict:\n",
    "        if type(slovar['to']) == int:\n",
    "            salary_to = slovar['to']\n",
    "            return salary_to"
   ]
  },
  {
   "cell_type": "code",
   "execution_count": 613,
   "id": "da14893e",
   "metadata": {},
   "outputs": [],
   "source": [
    "#применим функции зарплат\n",
    "vac_info['salary_from'] = vac_info['salary'].apply(salary_from)\n",
    "vac_info['salary_to'] = vac_info['salary'].apply(salary_to)"
   ]
  },
  {
   "cell_type": "code",
   "execution_count": 614,
   "id": "6b2fb6e8",
   "metadata": {},
   "outputs": [],
   "source": [
    "# создаем функцию для конвертации в дату столбца 'published_at'\n",
    "def convert_datetime(x):\n",
    "    \"\"\"\n",
    "    переводим строку в дату \n",
    "    \"\"\"\n",
    "    if type(x)==str:\n",
    "        new_x = datetime.strptime(x[:10], '%Y-%m-%d')\n",
    "        return new_x\n",
    "    else :\n",
    "        new_x = None  # не знал как обойти когда вместо строки приходит что то иное\n",
    "        return new_x"
   ]
  },
  {
   "cell_type": "code",
   "execution_count": 615,
   "id": "b788af86",
   "metadata": {},
   "outputs": [],
   "source": [
    "vac_info['published_at']=vac_info['published_at'].apply(convert_datetime)"
   ]
  },
  {
   "cell_type": "code",
   "execution_count": 616,
   "id": "294ee2f7",
   "metadata": {},
   "outputs": [],
   "source": [
    "#функция для преобразования требований в один список удобный нам\n",
    "def vac_skill(list_skill):\n",
    "    \"\"\"\n",
    "    Перебираем все существующие требования к навыкам в поле key_skills и записываем их в лист\n",
    "    \"\"\"\n",
    "    if len(list_skill) != 0: #смотрим только существующие значения\n",
    "        skill = []\n",
    "        for i in range(len(list_skill)): \n",
    "            skill.append(list_skill[i]['name'])\n",
    "        return skill"
   ]
  },
  {
   "cell_type": "code",
   "execution_count": 617,
   "id": "7e72e7f3",
   "metadata": {},
   "outputs": [],
   "source": [
    "vac_info['key_skills']=vac_info['key_skills'].apply(vac_skill)"
   ]
  },
  {
   "cell_type": "code",
   "execution_count": null,
   "id": "668b3bd5",
   "metadata": {},
   "outputs": [],
   "source": []
  },
  {
   "cell_type": "code",
   "execution_count": 619,
   "id": "218b2ef1",
   "metadata": {},
   "outputs": [],
   "source": [
    "#выберем из vac_info.professional_roles.unique() цифровые специальности(смотрел что вообще дает HH и выбрал что связано с IT)\n",
    "spisok = ['Тестировщик', 'Программист, разработчик','Специалист технической поддержки', \n",
    "          'Продуктовый аналитик', 'Руководитель группы разработки', 'Системный администратор', 'Менеджер продукта']"
   ]
  },
  {
   "cell_type": "code",
   "execution_count": 625,
   "id": "d8f02dcc",
   "metadata": {},
   "outputs": [],
   "source": [
    "def find_vasc_roles (stroka):\n",
    "    \"\"\"\n",
    "    функция поиска цифровых вакансий\n",
    "    \"\"\"\n",
    "    sovpalo = 0\n",
    "    for x in range(len(spisok)):\n",
    "        if (spisok[x] == stroka) == True:\n",
    "            sovpalo+=1\n",
    "        #else: return 0\n",
    "    if sovpalo > 0 : return 1\n",
    "    else: return 0"
   ]
  },
  {
   "cell_type": "code",
   "execution_count": 628,
   "id": "cab30c61",
   "metadata": {},
   "outputs": [],
   "source": [
    "# проставим flag = 1 там где цифровые вакансии\n",
    "vac_info['flag'] = vac_info['professional_roles'].apply(find_vasc_roles)"
   ]
  },
  {
   "cell_type": "code",
   "execution_count": 630,
   "id": "bb96488e",
   "metadata": {},
   "outputs": [],
   "source": [
    "#создаим копию датасета, и поработаем с данными\n",
    "vac_info_new = vac_info.loc[vac_info['flag']==1].reset_index(drop=True).copy()"
   ]
  },
  {
   "cell_type": "code",
   "execution_count": 638,
   "id": "5dc040f0",
   "metadata": {},
   "outputs": [],
   "source": [
    "def vac_level(row):\n",
    "    \"\"\"\n",
    "    функия опредления уровня вакансии из названия\n",
    "    \"\"\"\n",
    "    if ('junior' in row)|('младший' in row)|('стажер' in row):\n",
    "        return 'Junior'\n",
    "    if 'middle' in row:\n",
    "        return 'Middle'\n",
    "    if ('senior' in row)|('старший' in row):\n",
    "        return 'Senior'\n",
    "    if ('chief' in row)|('head' in row)|('lead' in row)|('руководитель' in row):\n",
    "        return 'Lead'"
   ]
  },
  {
   "cell_type": "code",
   "execution_count": 639,
   "id": "3edb130e",
   "metadata": {},
   "outputs": [],
   "source": [
    "vac_info_new['vac_level']=vac_info_new['name'].apply(vac_level)"
   ]
  },
  {
   "cell_type": "code",
   "execution_count": 928,
   "id": "1f6afbe8",
   "metadata": {},
   "outputs": [
    {
     "data": {
      "text/plain": [
       "array([None, 'Junior'], dtype=object)"
      ]
     },
     "execution_count": 928,
     "metadata": {},
     "output_type": "execute_result"
    }
   ],
   "source": [
    "#Смотрим какие уровни есть\n",
    "vac_info_new['vac_level'].unique()"
   ]
  },
  {
   "cell_type": "code",
   "execution_count": null,
   "id": "837ed25b",
   "metadata": {},
   "outputs": [],
   "source": [
    "#к сожалению у нас уровень только новичок, исследования относительно уровня провести не возможно"
   ]
  },
  {
   "cell_type": "code",
   "execution_count": 647,
   "id": "4abdb81c",
   "metadata": {},
   "outputs": [
    {
     "data": {
      "text/plain": [
       "id                       0\n",
       "name                     0\n",
       "area                     0\n",
       "salary                 460\n",
       "experience               0\n",
       "schedule                 0\n",
       "employment               0\n",
       "description              0\n",
       "key_skills             340\n",
       "professional_roles       0\n",
       "employer                 0\n",
       "published_at             0\n",
       "salary_from            520\n",
       "salary_to              820\n",
       "flag                     0\n",
       "vac_level             1040\n",
       "dtype: int64"
      ]
     },
     "execution_count": 647,
     "metadata": {},
     "output_type": "execute_result"
    }
   ],
   "source": [
    "#оценим данные\n",
    "vac_info_new.isna().sum()"
   ]
  },
  {
   "cell_type": "code",
   "execution_count": 653,
   "id": "20766285",
   "metadata": {},
   "outputs": [
    {
     "data": {
      "application/vnd.plotly.v1+json": {
       "config": {
        "plotlyServerURL": "https://plot.ly"
       },
       "data": [
        {
         "alignmentgroup": "True",
         "hovertemplate": "Регион=%{x}<br>Зарплата от, руб.=%{y}<extra></extra>",
         "legendgroup": "Нижний Новгород",
         "marker": {
          "color": "#636efa"
         },
         "name": "Нижний Новгород",
         "notched": false,
         "offsetgroup": "Нижний Новгород",
         "orientation": "v",
         "showlegend": true,
         "type": "box",
         "x": [
          "Нижний Новгород",
          "Нижний Новгород",
          "Нижний Новгород",
          "Нижний Новгород",
          "Нижний Новгород",
          "Нижний Новгород",
          "Нижний Новгород",
          "Нижний Новгород",
          "Нижний Новгород",
          "Нижний Новгород",
          "Нижний Новгород",
          "Нижний Новгород",
          "Нижний Новгород",
          "Нижний Новгород",
          "Нижний Новгород",
          "Нижний Новгород",
          "Нижний Новгород",
          "Нижний Новгород",
          "Нижний Новгород",
          "Нижний Новгород",
          "Нижний Новгород",
          "Нижний Новгород",
          "Нижний Новгород",
          "Нижний Новгород",
          "Нижний Новгород",
          "Нижний Новгород",
          "Нижний Новгород",
          "Нижний Новгород",
          "Нижний Новгород",
          "Нижний Новгород",
          "Нижний Новгород",
          "Нижний Новгород",
          "Нижний Новгород",
          "Нижний Новгород",
          "Нижний Новгород",
          "Нижний Новгород",
          "Нижний Новгород",
          "Нижний Новгород",
          "Нижний Новгород",
          "Нижний Новгород",
          "Нижний Новгород",
          "Нижний Новгород",
          "Нижний Новгород",
          "Нижний Новгород",
          "Нижний Новгород",
          "Нижний Новгород",
          "Нижний Новгород",
          "Нижний Новгород",
          "Нижний Новгород",
          "Нижний Новгород",
          "Нижний Новгород",
          "Нижний Новгород",
          "Нижний Новгород",
          "Нижний Новгород",
          "Нижний Новгород",
          "Нижний Новгород",
          "Нижний Новгород",
          "Нижний Новгород",
          "Нижний Новгород",
          "Нижний Новгород",
          "Нижний Новгород",
          "Нижний Новгород",
          "Нижний Новгород",
          "Нижний Новгород",
          "Нижний Новгород",
          "Нижний Новгород",
          "Нижний Новгород",
          "Нижний Новгород",
          "Нижний Новгород",
          "Нижний Новгород",
          "Нижний Новгород",
          "Нижний Новгород",
          "Нижний Новгород",
          "Нижний Новгород",
          "Нижний Новгород",
          "Нижний Новгород",
          "Нижний Новгород",
          "Нижний Новгород",
          "Нижний Новгород",
          "Нижний Новгород",
          "Нижний Новгород",
          "Нижний Новгород",
          "Нижний Новгород",
          "Нижний Новгород",
          "Нижний Новгород",
          "Нижний Новгород",
          "Нижний Новгород",
          "Нижний Новгород",
          "Нижний Новгород",
          "Нижний Новгород",
          "Нижний Новгород",
          "Нижний Новгород",
          "Нижний Новгород",
          "Нижний Новгород",
          "Нижний Новгород",
          "Нижний Новгород",
          "Нижний Новгород",
          "Нижний Новгород",
          "Нижний Новгород",
          "Нижний Новгород",
          "Нижний Новгород",
          "Нижний Новгород",
          "Нижний Новгород",
          "Нижний Новгород",
          "Нижний Новгород",
          "Нижний Новгород",
          "Нижний Новгород",
          "Нижний Новгород",
          "Нижний Новгород",
          "Нижний Новгород",
          "Нижний Новгород",
          "Нижний Новгород",
          "Нижний Новгород",
          "Нижний Новгород",
          "Нижний Новгород",
          "Нижний Новгород",
          "Нижний Новгород",
          "Нижний Новгород",
          "Нижний Новгород",
          "Нижний Новгород",
          "Нижний Новгород",
          "Нижний Новгород",
          "Нижний Новгород",
          "Нижний Новгород",
          "Нижний Новгород",
          "Нижний Новгород",
          "Нижний Новгород",
          "Нижний Новгород",
          "Нижний Новгород",
          "Нижний Новгород",
          "Нижний Новгород",
          "Нижний Новгород",
          "Нижний Новгород",
          "Нижний Новгород",
          "Нижний Новгород",
          "Нижний Новгород",
          "Нижний Новгород",
          "Нижний Новгород",
          "Нижний Новгород",
          "Нижний Новгород",
          "Нижний Новгород",
          "Нижний Новгород",
          "Нижний Новгород",
          "Нижний Новгород",
          "Нижний Новгород",
          "Нижний Новгород",
          "Нижний Новгород",
          "Нижний Новгород",
          "Нижний Новгород",
          "Нижний Новгород",
          "Нижний Новгород",
          "Нижний Новгород",
          "Нижний Новгород",
          "Нижний Новгород",
          "Нижний Новгород",
          "Нижний Новгород",
          "Нижний Новгород",
          "Нижний Новгород",
          "Нижний Новгород",
          "Нижний Новгород"
         ],
         "x0": " ",
         "xaxis": "x",
         "y": [
          10000,
          80000,
          70000,
          30000,
          50000,
          40000,
          10000,
          86000,
          10000,
          80000,
          70000,
          30000,
          50000,
          40000,
          10000,
          86000,
          10000,
          80000,
          70000,
          30000,
          50000,
          40000,
          10000,
          86000,
          10000,
          80000,
          70000,
          30000,
          50000,
          40000,
          10000,
          86000,
          10000,
          80000,
          70000,
          30000,
          50000,
          40000,
          10000,
          86000,
          10000,
          80000,
          70000,
          30000,
          50000,
          40000,
          10000,
          86000,
          10000,
          80000,
          70000,
          30000,
          50000,
          40000,
          10000,
          86000,
          10000,
          80000,
          70000,
          30000,
          50000,
          40000,
          10000,
          86000,
          10000,
          80000,
          70000,
          30000,
          50000,
          40000,
          10000,
          86000,
          10000,
          80000,
          70000,
          30000,
          50000,
          40000,
          10000,
          86000,
          10000,
          80000,
          70000,
          30000,
          50000,
          40000,
          10000,
          86000,
          10000,
          80000,
          70000,
          30000,
          50000,
          40000,
          10000,
          86000,
          10000,
          80000,
          70000,
          30000,
          50000,
          40000,
          10000,
          86000,
          10000,
          80000,
          70000,
          30000,
          50000,
          40000,
          10000,
          86000,
          10000,
          80000,
          70000,
          30000,
          50000,
          40000,
          10000,
          86000,
          10000,
          80000,
          70000,
          30000,
          50000,
          40000,
          10000,
          86000,
          10000,
          80000,
          70000,
          30000,
          50000,
          40000,
          10000,
          86000,
          10000,
          80000,
          70000,
          30000,
          50000,
          40000,
          10000,
          86000,
          10000,
          80000,
          70000,
          30000,
          50000,
          40000,
          10000,
          86000,
          10000,
          80000,
          70000,
          30000,
          50000,
          40000,
          10000,
          86000
         ],
         "y0": " ",
         "yaxis": "y"
        },
        {
         "alignmentgroup": "True",
         "hovertemplate": "Регион=%{x}<br>Зарплата от, руб.=%{y}<extra></extra>",
         "legendgroup": "Москва",
         "marker": {
          "color": "#EF553B"
         },
         "name": "Москва",
         "notched": false,
         "offsetgroup": "Москва",
         "orientation": "v",
         "showlegend": true,
         "type": "box",
         "x": [
          "Москва",
          "Москва",
          "Москва",
          "Москва",
          "Москва",
          "Москва",
          "Москва",
          "Москва",
          "Москва",
          "Москва",
          "Москва",
          "Москва",
          "Москва",
          "Москва",
          "Москва",
          "Москва",
          "Москва",
          "Москва",
          "Москва",
          "Москва",
          "Москва",
          "Москва",
          "Москва",
          "Москва",
          "Москва",
          "Москва",
          "Москва",
          "Москва",
          "Москва",
          "Москва",
          "Москва",
          "Москва",
          "Москва",
          "Москва",
          "Москва",
          "Москва",
          "Москва",
          "Москва",
          "Москва",
          "Москва",
          "Москва",
          "Москва",
          "Москва",
          "Москва",
          "Москва",
          "Москва",
          "Москва",
          "Москва",
          "Москва",
          "Москва",
          "Москва",
          "Москва",
          "Москва",
          "Москва",
          "Москва",
          "Москва",
          "Москва",
          "Москва",
          "Москва",
          "Москва",
          "Москва",
          "Москва",
          "Москва",
          "Москва",
          "Москва",
          "Москва",
          "Москва",
          "Москва",
          "Москва",
          "Москва",
          "Москва",
          "Москва",
          "Москва",
          "Москва",
          "Москва",
          "Москва",
          "Москва",
          "Москва",
          "Москва",
          "Москва",
          "Москва",
          "Москва",
          "Москва",
          "Москва",
          "Москва",
          "Москва",
          "Москва",
          "Москва",
          "Москва",
          "Москва",
          "Москва",
          "Москва",
          "Москва",
          "Москва",
          "Москва",
          "Москва",
          "Москва",
          "Москва",
          "Москва",
          "Москва",
          "Москва",
          "Москва",
          "Москва",
          "Москва",
          "Москва",
          "Москва",
          "Москва",
          "Москва",
          "Москва",
          "Москва",
          "Москва",
          "Москва",
          "Москва",
          "Москва",
          "Москва",
          "Москва",
          "Москва",
          "Москва",
          "Москва",
          "Москва"
         ],
         "x0": " ",
         "xaxis": "x",
         "y": [
          60000,
          60000,
          60000,
          130000,
          80000,
          1600,
          60000,
          60000,
          60000,
          130000,
          80000,
          1600,
          60000,
          60000,
          60000,
          130000,
          80000,
          1600,
          60000,
          60000,
          60000,
          130000,
          80000,
          1600,
          60000,
          60000,
          60000,
          130000,
          80000,
          1600,
          60000,
          60000,
          60000,
          130000,
          80000,
          1600,
          60000,
          60000,
          60000,
          130000,
          80000,
          1600,
          60000,
          60000,
          60000,
          130000,
          80000,
          1600,
          60000,
          60000,
          60000,
          130000,
          80000,
          1600,
          60000,
          60000,
          60000,
          130000,
          80000,
          1600,
          60000,
          60000,
          60000,
          130000,
          80000,
          1600,
          60000,
          60000,
          60000,
          130000,
          80000,
          1600,
          60000,
          60000,
          60000,
          130000,
          80000,
          1600,
          60000,
          60000,
          60000,
          130000,
          80000,
          1600,
          60000,
          60000,
          60000,
          130000,
          80000,
          1600,
          60000,
          60000,
          60000,
          130000,
          80000,
          1600,
          60000,
          60000,
          60000,
          130000,
          80000,
          1600,
          60000,
          60000,
          60000,
          130000,
          80000,
          1600,
          60000,
          60000,
          60000,
          130000,
          80000,
          1600,
          60000,
          60000,
          60000,
          130000,
          80000,
          1600
         ],
         "y0": " ",
         "yaxis": "y"
        },
        {
         "alignmentgroup": "True",
         "hovertemplate": "Регион=%{x}<br>Зарплата от, руб.=%{y}<extra></extra>",
         "legendgroup": "Новосибирск",
         "marker": {
          "color": "#00cc96"
         },
         "name": "Новосибирск",
         "notched": false,
         "offsetgroup": "Новосибирск",
         "orientation": "v",
         "showlegend": true,
         "type": "box",
         "x": [
          "Новосибирск",
          "Новосибирск",
          "Новосибирск",
          "Новосибирск",
          "Новосибирск",
          "Новосибирск",
          "Новосибирск",
          "Новосибирск",
          "Новосибирск",
          "Новосибирск",
          "Новосибирск",
          "Новосибирск",
          "Новосибирск",
          "Новосибирск",
          "Новосибирск",
          "Новосибирск",
          "Новосибирск",
          "Новосибирск",
          "Новосибирск",
          "Новосибирск",
          "Новосибирск",
          "Новосибирск",
          "Новосибирск",
          "Новосибирск",
          "Новосибирск",
          "Новосибирск",
          "Новосибирск",
          "Новосибирск",
          "Новосибирск",
          "Новосибирск",
          "Новосибирск",
          "Новосибирск",
          "Новосибирск",
          "Новосибирск",
          "Новосибирск",
          "Новосибирск",
          "Новосибирск",
          "Новосибирск",
          "Новосибирск",
          "Новосибирск",
          "Новосибирск",
          "Новосибирск",
          "Новосибирск",
          "Новосибирск",
          "Новосибирск",
          "Новосибирск",
          "Новосибирск",
          "Новосибирск",
          "Новосибирск",
          "Новосибирск",
          "Новосибирск",
          "Новосибирск",
          "Новосибирск",
          "Новосибирск",
          "Новосибирск",
          "Новосибирск",
          "Новосибирск",
          "Новосибирск",
          "Новосибирск",
          "Новосибирск",
          "Новосибирск",
          "Новосибирск",
          "Новосибирск",
          "Новосибирск",
          "Новосибирск",
          "Новосибирск",
          "Новосибирск",
          "Новосибирск",
          "Новосибирск",
          "Новосибирск",
          "Новосибирск",
          "Новосибирск",
          "Новосибирск",
          "Новосибирск",
          "Новосибирск",
          "Новосибирск",
          "Новосибирск",
          "Новосибирск",
          "Новосибирск",
          "Новосибирск"
         ],
         "x0": " ",
         "xaxis": "x",
         "y": [
          90000,
          1000,
          70000,
          60000,
          90000,
          1000,
          70000,
          60000,
          90000,
          1000,
          70000,
          60000,
          90000,
          1000,
          70000,
          60000,
          90000,
          1000,
          70000,
          60000,
          90000,
          1000,
          70000,
          60000,
          90000,
          1000,
          70000,
          60000,
          90000,
          1000,
          70000,
          60000,
          90000,
          1000,
          70000,
          60000,
          90000,
          1000,
          70000,
          60000,
          90000,
          1000,
          70000,
          60000,
          90000,
          1000,
          70000,
          60000,
          90000,
          1000,
          70000,
          60000,
          90000,
          1000,
          70000,
          60000,
          90000,
          1000,
          70000,
          60000,
          90000,
          1000,
          70000,
          60000,
          90000,
          1000,
          70000,
          60000,
          90000,
          1000,
          70000,
          60000,
          90000,
          1000,
          70000,
          60000,
          90000,
          1000,
          70000,
          60000
         ],
         "y0": " ",
         "yaxis": "y"
        },
        {
         "alignmentgroup": "True",
         "hovertemplate": "Регион=%{x}<br>Зарплата от, руб.=%{y}<extra></extra>",
         "legendgroup": "Екатеринбург",
         "marker": {
          "color": "#ab63fa"
         },
         "name": "Екатеринбург",
         "notched": false,
         "offsetgroup": "Екатеринбург",
         "orientation": "v",
         "showlegend": true,
         "type": "box",
         "x": [
          "Екатеринбург",
          "Екатеринбург",
          "Екатеринбург",
          "Екатеринбург",
          "Екатеринбург",
          "Екатеринбург",
          "Екатеринбург",
          "Екатеринбург",
          "Екатеринбург",
          "Екатеринбург",
          "Екатеринбург",
          "Екатеринбург",
          "Екатеринбург",
          "Екатеринбург",
          "Екатеринбург",
          "Екатеринбург",
          "Екатеринбург",
          "Екатеринбург",
          "Екатеринбург",
          "Екатеринбург",
          "Екатеринбург",
          "Екатеринбург",
          "Екатеринбург",
          "Екатеринбург",
          "Екатеринбург",
          "Екатеринбург",
          "Екатеринбург",
          "Екатеринбург",
          "Екатеринбург",
          "Екатеринбург",
          "Екатеринбург",
          "Екатеринбург",
          "Екатеринбург",
          "Екатеринбург",
          "Екатеринбург",
          "Екатеринбург",
          "Екатеринбург",
          "Екатеринбург",
          "Екатеринбург",
          "Екатеринбург",
          "Екатеринбург",
          "Екатеринбург",
          "Екатеринбург",
          "Екатеринбург",
          "Екатеринбург",
          "Екатеринбург",
          "Екатеринбург",
          "Екатеринбург",
          "Екатеринбург",
          "Екатеринбург",
          "Екатеринбург",
          "Екатеринбург",
          "Екатеринбург",
          "Екатеринбург",
          "Екатеринбург",
          "Екатеринбург",
          "Екатеринбург",
          "Екатеринбург",
          "Екатеринбург",
          "Екатеринбург",
          "Екатеринбург",
          "Екатеринбург",
          "Екатеринбург",
          "Екатеринбург",
          "Екатеринбург",
          "Екатеринбург",
          "Екатеринбург",
          "Екатеринбург",
          "Екатеринбург",
          "Екатеринбург",
          "Екатеринбург",
          "Екатеринбург",
          "Екатеринбург",
          "Екатеринбург",
          "Екатеринбург",
          "Екатеринбург",
          "Екатеринбург",
          "Екатеринбург",
          "Екатеринбург",
          "Екатеринбург"
         ],
         "x0": " ",
         "xaxis": "x",
         "y": [
          35000,
          50000,
          200000,
          35000,
          35000,
          50000,
          200000,
          35000,
          35000,
          50000,
          200000,
          35000,
          35000,
          50000,
          200000,
          35000,
          35000,
          50000,
          200000,
          35000,
          35000,
          50000,
          200000,
          35000,
          35000,
          50000,
          200000,
          35000,
          35000,
          50000,
          200000,
          35000,
          35000,
          50000,
          200000,
          35000,
          35000,
          50000,
          200000,
          35000,
          35000,
          50000,
          200000,
          35000,
          35000,
          50000,
          200000,
          35000,
          35000,
          50000,
          200000,
          35000,
          35000,
          50000,
          200000,
          35000,
          35000,
          50000,
          200000,
          35000,
          35000,
          50000,
          200000,
          35000,
          35000,
          50000,
          200000,
          35000,
          35000,
          50000,
          200000,
          35000,
          35000,
          50000,
          200000,
          35000,
          35000,
          50000,
          200000,
          35000
         ],
         "y0": " ",
         "yaxis": "y"
        },
        {
         "alignmentgroup": "True",
         "hovertemplate": "Регион=%{x}<br>Зарплата от, руб.=%{y}<extra></extra>",
         "legendgroup": "Санкт-Петербург",
         "marker": {
          "color": "#FFA15A"
         },
         "name": "Санкт-Петербург",
         "notched": false,
         "offsetgroup": "Санкт-Петербург",
         "orientation": "v",
         "showlegend": true,
         "type": "box",
         "x": [
          "Санкт-Петербург",
          "Санкт-Петербург",
          "Санкт-Петербург",
          "Санкт-Петербург",
          "Санкт-Петербург",
          "Санкт-Петербург",
          "Санкт-Петербург",
          "Санкт-Петербург",
          "Санкт-Петербург",
          "Санкт-Петербург",
          "Санкт-Петербург",
          "Санкт-Петербург",
          "Санкт-Петербург",
          "Санкт-Петербург",
          "Санкт-Петербург",
          "Санкт-Петербург",
          "Санкт-Петербург",
          "Санкт-Петербург",
          "Санкт-Петербург",
          "Санкт-Петербург",
          "Санкт-Петербург",
          "Санкт-Петербург",
          "Санкт-Петербург",
          "Санкт-Петербург",
          "Санкт-Петербург",
          "Санкт-Петербург",
          "Санкт-Петербург",
          "Санкт-Петербург",
          "Санкт-Петербург",
          "Санкт-Петербург",
          "Санкт-Петербург",
          "Санкт-Петербург",
          "Санкт-Петербург",
          "Санкт-Петербург",
          "Санкт-Петербург",
          "Санкт-Петербург",
          "Санкт-Петербург",
          "Санкт-Петербург",
          "Санкт-Петербург",
          "Санкт-Петербург",
          "Санкт-Петербург",
          "Санкт-Петербург",
          "Санкт-Петербург",
          "Санкт-Петербург",
          "Санкт-Петербург",
          "Санкт-Петербург",
          "Санкт-Петербург",
          "Санкт-Петербург",
          "Санкт-Петербург",
          "Санкт-Петербург",
          "Санкт-Петербург",
          "Санкт-Петербург",
          "Санкт-Петербург",
          "Санкт-Петербург",
          "Санкт-Петербург",
          "Санкт-Петербург",
          "Санкт-Петербург",
          "Санкт-Петербург",
          "Санкт-Петербург",
          "Санкт-Петербург"
         ],
         "x0": " ",
         "xaxis": "x",
         "y": [
          60000,
          60000,
          80000,
          60000,
          60000,
          80000,
          60000,
          60000,
          80000,
          60000,
          60000,
          80000,
          60000,
          60000,
          80000,
          60000,
          60000,
          80000,
          60000,
          60000,
          80000,
          60000,
          60000,
          80000,
          60000,
          60000,
          80000,
          60000,
          60000,
          80000,
          60000,
          60000,
          80000,
          60000,
          60000,
          80000,
          60000,
          60000,
          80000,
          60000,
          60000,
          80000,
          60000,
          60000,
          80000,
          60000,
          60000,
          80000,
          60000,
          60000,
          80000,
          60000,
          60000,
          80000,
          60000,
          60000,
          80000,
          60000,
          60000,
          80000
         ],
         "y0": " ",
         "yaxis": "y"
        },
        {
         "alignmentgroup": "True",
         "hovertemplate": "Регион=%{x}<br>Зарплата от, руб.=%{y}<extra></extra>",
         "legendgroup": "Тула",
         "marker": {
          "color": "#19d3f3"
         },
         "name": "Тула",
         "notched": false,
         "offsetgroup": "Тула",
         "orientation": "v",
         "showlegend": true,
         "type": "box",
         "x": [
          "Тула",
          "Тула",
          "Тула",
          "Тула",
          "Тула",
          "Тула",
          "Тула",
          "Тула",
          "Тула",
          "Тула",
          "Тула",
          "Тула",
          "Тула",
          "Тула",
          "Тула",
          "Тула",
          "Тула",
          "Тула",
          "Тула",
          "Тула",
          "Тула",
          "Тула",
          "Тула",
          "Тула",
          "Тула",
          "Тула",
          "Тула",
          "Тула",
          "Тула",
          "Тула",
          "Тула",
          "Тула",
          "Тула",
          "Тула",
          "Тула",
          "Тула",
          "Тула",
          "Тула",
          "Тула",
          "Тула",
          "Тула",
          "Тула",
          "Тула",
          "Тула",
          "Тула",
          "Тула",
          "Тула",
          "Тула",
          "Тула",
          "Тула",
          "Тула",
          "Тула",
          "Тула",
          "Тула",
          "Тула",
          "Тула",
          "Тула",
          "Тула",
          "Тула",
          "Тула"
         ],
         "x0": " ",
         "xaxis": "x",
         "y": [
          50000,
          114000,
          35000,
          50000,
          114000,
          35000,
          50000,
          114000,
          35000,
          50000,
          114000,
          35000,
          50000,
          114000,
          35000,
          50000,
          114000,
          35000,
          50000,
          114000,
          35000,
          50000,
          114000,
          35000,
          50000,
          114000,
          35000,
          50000,
          114000,
          35000,
          50000,
          114000,
          35000,
          50000,
          114000,
          35000,
          50000,
          114000,
          35000,
          50000,
          114000,
          35000,
          50000,
          114000,
          35000,
          50000,
          114000,
          35000,
          50000,
          114000,
          35000,
          50000,
          114000,
          35000,
          50000,
          114000,
          35000,
          50000,
          114000,
          35000
         ],
         "y0": " ",
         "yaxis": "y"
        },
        {
         "alignmentgroup": "True",
         "hovertemplate": "Регион=%{x}<br>Зарплата от, руб.=%{y}<extra></extra>",
         "legendgroup": "Самара",
         "marker": {
          "color": "#FF6692"
         },
         "name": "Самара",
         "notched": false,
         "offsetgroup": "Самара",
         "orientation": "v",
         "showlegend": true,
         "type": "box",
         "x": [
          "Самара",
          "Самара",
          "Самара",
          "Самара",
          "Самара",
          "Самара",
          "Самара",
          "Самара",
          "Самара",
          "Самара",
          "Самара",
          "Самара",
          "Самара",
          "Самара",
          "Самара",
          "Самара",
          "Самара",
          "Самара",
          "Самара",
          "Самара",
          "Самара",
          "Самара",
          "Самара",
          "Самара",
          "Самара",
          "Самара",
          "Самара",
          "Самара",
          "Самара",
          "Самара",
          "Самара",
          "Самара",
          "Самара",
          "Самара",
          "Самара",
          "Самара",
          "Самара",
          "Самара",
          "Самара",
          "Самара"
         ],
         "x0": " ",
         "xaxis": "x",
         "y": [
          50000,
          80000,
          50000,
          80000,
          50000,
          80000,
          50000,
          80000,
          50000,
          80000,
          50000,
          80000,
          50000,
          80000,
          50000,
          80000,
          50000,
          80000,
          50000,
          80000,
          50000,
          80000,
          50000,
          80000,
          50000,
          80000,
          50000,
          80000,
          50000,
          80000,
          50000,
          80000,
          50000,
          80000,
          50000,
          80000,
          50000,
          80000,
          50000,
          80000
         ],
         "y0": " ",
         "yaxis": "y"
        }
       ],
       "layout": {
        "boxmode": "overlay",
        "legend": {
         "title": {
          "text": "Регион"
         },
         "tracegroupgap": 0
        },
        "margin": {
         "t": 60
        },
        "template": {
         "data": {
          "bar": [
           {
            "error_x": {
             "color": "#2a3f5f"
            },
            "error_y": {
             "color": "#2a3f5f"
            },
            "marker": {
             "line": {
              "color": "#E5ECF6",
              "width": 0.5
             },
             "pattern": {
              "fillmode": "overlay",
              "size": 10,
              "solidity": 0.2
             }
            },
            "type": "bar"
           }
          ],
          "barpolar": [
           {
            "marker": {
             "line": {
              "color": "#E5ECF6",
              "width": 0.5
             },
             "pattern": {
              "fillmode": "overlay",
              "size": 10,
              "solidity": 0.2
             }
            },
            "type": "barpolar"
           }
          ],
          "carpet": [
           {
            "aaxis": {
             "endlinecolor": "#2a3f5f",
             "gridcolor": "white",
             "linecolor": "white",
             "minorgridcolor": "white",
             "startlinecolor": "#2a3f5f"
            },
            "baxis": {
             "endlinecolor": "#2a3f5f",
             "gridcolor": "white",
             "linecolor": "white",
             "minorgridcolor": "white",
             "startlinecolor": "#2a3f5f"
            },
            "type": "carpet"
           }
          ],
          "choropleth": [
           {
            "colorbar": {
             "outlinewidth": 0,
             "ticks": ""
            },
            "type": "choropleth"
           }
          ],
          "contour": [
           {
            "colorbar": {
             "outlinewidth": 0,
             "ticks": ""
            },
            "colorscale": [
             [
              0,
              "#0d0887"
             ],
             [
              0.1111111111111111,
              "#46039f"
             ],
             [
              0.2222222222222222,
              "#7201a8"
             ],
             [
              0.3333333333333333,
              "#9c179e"
             ],
             [
              0.4444444444444444,
              "#bd3786"
             ],
             [
              0.5555555555555556,
              "#d8576b"
             ],
             [
              0.6666666666666666,
              "#ed7953"
             ],
             [
              0.7777777777777778,
              "#fb9f3a"
             ],
             [
              0.8888888888888888,
              "#fdca26"
             ],
             [
              1,
              "#f0f921"
             ]
            ],
            "type": "contour"
           }
          ],
          "contourcarpet": [
           {
            "colorbar": {
             "outlinewidth": 0,
             "ticks": ""
            },
            "type": "contourcarpet"
           }
          ],
          "heatmap": [
           {
            "colorbar": {
             "outlinewidth": 0,
             "ticks": ""
            },
            "colorscale": [
             [
              0,
              "#0d0887"
             ],
             [
              0.1111111111111111,
              "#46039f"
             ],
             [
              0.2222222222222222,
              "#7201a8"
             ],
             [
              0.3333333333333333,
              "#9c179e"
             ],
             [
              0.4444444444444444,
              "#bd3786"
             ],
             [
              0.5555555555555556,
              "#d8576b"
             ],
             [
              0.6666666666666666,
              "#ed7953"
             ],
             [
              0.7777777777777778,
              "#fb9f3a"
             ],
             [
              0.8888888888888888,
              "#fdca26"
             ],
             [
              1,
              "#f0f921"
             ]
            ],
            "type": "heatmap"
           }
          ],
          "heatmapgl": [
           {
            "colorbar": {
             "outlinewidth": 0,
             "ticks": ""
            },
            "colorscale": [
             [
              0,
              "#0d0887"
             ],
             [
              0.1111111111111111,
              "#46039f"
             ],
             [
              0.2222222222222222,
              "#7201a8"
             ],
             [
              0.3333333333333333,
              "#9c179e"
             ],
             [
              0.4444444444444444,
              "#bd3786"
             ],
             [
              0.5555555555555556,
              "#d8576b"
             ],
             [
              0.6666666666666666,
              "#ed7953"
             ],
             [
              0.7777777777777778,
              "#fb9f3a"
             ],
             [
              0.8888888888888888,
              "#fdca26"
             ],
             [
              1,
              "#f0f921"
             ]
            ],
            "type": "heatmapgl"
           }
          ],
          "histogram": [
           {
            "marker": {
             "pattern": {
              "fillmode": "overlay",
              "size": 10,
              "solidity": 0.2
             }
            },
            "type": "histogram"
           }
          ],
          "histogram2d": [
           {
            "colorbar": {
             "outlinewidth": 0,
             "ticks": ""
            },
            "colorscale": [
             [
              0,
              "#0d0887"
             ],
             [
              0.1111111111111111,
              "#46039f"
             ],
             [
              0.2222222222222222,
              "#7201a8"
             ],
             [
              0.3333333333333333,
              "#9c179e"
             ],
             [
              0.4444444444444444,
              "#bd3786"
             ],
             [
              0.5555555555555556,
              "#d8576b"
             ],
             [
              0.6666666666666666,
              "#ed7953"
             ],
             [
              0.7777777777777778,
              "#fb9f3a"
             ],
             [
              0.8888888888888888,
              "#fdca26"
             ],
             [
              1,
              "#f0f921"
             ]
            ],
            "type": "histogram2d"
           }
          ],
          "histogram2dcontour": [
           {
            "colorbar": {
             "outlinewidth": 0,
             "ticks": ""
            },
            "colorscale": [
             [
              0,
              "#0d0887"
             ],
             [
              0.1111111111111111,
              "#46039f"
             ],
             [
              0.2222222222222222,
              "#7201a8"
             ],
             [
              0.3333333333333333,
              "#9c179e"
             ],
             [
              0.4444444444444444,
              "#bd3786"
             ],
             [
              0.5555555555555556,
              "#d8576b"
             ],
             [
              0.6666666666666666,
              "#ed7953"
             ],
             [
              0.7777777777777778,
              "#fb9f3a"
             ],
             [
              0.8888888888888888,
              "#fdca26"
             ],
             [
              1,
              "#f0f921"
             ]
            ],
            "type": "histogram2dcontour"
           }
          ],
          "mesh3d": [
           {
            "colorbar": {
             "outlinewidth": 0,
             "ticks": ""
            },
            "type": "mesh3d"
           }
          ],
          "parcoords": [
           {
            "line": {
             "colorbar": {
              "outlinewidth": 0,
              "ticks": ""
             }
            },
            "type": "parcoords"
           }
          ],
          "pie": [
           {
            "automargin": true,
            "type": "pie"
           }
          ],
          "scatter": [
           {
            "fillpattern": {
             "fillmode": "overlay",
             "size": 10,
             "solidity": 0.2
            },
            "type": "scatter"
           }
          ],
          "scatter3d": [
           {
            "line": {
             "colorbar": {
              "outlinewidth": 0,
              "ticks": ""
             }
            },
            "marker": {
             "colorbar": {
              "outlinewidth": 0,
              "ticks": ""
             }
            },
            "type": "scatter3d"
           }
          ],
          "scattercarpet": [
           {
            "marker": {
             "colorbar": {
              "outlinewidth": 0,
              "ticks": ""
             }
            },
            "type": "scattercarpet"
           }
          ],
          "scattergeo": [
           {
            "marker": {
             "colorbar": {
              "outlinewidth": 0,
              "ticks": ""
             }
            },
            "type": "scattergeo"
           }
          ],
          "scattergl": [
           {
            "marker": {
             "colorbar": {
              "outlinewidth": 0,
              "ticks": ""
             }
            },
            "type": "scattergl"
           }
          ],
          "scattermapbox": [
           {
            "marker": {
             "colorbar": {
              "outlinewidth": 0,
              "ticks": ""
             }
            },
            "type": "scattermapbox"
           }
          ],
          "scatterpolar": [
           {
            "marker": {
             "colorbar": {
              "outlinewidth": 0,
              "ticks": ""
             }
            },
            "type": "scatterpolar"
           }
          ],
          "scatterpolargl": [
           {
            "marker": {
             "colorbar": {
              "outlinewidth": 0,
              "ticks": ""
             }
            },
            "type": "scatterpolargl"
           }
          ],
          "scatterternary": [
           {
            "marker": {
             "colorbar": {
              "outlinewidth": 0,
              "ticks": ""
             }
            },
            "type": "scatterternary"
           }
          ],
          "surface": [
           {
            "colorbar": {
             "outlinewidth": 0,
             "ticks": ""
            },
            "colorscale": [
             [
              0,
              "#0d0887"
             ],
             [
              0.1111111111111111,
              "#46039f"
             ],
             [
              0.2222222222222222,
              "#7201a8"
             ],
             [
              0.3333333333333333,
              "#9c179e"
             ],
             [
              0.4444444444444444,
              "#bd3786"
             ],
             [
              0.5555555555555556,
              "#d8576b"
             ],
             [
              0.6666666666666666,
              "#ed7953"
             ],
             [
              0.7777777777777778,
              "#fb9f3a"
             ],
             [
              0.8888888888888888,
              "#fdca26"
             ],
             [
              1,
              "#f0f921"
             ]
            ],
            "type": "surface"
           }
          ],
          "table": [
           {
            "cells": {
             "fill": {
              "color": "#EBF0F8"
             },
             "line": {
              "color": "white"
             }
            },
            "header": {
             "fill": {
              "color": "#C8D4E3"
             },
             "line": {
              "color": "white"
             }
            },
            "type": "table"
           }
          ]
         },
         "layout": {
          "annotationdefaults": {
           "arrowcolor": "#2a3f5f",
           "arrowhead": 0,
           "arrowwidth": 1
          },
          "autotypenumbers": "strict",
          "coloraxis": {
           "colorbar": {
            "outlinewidth": 0,
            "ticks": ""
           }
          },
          "colorscale": {
           "diverging": [
            [
             0,
             "#8e0152"
            ],
            [
             0.1,
             "#c51b7d"
            ],
            [
             0.2,
             "#de77ae"
            ],
            [
             0.3,
             "#f1b6da"
            ],
            [
             0.4,
             "#fde0ef"
            ],
            [
             0.5,
             "#f7f7f7"
            ],
            [
             0.6,
             "#e6f5d0"
            ],
            [
             0.7,
             "#b8e186"
            ],
            [
             0.8,
             "#7fbc41"
            ],
            [
             0.9,
             "#4d9221"
            ],
            [
             1,
             "#276419"
            ]
           ],
           "sequential": [
            [
             0,
             "#0d0887"
            ],
            [
             0.1111111111111111,
             "#46039f"
            ],
            [
             0.2222222222222222,
             "#7201a8"
            ],
            [
             0.3333333333333333,
             "#9c179e"
            ],
            [
             0.4444444444444444,
             "#bd3786"
            ],
            [
             0.5555555555555556,
             "#d8576b"
            ],
            [
             0.6666666666666666,
             "#ed7953"
            ],
            [
             0.7777777777777778,
             "#fb9f3a"
            ],
            [
             0.8888888888888888,
             "#fdca26"
            ],
            [
             1,
             "#f0f921"
            ]
           ],
           "sequentialminus": [
            [
             0,
             "#0d0887"
            ],
            [
             0.1111111111111111,
             "#46039f"
            ],
            [
             0.2222222222222222,
             "#7201a8"
            ],
            [
             0.3333333333333333,
             "#9c179e"
            ],
            [
             0.4444444444444444,
             "#bd3786"
            ],
            [
             0.5555555555555556,
             "#d8576b"
            ],
            [
             0.6666666666666666,
             "#ed7953"
            ],
            [
             0.7777777777777778,
             "#fb9f3a"
            ],
            [
             0.8888888888888888,
             "#fdca26"
            ],
            [
             1,
             "#f0f921"
            ]
           ]
          },
          "colorway": [
           "#636efa",
           "#EF553B",
           "#00cc96",
           "#ab63fa",
           "#FFA15A",
           "#19d3f3",
           "#FF6692",
           "#B6E880",
           "#FF97FF",
           "#FECB52"
          ],
          "font": {
           "color": "#2a3f5f"
          },
          "geo": {
           "bgcolor": "white",
           "lakecolor": "white",
           "landcolor": "#E5ECF6",
           "showlakes": true,
           "showland": true,
           "subunitcolor": "white"
          },
          "hoverlabel": {
           "align": "left"
          },
          "hovermode": "closest",
          "mapbox": {
           "style": "light"
          },
          "paper_bgcolor": "white",
          "plot_bgcolor": "#E5ECF6",
          "polar": {
           "angularaxis": {
            "gridcolor": "white",
            "linecolor": "white",
            "ticks": ""
           },
           "bgcolor": "#E5ECF6",
           "radialaxis": {
            "gridcolor": "white",
            "linecolor": "white",
            "ticks": ""
           }
          },
          "scene": {
           "xaxis": {
            "backgroundcolor": "#E5ECF6",
            "gridcolor": "white",
            "gridwidth": 2,
            "linecolor": "white",
            "showbackground": true,
            "ticks": "",
            "zerolinecolor": "white"
           },
           "yaxis": {
            "backgroundcolor": "#E5ECF6",
            "gridcolor": "white",
            "gridwidth": 2,
            "linecolor": "white",
            "showbackground": true,
            "ticks": "",
            "zerolinecolor": "white"
           },
           "zaxis": {
            "backgroundcolor": "#E5ECF6",
            "gridcolor": "white",
            "gridwidth": 2,
            "linecolor": "white",
            "showbackground": true,
            "ticks": "",
            "zerolinecolor": "white"
           }
          },
          "shapedefaults": {
           "line": {
            "color": "#2a3f5f"
           }
          },
          "ternary": {
           "aaxis": {
            "gridcolor": "white",
            "linecolor": "white",
            "ticks": ""
           },
           "baxis": {
            "gridcolor": "white",
            "linecolor": "white",
            "ticks": ""
           },
           "bgcolor": "#E5ECF6",
           "caxis": {
            "gridcolor": "white",
            "linecolor": "white",
            "ticks": ""
           }
          },
          "title": {
           "x": 0.05
          },
          "xaxis": {
           "automargin": true,
           "gridcolor": "white",
           "linecolor": "white",
           "ticks": "",
           "title": {
            "standoff": 15
           },
           "zerolinecolor": "white",
           "zerolinewidth": 2
          },
          "yaxis": {
           "automargin": true,
           "gridcolor": "white",
           "linecolor": "white",
           "ticks": "",
           "title": {
            "standoff": 15
           },
           "zerolinecolor": "white",
           "zerolinewidth": 2
          }
         }
        },
        "xaxis": {
         "anchor": "y",
         "categoryarray": [
          "Нижний Новгород",
          "Москва",
          "Новосибирск",
          "Екатеринбург",
          "Санкт-Петербург",
          "Тула",
          "Самара"
         ],
         "categoryorder": "array",
         "domain": [
          0,
          1
         ],
         "title": {
          "text": "Регион"
         }
        },
        "yaxis": {
         "anchor": "x",
         "domain": [
          0,
          1
         ],
         "title": {
          "text": "Зарплата от, руб."
         }
        }
       }
      },
      "text/html": [
       "<div>                            <div id=\"aef5d751-acbb-4b8d-aaa0-f212e521facf\" class=\"plotly-graph-div\" style=\"height:525px; width:100%;\"></div>            <script type=\"text/javascript\">                require([\"plotly\"], function(Plotly) {                    window.PLOTLYENV=window.PLOTLYENV || {};                                    if (document.getElementById(\"aef5d751-acbb-4b8d-aaa0-f212e521facf\")) {                    Plotly.newPlot(                        \"aef5d751-acbb-4b8d-aaa0-f212e521facf\",                        [{\"alignmentgroup\":\"True\",\"hovertemplate\":\"\\u0420\\u0435\\u0433\\u0438\\u043e\\u043d=%{x}<br>\\u0417\\u0430\\u0440\\u043f\\u043b\\u0430\\u0442\\u0430 \\u043e\\u0442, \\u0440\\u0443\\u0431.=%{y}<extra></extra>\",\"legendgroup\":\"\\u041d\\u0438\\u0436\\u043d\\u0438\\u0439 \\u041d\\u043e\\u0432\\u0433\\u043e\\u0440\\u043e\\u0434\",\"marker\":{\"color\":\"#636efa\"},\"name\":\"\\u041d\\u0438\\u0436\\u043d\\u0438\\u0439 \\u041d\\u043e\\u0432\\u0433\\u043e\\u0440\\u043e\\u0434\",\"notched\":false,\"offsetgroup\":\"\\u041d\\u0438\\u0436\\u043d\\u0438\\u0439 \\u041d\\u043e\\u0432\\u0433\\u043e\\u0440\\u043e\\u0434\",\"orientation\":\"v\",\"showlegend\":true,\"x\":[\"\\u041d\\u0438\\u0436\\u043d\\u0438\\u0439 \\u041d\\u043e\\u0432\\u0433\\u043e\\u0440\\u043e\\u0434\",\"\\u041d\\u0438\\u0436\\u043d\\u0438\\u0439 \\u041d\\u043e\\u0432\\u0433\\u043e\\u0440\\u043e\\u0434\",\"\\u041d\\u0438\\u0436\\u043d\\u0438\\u0439 \\u041d\\u043e\\u0432\\u0433\\u043e\\u0440\\u043e\\u0434\",\"\\u041d\\u0438\\u0436\\u043d\\u0438\\u0439 \\u041d\\u043e\\u0432\\u0433\\u043e\\u0440\\u043e\\u0434\",\"\\u041d\\u0438\\u0436\\u043d\\u0438\\u0439 \\u041d\\u043e\\u0432\\u0433\\u043e\\u0440\\u043e\\u0434\",\"\\u041d\\u0438\\u0436\\u043d\\u0438\\u0439 \\u041d\\u043e\\u0432\\u0433\\u043e\\u0440\\u043e\\u0434\",\"\\u041d\\u0438\\u0436\\u043d\\u0438\\u0439 \\u041d\\u043e\\u0432\\u0433\\u043e\\u0440\\u043e\\u0434\",\"\\u041d\\u0438\\u0436\\u043d\\u0438\\u0439 \\u041d\\u043e\\u0432\\u0433\\u043e\\u0440\\u043e\\u0434\",\"\\u041d\\u0438\\u0436\\u043d\\u0438\\u0439 \\u041d\\u043e\\u0432\\u0433\\u043e\\u0440\\u043e\\u0434\",\"\\u041d\\u0438\\u0436\\u043d\\u0438\\u0439 \\u041d\\u043e\\u0432\\u0433\\u043e\\u0440\\u043e\\u0434\",\"\\u041d\\u0438\\u0436\\u043d\\u0438\\u0439 \\u041d\\u043e\\u0432\\u0433\\u043e\\u0440\\u043e\\u0434\",\"\\u041d\\u0438\\u0436\\u043d\\u0438\\u0439 \\u041d\\u043e\\u0432\\u0433\\u043e\\u0440\\u043e\\u0434\",\"\\u041d\\u0438\\u0436\\u043d\\u0438\\u0439 \\u041d\\u043e\\u0432\\u0433\\u043e\\u0440\\u043e\\u0434\",\"\\u041d\\u0438\\u0436\\u043d\\u0438\\u0439 \\u041d\\u043e\\u0432\\u0433\\u043e\\u0440\\u043e\\u0434\",\"\\u041d\\u0438\\u0436\\u043d\\u0438\\u0439 \\u041d\\u043e\\u0432\\u0433\\u043e\\u0440\\u043e\\u0434\",\"\\u041d\\u0438\\u0436\\u043d\\u0438\\u0439 \\u041d\\u043e\\u0432\\u0433\\u043e\\u0440\\u043e\\u0434\",\"\\u041d\\u0438\\u0436\\u043d\\u0438\\u0439 \\u041d\\u043e\\u0432\\u0433\\u043e\\u0440\\u043e\\u0434\",\"\\u041d\\u0438\\u0436\\u043d\\u0438\\u0439 \\u041d\\u043e\\u0432\\u0433\\u043e\\u0440\\u043e\\u0434\",\"\\u041d\\u0438\\u0436\\u043d\\u0438\\u0439 \\u041d\\u043e\\u0432\\u0433\\u043e\\u0440\\u043e\\u0434\",\"\\u041d\\u0438\\u0436\\u043d\\u0438\\u0439 \\u041d\\u043e\\u0432\\u0433\\u043e\\u0440\\u043e\\u0434\",\"\\u041d\\u0438\\u0436\\u043d\\u0438\\u0439 \\u041d\\u043e\\u0432\\u0433\\u043e\\u0440\\u043e\\u0434\",\"\\u041d\\u0438\\u0436\\u043d\\u0438\\u0439 \\u041d\\u043e\\u0432\\u0433\\u043e\\u0440\\u043e\\u0434\",\"\\u041d\\u0438\\u0436\\u043d\\u0438\\u0439 \\u041d\\u043e\\u0432\\u0433\\u043e\\u0440\\u043e\\u0434\",\"\\u041d\\u0438\\u0436\\u043d\\u0438\\u0439 \\u041d\\u043e\\u0432\\u0433\\u043e\\u0440\\u043e\\u0434\",\"\\u041d\\u0438\\u0436\\u043d\\u0438\\u0439 \\u041d\\u043e\\u0432\\u0433\\u043e\\u0440\\u043e\\u0434\",\"\\u041d\\u0438\\u0436\\u043d\\u0438\\u0439 \\u041d\\u043e\\u0432\\u0433\\u043e\\u0440\\u043e\\u0434\",\"\\u041d\\u0438\\u0436\\u043d\\u0438\\u0439 \\u041d\\u043e\\u0432\\u0433\\u043e\\u0440\\u043e\\u0434\",\"\\u041d\\u0438\\u0436\\u043d\\u0438\\u0439 \\u041d\\u043e\\u0432\\u0433\\u043e\\u0440\\u043e\\u0434\",\"\\u041d\\u0438\\u0436\\u043d\\u0438\\u0439 \\u041d\\u043e\\u0432\\u0433\\u043e\\u0440\\u043e\\u0434\",\"\\u041d\\u0438\\u0436\\u043d\\u0438\\u0439 \\u041d\\u043e\\u0432\\u0433\\u043e\\u0440\\u043e\\u0434\",\"\\u041d\\u0438\\u0436\\u043d\\u0438\\u0439 \\u041d\\u043e\\u0432\\u0433\\u043e\\u0440\\u043e\\u0434\",\"\\u041d\\u0438\\u0436\\u043d\\u0438\\u0439 \\u041d\\u043e\\u0432\\u0433\\u043e\\u0440\\u043e\\u0434\",\"\\u041d\\u0438\\u0436\\u043d\\u0438\\u0439 \\u041d\\u043e\\u0432\\u0433\\u043e\\u0440\\u043e\\u0434\",\"\\u041d\\u0438\\u0436\\u043d\\u0438\\u0439 \\u041d\\u043e\\u0432\\u0433\\u043e\\u0440\\u043e\\u0434\",\"\\u041d\\u0438\\u0436\\u043d\\u0438\\u0439 \\u041d\\u043e\\u0432\\u0433\\u043e\\u0440\\u043e\\u0434\",\"\\u041d\\u0438\\u0436\\u043d\\u0438\\u0439 \\u041d\\u043e\\u0432\\u0433\\u043e\\u0440\\u043e\\u0434\",\"\\u041d\\u0438\\u0436\\u043d\\u0438\\u0439 \\u041d\\u043e\\u0432\\u0433\\u043e\\u0440\\u043e\\u0434\",\"\\u041d\\u0438\\u0436\\u043d\\u0438\\u0439 \\u041d\\u043e\\u0432\\u0433\\u043e\\u0440\\u043e\\u0434\",\"\\u041d\\u0438\\u0436\\u043d\\u0438\\u0439 \\u041d\\u043e\\u0432\\u0433\\u043e\\u0440\\u043e\\u0434\",\"\\u041d\\u0438\\u0436\\u043d\\u0438\\u0439 \\u041d\\u043e\\u0432\\u0433\\u043e\\u0440\\u043e\\u0434\",\"\\u041d\\u0438\\u0436\\u043d\\u0438\\u0439 \\u041d\\u043e\\u0432\\u0433\\u043e\\u0440\\u043e\\u0434\",\"\\u041d\\u0438\\u0436\\u043d\\u0438\\u0439 \\u041d\\u043e\\u0432\\u0433\\u043e\\u0440\\u043e\\u0434\",\"\\u041d\\u0438\\u0436\\u043d\\u0438\\u0439 \\u041d\\u043e\\u0432\\u0433\\u043e\\u0440\\u043e\\u0434\",\"\\u041d\\u0438\\u0436\\u043d\\u0438\\u0439 \\u041d\\u043e\\u0432\\u0433\\u043e\\u0440\\u043e\\u0434\",\"\\u041d\\u0438\\u0436\\u043d\\u0438\\u0439 \\u041d\\u043e\\u0432\\u0433\\u043e\\u0440\\u043e\\u0434\",\"\\u041d\\u0438\\u0436\\u043d\\u0438\\u0439 \\u041d\\u043e\\u0432\\u0433\\u043e\\u0440\\u043e\\u0434\",\"\\u041d\\u0438\\u0436\\u043d\\u0438\\u0439 \\u041d\\u043e\\u0432\\u0433\\u043e\\u0440\\u043e\\u0434\",\"\\u041d\\u0438\\u0436\\u043d\\u0438\\u0439 \\u041d\\u043e\\u0432\\u0433\\u043e\\u0440\\u043e\\u0434\",\"\\u041d\\u0438\\u0436\\u043d\\u0438\\u0439 \\u041d\\u043e\\u0432\\u0433\\u043e\\u0440\\u043e\\u0434\",\"\\u041d\\u0438\\u0436\\u043d\\u0438\\u0439 \\u041d\\u043e\\u0432\\u0433\\u043e\\u0440\\u043e\\u0434\",\"\\u041d\\u0438\\u0436\\u043d\\u0438\\u0439 \\u041d\\u043e\\u0432\\u0433\\u043e\\u0440\\u043e\\u0434\",\"\\u041d\\u0438\\u0436\\u043d\\u0438\\u0439 \\u041d\\u043e\\u0432\\u0433\\u043e\\u0440\\u043e\\u0434\",\"\\u041d\\u0438\\u0436\\u043d\\u0438\\u0439 \\u041d\\u043e\\u0432\\u0433\\u043e\\u0440\\u043e\\u0434\",\"\\u041d\\u0438\\u0436\\u043d\\u0438\\u0439 \\u041d\\u043e\\u0432\\u0433\\u043e\\u0440\\u043e\\u0434\",\"\\u041d\\u0438\\u0436\\u043d\\u0438\\u0439 \\u041d\\u043e\\u0432\\u0433\\u043e\\u0440\\u043e\\u0434\",\"\\u041d\\u0438\\u0436\\u043d\\u0438\\u0439 \\u041d\\u043e\\u0432\\u0433\\u043e\\u0440\\u043e\\u0434\",\"\\u041d\\u0438\\u0436\\u043d\\u0438\\u0439 \\u041d\\u043e\\u0432\\u0433\\u043e\\u0440\\u043e\\u0434\",\"\\u041d\\u0438\\u0436\\u043d\\u0438\\u0439 \\u041d\\u043e\\u0432\\u0433\\u043e\\u0440\\u043e\\u0434\",\"\\u041d\\u0438\\u0436\\u043d\\u0438\\u0439 \\u041d\\u043e\\u0432\\u0433\\u043e\\u0440\\u043e\\u0434\",\"\\u041d\\u0438\\u0436\\u043d\\u0438\\u0439 \\u041d\\u043e\\u0432\\u0433\\u043e\\u0440\\u043e\\u0434\",\"\\u041d\\u0438\\u0436\\u043d\\u0438\\u0439 \\u041d\\u043e\\u0432\\u0433\\u043e\\u0440\\u043e\\u0434\",\"\\u041d\\u0438\\u0436\\u043d\\u0438\\u0439 \\u041d\\u043e\\u0432\\u0433\\u043e\\u0440\\u043e\\u0434\",\"\\u041d\\u0438\\u0436\\u043d\\u0438\\u0439 \\u041d\\u043e\\u0432\\u0433\\u043e\\u0440\\u043e\\u0434\",\"\\u041d\\u0438\\u0436\\u043d\\u0438\\u0439 \\u041d\\u043e\\u0432\\u0433\\u043e\\u0440\\u043e\\u0434\",\"\\u041d\\u0438\\u0436\\u043d\\u0438\\u0439 \\u041d\\u043e\\u0432\\u0433\\u043e\\u0440\\u043e\\u0434\",\"\\u041d\\u0438\\u0436\\u043d\\u0438\\u0439 \\u041d\\u043e\\u0432\\u0433\\u043e\\u0440\\u043e\\u0434\",\"\\u041d\\u0438\\u0436\\u043d\\u0438\\u0439 \\u041d\\u043e\\u0432\\u0433\\u043e\\u0440\\u043e\\u0434\",\"\\u041d\\u0438\\u0436\\u043d\\u0438\\u0439 \\u041d\\u043e\\u0432\\u0433\\u043e\\u0440\\u043e\\u0434\",\"\\u041d\\u0438\\u0436\\u043d\\u0438\\u0439 \\u041d\\u043e\\u0432\\u0433\\u043e\\u0440\\u043e\\u0434\",\"\\u041d\\u0438\\u0436\\u043d\\u0438\\u0439 \\u041d\\u043e\\u0432\\u0433\\u043e\\u0440\\u043e\\u0434\",\"\\u041d\\u0438\\u0436\\u043d\\u0438\\u0439 \\u041d\\u043e\\u0432\\u0433\\u043e\\u0440\\u043e\\u0434\",\"\\u041d\\u0438\\u0436\\u043d\\u0438\\u0439 \\u041d\\u043e\\u0432\\u0433\\u043e\\u0440\\u043e\\u0434\",\"\\u041d\\u0438\\u0436\\u043d\\u0438\\u0439 \\u041d\\u043e\\u0432\\u0433\\u043e\\u0440\\u043e\\u0434\",\"\\u041d\\u0438\\u0436\\u043d\\u0438\\u0439 \\u041d\\u043e\\u0432\\u0433\\u043e\\u0440\\u043e\\u0434\",\"\\u041d\\u0438\\u0436\\u043d\\u0438\\u0439 \\u041d\\u043e\\u0432\\u0433\\u043e\\u0440\\u043e\\u0434\",\"\\u041d\\u0438\\u0436\\u043d\\u0438\\u0439 \\u041d\\u043e\\u0432\\u0433\\u043e\\u0440\\u043e\\u0434\",\"\\u041d\\u0438\\u0436\\u043d\\u0438\\u0439 \\u041d\\u043e\\u0432\\u0433\\u043e\\u0440\\u043e\\u0434\",\"\\u041d\\u0438\\u0436\\u043d\\u0438\\u0439 \\u041d\\u043e\\u0432\\u0433\\u043e\\u0440\\u043e\\u0434\",\"\\u041d\\u0438\\u0436\\u043d\\u0438\\u0439 \\u041d\\u043e\\u0432\\u0433\\u043e\\u0440\\u043e\\u0434\",\"\\u041d\\u0438\\u0436\\u043d\\u0438\\u0439 \\u041d\\u043e\\u0432\\u0433\\u043e\\u0440\\u043e\\u0434\",\"\\u041d\\u0438\\u0436\\u043d\\u0438\\u0439 \\u041d\\u043e\\u0432\\u0433\\u043e\\u0440\\u043e\\u0434\",\"\\u041d\\u0438\\u0436\\u043d\\u0438\\u0439 \\u041d\\u043e\\u0432\\u0433\\u043e\\u0440\\u043e\\u0434\",\"\\u041d\\u0438\\u0436\\u043d\\u0438\\u0439 \\u041d\\u043e\\u0432\\u0433\\u043e\\u0440\\u043e\\u0434\",\"\\u041d\\u0438\\u0436\\u043d\\u0438\\u0439 \\u041d\\u043e\\u0432\\u0433\\u043e\\u0440\\u043e\\u0434\",\"\\u041d\\u0438\\u0436\\u043d\\u0438\\u0439 \\u041d\\u043e\\u0432\\u0433\\u043e\\u0440\\u043e\\u0434\",\"\\u041d\\u0438\\u0436\\u043d\\u0438\\u0439 \\u041d\\u043e\\u0432\\u0433\\u043e\\u0440\\u043e\\u0434\",\"\\u041d\\u0438\\u0436\\u043d\\u0438\\u0439 \\u041d\\u043e\\u0432\\u0433\\u043e\\u0440\\u043e\\u0434\",\"\\u041d\\u0438\\u0436\\u043d\\u0438\\u0439 \\u041d\\u043e\\u0432\\u0433\\u043e\\u0440\\u043e\\u0434\",\"\\u041d\\u0438\\u0436\\u043d\\u0438\\u0439 \\u041d\\u043e\\u0432\\u0433\\u043e\\u0440\\u043e\\u0434\",\"\\u041d\\u0438\\u0436\\u043d\\u0438\\u0439 \\u041d\\u043e\\u0432\\u0433\\u043e\\u0440\\u043e\\u0434\",\"\\u041d\\u0438\\u0436\\u043d\\u0438\\u0439 \\u041d\\u043e\\u0432\\u0433\\u043e\\u0440\\u043e\\u0434\",\"\\u041d\\u0438\\u0436\\u043d\\u0438\\u0439 \\u041d\\u043e\\u0432\\u0433\\u043e\\u0440\\u043e\\u0434\",\"\\u041d\\u0438\\u0436\\u043d\\u0438\\u0439 \\u041d\\u043e\\u0432\\u0433\\u043e\\u0440\\u043e\\u0434\",\"\\u041d\\u0438\\u0436\\u043d\\u0438\\u0439 \\u041d\\u043e\\u0432\\u0433\\u043e\\u0440\\u043e\\u0434\",\"\\u041d\\u0438\\u0436\\u043d\\u0438\\u0439 \\u041d\\u043e\\u0432\\u0433\\u043e\\u0440\\u043e\\u0434\",\"\\u041d\\u0438\\u0436\\u043d\\u0438\\u0439 \\u041d\\u043e\\u0432\\u0433\\u043e\\u0440\\u043e\\u0434\",\"\\u041d\\u0438\\u0436\\u043d\\u0438\\u0439 \\u041d\\u043e\\u0432\\u0433\\u043e\\u0440\\u043e\\u0434\",\"\\u041d\\u0438\\u0436\\u043d\\u0438\\u0439 \\u041d\\u043e\\u0432\\u0433\\u043e\\u0440\\u043e\\u0434\",\"\\u041d\\u0438\\u0436\\u043d\\u0438\\u0439 \\u041d\\u043e\\u0432\\u0433\\u043e\\u0440\\u043e\\u0434\",\"\\u041d\\u0438\\u0436\\u043d\\u0438\\u0439 \\u041d\\u043e\\u0432\\u0433\\u043e\\u0440\\u043e\\u0434\",\"\\u041d\\u0438\\u0436\\u043d\\u0438\\u0439 \\u041d\\u043e\\u0432\\u0433\\u043e\\u0440\\u043e\\u0434\",\"\\u041d\\u0438\\u0436\\u043d\\u0438\\u0439 \\u041d\\u043e\\u0432\\u0433\\u043e\\u0440\\u043e\\u0434\",\"\\u041d\\u0438\\u0436\\u043d\\u0438\\u0439 \\u041d\\u043e\\u0432\\u0433\\u043e\\u0440\\u043e\\u0434\",\"\\u041d\\u0438\\u0436\\u043d\\u0438\\u0439 \\u041d\\u043e\\u0432\\u0433\\u043e\\u0440\\u043e\\u0434\",\"\\u041d\\u0438\\u0436\\u043d\\u0438\\u0439 \\u041d\\u043e\\u0432\\u0433\\u043e\\u0440\\u043e\\u0434\",\"\\u041d\\u0438\\u0436\\u043d\\u0438\\u0439 \\u041d\\u043e\\u0432\\u0433\\u043e\\u0440\\u043e\\u0434\",\"\\u041d\\u0438\\u0436\\u043d\\u0438\\u0439 \\u041d\\u043e\\u0432\\u0433\\u043e\\u0440\\u043e\\u0434\",\"\\u041d\\u0438\\u0436\\u043d\\u0438\\u0439 \\u041d\\u043e\\u0432\\u0433\\u043e\\u0440\\u043e\\u0434\",\"\\u041d\\u0438\\u0436\\u043d\\u0438\\u0439 \\u041d\\u043e\\u0432\\u0433\\u043e\\u0440\\u043e\\u0434\",\"\\u041d\\u0438\\u0436\\u043d\\u0438\\u0439 \\u041d\\u043e\\u0432\\u0433\\u043e\\u0440\\u043e\\u0434\",\"\\u041d\\u0438\\u0436\\u043d\\u0438\\u0439 \\u041d\\u043e\\u0432\\u0433\\u043e\\u0440\\u043e\\u0434\",\"\\u041d\\u0438\\u0436\\u043d\\u0438\\u0439 \\u041d\\u043e\\u0432\\u0433\\u043e\\u0440\\u043e\\u0434\",\"\\u041d\\u0438\\u0436\\u043d\\u0438\\u0439 \\u041d\\u043e\\u0432\\u0433\\u043e\\u0440\\u043e\\u0434\",\"\\u041d\\u0438\\u0436\\u043d\\u0438\\u0439 \\u041d\\u043e\\u0432\\u0433\\u043e\\u0440\\u043e\\u0434\",\"\\u041d\\u0438\\u0436\\u043d\\u0438\\u0439 \\u041d\\u043e\\u0432\\u0433\\u043e\\u0440\\u043e\\u0434\",\"\\u041d\\u0438\\u0436\\u043d\\u0438\\u0439 \\u041d\\u043e\\u0432\\u0433\\u043e\\u0440\\u043e\\u0434\",\"\\u041d\\u0438\\u0436\\u043d\\u0438\\u0439 \\u041d\\u043e\\u0432\\u0433\\u043e\\u0440\\u043e\\u0434\",\"\\u041d\\u0438\\u0436\\u043d\\u0438\\u0439 \\u041d\\u043e\\u0432\\u0433\\u043e\\u0440\\u043e\\u0434\",\"\\u041d\\u0438\\u0436\\u043d\\u0438\\u0439 \\u041d\\u043e\\u0432\\u0433\\u043e\\u0440\\u043e\\u0434\",\"\\u041d\\u0438\\u0436\\u043d\\u0438\\u0439 \\u041d\\u043e\\u0432\\u0433\\u043e\\u0440\\u043e\\u0434\",\"\\u041d\\u0438\\u0436\\u043d\\u0438\\u0439 \\u041d\\u043e\\u0432\\u0433\\u043e\\u0440\\u043e\\u0434\",\"\\u041d\\u0438\\u0436\\u043d\\u0438\\u0439 \\u041d\\u043e\\u0432\\u0433\\u043e\\u0440\\u043e\\u0434\",\"\\u041d\\u0438\\u0436\\u043d\\u0438\\u0439 \\u041d\\u043e\\u0432\\u0433\\u043e\\u0440\\u043e\\u0434\",\"\\u041d\\u0438\\u0436\\u043d\\u0438\\u0439 \\u041d\\u043e\\u0432\\u0433\\u043e\\u0440\\u043e\\u0434\",\"\\u041d\\u0438\\u0436\\u043d\\u0438\\u0439 \\u041d\\u043e\\u0432\\u0433\\u043e\\u0440\\u043e\\u0434\",\"\\u041d\\u0438\\u0436\\u043d\\u0438\\u0439 \\u041d\\u043e\\u0432\\u0433\\u043e\\u0440\\u043e\\u0434\",\"\\u041d\\u0438\\u0436\\u043d\\u0438\\u0439 \\u041d\\u043e\\u0432\\u0433\\u043e\\u0440\\u043e\\u0434\",\"\\u041d\\u0438\\u0436\\u043d\\u0438\\u0439 \\u041d\\u043e\\u0432\\u0433\\u043e\\u0440\\u043e\\u0434\",\"\\u041d\\u0438\\u0436\\u043d\\u0438\\u0439 \\u041d\\u043e\\u0432\\u0433\\u043e\\u0440\\u043e\\u0434\",\"\\u041d\\u0438\\u0436\\u043d\\u0438\\u0439 \\u041d\\u043e\\u0432\\u0433\\u043e\\u0440\\u043e\\u0434\",\"\\u041d\\u0438\\u0436\\u043d\\u0438\\u0439 \\u041d\\u043e\\u0432\\u0433\\u043e\\u0440\\u043e\\u0434\",\"\\u041d\\u0438\\u0436\\u043d\\u0438\\u0439 \\u041d\\u043e\\u0432\\u0433\\u043e\\u0440\\u043e\\u0434\",\"\\u041d\\u0438\\u0436\\u043d\\u0438\\u0439 \\u041d\\u043e\\u0432\\u0433\\u043e\\u0440\\u043e\\u0434\",\"\\u041d\\u0438\\u0436\\u043d\\u0438\\u0439 \\u041d\\u043e\\u0432\\u0433\\u043e\\u0440\\u043e\\u0434\",\"\\u041d\\u0438\\u0436\\u043d\\u0438\\u0439 \\u041d\\u043e\\u0432\\u0433\\u043e\\u0440\\u043e\\u0434\",\"\\u041d\\u0438\\u0436\\u043d\\u0438\\u0439 \\u041d\\u043e\\u0432\\u0433\\u043e\\u0440\\u043e\\u0434\",\"\\u041d\\u0438\\u0436\\u043d\\u0438\\u0439 \\u041d\\u043e\\u0432\\u0433\\u043e\\u0440\\u043e\\u0434\",\"\\u041d\\u0438\\u0436\\u043d\\u0438\\u0439 \\u041d\\u043e\\u0432\\u0433\\u043e\\u0440\\u043e\\u0434\",\"\\u041d\\u0438\\u0436\\u043d\\u0438\\u0439 \\u041d\\u043e\\u0432\\u0433\\u043e\\u0440\\u043e\\u0434\",\"\\u041d\\u0438\\u0436\\u043d\\u0438\\u0439 \\u041d\\u043e\\u0432\\u0433\\u043e\\u0440\\u043e\\u0434\",\"\\u041d\\u0438\\u0436\\u043d\\u0438\\u0439 \\u041d\\u043e\\u0432\\u0433\\u043e\\u0440\\u043e\\u0434\",\"\\u041d\\u0438\\u0436\\u043d\\u0438\\u0439 \\u041d\\u043e\\u0432\\u0433\\u043e\\u0440\\u043e\\u0434\",\"\\u041d\\u0438\\u0436\\u043d\\u0438\\u0439 \\u041d\\u043e\\u0432\\u0433\\u043e\\u0440\\u043e\\u0434\",\"\\u041d\\u0438\\u0436\\u043d\\u0438\\u0439 \\u041d\\u043e\\u0432\\u0433\\u043e\\u0440\\u043e\\u0434\",\"\\u041d\\u0438\\u0436\\u043d\\u0438\\u0439 \\u041d\\u043e\\u0432\\u0433\\u043e\\u0440\\u043e\\u0434\",\"\\u041d\\u0438\\u0436\\u043d\\u0438\\u0439 \\u041d\\u043e\\u0432\\u0433\\u043e\\u0440\\u043e\\u0434\",\"\\u041d\\u0438\\u0436\\u043d\\u0438\\u0439 \\u041d\\u043e\\u0432\\u0433\\u043e\\u0440\\u043e\\u0434\",\"\\u041d\\u0438\\u0436\\u043d\\u0438\\u0439 \\u041d\\u043e\\u0432\\u0433\\u043e\\u0440\\u043e\\u0434\",\"\\u041d\\u0438\\u0436\\u043d\\u0438\\u0439 \\u041d\\u043e\\u0432\\u0433\\u043e\\u0440\\u043e\\u0434\",\"\\u041d\\u0438\\u0436\\u043d\\u0438\\u0439 \\u041d\\u043e\\u0432\\u0433\\u043e\\u0440\\u043e\\u0434\",\"\\u041d\\u0438\\u0436\\u043d\\u0438\\u0439 \\u041d\\u043e\\u0432\\u0433\\u043e\\u0440\\u043e\\u0434\",\"\\u041d\\u0438\\u0436\\u043d\\u0438\\u0439 \\u041d\\u043e\\u0432\\u0433\\u043e\\u0440\\u043e\\u0434\",\"\\u041d\\u0438\\u0436\\u043d\\u0438\\u0439 \\u041d\\u043e\\u0432\\u0433\\u043e\\u0440\\u043e\\u0434\",\"\\u041d\\u0438\\u0436\\u043d\\u0438\\u0439 \\u041d\\u043e\\u0432\\u0433\\u043e\\u0440\\u043e\\u0434\",\"\\u041d\\u0438\\u0436\\u043d\\u0438\\u0439 \\u041d\\u043e\\u0432\\u0433\\u043e\\u0440\\u043e\\u0434\",\"\\u041d\\u0438\\u0436\\u043d\\u0438\\u0439 \\u041d\\u043e\\u0432\\u0433\\u043e\\u0440\\u043e\\u0434\",\"\\u041d\\u0438\\u0436\\u043d\\u0438\\u0439 \\u041d\\u043e\\u0432\\u0433\\u043e\\u0440\\u043e\\u0434\",\"\\u041d\\u0438\\u0436\\u043d\\u0438\\u0439 \\u041d\\u043e\\u0432\\u0433\\u043e\\u0440\\u043e\\u0434\",\"\\u041d\\u0438\\u0436\\u043d\\u0438\\u0439 \\u041d\\u043e\\u0432\\u0433\\u043e\\u0440\\u043e\\u0434\",\"\\u041d\\u0438\\u0436\\u043d\\u0438\\u0439 \\u041d\\u043e\\u0432\\u0433\\u043e\\u0440\\u043e\\u0434\"],\"x0\":\" \",\"xaxis\":\"x\",\"y\":[10000.0,80000.0,70000.0,30000.0,50000.0,40000.0,10000.0,86000.0,10000.0,80000.0,70000.0,30000.0,50000.0,40000.0,10000.0,86000.0,10000.0,80000.0,70000.0,30000.0,50000.0,40000.0,10000.0,86000.0,10000.0,80000.0,70000.0,30000.0,50000.0,40000.0,10000.0,86000.0,10000.0,80000.0,70000.0,30000.0,50000.0,40000.0,10000.0,86000.0,10000.0,80000.0,70000.0,30000.0,50000.0,40000.0,10000.0,86000.0,10000.0,80000.0,70000.0,30000.0,50000.0,40000.0,10000.0,86000.0,10000.0,80000.0,70000.0,30000.0,50000.0,40000.0,10000.0,86000.0,10000.0,80000.0,70000.0,30000.0,50000.0,40000.0,10000.0,86000.0,10000.0,80000.0,70000.0,30000.0,50000.0,40000.0,10000.0,86000.0,10000.0,80000.0,70000.0,30000.0,50000.0,40000.0,10000.0,86000.0,10000.0,80000.0,70000.0,30000.0,50000.0,40000.0,10000.0,86000.0,10000.0,80000.0,70000.0,30000.0,50000.0,40000.0,10000.0,86000.0,10000.0,80000.0,70000.0,30000.0,50000.0,40000.0,10000.0,86000.0,10000.0,80000.0,70000.0,30000.0,50000.0,40000.0,10000.0,86000.0,10000.0,80000.0,70000.0,30000.0,50000.0,40000.0,10000.0,86000.0,10000.0,80000.0,70000.0,30000.0,50000.0,40000.0,10000.0,86000.0,10000.0,80000.0,70000.0,30000.0,50000.0,40000.0,10000.0,86000.0,10000.0,80000.0,70000.0,30000.0,50000.0,40000.0,10000.0,86000.0,10000.0,80000.0,70000.0,30000.0,50000.0,40000.0,10000.0,86000.0],\"y0\":\" \",\"yaxis\":\"y\",\"type\":\"box\"},{\"alignmentgroup\":\"True\",\"hovertemplate\":\"\\u0420\\u0435\\u0433\\u0438\\u043e\\u043d=%{x}<br>\\u0417\\u0430\\u0440\\u043f\\u043b\\u0430\\u0442\\u0430 \\u043e\\u0442, \\u0440\\u0443\\u0431.=%{y}<extra></extra>\",\"legendgroup\":\"\\u041c\\u043e\\u0441\\u043a\\u0432\\u0430\",\"marker\":{\"color\":\"#EF553B\"},\"name\":\"\\u041c\\u043e\\u0441\\u043a\\u0432\\u0430\",\"notched\":false,\"offsetgroup\":\"\\u041c\\u043e\\u0441\\u043a\\u0432\\u0430\",\"orientation\":\"v\",\"showlegend\":true,\"x\":[\"\\u041c\\u043e\\u0441\\u043a\\u0432\\u0430\",\"\\u041c\\u043e\\u0441\\u043a\\u0432\\u0430\",\"\\u041c\\u043e\\u0441\\u043a\\u0432\\u0430\",\"\\u041c\\u043e\\u0441\\u043a\\u0432\\u0430\",\"\\u041c\\u043e\\u0441\\u043a\\u0432\\u0430\",\"\\u041c\\u043e\\u0441\\u043a\\u0432\\u0430\",\"\\u041c\\u043e\\u0441\\u043a\\u0432\\u0430\",\"\\u041c\\u043e\\u0441\\u043a\\u0432\\u0430\",\"\\u041c\\u043e\\u0441\\u043a\\u0432\\u0430\",\"\\u041c\\u043e\\u0441\\u043a\\u0432\\u0430\",\"\\u041c\\u043e\\u0441\\u043a\\u0432\\u0430\",\"\\u041c\\u043e\\u0441\\u043a\\u0432\\u0430\",\"\\u041c\\u043e\\u0441\\u043a\\u0432\\u0430\",\"\\u041c\\u043e\\u0441\\u043a\\u0432\\u0430\",\"\\u041c\\u043e\\u0441\\u043a\\u0432\\u0430\",\"\\u041c\\u043e\\u0441\\u043a\\u0432\\u0430\",\"\\u041c\\u043e\\u0441\\u043a\\u0432\\u0430\",\"\\u041c\\u043e\\u0441\\u043a\\u0432\\u0430\",\"\\u041c\\u043e\\u0441\\u043a\\u0432\\u0430\",\"\\u041c\\u043e\\u0441\\u043a\\u0432\\u0430\",\"\\u041c\\u043e\\u0441\\u043a\\u0432\\u0430\",\"\\u041c\\u043e\\u0441\\u043a\\u0432\\u0430\",\"\\u041c\\u043e\\u0441\\u043a\\u0432\\u0430\",\"\\u041c\\u043e\\u0441\\u043a\\u0432\\u0430\",\"\\u041c\\u043e\\u0441\\u043a\\u0432\\u0430\",\"\\u041c\\u043e\\u0441\\u043a\\u0432\\u0430\",\"\\u041c\\u043e\\u0441\\u043a\\u0432\\u0430\",\"\\u041c\\u043e\\u0441\\u043a\\u0432\\u0430\",\"\\u041c\\u043e\\u0441\\u043a\\u0432\\u0430\",\"\\u041c\\u043e\\u0441\\u043a\\u0432\\u0430\",\"\\u041c\\u043e\\u0441\\u043a\\u0432\\u0430\",\"\\u041c\\u043e\\u0441\\u043a\\u0432\\u0430\",\"\\u041c\\u043e\\u0441\\u043a\\u0432\\u0430\",\"\\u041c\\u043e\\u0441\\u043a\\u0432\\u0430\",\"\\u041c\\u043e\\u0441\\u043a\\u0432\\u0430\",\"\\u041c\\u043e\\u0441\\u043a\\u0432\\u0430\",\"\\u041c\\u043e\\u0441\\u043a\\u0432\\u0430\",\"\\u041c\\u043e\\u0441\\u043a\\u0432\\u0430\",\"\\u041c\\u043e\\u0441\\u043a\\u0432\\u0430\",\"\\u041c\\u043e\\u0441\\u043a\\u0432\\u0430\",\"\\u041c\\u043e\\u0441\\u043a\\u0432\\u0430\",\"\\u041c\\u043e\\u0441\\u043a\\u0432\\u0430\",\"\\u041c\\u043e\\u0441\\u043a\\u0432\\u0430\",\"\\u041c\\u043e\\u0441\\u043a\\u0432\\u0430\",\"\\u041c\\u043e\\u0441\\u043a\\u0432\\u0430\",\"\\u041c\\u043e\\u0441\\u043a\\u0432\\u0430\",\"\\u041c\\u043e\\u0441\\u043a\\u0432\\u0430\",\"\\u041c\\u043e\\u0441\\u043a\\u0432\\u0430\",\"\\u041c\\u043e\\u0441\\u043a\\u0432\\u0430\",\"\\u041c\\u043e\\u0441\\u043a\\u0432\\u0430\",\"\\u041c\\u043e\\u0441\\u043a\\u0432\\u0430\",\"\\u041c\\u043e\\u0441\\u043a\\u0432\\u0430\",\"\\u041c\\u043e\\u0441\\u043a\\u0432\\u0430\",\"\\u041c\\u043e\\u0441\\u043a\\u0432\\u0430\",\"\\u041c\\u043e\\u0441\\u043a\\u0432\\u0430\",\"\\u041c\\u043e\\u0441\\u043a\\u0432\\u0430\",\"\\u041c\\u043e\\u0441\\u043a\\u0432\\u0430\",\"\\u041c\\u043e\\u0441\\u043a\\u0432\\u0430\",\"\\u041c\\u043e\\u0441\\u043a\\u0432\\u0430\",\"\\u041c\\u043e\\u0441\\u043a\\u0432\\u0430\",\"\\u041c\\u043e\\u0441\\u043a\\u0432\\u0430\",\"\\u041c\\u043e\\u0441\\u043a\\u0432\\u0430\",\"\\u041c\\u043e\\u0441\\u043a\\u0432\\u0430\",\"\\u041c\\u043e\\u0441\\u043a\\u0432\\u0430\",\"\\u041c\\u043e\\u0441\\u043a\\u0432\\u0430\",\"\\u041c\\u043e\\u0441\\u043a\\u0432\\u0430\",\"\\u041c\\u043e\\u0441\\u043a\\u0432\\u0430\",\"\\u041c\\u043e\\u0441\\u043a\\u0432\\u0430\",\"\\u041c\\u043e\\u0441\\u043a\\u0432\\u0430\",\"\\u041c\\u043e\\u0441\\u043a\\u0432\\u0430\",\"\\u041c\\u043e\\u0441\\u043a\\u0432\\u0430\",\"\\u041c\\u043e\\u0441\\u043a\\u0432\\u0430\",\"\\u041c\\u043e\\u0441\\u043a\\u0432\\u0430\",\"\\u041c\\u043e\\u0441\\u043a\\u0432\\u0430\",\"\\u041c\\u043e\\u0441\\u043a\\u0432\\u0430\",\"\\u041c\\u043e\\u0441\\u043a\\u0432\\u0430\",\"\\u041c\\u043e\\u0441\\u043a\\u0432\\u0430\",\"\\u041c\\u043e\\u0441\\u043a\\u0432\\u0430\",\"\\u041c\\u043e\\u0441\\u043a\\u0432\\u0430\",\"\\u041c\\u043e\\u0441\\u043a\\u0432\\u0430\",\"\\u041c\\u043e\\u0441\\u043a\\u0432\\u0430\",\"\\u041c\\u043e\\u0441\\u043a\\u0432\\u0430\",\"\\u041c\\u043e\\u0441\\u043a\\u0432\\u0430\",\"\\u041c\\u043e\\u0441\\u043a\\u0432\\u0430\",\"\\u041c\\u043e\\u0441\\u043a\\u0432\\u0430\",\"\\u041c\\u043e\\u0441\\u043a\\u0432\\u0430\",\"\\u041c\\u043e\\u0441\\u043a\\u0432\\u0430\",\"\\u041c\\u043e\\u0441\\u043a\\u0432\\u0430\",\"\\u041c\\u043e\\u0441\\u043a\\u0432\\u0430\",\"\\u041c\\u043e\\u0441\\u043a\\u0432\\u0430\",\"\\u041c\\u043e\\u0441\\u043a\\u0432\\u0430\",\"\\u041c\\u043e\\u0441\\u043a\\u0432\\u0430\",\"\\u041c\\u043e\\u0441\\u043a\\u0432\\u0430\",\"\\u041c\\u043e\\u0441\\u043a\\u0432\\u0430\",\"\\u041c\\u043e\\u0441\\u043a\\u0432\\u0430\",\"\\u041c\\u043e\\u0441\\u043a\\u0432\\u0430\",\"\\u041c\\u043e\\u0441\\u043a\\u0432\\u0430\",\"\\u041c\\u043e\\u0441\\u043a\\u0432\\u0430\",\"\\u041c\\u043e\\u0441\\u043a\\u0432\\u0430\",\"\\u041c\\u043e\\u0441\\u043a\\u0432\\u0430\",\"\\u041c\\u043e\\u0441\\u043a\\u0432\\u0430\",\"\\u041c\\u043e\\u0441\\u043a\\u0432\\u0430\",\"\\u041c\\u043e\\u0441\\u043a\\u0432\\u0430\",\"\\u041c\\u043e\\u0441\\u043a\\u0432\\u0430\",\"\\u041c\\u043e\\u0441\\u043a\\u0432\\u0430\",\"\\u041c\\u043e\\u0441\\u043a\\u0432\\u0430\",\"\\u041c\\u043e\\u0441\\u043a\\u0432\\u0430\",\"\\u041c\\u043e\\u0441\\u043a\\u0432\\u0430\",\"\\u041c\\u043e\\u0441\\u043a\\u0432\\u0430\",\"\\u041c\\u043e\\u0441\\u043a\\u0432\\u0430\",\"\\u041c\\u043e\\u0441\\u043a\\u0432\\u0430\",\"\\u041c\\u043e\\u0441\\u043a\\u0432\\u0430\",\"\\u041c\\u043e\\u0441\\u043a\\u0432\\u0430\",\"\\u041c\\u043e\\u0441\\u043a\\u0432\\u0430\",\"\\u041c\\u043e\\u0441\\u043a\\u0432\\u0430\",\"\\u041c\\u043e\\u0441\\u043a\\u0432\\u0430\",\"\\u041c\\u043e\\u0441\\u043a\\u0432\\u0430\",\"\\u041c\\u043e\\u0441\\u043a\\u0432\\u0430\",\"\\u041c\\u043e\\u0441\\u043a\\u0432\\u0430\",\"\\u041c\\u043e\\u0441\\u043a\\u0432\\u0430\"],\"x0\":\" \",\"xaxis\":\"x\",\"y\":[60000.0,60000.0,60000.0,130000.0,80000.0,1600.0,60000.0,60000.0,60000.0,130000.0,80000.0,1600.0,60000.0,60000.0,60000.0,130000.0,80000.0,1600.0,60000.0,60000.0,60000.0,130000.0,80000.0,1600.0,60000.0,60000.0,60000.0,130000.0,80000.0,1600.0,60000.0,60000.0,60000.0,130000.0,80000.0,1600.0,60000.0,60000.0,60000.0,130000.0,80000.0,1600.0,60000.0,60000.0,60000.0,130000.0,80000.0,1600.0,60000.0,60000.0,60000.0,130000.0,80000.0,1600.0,60000.0,60000.0,60000.0,130000.0,80000.0,1600.0,60000.0,60000.0,60000.0,130000.0,80000.0,1600.0,60000.0,60000.0,60000.0,130000.0,80000.0,1600.0,60000.0,60000.0,60000.0,130000.0,80000.0,1600.0,60000.0,60000.0,60000.0,130000.0,80000.0,1600.0,60000.0,60000.0,60000.0,130000.0,80000.0,1600.0,60000.0,60000.0,60000.0,130000.0,80000.0,1600.0,60000.0,60000.0,60000.0,130000.0,80000.0,1600.0,60000.0,60000.0,60000.0,130000.0,80000.0,1600.0,60000.0,60000.0,60000.0,130000.0,80000.0,1600.0,60000.0,60000.0,60000.0,130000.0,80000.0,1600.0],\"y0\":\" \",\"yaxis\":\"y\",\"type\":\"box\"},{\"alignmentgroup\":\"True\",\"hovertemplate\":\"\\u0420\\u0435\\u0433\\u0438\\u043e\\u043d=%{x}<br>\\u0417\\u0430\\u0440\\u043f\\u043b\\u0430\\u0442\\u0430 \\u043e\\u0442, \\u0440\\u0443\\u0431.=%{y}<extra></extra>\",\"legendgroup\":\"\\u041d\\u043e\\u0432\\u043e\\u0441\\u0438\\u0431\\u0438\\u0440\\u0441\\u043a\",\"marker\":{\"color\":\"#00cc96\"},\"name\":\"\\u041d\\u043e\\u0432\\u043e\\u0441\\u0438\\u0431\\u0438\\u0440\\u0441\\u043a\",\"notched\":false,\"offsetgroup\":\"\\u041d\\u043e\\u0432\\u043e\\u0441\\u0438\\u0431\\u0438\\u0440\\u0441\\u043a\",\"orientation\":\"v\",\"showlegend\":true,\"x\":[\"\\u041d\\u043e\\u0432\\u043e\\u0441\\u0438\\u0431\\u0438\\u0440\\u0441\\u043a\",\"\\u041d\\u043e\\u0432\\u043e\\u0441\\u0438\\u0431\\u0438\\u0440\\u0441\\u043a\",\"\\u041d\\u043e\\u0432\\u043e\\u0441\\u0438\\u0431\\u0438\\u0440\\u0441\\u043a\",\"\\u041d\\u043e\\u0432\\u043e\\u0441\\u0438\\u0431\\u0438\\u0440\\u0441\\u043a\",\"\\u041d\\u043e\\u0432\\u043e\\u0441\\u0438\\u0431\\u0438\\u0440\\u0441\\u043a\",\"\\u041d\\u043e\\u0432\\u043e\\u0441\\u0438\\u0431\\u0438\\u0440\\u0441\\u043a\",\"\\u041d\\u043e\\u0432\\u043e\\u0441\\u0438\\u0431\\u0438\\u0440\\u0441\\u043a\",\"\\u041d\\u043e\\u0432\\u043e\\u0441\\u0438\\u0431\\u0438\\u0440\\u0441\\u043a\",\"\\u041d\\u043e\\u0432\\u043e\\u0441\\u0438\\u0431\\u0438\\u0440\\u0441\\u043a\",\"\\u041d\\u043e\\u0432\\u043e\\u0441\\u0438\\u0431\\u0438\\u0440\\u0441\\u043a\",\"\\u041d\\u043e\\u0432\\u043e\\u0441\\u0438\\u0431\\u0438\\u0440\\u0441\\u043a\",\"\\u041d\\u043e\\u0432\\u043e\\u0441\\u0438\\u0431\\u0438\\u0440\\u0441\\u043a\",\"\\u041d\\u043e\\u0432\\u043e\\u0441\\u0438\\u0431\\u0438\\u0440\\u0441\\u043a\",\"\\u041d\\u043e\\u0432\\u043e\\u0441\\u0438\\u0431\\u0438\\u0440\\u0441\\u043a\",\"\\u041d\\u043e\\u0432\\u043e\\u0441\\u0438\\u0431\\u0438\\u0440\\u0441\\u043a\",\"\\u041d\\u043e\\u0432\\u043e\\u0441\\u0438\\u0431\\u0438\\u0440\\u0441\\u043a\",\"\\u041d\\u043e\\u0432\\u043e\\u0441\\u0438\\u0431\\u0438\\u0440\\u0441\\u043a\",\"\\u041d\\u043e\\u0432\\u043e\\u0441\\u0438\\u0431\\u0438\\u0440\\u0441\\u043a\",\"\\u041d\\u043e\\u0432\\u043e\\u0441\\u0438\\u0431\\u0438\\u0440\\u0441\\u043a\",\"\\u041d\\u043e\\u0432\\u043e\\u0441\\u0438\\u0431\\u0438\\u0440\\u0441\\u043a\",\"\\u041d\\u043e\\u0432\\u043e\\u0441\\u0438\\u0431\\u0438\\u0440\\u0441\\u043a\",\"\\u041d\\u043e\\u0432\\u043e\\u0441\\u0438\\u0431\\u0438\\u0440\\u0441\\u043a\",\"\\u041d\\u043e\\u0432\\u043e\\u0441\\u0438\\u0431\\u0438\\u0440\\u0441\\u043a\",\"\\u041d\\u043e\\u0432\\u043e\\u0441\\u0438\\u0431\\u0438\\u0440\\u0441\\u043a\",\"\\u041d\\u043e\\u0432\\u043e\\u0441\\u0438\\u0431\\u0438\\u0440\\u0441\\u043a\",\"\\u041d\\u043e\\u0432\\u043e\\u0441\\u0438\\u0431\\u0438\\u0440\\u0441\\u043a\",\"\\u041d\\u043e\\u0432\\u043e\\u0441\\u0438\\u0431\\u0438\\u0440\\u0441\\u043a\",\"\\u041d\\u043e\\u0432\\u043e\\u0441\\u0438\\u0431\\u0438\\u0440\\u0441\\u043a\",\"\\u041d\\u043e\\u0432\\u043e\\u0441\\u0438\\u0431\\u0438\\u0440\\u0441\\u043a\",\"\\u041d\\u043e\\u0432\\u043e\\u0441\\u0438\\u0431\\u0438\\u0440\\u0441\\u043a\",\"\\u041d\\u043e\\u0432\\u043e\\u0441\\u0438\\u0431\\u0438\\u0440\\u0441\\u043a\",\"\\u041d\\u043e\\u0432\\u043e\\u0441\\u0438\\u0431\\u0438\\u0440\\u0441\\u043a\",\"\\u041d\\u043e\\u0432\\u043e\\u0441\\u0438\\u0431\\u0438\\u0440\\u0441\\u043a\",\"\\u041d\\u043e\\u0432\\u043e\\u0441\\u0438\\u0431\\u0438\\u0440\\u0441\\u043a\",\"\\u041d\\u043e\\u0432\\u043e\\u0441\\u0438\\u0431\\u0438\\u0440\\u0441\\u043a\",\"\\u041d\\u043e\\u0432\\u043e\\u0441\\u0438\\u0431\\u0438\\u0440\\u0441\\u043a\",\"\\u041d\\u043e\\u0432\\u043e\\u0441\\u0438\\u0431\\u0438\\u0440\\u0441\\u043a\",\"\\u041d\\u043e\\u0432\\u043e\\u0441\\u0438\\u0431\\u0438\\u0440\\u0441\\u043a\",\"\\u041d\\u043e\\u0432\\u043e\\u0441\\u0438\\u0431\\u0438\\u0440\\u0441\\u043a\",\"\\u041d\\u043e\\u0432\\u043e\\u0441\\u0438\\u0431\\u0438\\u0440\\u0441\\u043a\",\"\\u041d\\u043e\\u0432\\u043e\\u0441\\u0438\\u0431\\u0438\\u0440\\u0441\\u043a\",\"\\u041d\\u043e\\u0432\\u043e\\u0441\\u0438\\u0431\\u0438\\u0440\\u0441\\u043a\",\"\\u041d\\u043e\\u0432\\u043e\\u0441\\u0438\\u0431\\u0438\\u0440\\u0441\\u043a\",\"\\u041d\\u043e\\u0432\\u043e\\u0441\\u0438\\u0431\\u0438\\u0440\\u0441\\u043a\",\"\\u041d\\u043e\\u0432\\u043e\\u0441\\u0438\\u0431\\u0438\\u0440\\u0441\\u043a\",\"\\u041d\\u043e\\u0432\\u043e\\u0441\\u0438\\u0431\\u0438\\u0440\\u0441\\u043a\",\"\\u041d\\u043e\\u0432\\u043e\\u0441\\u0438\\u0431\\u0438\\u0440\\u0441\\u043a\",\"\\u041d\\u043e\\u0432\\u043e\\u0441\\u0438\\u0431\\u0438\\u0440\\u0441\\u043a\",\"\\u041d\\u043e\\u0432\\u043e\\u0441\\u0438\\u0431\\u0438\\u0440\\u0441\\u043a\",\"\\u041d\\u043e\\u0432\\u043e\\u0441\\u0438\\u0431\\u0438\\u0440\\u0441\\u043a\",\"\\u041d\\u043e\\u0432\\u043e\\u0441\\u0438\\u0431\\u0438\\u0440\\u0441\\u043a\",\"\\u041d\\u043e\\u0432\\u043e\\u0441\\u0438\\u0431\\u0438\\u0440\\u0441\\u043a\",\"\\u041d\\u043e\\u0432\\u043e\\u0441\\u0438\\u0431\\u0438\\u0440\\u0441\\u043a\",\"\\u041d\\u043e\\u0432\\u043e\\u0441\\u0438\\u0431\\u0438\\u0440\\u0441\\u043a\",\"\\u041d\\u043e\\u0432\\u043e\\u0441\\u0438\\u0431\\u0438\\u0440\\u0441\\u043a\",\"\\u041d\\u043e\\u0432\\u043e\\u0441\\u0438\\u0431\\u0438\\u0440\\u0441\\u043a\",\"\\u041d\\u043e\\u0432\\u043e\\u0441\\u0438\\u0431\\u0438\\u0440\\u0441\\u043a\",\"\\u041d\\u043e\\u0432\\u043e\\u0441\\u0438\\u0431\\u0438\\u0440\\u0441\\u043a\",\"\\u041d\\u043e\\u0432\\u043e\\u0441\\u0438\\u0431\\u0438\\u0440\\u0441\\u043a\",\"\\u041d\\u043e\\u0432\\u043e\\u0441\\u0438\\u0431\\u0438\\u0440\\u0441\\u043a\",\"\\u041d\\u043e\\u0432\\u043e\\u0441\\u0438\\u0431\\u0438\\u0440\\u0441\\u043a\",\"\\u041d\\u043e\\u0432\\u043e\\u0441\\u0438\\u0431\\u0438\\u0440\\u0441\\u043a\",\"\\u041d\\u043e\\u0432\\u043e\\u0441\\u0438\\u0431\\u0438\\u0440\\u0441\\u043a\",\"\\u041d\\u043e\\u0432\\u043e\\u0441\\u0438\\u0431\\u0438\\u0440\\u0441\\u043a\",\"\\u041d\\u043e\\u0432\\u043e\\u0441\\u0438\\u0431\\u0438\\u0440\\u0441\\u043a\",\"\\u041d\\u043e\\u0432\\u043e\\u0441\\u0438\\u0431\\u0438\\u0440\\u0441\\u043a\",\"\\u041d\\u043e\\u0432\\u043e\\u0441\\u0438\\u0431\\u0438\\u0440\\u0441\\u043a\",\"\\u041d\\u043e\\u0432\\u043e\\u0441\\u0438\\u0431\\u0438\\u0440\\u0441\\u043a\",\"\\u041d\\u043e\\u0432\\u043e\\u0441\\u0438\\u0431\\u0438\\u0440\\u0441\\u043a\",\"\\u041d\\u043e\\u0432\\u043e\\u0441\\u0438\\u0431\\u0438\\u0440\\u0441\\u043a\",\"\\u041d\\u043e\\u0432\\u043e\\u0441\\u0438\\u0431\\u0438\\u0440\\u0441\\u043a\",\"\\u041d\\u043e\\u0432\\u043e\\u0441\\u0438\\u0431\\u0438\\u0440\\u0441\\u043a\",\"\\u041d\\u043e\\u0432\\u043e\\u0441\\u0438\\u0431\\u0438\\u0440\\u0441\\u043a\",\"\\u041d\\u043e\\u0432\\u043e\\u0441\\u0438\\u0431\\u0438\\u0440\\u0441\\u043a\",\"\\u041d\\u043e\\u0432\\u043e\\u0441\\u0438\\u0431\\u0438\\u0440\\u0441\\u043a\",\"\\u041d\\u043e\\u0432\\u043e\\u0441\\u0438\\u0431\\u0438\\u0440\\u0441\\u043a\",\"\\u041d\\u043e\\u0432\\u043e\\u0441\\u0438\\u0431\\u0438\\u0440\\u0441\\u043a\",\"\\u041d\\u043e\\u0432\\u043e\\u0441\\u0438\\u0431\\u0438\\u0440\\u0441\\u043a\",\"\\u041d\\u043e\\u0432\\u043e\\u0441\\u0438\\u0431\\u0438\\u0440\\u0441\\u043a\",\"\\u041d\\u043e\\u0432\\u043e\\u0441\\u0438\\u0431\\u0438\\u0440\\u0441\\u043a\"],\"x0\":\" \",\"xaxis\":\"x\",\"y\":[90000.0,1000.0,70000.0,60000.0,90000.0,1000.0,70000.0,60000.0,90000.0,1000.0,70000.0,60000.0,90000.0,1000.0,70000.0,60000.0,90000.0,1000.0,70000.0,60000.0,90000.0,1000.0,70000.0,60000.0,90000.0,1000.0,70000.0,60000.0,90000.0,1000.0,70000.0,60000.0,90000.0,1000.0,70000.0,60000.0,90000.0,1000.0,70000.0,60000.0,90000.0,1000.0,70000.0,60000.0,90000.0,1000.0,70000.0,60000.0,90000.0,1000.0,70000.0,60000.0,90000.0,1000.0,70000.0,60000.0,90000.0,1000.0,70000.0,60000.0,90000.0,1000.0,70000.0,60000.0,90000.0,1000.0,70000.0,60000.0,90000.0,1000.0,70000.0,60000.0,90000.0,1000.0,70000.0,60000.0,90000.0,1000.0,70000.0,60000.0],\"y0\":\" \",\"yaxis\":\"y\",\"type\":\"box\"},{\"alignmentgroup\":\"True\",\"hovertemplate\":\"\\u0420\\u0435\\u0433\\u0438\\u043e\\u043d=%{x}<br>\\u0417\\u0430\\u0440\\u043f\\u043b\\u0430\\u0442\\u0430 \\u043e\\u0442, \\u0440\\u0443\\u0431.=%{y}<extra></extra>\",\"legendgroup\":\"\\u0415\\u043a\\u0430\\u0442\\u0435\\u0440\\u0438\\u043d\\u0431\\u0443\\u0440\\u0433\",\"marker\":{\"color\":\"#ab63fa\"},\"name\":\"\\u0415\\u043a\\u0430\\u0442\\u0435\\u0440\\u0438\\u043d\\u0431\\u0443\\u0440\\u0433\",\"notched\":false,\"offsetgroup\":\"\\u0415\\u043a\\u0430\\u0442\\u0435\\u0440\\u0438\\u043d\\u0431\\u0443\\u0440\\u0433\",\"orientation\":\"v\",\"showlegend\":true,\"x\":[\"\\u0415\\u043a\\u0430\\u0442\\u0435\\u0440\\u0438\\u043d\\u0431\\u0443\\u0440\\u0433\",\"\\u0415\\u043a\\u0430\\u0442\\u0435\\u0440\\u0438\\u043d\\u0431\\u0443\\u0440\\u0433\",\"\\u0415\\u043a\\u0430\\u0442\\u0435\\u0440\\u0438\\u043d\\u0431\\u0443\\u0440\\u0433\",\"\\u0415\\u043a\\u0430\\u0442\\u0435\\u0440\\u0438\\u043d\\u0431\\u0443\\u0440\\u0433\",\"\\u0415\\u043a\\u0430\\u0442\\u0435\\u0440\\u0438\\u043d\\u0431\\u0443\\u0440\\u0433\",\"\\u0415\\u043a\\u0430\\u0442\\u0435\\u0440\\u0438\\u043d\\u0431\\u0443\\u0440\\u0433\",\"\\u0415\\u043a\\u0430\\u0442\\u0435\\u0440\\u0438\\u043d\\u0431\\u0443\\u0440\\u0433\",\"\\u0415\\u043a\\u0430\\u0442\\u0435\\u0440\\u0438\\u043d\\u0431\\u0443\\u0440\\u0433\",\"\\u0415\\u043a\\u0430\\u0442\\u0435\\u0440\\u0438\\u043d\\u0431\\u0443\\u0440\\u0433\",\"\\u0415\\u043a\\u0430\\u0442\\u0435\\u0440\\u0438\\u043d\\u0431\\u0443\\u0440\\u0433\",\"\\u0415\\u043a\\u0430\\u0442\\u0435\\u0440\\u0438\\u043d\\u0431\\u0443\\u0440\\u0433\",\"\\u0415\\u043a\\u0430\\u0442\\u0435\\u0440\\u0438\\u043d\\u0431\\u0443\\u0440\\u0433\",\"\\u0415\\u043a\\u0430\\u0442\\u0435\\u0440\\u0438\\u043d\\u0431\\u0443\\u0440\\u0433\",\"\\u0415\\u043a\\u0430\\u0442\\u0435\\u0440\\u0438\\u043d\\u0431\\u0443\\u0440\\u0433\",\"\\u0415\\u043a\\u0430\\u0442\\u0435\\u0440\\u0438\\u043d\\u0431\\u0443\\u0440\\u0433\",\"\\u0415\\u043a\\u0430\\u0442\\u0435\\u0440\\u0438\\u043d\\u0431\\u0443\\u0440\\u0433\",\"\\u0415\\u043a\\u0430\\u0442\\u0435\\u0440\\u0438\\u043d\\u0431\\u0443\\u0440\\u0433\",\"\\u0415\\u043a\\u0430\\u0442\\u0435\\u0440\\u0438\\u043d\\u0431\\u0443\\u0440\\u0433\",\"\\u0415\\u043a\\u0430\\u0442\\u0435\\u0440\\u0438\\u043d\\u0431\\u0443\\u0440\\u0433\",\"\\u0415\\u043a\\u0430\\u0442\\u0435\\u0440\\u0438\\u043d\\u0431\\u0443\\u0440\\u0433\",\"\\u0415\\u043a\\u0430\\u0442\\u0435\\u0440\\u0438\\u043d\\u0431\\u0443\\u0440\\u0433\",\"\\u0415\\u043a\\u0430\\u0442\\u0435\\u0440\\u0438\\u043d\\u0431\\u0443\\u0440\\u0433\",\"\\u0415\\u043a\\u0430\\u0442\\u0435\\u0440\\u0438\\u043d\\u0431\\u0443\\u0440\\u0433\",\"\\u0415\\u043a\\u0430\\u0442\\u0435\\u0440\\u0438\\u043d\\u0431\\u0443\\u0440\\u0433\",\"\\u0415\\u043a\\u0430\\u0442\\u0435\\u0440\\u0438\\u043d\\u0431\\u0443\\u0440\\u0433\",\"\\u0415\\u043a\\u0430\\u0442\\u0435\\u0440\\u0438\\u043d\\u0431\\u0443\\u0440\\u0433\",\"\\u0415\\u043a\\u0430\\u0442\\u0435\\u0440\\u0438\\u043d\\u0431\\u0443\\u0440\\u0433\",\"\\u0415\\u043a\\u0430\\u0442\\u0435\\u0440\\u0438\\u043d\\u0431\\u0443\\u0440\\u0433\",\"\\u0415\\u043a\\u0430\\u0442\\u0435\\u0440\\u0438\\u043d\\u0431\\u0443\\u0440\\u0433\",\"\\u0415\\u043a\\u0430\\u0442\\u0435\\u0440\\u0438\\u043d\\u0431\\u0443\\u0440\\u0433\",\"\\u0415\\u043a\\u0430\\u0442\\u0435\\u0440\\u0438\\u043d\\u0431\\u0443\\u0440\\u0433\",\"\\u0415\\u043a\\u0430\\u0442\\u0435\\u0440\\u0438\\u043d\\u0431\\u0443\\u0440\\u0433\",\"\\u0415\\u043a\\u0430\\u0442\\u0435\\u0440\\u0438\\u043d\\u0431\\u0443\\u0440\\u0433\",\"\\u0415\\u043a\\u0430\\u0442\\u0435\\u0440\\u0438\\u043d\\u0431\\u0443\\u0440\\u0433\",\"\\u0415\\u043a\\u0430\\u0442\\u0435\\u0440\\u0438\\u043d\\u0431\\u0443\\u0440\\u0433\",\"\\u0415\\u043a\\u0430\\u0442\\u0435\\u0440\\u0438\\u043d\\u0431\\u0443\\u0440\\u0433\",\"\\u0415\\u043a\\u0430\\u0442\\u0435\\u0440\\u0438\\u043d\\u0431\\u0443\\u0440\\u0433\",\"\\u0415\\u043a\\u0430\\u0442\\u0435\\u0440\\u0438\\u043d\\u0431\\u0443\\u0440\\u0433\",\"\\u0415\\u043a\\u0430\\u0442\\u0435\\u0440\\u0438\\u043d\\u0431\\u0443\\u0440\\u0433\",\"\\u0415\\u043a\\u0430\\u0442\\u0435\\u0440\\u0438\\u043d\\u0431\\u0443\\u0440\\u0433\",\"\\u0415\\u043a\\u0430\\u0442\\u0435\\u0440\\u0438\\u043d\\u0431\\u0443\\u0440\\u0433\",\"\\u0415\\u043a\\u0430\\u0442\\u0435\\u0440\\u0438\\u043d\\u0431\\u0443\\u0440\\u0433\",\"\\u0415\\u043a\\u0430\\u0442\\u0435\\u0440\\u0438\\u043d\\u0431\\u0443\\u0440\\u0433\",\"\\u0415\\u043a\\u0430\\u0442\\u0435\\u0440\\u0438\\u043d\\u0431\\u0443\\u0440\\u0433\",\"\\u0415\\u043a\\u0430\\u0442\\u0435\\u0440\\u0438\\u043d\\u0431\\u0443\\u0440\\u0433\",\"\\u0415\\u043a\\u0430\\u0442\\u0435\\u0440\\u0438\\u043d\\u0431\\u0443\\u0440\\u0433\",\"\\u0415\\u043a\\u0430\\u0442\\u0435\\u0440\\u0438\\u043d\\u0431\\u0443\\u0440\\u0433\",\"\\u0415\\u043a\\u0430\\u0442\\u0435\\u0440\\u0438\\u043d\\u0431\\u0443\\u0440\\u0433\",\"\\u0415\\u043a\\u0430\\u0442\\u0435\\u0440\\u0438\\u043d\\u0431\\u0443\\u0440\\u0433\",\"\\u0415\\u043a\\u0430\\u0442\\u0435\\u0440\\u0438\\u043d\\u0431\\u0443\\u0440\\u0433\",\"\\u0415\\u043a\\u0430\\u0442\\u0435\\u0440\\u0438\\u043d\\u0431\\u0443\\u0440\\u0433\",\"\\u0415\\u043a\\u0430\\u0442\\u0435\\u0440\\u0438\\u043d\\u0431\\u0443\\u0440\\u0433\",\"\\u0415\\u043a\\u0430\\u0442\\u0435\\u0440\\u0438\\u043d\\u0431\\u0443\\u0440\\u0433\",\"\\u0415\\u043a\\u0430\\u0442\\u0435\\u0440\\u0438\\u043d\\u0431\\u0443\\u0440\\u0433\",\"\\u0415\\u043a\\u0430\\u0442\\u0435\\u0440\\u0438\\u043d\\u0431\\u0443\\u0440\\u0433\",\"\\u0415\\u043a\\u0430\\u0442\\u0435\\u0440\\u0438\\u043d\\u0431\\u0443\\u0440\\u0433\",\"\\u0415\\u043a\\u0430\\u0442\\u0435\\u0440\\u0438\\u043d\\u0431\\u0443\\u0440\\u0433\",\"\\u0415\\u043a\\u0430\\u0442\\u0435\\u0440\\u0438\\u043d\\u0431\\u0443\\u0440\\u0433\",\"\\u0415\\u043a\\u0430\\u0442\\u0435\\u0440\\u0438\\u043d\\u0431\\u0443\\u0440\\u0433\",\"\\u0415\\u043a\\u0430\\u0442\\u0435\\u0440\\u0438\\u043d\\u0431\\u0443\\u0440\\u0433\",\"\\u0415\\u043a\\u0430\\u0442\\u0435\\u0440\\u0438\\u043d\\u0431\\u0443\\u0440\\u0433\",\"\\u0415\\u043a\\u0430\\u0442\\u0435\\u0440\\u0438\\u043d\\u0431\\u0443\\u0440\\u0433\",\"\\u0415\\u043a\\u0430\\u0442\\u0435\\u0440\\u0438\\u043d\\u0431\\u0443\\u0440\\u0433\",\"\\u0415\\u043a\\u0430\\u0442\\u0435\\u0440\\u0438\\u043d\\u0431\\u0443\\u0440\\u0433\",\"\\u0415\\u043a\\u0430\\u0442\\u0435\\u0440\\u0438\\u043d\\u0431\\u0443\\u0440\\u0433\",\"\\u0415\\u043a\\u0430\\u0442\\u0435\\u0440\\u0438\\u043d\\u0431\\u0443\\u0440\\u0433\",\"\\u0415\\u043a\\u0430\\u0442\\u0435\\u0440\\u0438\\u043d\\u0431\\u0443\\u0440\\u0433\",\"\\u0415\\u043a\\u0430\\u0442\\u0435\\u0440\\u0438\\u043d\\u0431\\u0443\\u0440\\u0433\",\"\\u0415\\u043a\\u0430\\u0442\\u0435\\u0440\\u0438\\u043d\\u0431\\u0443\\u0440\\u0433\",\"\\u0415\\u043a\\u0430\\u0442\\u0435\\u0440\\u0438\\u043d\\u0431\\u0443\\u0440\\u0433\",\"\\u0415\\u043a\\u0430\\u0442\\u0435\\u0440\\u0438\\u043d\\u0431\\u0443\\u0440\\u0433\",\"\\u0415\\u043a\\u0430\\u0442\\u0435\\u0440\\u0438\\u043d\\u0431\\u0443\\u0440\\u0433\",\"\\u0415\\u043a\\u0430\\u0442\\u0435\\u0440\\u0438\\u043d\\u0431\\u0443\\u0440\\u0433\",\"\\u0415\\u043a\\u0430\\u0442\\u0435\\u0440\\u0438\\u043d\\u0431\\u0443\\u0440\\u0433\",\"\\u0415\\u043a\\u0430\\u0442\\u0435\\u0440\\u0438\\u043d\\u0431\\u0443\\u0440\\u0433\",\"\\u0415\\u043a\\u0430\\u0442\\u0435\\u0440\\u0438\\u043d\\u0431\\u0443\\u0440\\u0433\",\"\\u0415\\u043a\\u0430\\u0442\\u0435\\u0440\\u0438\\u043d\\u0431\\u0443\\u0440\\u0433\",\"\\u0415\\u043a\\u0430\\u0442\\u0435\\u0440\\u0438\\u043d\\u0431\\u0443\\u0440\\u0433\",\"\\u0415\\u043a\\u0430\\u0442\\u0435\\u0440\\u0438\\u043d\\u0431\\u0443\\u0440\\u0433\",\"\\u0415\\u043a\\u0430\\u0442\\u0435\\u0440\\u0438\\u043d\\u0431\\u0443\\u0440\\u0433\"],\"x0\":\" \",\"xaxis\":\"x\",\"y\":[35000.0,50000.0,200000.0,35000.0,35000.0,50000.0,200000.0,35000.0,35000.0,50000.0,200000.0,35000.0,35000.0,50000.0,200000.0,35000.0,35000.0,50000.0,200000.0,35000.0,35000.0,50000.0,200000.0,35000.0,35000.0,50000.0,200000.0,35000.0,35000.0,50000.0,200000.0,35000.0,35000.0,50000.0,200000.0,35000.0,35000.0,50000.0,200000.0,35000.0,35000.0,50000.0,200000.0,35000.0,35000.0,50000.0,200000.0,35000.0,35000.0,50000.0,200000.0,35000.0,35000.0,50000.0,200000.0,35000.0,35000.0,50000.0,200000.0,35000.0,35000.0,50000.0,200000.0,35000.0,35000.0,50000.0,200000.0,35000.0,35000.0,50000.0,200000.0,35000.0,35000.0,50000.0,200000.0,35000.0,35000.0,50000.0,200000.0,35000.0],\"y0\":\" \",\"yaxis\":\"y\",\"type\":\"box\"},{\"alignmentgroup\":\"True\",\"hovertemplate\":\"\\u0420\\u0435\\u0433\\u0438\\u043e\\u043d=%{x}<br>\\u0417\\u0430\\u0440\\u043f\\u043b\\u0430\\u0442\\u0430 \\u043e\\u0442, \\u0440\\u0443\\u0431.=%{y}<extra></extra>\",\"legendgroup\":\"\\u0421\\u0430\\u043d\\u043a\\u0442-\\u041f\\u0435\\u0442\\u0435\\u0440\\u0431\\u0443\\u0440\\u0433\",\"marker\":{\"color\":\"#FFA15A\"},\"name\":\"\\u0421\\u0430\\u043d\\u043a\\u0442-\\u041f\\u0435\\u0442\\u0435\\u0440\\u0431\\u0443\\u0440\\u0433\",\"notched\":false,\"offsetgroup\":\"\\u0421\\u0430\\u043d\\u043a\\u0442-\\u041f\\u0435\\u0442\\u0435\\u0440\\u0431\\u0443\\u0440\\u0433\",\"orientation\":\"v\",\"showlegend\":true,\"x\":[\"\\u0421\\u0430\\u043d\\u043a\\u0442-\\u041f\\u0435\\u0442\\u0435\\u0440\\u0431\\u0443\\u0440\\u0433\",\"\\u0421\\u0430\\u043d\\u043a\\u0442-\\u041f\\u0435\\u0442\\u0435\\u0440\\u0431\\u0443\\u0440\\u0433\",\"\\u0421\\u0430\\u043d\\u043a\\u0442-\\u041f\\u0435\\u0442\\u0435\\u0440\\u0431\\u0443\\u0440\\u0433\",\"\\u0421\\u0430\\u043d\\u043a\\u0442-\\u041f\\u0435\\u0442\\u0435\\u0440\\u0431\\u0443\\u0440\\u0433\",\"\\u0421\\u0430\\u043d\\u043a\\u0442-\\u041f\\u0435\\u0442\\u0435\\u0440\\u0431\\u0443\\u0440\\u0433\",\"\\u0421\\u0430\\u043d\\u043a\\u0442-\\u041f\\u0435\\u0442\\u0435\\u0440\\u0431\\u0443\\u0440\\u0433\",\"\\u0421\\u0430\\u043d\\u043a\\u0442-\\u041f\\u0435\\u0442\\u0435\\u0440\\u0431\\u0443\\u0440\\u0433\",\"\\u0421\\u0430\\u043d\\u043a\\u0442-\\u041f\\u0435\\u0442\\u0435\\u0440\\u0431\\u0443\\u0440\\u0433\",\"\\u0421\\u0430\\u043d\\u043a\\u0442-\\u041f\\u0435\\u0442\\u0435\\u0440\\u0431\\u0443\\u0440\\u0433\",\"\\u0421\\u0430\\u043d\\u043a\\u0442-\\u041f\\u0435\\u0442\\u0435\\u0440\\u0431\\u0443\\u0440\\u0433\",\"\\u0421\\u0430\\u043d\\u043a\\u0442-\\u041f\\u0435\\u0442\\u0435\\u0440\\u0431\\u0443\\u0440\\u0433\",\"\\u0421\\u0430\\u043d\\u043a\\u0442-\\u041f\\u0435\\u0442\\u0435\\u0440\\u0431\\u0443\\u0440\\u0433\",\"\\u0421\\u0430\\u043d\\u043a\\u0442-\\u041f\\u0435\\u0442\\u0435\\u0440\\u0431\\u0443\\u0440\\u0433\",\"\\u0421\\u0430\\u043d\\u043a\\u0442-\\u041f\\u0435\\u0442\\u0435\\u0440\\u0431\\u0443\\u0440\\u0433\",\"\\u0421\\u0430\\u043d\\u043a\\u0442-\\u041f\\u0435\\u0442\\u0435\\u0440\\u0431\\u0443\\u0440\\u0433\",\"\\u0421\\u0430\\u043d\\u043a\\u0442-\\u041f\\u0435\\u0442\\u0435\\u0440\\u0431\\u0443\\u0440\\u0433\",\"\\u0421\\u0430\\u043d\\u043a\\u0442-\\u041f\\u0435\\u0442\\u0435\\u0440\\u0431\\u0443\\u0440\\u0433\",\"\\u0421\\u0430\\u043d\\u043a\\u0442-\\u041f\\u0435\\u0442\\u0435\\u0440\\u0431\\u0443\\u0440\\u0433\",\"\\u0421\\u0430\\u043d\\u043a\\u0442-\\u041f\\u0435\\u0442\\u0435\\u0440\\u0431\\u0443\\u0440\\u0433\",\"\\u0421\\u0430\\u043d\\u043a\\u0442-\\u041f\\u0435\\u0442\\u0435\\u0440\\u0431\\u0443\\u0440\\u0433\",\"\\u0421\\u0430\\u043d\\u043a\\u0442-\\u041f\\u0435\\u0442\\u0435\\u0440\\u0431\\u0443\\u0440\\u0433\",\"\\u0421\\u0430\\u043d\\u043a\\u0442-\\u041f\\u0435\\u0442\\u0435\\u0440\\u0431\\u0443\\u0440\\u0433\",\"\\u0421\\u0430\\u043d\\u043a\\u0442-\\u041f\\u0435\\u0442\\u0435\\u0440\\u0431\\u0443\\u0440\\u0433\",\"\\u0421\\u0430\\u043d\\u043a\\u0442-\\u041f\\u0435\\u0442\\u0435\\u0440\\u0431\\u0443\\u0440\\u0433\",\"\\u0421\\u0430\\u043d\\u043a\\u0442-\\u041f\\u0435\\u0442\\u0435\\u0440\\u0431\\u0443\\u0440\\u0433\",\"\\u0421\\u0430\\u043d\\u043a\\u0442-\\u041f\\u0435\\u0442\\u0435\\u0440\\u0431\\u0443\\u0440\\u0433\",\"\\u0421\\u0430\\u043d\\u043a\\u0442-\\u041f\\u0435\\u0442\\u0435\\u0440\\u0431\\u0443\\u0440\\u0433\",\"\\u0421\\u0430\\u043d\\u043a\\u0442-\\u041f\\u0435\\u0442\\u0435\\u0440\\u0431\\u0443\\u0440\\u0433\",\"\\u0421\\u0430\\u043d\\u043a\\u0442-\\u041f\\u0435\\u0442\\u0435\\u0440\\u0431\\u0443\\u0440\\u0433\",\"\\u0421\\u0430\\u043d\\u043a\\u0442-\\u041f\\u0435\\u0442\\u0435\\u0440\\u0431\\u0443\\u0440\\u0433\",\"\\u0421\\u0430\\u043d\\u043a\\u0442-\\u041f\\u0435\\u0442\\u0435\\u0440\\u0431\\u0443\\u0440\\u0433\",\"\\u0421\\u0430\\u043d\\u043a\\u0442-\\u041f\\u0435\\u0442\\u0435\\u0440\\u0431\\u0443\\u0440\\u0433\",\"\\u0421\\u0430\\u043d\\u043a\\u0442-\\u041f\\u0435\\u0442\\u0435\\u0440\\u0431\\u0443\\u0440\\u0433\",\"\\u0421\\u0430\\u043d\\u043a\\u0442-\\u041f\\u0435\\u0442\\u0435\\u0440\\u0431\\u0443\\u0440\\u0433\",\"\\u0421\\u0430\\u043d\\u043a\\u0442-\\u041f\\u0435\\u0442\\u0435\\u0440\\u0431\\u0443\\u0440\\u0433\",\"\\u0421\\u0430\\u043d\\u043a\\u0442-\\u041f\\u0435\\u0442\\u0435\\u0440\\u0431\\u0443\\u0440\\u0433\",\"\\u0421\\u0430\\u043d\\u043a\\u0442-\\u041f\\u0435\\u0442\\u0435\\u0440\\u0431\\u0443\\u0440\\u0433\",\"\\u0421\\u0430\\u043d\\u043a\\u0442-\\u041f\\u0435\\u0442\\u0435\\u0440\\u0431\\u0443\\u0440\\u0433\",\"\\u0421\\u0430\\u043d\\u043a\\u0442-\\u041f\\u0435\\u0442\\u0435\\u0440\\u0431\\u0443\\u0440\\u0433\",\"\\u0421\\u0430\\u043d\\u043a\\u0442-\\u041f\\u0435\\u0442\\u0435\\u0440\\u0431\\u0443\\u0440\\u0433\",\"\\u0421\\u0430\\u043d\\u043a\\u0442-\\u041f\\u0435\\u0442\\u0435\\u0440\\u0431\\u0443\\u0440\\u0433\",\"\\u0421\\u0430\\u043d\\u043a\\u0442-\\u041f\\u0435\\u0442\\u0435\\u0440\\u0431\\u0443\\u0440\\u0433\",\"\\u0421\\u0430\\u043d\\u043a\\u0442-\\u041f\\u0435\\u0442\\u0435\\u0440\\u0431\\u0443\\u0440\\u0433\",\"\\u0421\\u0430\\u043d\\u043a\\u0442-\\u041f\\u0435\\u0442\\u0435\\u0440\\u0431\\u0443\\u0440\\u0433\",\"\\u0421\\u0430\\u043d\\u043a\\u0442-\\u041f\\u0435\\u0442\\u0435\\u0440\\u0431\\u0443\\u0440\\u0433\",\"\\u0421\\u0430\\u043d\\u043a\\u0442-\\u041f\\u0435\\u0442\\u0435\\u0440\\u0431\\u0443\\u0440\\u0433\",\"\\u0421\\u0430\\u043d\\u043a\\u0442-\\u041f\\u0435\\u0442\\u0435\\u0440\\u0431\\u0443\\u0440\\u0433\",\"\\u0421\\u0430\\u043d\\u043a\\u0442-\\u041f\\u0435\\u0442\\u0435\\u0440\\u0431\\u0443\\u0440\\u0433\",\"\\u0421\\u0430\\u043d\\u043a\\u0442-\\u041f\\u0435\\u0442\\u0435\\u0440\\u0431\\u0443\\u0440\\u0433\",\"\\u0421\\u0430\\u043d\\u043a\\u0442-\\u041f\\u0435\\u0442\\u0435\\u0440\\u0431\\u0443\\u0440\\u0433\",\"\\u0421\\u0430\\u043d\\u043a\\u0442-\\u041f\\u0435\\u0442\\u0435\\u0440\\u0431\\u0443\\u0440\\u0433\",\"\\u0421\\u0430\\u043d\\u043a\\u0442-\\u041f\\u0435\\u0442\\u0435\\u0440\\u0431\\u0443\\u0440\\u0433\",\"\\u0421\\u0430\\u043d\\u043a\\u0442-\\u041f\\u0435\\u0442\\u0435\\u0440\\u0431\\u0443\\u0440\\u0433\",\"\\u0421\\u0430\\u043d\\u043a\\u0442-\\u041f\\u0435\\u0442\\u0435\\u0440\\u0431\\u0443\\u0440\\u0433\",\"\\u0421\\u0430\\u043d\\u043a\\u0442-\\u041f\\u0435\\u0442\\u0435\\u0440\\u0431\\u0443\\u0440\\u0433\",\"\\u0421\\u0430\\u043d\\u043a\\u0442-\\u041f\\u0435\\u0442\\u0435\\u0440\\u0431\\u0443\\u0440\\u0433\",\"\\u0421\\u0430\\u043d\\u043a\\u0442-\\u041f\\u0435\\u0442\\u0435\\u0440\\u0431\\u0443\\u0440\\u0433\",\"\\u0421\\u0430\\u043d\\u043a\\u0442-\\u041f\\u0435\\u0442\\u0435\\u0440\\u0431\\u0443\\u0440\\u0433\",\"\\u0421\\u0430\\u043d\\u043a\\u0442-\\u041f\\u0435\\u0442\\u0435\\u0440\\u0431\\u0443\\u0440\\u0433\",\"\\u0421\\u0430\\u043d\\u043a\\u0442-\\u041f\\u0435\\u0442\\u0435\\u0440\\u0431\\u0443\\u0440\\u0433\"],\"x0\":\" \",\"xaxis\":\"x\",\"y\":[60000.0,60000.0,80000.0,60000.0,60000.0,80000.0,60000.0,60000.0,80000.0,60000.0,60000.0,80000.0,60000.0,60000.0,80000.0,60000.0,60000.0,80000.0,60000.0,60000.0,80000.0,60000.0,60000.0,80000.0,60000.0,60000.0,80000.0,60000.0,60000.0,80000.0,60000.0,60000.0,80000.0,60000.0,60000.0,80000.0,60000.0,60000.0,80000.0,60000.0,60000.0,80000.0,60000.0,60000.0,80000.0,60000.0,60000.0,80000.0,60000.0,60000.0,80000.0,60000.0,60000.0,80000.0,60000.0,60000.0,80000.0,60000.0,60000.0,80000.0],\"y0\":\" \",\"yaxis\":\"y\",\"type\":\"box\"},{\"alignmentgroup\":\"True\",\"hovertemplate\":\"\\u0420\\u0435\\u0433\\u0438\\u043e\\u043d=%{x}<br>\\u0417\\u0430\\u0440\\u043f\\u043b\\u0430\\u0442\\u0430 \\u043e\\u0442, \\u0440\\u0443\\u0431.=%{y}<extra></extra>\",\"legendgroup\":\"\\u0422\\u0443\\u043b\\u0430\",\"marker\":{\"color\":\"#19d3f3\"},\"name\":\"\\u0422\\u0443\\u043b\\u0430\",\"notched\":false,\"offsetgroup\":\"\\u0422\\u0443\\u043b\\u0430\",\"orientation\":\"v\",\"showlegend\":true,\"x\":[\"\\u0422\\u0443\\u043b\\u0430\",\"\\u0422\\u0443\\u043b\\u0430\",\"\\u0422\\u0443\\u043b\\u0430\",\"\\u0422\\u0443\\u043b\\u0430\",\"\\u0422\\u0443\\u043b\\u0430\",\"\\u0422\\u0443\\u043b\\u0430\",\"\\u0422\\u0443\\u043b\\u0430\",\"\\u0422\\u0443\\u043b\\u0430\",\"\\u0422\\u0443\\u043b\\u0430\",\"\\u0422\\u0443\\u043b\\u0430\",\"\\u0422\\u0443\\u043b\\u0430\",\"\\u0422\\u0443\\u043b\\u0430\",\"\\u0422\\u0443\\u043b\\u0430\",\"\\u0422\\u0443\\u043b\\u0430\",\"\\u0422\\u0443\\u043b\\u0430\",\"\\u0422\\u0443\\u043b\\u0430\",\"\\u0422\\u0443\\u043b\\u0430\",\"\\u0422\\u0443\\u043b\\u0430\",\"\\u0422\\u0443\\u043b\\u0430\",\"\\u0422\\u0443\\u043b\\u0430\",\"\\u0422\\u0443\\u043b\\u0430\",\"\\u0422\\u0443\\u043b\\u0430\",\"\\u0422\\u0443\\u043b\\u0430\",\"\\u0422\\u0443\\u043b\\u0430\",\"\\u0422\\u0443\\u043b\\u0430\",\"\\u0422\\u0443\\u043b\\u0430\",\"\\u0422\\u0443\\u043b\\u0430\",\"\\u0422\\u0443\\u043b\\u0430\",\"\\u0422\\u0443\\u043b\\u0430\",\"\\u0422\\u0443\\u043b\\u0430\",\"\\u0422\\u0443\\u043b\\u0430\",\"\\u0422\\u0443\\u043b\\u0430\",\"\\u0422\\u0443\\u043b\\u0430\",\"\\u0422\\u0443\\u043b\\u0430\",\"\\u0422\\u0443\\u043b\\u0430\",\"\\u0422\\u0443\\u043b\\u0430\",\"\\u0422\\u0443\\u043b\\u0430\",\"\\u0422\\u0443\\u043b\\u0430\",\"\\u0422\\u0443\\u043b\\u0430\",\"\\u0422\\u0443\\u043b\\u0430\",\"\\u0422\\u0443\\u043b\\u0430\",\"\\u0422\\u0443\\u043b\\u0430\",\"\\u0422\\u0443\\u043b\\u0430\",\"\\u0422\\u0443\\u043b\\u0430\",\"\\u0422\\u0443\\u043b\\u0430\",\"\\u0422\\u0443\\u043b\\u0430\",\"\\u0422\\u0443\\u043b\\u0430\",\"\\u0422\\u0443\\u043b\\u0430\",\"\\u0422\\u0443\\u043b\\u0430\",\"\\u0422\\u0443\\u043b\\u0430\",\"\\u0422\\u0443\\u043b\\u0430\",\"\\u0422\\u0443\\u043b\\u0430\",\"\\u0422\\u0443\\u043b\\u0430\",\"\\u0422\\u0443\\u043b\\u0430\",\"\\u0422\\u0443\\u043b\\u0430\",\"\\u0422\\u0443\\u043b\\u0430\",\"\\u0422\\u0443\\u043b\\u0430\",\"\\u0422\\u0443\\u043b\\u0430\",\"\\u0422\\u0443\\u043b\\u0430\",\"\\u0422\\u0443\\u043b\\u0430\"],\"x0\":\" \",\"xaxis\":\"x\",\"y\":[50000.0,114000.0,35000.0,50000.0,114000.0,35000.0,50000.0,114000.0,35000.0,50000.0,114000.0,35000.0,50000.0,114000.0,35000.0,50000.0,114000.0,35000.0,50000.0,114000.0,35000.0,50000.0,114000.0,35000.0,50000.0,114000.0,35000.0,50000.0,114000.0,35000.0,50000.0,114000.0,35000.0,50000.0,114000.0,35000.0,50000.0,114000.0,35000.0,50000.0,114000.0,35000.0,50000.0,114000.0,35000.0,50000.0,114000.0,35000.0,50000.0,114000.0,35000.0,50000.0,114000.0,35000.0,50000.0,114000.0,35000.0,50000.0,114000.0,35000.0],\"y0\":\" \",\"yaxis\":\"y\",\"type\":\"box\"},{\"alignmentgroup\":\"True\",\"hovertemplate\":\"\\u0420\\u0435\\u0433\\u0438\\u043e\\u043d=%{x}<br>\\u0417\\u0430\\u0440\\u043f\\u043b\\u0430\\u0442\\u0430 \\u043e\\u0442, \\u0440\\u0443\\u0431.=%{y}<extra></extra>\",\"legendgroup\":\"\\u0421\\u0430\\u043c\\u0430\\u0440\\u0430\",\"marker\":{\"color\":\"#FF6692\"},\"name\":\"\\u0421\\u0430\\u043c\\u0430\\u0440\\u0430\",\"notched\":false,\"offsetgroup\":\"\\u0421\\u0430\\u043c\\u0430\\u0440\\u0430\",\"orientation\":\"v\",\"showlegend\":true,\"x\":[\"\\u0421\\u0430\\u043c\\u0430\\u0440\\u0430\",\"\\u0421\\u0430\\u043c\\u0430\\u0440\\u0430\",\"\\u0421\\u0430\\u043c\\u0430\\u0440\\u0430\",\"\\u0421\\u0430\\u043c\\u0430\\u0440\\u0430\",\"\\u0421\\u0430\\u043c\\u0430\\u0440\\u0430\",\"\\u0421\\u0430\\u043c\\u0430\\u0440\\u0430\",\"\\u0421\\u0430\\u043c\\u0430\\u0440\\u0430\",\"\\u0421\\u0430\\u043c\\u0430\\u0440\\u0430\",\"\\u0421\\u0430\\u043c\\u0430\\u0440\\u0430\",\"\\u0421\\u0430\\u043c\\u0430\\u0440\\u0430\",\"\\u0421\\u0430\\u043c\\u0430\\u0440\\u0430\",\"\\u0421\\u0430\\u043c\\u0430\\u0440\\u0430\",\"\\u0421\\u0430\\u043c\\u0430\\u0440\\u0430\",\"\\u0421\\u0430\\u043c\\u0430\\u0440\\u0430\",\"\\u0421\\u0430\\u043c\\u0430\\u0440\\u0430\",\"\\u0421\\u0430\\u043c\\u0430\\u0440\\u0430\",\"\\u0421\\u0430\\u043c\\u0430\\u0440\\u0430\",\"\\u0421\\u0430\\u043c\\u0430\\u0440\\u0430\",\"\\u0421\\u0430\\u043c\\u0430\\u0440\\u0430\",\"\\u0421\\u0430\\u043c\\u0430\\u0440\\u0430\",\"\\u0421\\u0430\\u043c\\u0430\\u0440\\u0430\",\"\\u0421\\u0430\\u043c\\u0430\\u0440\\u0430\",\"\\u0421\\u0430\\u043c\\u0430\\u0440\\u0430\",\"\\u0421\\u0430\\u043c\\u0430\\u0440\\u0430\",\"\\u0421\\u0430\\u043c\\u0430\\u0440\\u0430\",\"\\u0421\\u0430\\u043c\\u0430\\u0440\\u0430\",\"\\u0421\\u0430\\u043c\\u0430\\u0440\\u0430\",\"\\u0421\\u0430\\u043c\\u0430\\u0440\\u0430\",\"\\u0421\\u0430\\u043c\\u0430\\u0440\\u0430\",\"\\u0421\\u0430\\u043c\\u0430\\u0440\\u0430\",\"\\u0421\\u0430\\u043c\\u0430\\u0440\\u0430\",\"\\u0421\\u0430\\u043c\\u0430\\u0440\\u0430\",\"\\u0421\\u0430\\u043c\\u0430\\u0440\\u0430\",\"\\u0421\\u0430\\u043c\\u0430\\u0440\\u0430\",\"\\u0421\\u0430\\u043c\\u0430\\u0440\\u0430\",\"\\u0421\\u0430\\u043c\\u0430\\u0440\\u0430\",\"\\u0421\\u0430\\u043c\\u0430\\u0440\\u0430\",\"\\u0421\\u0430\\u043c\\u0430\\u0440\\u0430\",\"\\u0421\\u0430\\u043c\\u0430\\u0440\\u0430\",\"\\u0421\\u0430\\u043c\\u0430\\u0440\\u0430\"],\"x0\":\" \",\"xaxis\":\"x\",\"y\":[50000.0,80000.0,50000.0,80000.0,50000.0,80000.0,50000.0,80000.0,50000.0,80000.0,50000.0,80000.0,50000.0,80000.0,50000.0,80000.0,50000.0,80000.0,50000.0,80000.0,50000.0,80000.0,50000.0,80000.0,50000.0,80000.0,50000.0,80000.0,50000.0,80000.0,50000.0,80000.0,50000.0,80000.0,50000.0,80000.0,50000.0,80000.0,50000.0,80000.0],\"y0\":\" \",\"yaxis\":\"y\",\"type\":\"box\"}],                        {\"template\":{\"data\":{\"histogram2dcontour\":[{\"type\":\"histogram2dcontour\",\"colorbar\":{\"outlinewidth\":0,\"ticks\":\"\"},\"colorscale\":[[0.0,\"#0d0887\"],[0.1111111111111111,\"#46039f\"],[0.2222222222222222,\"#7201a8\"],[0.3333333333333333,\"#9c179e\"],[0.4444444444444444,\"#bd3786\"],[0.5555555555555556,\"#d8576b\"],[0.6666666666666666,\"#ed7953\"],[0.7777777777777778,\"#fb9f3a\"],[0.8888888888888888,\"#fdca26\"],[1.0,\"#f0f921\"]]}],\"choropleth\":[{\"type\":\"choropleth\",\"colorbar\":{\"outlinewidth\":0,\"ticks\":\"\"}}],\"histogram2d\":[{\"type\":\"histogram2d\",\"colorbar\":{\"outlinewidth\":0,\"ticks\":\"\"},\"colorscale\":[[0.0,\"#0d0887\"],[0.1111111111111111,\"#46039f\"],[0.2222222222222222,\"#7201a8\"],[0.3333333333333333,\"#9c179e\"],[0.4444444444444444,\"#bd3786\"],[0.5555555555555556,\"#d8576b\"],[0.6666666666666666,\"#ed7953\"],[0.7777777777777778,\"#fb9f3a\"],[0.8888888888888888,\"#fdca26\"],[1.0,\"#f0f921\"]]}],\"heatmap\":[{\"type\":\"heatmap\",\"colorbar\":{\"outlinewidth\":0,\"ticks\":\"\"},\"colorscale\":[[0.0,\"#0d0887\"],[0.1111111111111111,\"#46039f\"],[0.2222222222222222,\"#7201a8\"],[0.3333333333333333,\"#9c179e\"],[0.4444444444444444,\"#bd3786\"],[0.5555555555555556,\"#d8576b\"],[0.6666666666666666,\"#ed7953\"],[0.7777777777777778,\"#fb9f3a\"],[0.8888888888888888,\"#fdca26\"],[1.0,\"#f0f921\"]]}],\"heatmapgl\":[{\"type\":\"heatmapgl\",\"colorbar\":{\"outlinewidth\":0,\"ticks\":\"\"},\"colorscale\":[[0.0,\"#0d0887\"],[0.1111111111111111,\"#46039f\"],[0.2222222222222222,\"#7201a8\"],[0.3333333333333333,\"#9c179e\"],[0.4444444444444444,\"#bd3786\"],[0.5555555555555556,\"#d8576b\"],[0.6666666666666666,\"#ed7953\"],[0.7777777777777778,\"#fb9f3a\"],[0.8888888888888888,\"#fdca26\"],[1.0,\"#f0f921\"]]}],\"contourcarpet\":[{\"type\":\"contourcarpet\",\"colorbar\":{\"outlinewidth\":0,\"ticks\":\"\"}}],\"contour\":[{\"type\":\"contour\",\"colorbar\":{\"outlinewidth\":0,\"ticks\":\"\"},\"colorscale\":[[0.0,\"#0d0887\"],[0.1111111111111111,\"#46039f\"],[0.2222222222222222,\"#7201a8\"],[0.3333333333333333,\"#9c179e\"],[0.4444444444444444,\"#bd3786\"],[0.5555555555555556,\"#d8576b\"],[0.6666666666666666,\"#ed7953\"],[0.7777777777777778,\"#fb9f3a\"],[0.8888888888888888,\"#fdca26\"],[1.0,\"#f0f921\"]]}],\"surface\":[{\"type\":\"surface\",\"colorbar\":{\"outlinewidth\":0,\"ticks\":\"\"},\"colorscale\":[[0.0,\"#0d0887\"],[0.1111111111111111,\"#46039f\"],[0.2222222222222222,\"#7201a8\"],[0.3333333333333333,\"#9c179e\"],[0.4444444444444444,\"#bd3786\"],[0.5555555555555556,\"#d8576b\"],[0.6666666666666666,\"#ed7953\"],[0.7777777777777778,\"#fb9f3a\"],[0.8888888888888888,\"#fdca26\"],[1.0,\"#f0f921\"]]}],\"mesh3d\":[{\"type\":\"mesh3d\",\"colorbar\":{\"outlinewidth\":0,\"ticks\":\"\"}}],\"scatter\":[{\"fillpattern\":{\"fillmode\":\"overlay\",\"size\":10,\"solidity\":0.2},\"type\":\"scatter\"}],\"parcoords\":[{\"type\":\"parcoords\",\"line\":{\"colorbar\":{\"outlinewidth\":0,\"ticks\":\"\"}}}],\"scatterpolargl\":[{\"type\":\"scatterpolargl\",\"marker\":{\"colorbar\":{\"outlinewidth\":0,\"ticks\":\"\"}}}],\"bar\":[{\"error_x\":{\"color\":\"#2a3f5f\"},\"error_y\":{\"color\":\"#2a3f5f\"},\"marker\":{\"line\":{\"color\":\"#E5ECF6\",\"width\":0.5},\"pattern\":{\"fillmode\":\"overlay\",\"size\":10,\"solidity\":0.2}},\"type\":\"bar\"}],\"scattergeo\":[{\"type\":\"scattergeo\",\"marker\":{\"colorbar\":{\"outlinewidth\":0,\"ticks\":\"\"}}}],\"scatterpolar\":[{\"type\":\"scatterpolar\",\"marker\":{\"colorbar\":{\"outlinewidth\":0,\"ticks\":\"\"}}}],\"histogram\":[{\"marker\":{\"pattern\":{\"fillmode\":\"overlay\",\"size\":10,\"solidity\":0.2}},\"type\":\"histogram\"}],\"scattergl\":[{\"type\":\"scattergl\",\"marker\":{\"colorbar\":{\"outlinewidth\":0,\"ticks\":\"\"}}}],\"scatter3d\":[{\"type\":\"scatter3d\",\"line\":{\"colorbar\":{\"outlinewidth\":0,\"ticks\":\"\"}},\"marker\":{\"colorbar\":{\"outlinewidth\":0,\"ticks\":\"\"}}}],\"scattermapbox\":[{\"type\":\"scattermapbox\",\"marker\":{\"colorbar\":{\"outlinewidth\":0,\"ticks\":\"\"}}}],\"scatterternary\":[{\"type\":\"scatterternary\",\"marker\":{\"colorbar\":{\"outlinewidth\":0,\"ticks\":\"\"}}}],\"scattercarpet\":[{\"type\":\"scattercarpet\",\"marker\":{\"colorbar\":{\"outlinewidth\":0,\"ticks\":\"\"}}}],\"carpet\":[{\"aaxis\":{\"endlinecolor\":\"#2a3f5f\",\"gridcolor\":\"white\",\"linecolor\":\"white\",\"minorgridcolor\":\"white\",\"startlinecolor\":\"#2a3f5f\"},\"baxis\":{\"endlinecolor\":\"#2a3f5f\",\"gridcolor\":\"white\",\"linecolor\":\"white\",\"minorgridcolor\":\"white\",\"startlinecolor\":\"#2a3f5f\"},\"type\":\"carpet\"}],\"table\":[{\"cells\":{\"fill\":{\"color\":\"#EBF0F8\"},\"line\":{\"color\":\"white\"}},\"header\":{\"fill\":{\"color\":\"#C8D4E3\"},\"line\":{\"color\":\"white\"}},\"type\":\"table\"}],\"barpolar\":[{\"marker\":{\"line\":{\"color\":\"#E5ECF6\",\"width\":0.5},\"pattern\":{\"fillmode\":\"overlay\",\"size\":10,\"solidity\":0.2}},\"type\":\"barpolar\"}],\"pie\":[{\"automargin\":true,\"type\":\"pie\"}]},\"layout\":{\"autotypenumbers\":\"strict\",\"colorway\":[\"#636efa\",\"#EF553B\",\"#00cc96\",\"#ab63fa\",\"#FFA15A\",\"#19d3f3\",\"#FF6692\",\"#B6E880\",\"#FF97FF\",\"#FECB52\"],\"font\":{\"color\":\"#2a3f5f\"},\"hovermode\":\"closest\",\"hoverlabel\":{\"align\":\"left\"},\"paper_bgcolor\":\"white\",\"plot_bgcolor\":\"#E5ECF6\",\"polar\":{\"bgcolor\":\"#E5ECF6\",\"angularaxis\":{\"gridcolor\":\"white\",\"linecolor\":\"white\",\"ticks\":\"\"},\"radialaxis\":{\"gridcolor\":\"white\",\"linecolor\":\"white\",\"ticks\":\"\"}},\"ternary\":{\"bgcolor\":\"#E5ECF6\",\"aaxis\":{\"gridcolor\":\"white\",\"linecolor\":\"white\",\"ticks\":\"\"},\"baxis\":{\"gridcolor\":\"white\",\"linecolor\":\"white\",\"ticks\":\"\"},\"caxis\":{\"gridcolor\":\"white\",\"linecolor\":\"white\",\"ticks\":\"\"}},\"coloraxis\":{\"colorbar\":{\"outlinewidth\":0,\"ticks\":\"\"}},\"colorscale\":{\"sequential\":[[0.0,\"#0d0887\"],[0.1111111111111111,\"#46039f\"],[0.2222222222222222,\"#7201a8\"],[0.3333333333333333,\"#9c179e\"],[0.4444444444444444,\"#bd3786\"],[0.5555555555555556,\"#d8576b\"],[0.6666666666666666,\"#ed7953\"],[0.7777777777777778,\"#fb9f3a\"],[0.8888888888888888,\"#fdca26\"],[1.0,\"#f0f921\"]],\"sequentialminus\":[[0.0,\"#0d0887\"],[0.1111111111111111,\"#46039f\"],[0.2222222222222222,\"#7201a8\"],[0.3333333333333333,\"#9c179e\"],[0.4444444444444444,\"#bd3786\"],[0.5555555555555556,\"#d8576b\"],[0.6666666666666666,\"#ed7953\"],[0.7777777777777778,\"#fb9f3a\"],[0.8888888888888888,\"#fdca26\"],[1.0,\"#f0f921\"]],\"diverging\":[[0,\"#8e0152\"],[0.1,\"#c51b7d\"],[0.2,\"#de77ae\"],[0.3,\"#f1b6da\"],[0.4,\"#fde0ef\"],[0.5,\"#f7f7f7\"],[0.6,\"#e6f5d0\"],[0.7,\"#b8e186\"],[0.8,\"#7fbc41\"],[0.9,\"#4d9221\"],[1,\"#276419\"]]},\"xaxis\":{\"gridcolor\":\"white\",\"linecolor\":\"white\",\"ticks\":\"\",\"title\":{\"standoff\":15},\"zerolinecolor\":\"white\",\"automargin\":true,\"zerolinewidth\":2},\"yaxis\":{\"gridcolor\":\"white\",\"linecolor\":\"white\",\"ticks\":\"\",\"title\":{\"standoff\":15},\"zerolinecolor\":\"white\",\"automargin\":true,\"zerolinewidth\":2},\"scene\":{\"xaxis\":{\"backgroundcolor\":\"#E5ECF6\",\"gridcolor\":\"white\",\"linecolor\":\"white\",\"showbackground\":true,\"ticks\":\"\",\"zerolinecolor\":\"white\",\"gridwidth\":2},\"yaxis\":{\"backgroundcolor\":\"#E5ECF6\",\"gridcolor\":\"white\",\"linecolor\":\"white\",\"showbackground\":true,\"ticks\":\"\",\"zerolinecolor\":\"white\",\"gridwidth\":2},\"zaxis\":{\"backgroundcolor\":\"#E5ECF6\",\"gridcolor\":\"white\",\"linecolor\":\"white\",\"showbackground\":true,\"ticks\":\"\",\"zerolinecolor\":\"white\",\"gridwidth\":2}},\"shapedefaults\":{\"line\":{\"color\":\"#2a3f5f\"}},\"annotationdefaults\":{\"arrowcolor\":\"#2a3f5f\",\"arrowhead\":0,\"arrowwidth\":1},\"geo\":{\"bgcolor\":\"white\",\"landcolor\":\"#E5ECF6\",\"subunitcolor\":\"white\",\"showland\":true,\"showlakes\":true,\"lakecolor\":\"white\"},\"title\":{\"x\":0.05},\"mapbox\":{\"style\":\"light\"}}},\"xaxis\":{\"anchor\":\"y\",\"domain\":[0.0,1.0],\"title\":{\"text\":\"\\u0420\\u0435\\u0433\\u0438\\u043e\\u043d\"},\"categoryorder\":\"array\",\"categoryarray\":[\"\\u041d\\u0438\\u0436\\u043d\\u0438\\u0439 \\u041d\\u043e\\u0432\\u0433\\u043e\\u0440\\u043e\\u0434\",\"\\u041c\\u043e\\u0441\\u043a\\u0432\\u0430\",\"\\u041d\\u043e\\u0432\\u043e\\u0441\\u0438\\u0431\\u0438\\u0440\\u0441\\u043a\",\"\\u0415\\u043a\\u0430\\u0442\\u0435\\u0440\\u0438\\u043d\\u0431\\u0443\\u0440\\u0433\",\"\\u0421\\u0430\\u043d\\u043a\\u0442-\\u041f\\u0435\\u0442\\u0435\\u0440\\u0431\\u0443\\u0440\\u0433\",\"\\u0422\\u0443\\u043b\\u0430\",\"\\u0421\\u0430\\u043c\\u0430\\u0440\\u0430\"]},\"yaxis\":{\"anchor\":\"x\",\"domain\":[0.0,1.0],\"title\":{\"text\":\"\\u0417\\u0430\\u0440\\u043f\\u043b\\u0430\\u0442\\u0430 \\u043e\\u0442, \\u0440\\u0443\\u0431.\"}},\"legend\":{\"title\":{\"text\":\"\\u0420\\u0435\\u0433\\u0438\\u043e\\u043d\"},\"tracegroupgap\":0},\"margin\":{\"t\":60},\"boxmode\":\"overlay\"},                        {\"responsive\": true}                    ).then(function(){\n",
       "                            \n",
       "var gd = document.getElementById('aef5d751-acbb-4b8d-aaa0-f212e521facf');\n",
       "var x = new MutationObserver(function (mutations, observer) {{\n",
       "        var display = window.getComputedStyle(gd).display;\n",
       "        if (!display || display === 'none') {{\n",
       "            console.log([gd, 'removed!']);\n",
       "            Plotly.purge(gd);\n",
       "            observer.disconnect();\n",
       "        }}\n",
       "}});\n",
       "\n",
       "// Listen for the removal of the full notebook cells\n",
       "var notebookContainer = gd.closest('#notebook-container');\n",
       "if (notebookContainer) {{\n",
       "    x.observe(notebookContainer, {childList: true});\n",
       "}}\n",
       "\n",
       "// Listen for the clearing of the current output cell\n",
       "var outputEl = gd.closest('.output');\n",
       "if (outputEl) {{\n",
       "    x.observe(outputEl, {childList: true});\n",
       "}}\n",
       "\n",
       "                        })                };                });            </script>        </div>"
      ]
     },
     "metadata": {},
     "output_type": "display_data"
    }
   ],
   "source": [
    "#построим график уровень зарплат от какой суммы (там где данные есть)\n",
    "vac_info_new_salary_from = vac_info_new[vac_info_new['salary_from'].notnull()].copy()\n",
    "table_for_plot = vac_info_new_salary_from\n",
    "fig = px.box(table_for_plot, \n",
    "             x=\"area\", \n",
    "             y=\"salary_from\", \n",
    "             color = \"area\", \n",
    "             category_orders = {'area': table_for_plot['area'].value_counts().index}, \n",
    "             labels = {'area':'Регион', 'salary_from':'Зарплата от, руб.'})\n",
    "fig.show()"
   ]
  },
  {
   "cell_type": "code",
   "execution_count": 654,
   "id": "1c1da522",
   "metadata": {},
   "outputs": [
    {
     "data": {
      "application/vnd.plotly.v1+json": {
       "config": {
        "plotlyServerURL": "https://plot.ly"
       },
       "data": [
        {
         "alignmentgroup": "True",
         "hovertemplate": "Регион=%{x}<br>Зарплата от, руб.=%{y}<extra></extra>",
         "legendgroup": "Санкт-Петербург",
         "marker": {
          "color": "#636efa"
         },
         "name": "Санкт-Петербург",
         "notched": false,
         "offsetgroup": "Санкт-Петербург",
         "orientation": "v",
         "showlegend": true,
         "type": "box",
         "x": [
          "Санкт-Петербург",
          "Санкт-Петербург",
          "Санкт-Петербург",
          "Санкт-Петербург",
          "Санкт-Петербург",
          "Санкт-Петербург",
          "Санкт-Петербург",
          "Санкт-Петербург",
          "Санкт-Петербург",
          "Санкт-Петербург",
          "Санкт-Петербург",
          "Санкт-Петербург",
          "Санкт-Петербург",
          "Санкт-Петербург",
          "Санкт-Петербург",
          "Санкт-Петербург",
          "Санкт-Петербург",
          "Санкт-Петербург",
          "Санкт-Петербург",
          "Санкт-Петербург",
          "Санкт-Петербург",
          "Санкт-Петербург",
          "Санкт-Петербург",
          "Санкт-Петербург",
          "Санкт-Петербург",
          "Санкт-Петербург",
          "Санкт-Петербург",
          "Санкт-Петербург",
          "Санкт-Петербург",
          "Санкт-Петербург",
          "Санкт-Петербург",
          "Санкт-Петербург",
          "Санкт-Петербург",
          "Санкт-Петербург",
          "Санкт-Петербург",
          "Санкт-Петербург",
          "Санкт-Петербург",
          "Санкт-Петербург",
          "Санкт-Петербург",
          "Санкт-Петербург",
          "Санкт-Петербург",
          "Санкт-Петербург",
          "Санкт-Петербург",
          "Санкт-Петербург",
          "Санкт-Петербург",
          "Санкт-Петербург",
          "Санкт-Петербург",
          "Санкт-Петербург",
          "Санкт-Петербург",
          "Санкт-Петербург",
          "Санкт-Петербург",
          "Санкт-Петербург",
          "Санкт-Петербург",
          "Санкт-Петербург",
          "Санкт-Петербург",
          "Санкт-Петербург",
          "Санкт-Петербург",
          "Санкт-Петербург",
          "Санкт-Петербург",
          "Санкт-Петербург",
          "Санкт-Петербург",
          "Санкт-Петербург",
          "Санкт-Петербург",
          "Санкт-Петербург",
          "Санкт-Петербург",
          "Санкт-Петербург",
          "Санкт-Петербург",
          "Санкт-Петербург",
          "Санкт-Петербург",
          "Санкт-Петербург",
          "Санкт-Петербург",
          "Санкт-Петербург",
          "Санкт-Петербург",
          "Санкт-Петербург",
          "Санкт-Петербург",
          "Санкт-Петербург",
          "Санкт-Петербург",
          "Санкт-Петербург",
          "Санкт-Петербург",
          "Санкт-Петербург"
         ],
         "x0": " ",
         "xaxis": "x",
         "y": [
          100000,
          130000,
          35000,
          60000,
          100000,
          130000,
          35000,
          60000,
          100000,
          130000,
          35000,
          60000,
          100000,
          130000,
          35000,
          60000,
          100000,
          130000,
          35000,
          60000,
          100000,
          130000,
          35000,
          60000,
          100000,
          130000,
          35000,
          60000,
          100000,
          130000,
          35000,
          60000,
          100000,
          130000,
          35000,
          60000,
          100000,
          130000,
          35000,
          60000,
          100000,
          130000,
          35000,
          60000,
          100000,
          130000,
          35000,
          60000,
          100000,
          130000,
          35000,
          60000,
          100000,
          130000,
          35000,
          60000,
          100000,
          130000,
          35000,
          60000,
          100000,
          130000,
          35000,
          60000,
          100000,
          130000,
          35000,
          60000,
          100000,
          130000,
          35000,
          60000,
          100000,
          130000,
          35000,
          60000,
          100000,
          130000,
          35000,
          60000
         ],
         "y0": " ",
         "yaxis": "y"
        },
        {
         "alignmentgroup": "True",
         "hovertemplate": "Регион=%{x}<br>Зарплата от, руб.=%{y}<extra></extra>",
         "legendgroup": "Нижний Новгород",
         "marker": {
          "color": "#EF553B"
         },
         "name": "Нижний Новгород",
         "notched": false,
         "offsetgroup": "Нижний Новгород",
         "orientation": "v",
         "showlegend": true,
         "type": "box",
         "x": [
          "Нижний Новгород",
          "Нижний Новгород",
          "Нижний Новгород",
          "Нижний Новгород",
          "Нижний Новгород",
          "Нижний Новгород",
          "Нижний Новгород",
          "Нижний Новгород",
          "Нижний Новгород",
          "Нижний Новгород",
          "Нижний Новгород",
          "Нижний Новгород",
          "Нижний Новгород",
          "Нижний Новгород",
          "Нижний Новгород",
          "Нижний Новгород",
          "Нижний Новгород",
          "Нижний Новгород",
          "Нижний Новгород",
          "Нижний Новгород",
          "Нижний Новгород",
          "Нижний Новгород",
          "Нижний Новгород",
          "Нижний Новгород",
          "Нижний Новгород",
          "Нижний Новгород",
          "Нижний Новгород",
          "Нижний Новгород",
          "Нижний Новгород",
          "Нижний Новгород",
          "Нижний Новгород",
          "Нижний Новгород",
          "Нижний Новгород",
          "Нижний Новгород",
          "Нижний Новгород",
          "Нижний Новгород",
          "Нижний Новгород",
          "Нижний Новгород",
          "Нижний Новгород",
          "Нижний Новгород",
          "Нижний Новгород",
          "Нижний Новгород",
          "Нижний Новгород",
          "Нижний Новгород",
          "Нижний Новгород",
          "Нижний Новгород",
          "Нижний Новгород",
          "Нижний Новгород",
          "Нижний Новгород",
          "Нижний Новгород",
          "Нижний Новгород",
          "Нижний Новгород",
          "Нижний Новгород",
          "Нижний Новгород",
          "Нижний Новгород",
          "Нижний Новгород",
          "Нижний Новгород",
          "Нижний Новгород",
          "Нижний Новгород",
          "Нижний Новгород"
         ],
         "x0": " ",
         "xaxis": "x",
         "y": [
          40000,
          100000,
          60000,
          40000,
          100000,
          60000,
          40000,
          100000,
          60000,
          40000,
          100000,
          60000,
          40000,
          100000,
          60000,
          40000,
          100000,
          60000,
          40000,
          100000,
          60000,
          40000,
          100000,
          60000,
          40000,
          100000,
          60000,
          40000,
          100000,
          60000,
          40000,
          100000,
          60000,
          40000,
          100000,
          60000,
          40000,
          100000,
          60000,
          40000,
          100000,
          60000,
          40000,
          100000,
          60000,
          40000,
          100000,
          60000,
          40000,
          100000,
          60000,
          40000,
          100000,
          60000,
          40000,
          100000,
          60000,
          40000,
          100000,
          60000
         ],
         "y0": " ",
         "yaxis": "y"
        },
        {
         "alignmentgroup": "True",
         "hovertemplate": "Регион=%{x}<br>Зарплата от, руб.=%{y}<extra></extra>",
         "legendgroup": "Москва",
         "marker": {
          "color": "#00cc96"
         },
         "name": "Москва",
         "notched": false,
         "offsetgroup": "Москва",
         "orientation": "v",
         "showlegend": true,
         "type": "box",
         "x": [
          "Москва",
          "Москва",
          "Москва",
          "Москва",
          "Москва",
          "Москва",
          "Москва",
          "Москва",
          "Москва",
          "Москва",
          "Москва",
          "Москва",
          "Москва",
          "Москва",
          "Москва",
          "Москва",
          "Москва",
          "Москва",
          "Москва",
          "Москва",
          "Москва",
          "Москва",
          "Москва",
          "Москва",
          "Москва",
          "Москва",
          "Москва",
          "Москва",
          "Москва",
          "Москва",
          "Москва",
          "Москва",
          "Москва",
          "Москва",
          "Москва",
          "Москва",
          "Москва",
          "Москва",
          "Москва",
          "Москва"
         ],
         "x0": " ",
         "xaxis": "x",
         "y": [
          90000,
          1600,
          90000,
          1600,
          90000,
          1600,
          90000,
          1600,
          90000,
          1600,
          90000,
          1600,
          90000,
          1600,
          90000,
          1600,
          90000,
          1600,
          90000,
          1600,
          90000,
          1600,
          90000,
          1600,
          90000,
          1600,
          90000,
          1600,
          90000,
          1600,
          90000,
          1600,
          90000,
          1600,
          90000,
          1600,
          90000,
          1600,
          90000,
          1600
         ],
         "y0": " ",
         "yaxis": "y"
        },
        {
         "alignmentgroup": "True",
         "hovertemplate": "Регион=%{x}<br>Зарплата от, руб.=%{y}<extra></extra>",
         "legendgroup": "Новосибирск",
         "marker": {
          "color": "#ab63fa"
         },
         "name": "Новосибирск",
         "notched": false,
         "offsetgroup": "Новосибирск",
         "orientation": "v",
         "showlegend": true,
         "type": "box",
         "x": [
          "Новосибирск",
          "Новосибирск",
          "Новосибирск",
          "Новосибирск",
          "Новосибирск",
          "Новосибирск",
          "Новосибирск",
          "Новосибирск",
          "Новосибирск",
          "Новосибирск",
          "Новосибирск",
          "Новосибирск",
          "Новосибирск",
          "Новосибирск",
          "Новосибирск",
          "Новосибирск",
          "Новосибирск",
          "Новосибирск",
          "Новосибирск",
          "Новосибирск",
          "Новосибирск",
          "Новосибирск",
          "Новосибирск",
          "Новосибирск",
          "Новосибирск",
          "Новосибирск",
          "Новосибирск",
          "Новосибирск",
          "Новосибирск",
          "Новосибирск",
          "Новосибирск",
          "Новосибирск",
          "Новосибирск",
          "Новосибирск",
          "Новосибирск",
          "Новосибирск",
          "Новосибирск",
          "Новосибирск",
          "Новосибирск",
          "Новосибирск"
         ],
         "x0": " ",
         "xaxis": "x",
         "y": [
          1500,
          80000,
          1500,
          80000,
          1500,
          80000,
          1500,
          80000,
          1500,
          80000,
          1500,
          80000,
          1500,
          80000,
          1500,
          80000,
          1500,
          80000,
          1500,
          80000,
          1500,
          80000,
          1500,
          80000,
          1500,
          80000,
          1500,
          80000,
          1500,
          80000,
          1500,
          80000,
          1500,
          80000,
          1500,
          80000,
          1500,
          80000,
          1500,
          80000
         ],
         "y0": " ",
         "yaxis": "y"
        },
        {
         "alignmentgroup": "True",
         "hovertemplate": "Регион=%{x}<br>Зарплата от, руб.=%{y}<extra></extra>",
         "legendgroup": "Самара",
         "marker": {
          "color": "#FFA15A"
         },
         "name": "Самара",
         "notched": false,
         "offsetgroup": "Самара",
         "orientation": "v",
         "showlegend": true,
         "type": "box",
         "x": [
          "Самара",
          "Самара",
          "Самара",
          "Самара",
          "Самара",
          "Самара",
          "Самара",
          "Самара",
          "Самара",
          "Самара",
          "Самара",
          "Самара",
          "Самара",
          "Самара",
          "Самара",
          "Самара",
          "Самара",
          "Самара",
          "Самара",
          "Самара",
          "Самара",
          "Самара",
          "Самара",
          "Самара",
          "Самара",
          "Самара",
          "Самара",
          "Самара",
          "Самара",
          "Самара",
          "Самара",
          "Самара",
          "Самара",
          "Самара",
          "Самара",
          "Самара",
          "Самара",
          "Самара",
          "Самара",
          "Самара"
         ],
         "x0": " ",
         "xaxis": "x",
         "y": [
          130000,
          100000,
          130000,
          100000,
          130000,
          100000,
          130000,
          100000,
          130000,
          100000,
          130000,
          100000,
          130000,
          100000,
          130000,
          100000,
          130000,
          100000,
          130000,
          100000,
          130000,
          100000,
          130000,
          100000,
          130000,
          100000,
          130000,
          100000,
          130000,
          100000,
          130000,
          100000,
          130000,
          100000,
          130000,
          100000,
          130000,
          100000,
          130000,
          100000
         ],
         "y0": " ",
         "yaxis": "y"
        },
        {
         "alignmentgroup": "True",
         "hovertemplate": "Регион=%{x}<br>Зарплата от, руб.=%{y}<extra></extra>",
         "legendgroup": "Тула",
         "marker": {
          "color": "#19d3f3"
         },
         "name": "Тула",
         "notched": false,
         "offsetgroup": "Тула",
         "orientation": "v",
         "showlegend": true,
         "type": "box",
         "x": [
          "Тула",
          "Тула",
          "Тула",
          "Тула",
          "Тула",
          "Тула",
          "Тула",
          "Тула",
          "Тула",
          "Тула",
          "Тула",
          "Тула",
          "Тула",
          "Тула",
          "Тула",
          "Тула",
          "Тула",
          "Тула",
          "Тула",
          "Тула",
          "Тула",
          "Тула",
          "Тула",
          "Тула",
          "Тула",
          "Тула",
          "Тула",
          "Тула",
          "Тула",
          "Тула",
          "Тула",
          "Тула",
          "Тула",
          "Тула",
          "Тула",
          "Тула",
          "Тула",
          "Тула",
          "Тула",
          "Тула"
         ],
         "x0": " ",
         "xaxis": "x",
         "y": [
          80000,
          114000,
          80000,
          114000,
          80000,
          114000,
          80000,
          114000,
          80000,
          114000,
          80000,
          114000,
          80000,
          114000,
          80000,
          114000,
          80000,
          114000,
          80000,
          114000,
          80000,
          114000,
          80000,
          114000,
          80000,
          114000,
          80000,
          114000,
          80000,
          114000,
          80000,
          114000,
          80000,
          114000,
          80000,
          114000,
          80000,
          114000,
          80000,
          114000
         ],
         "y0": " ",
         "yaxis": "y"
        }
       ],
       "layout": {
        "boxmode": "overlay",
        "legend": {
         "title": {
          "text": "Регион"
         },
         "tracegroupgap": 0
        },
        "margin": {
         "t": 60
        },
        "template": {
         "data": {
          "bar": [
           {
            "error_x": {
             "color": "#2a3f5f"
            },
            "error_y": {
             "color": "#2a3f5f"
            },
            "marker": {
             "line": {
              "color": "#E5ECF6",
              "width": 0.5
             },
             "pattern": {
              "fillmode": "overlay",
              "size": 10,
              "solidity": 0.2
             }
            },
            "type": "bar"
           }
          ],
          "barpolar": [
           {
            "marker": {
             "line": {
              "color": "#E5ECF6",
              "width": 0.5
             },
             "pattern": {
              "fillmode": "overlay",
              "size": 10,
              "solidity": 0.2
             }
            },
            "type": "barpolar"
           }
          ],
          "carpet": [
           {
            "aaxis": {
             "endlinecolor": "#2a3f5f",
             "gridcolor": "white",
             "linecolor": "white",
             "minorgridcolor": "white",
             "startlinecolor": "#2a3f5f"
            },
            "baxis": {
             "endlinecolor": "#2a3f5f",
             "gridcolor": "white",
             "linecolor": "white",
             "minorgridcolor": "white",
             "startlinecolor": "#2a3f5f"
            },
            "type": "carpet"
           }
          ],
          "choropleth": [
           {
            "colorbar": {
             "outlinewidth": 0,
             "ticks": ""
            },
            "type": "choropleth"
           }
          ],
          "contour": [
           {
            "colorbar": {
             "outlinewidth": 0,
             "ticks": ""
            },
            "colorscale": [
             [
              0,
              "#0d0887"
             ],
             [
              0.1111111111111111,
              "#46039f"
             ],
             [
              0.2222222222222222,
              "#7201a8"
             ],
             [
              0.3333333333333333,
              "#9c179e"
             ],
             [
              0.4444444444444444,
              "#bd3786"
             ],
             [
              0.5555555555555556,
              "#d8576b"
             ],
             [
              0.6666666666666666,
              "#ed7953"
             ],
             [
              0.7777777777777778,
              "#fb9f3a"
             ],
             [
              0.8888888888888888,
              "#fdca26"
             ],
             [
              1,
              "#f0f921"
             ]
            ],
            "type": "contour"
           }
          ],
          "contourcarpet": [
           {
            "colorbar": {
             "outlinewidth": 0,
             "ticks": ""
            },
            "type": "contourcarpet"
           }
          ],
          "heatmap": [
           {
            "colorbar": {
             "outlinewidth": 0,
             "ticks": ""
            },
            "colorscale": [
             [
              0,
              "#0d0887"
             ],
             [
              0.1111111111111111,
              "#46039f"
             ],
             [
              0.2222222222222222,
              "#7201a8"
             ],
             [
              0.3333333333333333,
              "#9c179e"
             ],
             [
              0.4444444444444444,
              "#bd3786"
             ],
             [
              0.5555555555555556,
              "#d8576b"
             ],
             [
              0.6666666666666666,
              "#ed7953"
             ],
             [
              0.7777777777777778,
              "#fb9f3a"
             ],
             [
              0.8888888888888888,
              "#fdca26"
             ],
             [
              1,
              "#f0f921"
             ]
            ],
            "type": "heatmap"
           }
          ],
          "heatmapgl": [
           {
            "colorbar": {
             "outlinewidth": 0,
             "ticks": ""
            },
            "colorscale": [
             [
              0,
              "#0d0887"
             ],
             [
              0.1111111111111111,
              "#46039f"
             ],
             [
              0.2222222222222222,
              "#7201a8"
             ],
             [
              0.3333333333333333,
              "#9c179e"
             ],
             [
              0.4444444444444444,
              "#bd3786"
             ],
             [
              0.5555555555555556,
              "#d8576b"
             ],
             [
              0.6666666666666666,
              "#ed7953"
             ],
             [
              0.7777777777777778,
              "#fb9f3a"
             ],
             [
              0.8888888888888888,
              "#fdca26"
             ],
             [
              1,
              "#f0f921"
             ]
            ],
            "type": "heatmapgl"
           }
          ],
          "histogram": [
           {
            "marker": {
             "pattern": {
              "fillmode": "overlay",
              "size": 10,
              "solidity": 0.2
             }
            },
            "type": "histogram"
           }
          ],
          "histogram2d": [
           {
            "colorbar": {
             "outlinewidth": 0,
             "ticks": ""
            },
            "colorscale": [
             [
              0,
              "#0d0887"
             ],
             [
              0.1111111111111111,
              "#46039f"
             ],
             [
              0.2222222222222222,
              "#7201a8"
             ],
             [
              0.3333333333333333,
              "#9c179e"
             ],
             [
              0.4444444444444444,
              "#bd3786"
             ],
             [
              0.5555555555555556,
              "#d8576b"
             ],
             [
              0.6666666666666666,
              "#ed7953"
             ],
             [
              0.7777777777777778,
              "#fb9f3a"
             ],
             [
              0.8888888888888888,
              "#fdca26"
             ],
             [
              1,
              "#f0f921"
             ]
            ],
            "type": "histogram2d"
           }
          ],
          "histogram2dcontour": [
           {
            "colorbar": {
             "outlinewidth": 0,
             "ticks": ""
            },
            "colorscale": [
             [
              0,
              "#0d0887"
             ],
             [
              0.1111111111111111,
              "#46039f"
             ],
             [
              0.2222222222222222,
              "#7201a8"
             ],
             [
              0.3333333333333333,
              "#9c179e"
             ],
             [
              0.4444444444444444,
              "#bd3786"
             ],
             [
              0.5555555555555556,
              "#d8576b"
             ],
             [
              0.6666666666666666,
              "#ed7953"
             ],
             [
              0.7777777777777778,
              "#fb9f3a"
             ],
             [
              0.8888888888888888,
              "#fdca26"
             ],
             [
              1,
              "#f0f921"
             ]
            ],
            "type": "histogram2dcontour"
           }
          ],
          "mesh3d": [
           {
            "colorbar": {
             "outlinewidth": 0,
             "ticks": ""
            },
            "type": "mesh3d"
           }
          ],
          "parcoords": [
           {
            "line": {
             "colorbar": {
              "outlinewidth": 0,
              "ticks": ""
             }
            },
            "type": "parcoords"
           }
          ],
          "pie": [
           {
            "automargin": true,
            "type": "pie"
           }
          ],
          "scatter": [
           {
            "fillpattern": {
             "fillmode": "overlay",
             "size": 10,
             "solidity": 0.2
            },
            "type": "scatter"
           }
          ],
          "scatter3d": [
           {
            "line": {
             "colorbar": {
              "outlinewidth": 0,
              "ticks": ""
             }
            },
            "marker": {
             "colorbar": {
              "outlinewidth": 0,
              "ticks": ""
             }
            },
            "type": "scatter3d"
           }
          ],
          "scattercarpet": [
           {
            "marker": {
             "colorbar": {
              "outlinewidth": 0,
              "ticks": ""
             }
            },
            "type": "scattercarpet"
           }
          ],
          "scattergeo": [
           {
            "marker": {
             "colorbar": {
              "outlinewidth": 0,
              "ticks": ""
             }
            },
            "type": "scattergeo"
           }
          ],
          "scattergl": [
           {
            "marker": {
             "colorbar": {
              "outlinewidth": 0,
              "ticks": ""
             }
            },
            "type": "scattergl"
           }
          ],
          "scattermapbox": [
           {
            "marker": {
             "colorbar": {
              "outlinewidth": 0,
              "ticks": ""
             }
            },
            "type": "scattermapbox"
           }
          ],
          "scatterpolar": [
           {
            "marker": {
             "colorbar": {
              "outlinewidth": 0,
              "ticks": ""
             }
            },
            "type": "scatterpolar"
           }
          ],
          "scatterpolargl": [
           {
            "marker": {
             "colorbar": {
              "outlinewidth": 0,
              "ticks": ""
             }
            },
            "type": "scatterpolargl"
           }
          ],
          "scatterternary": [
           {
            "marker": {
             "colorbar": {
              "outlinewidth": 0,
              "ticks": ""
             }
            },
            "type": "scatterternary"
           }
          ],
          "surface": [
           {
            "colorbar": {
             "outlinewidth": 0,
             "ticks": ""
            },
            "colorscale": [
             [
              0,
              "#0d0887"
             ],
             [
              0.1111111111111111,
              "#46039f"
             ],
             [
              0.2222222222222222,
              "#7201a8"
             ],
             [
              0.3333333333333333,
              "#9c179e"
             ],
             [
              0.4444444444444444,
              "#bd3786"
             ],
             [
              0.5555555555555556,
              "#d8576b"
             ],
             [
              0.6666666666666666,
              "#ed7953"
             ],
             [
              0.7777777777777778,
              "#fb9f3a"
             ],
             [
              0.8888888888888888,
              "#fdca26"
             ],
             [
              1,
              "#f0f921"
             ]
            ],
            "type": "surface"
           }
          ],
          "table": [
           {
            "cells": {
             "fill": {
              "color": "#EBF0F8"
             },
             "line": {
              "color": "white"
             }
            },
            "header": {
             "fill": {
              "color": "#C8D4E3"
             },
             "line": {
              "color": "white"
             }
            },
            "type": "table"
           }
          ]
         },
         "layout": {
          "annotationdefaults": {
           "arrowcolor": "#2a3f5f",
           "arrowhead": 0,
           "arrowwidth": 1
          },
          "autotypenumbers": "strict",
          "coloraxis": {
           "colorbar": {
            "outlinewidth": 0,
            "ticks": ""
           }
          },
          "colorscale": {
           "diverging": [
            [
             0,
             "#8e0152"
            ],
            [
             0.1,
             "#c51b7d"
            ],
            [
             0.2,
             "#de77ae"
            ],
            [
             0.3,
             "#f1b6da"
            ],
            [
             0.4,
             "#fde0ef"
            ],
            [
             0.5,
             "#f7f7f7"
            ],
            [
             0.6,
             "#e6f5d0"
            ],
            [
             0.7,
             "#b8e186"
            ],
            [
             0.8,
             "#7fbc41"
            ],
            [
             0.9,
             "#4d9221"
            ],
            [
             1,
             "#276419"
            ]
           ],
           "sequential": [
            [
             0,
             "#0d0887"
            ],
            [
             0.1111111111111111,
             "#46039f"
            ],
            [
             0.2222222222222222,
             "#7201a8"
            ],
            [
             0.3333333333333333,
             "#9c179e"
            ],
            [
             0.4444444444444444,
             "#bd3786"
            ],
            [
             0.5555555555555556,
             "#d8576b"
            ],
            [
             0.6666666666666666,
             "#ed7953"
            ],
            [
             0.7777777777777778,
             "#fb9f3a"
            ],
            [
             0.8888888888888888,
             "#fdca26"
            ],
            [
             1,
             "#f0f921"
            ]
           ],
           "sequentialminus": [
            [
             0,
             "#0d0887"
            ],
            [
             0.1111111111111111,
             "#46039f"
            ],
            [
             0.2222222222222222,
             "#7201a8"
            ],
            [
             0.3333333333333333,
             "#9c179e"
            ],
            [
             0.4444444444444444,
             "#bd3786"
            ],
            [
             0.5555555555555556,
             "#d8576b"
            ],
            [
             0.6666666666666666,
             "#ed7953"
            ],
            [
             0.7777777777777778,
             "#fb9f3a"
            ],
            [
             0.8888888888888888,
             "#fdca26"
            ],
            [
             1,
             "#f0f921"
            ]
           ]
          },
          "colorway": [
           "#636efa",
           "#EF553B",
           "#00cc96",
           "#ab63fa",
           "#FFA15A",
           "#19d3f3",
           "#FF6692",
           "#B6E880",
           "#FF97FF",
           "#FECB52"
          ],
          "font": {
           "color": "#2a3f5f"
          },
          "geo": {
           "bgcolor": "white",
           "lakecolor": "white",
           "landcolor": "#E5ECF6",
           "showlakes": true,
           "showland": true,
           "subunitcolor": "white"
          },
          "hoverlabel": {
           "align": "left"
          },
          "hovermode": "closest",
          "mapbox": {
           "style": "light"
          },
          "paper_bgcolor": "white",
          "plot_bgcolor": "#E5ECF6",
          "polar": {
           "angularaxis": {
            "gridcolor": "white",
            "linecolor": "white",
            "ticks": ""
           },
           "bgcolor": "#E5ECF6",
           "radialaxis": {
            "gridcolor": "white",
            "linecolor": "white",
            "ticks": ""
           }
          },
          "scene": {
           "xaxis": {
            "backgroundcolor": "#E5ECF6",
            "gridcolor": "white",
            "gridwidth": 2,
            "linecolor": "white",
            "showbackground": true,
            "ticks": "",
            "zerolinecolor": "white"
           },
           "yaxis": {
            "backgroundcolor": "#E5ECF6",
            "gridcolor": "white",
            "gridwidth": 2,
            "linecolor": "white",
            "showbackground": true,
            "ticks": "",
            "zerolinecolor": "white"
           },
           "zaxis": {
            "backgroundcolor": "#E5ECF6",
            "gridcolor": "white",
            "gridwidth": 2,
            "linecolor": "white",
            "showbackground": true,
            "ticks": "",
            "zerolinecolor": "white"
           }
          },
          "shapedefaults": {
           "line": {
            "color": "#2a3f5f"
           }
          },
          "ternary": {
           "aaxis": {
            "gridcolor": "white",
            "linecolor": "white",
            "ticks": ""
           },
           "baxis": {
            "gridcolor": "white",
            "linecolor": "white",
            "ticks": ""
           },
           "bgcolor": "#E5ECF6",
           "caxis": {
            "gridcolor": "white",
            "linecolor": "white",
            "ticks": ""
           }
          },
          "title": {
           "x": 0.05
          },
          "xaxis": {
           "automargin": true,
           "gridcolor": "white",
           "linecolor": "white",
           "ticks": "",
           "title": {
            "standoff": 15
           },
           "zerolinecolor": "white",
           "zerolinewidth": 2
          },
          "yaxis": {
           "automargin": true,
           "gridcolor": "white",
           "linecolor": "white",
           "ticks": "",
           "title": {
            "standoff": 15
           },
           "zerolinecolor": "white",
           "zerolinewidth": 2
          }
         }
        },
        "xaxis": {
         "anchor": "y",
         "categoryarray": [
          "Санкт-Петербург",
          "Нижний Новгород",
          "Москва",
          "Новосибирск",
          "Самара",
          "Тула"
         ],
         "categoryorder": "array",
         "domain": [
          0,
          1
         ],
         "title": {
          "text": "Регион"
         }
        },
        "yaxis": {
         "anchor": "x",
         "domain": [
          0,
          1
         ],
         "title": {
          "text": "Зарплата от, руб."
         }
        }
       }
      },
      "text/html": [
       "<div>                            <div id=\"9f9fb847-4144-473b-bd49-727cfb6cef74\" class=\"plotly-graph-div\" style=\"height:525px; width:100%;\"></div>            <script type=\"text/javascript\">                require([\"plotly\"], function(Plotly) {                    window.PLOTLYENV=window.PLOTLYENV || {};                                    if (document.getElementById(\"9f9fb847-4144-473b-bd49-727cfb6cef74\")) {                    Plotly.newPlot(                        \"9f9fb847-4144-473b-bd49-727cfb6cef74\",                        [{\"alignmentgroup\":\"True\",\"hovertemplate\":\"\\u0420\\u0435\\u0433\\u0438\\u043e\\u043d=%{x}<br>\\u0417\\u0430\\u0440\\u043f\\u043b\\u0430\\u0442\\u0430 \\u043e\\u0442, \\u0440\\u0443\\u0431.=%{y}<extra></extra>\",\"legendgroup\":\"\\u0421\\u0430\\u043d\\u043a\\u0442-\\u041f\\u0435\\u0442\\u0435\\u0440\\u0431\\u0443\\u0440\\u0433\",\"marker\":{\"color\":\"#636efa\"},\"name\":\"\\u0421\\u0430\\u043d\\u043a\\u0442-\\u041f\\u0435\\u0442\\u0435\\u0440\\u0431\\u0443\\u0440\\u0433\",\"notched\":false,\"offsetgroup\":\"\\u0421\\u0430\\u043d\\u043a\\u0442-\\u041f\\u0435\\u0442\\u0435\\u0440\\u0431\\u0443\\u0440\\u0433\",\"orientation\":\"v\",\"showlegend\":true,\"x\":[\"\\u0421\\u0430\\u043d\\u043a\\u0442-\\u041f\\u0435\\u0442\\u0435\\u0440\\u0431\\u0443\\u0440\\u0433\",\"\\u0421\\u0430\\u043d\\u043a\\u0442-\\u041f\\u0435\\u0442\\u0435\\u0440\\u0431\\u0443\\u0440\\u0433\",\"\\u0421\\u0430\\u043d\\u043a\\u0442-\\u041f\\u0435\\u0442\\u0435\\u0440\\u0431\\u0443\\u0440\\u0433\",\"\\u0421\\u0430\\u043d\\u043a\\u0442-\\u041f\\u0435\\u0442\\u0435\\u0440\\u0431\\u0443\\u0440\\u0433\",\"\\u0421\\u0430\\u043d\\u043a\\u0442-\\u041f\\u0435\\u0442\\u0435\\u0440\\u0431\\u0443\\u0440\\u0433\",\"\\u0421\\u0430\\u043d\\u043a\\u0442-\\u041f\\u0435\\u0442\\u0435\\u0440\\u0431\\u0443\\u0440\\u0433\",\"\\u0421\\u0430\\u043d\\u043a\\u0442-\\u041f\\u0435\\u0442\\u0435\\u0440\\u0431\\u0443\\u0440\\u0433\",\"\\u0421\\u0430\\u043d\\u043a\\u0442-\\u041f\\u0435\\u0442\\u0435\\u0440\\u0431\\u0443\\u0440\\u0433\",\"\\u0421\\u0430\\u043d\\u043a\\u0442-\\u041f\\u0435\\u0442\\u0435\\u0440\\u0431\\u0443\\u0440\\u0433\",\"\\u0421\\u0430\\u043d\\u043a\\u0442-\\u041f\\u0435\\u0442\\u0435\\u0440\\u0431\\u0443\\u0440\\u0433\",\"\\u0421\\u0430\\u043d\\u043a\\u0442-\\u041f\\u0435\\u0442\\u0435\\u0440\\u0431\\u0443\\u0440\\u0433\",\"\\u0421\\u0430\\u043d\\u043a\\u0442-\\u041f\\u0435\\u0442\\u0435\\u0440\\u0431\\u0443\\u0440\\u0433\",\"\\u0421\\u0430\\u043d\\u043a\\u0442-\\u041f\\u0435\\u0442\\u0435\\u0440\\u0431\\u0443\\u0440\\u0433\",\"\\u0421\\u0430\\u043d\\u043a\\u0442-\\u041f\\u0435\\u0442\\u0435\\u0440\\u0431\\u0443\\u0440\\u0433\",\"\\u0421\\u0430\\u043d\\u043a\\u0442-\\u041f\\u0435\\u0442\\u0435\\u0440\\u0431\\u0443\\u0440\\u0433\",\"\\u0421\\u0430\\u043d\\u043a\\u0442-\\u041f\\u0435\\u0442\\u0435\\u0440\\u0431\\u0443\\u0440\\u0433\",\"\\u0421\\u0430\\u043d\\u043a\\u0442-\\u041f\\u0435\\u0442\\u0435\\u0440\\u0431\\u0443\\u0440\\u0433\",\"\\u0421\\u0430\\u043d\\u043a\\u0442-\\u041f\\u0435\\u0442\\u0435\\u0440\\u0431\\u0443\\u0440\\u0433\",\"\\u0421\\u0430\\u043d\\u043a\\u0442-\\u041f\\u0435\\u0442\\u0435\\u0440\\u0431\\u0443\\u0440\\u0433\",\"\\u0421\\u0430\\u043d\\u043a\\u0442-\\u041f\\u0435\\u0442\\u0435\\u0440\\u0431\\u0443\\u0440\\u0433\",\"\\u0421\\u0430\\u043d\\u043a\\u0442-\\u041f\\u0435\\u0442\\u0435\\u0440\\u0431\\u0443\\u0440\\u0433\",\"\\u0421\\u0430\\u043d\\u043a\\u0442-\\u041f\\u0435\\u0442\\u0435\\u0440\\u0431\\u0443\\u0440\\u0433\",\"\\u0421\\u0430\\u043d\\u043a\\u0442-\\u041f\\u0435\\u0442\\u0435\\u0440\\u0431\\u0443\\u0440\\u0433\",\"\\u0421\\u0430\\u043d\\u043a\\u0442-\\u041f\\u0435\\u0442\\u0435\\u0440\\u0431\\u0443\\u0440\\u0433\",\"\\u0421\\u0430\\u043d\\u043a\\u0442-\\u041f\\u0435\\u0442\\u0435\\u0440\\u0431\\u0443\\u0440\\u0433\",\"\\u0421\\u0430\\u043d\\u043a\\u0442-\\u041f\\u0435\\u0442\\u0435\\u0440\\u0431\\u0443\\u0440\\u0433\",\"\\u0421\\u0430\\u043d\\u043a\\u0442-\\u041f\\u0435\\u0442\\u0435\\u0440\\u0431\\u0443\\u0440\\u0433\",\"\\u0421\\u0430\\u043d\\u043a\\u0442-\\u041f\\u0435\\u0442\\u0435\\u0440\\u0431\\u0443\\u0440\\u0433\",\"\\u0421\\u0430\\u043d\\u043a\\u0442-\\u041f\\u0435\\u0442\\u0435\\u0440\\u0431\\u0443\\u0440\\u0433\",\"\\u0421\\u0430\\u043d\\u043a\\u0442-\\u041f\\u0435\\u0442\\u0435\\u0440\\u0431\\u0443\\u0440\\u0433\",\"\\u0421\\u0430\\u043d\\u043a\\u0442-\\u041f\\u0435\\u0442\\u0435\\u0440\\u0431\\u0443\\u0440\\u0433\",\"\\u0421\\u0430\\u043d\\u043a\\u0442-\\u041f\\u0435\\u0442\\u0435\\u0440\\u0431\\u0443\\u0440\\u0433\",\"\\u0421\\u0430\\u043d\\u043a\\u0442-\\u041f\\u0435\\u0442\\u0435\\u0440\\u0431\\u0443\\u0440\\u0433\",\"\\u0421\\u0430\\u043d\\u043a\\u0442-\\u041f\\u0435\\u0442\\u0435\\u0440\\u0431\\u0443\\u0440\\u0433\",\"\\u0421\\u0430\\u043d\\u043a\\u0442-\\u041f\\u0435\\u0442\\u0435\\u0440\\u0431\\u0443\\u0440\\u0433\",\"\\u0421\\u0430\\u043d\\u043a\\u0442-\\u041f\\u0435\\u0442\\u0435\\u0440\\u0431\\u0443\\u0440\\u0433\",\"\\u0421\\u0430\\u043d\\u043a\\u0442-\\u041f\\u0435\\u0442\\u0435\\u0440\\u0431\\u0443\\u0440\\u0433\",\"\\u0421\\u0430\\u043d\\u043a\\u0442-\\u041f\\u0435\\u0442\\u0435\\u0440\\u0431\\u0443\\u0440\\u0433\",\"\\u0421\\u0430\\u043d\\u043a\\u0442-\\u041f\\u0435\\u0442\\u0435\\u0440\\u0431\\u0443\\u0440\\u0433\",\"\\u0421\\u0430\\u043d\\u043a\\u0442-\\u041f\\u0435\\u0442\\u0435\\u0440\\u0431\\u0443\\u0440\\u0433\",\"\\u0421\\u0430\\u043d\\u043a\\u0442-\\u041f\\u0435\\u0442\\u0435\\u0440\\u0431\\u0443\\u0440\\u0433\",\"\\u0421\\u0430\\u043d\\u043a\\u0442-\\u041f\\u0435\\u0442\\u0435\\u0440\\u0431\\u0443\\u0440\\u0433\",\"\\u0421\\u0430\\u043d\\u043a\\u0442-\\u041f\\u0435\\u0442\\u0435\\u0440\\u0431\\u0443\\u0440\\u0433\",\"\\u0421\\u0430\\u043d\\u043a\\u0442-\\u041f\\u0435\\u0442\\u0435\\u0440\\u0431\\u0443\\u0440\\u0433\",\"\\u0421\\u0430\\u043d\\u043a\\u0442-\\u041f\\u0435\\u0442\\u0435\\u0440\\u0431\\u0443\\u0440\\u0433\",\"\\u0421\\u0430\\u043d\\u043a\\u0442-\\u041f\\u0435\\u0442\\u0435\\u0440\\u0431\\u0443\\u0440\\u0433\",\"\\u0421\\u0430\\u043d\\u043a\\u0442-\\u041f\\u0435\\u0442\\u0435\\u0440\\u0431\\u0443\\u0440\\u0433\",\"\\u0421\\u0430\\u043d\\u043a\\u0442-\\u041f\\u0435\\u0442\\u0435\\u0440\\u0431\\u0443\\u0440\\u0433\",\"\\u0421\\u0430\\u043d\\u043a\\u0442-\\u041f\\u0435\\u0442\\u0435\\u0440\\u0431\\u0443\\u0440\\u0433\",\"\\u0421\\u0430\\u043d\\u043a\\u0442-\\u041f\\u0435\\u0442\\u0435\\u0440\\u0431\\u0443\\u0440\\u0433\",\"\\u0421\\u0430\\u043d\\u043a\\u0442-\\u041f\\u0435\\u0442\\u0435\\u0440\\u0431\\u0443\\u0440\\u0433\",\"\\u0421\\u0430\\u043d\\u043a\\u0442-\\u041f\\u0435\\u0442\\u0435\\u0440\\u0431\\u0443\\u0440\\u0433\",\"\\u0421\\u0430\\u043d\\u043a\\u0442-\\u041f\\u0435\\u0442\\u0435\\u0440\\u0431\\u0443\\u0440\\u0433\",\"\\u0421\\u0430\\u043d\\u043a\\u0442-\\u041f\\u0435\\u0442\\u0435\\u0440\\u0431\\u0443\\u0440\\u0433\",\"\\u0421\\u0430\\u043d\\u043a\\u0442-\\u041f\\u0435\\u0442\\u0435\\u0440\\u0431\\u0443\\u0440\\u0433\",\"\\u0421\\u0430\\u043d\\u043a\\u0442-\\u041f\\u0435\\u0442\\u0435\\u0440\\u0431\\u0443\\u0440\\u0433\",\"\\u0421\\u0430\\u043d\\u043a\\u0442-\\u041f\\u0435\\u0442\\u0435\\u0440\\u0431\\u0443\\u0440\\u0433\",\"\\u0421\\u0430\\u043d\\u043a\\u0442-\\u041f\\u0435\\u0442\\u0435\\u0440\\u0431\\u0443\\u0440\\u0433\",\"\\u0421\\u0430\\u043d\\u043a\\u0442-\\u041f\\u0435\\u0442\\u0435\\u0440\\u0431\\u0443\\u0440\\u0433\",\"\\u0421\\u0430\\u043d\\u043a\\u0442-\\u041f\\u0435\\u0442\\u0435\\u0440\\u0431\\u0443\\u0440\\u0433\",\"\\u0421\\u0430\\u043d\\u043a\\u0442-\\u041f\\u0435\\u0442\\u0435\\u0440\\u0431\\u0443\\u0440\\u0433\",\"\\u0421\\u0430\\u043d\\u043a\\u0442-\\u041f\\u0435\\u0442\\u0435\\u0440\\u0431\\u0443\\u0440\\u0433\",\"\\u0421\\u0430\\u043d\\u043a\\u0442-\\u041f\\u0435\\u0442\\u0435\\u0440\\u0431\\u0443\\u0440\\u0433\",\"\\u0421\\u0430\\u043d\\u043a\\u0442-\\u041f\\u0435\\u0442\\u0435\\u0440\\u0431\\u0443\\u0440\\u0433\",\"\\u0421\\u0430\\u043d\\u043a\\u0442-\\u041f\\u0435\\u0442\\u0435\\u0440\\u0431\\u0443\\u0440\\u0433\",\"\\u0421\\u0430\\u043d\\u043a\\u0442-\\u041f\\u0435\\u0442\\u0435\\u0440\\u0431\\u0443\\u0440\\u0433\",\"\\u0421\\u0430\\u043d\\u043a\\u0442-\\u041f\\u0435\\u0442\\u0435\\u0440\\u0431\\u0443\\u0440\\u0433\",\"\\u0421\\u0430\\u043d\\u043a\\u0442-\\u041f\\u0435\\u0442\\u0435\\u0440\\u0431\\u0443\\u0440\\u0433\",\"\\u0421\\u0430\\u043d\\u043a\\u0442-\\u041f\\u0435\\u0442\\u0435\\u0440\\u0431\\u0443\\u0440\\u0433\",\"\\u0421\\u0430\\u043d\\u043a\\u0442-\\u041f\\u0435\\u0442\\u0435\\u0440\\u0431\\u0443\\u0440\\u0433\",\"\\u0421\\u0430\\u043d\\u043a\\u0442-\\u041f\\u0435\\u0442\\u0435\\u0440\\u0431\\u0443\\u0440\\u0433\",\"\\u0421\\u0430\\u043d\\u043a\\u0442-\\u041f\\u0435\\u0442\\u0435\\u0440\\u0431\\u0443\\u0440\\u0433\",\"\\u0421\\u0430\\u043d\\u043a\\u0442-\\u041f\\u0435\\u0442\\u0435\\u0440\\u0431\\u0443\\u0440\\u0433\",\"\\u0421\\u0430\\u043d\\u043a\\u0442-\\u041f\\u0435\\u0442\\u0435\\u0440\\u0431\\u0443\\u0440\\u0433\",\"\\u0421\\u0430\\u043d\\u043a\\u0442-\\u041f\\u0435\\u0442\\u0435\\u0440\\u0431\\u0443\\u0440\\u0433\",\"\\u0421\\u0430\\u043d\\u043a\\u0442-\\u041f\\u0435\\u0442\\u0435\\u0440\\u0431\\u0443\\u0440\\u0433\",\"\\u0421\\u0430\\u043d\\u043a\\u0442-\\u041f\\u0435\\u0442\\u0435\\u0440\\u0431\\u0443\\u0440\\u0433\",\"\\u0421\\u0430\\u043d\\u043a\\u0442-\\u041f\\u0435\\u0442\\u0435\\u0440\\u0431\\u0443\\u0440\\u0433\",\"\\u0421\\u0430\\u043d\\u043a\\u0442-\\u041f\\u0435\\u0442\\u0435\\u0440\\u0431\\u0443\\u0440\\u0433\",\"\\u0421\\u0430\\u043d\\u043a\\u0442-\\u041f\\u0435\\u0442\\u0435\\u0440\\u0431\\u0443\\u0440\\u0433\"],\"x0\":\" \",\"xaxis\":\"x\",\"y\":[100000.0,130000.0,35000.0,60000.0,100000.0,130000.0,35000.0,60000.0,100000.0,130000.0,35000.0,60000.0,100000.0,130000.0,35000.0,60000.0,100000.0,130000.0,35000.0,60000.0,100000.0,130000.0,35000.0,60000.0,100000.0,130000.0,35000.0,60000.0,100000.0,130000.0,35000.0,60000.0,100000.0,130000.0,35000.0,60000.0,100000.0,130000.0,35000.0,60000.0,100000.0,130000.0,35000.0,60000.0,100000.0,130000.0,35000.0,60000.0,100000.0,130000.0,35000.0,60000.0,100000.0,130000.0,35000.0,60000.0,100000.0,130000.0,35000.0,60000.0,100000.0,130000.0,35000.0,60000.0,100000.0,130000.0,35000.0,60000.0,100000.0,130000.0,35000.0,60000.0,100000.0,130000.0,35000.0,60000.0,100000.0,130000.0,35000.0,60000.0],\"y0\":\" \",\"yaxis\":\"y\",\"type\":\"box\"},{\"alignmentgroup\":\"True\",\"hovertemplate\":\"\\u0420\\u0435\\u0433\\u0438\\u043e\\u043d=%{x}<br>\\u0417\\u0430\\u0440\\u043f\\u043b\\u0430\\u0442\\u0430 \\u043e\\u0442, \\u0440\\u0443\\u0431.=%{y}<extra></extra>\",\"legendgroup\":\"\\u041d\\u0438\\u0436\\u043d\\u0438\\u0439 \\u041d\\u043e\\u0432\\u0433\\u043e\\u0440\\u043e\\u0434\",\"marker\":{\"color\":\"#EF553B\"},\"name\":\"\\u041d\\u0438\\u0436\\u043d\\u0438\\u0439 \\u041d\\u043e\\u0432\\u0433\\u043e\\u0440\\u043e\\u0434\",\"notched\":false,\"offsetgroup\":\"\\u041d\\u0438\\u0436\\u043d\\u0438\\u0439 \\u041d\\u043e\\u0432\\u0433\\u043e\\u0440\\u043e\\u0434\",\"orientation\":\"v\",\"showlegend\":true,\"x\":[\"\\u041d\\u0438\\u0436\\u043d\\u0438\\u0439 \\u041d\\u043e\\u0432\\u0433\\u043e\\u0440\\u043e\\u0434\",\"\\u041d\\u0438\\u0436\\u043d\\u0438\\u0439 \\u041d\\u043e\\u0432\\u0433\\u043e\\u0440\\u043e\\u0434\",\"\\u041d\\u0438\\u0436\\u043d\\u0438\\u0439 \\u041d\\u043e\\u0432\\u0433\\u043e\\u0440\\u043e\\u0434\",\"\\u041d\\u0438\\u0436\\u043d\\u0438\\u0439 \\u041d\\u043e\\u0432\\u0433\\u043e\\u0440\\u043e\\u0434\",\"\\u041d\\u0438\\u0436\\u043d\\u0438\\u0439 \\u041d\\u043e\\u0432\\u0433\\u043e\\u0440\\u043e\\u0434\",\"\\u041d\\u0438\\u0436\\u043d\\u0438\\u0439 \\u041d\\u043e\\u0432\\u0433\\u043e\\u0440\\u043e\\u0434\",\"\\u041d\\u0438\\u0436\\u043d\\u0438\\u0439 \\u041d\\u043e\\u0432\\u0433\\u043e\\u0440\\u043e\\u0434\",\"\\u041d\\u0438\\u0436\\u043d\\u0438\\u0439 \\u041d\\u043e\\u0432\\u0433\\u043e\\u0440\\u043e\\u0434\",\"\\u041d\\u0438\\u0436\\u043d\\u0438\\u0439 \\u041d\\u043e\\u0432\\u0433\\u043e\\u0440\\u043e\\u0434\",\"\\u041d\\u0438\\u0436\\u043d\\u0438\\u0439 \\u041d\\u043e\\u0432\\u0433\\u043e\\u0440\\u043e\\u0434\",\"\\u041d\\u0438\\u0436\\u043d\\u0438\\u0439 \\u041d\\u043e\\u0432\\u0433\\u043e\\u0440\\u043e\\u0434\",\"\\u041d\\u0438\\u0436\\u043d\\u0438\\u0439 \\u041d\\u043e\\u0432\\u0433\\u043e\\u0440\\u043e\\u0434\",\"\\u041d\\u0438\\u0436\\u043d\\u0438\\u0439 \\u041d\\u043e\\u0432\\u0433\\u043e\\u0440\\u043e\\u0434\",\"\\u041d\\u0438\\u0436\\u043d\\u0438\\u0439 \\u041d\\u043e\\u0432\\u0433\\u043e\\u0440\\u043e\\u0434\",\"\\u041d\\u0438\\u0436\\u043d\\u0438\\u0439 \\u041d\\u043e\\u0432\\u0433\\u043e\\u0440\\u043e\\u0434\",\"\\u041d\\u0438\\u0436\\u043d\\u0438\\u0439 \\u041d\\u043e\\u0432\\u0433\\u043e\\u0440\\u043e\\u0434\",\"\\u041d\\u0438\\u0436\\u043d\\u0438\\u0439 \\u041d\\u043e\\u0432\\u0433\\u043e\\u0440\\u043e\\u0434\",\"\\u041d\\u0438\\u0436\\u043d\\u0438\\u0439 \\u041d\\u043e\\u0432\\u0433\\u043e\\u0440\\u043e\\u0434\",\"\\u041d\\u0438\\u0436\\u043d\\u0438\\u0439 \\u041d\\u043e\\u0432\\u0433\\u043e\\u0440\\u043e\\u0434\",\"\\u041d\\u0438\\u0436\\u043d\\u0438\\u0439 \\u041d\\u043e\\u0432\\u0433\\u043e\\u0440\\u043e\\u0434\",\"\\u041d\\u0438\\u0436\\u043d\\u0438\\u0439 \\u041d\\u043e\\u0432\\u0433\\u043e\\u0440\\u043e\\u0434\",\"\\u041d\\u0438\\u0436\\u043d\\u0438\\u0439 \\u041d\\u043e\\u0432\\u0433\\u043e\\u0440\\u043e\\u0434\",\"\\u041d\\u0438\\u0436\\u043d\\u0438\\u0439 \\u041d\\u043e\\u0432\\u0433\\u043e\\u0440\\u043e\\u0434\",\"\\u041d\\u0438\\u0436\\u043d\\u0438\\u0439 \\u041d\\u043e\\u0432\\u0433\\u043e\\u0440\\u043e\\u0434\",\"\\u041d\\u0438\\u0436\\u043d\\u0438\\u0439 \\u041d\\u043e\\u0432\\u0433\\u043e\\u0440\\u043e\\u0434\",\"\\u041d\\u0438\\u0436\\u043d\\u0438\\u0439 \\u041d\\u043e\\u0432\\u0433\\u043e\\u0440\\u043e\\u0434\",\"\\u041d\\u0438\\u0436\\u043d\\u0438\\u0439 \\u041d\\u043e\\u0432\\u0433\\u043e\\u0440\\u043e\\u0434\",\"\\u041d\\u0438\\u0436\\u043d\\u0438\\u0439 \\u041d\\u043e\\u0432\\u0433\\u043e\\u0440\\u043e\\u0434\",\"\\u041d\\u0438\\u0436\\u043d\\u0438\\u0439 \\u041d\\u043e\\u0432\\u0433\\u043e\\u0440\\u043e\\u0434\",\"\\u041d\\u0438\\u0436\\u043d\\u0438\\u0439 \\u041d\\u043e\\u0432\\u0433\\u043e\\u0440\\u043e\\u0434\",\"\\u041d\\u0438\\u0436\\u043d\\u0438\\u0439 \\u041d\\u043e\\u0432\\u0433\\u043e\\u0440\\u043e\\u0434\",\"\\u041d\\u0438\\u0436\\u043d\\u0438\\u0439 \\u041d\\u043e\\u0432\\u0433\\u043e\\u0440\\u043e\\u0434\",\"\\u041d\\u0438\\u0436\\u043d\\u0438\\u0439 \\u041d\\u043e\\u0432\\u0433\\u043e\\u0440\\u043e\\u0434\",\"\\u041d\\u0438\\u0436\\u043d\\u0438\\u0439 \\u041d\\u043e\\u0432\\u0433\\u043e\\u0440\\u043e\\u0434\",\"\\u041d\\u0438\\u0436\\u043d\\u0438\\u0439 \\u041d\\u043e\\u0432\\u0433\\u043e\\u0440\\u043e\\u0434\",\"\\u041d\\u0438\\u0436\\u043d\\u0438\\u0439 \\u041d\\u043e\\u0432\\u0433\\u043e\\u0440\\u043e\\u0434\",\"\\u041d\\u0438\\u0436\\u043d\\u0438\\u0439 \\u041d\\u043e\\u0432\\u0433\\u043e\\u0440\\u043e\\u0434\",\"\\u041d\\u0438\\u0436\\u043d\\u0438\\u0439 \\u041d\\u043e\\u0432\\u0433\\u043e\\u0440\\u043e\\u0434\",\"\\u041d\\u0438\\u0436\\u043d\\u0438\\u0439 \\u041d\\u043e\\u0432\\u0433\\u043e\\u0440\\u043e\\u0434\",\"\\u041d\\u0438\\u0436\\u043d\\u0438\\u0439 \\u041d\\u043e\\u0432\\u0433\\u043e\\u0440\\u043e\\u0434\",\"\\u041d\\u0438\\u0436\\u043d\\u0438\\u0439 \\u041d\\u043e\\u0432\\u0433\\u043e\\u0440\\u043e\\u0434\",\"\\u041d\\u0438\\u0436\\u043d\\u0438\\u0439 \\u041d\\u043e\\u0432\\u0433\\u043e\\u0440\\u043e\\u0434\",\"\\u041d\\u0438\\u0436\\u043d\\u0438\\u0439 \\u041d\\u043e\\u0432\\u0433\\u043e\\u0440\\u043e\\u0434\",\"\\u041d\\u0438\\u0436\\u043d\\u0438\\u0439 \\u041d\\u043e\\u0432\\u0433\\u043e\\u0440\\u043e\\u0434\",\"\\u041d\\u0438\\u0436\\u043d\\u0438\\u0439 \\u041d\\u043e\\u0432\\u0433\\u043e\\u0440\\u043e\\u0434\",\"\\u041d\\u0438\\u0436\\u043d\\u0438\\u0439 \\u041d\\u043e\\u0432\\u0433\\u043e\\u0440\\u043e\\u0434\",\"\\u041d\\u0438\\u0436\\u043d\\u0438\\u0439 \\u041d\\u043e\\u0432\\u0433\\u043e\\u0440\\u043e\\u0434\",\"\\u041d\\u0438\\u0436\\u043d\\u0438\\u0439 \\u041d\\u043e\\u0432\\u0433\\u043e\\u0440\\u043e\\u0434\",\"\\u041d\\u0438\\u0436\\u043d\\u0438\\u0439 \\u041d\\u043e\\u0432\\u0433\\u043e\\u0440\\u043e\\u0434\",\"\\u041d\\u0438\\u0436\\u043d\\u0438\\u0439 \\u041d\\u043e\\u0432\\u0433\\u043e\\u0440\\u043e\\u0434\",\"\\u041d\\u0438\\u0436\\u043d\\u0438\\u0439 \\u041d\\u043e\\u0432\\u0433\\u043e\\u0440\\u043e\\u0434\",\"\\u041d\\u0438\\u0436\\u043d\\u0438\\u0439 \\u041d\\u043e\\u0432\\u0433\\u043e\\u0440\\u043e\\u0434\",\"\\u041d\\u0438\\u0436\\u043d\\u0438\\u0439 \\u041d\\u043e\\u0432\\u0433\\u043e\\u0440\\u043e\\u0434\",\"\\u041d\\u0438\\u0436\\u043d\\u0438\\u0439 \\u041d\\u043e\\u0432\\u0433\\u043e\\u0440\\u043e\\u0434\",\"\\u041d\\u0438\\u0436\\u043d\\u0438\\u0439 \\u041d\\u043e\\u0432\\u0433\\u043e\\u0440\\u043e\\u0434\",\"\\u041d\\u0438\\u0436\\u043d\\u0438\\u0439 \\u041d\\u043e\\u0432\\u0433\\u043e\\u0440\\u043e\\u0434\",\"\\u041d\\u0438\\u0436\\u043d\\u0438\\u0439 \\u041d\\u043e\\u0432\\u0433\\u043e\\u0440\\u043e\\u0434\",\"\\u041d\\u0438\\u0436\\u043d\\u0438\\u0439 \\u041d\\u043e\\u0432\\u0433\\u043e\\u0440\\u043e\\u0434\",\"\\u041d\\u0438\\u0436\\u043d\\u0438\\u0439 \\u041d\\u043e\\u0432\\u0433\\u043e\\u0440\\u043e\\u0434\",\"\\u041d\\u0438\\u0436\\u043d\\u0438\\u0439 \\u041d\\u043e\\u0432\\u0433\\u043e\\u0440\\u043e\\u0434\"],\"x0\":\" \",\"xaxis\":\"x\",\"y\":[40000.0,100000.0,60000.0,40000.0,100000.0,60000.0,40000.0,100000.0,60000.0,40000.0,100000.0,60000.0,40000.0,100000.0,60000.0,40000.0,100000.0,60000.0,40000.0,100000.0,60000.0,40000.0,100000.0,60000.0,40000.0,100000.0,60000.0,40000.0,100000.0,60000.0,40000.0,100000.0,60000.0,40000.0,100000.0,60000.0,40000.0,100000.0,60000.0,40000.0,100000.0,60000.0,40000.0,100000.0,60000.0,40000.0,100000.0,60000.0,40000.0,100000.0,60000.0,40000.0,100000.0,60000.0,40000.0,100000.0,60000.0,40000.0,100000.0,60000.0],\"y0\":\" \",\"yaxis\":\"y\",\"type\":\"box\"},{\"alignmentgroup\":\"True\",\"hovertemplate\":\"\\u0420\\u0435\\u0433\\u0438\\u043e\\u043d=%{x}<br>\\u0417\\u0430\\u0440\\u043f\\u043b\\u0430\\u0442\\u0430 \\u043e\\u0442, \\u0440\\u0443\\u0431.=%{y}<extra></extra>\",\"legendgroup\":\"\\u041c\\u043e\\u0441\\u043a\\u0432\\u0430\",\"marker\":{\"color\":\"#00cc96\"},\"name\":\"\\u041c\\u043e\\u0441\\u043a\\u0432\\u0430\",\"notched\":false,\"offsetgroup\":\"\\u041c\\u043e\\u0441\\u043a\\u0432\\u0430\",\"orientation\":\"v\",\"showlegend\":true,\"x\":[\"\\u041c\\u043e\\u0441\\u043a\\u0432\\u0430\",\"\\u041c\\u043e\\u0441\\u043a\\u0432\\u0430\",\"\\u041c\\u043e\\u0441\\u043a\\u0432\\u0430\",\"\\u041c\\u043e\\u0441\\u043a\\u0432\\u0430\",\"\\u041c\\u043e\\u0441\\u043a\\u0432\\u0430\",\"\\u041c\\u043e\\u0441\\u043a\\u0432\\u0430\",\"\\u041c\\u043e\\u0441\\u043a\\u0432\\u0430\",\"\\u041c\\u043e\\u0441\\u043a\\u0432\\u0430\",\"\\u041c\\u043e\\u0441\\u043a\\u0432\\u0430\",\"\\u041c\\u043e\\u0441\\u043a\\u0432\\u0430\",\"\\u041c\\u043e\\u0441\\u043a\\u0432\\u0430\",\"\\u041c\\u043e\\u0441\\u043a\\u0432\\u0430\",\"\\u041c\\u043e\\u0441\\u043a\\u0432\\u0430\",\"\\u041c\\u043e\\u0441\\u043a\\u0432\\u0430\",\"\\u041c\\u043e\\u0441\\u043a\\u0432\\u0430\",\"\\u041c\\u043e\\u0441\\u043a\\u0432\\u0430\",\"\\u041c\\u043e\\u0441\\u043a\\u0432\\u0430\",\"\\u041c\\u043e\\u0441\\u043a\\u0432\\u0430\",\"\\u041c\\u043e\\u0441\\u043a\\u0432\\u0430\",\"\\u041c\\u043e\\u0441\\u043a\\u0432\\u0430\",\"\\u041c\\u043e\\u0441\\u043a\\u0432\\u0430\",\"\\u041c\\u043e\\u0441\\u043a\\u0432\\u0430\",\"\\u041c\\u043e\\u0441\\u043a\\u0432\\u0430\",\"\\u041c\\u043e\\u0441\\u043a\\u0432\\u0430\",\"\\u041c\\u043e\\u0441\\u043a\\u0432\\u0430\",\"\\u041c\\u043e\\u0441\\u043a\\u0432\\u0430\",\"\\u041c\\u043e\\u0441\\u043a\\u0432\\u0430\",\"\\u041c\\u043e\\u0441\\u043a\\u0432\\u0430\",\"\\u041c\\u043e\\u0441\\u043a\\u0432\\u0430\",\"\\u041c\\u043e\\u0441\\u043a\\u0432\\u0430\",\"\\u041c\\u043e\\u0441\\u043a\\u0432\\u0430\",\"\\u041c\\u043e\\u0441\\u043a\\u0432\\u0430\",\"\\u041c\\u043e\\u0441\\u043a\\u0432\\u0430\",\"\\u041c\\u043e\\u0441\\u043a\\u0432\\u0430\",\"\\u041c\\u043e\\u0441\\u043a\\u0432\\u0430\",\"\\u041c\\u043e\\u0441\\u043a\\u0432\\u0430\",\"\\u041c\\u043e\\u0441\\u043a\\u0432\\u0430\",\"\\u041c\\u043e\\u0441\\u043a\\u0432\\u0430\",\"\\u041c\\u043e\\u0441\\u043a\\u0432\\u0430\",\"\\u041c\\u043e\\u0441\\u043a\\u0432\\u0430\"],\"x0\":\" \",\"xaxis\":\"x\",\"y\":[90000.0,1600.0,90000.0,1600.0,90000.0,1600.0,90000.0,1600.0,90000.0,1600.0,90000.0,1600.0,90000.0,1600.0,90000.0,1600.0,90000.0,1600.0,90000.0,1600.0,90000.0,1600.0,90000.0,1600.0,90000.0,1600.0,90000.0,1600.0,90000.0,1600.0,90000.0,1600.0,90000.0,1600.0,90000.0,1600.0,90000.0,1600.0,90000.0,1600.0],\"y0\":\" \",\"yaxis\":\"y\",\"type\":\"box\"},{\"alignmentgroup\":\"True\",\"hovertemplate\":\"\\u0420\\u0435\\u0433\\u0438\\u043e\\u043d=%{x}<br>\\u0417\\u0430\\u0440\\u043f\\u043b\\u0430\\u0442\\u0430 \\u043e\\u0442, \\u0440\\u0443\\u0431.=%{y}<extra></extra>\",\"legendgroup\":\"\\u041d\\u043e\\u0432\\u043e\\u0441\\u0438\\u0431\\u0438\\u0440\\u0441\\u043a\",\"marker\":{\"color\":\"#ab63fa\"},\"name\":\"\\u041d\\u043e\\u0432\\u043e\\u0441\\u0438\\u0431\\u0438\\u0440\\u0441\\u043a\",\"notched\":false,\"offsetgroup\":\"\\u041d\\u043e\\u0432\\u043e\\u0441\\u0438\\u0431\\u0438\\u0440\\u0441\\u043a\",\"orientation\":\"v\",\"showlegend\":true,\"x\":[\"\\u041d\\u043e\\u0432\\u043e\\u0441\\u0438\\u0431\\u0438\\u0440\\u0441\\u043a\",\"\\u041d\\u043e\\u0432\\u043e\\u0441\\u0438\\u0431\\u0438\\u0440\\u0441\\u043a\",\"\\u041d\\u043e\\u0432\\u043e\\u0441\\u0438\\u0431\\u0438\\u0440\\u0441\\u043a\",\"\\u041d\\u043e\\u0432\\u043e\\u0441\\u0438\\u0431\\u0438\\u0440\\u0441\\u043a\",\"\\u041d\\u043e\\u0432\\u043e\\u0441\\u0438\\u0431\\u0438\\u0440\\u0441\\u043a\",\"\\u041d\\u043e\\u0432\\u043e\\u0441\\u0438\\u0431\\u0438\\u0440\\u0441\\u043a\",\"\\u041d\\u043e\\u0432\\u043e\\u0441\\u0438\\u0431\\u0438\\u0440\\u0441\\u043a\",\"\\u041d\\u043e\\u0432\\u043e\\u0441\\u0438\\u0431\\u0438\\u0440\\u0441\\u043a\",\"\\u041d\\u043e\\u0432\\u043e\\u0441\\u0438\\u0431\\u0438\\u0440\\u0441\\u043a\",\"\\u041d\\u043e\\u0432\\u043e\\u0441\\u0438\\u0431\\u0438\\u0440\\u0441\\u043a\",\"\\u041d\\u043e\\u0432\\u043e\\u0441\\u0438\\u0431\\u0438\\u0440\\u0441\\u043a\",\"\\u041d\\u043e\\u0432\\u043e\\u0441\\u0438\\u0431\\u0438\\u0440\\u0441\\u043a\",\"\\u041d\\u043e\\u0432\\u043e\\u0441\\u0438\\u0431\\u0438\\u0440\\u0441\\u043a\",\"\\u041d\\u043e\\u0432\\u043e\\u0441\\u0438\\u0431\\u0438\\u0440\\u0441\\u043a\",\"\\u041d\\u043e\\u0432\\u043e\\u0441\\u0438\\u0431\\u0438\\u0440\\u0441\\u043a\",\"\\u041d\\u043e\\u0432\\u043e\\u0441\\u0438\\u0431\\u0438\\u0440\\u0441\\u043a\",\"\\u041d\\u043e\\u0432\\u043e\\u0441\\u0438\\u0431\\u0438\\u0440\\u0441\\u043a\",\"\\u041d\\u043e\\u0432\\u043e\\u0441\\u0438\\u0431\\u0438\\u0440\\u0441\\u043a\",\"\\u041d\\u043e\\u0432\\u043e\\u0441\\u0438\\u0431\\u0438\\u0440\\u0441\\u043a\",\"\\u041d\\u043e\\u0432\\u043e\\u0441\\u0438\\u0431\\u0438\\u0440\\u0441\\u043a\",\"\\u041d\\u043e\\u0432\\u043e\\u0441\\u0438\\u0431\\u0438\\u0440\\u0441\\u043a\",\"\\u041d\\u043e\\u0432\\u043e\\u0441\\u0438\\u0431\\u0438\\u0440\\u0441\\u043a\",\"\\u041d\\u043e\\u0432\\u043e\\u0441\\u0438\\u0431\\u0438\\u0440\\u0441\\u043a\",\"\\u041d\\u043e\\u0432\\u043e\\u0441\\u0438\\u0431\\u0438\\u0440\\u0441\\u043a\",\"\\u041d\\u043e\\u0432\\u043e\\u0441\\u0438\\u0431\\u0438\\u0440\\u0441\\u043a\",\"\\u041d\\u043e\\u0432\\u043e\\u0441\\u0438\\u0431\\u0438\\u0440\\u0441\\u043a\",\"\\u041d\\u043e\\u0432\\u043e\\u0441\\u0438\\u0431\\u0438\\u0440\\u0441\\u043a\",\"\\u041d\\u043e\\u0432\\u043e\\u0441\\u0438\\u0431\\u0438\\u0440\\u0441\\u043a\",\"\\u041d\\u043e\\u0432\\u043e\\u0441\\u0438\\u0431\\u0438\\u0440\\u0441\\u043a\",\"\\u041d\\u043e\\u0432\\u043e\\u0441\\u0438\\u0431\\u0438\\u0440\\u0441\\u043a\",\"\\u041d\\u043e\\u0432\\u043e\\u0441\\u0438\\u0431\\u0438\\u0440\\u0441\\u043a\",\"\\u041d\\u043e\\u0432\\u043e\\u0441\\u0438\\u0431\\u0438\\u0440\\u0441\\u043a\",\"\\u041d\\u043e\\u0432\\u043e\\u0441\\u0438\\u0431\\u0438\\u0440\\u0441\\u043a\",\"\\u041d\\u043e\\u0432\\u043e\\u0441\\u0438\\u0431\\u0438\\u0440\\u0441\\u043a\",\"\\u041d\\u043e\\u0432\\u043e\\u0441\\u0438\\u0431\\u0438\\u0440\\u0441\\u043a\",\"\\u041d\\u043e\\u0432\\u043e\\u0441\\u0438\\u0431\\u0438\\u0440\\u0441\\u043a\",\"\\u041d\\u043e\\u0432\\u043e\\u0441\\u0438\\u0431\\u0438\\u0440\\u0441\\u043a\",\"\\u041d\\u043e\\u0432\\u043e\\u0441\\u0438\\u0431\\u0438\\u0440\\u0441\\u043a\",\"\\u041d\\u043e\\u0432\\u043e\\u0441\\u0438\\u0431\\u0438\\u0440\\u0441\\u043a\",\"\\u041d\\u043e\\u0432\\u043e\\u0441\\u0438\\u0431\\u0438\\u0440\\u0441\\u043a\"],\"x0\":\" \",\"xaxis\":\"x\",\"y\":[1500.0,80000.0,1500.0,80000.0,1500.0,80000.0,1500.0,80000.0,1500.0,80000.0,1500.0,80000.0,1500.0,80000.0,1500.0,80000.0,1500.0,80000.0,1500.0,80000.0,1500.0,80000.0,1500.0,80000.0,1500.0,80000.0,1500.0,80000.0,1500.0,80000.0,1500.0,80000.0,1500.0,80000.0,1500.0,80000.0,1500.0,80000.0,1500.0,80000.0],\"y0\":\" \",\"yaxis\":\"y\",\"type\":\"box\"},{\"alignmentgroup\":\"True\",\"hovertemplate\":\"\\u0420\\u0435\\u0433\\u0438\\u043e\\u043d=%{x}<br>\\u0417\\u0430\\u0440\\u043f\\u043b\\u0430\\u0442\\u0430 \\u043e\\u0442, \\u0440\\u0443\\u0431.=%{y}<extra></extra>\",\"legendgroup\":\"\\u0421\\u0430\\u043c\\u0430\\u0440\\u0430\",\"marker\":{\"color\":\"#FFA15A\"},\"name\":\"\\u0421\\u0430\\u043c\\u0430\\u0440\\u0430\",\"notched\":false,\"offsetgroup\":\"\\u0421\\u0430\\u043c\\u0430\\u0440\\u0430\",\"orientation\":\"v\",\"showlegend\":true,\"x\":[\"\\u0421\\u0430\\u043c\\u0430\\u0440\\u0430\",\"\\u0421\\u0430\\u043c\\u0430\\u0440\\u0430\",\"\\u0421\\u0430\\u043c\\u0430\\u0440\\u0430\",\"\\u0421\\u0430\\u043c\\u0430\\u0440\\u0430\",\"\\u0421\\u0430\\u043c\\u0430\\u0440\\u0430\",\"\\u0421\\u0430\\u043c\\u0430\\u0440\\u0430\",\"\\u0421\\u0430\\u043c\\u0430\\u0440\\u0430\",\"\\u0421\\u0430\\u043c\\u0430\\u0440\\u0430\",\"\\u0421\\u0430\\u043c\\u0430\\u0440\\u0430\",\"\\u0421\\u0430\\u043c\\u0430\\u0440\\u0430\",\"\\u0421\\u0430\\u043c\\u0430\\u0440\\u0430\",\"\\u0421\\u0430\\u043c\\u0430\\u0440\\u0430\",\"\\u0421\\u0430\\u043c\\u0430\\u0440\\u0430\",\"\\u0421\\u0430\\u043c\\u0430\\u0440\\u0430\",\"\\u0421\\u0430\\u043c\\u0430\\u0440\\u0430\",\"\\u0421\\u0430\\u043c\\u0430\\u0440\\u0430\",\"\\u0421\\u0430\\u043c\\u0430\\u0440\\u0430\",\"\\u0421\\u0430\\u043c\\u0430\\u0440\\u0430\",\"\\u0421\\u0430\\u043c\\u0430\\u0440\\u0430\",\"\\u0421\\u0430\\u043c\\u0430\\u0440\\u0430\",\"\\u0421\\u0430\\u043c\\u0430\\u0440\\u0430\",\"\\u0421\\u0430\\u043c\\u0430\\u0440\\u0430\",\"\\u0421\\u0430\\u043c\\u0430\\u0440\\u0430\",\"\\u0421\\u0430\\u043c\\u0430\\u0440\\u0430\",\"\\u0421\\u0430\\u043c\\u0430\\u0440\\u0430\",\"\\u0421\\u0430\\u043c\\u0430\\u0440\\u0430\",\"\\u0421\\u0430\\u043c\\u0430\\u0440\\u0430\",\"\\u0421\\u0430\\u043c\\u0430\\u0440\\u0430\",\"\\u0421\\u0430\\u043c\\u0430\\u0440\\u0430\",\"\\u0421\\u0430\\u043c\\u0430\\u0440\\u0430\",\"\\u0421\\u0430\\u043c\\u0430\\u0440\\u0430\",\"\\u0421\\u0430\\u043c\\u0430\\u0440\\u0430\",\"\\u0421\\u0430\\u043c\\u0430\\u0440\\u0430\",\"\\u0421\\u0430\\u043c\\u0430\\u0440\\u0430\",\"\\u0421\\u0430\\u043c\\u0430\\u0440\\u0430\",\"\\u0421\\u0430\\u043c\\u0430\\u0440\\u0430\",\"\\u0421\\u0430\\u043c\\u0430\\u0440\\u0430\",\"\\u0421\\u0430\\u043c\\u0430\\u0440\\u0430\",\"\\u0421\\u0430\\u043c\\u0430\\u0440\\u0430\",\"\\u0421\\u0430\\u043c\\u0430\\u0440\\u0430\"],\"x0\":\" \",\"xaxis\":\"x\",\"y\":[130000.0,100000.0,130000.0,100000.0,130000.0,100000.0,130000.0,100000.0,130000.0,100000.0,130000.0,100000.0,130000.0,100000.0,130000.0,100000.0,130000.0,100000.0,130000.0,100000.0,130000.0,100000.0,130000.0,100000.0,130000.0,100000.0,130000.0,100000.0,130000.0,100000.0,130000.0,100000.0,130000.0,100000.0,130000.0,100000.0,130000.0,100000.0,130000.0,100000.0],\"y0\":\" \",\"yaxis\":\"y\",\"type\":\"box\"},{\"alignmentgroup\":\"True\",\"hovertemplate\":\"\\u0420\\u0435\\u0433\\u0438\\u043e\\u043d=%{x}<br>\\u0417\\u0430\\u0440\\u043f\\u043b\\u0430\\u0442\\u0430 \\u043e\\u0442, \\u0440\\u0443\\u0431.=%{y}<extra></extra>\",\"legendgroup\":\"\\u0422\\u0443\\u043b\\u0430\",\"marker\":{\"color\":\"#19d3f3\"},\"name\":\"\\u0422\\u0443\\u043b\\u0430\",\"notched\":false,\"offsetgroup\":\"\\u0422\\u0443\\u043b\\u0430\",\"orientation\":\"v\",\"showlegend\":true,\"x\":[\"\\u0422\\u0443\\u043b\\u0430\",\"\\u0422\\u0443\\u043b\\u0430\",\"\\u0422\\u0443\\u043b\\u0430\",\"\\u0422\\u0443\\u043b\\u0430\",\"\\u0422\\u0443\\u043b\\u0430\",\"\\u0422\\u0443\\u043b\\u0430\",\"\\u0422\\u0443\\u043b\\u0430\",\"\\u0422\\u0443\\u043b\\u0430\",\"\\u0422\\u0443\\u043b\\u0430\",\"\\u0422\\u0443\\u043b\\u0430\",\"\\u0422\\u0443\\u043b\\u0430\",\"\\u0422\\u0443\\u043b\\u0430\",\"\\u0422\\u0443\\u043b\\u0430\",\"\\u0422\\u0443\\u043b\\u0430\",\"\\u0422\\u0443\\u043b\\u0430\",\"\\u0422\\u0443\\u043b\\u0430\",\"\\u0422\\u0443\\u043b\\u0430\",\"\\u0422\\u0443\\u043b\\u0430\",\"\\u0422\\u0443\\u043b\\u0430\",\"\\u0422\\u0443\\u043b\\u0430\",\"\\u0422\\u0443\\u043b\\u0430\",\"\\u0422\\u0443\\u043b\\u0430\",\"\\u0422\\u0443\\u043b\\u0430\",\"\\u0422\\u0443\\u043b\\u0430\",\"\\u0422\\u0443\\u043b\\u0430\",\"\\u0422\\u0443\\u043b\\u0430\",\"\\u0422\\u0443\\u043b\\u0430\",\"\\u0422\\u0443\\u043b\\u0430\",\"\\u0422\\u0443\\u043b\\u0430\",\"\\u0422\\u0443\\u043b\\u0430\",\"\\u0422\\u0443\\u043b\\u0430\",\"\\u0422\\u0443\\u043b\\u0430\",\"\\u0422\\u0443\\u043b\\u0430\",\"\\u0422\\u0443\\u043b\\u0430\",\"\\u0422\\u0443\\u043b\\u0430\",\"\\u0422\\u0443\\u043b\\u0430\",\"\\u0422\\u0443\\u043b\\u0430\",\"\\u0422\\u0443\\u043b\\u0430\",\"\\u0422\\u0443\\u043b\\u0430\",\"\\u0422\\u0443\\u043b\\u0430\"],\"x0\":\" \",\"xaxis\":\"x\",\"y\":[80000.0,114000.0,80000.0,114000.0,80000.0,114000.0,80000.0,114000.0,80000.0,114000.0,80000.0,114000.0,80000.0,114000.0,80000.0,114000.0,80000.0,114000.0,80000.0,114000.0,80000.0,114000.0,80000.0,114000.0,80000.0,114000.0,80000.0,114000.0,80000.0,114000.0,80000.0,114000.0,80000.0,114000.0,80000.0,114000.0,80000.0,114000.0,80000.0,114000.0],\"y0\":\" \",\"yaxis\":\"y\",\"type\":\"box\"}],                        {\"template\":{\"data\":{\"histogram2dcontour\":[{\"type\":\"histogram2dcontour\",\"colorbar\":{\"outlinewidth\":0,\"ticks\":\"\"},\"colorscale\":[[0.0,\"#0d0887\"],[0.1111111111111111,\"#46039f\"],[0.2222222222222222,\"#7201a8\"],[0.3333333333333333,\"#9c179e\"],[0.4444444444444444,\"#bd3786\"],[0.5555555555555556,\"#d8576b\"],[0.6666666666666666,\"#ed7953\"],[0.7777777777777778,\"#fb9f3a\"],[0.8888888888888888,\"#fdca26\"],[1.0,\"#f0f921\"]]}],\"choropleth\":[{\"type\":\"choropleth\",\"colorbar\":{\"outlinewidth\":0,\"ticks\":\"\"}}],\"histogram2d\":[{\"type\":\"histogram2d\",\"colorbar\":{\"outlinewidth\":0,\"ticks\":\"\"},\"colorscale\":[[0.0,\"#0d0887\"],[0.1111111111111111,\"#46039f\"],[0.2222222222222222,\"#7201a8\"],[0.3333333333333333,\"#9c179e\"],[0.4444444444444444,\"#bd3786\"],[0.5555555555555556,\"#d8576b\"],[0.6666666666666666,\"#ed7953\"],[0.7777777777777778,\"#fb9f3a\"],[0.8888888888888888,\"#fdca26\"],[1.0,\"#f0f921\"]]}],\"heatmap\":[{\"type\":\"heatmap\",\"colorbar\":{\"outlinewidth\":0,\"ticks\":\"\"},\"colorscale\":[[0.0,\"#0d0887\"],[0.1111111111111111,\"#46039f\"],[0.2222222222222222,\"#7201a8\"],[0.3333333333333333,\"#9c179e\"],[0.4444444444444444,\"#bd3786\"],[0.5555555555555556,\"#d8576b\"],[0.6666666666666666,\"#ed7953\"],[0.7777777777777778,\"#fb9f3a\"],[0.8888888888888888,\"#fdca26\"],[1.0,\"#f0f921\"]]}],\"heatmapgl\":[{\"type\":\"heatmapgl\",\"colorbar\":{\"outlinewidth\":0,\"ticks\":\"\"},\"colorscale\":[[0.0,\"#0d0887\"],[0.1111111111111111,\"#46039f\"],[0.2222222222222222,\"#7201a8\"],[0.3333333333333333,\"#9c179e\"],[0.4444444444444444,\"#bd3786\"],[0.5555555555555556,\"#d8576b\"],[0.6666666666666666,\"#ed7953\"],[0.7777777777777778,\"#fb9f3a\"],[0.8888888888888888,\"#fdca26\"],[1.0,\"#f0f921\"]]}],\"contourcarpet\":[{\"type\":\"contourcarpet\",\"colorbar\":{\"outlinewidth\":0,\"ticks\":\"\"}}],\"contour\":[{\"type\":\"contour\",\"colorbar\":{\"outlinewidth\":0,\"ticks\":\"\"},\"colorscale\":[[0.0,\"#0d0887\"],[0.1111111111111111,\"#46039f\"],[0.2222222222222222,\"#7201a8\"],[0.3333333333333333,\"#9c179e\"],[0.4444444444444444,\"#bd3786\"],[0.5555555555555556,\"#d8576b\"],[0.6666666666666666,\"#ed7953\"],[0.7777777777777778,\"#fb9f3a\"],[0.8888888888888888,\"#fdca26\"],[1.0,\"#f0f921\"]]}],\"surface\":[{\"type\":\"surface\",\"colorbar\":{\"outlinewidth\":0,\"ticks\":\"\"},\"colorscale\":[[0.0,\"#0d0887\"],[0.1111111111111111,\"#46039f\"],[0.2222222222222222,\"#7201a8\"],[0.3333333333333333,\"#9c179e\"],[0.4444444444444444,\"#bd3786\"],[0.5555555555555556,\"#d8576b\"],[0.6666666666666666,\"#ed7953\"],[0.7777777777777778,\"#fb9f3a\"],[0.8888888888888888,\"#fdca26\"],[1.0,\"#f0f921\"]]}],\"mesh3d\":[{\"type\":\"mesh3d\",\"colorbar\":{\"outlinewidth\":0,\"ticks\":\"\"}}],\"scatter\":[{\"fillpattern\":{\"fillmode\":\"overlay\",\"size\":10,\"solidity\":0.2},\"type\":\"scatter\"}],\"parcoords\":[{\"type\":\"parcoords\",\"line\":{\"colorbar\":{\"outlinewidth\":0,\"ticks\":\"\"}}}],\"scatterpolargl\":[{\"type\":\"scatterpolargl\",\"marker\":{\"colorbar\":{\"outlinewidth\":0,\"ticks\":\"\"}}}],\"bar\":[{\"error_x\":{\"color\":\"#2a3f5f\"},\"error_y\":{\"color\":\"#2a3f5f\"},\"marker\":{\"line\":{\"color\":\"#E5ECF6\",\"width\":0.5},\"pattern\":{\"fillmode\":\"overlay\",\"size\":10,\"solidity\":0.2}},\"type\":\"bar\"}],\"scattergeo\":[{\"type\":\"scattergeo\",\"marker\":{\"colorbar\":{\"outlinewidth\":0,\"ticks\":\"\"}}}],\"scatterpolar\":[{\"type\":\"scatterpolar\",\"marker\":{\"colorbar\":{\"outlinewidth\":0,\"ticks\":\"\"}}}],\"histogram\":[{\"marker\":{\"pattern\":{\"fillmode\":\"overlay\",\"size\":10,\"solidity\":0.2}},\"type\":\"histogram\"}],\"scattergl\":[{\"type\":\"scattergl\",\"marker\":{\"colorbar\":{\"outlinewidth\":0,\"ticks\":\"\"}}}],\"scatter3d\":[{\"type\":\"scatter3d\",\"line\":{\"colorbar\":{\"outlinewidth\":0,\"ticks\":\"\"}},\"marker\":{\"colorbar\":{\"outlinewidth\":0,\"ticks\":\"\"}}}],\"scattermapbox\":[{\"type\":\"scattermapbox\",\"marker\":{\"colorbar\":{\"outlinewidth\":0,\"ticks\":\"\"}}}],\"scatterternary\":[{\"type\":\"scatterternary\",\"marker\":{\"colorbar\":{\"outlinewidth\":0,\"ticks\":\"\"}}}],\"scattercarpet\":[{\"type\":\"scattercarpet\",\"marker\":{\"colorbar\":{\"outlinewidth\":0,\"ticks\":\"\"}}}],\"carpet\":[{\"aaxis\":{\"endlinecolor\":\"#2a3f5f\",\"gridcolor\":\"white\",\"linecolor\":\"white\",\"minorgridcolor\":\"white\",\"startlinecolor\":\"#2a3f5f\"},\"baxis\":{\"endlinecolor\":\"#2a3f5f\",\"gridcolor\":\"white\",\"linecolor\":\"white\",\"minorgridcolor\":\"white\",\"startlinecolor\":\"#2a3f5f\"},\"type\":\"carpet\"}],\"table\":[{\"cells\":{\"fill\":{\"color\":\"#EBF0F8\"},\"line\":{\"color\":\"white\"}},\"header\":{\"fill\":{\"color\":\"#C8D4E3\"},\"line\":{\"color\":\"white\"}},\"type\":\"table\"}],\"barpolar\":[{\"marker\":{\"line\":{\"color\":\"#E5ECF6\",\"width\":0.5},\"pattern\":{\"fillmode\":\"overlay\",\"size\":10,\"solidity\":0.2}},\"type\":\"barpolar\"}],\"pie\":[{\"automargin\":true,\"type\":\"pie\"}]},\"layout\":{\"autotypenumbers\":\"strict\",\"colorway\":[\"#636efa\",\"#EF553B\",\"#00cc96\",\"#ab63fa\",\"#FFA15A\",\"#19d3f3\",\"#FF6692\",\"#B6E880\",\"#FF97FF\",\"#FECB52\"],\"font\":{\"color\":\"#2a3f5f\"},\"hovermode\":\"closest\",\"hoverlabel\":{\"align\":\"left\"},\"paper_bgcolor\":\"white\",\"plot_bgcolor\":\"#E5ECF6\",\"polar\":{\"bgcolor\":\"#E5ECF6\",\"angularaxis\":{\"gridcolor\":\"white\",\"linecolor\":\"white\",\"ticks\":\"\"},\"radialaxis\":{\"gridcolor\":\"white\",\"linecolor\":\"white\",\"ticks\":\"\"}},\"ternary\":{\"bgcolor\":\"#E5ECF6\",\"aaxis\":{\"gridcolor\":\"white\",\"linecolor\":\"white\",\"ticks\":\"\"},\"baxis\":{\"gridcolor\":\"white\",\"linecolor\":\"white\",\"ticks\":\"\"},\"caxis\":{\"gridcolor\":\"white\",\"linecolor\":\"white\",\"ticks\":\"\"}},\"coloraxis\":{\"colorbar\":{\"outlinewidth\":0,\"ticks\":\"\"}},\"colorscale\":{\"sequential\":[[0.0,\"#0d0887\"],[0.1111111111111111,\"#46039f\"],[0.2222222222222222,\"#7201a8\"],[0.3333333333333333,\"#9c179e\"],[0.4444444444444444,\"#bd3786\"],[0.5555555555555556,\"#d8576b\"],[0.6666666666666666,\"#ed7953\"],[0.7777777777777778,\"#fb9f3a\"],[0.8888888888888888,\"#fdca26\"],[1.0,\"#f0f921\"]],\"sequentialminus\":[[0.0,\"#0d0887\"],[0.1111111111111111,\"#46039f\"],[0.2222222222222222,\"#7201a8\"],[0.3333333333333333,\"#9c179e\"],[0.4444444444444444,\"#bd3786\"],[0.5555555555555556,\"#d8576b\"],[0.6666666666666666,\"#ed7953\"],[0.7777777777777778,\"#fb9f3a\"],[0.8888888888888888,\"#fdca26\"],[1.0,\"#f0f921\"]],\"diverging\":[[0,\"#8e0152\"],[0.1,\"#c51b7d\"],[0.2,\"#de77ae\"],[0.3,\"#f1b6da\"],[0.4,\"#fde0ef\"],[0.5,\"#f7f7f7\"],[0.6,\"#e6f5d0\"],[0.7,\"#b8e186\"],[0.8,\"#7fbc41\"],[0.9,\"#4d9221\"],[1,\"#276419\"]]},\"xaxis\":{\"gridcolor\":\"white\",\"linecolor\":\"white\",\"ticks\":\"\",\"title\":{\"standoff\":15},\"zerolinecolor\":\"white\",\"automargin\":true,\"zerolinewidth\":2},\"yaxis\":{\"gridcolor\":\"white\",\"linecolor\":\"white\",\"ticks\":\"\",\"title\":{\"standoff\":15},\"zerolinecolor\":\"white\",\"automargin\":true,\"zerolinewidth\":2},\"scene\":{\"xaxis\":{\"backgroundcolor\":\"#E5ECF6\",\"gridcolor\":\"white\",\"linecolor\":\"white\",\"showbackground\":true,\"ticks\":\"\",\"zerolinecolor\":\"white\",\"gridwidth\":2},\"yaxis\":{\"backgroundcolor\":\"#E5ECF6\",\"gridcolor\":\"white\",\"linecolor\":\"white\",\"showbackground\":true,\"ticks\":\"\",\"zerolinecolor\":\"white\",\"gridwidth\":2},\"zaxis\":{\"backgroundcolor\":\"#E5ECF6\",\"gridcolor\":\"white\",\"linecolor\":\"white\",\"showbackground\":true,\"ticks\":\"\",\"zerolinecolor\":\"white\",\"gridwidth\":2}},\"shapedefaults\":{\"line\":{\"color\":\"#2a3f5f\"}},\"annotationdefaults\":{\"arrowcolor\":\"#2a3f5f\",\"arrowhead\":0,\"arrowwidth\":1},\"geo\":{\"bgcolor\":\"white\",\"landcolor\":\"#E5ECF6\",\"subunitcolor\":\"white\",\"showland\":true,\"showlakes\":true,\"lakecolor\":\"white\"},\"title\":{\"x\":0.05},\"mapbox\":{\"style\":\"light\"}}},\"xaxis\":{\"anchor\":\"y\",\"domain\":[0.0,1.0],\"title\":{\"text\":\"\\u0420\\u0435\\u0433\\u0438\\u043e\\u043d\"},\"categoryorder\":\"array\",\"categoryarray\":[\"\\u0421\\u0430\\u043d\\u043a\\u0442-\\u041f\\u0435\\u0442\\u0435\\u0440\\u0431\\u0443\\u0440\\u0433\",\"\\u041d\\u0438\\u0436\\u043d\\u0438\\u0439 \\u041d\\u043e\\u0432\\u0433\\u043e\\u0440\\u043e\\u0434\",\"\\u041c\\u043e\\u0441\\u043a\\u0432\\u0430\",\"\\u041d\\u043e\\u0432\\u043e\\u0441\\u0438\\u0431\\u0438\\u0440\\u0441\\u043a\",\"\\u0421\\u0430\\u043c\\u0430\\u0440\\u0430\",\"\\u0422\\u0443\\u043b\\u0430\"]},\"yaxis\":{\"anchor\":\"x\",\"domain\":[0.0,1.0],\"title\":{\"text\":\"\\u0417\\u0430\\u0440\\u043f\\u043b\\u0430\\u0442\\u0430 \\u043e\\u0442, \\u0440\\u0443\\u0431.\"}},\"legend\":{\"title\":{\"text\":\"\\u0420\\u0435\\u0433\\u0438\\u043e\\u043d\"},\"tracegroupgap\":0},\"margin\":{\"t\":60},\"boxmode\":\"overlay\"},                        {\"responsive\": true}                    ).then(function(){\n",
       "                            \n",
       "var gd = document.getElementById('9f9fb847-4144-473b-bd49-727cfb6cef74');\n",
       "var x = new MutationObserver(function (mutations, observer) {{\n",
       "        var display = window.getComputedStyle(gd).display;\n",
       "        if (!display || display === 'none') {{\n",
       "            console.log([gd, 'removed!']);\n",
       "            Plotly.purge(gd);\n",
       "            observer.disconnect();\n",
       "        }}\n",
       "}});\n",
       "\n",
       "// Listen for the removal of the full notebook cells\n",
       "var notebookContainer = gd.closest('#notebook-container');\n",
       "if (notebookContainer) {{\n",
       "    x.observe(notebookContainer, {childList: true});\n",
       "}}\n",
       "\n",
       "// Listen for the clearing of the current output cell\n",
       "var outputEl = gd.closest('.output');\n",
       "if (outputEl) {{\n",
       "    x.observe(outputEl, {childList: true});\n",
       "}}\n",
       "\n",
       "                        })                };                });            </script>        </div>"
      ]
     },
     "metadata": {},
     "output_type": "display_data"
    }
   ],
   "source": [
    "#построим график уровень зарплат до (там где данные есть)\n",
    "vac_info_new_salary_from = vac_info_new[vac_info_new['salary_to'].notnull()].copy()\n",
    "table_for_plot = vac_info_new_salary_from\n",
    "fig = px.box(table_for_plot, \n",
    "             x=\"area\", \n",
    "             y=\"salary_to\", \n",
    "             color = \"area\", \n",
    "             category_orders = {'area': table_for_plot['area'].value_counts().index}, \n",
    "             labels = {'area':'Регион', 'salary_to':'Зарплата от, руб.'})\n",
    "fig.show()"
   ]
  },
  {
   "cell_type": "code",
   "execution_count": null,
   "id": "a4c89bfe",
   "metadata": {},
   "outputs": [],
   "source": [
    "#видим из двух графиков как выровнялась сетка зарплат, вероятно из за ковида"
   ]
  },
  {
   "cell_type": "code",
   "execution_count": null,
   "id": "9c8da325",
   "metadata": {},
   "outputs": [],
   "source": [
    "#проведем анализ данных"
   ]
  },
  {
   "cell_type": "code",
   "execution_count": 748,
   "id": "34aa99df",
   "metadata": {},
   "outputs": [
    {
     "data": {
      "text/html": [
       "<div>\n",
       "<style scoped>\n",
       "    .dataframe tbody tr th:only-of-type {\n",
       "        vertical-align: middle;\n",
       "    }\n",
       "\n",
       "    .dataframe tbody tr th {\n",
       "        vertical-align: top;\n",
       "    }\n",
       "\n",
       "    .dataframe thead th {\n",
       "        text-align: right;\n",
       "    }\n",
       "</style>\n",
       "<table border=\"1\" class=\"dataframe\">\n",
       "  <thead>\n",
       "    <tr style=\"text-align: right;\">\n",
       "      <th></th>\n",
       "      <th>count</th>\n",
       "    </tr>\n",
       "    <tr>\n",
       "      <th>key_skills</th>\n",
       "      <th></th>\n",
       "    </tr>\n",
       "  </thead>\n",
       "  <tbody>\n",
       "    <tr>\n",
       "      <th>SQL</th>\n",
       "      <td>220</td>\n",
       "    </tr>\n",
       "    <tr>\n",
       "      <th>JavaScript</th>\n",
       "      <td>200</td>\n",
       "    </tr>\n",
       "    <tr>\n",
       "      <th>Тестирование</th>\n",
       "      <td>160</td>\n",
       "    </tr>\n",
       "    <tr>\n",
       "      <th>Python</th>\n",
       "      <td>100</td>\n",
       "    </tr>\n",
       "    <tr>\n",
       "      <th>Atlassian Jira</th>\n",
       "      <td>80</td>\n",
       "    </tr>\n",
       "    <tr>\n",
       "      <th>HTML</th>\n",
       "      <td>80</td>\n",
       "    </tr>\n",
       "    <tr>\n",
       "      <th>TypeScript</th>\n",
       "      <td>80</td>\n",
       "    </tr>\n",
       "    <tr>\n",
       "      <th>Git</th>\n",
       "      <td>80</td>\n",
       "    </tr>\n",
       "    <tr>\n",
       "      <th>QA</th>\n",
       "      <td>80</td>\n",
       "    </tr>\n",
       "    <tr>\n",
       "      <th>MS SQL</th>\n",
       "      <td>60</td>\n",
       "    </tr>\n",
       "    <tr>\n",
       "      <th>Проведение тестирований</th>\n",
       "      <td>60</td>\n",
       "    </tr>\n",
       "    <tr>\n",
       "      <th>CSS3</th>\n",
       "      <td>60</td>\n",
       "    </tr>\n",
       "    <tr>\n",
       "      <th>Postman</th>\n",
       "      <td>60</td>\n",
       "    </tr>\n",
       "    <tr>\n",
       "      <th>React</th>\n",
       "      <td>40</td>\n",
       "    </tr>\n",
       "    <tr>\n",
       "      <th>React.js</th>\n",
       "      <td>40</td>\n",
       "    </tr>\n",
       "    <tr>\n",
       "      <th>Linux</th>\n",
       "      <td>40</td>\n",
       "    </tr>\n",
       "    <tr>\n",
       "      <th>Грамотная речь</th>\n",
       "      <td>40</td>\n",
       "    </tr>\n",
       "    <tr>\n",
       "      <th>REST API</th>\n",
       "      <td>40</td>\n",
       "    </tr>\n",
       "    <tr>\n",
       "      <th>React/Redux</th>\n",
       "      <td>40</td>\n",
       "    </tr>\n",
       "    <tr>\n",
       "      <th>MySQL</th>\n",
       "      <td>40</td>\n",
       "    </tr>\n",
       "  </tbody>\n",
       "</table>\n",
       "</div>"
      ],
      "text/plain": [
       "                         count\n",
       "key_skills                    \n",
       "SQL                        220\n",
       "JavaScript                 200\n",
       "Тестирование               160\n",
       "Python                     100\n",
       "Atlassian Jira              80\n",
       "HTML                        80\n",
       "TypeScript                  80\n",
       "Git                         80\n",
       "QA                          80\n",
       "MS SQL                      60\n",
       "Проведение тестирований     60\n",
       "CSS3                        60\n",
       "Postman                     60\n",
       "React                       40\n",
       "React.js                    40\n",
       "Linux                       40\n",
       "Грамотная речь              40\n",
       "REST API                    40\n",
       "React/Redux                 40\n",
       "MySQL                       40"
      ]
     },
     "execution_count": 748,
     "metadata": {},
     "output_type": "execute_result"
    }
   ],
   "source": [
    "#определим топ 20 популярных навыков\n",
    "skills_table = vac_info_new.copy()\n",
    "skills_table = skills_table.filter(items = [\"id\", \"name\", \"key_skills\",\"salary_from\",\"Level\"])\n",
    "skills_table_count = skills_table.explode(\"key_skills\").groupby(\"key_skills\").count()['id']\n",
    "skills_table_count = pd.DataFrame(skills_table_count).rename(mapper = {'id':'count'}, axis = 1)\n",
    "skills_table_count = skills_table_count.sort_values(by = 'count',ascending = False)\n",
    "skills_table_count.head(20)"
   ]
  },
  {
   "cell_type": "code",
   "execution_count": 730,
   "id": "edd3a9f0",
   "metadata": {},
   "outputs": [
    {
     "data": {
      "application/vnd.plotly.v1+json": {
       "config": {
        "plotlyServerURL": "https://plot.ly"
       },
       "data": [
        {
         "alignmentgroup": "True",
         "hovertemplate": "variable=count<br>Навык=%{x}<br>Количество вакансий=%{y}<extra></extra>",
         "legendgroup": "count",
         "marker": {
          "color": "#636efa",
          "pattern": {
           "shape": ""
          }
         },
         "name": "count",
         "offsetgroup": "count",
         "orientation": "v",
         "showlegend": true,
         "textposition": "auto",
         "type": "bar",
         "x": [
          "SQL",
          "JavaScript",
          "Тестирование",
          "Python",
          "Atlassian Jira",
          "HTML",
          "TypeScript",
          "Git",
          "QA",
          "MS SQL",
          "Проведение тестирований",
          "CSS3",
          "Postman",
          "React",
          "React.js",
          "Linux",
          "Грамотная речь",
          "REST API",
          "React/Redux",
          "MySQL"
         ],
         "xaxis": "x",
         "y": [
          220,
          200,
          160,
          100,
          80,
          80,
          80,
          80,
          80,
          60,
          60,
          60,
          60,
          40,
          40,
          40,
          40,
          40,
          40,
          40
         ],
         "yaxis": "y"
        }
       ],
       "layout": {
        "barmode": "relative",
        "legend": {
         "title": {
          "text": "variable"
         },
         "tracegroupgap": 0
        },
        "margin": {
         "t": 60
        },
        "showlegend": false,
        "template": {
         "data": {
          "bar": [
           {
            "error_x": {
             "color": "#2a3f5f"
            },
            "error_y": {
             "color": "#2a3f5f"
            },
            "marker": {
             "line": {
              "color": "#E5ECF6",
              "width": 0.5
             },
             "pattern": {
              "fillmode": "overlay",
              "size": 10,
              "solidity": 0.2
             }
            },
            "type": "bar"
           }
          ],
          "barpolar": [
           {
            "marker": {
             "line": {
              "color": "#E5ECF6",
              "width": 0.5
             },
             "pattern": {
              "fillmode": "overlay",
              "size": 10,
              "solidity": 0.2
             }
            },
            "type": "barpolar"
           }
          ],
          "carpet": [
           {
            "aaxis": {
             "endlinecolor": "#2a3f5f",
             "gridcolor": "white",
             "linecolor": "white",
             "minorgridcolor": "white",
             "startlinecolor": "#2a3f5f"
            },
            "baxis": {
             "endlinecolor": "#2a3f5f",
             "gridcolor": "white",
             "linecolor": "white",
             "minorgridcolor": "white",
             "startlinecolor": "#2a3f5f"
            },
            "type": "carpet"
           }
          ],
          "choropleth": [
           {
            "colorbar": {
             "outlinewidth": 0,
             "ticks": ""
            },
            "type": "choropleth"
           }
          ],
          "contour": [
           {
            "colorbar": {
             "outlinewidth": 0,
             "ticks": ""
            },
            "colorscale": [
             [
              0,
              "#0d0887"
             ],
             [
              0.1111111111111111,
              "#46039f"
             ],
             [
              0.2222222222222222,
              "#7201a8"
             ],
             [
              0.3333333333333333,
              "#9c179e"
             ],
             [
              0.4444444444444444,
              "#bd3786"
             ],
             [
              0.5555555555555556,
              "#d8576b"
             ],
             [
              0.6666666666666666,
              "#ed7953"
             ],
             [
              0.7777777777777778,
              "#fb9f3a"
             ],
             [
              0.8888888888888888,
              "#fdca26"
             ],
             [
              1,
              "#f0f921"
             ]
            ],
            "type": "contour"
           }
          ],
          "contourcarpet": [
           {
            "colorbar": {
             "outlinewidth": 0,
             "ticks": ""
            },
            "type": "contourcarpet"
           }
          ],
          "heatmap": [
           {
            "colorbar": {
             "outlinewidth": 0,
             "ticks": ""
            },
            "colorscale": [
             [
              0,
              "#0d0887"
             ],
             [
              0.1111111111111111,
              "#46039f"
             ],
             [
              0.2222222222222222,
              "#7201a8"
             ],
             [
              0.3333333333333333,
              "#9c179e"
             ],
             [
              0.4444444444444444,
              "#bd3786"
             ],
             [
              0.5555555555555556,
              "#d8576b"
             ],
             [
              0.6666666666666666,
              "#ed7953"
             ],
             [
              0.7777777777777778,
              "#fb9f3a"
             ],
             [
              0.8888888888888888,
              "#fdca26"
             ],
             [
              1,
              "#f0f921"
             ]
            ],
            "type": "heatmap"
           }
          ],
          "heatmapgl": [
           {
            "colorbar": {
             "outlinewidth": 0,
             "ticks": ""
            },
            "colorscale": [
             [
              0,
              "#0d0887"
             ],
             [
              0.1111111111111111,
              "#46039f"
             ],
             [
              0.2222222222222222,
              "#7201a8"
             ],
             [
              0.3333333333333333,
              "#9c179e"
             ],
             [
              0.4444444444444444,
              "#bd3786"
             ],
             [
              0.5555555555555556,
              "#d8576b"
             ],
             [
              0.6666666666666666,
              "#ed7953"
             ],
             [
              0.7777777777777778,
              "#fb9f3a"
             ],
             [
              0.8888888888888888,
              "#fdca26"
             ],
             [
              1,
              "#f0f921"
             ]
            ],
            "type": "heatmapgl"
           }
          ],
          "histogram": [
           {
            "marker": {
             "pattern": {
              "fillmode": "overlay",
              "size": 10,
              "solidity": 0.2
             }
            },
            "type": "histogram"
           }
          ],
          "histogram2d": [
           {
            "colorbar": {
             "outlinewidth": 0,
             "ticks": ""
            },
            "colorscale": [
             [
              0,
              "#0d0887"
             ],
             [
              0.1111111111111111,
              "#46039f"
             ],
             [
              0.2222222222222222,
              "#7201a8"
             ],
             [
              0.3333333333333333,
              "#9c179e"
             ],
             [
              0.4444444444444444,
              "#bd3786"
             ],
             [
              0.5555555555555556,
              "#d8576b"
             ],
             [
              0.6666666666666666,
              "#ed7953"
             ],
             [
              0.7777777777777778,
              "#fb9f3a"
             ],
             [
              0.8888888888888888,
              "#fdca26"
             ],
             [
              1,
              "#f0f921"
             ]
            ],
            "type": "histogram2d"
           }
          ],
          "histogram2dcontour": [
           {
            "colorbar": {
             "outlinewidth": 0,
             "ticks": ""
            },
            "colorscale": [
             [
              0,
              "#0d0887"
             ],
             [
              0.1111111111111111,
              "#46039f"
             ],
             [
              0.2222222222222222,
              "#7201a8"
             ],
             [
              0.3333333333333333,
              "#9c179e"
             ],
             [
              0.4444444444444444,
              "#bd3786"
             ],
             [
              0.5555555555555556,
              "#d8576b"
             ],
             [
              0.6666666666666666,
              "#ed7953"
             ],
             [
              0.7777777777777778,
              "#fb9f3a"
             ],
             [
              0.8888888888888888,
              "#fdca26"
             ],
             [
              1,
              "#f0f921"
             ]
            ],
            "type": "histogram2dcontour"
           }
          ],
          "mesh3d": [
           {
            "colorbar": {
             "outlinewidth": 0,
             "ticks": ""
            },
            "type": "mesh3d"
           }
          ],
          "parcoords": [
           {
            "line": {
             "colorbar": {
              "outlinewidth": 0,
              "ticks": ""
             }
            },
            "type": "parcoords"
           }
          ],
          "pie": [
           {
            "automargin": true,
            "type": "pie"
           }
          ],
          "scatter": [
           {
            "fillpattern": {
             "fillmode": "overlay",
             "size": 10,
             "solidity": 0.2
            },
            "type": "scatter"
           }
          ],
          "scatter3d": [
           {
            "line": {
             "colorbar": {
              "outlinewidth": 0,
              "ticks": ""
             }
            },
            "marker": {
             "colorbar": {
              "outlinewidth": 0,
              "ticks": ""
             }
            },
            "type": "scatter3d"
           }
          ],
          "scattercarpet": [
           {
            "marker": {
             "colorbar": {
              "outlinewidth": 0,
              "ticks": ""
             }
            },
            "type": "scattercarpet"
           }
          ],
          "scattergeo": [
           {
            "marker": {
             "colorbar": {
              "outlinewidth": 0,
              "ticks": ""
             }
            },
            "type": "scattergeo"
           }
          ],
          "scattergl": [
           {
            "marker": {
             "colorbar": {
              "outlinewidth": 0,
              "ticks": ""
             }
            },
            "type": "scattergl"
           }
          ],
          "scattermapbox": [
           {
            "marker": {
             "colorbar": {
              "outlinewidth": 0,
              "ticks": ""
             }
            },
            "type": "scattermapbox"
           }
          ],
          "scatterpolar": [
           {
            "marker": {
             "colorbar": {
              "outlinewidth": 0,
              "ticks": ""
             }
            },
            "type": "scatterpolar"
           }
          ],
          "scatterpolargl": [
           {
            "marker": {
             "colorbar": {
              "outlinewidth": 0,
              "ticks": ""
             }
            },
            "type": "scatterpolargl"
           }
          ],
          "scatterternary": [
           {
            "marker": {
             "colorbar": {
              "outlinewidth": 0,
              "ticks": ""
             }
            },
            "type": "scatterternary"
           }
          ],
          "surface": [
           {
            "colorbar": {
             "outlinewidth": 0,
             "ticks": ""
            },
            "colorscale": [
             [
              0,
              "#0d0887"
             ],
             [
              0.1111111111111111,
              "#46039f"
             ],
             [
              0.2222222222222222,
              "#7201a8"
             ],
             [
              0.3333333333333333,
              "#9c179e"
             ],
             [
              0.4444444444444444,
              "#bd3786"
             ],
             [
              0.5555555555555556,
              "#d8576b"
             ],
             [
              0.6666666666666666,
              "#ed7953"
             ],
             [
              0.7777777777777778,
              "#fb9f3a"
             ],
             [
              0.8888888888888888,
              "#fdca26"
             ],
             [
              1,
              "#f0f921"
             ]
            ],
            "type": "surface"
           }
          ],
          "table": [
           {
            "cells": {
             "fill": {
              "color": "#EBF0F8"
             },
             "line": {
              "color": "white"
             }
            },
            "header": {
             "fill": {
              "color": "#C8D4E3"
             },
             "line": {
              "color": "white"
             }
            },
            "type": "table"
           }
          ]
         },
         "layout": {
          "annotationdefaults": {
           "arrowcolor": "#2a3f5f",
           "arrowhead": 0,
           "arrowwidth": 1
          },
          "autotypenumbers": "strict",
          "coloraxis": {
           "colorbar": {
            "outlinewidth": 0,
            "ticks": ""
           }
          },
          "colorscale": {
           "diverging": [
            [
             0,
             "#8e0152"
            ],
            [
             0.1,
             "#c51b7d"
            ],
            [
             0.2,
             "#de77ae"
            ],
            [
             0.3,
             "#f1b6da"
            ],
            [
             0.4,
             "#fde0ef"
            ],
            [
             0.5,
             "#f7f7f7"
            ],
            [
             0.6,
             "#e6f5d0"
            ],
            [
             0.7,
             "#b8e186"
            ],
            [
             0.8,
             "#7fbc41"
            ],
            [
             0.9,
             "#4d9221"
            ],
            [
             1,
             "#276419"
            ]
           ],
           "sequential": [
            [
             0,
             "#0d0887"
            ],
            [
             0.1111111111111111,
             "#46039f"
            ],
            [
             0.2222222222222222,
             "#7201a8"
            ],
            [
             0.3333333333333333,
             "#9c179e"
            ],
            [
             0.4444444444444444,
             "#bd3786"
            ],
            [
             0.5555555555555556,
             "#d8576b"
            ],
            [
             0.6666666666666666,
             "#ed7953"
            ],
            [
             0.7777777777777778,
             "#fb9f3a"
            ],
            [
             0.8888888888888888,
             "#fdca26"
            ],
            [
             1,
             "#f0f921"
            ]
           ],
           "sequentialminus": [
            [
             0,
             "#0d0887"
            ],
            [
             0.1111111111111111,
             "#46039f"
            ],
            [
             0.2222222222222222,
             "#7201a8"
            ],
            [
             0.3333333333333333,
             "#9c179e"
            ],
            [
             0.4444444444444444,
             "#bd3786"
            ],
            [
             0.5555555555555556,
             "#d8576b"
            ],
            [
             0.6666666666666666,
             "#ed7953"
            ],
            [
             0.7777777777777778,
             "#fb9f3a"
            ],
            [
             0.8888888888888888,
             "#fdca26"
            ],
            [
             1,
             "#f0f921"
            ]
           ]
          },
          "colorway": [
           "#636efa",
           "#EF553B",
           "#00cc96",
           "#ab63fa",
           "#FFA15A",
           "#19d3f3",
           "#FF6692",
           "#B6E880",
           "#FF97FF",
           "#FECB52"
          ],
          "font": {
           "color": "#2a3f5f"
          },
          "geo": {
           "bgcolor": "white",
           "lakecolor": "white",
           "landcolor": "#E5ECF6",
           "showlakes": true,
           "showland": true,
           "subunitcolor": "white"
          },
          "hoverlabel": {
           "align": "left"
          },
          "hovermode": "closest",
          "mapbox": {
           "style": "light"
          },
          "paper_bgcolor": "white",
          "plot_bgcolor": "#E5ECF6",
          "polar": {
           "angularaxis": {
            "gridcolor": "white",
            "linecolor": "white",
            "ticks": ""
           },
           "bgcolor": "#E5ECF6",
           "radialaxis": {
            "gridcolor": "white",
            "linecolor": "white",
            "ticks": ""
           }
          },
          "scene": {
           "xaxis": {
            "backgroundcolor": "#E5ECF6",
            "gridcolor": "white",
            "gridwidth": 2,
            "linecolor": "white",
            "showbackground": true,
            "ticks": "",
            "zerolinecolor": "white"
           },
           "yaxis": {
            "backgroundcolor": "#E5ECF6",
            "gridcolor": "white",
            "gridwidth": 2,
            "linecolor": "white",
            "showbackground": true,
            "ticks": "",
            "zerolinecolor": "white"
           },
           "zaxis": {
            "backgroundcolor": "#E5ECF6",
            "gridcolor": "white",
            "gridwidth": 2,
            "linecolor": "white",
            "showbackground": true,
            "ticks": "",
            "zerolinecolor": "white"
           }
          },
          "shapedefaults": {
           "line": {
            "color": "#2a3f5f"
           }
          },
          "ternary": {
           "aaxis": {
            "gridcolor": "white",
            "linecolor": "white",
            "ticks": ""
           },
           "baxis": {
            "gridcolor": "white",
            "linecolor": "white",
            "ticks": ""
           },
           "bgcolor": "#E5ECF6",
           "caxis": {
            "gridcolor": "white",
            "linecolor": "white",
            "ticks": ""
           }
          },
          "title": {
           "x": 0.05
          },
          "xaxis": {
           "automargin": true,
           "gridcolor": "white",
           "linecolor": "white",
           "ticks": "",
           "title": {
            "standoff": 15
           },
           "zerolinecolor": "white",
           "zerolinewidth": 2
          },
          "yaxis": {
           "automargin": true,
           "gridcolor": "white",
           "linecolor": "white",
           "ticks": "",
           "title": {
            "standoff": 15
           },
           "zerolinecolor": "white",
           "zerolinewidth": 2
          }
         }
        },
        "xaxis": {
         "anchor": "y",
         "domain": [
          0,
          1
         ],
         "title": {
          "text": "Навык"
         }
        },
        "yaxis": {
         "anchor": "x",
         "domain": [
          0,
          1
         ],
         "title": {
          "text": "Количество вакансий"
         }
        }
       }
      },
      "text/html": [
       "<div>                            <div id=\"d24a5b12-9a0a-41c8-94f0-bc91204008c6\" class=\"plotly-graph-div\" style=\"height:525px; width:100%;\"></div>            <script type=\"text/javascript\">                require([\"plotly\"], function(Plotly) {                    window.PLOTLYENV=window.PLOTLYENV || {};                                    if (document.getElementById(\"d24a5b12-9a0a-41c8-94f0-bc91204008c6\")) {                    Plotly.newPlot(                        \"d24a5b12-9a0a-41c8-94f0-bc91204008c6\",                        [{\"alignmentgroup\":\"True\",\"hovertemplate\":\"variable=count<br>\\u041d\\u0430\\u0432\\u044b\\u043a=%{x}<br>\\u041a\\u043e\\u043b\\u0438\\u0447\\u0435\\u0441\\u0442\\u0432\\u043e \\u0432\\u0430\\u043a\\u0430\\u043d\\u0441\\u0438\\u0439=%{y}<extra></extra>\",\"legendgroup\":\"count\",\"marker\":{\"color\":\"#636efa\",\"pattern\":{\"shape\":\"\"}},\"name\":\"count\",\"offsetgroup\":\"count\",\"orientation\":\"v\",\"showlegend\":true,\"textposition\":\"auto\",\"x\":[\"SQL\",\"JavaScript\",\"\\u0422\\u0435\\u0441\\u0442\\u0438\\u0440\\u043e\\u0432\\u0430\\u043d\\u0438\\u0435\",\"Python\",\"Atlassian Jira\",\"HTML\",\"TypeScript\",\"Git\",\"QA\",\"MS SQL\",\"\\u041f\\u0440\\u043e\\u0432\\u0435\\u0434\\u0435\\u043d\\u0438\\u0435 \\u0442\\u0435\\u0441\\u0442\\u0438\\u0440\\u043e\\u0432\\u0430\\u043d\\u0438\\u0439\",\"CSS3\",\"Postman\",\"React\",\"React.js\",\"Linux\",\"\\u0413\\u0440\\u0430\\u043c\\u043e\\u0442\\u043d\\u0430\\u044f \\u0440\\u0435\\u0447\\u044c\",\"REST API\",\"React/Redux\",\"MySQL\"],\"xaxis\":\"x\",\"y\":[220,200,160,100,80,80,80,80,80,60,60,60,60,40,40,40,40,40,40,40],\"yaxis\":\"y\",\"type\":\"bar\"}],                        {\"template\":{\"data\":{\"histogram2dcontour\":[{\"type\":\"histogram2dcontour\",\"colorbar\":{\"outlinewidth\":0,\"ticks\":\"\"},\"colorscale\":[[0.0,\"#0d0887\"],[0.1111111111111111,\"#46039f\"],[0.2222222222222222,\"#7201a8\"],[0.3333333333333333,\"#9c179e\"],[0.4444444444444444,\"#bd3786\"],[0.5555555555555556,\"#d8576b\"],[0.6666666666666666,\"#ed7953\"],[0.7777777777777778,\"#fb9f3a\"],[0.8888888888888888,\"#fdca26\"],[1.0,\"#f0f921\"]]}],\"choropleth\":[{\"type\":\"choropleth\",\"colorbar\":{\"outlinewidth\":0,\"ticks\":\"\"}}],\"histogram2d\":[{\"type\":\"histogram2d\",\"colorbar\":{\"outlinewidth\":0,\"ticks\":\"\"},\"colorscale\":[[0.0,\"#0d0887\"],[0.1111111111111111,\"#46039f\"],[0.2222222222222222,\"#7201a8\"],[0.3333333333333333,\"#9c179e\"],[0.4444444444444444,\"#bd3786\"],[0.5555555555555556,\"#d8576b\"],[0.6666666666666666,\"#ed7953\"],[0.7777777777777778,\"#fb9f3a\"],[0.8888888888888888,\"#fdca26\"],[1.0,\"#f0f921\"]]}],\"heatmap\":[{\"type\":\"heatmap\",\"colorbar\":{\"outlinewidth\":0,\"ticks\":\"\"},\"colorscale\":[[0.0,\"#0d0887\"],[0.1111111111111111,\"#46039f\"],[0.2222222222222222,\"#7201a8\"],[0.3333333333333333,\"#9c179e\"],[0.4444444444444444,\"#bd3786\"],[0.5555555555555556,\"#d8576b\"],[0.6666666666666666,\"#ed7953\"],[0.7777777777777778,\"#fb9f3a\"],[0.8888888888888888,\"#fdca26\"],[1.0,\"#f0f921\"]]}],\"heatmapgl\":[{\"type\":\"heatmapgl\",\"colorbar\":{\"outlinewidth\":0,\"ticks\":\"\"},\"colorscale\":[[0.0,\"#0d0887\"],[0.1111111111111111,\"#46039f\"],[0.2222222222222222,\"#7201a8\"],[0.3333333333333333,\"#9c179e\"],[0.4444444444444444,\"#bd3786\"],[0.5555555555555556,\"#d8576b\"],[0.6666666666666666,\"#ed7953\"],[0.7777777777777778,\"#fb9f3a\"],[0.8888888888888888,\"#fdca26\"],[1.0,\"#f0f921\"]]}],\"contourcarpet\":[{\"type\":\"contourcarpet\",\"colorbar\":{\"outlinewidth\":0,\"ticks\":\"\"}}],\"contour\":[{\"type\":\"contour\",\"colorbar\":{\"outlinewidth\":0,\"ticks\":\"\"},\"colorscale\":[[0.0,\"#0d0887\"],[0.1111111111111111,\"#46039f\"],[0.2222222222222222,\"#7201a8\"],[0.3333333333333333,\"#9c179e\"],[0.4444444444444444,\"#bd3786\"],[0.5555555555555556,\"#d8576b\"],[0.6666666666666666,\"#ed7953\"],[0.7777777777777778,\"#fb9f3a\"],[0.8888888888888888,\"#fdca26\"],[1.0,\"#f0f921\"]]}],\"surface\":[{\"type\":\"surface\",\"colorbar\":{\"outlinewidth\":0,\"ticks\":\"\"},\"colorscale\":[[0.0,\"#0d0887\"],[0.1111111111111111,\"#46039f\"],[0.2222222222222222,\"#7201a8\"],[0.3333333333333333,\"#9c179e\"],[0.4444444444444444,\"#bd3786\"],[0.5555555555555556,\"#d8576b\"],[0.6666666666666666,\"#ed7953\"],[0.7777777777777778,\"#fb9f3a\"],[0.8888888888888888,\"#fdca26\"],[1.0,\"#f0f921\"]]}],\"mesh3d\":[{\"type\":\"mesh3d\",\"colorbar\":{\"outlinewidth\":0,\"ticks\":\"\"}}],\"scatter\":[{\"fillpattern\":{\"fillmode\":\"overlay\",\"size\":10,\"solidity\":0.2},\"type\":\"scatter\"}],\"parcoords\":[{\"type\":\"parcoords\",\"line\":{\"colorbar\":{\"outlinewidth\":0,\"ticks\":\"\"}}}],\"scatterpolargl\":[{\"type\":\"scatterpolargl\",\"marker\":{\"colorbar\":{\"outlinewidth\":0,\"ticks\":\"\"}}}],\"bar\":[{\"error_x\":{\"color\":\"#2a3f5f\"},\"error_y\":{\"color\":\"#2a3f5f\"},\"marker\":{\"line\":{\"color\":\"#E5ECF6\",\"width\":0.5},\"pattern\":{\"fillmode\":\"overlay\",\"size\":10,\"solidity\":0.2}},\"type\":\"bar\"}],\"scattergeo\":[{\"type\":\"scattergeo\",\"marker\":{\"colorbar\":{\"outlinewidth\":0,\"ticks\":\"\"}}}],\"scatterpolar\":[{\"type\":\"scatterpolar\",\"marker\":{\"colorbar\":{\"outlinewidth\":0,\"ticks\":\"\"}}}],\"histogram\":[{\"marker\":{\"pattern\":{\"fillmode\":\"overlay\",\"size\":10,\"solidity\":0.2}},\"type\":\"histogram\"}],\"scattergl\":[{\"type\":\"scattergl\",\"marker\":{\"colorbar\":{\"outlinewidth\":0,\"ticks\":\"\"}}}],\"scatter3d\":[{\"type\":\"scatter3d\",\"line\":{\"colorbar\":{\"outlinewidth\":0,\"ticks\":\"\"}},\"marker\":{\"colorbar\":{\"outlinewidth\":0,\"ticks\":\"\"}}}],\"scattermapbox\":[{\"type\":\"scattermapbox\",\"marker\":{\"colorbar\":{\"outlinewidth\":0,\"ticks\":\"\"}}}],\"scatterternary\":[{\"type\":\"scatterternary\",\"marker\":{\"colorbar\":{\"outlinewidth\":0,\"ticks\":\"\"}}}],\"scattercarpet\":[{\"type\":\"scattercarpet\",\"marker\":{\"colorbar\":{\"outlinewidth\":0,\"ticks\":\"\"}}}],\"carpet\":[{\"aaxis\":{\"endlinecolor\":\"#2a3f5f\",\"gridcolor\":\"white\",\"linecolor\":\"white\",\"minorgridcolor\":\"white\",\"startlinecolor\":\"#2a3f5f\"},\"baxis\":{\"endlinecolor\":\"#2a3f5f\",\"gridcolor\":\"white\",\"linecolor\":\"white\",\"minorgridcolor\":\"white\",\"startlinecolor\":\"#2a3f5f\"},\"type\":\"carpet\"}],\"table\":[{\"cells\":{\"fill\":{\"color\":\"#EBF0F8\"},\"line\":{\"color\":\"white\"}},\"header\":{\"fill\":{\"color\":\"#C8D4E3\"},\"line\":{\"color\":\"white\"}},\"type\":\"table\"}],\"barpolar\":[{\"marker\":{\"line\":{\"color\":\"#E5ECF6\",\"width\":0.5},\"pattern\":{\"fillmode\":\"overlay\",\"size\":10,\"solidity\":0.2}},\"type\":\"barpolar\"}],\"pie\":[{\"automargin\":true,\"type\":\"pie\"}]},\"layout\":{\"autotypenumbers\":\"strict\",\"colorway\":[\"#636efa\",\"#EF553B\",\"#00cc96\",\"#ab63fa\",\"#FFA15A\",\"#19d3f3\",\"#FF6692\",\"#B6E880\",\"#FF97FF\",\"#FECB52\"],\"font\":{\"color\":\"#2a3f5f\"},\"hovermode\":\"closest\",\"hoverlabel\":{\"align\":\"left\"},\"paper_bgcolor\":\"white\",\"plot_bgcolor\":\"#E5ECF6\",\"polar\":{\"bgcolor\":\"#E5ECF6\",\"angularaxis\":{\"gridcolor\":\"white\",\"linecolor\":\"white\",\"ticks\":\"\"},\"radialaxis\":{\"gridcolor\":\"white\",\"linecolor\":\"white\",\"ticks\":\"\"}},\"ternary\":{\"bgcolor\":\"#E5ECF6\",\"aaxis\":{\"gridcolor\":\"white\",\"linecolor\":\"white\",\"ticks\":\"\"},\"baxis\":{\"gridcolor\":\"white\",\"linecolor\":\"white\",\"ticks\":\"\"},\"caxis\":{\"gridcolor\":\"white\",\"linecolor\":\"white\",\"ticks\":\"\"}},\"coloraxis\":{\"colorbar\":{\"outlinewidth\":0,\"ticks\":\"\"}},\"colorscale\":{\"sequential\":[[0.0,\"#0d0887\"],[0.1111111111111111,\"#46039f\"],[0.2222222222222222,\"#7201a8\"],[0.3333333333333333,\"#9c179e\"],[0.4444444444444444,\"#bd3786\"],[0.5555555555555556,\"#d8576b\"],[0.6666666666666666,\"#ed7953\"],[0.7777777777777778,\"#fb9f3a\"],[0.8888888888888888,\"#fdca26\"],[1.0,\"#f0f921\"]],\"sequentialminus\":[[0.0,\"#0d0887\"],[0.1111111111111111,\"#46039f\"],[0.2222222222222222,\"#7201a8\"],[0.3333333333333333,\"#9c179e\"],[0.4444444444444444,\"#bd3786\"],[0.5555555555555556,\"#d8576b\"],[0.6666666666666666,\"#ed7953\"],[0.7777777777777778,\"#fb9f3a\"],[0.8888888888888888,\"#fdca26\"],[1.0,\"#f0f921\"]],\"diverging\":[[0,\"#8e0152\"],[0.1,\"#c51b7d\"],[0.2,\"#de77ae\"],[0.3,\"#f1b6da\"],[0.4,\"#fde0ef\"],[0.5,\"#f7f7f7\"],[0.6,\"#e6f5d0\"],[0.7,\"#b8e186\"],[0.8,\"#7fbc41\"],[0.9,\"#4d9221\"],[1,\"#276419\"]]},\"xaxis\":{\"gridcolor\":\"white\",\"linecolor\":\"white\",\"ticks\":\"\",\"title\":{\"standoff\":15},\"zerolinecolor\":\"white\",\"automargin\":true,\"zerolinewidth\":2},\"yaxis\":{\"gridcolor\":\"white\",\"linecolor\":\"white\",\"ticks\":\"\",\"title\":{\"standoff\":15},\"zerolinecolor\":\"white\",\"automargin\":true,\"zerolinewidth\":2},\"scene\":{\"xaxis\":{\"backgroundcolor\":\"#E5ECF6\",\"gridcolor\":\"white\",\"linecolor\":\"white\",\"showbackground\":true,\"ticks\":\"\",\"zerolinecolor\":\"white\",\"gridwidth\":2},\"yaxis\":{\"backgroundcolor\":\"#E5ECF6\",\"gridcolor\":\"white\",\"linecolor\":\"white\",\"showbackground\":true,\"ticks\":\"\",\"zerolinecolor\":\"white\",\"gridwidth\":2},\"zaxis\":{\"backgroundcolor\":\"#E5ECF6\",\"gridcolor\":\"white\",\"linecolor\":\"white\",\"showbackground\":true,\"ticks\":\"\",\"zerolinecolor\":\"white\",\"gridwidth\":2}},\"shapedefaults\":{\"line\":{\"color\":\"#2a3f5f\"}},\"annotationdefaults\":{\"arrowcolor\":\"#2a3f5f\",\"arrowhead\":0,\"arrowwidth\":1},\"geo\":{\"bgcolor\":\"white\",\"landcolor\":\"#E5ECF6\",\"subunitcolor\":\"white\",\"showland\":true,\"showlakes\":true,\"lakecolor\":\"white\"},\"title\":{\"x\":0.05},\"mapbox\":{\"style\":\"light\"}}},\"xaxis\":{\"anchor\":\"y\",\"domain\":[0.0,1.0],\"title\":{\"text\":\"\\u041d\\u0430\\u0432\\u044b\\u043a\"}},\"yaxis\":{\"anchor\":\"x\",\"domain\":[0.0,1.0],\"title\":{\"text\":\"\\u041a\\u043e\\u043b\\u0438\\u0447\\u0435\\u0441\\u0442\\u0432\\u043e \\u0432\\u0430\\u043a\\u0430\\u043d\\u0441\\u0438\\u0439\"}},\"legend\":{\"title\":{\"text\":\"variable\"},\"tracegroupgap\":0},\"margin\":{\"t\":60},\"barmode\":\"relative\",\"showlegend\":false},                        {\"responsive\": true}                    ).then(function(){\n",
       "                            \n",
       "var gd = document.getElementById('d24a5b12-9a0a-41c8-94f0-bc91204008c6');\n",
       "var x = new MutationObserver(function (mutations, observer) {{\n",
       "        var display = window.getComputedStyle(gd).display;\n",
       "        if (!display || display === 'none') {{\n",
       "            console.log([gd, 'removed!']);\n",
       "            Plotly.purge(gd);\n",
       "            observer.disconnect();\n",
       "        }}\n",
       "}});\n",
       "\n",
       "// Listen for the removal of the full notebook cells\n",
       "var notebookContainer = gd.closest('#notebook-container');\n",
       "if (notebookContainer) {{\n",
       "    x.observe(notebookContainer, {childList: true});\n",
       "}}\n",
       "\n",
       "// Listen for the clearing of the current output cell\n",
       "var outputEl = gd.closest('.output');\n",
       "if (outputEl) {{\n",
       "    x.observe(outputEl, {childList: true});\n",
       "}}\n",
       "\n",
       "                        })                };                });            </script>        </div>"
      ]
     },
     "metadata": {},
     "output_type": "display_data"
    }
   ],
   "source": [
    "#отобразим на графике\n",
    "fig = px.bar(skills_table_count.head(20),labels = {'key_skills':'Навык', 'value':'Количество вакансий'})\n",
    "fig.update_layout(showlegend=False)\n",
    "fig.show()"
   ]
  },
  {
   "cell_type": "code",
   "execution_count": 929,
   "id": "5a16e518",
   "metadata": {},
   "outputs": [],
   "source": [
    "#определим самые оплачиваемые навыки по среднему\n",
    "skills_salary_table = skills_table.explode(\"key_skills\").groupby(\"key_skills\").mean().reset_index()\n",
    "skills_salary_table = skills_salary_table.dropna(axis=0).sort_values(by='salary_from',ascending = False)\n",
    "#skills_salary_table"
   ]
  },
  {
   "cell_type": "code",
   "execution_count": 778,
   "id": "5a4402a5",
   "metadata": {},
   "outputs": [],
   "source": [
    "def trim_string(x):\n",
    "    \"\"\"\n",
    "    отрежем первые 25 символов навыка, для красоты отображения на графике\n",
    "    \"\"\"\n",
    "    y=x[0:25]\n",
    "    return y"
   ]
  },
  {
   "cell_type": "code",
   "execution_count": 780,
   "id": "484146d2",
   "metadata": {},
   "outputs": [],
   "source": [
    "skills_salary_table['key_skills']=skills_salary_table['key_skills'].apply(trim_string)"
   ]
  },
  {
   "cell_type": "code",
   "execution_count": 787,
   "id": "979f6de8",
   "metadata": {},
   "outputs": [],
   "source": [
    "skills_salary_table = skills_salary_table.set_index(['key_skills'])"
   ]
  },
  {
   "cell_type": "code",
   "execution_count": 930,
   "id": "e7fc9d91",
   "metadata": {},
   "outputs": [],
   "source": [
    "#skills_salary_table.head(20)"
   ]
  },
  {
   "cell_type": "code",
   "execution_count": 789,
   "id": "19b8aea4",
   "metadata": {},
   "outputs": [
    {
     "data": {
      "application/vnd.plotly.v1+json": {
       "config": {
        "plotlyServerURL": "https://plot.ly"
       },
       "data": [
        {
         "alignmentgroup": "True",
         "hovertemplate": "variable=salary_from<br>key_skills=%{x}<br>Средняя зарплата по вакансиям с навыком=%{y}<extra></extra>",
         "legendgroup": "salary_from",
         "marker": {
          "color": "#636efa",
          "pattern": {
           "shape": ""
          }
         },
         "name": "salary_from",
         "offsetgroup": "salary_from",
         "orientation": "v",
         "showlegend": true,
         "textposition": "auto",
         "type": "bar",
         "x": [
          "1С",
          "Business Correspondence",
          "Project Documentation",
          "Presentation skills",
          "Time management",
          "MS Project Expert",
          "Analytical skills",
          "MS PowerPoint",
          "Business communication",
          "Angular2..x",
          "PostgreSQL",
          "Django",
          "Английский язык",
          "Проведение тестирований",
          "GTest",
          "Умение работать в условия",
          "внимательность к деталям,",
          "Scrum",
          "С++14",
          "Высокие коммуникативные н"
         ],
         "xaxis": "x",
         "y": [
          200000,
          130000,
          130000,
          130000,
          130000,
          130000,
          130000,
          130000,
          130000,
          114000,
          90000,
          90000,
          90000,
          80000,
          80000,
          80000,
          80000,
          80000,
          80000,
          80000
         ],
         "yaxis": "y"
        }
       ],
       "layout": {
        "barmode": "relative",
        "legend": {
         "title": {
          "text": "variable"
         },
         "tracegroupgap": 0
        },
        "margin": {
         "t": 60
        },
        "showlegend": false,
        "template": {
         "data": {
          "bar": [
           {
            "error_x": {
             "color": "#2a3f5f"
            },
            "error_y": {
             "color": "#2a3f5f"
            },
            "marker": {
             "line": {
              "color": "#E5ECF6",
              "width": 0.5
             },
             "pattern": {
              "fillmode": "overlay",
              "size": 10,
              "solidity": 0.2
             }
            },
            "type": "bar"
           }
          ],
          "barpolar": [
           {
            "marker": {
             "line": {
              "color": "#E5ECF6",
              "width": 0.5
             },
             "pattern": {
              "fillmode": "overlay",
              "size": 10,
              "solidity": 0.2
             }
            },
            "type": "barpolar"
           }
          ],
          "carpet": [
           {
            "aaxis": {
             "endlinecolor": "#2a3f5f",
             "gridcolor": "white",
             "linecolor": "white",
             "minorgridcolor": "white",
             "startlinecolor": "#2a3f5f"
            },
            "baxis": {
             "endlinecolor": "#2a3f5f",
             "gridcolor": "white",
             "linecolor": "white",
             "minorgridcolor": "white",
             "startlinecolor": "#2a3f5f"
            },
            "type": "carpet"
           }
          ],
          "choropleth": [
           {
            "colorbar": {
             "outlinewidth": 0,
             "ticks": ""
            },
            "type": "choropleth"
           }
          ],
          "contour": [
           {
            "colorbar": {
             "outlinewidth": 0,
             "ticks": ""
            },
            "colorscale": [
             [
              0,
              "#0d0887"
             ],
             [
              0.1111111111111111,
              "#46039f"
             ],
             [
              0.2222222222222222,
              "#7201a8"
             ],
             [
              0.3333333333333333,
              "#9c179e"
             ],
             [
              0.4444444444444444,
              "#bd3786"
             ],
             [
              0.5555555555555556,
              "#d8576b"
             ],
             [
              0.6666666666666666,
              "#ed7953"
             ],
             [
              0.7777777777777778,
              "#fb9f3a"
             ],
             [
              0.8888888888888888,
              "#fdca26"
             ],
             [
              1,
              "#f0f921"
             ]
            ],
            "type": "contour"
           }
          ],
          "contourcarpet": [
           {
            "colorbar": {
             "outlinewidth": 0,
             "ticks": ""
            },
            "type": "contourcarpet"
           }
          ],
          "heatmap": [
           {
            "colorbar": {
             "outlinewidth": 0,
             "ticks": ""
            },
            "colorscale": [
             [
              0,
              "#0d0887"
             ],
             [
              0.1111111111111111,
              "#46039f"
             ],
             [
              0.2222222222222222,
              "#7201a8"
             ],
             [
              0.3333333333333333,
              "#9c179e"
             ],
             [
              0.4444444444444444,
              "#bd3786"
             ],
             [
              0.5555555555555556,
              "#d8576b"
             ],
             [
              0.6666666666666666,
              "#ed7953"
             ],
             [
              0.7777777777777778,
              "#fb9f3a"
             ],
             [
              0.8888888888888888,
              "#fdca26"
             ],
             [
              1,
              "#f0f921"
             ]
            ],
            "type": "heatmap"
           }
          ],
          "heatmapgl": [
           {
            "colorbar": {
             "outlinewidth": 0,
             "ticks": ""
            },
            "colorscale": [
             [
              0,
              "#0d0887"
             ],
             [
              0.1111111111111111,
              "#46039f"
             ],
             [
              0.2222222222222222,
              "#7201a8"
             ],
             [
              0.3333333333333333,
              "#9c179e"
             ],
             [
              0.4444444444444444,
              "#bd3786"
             ],
             [
              0.5555555555555556,
              "#d8576b"
             ],
             [
              0.6666666666666666,
              "#ed7953"
             ],
             [
              0.7777777777777778,
              "#fb9f3a"
             ],
             [
              0.8888888888888888,
              "#fdca26"
             ],
             [
              1,
              "#f0f921"
             ]
            ],
            "type": "heatmapgl"
           }
          ],
          "histogram": [
           {
            "marker": {
             "pattern": {
              "fillmode": "overlay",
              "size": 10,
              "solidity": 0.2
             }
            },
            "type": "histogram"
           }
          ],
          "histogram2d": [
           {
            "colorbar": {
             "outlinewidth": 0,
             "ticks": ""
            },
            "colorscale": [
             [
              0,
              "#0d0887"
             ],
             [
              0.1111111111111111,
              "#46039f"
             ],
             [
              0.2222222222222222,
              "#7201a8"
             ],
             [
              0.3333333333333333,
              "#9c179e"
             ],
             [
              0.4444444444444444,
              "#bd3786"
             ],
             [
              0.5555555555555556,
              "#d8576b"
             ],
             [
              0.6666666666666666,
              "#ed7953"
             ],
             [
              0.7777777777777778,
              "#fb9f3a"
             ],
             [
              0.8888888888888888,
              "#fdca26"
             ],
             [
              1,
              "#f0f921"
             ]
            ],
            "type": "histogram2d"
           }
          ],
          "histogram2dcontour": [
           {
            "colorbar": {
             "outlinewidth": 0,
             "ticks": ""
            },
            "colorscale": [
             [
              0,
              "#0d0887"
             ],
             [
              0.1111111111111111,
              "#46039f"
             ],
             [
              0.2222222222222222,
              "#7201a8"
             ],
             [
              0.3333333333333333,
              "#9c179e"
             ],
             [
              0.4444444444444444,
              "#bd3786"
             ],
             [
              0.5555555555555556,
              "#d8576b"
             ],
             [
              0.6666666666666666,
              "#ed7953"
             ],
             [
              0.7777777777777778,
              "#fb9f3a"
             ],
             [
              0.8888888888888888,
              "#fdca26"
             ],
             [
              1,
              "#f0f921"
             ]
            ],
            "type": "histogram2dcontour"
           }
          ],
          "mesh3d": [
           {
            "colorbar": {
             "outlinewidth": 0,
             "ticks": ""
            },
            "type": "mesh3d"
           }
          ],
          "parcoords": [
           {
            "line": {
             "colorbar": {
              "outlinewidth": 0,
              "ticks": ""
             }
            },
            "type": "parcoords"
           }
          ],
          "pie": [
           {
            "automargin": true,
            "type": "pie"
           }
          ],
          "scatter": [
           {
            "fillpattern": {
             "fillmode": "overlay",
             "size": 10,
             "solidity": 0.2
            },
            "type": "scatter"
           }
          ],
          "scatter3d": [
           {
            "line": {
             "colorbar": {
              "outlinewidth": 0,
              "ticks": ""
             }
            },
            "marker": {
             "colorbar": {
              "outlinewidth": 0,
              "ticks": ""
             }
            },
            "type": "scatter3d"
           }
          ],
          "scattercarpet": [
           {
            "marker": {
             "colorbar": {
              "outlinewidth": 0,
              "ticks": ""
             }
            },
            "type": "scattercarpet"
           }
          ],
          "scattergeo": [
           {
            "marker": {
             "colorbar": {
              "outlinewidth": 0,
              "ticks": ""
             }
            },
            "type": "scattergeo"
           }
          ],
          "scattergl": [
           {
            "marker": {
             "colorbar": {
              "outlinewidth": 0,
              "ticks": ""
             }
            },
            "type": "scattergl"
           }
          ],
          "scattermapbox": [
           {
            "marker": {
             "colorbar": {
              "outlinewidth": 0,
              "ticks": ""
             }
            },
            "type": "scattermapbox"
           }
          ],
          "scatterpolar": [
           {
            "marker": {
             "colorbar": {
              "outlinewidth": 0,
              "ticks": ""
             }
            },
            "type": "scatterpolar"
           }
          ],
          "scatterpolargl": [
           {
            "marker": {
             "colorbar": {
              "outlinewidth": 0,
              "ticks": ""
             }
            },
            "type": "scatterpolargl"
           }
          ],
          "scatterternary": [
           {
            "marker": {
             "colorbar": {
              "outlinewidth": 0,
              "ticks": ""
             }
            },
            "type": "scatterternary"
           }
          ],
          "surface": [
           {
            "colorbar": {
             "outlinewidth": 0,
             "ticks": ""
            },
            "colorscale": [
             [
              0,
              "#0d0887"
             ],
             [
              0.1111111111111111,
              "#46039f"
             ],
             [
              0.2222222222222222,
              "#7201a8"
             ],
             [
              0.3333333333333333,
              "#9c179e"
             ],
             [
              0.4444444444444444,
              "#bd3786"
             ],
             [
              0.5555555555555556,
              "#d8576b"
             ],
             [
              0.6666666666666666,
              "#ed7953"
             ],
             [
              0.7777777777777778,
              "#fb9f3a"
             ],
             [
              0.8888888888888888,
              "#fdca26"
             ],
             [
              1,
              "#f0f921"
             ]
            ],
            "type": "surface"
           }
          ],
          "table": [
           {
            "cells": {
             "fill": {
              "color": "#EBF0F8"
             },
             "line": {
              "color": "white"
             }
            },
            "header": {
             "fill": {
              "color": "#C8D4E3"
             },
             "line": {
              "color": "white"
             }
            },
            "type": "table"
           }
          ]
         },
         "layout": {
          "annotationdefaults": {
           "arrowcolor": "#2a3f5f",
           "arrowhead": 0,
           "arrowwidth": 1
          },
          "autotypenumbers": "strict",
          "coloraxis": {
           "colorbar": {
            "outlinewidth": 0,
            "ticks": ""
           }
          },
          "colorscale": {
           "diverging": [
            [
             0,
             "#8e0152"
            ],
            [
             0.1,
             "#c51b7d"
            ],
            [
             0.2,
             "#de77ae"
            ],
            [
             0.3,
             "#f1b6da"
            ],
            [
             0.4,
             "#fde0ef"
            ],
            [
             0.5,
             "#f7f7f7"
            ],
            [
             0.6,
             "#e6f5d0"
            ],
            [
             0.7,
             "#b8e186"
            ],
            [
             0.8,
             "#7fbc41"
            ],
            [
             0.9,
             "#4d9221"
            ],
            [
             1,
             "#276419"
            ]
           ],
           "sequential": [
            [
             0,
             "#0d0887"
            ],
            [
             0.1111111111111111,
             "#46039f"
            ],
            [
             0.2222222222222222,
             "#7201a8"
            ],
            [
             0.3333333333333333,
             "#9c179e"
            ],
            [
             0.4444444444444444,
             "#bd3786"
            ],
            [
             0.5555555555555556,
             "#d8576b"
            ],
            [
             0.6666666666666666,
             "#ed7953"
            ],
            [
             0.7777777777777778,
             "#fb9f3a"
            ],
            [
             0.8888888888888888,
             "#fdca26"
            ],
            [
             1,
             "#f0f921"
            ]
           ],
           "sequentialminus": [
            [
             0,
             "#0d0887"
            ],
            [
             0.1111111111111111,
             "#46039f"
            ],
            [
             0.2222222222222222,
             "#7201a8"
            ],
            [
             0.3333333333333333,
             "#9c179e"
            ],
            [
             0.4444444444444444,
             "#bd3786"
            ],
            [
             0.5555555555555556,
             "#d8576b"
            ],
            [
             0.6666666666666666,
             "#ed7953"
            ],
            [
             0.7777777777777778,
             "#fb9f3a"
            ],
            [
             0.8888888888888888,
             "#fdca26"
            ],
            [
             1,
             "#f0f921"
            ]
           ]
          },
          "colorway": [
           "#636efa",
           "#EF553B",
           "#00cc96",
           "#ab63fa",
           "#FFA15A",
           "#19d3f3",
           "#FF6692",
           "#B6E880",
           "#FF97FF",
           "#FECB52"
          ],
          "font": {
           "color": "#2a3f5f"
          },
          "geo": {
           "bgcolor": "white",
           "lakecolor": "white",
           "landcolor": "#E5ECF6",
           "showlakes": true,
           "showland": true,
           "subunitcolor": "white"
          },
          "hoverlabel": {
           "align": "left"
          },
          "hovermode": "closest",
          "mapbox": {
           "style": "light"
          },
          "paper_bgcolor": "white",
          "plot_bgcolor": "#E5ECF6",
          "polar": {
           "angularaxis": {
            "gridcolor": "white",
            "linecolor": "white",
            "ticks": ""
           },
           "bgcolor": "#E5ECF6",
           "radialaxis": {
            "gridcolor": "white",
            "linecolor": "white",
            "ticks": ""
           }
          },
          "scene": {
           "xaxis": {
            "backgroundcolor": "#E5ECF6",
            "gridcolor": "white",
            "gridwidth": 2,
            "linecolor": "white",
            "showbackground": true,
            "ticks": "",
            "zerolinecolor": "white"
           },
           "yaxis": {
            "backgroundcolor": "#E5ECF6",
            "gridcolor": "white",
            "gridwidth": 2,
            "linecolor": "white",
            "showbackground": true,
            "ticks": "",
            "zerolinecolor": "white"
           },
           "zaxis": {
            "backgroundcolor": "#E5ECF6",
            "gridcolor": "white",
            "gridwidth": 2,
            "linecolor": "white",
            "showbackground": true,
            "ticks": "",
            "zerolinecolor": "white"
           }
          },
          "shapedefaults": {
           "line": {
            "color": "#2a3f5f"
           }
          },
          "ternary": {
           "aaxis": {
            "gridcolor": "white",
            "linecolor": "white",
            "ticks": ""
           },
           "baxis": {
            "gridcolor": "white",
            "linecolor": "white",
            "ticks": ""
           },
           "bgcolor": "#E5ECF6",
           "caxis": {
            "gridcolor": "white",
            "linecolor": "white",
            "ticks": ""
           }
          },
          "title": {
           "x": 0.05
          },
          "xaxis": {
           "automargin": true,
           "gridcolor": "white",
           "linecolor": "white",
           "ticks": "",
           "title": {
            "standoff": 15
           },
           "zerolinecolor": "white",
           "zerolinewidth": 2
          },
          "yaxis": {
           "automargin": true,
           "gridcolor": "white",
           "linecolor": "white",
           "ticks": "",
           "title": {
            "standoff": 15
           },
           "zerolinecolor": "white",
           "zerolinewidth": 2
          }
         }
        },
        "xaxis": {
         "anchor": "y",
         "domain": [
          0,
          1
         ],
         "title": {
          "text": "key_skills"
         }
        },
        "yaxis": {
         "anchor": "x",
         "domain": [
          0,
          1
         ],
         "title": {
          "text": "Средняя зарплата по вакансиям с навыком"
         }
        }
       }
      },
      "text/html": [
       "<div>                            <div id=\"5637c6a0-e2fa-4ddd-95eb-00a4653944d9\" class=\"plotly-graph-div\" style=\"height:525px; width:100%;\"></div>            <script type=\"text/javascript\">                require([\"plotly\"], function(Plotly) {                    window.PLOTLYENV=window.PLOTLYENV || {};                                    if (document.getElementById(\"5637c6a0-e2fa-4ddd-95eb-00a4653944d9\")) {                    Plotly.newPlot(                        \"5637c6a0-e2fa-4ddd-95eb-00a4653944d9\",                        [{\"alignmentgroup\":\"True\",\"hovertemplate\":\"variable=salary_from<br>key_skills=%{x}<br>\\u0421\\u0440\\u0435\\u0434\\u043d\\u044f\\u044f \\u0437\\u0430\\u0440\\u043f\\u043b\\u0430\\u0442\\u0430 \\u043f\\u043e \\u0432\\u0430\\u043a\\u0430\\u043d\\u0441\\u0438\\u044f\\u043c \\u0441 \\u043d\\u0430\\u0432\\u044b\\u043a\\u043e\\u043c=%{y}<extra></extra>\",\"legendgroup\":\"salary_from\",\"marker\":{\"color\":\"#636efa\",\"pattern\":{\"shape\":\"\"}},\"name\":\"salary_from\",\"offsetgroup\":\"salary_from\",\"orientation\":\"v\",\"showlegend\":true,\"textposition\":\"auto\",\"x\":[\"1\\u0421\",\"Business Correspondence\",\"Project Documentation\",\"Presentation skills\",\"Time management\",\"MS Project Expert\",\"Analytical skills\",\"MS PowerPoint\",\"Business communication\",\"Angular2..x\",\"PostgreSQL\",\"Django\",\"\\u0410\\u043d\\u0433\\u043b\\u0438\\u0439\\u0441\\u043a\\u0438\\u0439 \\u044f\\u0437\\u044b\\u043a\",\"\\u041f\\u0440\\u043e\\u0432\\u0435\\u0434\\u0435\\u043d\\u0438\\u0435 \\u0442\\u0435\\u0441\\u0442\\u0438\\u0440\\u043e\\u0432\\u0430\\u043d\\u0438\\u0439\",\"GTest\",\"\\u0423\\u043c\\u0435\\u043d\\u0438\\u0435 \\u0440\\u0430\\u0431\\u043e\\u0442\\u0430\\u0442\\u044c \\u0432 \\u0443\\u0441\\u043b\\u043e\\u0432\\u0438\\u044f\",\"\\u0432\\u043d\\u0438\\u043c\\u0430\\u0442\\u0435\\u043b\\u044c\\u043d\\u043e\\u0441\\u0442\\u044c \\u043a \\u0434\\u0435\\u0442\\u0430\\u043b\\u044f\\u043c,\",\"Scrum\",\"\\u0421++14\",\"\\u0412\\u044b\\u0441\\u043e\\u043a\\u0438\\u0435 \\u043a\\u043e\\u043c\\u043c\\u0443\\u043d\\u0438\\u043a\\u0430\\u0442\\u0438\\u0432\\u043d\\u044b\\u0435 \\u043d\"],\"xaxis\":\"x\",\"y\":[200000.0,130000.0,130000.0,130000.0,130000.0,130000.0,130000.0,130000.0,130000.0,114000.0,90000.0,90000.0,90000.0,80000.0,80000.0,80000.0,80000.0,80000.0,80000.0,80000.0],\"yaxis\":\"y\",\"type\":\"bar\"}],                        {\"template\":{\"data\":{\"histogram2dcontour\":[{\"type\":\"histogram2dcontour\",\"colorbar\":{\"outlinewidth\":0,\"ticks\":\"\"},\"colorscale\":[[0.0,\"#0d0887\"],[0.1111111111111111,\"#46039f\"],[0.2222222222222222,\"#7201a8\"],[0.3333333333333333,\"#9c179e\"],[0.4444444444444444,\"#bd3786\"],[0.5555555555555556,\"#d8576b\"],[0.6666666666666666,\"#ed7953\"],[0.7777777777777778,\"#fb9f3a\"],[0.8888888888888888,\"#fdca26\"],[1.0,\"#f0f921\"]]}],\"choropleth\":[{\"type\":\"choropleth\",\"colorbar\":{\"outlinewidth\":0,\"ticks\":\"\"}}],\"histogram2d\":[{\"type\":\"histogram2d\",\"colorbar\":{\"outlinewidth\":0,\"ticks\":\"\"},\"colorscale\":[[0.0,\"#0d0887\"],[0.1111111111111111,\"#46039f\"],[0.2222222222222222,\"#7201a8\"],[0.3333333333333333,\"#9c179e\"],[0.4444444444444444,\"#bd3786\"],[0.5555555555555556,\"#d8576b\"],[0.6666666666666666,\"#ed7953\"],[0.7777777777777778,\"#fb9f3a\"],[0.8888888888888888,\"#fdca26\"],[1.0,\"#f0f921\"]]}],\"heatmap\":[{\"type\":\"heatmap\",\"colorbar\":{\"outlinewidth\":0,\"ticks\":\"\"},\"colorscale\":[[0.0,\"#0d0887\"],[0.1111111111111111,\"#46039f\"],[0.2222222222222222,\"#7201a8\"],[0.3333333333333333,\"#9c179e\"],[0.4444444444444444,\"#bd3786\"],[0.5555555555555556,\"#d8576b\"],[0.6666666666666666,\"#ed7953\"],[0.7777777777777778,\"#fb9f3a\"],[0.8888888888888888,\"#fdca26\"],[1.0,\"#f0f921\"]]}],\"heatmapgl\":[{\"type\":\"heatmapgl\",\"colorbar\":{\"outlinewidth\":0,\"ticks\":\"\"},\"colorscale\":[[0.0,\"#0d0887\"],[0.1111111111111111,\"#46039f\"],[0.2222222222222222,\"#7201a8\"],[0.3333333333333333,\"#9c179e\"],[0.4444444444444444,\"#bd3786\"],[0.5555555555555556,\"#d8576b\"],[0.6666666666666666,\"#ed7953\"],[0.7777777777777778,\"#fb9f3a\"],[0.8888888888888888,\"#fdca26\"],[1.0,\"#f0f921\"]]}],\"contourcarpet\":[{\"type\":\"contourcarpet\",\"colorbar\":{\"outlinewidth\":0,\"ticks\":\"\"}}],\"contour\":[{\"type\":\"contour\",\"colorbar\":{\"outlinewidth\":0,\"ticks\":\"\"},\"colorscale\":[[0.0,\"#0d0887\"],[0.1111111111111111,\"#46039f\"],[0.2222222222222222,\"#7201a8\"],[0.3333333333333333,\"#9c179e\"],[0.4444444444444444,\"#bd3786\"],[0.5555555555555556,\"#d8576b\"],[0.6666666666666666,\"#ed7953\"],[0.7777777777777778,\"#fb9f3a\"],[0.8888888888888888,\"#fdca26\"],[1.0,\"#f0f921\"]]}],\"surface\":[{\"type\":\"surface\",\"colorbar\":{\"outlinewidth\":0,\"ticks\":\"\"},\"colorscale\":[[0.0,\"#0d0887\"],[0.1111111111111111,\"#46039f\"],[0.2222222222222222,\"#7201a8\"],[0.3333333333333333,\"#9c179e\"],[0.4444444444444444,\"#bd3786\"],[0.5555555555555556,\"#d8576b\"],[0.6666666666666666,\"#ed7953\"],[0.7777777777777778,\"#fb9f3a\"],[0.8888888888888888,\"#fdca26\"],[1.0,\"#f0f921\"]]}],\"mesh3d\":[{\"type\":\"mesh3d\",\"colorbar\":{\"outlinewidth\":0,\"ticks\":\"\"}}],\"scatter\":[{\"fillpattern\":{\"fillmode\":\"overlay\",\"size\":10,\"solidity\":0.2},\"type\":\"scatter\"}],\"parcoords\":[{\"type\":\"parcoords\",\"line\":{\"colorbar\":{\"outlinewidth\":0,\"ticks\":\"\"}}}],\"scatterpolargl\":[{\"type\":\"scatterpolargl\",\"marker\":{\"colorbar\":{\"outlinewidth\":0,\"ticks\":\"\"}}}],\"bar\":[{\"error_x\":{\"color\":\"#2a3f5f\"},\"error_y\":{\"color\":\"#2a3f5f\"},\"marker\":{\"line\":{\"color\":\"#E5ECF6\",\"width\":0.5},\"pattern\":{\"fillmode\":\"overlay\",\"size\":10,\"solidity\":0.2}},\"type\":\"bar\"}],\"scattergeo\":[{\"type\":\"scattergeo\",\"marker\":{\"colorbar\":{\"outlinewidth\":0,\"ticks\":\"\"}}}],\"scatterpolar\":[{\"type\":\"scatterpolar\",\"marker\":{\"colorbar\":{\"outlinewidth\":0,\"ticks\":\"\"}}}],\"histogram\":[{\"marker\":{\"pattern\":{\"fillmode\":\"overlay\",\"size\":10,\"solidity\":0.2}},\"type\":\"histogram\"}],\"scattergl\":[{\"type\":\"scattergl\",\"marker\":{\"colorbar\":{\"outlinewidth\":0,\"ticks\":\"\"}}}],\"scatter3d\":[{\"type\":\"scatter3d\",\"line\":{\"colorbar\":{\"outlinewidth\":0,\"ticks\":\"\"}},\"marker\":{\"colorbar\":{\"outlinewidth\":0,\"ticks\":\"\"}}}],\"scattermapbox\":[{\"type\":\"scattermapbox\",\"marker\":{\"colorbar\":{\"outlinewidth\":0,\"ticks\":\"\"}}}],\"scatterternary\":[{\"type\":\"scatterternary\",\"marker\":{\"colorbar\":{\"outlinewidth\":0,\"ticks\":\"\"}}}],\"scattercarpet\":[{\"type\":\"scattercarpet\",\"marker\":{\"colorbar\":{\"outlinewidth\":0,\"ticks\":\"\"}}}],\"carpet\":[{\"aaxis\":{\"endlinecolor\":\"#2a3f5f\",\"gridcolor\":\"white\",\"linecolor\":\"white\",\"minorgridcolor\":\"white\",\"startlinecolor\":\"#2a3f5f\"},\"baxis\":{\"endlinecolor\":\"#2a3f5f\",\"gridcolor\":\"white\",\"linecolor\":\"white\",\"minorgridcolor\":\"white\",\"startlinecolor\":\"#2a3f5f\"},\"type\":\"carpet\"}],\"table\":[{\"cells\":{\"fill\":{\"color\":\"#EBF0F8\"},\"line\":{\"color\":\"white\"}},\"header\":{\"fill\":{\"color\":\"#C8D4E3\"},\"line\":{\"color\":\"white\"}},\"type\":\"table\"}],\"barpolar\":[{\"marker\":{\"line\":{\"color\":\"#E5ECF6\",\"width\":0.5},\"pattern\":{\"fillmode\":\"overlay\",\"size\":10,\"solidity\":0.2}},\"type\":\"barpolar\"}],\"pie\":[{\"automargin\":true,\"type\":\"pie\"}]},\"layout\":{\"autotypenumbers\":\"strict\",\"colorway\":[\"#636efa\",\"#EF553B\",\"#00cc96\",\"#ab63fa\",\"#FFA15A\",\"#19d3f3\",\"#FF6692\",\"#B6E880\",\"#FF97FF\",\"#FECB52\"],\"font\":{\"color\":\"#2a3f5f\"},\"hovermode\":\"closest\",\"hoverlabel\":{\"align\":\"left\"},\"paper_bgcolor\":\"white\",\"plot_bgcolor\":\"#E5ECF6\",\"polar\":{\"bgcolor\":\"#E5ECF6\",\"angularaxis\":{\"gridcolor\":\"white\",\"linecolor\":\"white\",\"ticks\":\"\"},\"radialaxis\":{\"gridcolor\":\"white\",\"linecolor\":\"white\",\"ticks\":\"\"}},\"ternary\":{\"bgcolor\":\"#E5ECF6\",\"aaxis\":{\"gridcolor\":\"white\",\"linecolor\":\"white\",\"ticks\":\"\"},\"baxis\":{\"gridcolor\":\"white\",\"linecolor\":\"white\",\"ticks\":\"\"},\"caxis\":{\"gridcolor\":\"white\",\"linecolor\":\"white\",\"ticks\":\"\"}},\"coloraxis\":{\"colorbar\":{\"outlinewidth\":0,\"ticks\":\"\"}},\"colorscale\":{\"sequential\":[[0.0,\"#0d0887\"],[0.1111111111111111,\"#46039f\"],[0.2222222222222222,\"#7201a8\"],[0.3333333333333333,\"#9c179e\"],[0.4444444444444444,\"#bd3786\"],[0.5555555555555556,\"#d8576b\"],[0.6666666666666666,\"#ed7953\"],[0.7777777777777778,\"#fb9f3a\"],[0.8888888888888888,\"#fdca26\"],[1.0,\"#f0f921\"]],\"sequentialminus\":[[0.0,\"#0d0887\"],[0.1111111111111111,\"#46039f\"],[0.2222222222222222,\"#7201a8\"],[0.3333333333333333,\"#9c179e\"],[0.4444444444444444,\"#bd3786\"],[0.5555555555555556,\"#d8576b\"],[0.6666666666666666,\"#ed7953\"],[0.7777777777777778,\"#fb9f3a\"],[0.8888888888888888,\"#fdca26\"],[1.0,\"#f0f921\"]],\"diverging\":[[0,\"#8e0152\"],[0.1,\"#c51b7d\"],[0.2,\"#de77ae\"],[0.3,\"#f1b6da\"],[0.4,\"#fde0ef\"],[0.5,\"#f7f7f7\"],[0.6,\"#e6f5d0\"],[0.7,\"#b8e186\"],[0.8,\"#7fbc41\"],[0.9,\"#4d9221\"],[1,\"#276419\"]]},\"xaxis\":{\"gridcolor\":\"white\",\"linecolor\":\"white\",\"ticks\":\"\",\"title\":{\"standoff\":15},\"zerolinecolor\":\"white\",\"automargin\":true,\"zerolinewidth\":2},\"yaxis\":{\"gridcolor\":\"white\",\"linecolor\":\"white\",\"ticks\":\"\",\"title\":{\"standoff\":15},\"zerolinecolor\":\"white\",\"automargin\":true,\"zerolinewidth\":2},\"scene\":{\"xaxis\":{\"backgroundcolor\":\"#E5ECF6\",\"gridcolor\":\"white\",\"linecolor\":\"white\",\"showbackground\":true,\"ticks\":\"\",\"zerolinecolor\":\"white\",\"gridwidth\":2},\"yaxis\":{\"backgroundcolor\":\"#E5ECF6\",\"gridcolor\":\"white\",\"linecolor\":\"white\",\"showbackground\":true,\"ticks\":\"\",\"zerolinecolor\":\"white\",\"gridwidth\":2},\"zaxis\":{\"backgroundcolor\":\"#E5ECF6\",\"gridcolor\":\"white\",\"linecolor\":\"white\",\"showbackground\":true,\"ticks\":\"\",\"zerolinecolor\":\"white\",\"gridwidth\":2}},\"shapedefaults\":{\"line\":{\"color\":\"#2a3f5f\"}},\"annotationdefaults\":{\"arrowcolor\":\"#2a3f5f\",\"arrowhead\":0,\"arrowwidth\":1},\"geo\":{\"bgcolor\":\"white\",\"landcolor\":\"#E5ECF6\",\"subunitcolor\":\"white\",\"showland\":true,\"showlakes\":true,\"lakecolor\":\"white\"},\"title\":{\"x\":0.05},\"mapbox\":{\"style\":\"light\"}}},\"xaxis\":{\"anchor\":\"y\",\"domain\":[0.0,1.0],\"title\":{\"text\":\"key_skills\"}},\"yaxis\":{\"anchor\":\"x\",\"domain\":[0.0,1.0],\"title\":{\"text\":\"\\u0421\\u0440\\u0435\\u0434\\u043d\\u044f\\u044f \\u0437\\u0430\\u0440\\u043f\\u043b\\u0430\\u0442\\u0430 \\u043f\\u043e \\u0432\\u0430\\u043a\\u0430\\u043d\\u0441\\u0438\\u044f\\u043c \\u0441 \\u043d\\u0430\\u0432\\u044b\\u043a\\u043e\\u043c\"}},\"legend\":{\"title\":{\"text\":\"variable\"},\"tracegroupgap\":0},\"margin\":{\"t\":60},\"barmode\":\"relative\",\"showlegend\":false},                        {\"responsive\": true}                    ).then(function(){\n",
       "                            \n",
       "var gd = document.getElementById('5637c6a0-e2fa-4ddd-95eb-00a4653944d9');\n",
       "var x = new MutationObserver(function (mutations, observer) {{\n",
       "        var display = window.getComputedStyle(gd).display;\n",
       "        if (!display || display === 'none') {{\n",
       "            console.log([gd, 'removed!']);\n",
       "            Plotly.purge(gd);\n",
       "            observer.disconnect();\n",
       "        }}\n",
       "}});\n",
       "\n",
       "// Listen for the removal of the full notebook cells\n",
       "var notebookContainer = gd.closest('#notebook-container');\n",
       "if (notebookContainer) {{\n",
       "    x.observe(notebookContainer, {childList: true});\n",
       "}}\n",
       "\n",
       "// Listen for the clearing of the current output cell\n",
       "var outputEl = gd.closest('.output');\n",
       "if (outputEl) {{\n",
       "    x.observe(outputEl, {childList: true});\n",
       "}}\n",
       "\n",
       "                        })                };                });            </script>        </div>"
      ]
     },
     "metadata": {},
     "output_type": "display_data"
    }
   ],
   "source": [
    "#отобразим на графике самые оплачиваемые навыки \n",
    "fig = px.bar(skills_salary_table.head(20),labels = {'skills':'Навык', 'value':'Средняя зарплата по вакансиям с навыком'})\n",
    "fig.update_layout(showlegend=False)\n",
    "fig.show()"
   ]
  },
  {
   "cell_type": "code",
   "execution_count": 909,
   "id": "d85a2097",
   "metadata": {},
   "outputs": [],
   "source": [
    "# оценим количество вакансий по городам с навыками SQL и Python\n",
    "area_table = vac_info_new.copy()\n",
    "area_table = employer_table.filter(items = [\"id\", \"employer\",\"key_skills\",\"area\"])\n",
    "area_table= employer_table.explode(\"key_skills\")\n"
   ]
  },
  {
   "cell_type": "code",
   "execution_count": 910,
   "id": "6bc88b8e",
   "metadata": {},
   "outputs": [],
   "source": [
    "area_table_count_sql = area_table[employer_table['key_skills']=='SQL'].groupby(['area']).count()['id']\n",
    "area_table_count_sql = pd.DataFrame(area_table_count_sql).rename(mapper = {'id':'count'}, axis = 1)\n",
    "area_table_count_sql  = area_table_count_sql.sort_values(by = 'count',ascending = False).reset_index()"
   ]
  },
  {
   "cell_type": "code",
   "execution_count": 911,
   "id": "daa257d2",
   "metadata": {},
   "outputs": [],
   "source": [
    "area_table_count_Python = area_table[area_table['key_skills']=='Python'].groupby(['area']).count()['id']\n",
    "area_table_count_Python = pd.DataFrame(area_table_count_Python).rename(mapper = {'id':'count'}, axis = 1)\n",
    "area_table_count_Python  = area_table_count_Python.sort_values(by = 'count',ascending = False).reset_index()"
   ]
  },
  {
   "cell_type": "code",
   "execution_count": 931,
   "id": "41683dea",
   "metadata": {
    "scrolled": false
   },
   "outputs": [
    {
     "data": {
      "application/vnd.plotly.v1+json": {
       "config": {
        "plotlyServerURL": "https://plot.ly"
       },
       "data": [
        {
         "name": "SQL",
         "type": "bar",
         "x": [
          "Нижний Новгород",
          "Москва",
          "Новосибирск",
          "Самара"
         ],
         "xaxis": "x",
         "y": [
          80,
          60,
          60,
          20
         ],
         "yaxis": "y"
        },
        {
         "name": "Python",
         "type": "bar",
         "x": [
          "Новосибирск",
          "Москва",
          "Нижний Новгород",
          "Санкт-Петербург"
         ],
         "xaxis": "x2",
         "y": [
          40,
          20,
          20,
          20
         ],
         "yaxis": "y2"
        }
       ],
       "layout": {
        "template": {
         "data": {
          "bar": [
           {
            "error_x": {
             "color": "#2a3f5f"
            },
            "error_y": {
             "color": "#2a3f5f"
            },
            "marker": {
             "line": {
              "color": "#E5ECF6",
              "width": 0.5
             },
             "pattern": {
              "fillmode": "overlay",
              "size": 10,
              "solidity": 0.2
             }
            },
            "type": "bar"
           }
          ],
          "barpolar": [
           {
            "marker": {
             "line": {
              "color": "#E5ECF6",
              "width": 0.5
             },
             "pattern": {
              "fillmode": "overlay",
              "size": 10,
              "solidity": 0.2
             }
            },
            "type": "barpolar"
           }
          ],
          "carpet": [
           {
            "aaxis": {
             "endlinecolor": "#2a3f5f",
             "gridcolor": "white",
             "linecolor": "white",
             "minorgridcolor": "white",
             "startlinecolor": "#2a3f5f"
            },
            "baxis": {
             "endlinecolor": "#2a3f5f",
             "gridcolor": "white",
             "linecolor": "white",
             "minorgridcolor": "white",
             "startlinecolor": "#2a3f5f"
            },
            "type": "carpet"
           }
          ],
          "choropleth": [
           {
            "colorbar": {
             "outlinewidth": 0,
             "ticks": ""
            },
            "type": "choropleth"
           }
          ],
          "contour": [
           {
            "colorbar": {
             "outlinewidth": 0,
             "ticks": ""
            },
            "colorscale": [
             [
              0,
              "#0d0887"
             ],
             [
              0.1111111111111111,
              "#46039f"
             ],
             [
              0.2222222222222222,
              "#7201a8"
             ],
             [
              0.3333333333333333,
              "#9c179e"
             ],
             [
              0.4444444444444444,
              "#bd3786"
             ],
             [
              0.5555555555555556,
              "#d8576b"
             ],
             [
              0.6666666666666666,
              "#ed7953"
             ],
             [
              0.7777777777777778,
              "#fb9f3a"
             ],
             [
              0.8888888888888888,
              "#fdca26"
             ],
             [
              1,
              "#f0f921"
             ]
            ],
            "type": "contour"
           }
          ],
          "contourcarpet": [
           {
            "colorbar": {
             "outlinewidth": 0,
             "ticks": ""
            },
            "type": "contourcarpet"
           }
          ],
          "heatmap": [
           {
            "colorbar": {
             "outlinewidth": 0,
             "ticks": ""
            },
            "colorscale": [
             [
              0,
              "#0d0887"
             ],
             [
              0.1111111111111111,
              "#46039f"
             ],
             [
              0.2222222222222222,
              "#7201a8"
             ],
             [
              0.3333333333333333,
              "#9c179e"
             ],
             [
              0.4444444444444444,
              "#bd3786"
             ],
             [
              0.5555555555555556,
              "#d8576b"
             ],
             [
              0.6666666666666666,
              "#ed7953"
             ],
             [
              0.7777777777777778,
              "#fb9f3a"
             ],
             [
              0.8888888888888888,
              "#fdca26"
             ],
             [
              1,
              "#f0f921"
             ]
            ],
            "type": "heatmap"
           }
          ],
          "heatmapgl": [
           {
            "colorbar": {
             "outlinewidth": 0,
             "ticks": ""
            },
            "colorscale": [
             [
              0,
              "#0d0887"
             ],
             [
              0.1111111111111111,
              "#46039f"
             ],
             [
              0.2222222222222222,
              "#7201a8"
             ],
             [
              0.3333333333333333,
              "#9c179e"
             ],
             [
              0.4444444444444444,
              "#bd3786"
             ],
             [
              0.5555555555555556,
              "#d8576b"
             ],
             [
              0.6666666666666666,
              "#ed7953"
             ],
             [
              0.7777777777777778,
              "#fb9f3a"
             ],
             [
              0.8888888888888888,
              "#fdca26"
             ],
             [
              1,
              "#f0f921"
             ]
            ],
            "type": "heatmapgl"
           }
          ],
          "histogram": [
           {
            "marker": {
             "pattern": {
              "fillmode": "overlay",
              "size": 10,
              "solidity": 0.2
             }
            },
            "type": "histogram"
           }
          ],
          "histogram2d": [
           {
            "colorbar": {
             "outlinewidth": 0,
             "ticks": ""
            },
            "colorscale": [
             [
              0,
              "#0d0887"
             ],
             [
              0.1111111111111111,
              "#46039f"
             ],
             [
              0.2222222222222222,
              "#7201a8"
             ],
             [
              0.3333333333333333,
              "#9c179e"
             ],
             [
              0.4444444444444444,
              "#bd3786"
             ],
             [
              0.5555555555555556,
              "#d8576b"
             ],
             [
              0.6666666666666666,
              "#ed7953"
             ],
             [
              0.7777777777777778,
              "#fb9f3a"
             ],
             [
              0.8888888888888888,
              "#fdca26"
             ],
             [
              1,
              "#f0f921"
             ]
            ],
            "type": "histogram2d"
           }
          ],
          "histogram2dcontour": [
           {
            "colorbar": {
             "outlinewidth": 0,
             "ticks": ""
            },
            "colorscale": [
             [
              0,
              "#0d0887"
             ],
             [
              0.1111111111111111,
              "#46039f"
             ],
             [
              0.2222222222222222,
              "#7201a8"
             ],
             [
              0.3333333333333333,
              "#9c179e"
             ],
             [
              0.4444444444444444,
              "#bd3786"
             ],
             [
              0.5555555555555556,
              "#d8576b"
             ],
             [
              0.6666666666666666,
              "#ed7953"
             ],
             [
              0.7777777777777778,
              "#fb9f3a"
             ],
             [
              0.8888888888888888,
              "#fdca26"
             ],
             [
              1,
              "#f0f921"
             ]
            ],
            "type": "histogram2dcontour"
           }
          ],
          "mesh3d": [
           {
            "colorbar": {
             "outlinewidth": 0,
             "ticks": ""
            },
            "type": "mesh3d"
           }
          ],
          "parcoords": [
           {
            "line": {
             "colorbar": {
              "outlinewidth": 0,
              "ticks": ""
             }
            },
            "type": "parcoords"
           }
          ],
          "pie": [
           {
            "automargin": true,
            "type": "pie"
           }
          ],
          "scatter": [
           {
            "fillpattern": {
             "fillmode": "overlay",
             "size": 10,
             "solidity": 0.2
            },
            "type": "scatter"
           }
          ],
          "scatter3d": [
           {
            "line": {
             "colorbar": {
              "outlinewidth": 0,
              "ticks": ""
             }
            },
            "marker": {
             "colorbar": {
              "outlinewidth": 0,
              "ticks": ""
             }
            },
            "type": "scatter3d"
           }
          ],
          "scattercarpet": [
           {
            "marker": {
             "colorbar": {
              "outlinewidth": 0,
              "ticks": ""
             }
            },
            "type": "scattercarpet"
           }
          ],
          "scattergeo": [
           {
            "marker": {
             "colorbar": {
              "outlinewidth": 0,
              "ticks": ""
             }
            },
            "type": "scattergeo"
           }
          ],
          "scattergl": [
           {
            "marker": {
             "colorbar": {
              "outlinewidth": 0,
              "ticks": ""
             }
            },
            "type": "scattergl"
           }
          ],
          "scattermapbox": [
           {
            "marker": {
             "colorbar": {
              "outlinewidth": 0,
              "ticks": ""
             }
            },
            "type": "scattermapbox"
           }
          ],
          "scatterpolar": [
           {
            "marker": {
             "colorbar": {
              "outlinewidth": 0,
              "ticks": ""
             }
            },
            "type": "scatterpolar"
           }
          ],
          "scatterpolargl": [
           {
            "marker": {
             "colorbar": {
              "outlinewidth": 0,
              "ticks": ""
             }
            },
            "type": "scatterpolargl"
           }
          ],
          "scatterternary": [
           {
            "marker": {
             "colorbar": {
              "outlinewidth": 0,
              "ticks": ""
             }
            },
            "type": "scatterternary"
           }
          ],
          "surface": [
           {
            "colorbar": {
             "outlinewidth": 0,
             "ticks": ""
            },
            "colorscale": [
             [
              0,
              "#0d0887"
             ],
             [
              0.1111111111111111,
              "#46039f"
             ],
             [
              0.2222222222222222,
              "#7201a8"
             ],
             [
              0.3333333333333333,
              "#9c179e"
             ],
             [
              0.4444444444444444,
              "#bd3786"
             ],
             [
              0.5555555555555556,
              "#d8576b"
             ],
             [
              0.6666666666666666,
              "#ed7953"
             ],
             [
              0.7777777777777778,
              "#fb9f3a"
             ],
             [
              0.8888888888888888,
              "#fdca26"
             ],
             [
              1,
              "#f0f921"
             ]
            ],
            "type": "surface"
           }
          ],
          "table": [
           {
            "cells": {
             "fill": {
              "color": "#EBF0F8"
             },
             "line": {
              "color": "white"
             }
            },
            "header": {
             "fill": {
              "color": "#C8D4E3"
             },
             "line": {
              "color": "white"
             }
            },
            "type": "table"
           }
          ]
         },
         "layout": {
          "annotationdefaults": {
           "arrowcolor": "#2a3f5f",
           "arrowhead": 0,
           "arrowwidth": 1
          },
          "autotypenumbers": "strict",
          "coloraxis": {
           "colorbar": {
            "outlinewidth": 0,
            "ticks": ""
           }
          },
          "colorscale": {
           "diverging": [
            [
             0,
             "#8e0152"
            ],
            [
             0.1,
             "#c51b7d"
            ],
            [
             0.2,
             "#de77ae"
            ],
            [
             0.3,
             "#f1b6da"
            ],
            [
             0.4,
             "#fde0ef"
            ],
            [
             0.5,
             "#f7f7f7"
            ],
            [
             0.6,
             "#e6f5d0"
            ],
            [
             0.7,
             "#b8e186"
            ],
            [
             0.8,
             "#7fbc41"
            ],
            [
             0.9,
             "#4d9221"
            ],
            [
             1,
             "#276419"
            ]
           ],
           "sequential": [
            [
             0,
             "#0d0887"
            ],
            [
             0.1111111111111111,
             "#46039f"
            ],
            [
             0.2222222222222222,
             "#7201a8"
            ],
            [
             0.3333333333333333,
             "#9c179e"
            ],
            [
             0.4444444444444444,
             "#bd3786"
            ],
            [
             0.5555555555555556,
             "#d8576b"
            ],
            [
             0.6666666666666666,
             "#ed7953"
            ],
            [
             0.7777777777777778,
             "#fb9f3a"
            ],
            [
             0.8888888888888888,
             "#fdca26"
            ],
            [
             1,
             "#f0f921"
            ]
           ],
           "sequentialminus": [
            [
             0,
             "#0d0887"
            ],
            [
             0.1111111111111111,
             "#46039f"
            ],
            [
             0.2222222222222222,
             "#7201a8"
            ],
            [
             0.3333333333333333,
             "#9c179e"
            ],
            [
             0.4444444444444444,
             "#bd3786"
            ],
            [
             0.5555555555555556,
             "#d8576b"
            ],
            [
             0.6666666666666666,
             "#ed7953"
            ],
            [
             0.7777777777777778,
             "#fb9f3a"
            ],
            [
             0.8888888888888888,
             "#fdca26"
            ],
            [
             1,
             "#f0f921"
            ]
           ]
          },
          "colorway": [
           "#636efa",
           "#EF553B",
           "#00cc96",
           "#ab63fa",
           "#FFA15A",
           "#19d3f3",
           "#FF6692",
           "#B6E880",
           "#FF97FF",
           "#FECB52"
          ],
          "font": {
           "color": "#2a3f5f"
          },
          "geo": {
           "bgcolor": "white",
           "lakecolor": "white",
           "landcolor": "#E5ECF6",
           "showlakes": true,
           "showland": true,
           "subunitcolor": "white"
          },
          "hoverlabel": {
           "align": "left"
          },
          "hovermode": "closest",
          "mapbox": {
           "style": "light"
          },
          "paper_bgcolor": "white",
          "plot_bgcolor": "#E5ECF6",
          "polar": {
           "angularaxis": {
            "gridcolor": "white",
            "linecolor": "white",
            "ticks": ""
           },
           "bgcolor": "#E5ECF6",
           "radialaxis": {
            "gridcolor": "white",
            "linecolor": "white",
            "ticks": ""
           }
          },
          "scene": {
           "xaxis": {
            "backgroundcolor": "#E5ECF6",
            "gridcolor": "white",
            "gridwidth": 2,
            "linecolor": "white",
            "showbackground": true,
            "ticks": "",
            "zerolinecolor": "white"
           },
           "yaxis": {
            "backgroundcolor": "#E5ECF6",
            "gridcolor": "white",
            "gridwidth": 2,
            "linecolor": "white",
            "showbackground": true,
            "ticks": "",
            "zerolinecolor": "white"
           },
           "zaxis": {
            "backgroundcolor": "#E5ECF6",
            "gridcolor": "white",
            "gridwidth": 2,
            "linecolor": "white",
            "showbackground": true,
            "ticks": "",
            "zerolinecolor": "white"
           }
          },
          "shapedefaults": {
           "line": {
            "color": "#2a3f5f"
           }
          },
          "ternary": {
           "aaxis": {
            "gridcolor": "white",
            "linecolor": "white",
            "ticks": ""
           },
           "baxis": {
            "gridcolor": "white",
            "linecolor": "white",
            "ticks": ""
           },
           "bgcolor": "#E5ECF6",
           "caxis": {
            "gridcolor": "white",
            "linecolor": "white",
            "ticks": ""
           }
          },
          "title": {
           "x": 0.05
          },
          "xaxis": {
           "automargin": true,
           "gridcolor": "white",
           "linecolor": "white",
           "ticks": "",
           "title": {
            "standoff": 15
           },
           "zerolinecolor": "white",
           "zerolinewidth": 2
          },
          "yaxis": {
           "automargin": true,
           "gridcolor": "white",
           "linecolor": "white",
           "ticks": "",
           "title": {
            "standoff": 15
           },
           "zerolinecolor": "white",
           "zerolinewidth": 2
          }
         }
        },
        "xaxis": {
         "anchor": "y",
         "domain": [
          0,
          1
         ]
        },
        "xaxis2": {
         "anchor": "y2",
         "domain": [
          0,
          1
         ]
        },
        "yaxis": {
         "anchor": "x",
         "domain": [
          0.575,
          1
         ]
        },
        "yaxis2": {
         "anchor": "x2",
         "domain": [
          0,
          0.425
         ]
        }
       }
      },
      "text/html": [
       "<div>                            <div id=\"850a8f25-f628-43f2-8016-11e048e153eb\" class=\"plotly-graph-div\" style=\"height:525px; width:100%;\"></div>            <script type=\"text/javascript\">                require([\"plotly\"], function(Plotly) {                    window.PLOTLYENV=window.PLOTLYENV || {};                                    if (document.getElementById(\"850a8f25-f628-43f2-8016-11e048e153eb\")) {                    Plotly.newPlot(                        \"850a8f25-f628-43f2-8016-11e048e153eb\",                        [{\"name\":\"SQL\",\"x\":[\"\\u041d\\u0438\\u0436\\u043d\\u0438\\u0439 \\u041d\\u043e\\u0432\\u0433\\u043e\\u0440\\u043e\\u0434\",\"\\u041c\\u043e\\u0441\\u043a\\u0432\\u0430\",\"\\u041d\\u043e\\u0432\\u043e\\u0441\\u0438\\u0431\\u0438\\u0440\\u0441\\u043a\",\"\\u0421\\u0430\\u043c\\u0430\\u0440\\u0430\"],\"y\":[80,60,60,20],\"type\":\"bar\",\"xaxis\":\"x\",\"yaxis\":\"y\"},{\"name\":\"Python\",\"x\":[\"\\u041d\\u043e\\u0432\\u043e\\u0441\\u0438\\u0431\\u0438\\u0440\\u0441\\u043a\",\"\\u041c\\u043e\\u0441\\u043a\\u0432\\u0430\",\"\\u041d\\u0438\\u0436\\u043d\\u0438\\u0439 \\u041d\\u043e\\u0432\\u0433\\u043e\\u0440\\u043e\\u0434\",\"\\u0421\\u0430\\u043d\\u043a\\u0442-\\u041f\\u0435\\u0442\\u0435\\u0440\\u0431\\u0443\\u0440\\u0433\"],\"y\":[40,20,20,20],\"type\":\"bar\",\"xaxis\":\"x2\",\"yaxis\":\"y2\"}],                        {\"template\":{\"data\":{\"histogram2dcontour\":[{\"type\":\"histogram2dcontour\",\"colorbar\":{\"outlinewidth\":0,\"ticks\":\"\"},\"colorscale\":[[0.0,\"#0d0887\"],[0.1111111111111111,\"#46039f\"],[0.2222222222222222,\"#7201a8\"],[0.3333333333333333,\"#9c179e\"],[0.4444444444444444,\"#bd3786\"],[0.5555555555555556,\"#d8576b\"],[0.6666666666666666,\"#ed7953\"],[0.7777777777777778,\"#fb9f3a\"],[0.8888888888888888,\"#fdca26\"],[1.0,\"#f0f921\"]]}],\"choropleth\":[{\"type\":\"choropleth\",\"colorbar\":{\"outlinewidth\":0,\"ticks\":\"\"}}],\"histogram2d\":[{\"type\":\"histogram2d\",\"colorbar\":{\"outlinewidth\":0,\"ticks\":\"\"},\"colorscale\":[[0.0,\"#0d0887\"],[0.1111111111111111,\"#46039f\"],[0.2222222222222222,\"#7201a8\"],[0.3333333333333333,\"#9c179e\"],[0.4444444444444444,\"#bd3786\"],[0.5555555555555556,\"#d8576b\"],[0.6666666666666666,\"#ed7953\"],[0.7777777777777778,\"#fb9f3a\"],[0.8888888888888888,\"#fdca26\"],[1.0,\"#f0f921\"]]}],\"heatmap\":[{\"type\":\"heatmap\",\"colorbar\":{\"outlinewidth\":0,\"ticks\":\"\"},\"colorscale\":[[0.0,\"#0d0887\"],[0.1111111111111111,\"#46039f\"],[0.2222222222222222,\"#7201a8\"],[0.3333333333333333,\"#9c179e\"],[0.4444444444444444,\"#bd3786\"],[0.5555555555555556,\"#d8576b\"],[0.6666666666666666,\"#ed7953\"],[0.7777777777777778,\"#fb9f3a\"],[0.8888888888888888,\"#fdca26\"],[1.0,\"#f0f921\"]]}],\"heatmapgl\":[{\"type\":\"heatmapgl\",\"colorbar\":{\"outlinewidth\":0,\"ticks\":\"\"},\"colorscale\":[[0.0,\"#0d0887\"],[0.1111111111111111,\"#46039f\"],[0.2222222222222222,\"#7201a8\"],[0.3333333333333333,\"#9c179e\"],[0.4444444444444444,\"#bd3786\"],[0.5555555555555556,\"#d8576b\"],[0.6666666666666666,\"#ed7953\"],[0.7777777777777778,\"#fb9f3a\"],[0.8888888888888888,\"#fdca26\"],[1.0,\"#f0f921\"]]}],\"contourcarpet\":[{\"type\":\"contourcarpet\",\"colorbar\":{\"outlinewidth\":0,\"ticks\":\"\"}}],\"contour\":[{\"type\":\"contour\",\"colorbar\":{\"outlinewidth\":0,\"ticks\":\"\"},\"colorscale\":[[0.0,\"#0d0887\"],[0.1111111111111111,\"#46039f\"],[0.2222222222222222,\"#7201a8\"],[0.3333333333333333,\"#9c179e\"],[0.4444444444444444,\"#bd3786\"],[0.5555555555555556,\"#d8576b\"],[0.6666666666666666,\"#ed7953\"],[0.7777777777777778,\"#fb9f3a\"],[0.8888888888888888,\"#fdca26\"],[1.0,\"#f0f921\"]]}],\"surface\":[{\"type\":\"surface\",\"colorbar\":{\"outlinewidth\":0,\"ticks\":\"\"},\"colorscale\":[[0.0,\"#0d0887\"],[0.1111111111111111,\"#46039f\"],[0.2222222222222222,\"#7201a8\"],[0.3333333333333333,\"#9c179e\"],[0.4444444444444444,\"#bd3786\"],[0.5555555555555556,\"#d8576b\"],[0.6666666666666666,\"#ed7953\"],[0.7777777777777778,\"#fb9f3a\"],[0.8888888888888888,\"#fdca26\"],[1.0,\"#f0f921\"]]}],\"mesh3d\":[{\"type\":\"mesh3d\",\"colorbar\":{\"outlinewidth\":0,\"ticks\":\"\"}}],\"scatter\":[{\"fillpattern\":{\"fillmode\":\"overlay\",\"size\":10,\"solidity\":0.2},\"type\":\"scatter\"}],\"parcoords\":[{\"type\":\"parcoords\",\"line\":{\"colorbar\":{\"outlinewidth\":0,\"ticks\":\"\"}}}],\"scatterpolargl\":[{\"type\":\"scatterpolargl\",\"marker\":{\"colorbar\":{\"outlinewidth\":0,\"ticks\":\"\"}}}],\"bar\":[{\"error_x\":{\"color\":\"#2a3f5f\"},\"error_y\":{\"color\":\"#2a3f5f\"},\"marker\":{\"line\":{\"color\":\"#E5ECF6\",\"width\":0.5},\"pattern\":{\"fillmode\":\"overlay\",\"size\":10,\"solidity\":0.2}},\"type\":\"bar\"}],\"scattergeo\":[{\"type\":\"scattergeo\",\"marker\":{\"colorbar\":{\"outlinewidth\":0,\"ticks\":\"\"}}}],\"scatterpolar\":[{\"type\":\"scatterpolar\",\"marker\":{\"colorbar\":{\"outlinewidth\":0,\"ticks\":\"\"}}}],\"histogram\":[{\"marker\":{\"pattern\":{\"fillmode\":\"overlay\",\"size\":10,\"solidity\":0.2}},\"type\":\"histogram\"}],\"scattergl\":[{\"type\":\"scattergl\",\"marker\":{\"colorbar\":{\"outlinewidth\":0,\"ticks\":\"\"}}}],\"scatter3d\":[{\"type\":\"scatter3d\",\"line\":{\"colorbar\":{\"outlinewidth\":0,\"ticks\":\"\"}},\"marker\":{\"colorbar\":{\"outlinewidth\":0,\"ticks\":\"\"}}}],\"scattermapbox\":[{\"type\":\"scattermapbox\",\"marker\":{\"colorbar\":{\"outlinewidth\":0,\"ticks\":\"\"}}}],\"scatterternary\":[{\"type\":\"scatterternary\",\"marker\":{\"colorbar\":{\"outlinewidth\":0,\"ticks\":\"\"}}}],\"scattercarpet\":[{\"type\":\"scattercarpet\",\"marker\":{\"colorbar\":{\"outlinewidth\":0,\"ticks\":\"\"}}}],\"carpet\":[{\"aaxis\":{\"endlinecolor\":\"#2a3f5f\",\"gridcolor\":\"white\",\"linecolor\":\"white\",\"minorgridcolor\":\"white\",\"startlinecolor\":\"#2a3f5f\"},\"baxis\":{\"endlinecolor\":\"#2a3f5f\",\"gridcolor\":\"white\",\"linecolor\":\"white\",\"minorgridcolor\":\"white\",\"startlinecolor\":\"#2a3f5f\"},\"type\":\"carpet\"}],\"table\":[{\"cells\":{\"fill\":{\"color\":\"#EBF0F8\"},\"line\":{\"color\":\"white\"}},\"header\":{\"fill\":{\"color\":\"#C8D4E3\"},\"line\":{\"color\":\"white\"}},\"type\":\"table\"}],\"barpolar\":[{\"marker\":{\"line\":{\"color\":\"#E5ECF6\",\"width\":0.5},\"pattern\":{\"fillmode\":\"overlay\",\"size\":10,\"solidity\":0.2}},\"type\":\"barpolar\"}],\"pie\":[{\"automargin\":true,\"type\":\"pie\"}]},\"layout\":{\"autotypenumbers\":\"strict\",\"colorway\":[\"#636efa\",\"#EF553B\",\"#00cc96\",\"#ab63fa\",\"#FFA15A\",\"#19d3f3\",\"#FF6692\",\"#B6E880\",\"#FF97FF\",\"#FECB52\"],\"font\":{\"color\":\"#2a3f5f\"},\"hovermode\":\"closest\",\"hoverlabel\":{\"align\":\"left\"},\"paper_bgcolor\":\"white\",\"plot_bgcolor\":\"#E5ECF6\",\"polar\":{\"bgcolor\":\"#E5ECF6\",\"angularaxis\":{\"gridcolor\":\"white\",\"linecolor\":\"white\",\"ticks\":\"\"},\"radialaxis\":{\"gridcolor\":\"white\",\"linecolor\":\"white\",\"ticks\":\"\"}},\"ternary\":{\"bgcolor\":\"#E5ECF6\",\"aaxis\":{\"gridcolor\":\"white\",\"linecolor\":\"white\",\"ticks\":\"\"},\"baxis\":{\"gridcolor\":\"white\",\"linecolor\":\"white\",\"ticks\":\"\"},\"caxis\":{\"gridcolor\":\"white\",\"linecolor\":\"white\",\"ticks\":\"\"}},\"coloraxis\":{\"colorbar\":{\"outlinewidth\":0,\"ticks\":\"\"}},\"colorscale\":{\"sequential\":[[0.0,\"#0d0887\"],[0.1111111111111111,\"#46039f\"],[0.2222222222222222,\"#7201a8\"],[0.3333333333333333,\"#9c179e\"],[0.4444444444444444,\"#bd3786\"],[0.5555555555555556,\"#d8576b\"],[0.6666666666666666,\"#ed7953\"],[0.7777777777777778,\"#fb9f3a\"],[0.8888888888888888,\"#fdca26\"],[1.0,\"#f0f921\"]],\"sequentialminus\":[[0.0,\"#0d0887\"],[0.1111111111111111,\"#46039f\"],[0.2222222222222222,\"#7201a8\"],[0.3333333333333333,\"#9c179e\"],[0.4444444444444444,\"#bd3786\"],[0.5555555555555556,\"#d8576b\"],[0.6666666666666666,\"#ed7953\"],[0.7777777777777778,\"#fb9f3a\"],[0.8888888888888888,\"#fdca26\"],[1.0,\"#f0f921\"]],\"diverging\":[[0,\"#8e0152\"],[0.1,\"#c51b7d\"],[0.2,\"#de77ae\"],[0.3,\"#f1b6da\"],[0.4,\"#fde0ef\"],[0.5,\"#f7f7f7\"],[0.6,\"#e6f5d0\"],[0.7,\"#b8e186\"],[0.8,\"#7fbc41\"],[0.9,\"#4d9221\"],[1,\"#276419\"]]},\"xaxis\":{\"gridcolor\":\"white\",\"linecolor\":\"white\",\"ticks\":\"\",\"title\":{\"standoff\":15},\"zerolinecolor\":\"white\",\"automargin\":true,\"zerolinewidth\":2},\"yaxis\":{\"gridcolor\":\"white\",\"linecolor\":\"white\",\"ticks\":\"\",\"title\":{\"standoff\":15},\"zerolinecolor\":\"white\",\"automargin\":true,\"zerolinewidth\":2},\"scene\":{\"xaxis\":{\"backgroundcolor\":\"#E5ECF6\",\"gridcolor\":\"white\",\"linecolor\":\"white\",\"showbackground\":true,\"ticks\":\"\",\"zerolinecolor\":\"white\",\"gridwidth\":2},\"yaxis\":{\"backgroundcolor\":\"#E5ECF6\",\"gridcolor\":\"white\",\"linecolor\":\"white\",\"showbackground\":true,\"ticks\":\"\",\"zerolinecolor\":\"white\",\"gridwidth\":2},\"zaxis\":{\"backgroundcolor\":\"#E5ECF6\",\"gridcolor\":\"white\",\"linecolor\":\"white\",\"showbackground\":true,\"ticks\":\"\",\"zerolinecolor\":\"white\",\"gridwidth\":2}},\"shapedefaults\":{\"line\":{\"color\":\"#2a3f5f\"}},\"annotationdefaults\":{\"arrowcolor\":\"#2a3f5f\",\"arrowhead\":0,\"arrowwidth\":1},\"geo\":{\"bgcolor\":\"white\",\"landcolor\":\"#E5ECF6\",\"subunitcolor\":\"white\",\"showland\":true,\"showlakes\":true,\"lakecolor\":\"white\"},\"title\":{\"x\":0.05},\"mapbox\":{\"style\":\"light\"}}},\"xaxis\":{\"anchor\":\"y\",\"domain\":[0.0,1.0]},\"yaxis\":{\"anchor\":\"x\",\"domain\":[0.575,1.0]},\"xaxis2\":{\"anchor\":\"y2\",\"domain\":[0.0,1.0]},\"yaxis2\":{\"anchor\":\"x2\",\"domain\":[0.0,0.425]}},                        {\"responsive\": true}                    ).then(function(){\n",
       "                            \n",
       "var gd = document.getElementById('850a8f25-f628-43f2-8016-11e048e153eb');\n",
       "var x = new MutationObserver(function (mutations, observer) {{\n",
       "        var display = window.getComputedStyle(gd).display;\n",
       "        if (!display || display === 'none') {{\n",
       "            console.log([gd, 'removed!']);\n",
       "            Plotly.purge(gd);\n",
       "            observer.disconnect();\n",
       "        }}\n",
       "}});\n",
       "\n",
       "// Listen for the removal of the full notebook cells\n",
       "var notebookContainer = gd.closest('#notebook-container');\n",
       "if (notebookContainer) {{\n",
       "    x.observe(notebookContainer, {childList: true});\n",
       "}}\n",
       "\n",
       "// Listen for the clearing of the current output cell\n",
       "var outputEl = gd.closest('.output');\n",
       "if (outputEl) {{\n",
       "    x.observe(outputEl, {childList: true});\n",
       "}}\n",
       "\n",
       "                        })                };                });            </script>        </div>"
      ]
     },
     "metadata": {},
     "output_type": "display_data"
    }
   ],
   "source": [
    "# отобразим на графике\n",
    "fig = make_subplots(rows=2, cols=1, shared_yaxes=False)\n",
    "\n",
    "fig.add_trace(go.Bar(x = area_table_count_sql['area'], \n",
    "                     y = area_table_count_sql['count'],  \n",
    "                     name='SQL'),\n",
    "              1, 1)\n",
    "\n",
    "fig.add_trace(go.Bar(x = area_table_count_Python['area'], \n",
    "                     y = area_table_count_Python['count'],  \n",
    "                     name='Python'),\n",
    "              2, 1)\n",
    "\n",
    "    \n",
    "fig.show()"
   ]
  },
  {
   "cell_type": "code",
   "execution_count": null,
   "id": "f983e7d1",
   "metadata": {},
   "outputs": [],
   "source": [
    "# хотел посмотреть по компаниям, но к сожалению как то так получилось что в основном по 20 вакансий от каждой компании\n",
    "# и график просто ровный, не красивый. Так же пытался покрутить данные по навыкам в этих компаниях, их тоже по 20\n",
    "# не интрестно. Ниже специально оставляю кусок вывода при разбивке, чтобы наглядно показать, что не интерестно"
   ]
  },
  {
   "cell_type": "code",
   "execution_count": 923,
   "id": "5b1b19df",
   "metadata": {},
   "outputs": [],
   "source": [
    "area_skills_table = vac_info_new.copy()\n",
    "area_skills_table = area_skills_table.filter(items = [\"id\", \"employer\",\"key_skills\",\"area\"])\n",
    "area_skills_table = area_skills_table.explode(\"key_skills\")\n",
    "area_skills_table_count = area_skills_table.groupby(['employer', 'key_skills']).count()['id']"
   ]
  },
  {
   "cell_type": "code",
   "execution_count": 925,
   "id": "ddc98a1d",
   "metadata": {},
   "outputs": [
    {
     "data": {
      "text/plain": [
       "employer                     key_skills                 \n",
       "2ГИС                         Docker                         20\n",
       "                             Postman                        20\n",
       "                             REST API                       20\n",
       "                             Swagger                        20\n",
       "                             Unix                           20\n",
       "                                                            ..\n",
       "Центр финансовых технологий  SQL                            20\n",
       "                             Интеграционное тестирование    20\n",
       "                             Теория тестирования            20\n",
       "                             Тестирование                   20\n",
       "                             Тестирование backend           20\n",
       "Name: id, Length: 219, dtype: int64"
      ]
     },
     "execution_count": 925,
     "metadata": {},
     "output_type": "execute_result"
    }
   ],
   "source": [
    "area_skills_table_count"
   ]
  },
  {
   "cell_type": "code",
   "execution_count": null,
   "id": "c70fb911",
   "metadata": {},
   "outputs": [],
   "source": [
    "#оценим возможности работы на удаленке по городам"
   ]
  },
  {
   "cell_type": "code",
   "execution_count": 939,
   "id": "feee1b05",
   "metadata": {},
   "outputs": [],
   "source": [
    "UD_table = vac_info_new.copy()\n",
    "UD_table = UD_table.filter(items = [\"id\", \"employer\",\"schedule\",\"area\"])\n",
    "#UD_table_count = UD_table.groupby(['area','schedule']).count()['id']"
   ]
  },
  {
   "cell_type": "code",
   "execution_count": 941,
   "id": "094fe09c",
   "metadata": {},
   "outputs": [],
   "source": [
    "Office_table_count = UD_table[UD_table['schedule']=='Полный день'].groupby(['area']).count()['id']\n",
    "Office_table_count = pd.DataFrame(Office_table_count).rename(mapper = {'id':'count'}, axis = 1)\n",
    "Office_table_count  = Office_table_count.sort_values(by = 'count',ascending = False).reset_index()"
   ]
  },
  {
   "cell_type": "code",
   "execution_count": 943,
   "id": "465c3117",
   "metadata": {},
   "outputs": [],
   "source": [
    "Gib_table_count = UD_table[UD_table['schedule']=='Гибкий график'].groupby(['area']).count()['id']\n",
    "Gib_table_count = pd.DataFrame(Gib_table_count).rename(mapper = {'id':'count'}, axis = 1)\n",
    "Gib_table_count  = Gib_table_count.sort_values(by = 'count',ascending = False).reset_index()"
   ]
  },
  {
   "cell_type": "code",
   "execution_count": 946,
   "id": "6735ce7c",
   "metadata": {},
   "outputs": [],
   "source": [
    "UD_table_count = UD_table[UD_table['schedule']=='Удаленная работа'].groupby(['area']).count()['id']\n",
    "UD_table_count = pd.DataFrame(UD_table_count ).rename(mapper = {'id':'count'}, axis = 1)\n",
    "UD_table_count = UD_table_count .sort_values(by = 'count',ascending = False).reset_index()"
   ]
  },
  {
   "cell_type": "code",
   "execution_count": 953,
   "id": "bf2d9df7",
   "metadata": {},
   "outputs": [
    {
     "data": {
      "application/vnd.plotly.v1+json": {
       "config": {
        "plotlyServerURL": "https://plot.ly"
       },
       "data": [
        {
         "name": "Полный день",
         "type": "bar",
         "x": [
          "Москва",
          "Нижний Новгород",
          "Санкт-Петербург",
          "Екатеринбург",
          "Новосибирск",
          "Самара",
          "Тула"
         ],
         "xaxis": "x",
         "y": [
          280,
          180,
          180,
          80,
          40,
          40,
          20
         ],
         "yaxis": "y"
        },
        {
         "name": "Гибкий график",
         "type": "bar",
         "x": [
          "Москва",
          "Новосибирск",
          "Тула"
         ],
         "xaxis": "x",
         "y": [
          20,
          20,
          20
         ],
         "yaxis": "y"
        },
        {
         "name": "Удаленная работа",
         "type": "bar",
         "x": [
          "Нижний Новгород",
          "Новосибирск",
          "Санкт-Петербург",
          "Тула",
          "Москва",
          "Самара"
         ],
         "xaxis": "x",
         "y": [
          60,
          60,
          40,
          40,
          20,
          20
         ],
         "yaxis": "y"
        }
       ],
       "layout": {
        "template": {
         "data": {
          "bar": [
           {
            "error_x": {
             "color": "#2a3f5f"
            },
            "error_y": {
             "color": "#2a3f5f"
            },
            "marker": {
             "line": {
              "color": "#E5ECF6",
              "width": 0.5
             },
             "pattern": {
              "fillmode": "overlay",
              "size": 10,
              "solidity": 0.2
             }
            },
            "type": "bar"
           }
          ],
          "barpolar": [
           {
            "marker": {
             "line": {
              "color": "#E5ECF6",
              "width": 0.5
             },
             "pattern": {
              "fillmode": "overlay",
              "size": 10,
              "solidity": 0.2
             }
            },
            "type": "barpolar"
           }
          ],
          "carpet": [
           {
            "aaxis": {
             "endlinecolor": "#2a3f5f",
             "gridcolor": "white",
             "linecolor": "white",
             "minorgridcolor": "white",
             "startlinecolor": "#2a3f5f"
            },
            "baxis": {
             "endlinecolor": "#2a3f5f",
             "gridcolor": "white",
             "linecolor": "white",
             "minorgridcolor": "white",
             "startlinecolor": "#2a3f5f"
            },
            "type": "carpet"
           }
          ],
          "choropleth": [
           {
            "colorbar": {
             "outlinewidth": 0,
             "ticks": ""
            },
            "type": "choropleth"
           }
          ],
          "contour": [
           {
            "colorbar": {
             "outlinewidth": 0,
             "ticks": ""
            },
            "colorscale": [
             [
              0,
              "#0d0887"
             ],
             [
              0.1111111111111111,
              "#46039f"
             ],
             [
              0.2222222222222222,
              "#7201a8"
             ],
             [
              0.3333333333333333,
              "#9c179e"
             ],
             [
              0.4444444444444444,
              "#bd3786"
             ],
             [
              0.5555555555555556,
              "#d8576b"
             ],
             [
              0.6666666666666666,
              "#ed7953"
             ],
             [
              0.7777777777777778,
              "#fb9f3a"
             ],
             [
              0.8888888888888888,
              "#fdca26"
             ],
             [
              1,
              "#f0f921"
             ]
            ],
            "type": "contour"
           }
          ],
          "contourcarpet": [
           {
            "colorbar": {
             "outlinewidth": 0,
             "ticks": ""
            },
            "type": "contourcarpet"
           }
          ],
          "heatmap": [
           {
            "colorbar": {
             "outlinewidth": 0,
             "ticks": ""
            },
            "colorscale": [
             [
              0,
              "#0d0887"
             ],
             [
              0.1111111111111111,
              "#46039f"
             ],
             [
              0.2222222222222222,
              "#7201a8"
             ],
             [
              0.3333333333333333,
              "#9c179e"
             ],
             [
              0.4444444444444444,
              "#bd3786"
             ],
             [
              0.5555555555555556,
              "#d8576b"
             ],
             [
              0.6666666666666666,
              "#ed7953"
             ],
             [
              0.7777777777777778,
              "#fb9f3a"
             ],
             [
              0.8888888888888888,
              "#fdca26"
             ],
             [
              1,
              "#f0f921"
             ]
            ],
            "type": "heatmap"
           }
          ],
          "heatmapgl": [
           {
            "colorbar": {
             "outlinewidth": 0,
             "ticks": ""
            },
            "colorscale": [
             [
              0,
              "#0d0887"
             ],
             [
              0.1111111111111111,
              "#46039f"
             ],
             [
              0.2222222222222222,
              "#7201a8"
             ],
             [
              0.3333333333333333,
              "#9c179e"
             ],
             [
              0.4444444444444444,
              "#bd3786"
             ],
             [
              0.5555555555555556,
              "#d8576b"
             ],
             [
              0.6666666666666666,
              "#ed7953"
             ],
             [
              0.7777777777777778,
              "#fb9f3a"
             ],
             [
              0.8888888888888888,
              "#fdca26"
             ],
             [
              1,
              "#f0f921"
             ]
            ],
            "type": "heatmapgl"
           }
          ],
          "histogram": [
           {
            "marker": {
             "pattern": {
              "fillmode": "overlay",
              "size": 10,
              "solidity": 0.2
             }
            },
            "type": "histogram"
           }
          ],
          "histogram2d": [
           {
            "colorbar": {
             "outlinewidth": 0,
             "ticks": ""
            },
            "colorscale": [
             [
              0,
              "#0d0887"
             ],
             [
              0.1111111111111111,
              "#46039f"
             ],
             [
              0.2222222222222222,
              "#7201a8"
             ],
             [
              0.3333333333333333,
              "#9c179e"
             ],
             [
              0.4444444444444444,
              "#bd3786"
             ],
             [
              0.5555555555555556,
              "#d8576b"
             ],
             [
              0.6666666666666666,
              "#ed7953"
             ],
             [
              0.7777777777777778,
              "#fb9f3a"
             ],
             [
              0.8888888888888888,
              "#fdca26"
             ],
             [
              1,
              "#f0f921"
             ]
            ],
            "type": "histogram2d"
           }
          ],
          "histogram2dcontour": [
           {
            "colorbar": {
             "outlinewidth": 0,
             "ticks": ""
            },
            "colorscale": [
             [
              0,
              "#0d0887"
             ],
             [
              0.1111111111111111,
              "#46039f"
             ],
             [
              0.2222222222222222,
              "#7201a8"
             ],
             [
              0.3333333333333333,
              "#9c179e"
             ],
             [
              0.4444444444444444,
              "#bd3786"
             ],
             [
              0.5555555555555556,
              "#d8576b"
             ],
             [
              0.6666666666666666,
              "#ed7953"
             ],
             [
              0.7777777777777778,
              "#fb9f3a"
             ],
             [
              0.8888888888888888,
              "#fdca26"
             ],
             [
              1,
              "#f0f921"
             ]
            ],
            "type": "histogram2dcontour"
           }
          ],
          "mesh3d": [
           {
            "colorbar": {
             "outlinewidth": 0,
             "ticks": ""
            },
            "type": "mesh3d"
           }
          ],
          "parcoords": [
           {
            "line": {
             "colorbar": {
              "outlinewidth": 0,
              "ticks": ""
             }
            },
            "type": "parcoords"
           }
          ],
          "pie": [
           {
            "automargin": true,
            "type": "pie"
           }
          ],
          "scatter": [
           {
            "fillpattern": {
             "fillmode": "overlay",
             "size": 10,
             "solidity": 0.2
            },
            "type": "scatter"
           }
          ],
          "scatter3d": [
           {
            "line": {
             "colorbar": {
              "outlinewidth": 0,
              "ticks": ""
             }
            },
            "marker": {
             "colorbar": {
              "outlinewidth": 0,
              "ticks": ""
             }
            },
            "type": "scatter3d"
           }
          ],
          "scattercarpet": [
           {
            "marker": {
             "colorbar": {
              "outlinewidth": 0,
              "ticks": ""
             }
            },
            "type": "scattercarpet"
           }
          ],
          "scattergeo": [
           {
            "marker": {
             "colorbar": {
              "outlinewidth": 0,
              "ticks": ""
             }
            },
            "type": "scattergeo"
           }
          ],
          "scattergl": [
           {
            "marker": {
             "colorbar": {
              "outlinewidth": 0,
              "ticks": ""
             }
            },
            "type": "scattergl"
           }
          ],
          "scattermapbox": [
           {
            "marker": {
             "colorbar": {
              "outlinewidth": 0,
              "ticks": ""
             }
            },
            "type": "scattermapbox"
           }
          ],
          "scatterpolar": [
           {
            "marker": {
             "colorbar": {
              "outlinewidth": 0,
              "ticks": ""
             }
            },
            "type": "scatterpolar"
           }
          ],
          "scatterpolargl": [
           {
            "marker": {
             "colorbar": {
              "outlinewidth": 0,
              "ticks": ""
             }
            },
            "type": "scatterpolargl"
           }
          ],
          "scatterternary": [
           {
            "marker": {
             "colorbar": {
              "outlinewidth": 0,
              "ticks": ""
             }
            },
            "type": "scatterternary"
           }
          ],
          "surface": [
           {
            "colorbar": {
             "outlinewidth": 0,
             "ticks": ""
            },
            "colorscale": [
             [
              0,
              "#0d0887"
             ],
             [
              0.1111111111111111,
              "#46039f"
             ],
             [
              0.2222222222222222,
              "#7201a8"
             ],
             [
              0.3333333333333333,
              "#9c179e"
             ],
             [
              0.4444444444444444,
              "#bd3786"
             ],
             [
              0.5555555555555556,
              "#d8576b"
             ],
             [
              0.6666666666666666,
              "#ed7953"
             ],
             [
              0.7777777777777778,
              "#fb9f3a"
             ],
             [
              0.8888888888888888,
              "#fdca26"
             ],
             [
              1,
              "#f0f921"
             ]
            ],
            "type": "surface"
           }
          ],
          "table": [
           {
            "cells": {
             "fill": {
              "color": "#EBF0F8"
             },
             "line": {
              "color": "white"
             }
            },
            "header": {
             "fill": {
              "color": "#C8D4E3"
             },
             "line": {
              "color": "white"
             }
            },
            "type": "table"
           }
          ]
         },
         "layout": {
          "annotationdefaults": {
           "arrowcolor": "#2a3f5f",
           "arrowhead": 0,
           "arrowwidth": 1
          },
          "autotypenumbers": "strict",
          "coloraxis": {
           "colorbar": {
            "outlinewidth": 0,
            "ticks": ""
           }
          },
          "colorscale": {
           "diverging": [
            [
             0,
             "#8e0152"
            ],
            [
             0.1,
             "#c51b7d"
            ],
            [
             0.2,
             "#de77ae"
            ],
            [
             0.3,
             "#f1b6da"
            ],
            [
             0.4,
             "#fde0ef"
            ],
            [
             0.5,
             "#f7f7f7"
            ],
            [
             0.6,
             "#e6f5d0"
            ],
            [
             0.7,
             "#b8e186"
            ],
            [
             0.8,
             "#7fbc41"
            ],
            [
             0.9,
             "#4d9221"
            ],
            [
             1,
             "#276419"
            ]
           ],
           "sequential": [
            [
             0,
             "#0d0887"
            ],
            [
             0.1111111111111111,
             "#46039f"
            ],
            [
             0.2222222222222222,
             "#7201a8"
            ],
            [
             0.3333333333333333,
             "#9c179e"
            ],
            [
             0.4444444444444444,
             "#bd3786"
            ],
            [
             0.5555555555555556,
             "#d8576b"
            ],
            [
             0.6666666666666666,
             "#ed7953"
            ],
            [
             0.7777777777777778,
             "#fb9f3a"
            ],
            [
             0.8888888888888888,
             "#fdca26"
            ],
            [
             1,
             "#f0f921"
            ]
           ],
           "sequentialminus": [
            [
             0,
             "#0d0887"
            ],
            [
             0.1111111111111111,
             "#46039f"
            ],
            [
             0.2222222222222222,
             "#7201a8"
            ],
            [
             0.3333333333333333,
             "#9c179e"
            ],
            [
             0.4444444444444444,
             "#bd3786"
            ],
            [
             0.5555555555555556,
             "#d8576b"
            ],
            [
             0.6666666666666666,
             "#ed7953"
            ],
            [
             0.7777777777777778,
             "#fb9f3a"
            ],
            [
             0.8888888888888888,
             "#fdca26"
            ],
            [
             1,
             "#f0f921"
            ]
           ]
          },
          "colorway": [
           "#636efa",
           "#EF553B",
           "#00cc96",
           "#ab63fa",
           "#FFA15A",
           "#19d3f3",
           "#FF6692",
           "#B6E880",
           "#FF97FF",
           "#FECB52"
          ],
          "font": {
           "color": "#2a3f5f"
          },
          "geo": {
           "bgcolor": "white",
           "lakecolor": "white",
           "landcolor": "#E5ECF6",
           "showlakes": true,
           "showland": true,
           "subunitcolor": "white"
          },
          "hoverlabel": {
           "align": "left"
          },
          "hovermode": "closest",
          "mapbox": {
           "style": "light"
          },
          "paper_bgcolor": "white",
          "plot_bgcolor": "#E5ECF6",
          "polar": {
           "angularaxis": {
            "gridcolor": "white",
            "linecolor": "white",
            "ticks": ""
           },
           "bgcolor": "#E5ECF6",
           "radialaxis": {
            "gridcolor": "white",
            "linecolor": "white",
            "ticks": ""
           }
          },
          "scene": {
           "xaxis": {
            "backgroundcolor": "#E5ECF6",
            "gridcolor": "white",
            "gridwidth": 2,
            "linecolor": "white",
            "showbackground": true,
            "ticks": "",
            "zerolinecolor": "white"
           },
           "yaxis": {
            "backgroundcolor": "#E5ECF6",
            "gridcolor": "white",
            "gridwidth": 2,
            "linecolor": "white",
            "showbackground": true,
            "ticks": "",
            "zerolinecolor": "white"
           },
           "zaxis": {
            "backgroundcolor": "#E5ECF6",
            "gridcolor": "white",
            "gridwidth": 2,
            "linecolor": "white",
            "showbackground": true,
            "ticks": "",
            "zerolinecolor": "white"
           }
          },
          "shapedefaults": {
           "line": {
            "color": "#2a3f5f"
           }
          },
          "ternary": {
           "aaxis": {
            "gridcolor": "white",
            "linecolor": "white",
            "ticks": ""
           },
           "baxis": {
            "gridcolor": "white",
            "linecolor": "white",
            "ticks": ""
           },
           "bgcolor": "#E5ECF6",
           "caxis": {
            "gridcolor": "white",
            "linecolor": "white",
            "ticks": ""
           }
          },
          "title": {
           "x": 0.05
          },
          "xaxis": {
           "automargin": true,
           "gridcolor": "white",
           "linecolor": "white",
           "ticks": "",
           "title": {
            "standoff": 15
           },
           "zerolinecolor": "white",
           "zerolinewidth": 2
          },
          "yaxis": {
           "automargin": true,
           "gridcolor": "white",
           "linecolor": "white",
           "ticks": "",
           "title": {
            "standoff": 15
           },
           "zerolinecolor": "white",
           "zerolinewidth": 2
          }
         }
        },
        "xaxis": {
         "anchor": "y",
         "domain": [
          0,
          1
         ]
        },
        "yaxis": {
         "anchor": "x",
         "domain": [
          0,
          1
         ]
        }
       }
      },
      "text/html": [
       "<div>                            <div id=\"9ed81dd5-132d-4d6c-a440-5fe8b8969daf\" class=\"plotly-graph-div\" style=\"height:525px; width:100%;\"></div>            <script type=\"text/javascript\">                require([\"plotly\"], function(Plotly) {                    window.PLOTLYENV=window.PLOTLYENV || {};                                    if (document.getElementById(\"9ed81dd5-132d-4d6c-a440-5fe8b8969daf\")) {                    Plotly.newPlot(                        \"9ed81dd5-132d-4d6c-a440-5fe8b8969daf\",                        [{\"name\":\"\\u041f\\u043e\\u043b\\u043d\\u044b\\u0439 \\u0434\\u0435\\u043d\\u044c\",\"x\":[\"\\u041c\\u043e\\u0441\\u043a\\u0432\\u0430\",\"\\u041d\\u0438\\u0436\\u043d\\u0438\\u0439 \\u041d\\u043e\\u0432\\u0433\\u043e\\u0440\\u043e\\u0434\",\"\\u0421\\u0430\\u043d\\u043a\\u0442-\\u041f\\u0435\\u0442\\u0435\\u0440\\u0431\\u0443\\u0440\\u0433\",\"\\u0415\\u043a\\u0430\\u0442\\u0435\\u0440\\u0438\\u043d\\u0431\\u0443\\u0440\\u0433\",\"\\u041d\\u043e\\u0432\\u043e\\u0441\\u0438\\u0431\\u0438\\u0440\\u0441\\u043a\",\"\\u0421\\u0430\\u043c\\u0430\\u0440\\u0430\",\"\\u0422\\u0443\\u043b\\u0430\"],\"y\":[280,180,180,80,40,40,20],\"type\":\"bar\",\"xaxis\":\"x\",\"yaxis\":\"y\"},{\"name\":\"\\u0413\\u0438\\u0431\\u043a\\u0438\\u0439 \\u0433\\u0440\\u0430\\u0444\\u0438\\u043a\",\"x\":[\"\\u041c\\u043e\\u0441\\u043a\\u0432\\u0430\",\"\\u041d\\u043e\\u0432\\u043e\\u0441\\u0438\\u0431\\u0438\\u0440\\u0441\\u043a\",\"\\u0422\\u0443\\u043b\\u0430\"],\"y\":[20,20,20],\"type\":\"bar\",\"xaxis\":\"x\",\"yaxis\":\"y\"},{\"name\":\"\\u0423\\u0434\\u0430\\u043b\\u0435\\u043d\\u043d\\u0430\\u044f \\u0440\\u0430\\u0431\\u043e\\u0442\\u0430\",\"x\":[\"\\u041d\\u0438\\u0436\\u043d\\u0438\\u0439 \\u041d\\u043e\\u0432\\u0433\\u043e\\u0440\\u043e\\u0434\",\"\\u041d\\u043e\\u0432\\u043e\\u0441\\u0438\\u0431\\u0438\\u0440\\u0441\\u043a\",\"\\u0421\\u0430\\u043d\\u043a\\u0442-\\u041f\\u0435\\u0442\\u0435\\u0440\\u0431\\u0443\\u0440\\u0433\",\"\\u0422\\u0443\\u043b\\u0430\",\"\\u041c\\u043e\\u0441\\u043a\\u0432\\u0430\",\"\\u0421\\u0430\\u043c\\u0430\\u0440\\u0430\"],\"y\":[60,60,40,40,20,20],\"type\":\"bar\",\"xaxis\":\"x\",\"yaxis\":\"y\"}],                        {\"template\":{\"data\":{\"histogram2dcontour\":[{\"type\":\"histogram2dcontour\",\"colorbar\":{\"outlinewidth\":0,\"ticks\":\"\"},\"colorscale\":[[0.0,\"#0d0887\"],[0.1111111111111111,\"#46039f\"],[0.2222222222222222,\"#7201a8\"],[0.3333333333333333,\"#9c179e\"],[0.4444444444444444,\"#bd3786\"],[0.5555555555555556,\"#d8576b\"],[0.6666666666666666,\"#ed7953\"],[0.7777777777777778,\"#fb9f3a\"],[0.8888888888888888,\"#fdca26\"],[1.0,\"#f0f921\"]]}],\"choropleth\":[{\"type\":\"choropleth\",\"colorbar\":{\"outlinewidth\":0,\"ticks\":\"\"}}],\"histogram2d\":[{\"type\":\"histogram2d\",\"colorbar\":{\"outlinewidth\":0,\"ticks\":\"\"},\"colorscale\":[[0.0,\"#0d0887\"],[0.1111111111111111,\"#46039f\"],[0.2222222222222222,\"#7201a8\"],[0.3333333333333333,\"#9c179e\"],[0.4444444444444444,\"#bd3786\"],[0.5555555555555556,\"#d8576b\"],[0.6666666666666666,\"#ed7953\"],[0.7777777777777778,\"#fb9f3a\"],[0.8888888888888888,\"#fdca26\"],[1.0,\"#f0f921\"]]}],\"heatmap\":[{\"type\":\"heatmap\",\"colorbar\":{\"outlinewidth\":0,\"ticks\":\"\"},\"colorscale\":[[0.0,\"#0d0887\"],[0.1111111111111111,\"#46039f\"],[0.2222222222222222,\"#7201a8\"],[0.3333333333333333,\"#9c179e\"],[0.4444444444444444,\"#bd3786\"],[0.5555555555555556,\"#d8576b\"],[0.6666666666666666,\"#ed7953\"],[0.7777777777777778,\"#fb9f3a\"],[0.8888888888888888,\"#fdca26\"],[1.0,\"#f0f921\"]]}],\"heatmapgl\":[{\"type\":\"heatmapgl\",\"colorbar\":{\"outlinewidth\":0,\"ticks\":\"\"},\"colorscale\":[[0.0,\"#0d0887\"],[0.1111111111111111,\"#46039f\"],[0.2222222222222222,\"#7201a8\"],[0.3333333333333333,\"#9c179e\"],[0.4444444444444444,\"#bd3786\"],[0.5555555555555556,\"#d8576b\"],[0.6666666666666666,\"#ed7953\"],[0.7777777777777778,\"#fb9f3a\"],[0.8888888888888888,\"#fdca26\"],[1.0,\"#f0f921\"]]}],\"contourcarpet\":[{\"type\":\"contourcarpet\",\"colorbar\":{\"outlinewidth\":0,\"ticks\":\"\"}}],\"contour\":[{\"type\":\"contour\",\"colorbar\":{\"outlinewidth\":0,\"ticks\":\"\"},\"colorscale\":[[0.0,\"#0d0887\"],[0.1111111111111111,\"#46039f\"],[0.2222222222222222,\"#7201a8\"],[0.3333333333333333,\"#9c179e\"],[0.4444444444444444,\"#bd3786\"],[0.5555555555555556,\"#d8576b\"],[0.6666666666666666,\"#ed7953\"],[0.7777777777777778,\"#fb9f3a\"],[0.8888888888888888,\"#fdca26\"],[1.0,\"#f0f921\"]]}],\"surface\":[{\"type\":\"surface\",\"colorbar\":{\"outlinewidth\":0,\"ticks\":\"\"},\"colorscale\":[[0.0,\"#0d0887\"],[0.1111111111111111,\"#46039f\"],[0.2222222222222222,\"#7201a8\"],[0.3333333333333333,\"#9c179e\"],[0.4444444444444444,\"#bd3786\"],[0.5555555555555556,\"#d8576b\"],[0.6666666666666666,\"#ed7953\"],[0.7777777777777778,\"#fb9f3a\"],[0.8888888888888888,\"#fdca26\"],[1.0,\"#f0f921\"]]}],\"mesh3d\":[{\"type\":\"mesh3d\",\"colorbar\":{\"outlinewidth\":0,\"ticks\":\"\"}}],\"scatter\":[{\"fillpattern\":{\"fillmode\":\"overlay\",\"size\":10,\"solidity\":0.2},\"type\":\"scatter\"}],\"parcoords\":[{\"type\":\"parcoords\",\"line\":{\"colorbar\":{\"outlinewidth\":0,\"ticks\":\"\"}}}],\"scatterpolargl\":[{\"type\":\"scatterpolargl\",\"marker\":{\"colorbar\":{\"outlinewidth\":0,\"ticks\":\"\"}}}],\"bar\":[{\"error_x\":{\"color\":\"#2a3f5f\"},\"error_y\":{\"color\":\"#2a3f5f\"},\"marker\":{\"line\":{\"color\":\"#E5ECF6\",\"width\":0.5},\"pattern\":{\"fillmode\":\"overlay\",\"size\":10,\"solidity\":0.2}},\"type\":\"bar\"}],\"scattergeo\":[{\"type\":\"scattergeo\",\"marker\":{\"colorbar\":{\"outlinewidth\":0,\"ticks\":\"\"}}}],\"scatterpolar\":[{\"type\":\"scatterpolar\",\"marker\":{\"colorbar\":{\"outlinewidth\":0,\"ticks\":\"\"}}}],\"histogram\":[{\"marker\":{\"pattern\":{\"fillmode\":\"overlay\",\"size\":10,\"solidity\":0.2}},\"type\":\"histogram\"}],\"scattergl\":[{\"type\":\"scattergl\",\"marker\":{\"colorbar\":{\"outlinewidth\":0,\"ticks\":\"\"}}}],\"scatter3d\":[{\"type\":\"scatter3d\",\"line\":{\"colorbar\":{\"outlinewidth\":0,\"ticks\":\"\"}},\"marker\":{\"colorbar\":{\"outlinewidth\":0,\"ticks\":\"\"}}}],\"scattermapbox\":[{\"type\":\"scattermapbox\",\"marker\":{\"colorbar\":{\"outlinewidth\":0,\"ticks\":\"\"}}}],\"scatterternary\":[{\"type\":\"scatterternary\",\"marker\":{\"colorbar\":{\"outlinewidth\":0,\"ticks\":\"\"}}}],\"scattercarpet\":[{\"type\":\"scattercarpet\",\"marker\":{\"colorbar\":{\"outlinewidth\":0,\"ticks\":\"\"}}}],\"carpet\":[{\"aaxis\":{\"endlinecolor\":\"#2a3f5f\",\"gridcolor\":\"white\",\"linecolor\":\"white\",\"minorgridcolor\":\"white\",\"startlinecolor\":\"#2a3f5f\"},\"baxis\":{\"endlinecolor\":\"#2a3f5f\",\"gridcolor\":\"white\",\"linecolor\":\"white\",\"minorgridcolor\":\"white\",\"startlinecolor\":\"#2a3f5f\"},\"type\":\"carpet\"}],\"table\":[{\"cells\":{\"fill\":{\"color\":\"#EBF0F8\"},\"line\":{\"color\":\"white\"}},\"header\":{\"fill\":{\"color\":\"#C8D4E3\"},\"line\":{\"color\":\"white\"}},\"type\":\"table\"}],\"barpolar\":[{\"marker\":{\"line\":{\"color\":\"#E5ECF6\",\"width\":0.5},\"pattern\":{\"fillmode\":\"overlay\",\"size\":10,\"solidity\":0.2}},\"type\":\"barpolar\"}],\"pie\":[{\"automargin\":true,\"type\":\"pie\"}]},\"layout\":{\"autotypenumbers\":\"strict\",\"colorway\":[\"#636efa\",\"#EF553B\",\"#00cc96\",\"#ab63fa\",\"#FFA15A\",\"#19d3f3\",\"#FF6692\",\"#B6E880\",\"#FF97FF\",\"#FECB52\"],\"font\":{\"color\":\"#2a3f5f\"},\"hovermode\":\"closest\",\"hoverlabel\":{\"align\":\"left\"},\"paper_bgcolor\":\"white\",\"plot_bgcolor\":\"#E5ECF6\",\"polar\":{\"bgcolor\":\"#E5ECF6\",\"angularaxis\":{\"gridcolor\":\"white\",\"linecolor\":\"white\",\"ticks\":\"\"},\"radialaxis\":{\"gridcolor\":\"white\",\"linecolor\":\"white\",\"ticks\":\"\"}},\"ternary\":{\"bgcolor\":\"#E5ECF6\",\"aaxis\":{\"gridcolor\":\"white\",\"linecolor\":\"white\",\"ticks\":\"\"},\"baxis\":{\"gridcolor\":\"white\",\"linecolor\":\"white\",\"ticks\":\"\"},\"caxis\":{\"gridcolor\":\"white\",\"linecolor\":\"white\",\"ticks\":\"\"}},\"coloraxis\":{\"colorbar\":{\"outlinewidth\":0,\"ticks\":\"\"}},\"colorscale\":{\"sequential\":[[0.0,\"#0d0887\"],[0.1111111111111111,\"#46039f\"],[0.2222222222222222,\"#7201a8\"],[0.3333333333333333,\"#9c179e\"],[0.4444444444444444,\"#bd3786\"],[0.5555555555555556,\"#d8576b\"],[0.6666666666666666,\"#ed7953\"],[0.7777777777777778,\"#fb9f3a\"],[0.8888888888888888,\"#fdca26\"],[1.0,\"#f0f921\"]],\"sequentialminus\":[[0.0,\"#0d0887\"],[0.1111111111111111,\"#46039f\"],[0.2222222222222222,\"#7201a8\"],[0.3333333333333333,\"#9c179e\"],[0.4444444444444444,\"#bd3786\"],[0.5555555555555556,\"#d8576b\"],[0.6666666666666666,\"#ed7953\"],[0.7777777777777778,\"#fb9f3a\"],[0.8888888888888888,\"#fdca26\"],[1.0,\"#f0f921\"]],\"diverging\":[[0,\"#8e0152\"],[0.1,\"#c51b7d\"],[0.2,\"#de77ae\"],[0.3,\"#f1b6da\"],[0.4,\"#fde0ef\"],[0.5,\"#f7f7f7\"],[0.6,\"#e6f5d0\"],[0.7,\"#b8e186\"],[0.8,\"#7fbc41\"],[0.9,\"#4d9221\"],[1,\"#276419\"]]},\"xaxis\":{\"gridcolor\":\"white\",\"linecolor\":\"white\",\"ticks\":\"\",\"title\":{\"standoff\":15},\"zerolinecolor\":\"white\",\"automargin\":true,\"zerolinewidth\":2},\"yaxis\":{\"gridcolor\":\"white\",\"linecolor\":\"white\",\"ticks\":\"\",\"title\":{\"standoff\":15},\"zerolinecolor\":\"white\",\"automargin\":true,\"zerolinewidth\":2},\"scene\":{\"xaxis\":{\"backgroundcolor\":\"#E5ECF6\",\"gridcolor\":\"white\",\"linecolor\":\"white\",\"showbackground\":true,\"ticks\":\"\",\"zerolinecolor\":\"white\",\"gridwidth\":2},\"yaxis\":{\"backgroundcolor\":\"#E5ECF6\",\"gridcolor\":\"white\",\"linecolor\":\"white\",\"showbackground\":true,\"ticks\":\"\",\"zerolinecolor\":\"white\",\"gridwidth\":2},\"zaxis\":{\"backgroundcolor\":\"#E5ECF6\",\"gridcolor\":\"white\",\"linecolor\":\"white\",\"showbackground\":true,\"ticks\":\"\",\"zerolinecolor\":\"white\",\"gridwidth\":2}},\"shapedefaults\":{\"line\":{\"color\":\"#2a3f5f\"}},\"annotationdefaults\":{\"arrowcolor\":\"#2a3f5f\",\"arrowhead\":0,\"arrowwidth\":1},\"geo\":{\"bgcolor\":\"white\",\"landcolor\":\"#E5ECF6\",\"subunitcolor\":\"white\",\"showland\":true,\"showlakes\":true,\"lakecolor\":\"white\"},\"title\":{\"x\":0.05},\"mapbox\":{\"style\":\"light\"}}},\"xaxis\":{\"anchor\":\"y\",\"domain\":[0.0,1.0]},\"yaxis\":{\"anchor\":\"x\",\"domain\":[0.0,1.0]}},                        {\"responsive\": true}                    ).then(function(){\n",
       "                            \n",
       "var gd = document.getElementById('9ed81dd5-132d-4d6c-a440-5fe8b8969daf');\n",
       "var x = new MutationObserver(function (mutations, observer) {{\n",
       "        var display = window.getComputedStyle(gd).display;\n",
       "        if (!display || display === 'none') {{\n",
       "            console.log([gd, 'removed!']);\n",
       "            Plotly.purge(gd);\n",
       "            observer.disconnect();\n",
       "        }}\n",
       "}});\n",
       "\n",
       "// Listen for the removal of the full notebook cells\n",
       "var notebookContainer = gd.closest('#notebook-container');\n",
       "if (notebookContainer) {{\n",
       "    x.observe(notebookContainer, {childList: true});\n",
       "}}\n",
       "\n",
       "// Listen for the clearing of the current output cell\n",
       "var outputEl = gd.closest('.output');\n",
       "if (outputEl) {{\n",
       "    x.observe(outputEl, {childList: true});\n",
       "}}\n",
       "\n",
       "                        })                };                });            </script>        </div>"
      ]
     },
     "metadata": {},
     "output_type": "display_data"
    }
   ],
   "source": [
    "# отобразим на графике\n",
    "fig = make_subplots(rows=1, cols=1, shared_yaxes=False)\n",
    "\n",
    "fig.add_trace(go.Bar(x = Office_table_count['area'], \n",
    "                     y = Office_table_count['count'],  \n",
    "                     name='Полный день'),\n",
    "              1, 1)\n",
    "\n",
    "fig.add_trace(go.Bar(x = Gib_table_count['area'], \n",
    "                     y = Gib_table_count['count'],  \n",
    "                     name='Гибкий график'),\n",
    "              1, 1)\n",
    "\n",
    "fig.add_trace(go.Bar(x = UD_table_count['area'], \n",
    "                     y = UD_table_count['count'],  \n",
    "                     name='Удаленная работа'),\n",
    "              1, 1)\n",
    "    \n",
    "fig.show()"
   ]
  },
  {
   "cell_type": "code",
   "execution_count": null,
   "id": "e4a96449",
   "metadata": {},
   "outputs": [],
   "source": []
  },
  {
   "cell_type": "code",
   "execution_count": null,
   "id": "901f7a82",
   "metadata": {},
   "outputs": [],
   "source": [
    "#Алексей, посмотрите пожалуйста, достаточно таких исследований ?\n",
    "# выводы с графиков будут отображаться на слайдах\n",
    "# надо ли прикручивать ML или этого будет досточно ?"
   ]
  },
  {
   "cell_type": "code",
   "execution_count": null,
   "id": "cfd3015c",
   "metadata": {},
   "outputs": [],
   "source": [
    "#все что ниже это всякое разное из разных моих домашних работ, наработки по ML и тд. Как все закончим, подчистим"
   ]
  },
  {
   "cell_type": "code",
   "execution_count": null,
   "id": "6a4b1e95",
   "metadata": {},
   "outputs": [],
   "source": []
  },
  {
   "cell_type": "code",
   "execution_count": null,
   "id": "26eadfdd",
   "metadata": {},
   "outputs": [],
   "source": []
  },
  {
   "cell_type": "code",
   "execution_count": null,
   "id": "c9fc52b5",
   "metadata": {},
   "outputs": [],
   "source": []
  },
  {
   "cell_type": "code",
   "execution_count": null,
   "id": "f9ebad2b",
   "metadata": {},
   "outputs": [],
   "source": []
  },
  {
   "cell_type": "code",
   "execution_count": null,
   "id": "e47f94bf",
   "metadata": {},
   "outputs": [],
   "source": []
  },
  {
   "cell_type": "code",
   "execution_count": null,
   "id": "1f4bd0f3",
   "metadata": {},
   "outputs": [],
   "source": []
  },
  {
   "cell_type": "code",
   "execution_count": null,
   "id": "4dec20c7",
   "metadata": {},
   "outputs": [],
   "source": []
  },
  {
   "cell_type": "code",
   "execution_count": null,
   "id": "f66723eb",
   "metadata": {},
   "outputs": [],
   "source": []
  },
  {
   "cell_type": "code",
   "execution_count": null,
   "id": "b9147620",
   "metadata": {},
   "outputs": [],
   "source": []
  },
  {
   "cell_type": "code",
   "execution_count": null,
   "id": "908c424f",
   "metadata": {},
   "outputs": [],
   "source": []
  },
  {
   "cell_type": "code",
   "execution_count": null,
   "id": "ad19ff11",
   "metadata": {},
   "outputs": [],
   "source": []
  },
  {
   "cell_type": "code",
   "execution_count": null,
   "id": "2b1777e8",
   "metadata": {},
   "outputs": [],
   "source": []
  },
  {
   "cell_type": "code",
   "execution_count": 687,
   "id": "bea009e2",
   "metadata": {},
   "outputs": [],
   "source": [
    "#Перебираем все существующие требования к навыкам в поле key_skills и записываем их в лист\n",
    "skill = []\n",
    "for i in range(len(vac_info_new)): \n",
    "    if (vac_info_new['key_skills'][i]==None) != True: #смотрим только существующие значения\n",
    "        x=vac_info_new['key_skills'][i]\n",
    "        for j in range(len(x)): #и так как это словарь вытаскиваем значения ключа name\n",
    "            skill.append(x[j])\n",
    "#skill"
   ]
  },
  {
   "cell_type": "code",
   "execution_count": 689,
   "id": "6db9031b",
   "metadata": {},
   "outputs": [],
   "source": [
    "# функцию нашел в инернетах, позволяет сравнением создать иной словарь\n",
    "def analysis(your_list, your_dict):\n",
    "    for i in your_list:\n",
    "        if i in your_dict:\n",
    "            your_dict[i] += 1\n",
    "        else:\n",
    "            your_dict[i] = 1"
   ]
  },
  {
   "cell_type": "code",
   "execution_count": 698,
   "id": "f0f0a345",
   "metadata": {},
   "outputs": [],
   "source": [
    "#создаем переменную под новый словарь и применяем функцию\n",
    "dct_skill = {}\n",
    "analysis(skill, dct_skill)\n",
    "#dct_skill\n",
    "#Сортируем по значениям а не ключам, и разворачиваем чтобы самое большое количество получить первым\n",
    "dct_skill_sort = dict(sorted(dct_skill.items(), key=itemgetter(1), reverse=True))\n",
    "#dct_skill_sort"
   ]
  },
  {
   "cell_type": "code",
   "execution_count": 699,
   "id": "4045cf81",
   "metadata": {},
   "outputs": [],
   "source": []
  },
  {
   "cell_type": "code",
   "execution_count": 701,
   "id": "1d17b4cf",
   "metadata": {},
   "outputs": [
    {
     "name": "stdout",
     "output_type": "stream",
     "text": [
      "[0]\n"
     ]
    }
   ],
   "source": [
    "#находим индексы максимальных значений, вдруг оно не одно \n",
    "index_for_max = []\n",
    "for i in range(len(dct_skill_sort.values())):\n",
    "    if list(dct_skill_sort.values())[i] == max(list(dct_skill_sort.values())):\n",
    "        index_for_max.append(i)\n",
    "    \n",
    "#print(index_for_max)\n",
    "    "
   ]
  },
  {
   "cell_type": "code",
   "execution_count": 705,
   "id": "5bd6b099",
   "metadata": {},
   "outputs": [
    {
     "name": "stdout",
     "output_type": "stream",
     "text": [
      "Самые востребованные навыки: \n",
      "SQL\n"
     ]
    }
   ],
   "source": [
    "# Выводим ключи максимальных значений\n",
    "print('Самые востребованные навыки: ')\n",
    "for i in index_for_max:\n",
    "    print(list(dct_skill_sort.keys())[i])"
   ]
  },
  {
   "cell_type": "code",
   "execution_count": null,
   "id": "2720c959",
   "metadata": {},
   "outputs": [],
   "source": []
  },
  {
   "cell_type": "code",
   "execution_count": null,
   "id": "26b2a493",
   "metadata": {},
   "outputs": [],
   "source": []
  },
  {
   "cell_type": "code",
   "execution_count": null,
   "id": "d91c6dc5",
   "metadata": {},
   "outputs": [],
   "source": []
  },
  {
   "cell_type": "code",
   "execution_count": null,
   "id": "8d6f3ca4",
   "metadata": {},
   "outputs": [],
   "source": []
  },
  {
   "cell_type": "code",
   "execution_count": null,
   "id": "bb7a1498",
   "metadata": {},
   "outputs": [],
   "source": []
  },
  {
   "cell_type": "code",
   "execution_count": 714,
   "id": "19d92ffd",
   "metadata": {},
   "outputs": [
    {
     "ename": "ValueError",
     "evalue": "Plotly Express cannot process wide-form data with columns of different type.",
     "output_type": "error",
     "traceback": [
      "\u001b[1;31m---------------------------------------------------------------------------\u001b[0m",
      "\u001b[1;31mValueError\u001b[0m                                Traceback (most recent call last)",
      "\u001b[1;32m~\\AppData\\Local\\Temp\\ipykernel_2116\\3495476317.py\u001b[0m in \u001b[0;36m<module>\u001b[1;34m\u001b[0m\n\u001b[1;32m----> 1\u001b[1;33m \u001b[0mfig\u001b[0m \u001b[1;33m=\u001b[0m \u001b[0mpx\u001b[0m\u001b[1;33m.\u001b[0m\u001b[0mbar\u001b[0m\u001b[1;33m(\u001b[0m\u001b[0mskills_table_count\u001b[0m\u001b[1;33m.\u001b[0m\u001b[0mhead\u001b[0m\u001b[1;33m(\u001b[0m\u001b[1;36m20\u001b[0m\u001b[1;33m)\u001b[0m\u001b[1;33m)\u001b[0m\u001b[1;33m\u001b[0m\u001b[1;33m\u001b[0m\u001b[0m\n\u001b[0m\u001b[0;32m      2\u001b[0m \u001b[1;31m#fig.update_layout(showlegend=False)\u001b[0m\u001b[1;33m\u001b[0m\u001b[1;33m\u001b[0m\u001b[0m\n\u001b[0;32m      3\u001b[0m \u001b[0mfig\u001b[0m\u001b[1;33m.\u001b[0m\u001b[0mshow\u001b[0m\u001b[1;33m(\u001b[0m\u001b[1;33m)\u001b[0m\u001b[1;33m\u001b[0m\u001b[1;33m\u001b[0m\u001b[0m\n",
      "\u001b[1;32mC:\\ProgramData\\Anaconda3\\lib\\site-packages\\plotly\\express\\_chart_types.py\u001b[0m in \u001b[0;36mbar\u001b[1;34m(data_frame, x, y, color, pattern_shape, facet_row, facet_col, facet_col_wrap, facet_row_spacing, facet_col_spacing, hover_name, hover_data, custom_data, text, base, error_x, error_x_minus, error_y, error_y_minus, animation_frame, animation_group, category_orders, labels, color_discrete_sequence, color_discrete_map, color_continuous_scale, pattern_shape_sequence, pattern_shape_map, range_color, color_continuous_midpoint, opacity, orientation, barmode, log_x, log_y, range_x, range_y, text_auto, title, template, width, height)\u001b[0m\n\u001b[0;32m    371\u001b[0m     \u001b[0mmark\u001b[0m\u001b[1;33m.\u001b[0m\u001b[1;33m\u001b[0m\u001b[1;33m\u001b[0m\u001b[0m\n\u001b[0;32m    372\u001b[0m     \"\"\"\n\u001b[1;32m--> 373\u001b[1;33m     return make_figure(\n\u001b[0m\u001b[0;32m    374\u001b[0m         \u001b[0margs\u001b[0m\u001b[1;33m=\u001b[0m\u001b[0mlocals\u001b[0m\u001b[1;33m(\u001b[0m\u001b[1;33m)\u001b[0m\u001b[1;33m,\u001b[0m\u001b[1;33m\u001b[0m\u001b[1;33m\u001b[0m\u001b[0m\n\u001b[0;32m    375\u001b[0m         \u001b[0mconstructor\u001b[0m\u001b[1;33m=\u001b[0m\u001b[0mgo\u001b[0m\u001b[1;33m.\u001b[0m\u001b[0mBar\u001b[0m\u001b[1;33m,\u001b[0m\u001b[1;33m\u001b[0m\u001b[1;33m\u001b[0m\u001b[0m\n",
      "\u001b[1;32mC:\\ProgramData\\Anaconda3\\lib\\site-packages\\plotly\\express\\_core.py\u001b[0m in \u001b[0;36mmake_figure\u001b[1;34m(args, constructor, trace_patch, layout_patch)\u001b[0m\n\u001b[0;32m   1988\u001b[0m     \u001b[0mapply_default_cascade\u001b[0m\u001b[1;33m(\u001b[0m\u001b[0margs\u001b[0m\u001b[1;33m)\u001b[0m\u001b[1;33m\u001b[0m\u001b[1;33m\u001b[0m\u001b[0m\n\u001b[0;32m   1989\u001b[0m \u001b[1;33m\u001b[0m\u001b[0m\n\u001b[1;32m-> 1990\u001b[1;33m     \u001b[0margs\u001b[0m \u001b[1;33m=\u001b[0m \u001b[0mbuild_dataframe\u001b[0m\u001b[1;33m(\u001b[0m\u001b[0margs\u001b[0m\u001b[1;33m,\u001b[0m \u001b[0mconstructor\u001b[0m\u001b[1;33m)\u001b[0m\u001b[1;33m\u001b[0m\u001b[1;33m\u001b[0m\u001b[0m\n\u001b[0m\u001b[0;32m   1991\u001b[0m     \u001b[1;32mif\u001b[0m \u001b[0mconstructor\u001b[0m \u001b[1;32min\u001b[0m \u001b[1;33m[\u001b[0m\u001b[0mgo\u001b[0m\u001b[1;33m.\u001b[0m\u001b[0mTreemap\u001b[0m\u001b[1;33m,\u001b[0m \u001b[0mgo\u001b[0m\u001b[1;33m.\u001b[0m\u001b[0mSunburst\u001b[0m\u001b[1;33m,\u001b[0m \u001b[0mgo\u001b[0m\u001b[1;33m.\u001b[0m\u001b[0mIcicle\u001b[0m\u001b[1;33m]\u001b[0m \u001b[1;32mand\u001b[0m \u001b[0margs\u001b[0m\u001b[1;33m[\u001b[0m\u001b[1;34m\"path\"\u001b[0m\u001b[1;33m]\u001b[0m \u001b[1;32mis\u001b[0m \u001b[1;32mnot\u001b[0m \u001b[1;32mNone\u001b[0m\u001b[1;33m:\u001b[0m\u001b[1;33m\u001b[0m\u001b[1;33m\u001b[0m\u001b[0m\n\u001b[0;32m   1992\u001b[0m         \u001b[0margs\u001b[0m \u001b[1;33m=\u001b[0m \u001b[0mprocess_dataframe_hierarchy\u001b[0m\u001b[1;33m(\u001b[0m\u001b[0margs\u001b[0m\u001b[1;33m)\u001b[0m\u001b[1;33m\u001b[0m\u001b[1;33m\u001b[0m\u001b[0m\n",
      "\u001b[1;32mC:\\ProgramData\\Anaconda3\\lib\\site-packages\\plotly\\express\\_core.py\u001b[0m in \u001b[0;36mbuild_dataframe\u001b[1;34m(args, constructor)\u001b[0m\n\u001b[0;32m   1450\u001b[0m                 \u001b[0mdtype\u001b[0m \u001b[1;33m=\u001b[0m \u001b[0mv_dtype\u001b[0m\u001b[1;33m\u001b[0m\u001b[1;33m\u001b[0m\u001b[0m\n\u001b[0;32m   1451\u001b[0m             \u001b[1;32melif\u001b[0m \u001b[0mdtype\u001b[0m \u001b[1;33m!=\u001b[0m \u001b[0mv_dtype\u001b[0m\u001b[1;33m:\u001b[0m\u001b[1;33m\u001b[0m\u001b[1;33m\u001b[0m\u001b[0m\n\u001b[1;32m-> 1452\u001b[1;33m                 raise ValueError(\n\u001b[0m\u001b[0;32m   1453\u001b[0m                     \u001b[1;34m\"Plotly Express cannot process wide-form data with columns of different type.\"\u001b[0m\u001b[1;33m\u001b[0m\u001b[1;33m\u001b[0m\u001b[0m\n\u001b[0;32m   1454\u001b[0m                 )\n",
      "\u001b[1;31mValueError\u001b[0m: Plotly Express cannot process wide-form data with columns of different type."
     ]
    }
   ],
   "source": [
    "fig = px.bar(skills_table_count.head(20))\n",
    "#fig.update_layout(showlegend=False)\n",
    "fig.show()"
   ]
  },
  {
   "cell_type": "code",
   "execution_count": 712,
   "id": "69de02e8",
   "metadata": {},
   "outputs": [
    {
     "data": {
      "application/vnd.plotly.v1+json": {
       "config": {
        "plotlyServerURL": "https://plot.ly"
       },
       "data": [
        {
         "labels": [
          "MySQL",
          "SQL",
          "Telegram",
          "Тестирование",
          "QA",
          "Проведение тестирований",
          "PHP",
          "HTML5",
          "CSS3",
          "JavaScript",
          "Python",
          "Анализ данных",
          "Базы данных",
          "Системный анализ",
          "DWH",
          "TypeScript",
          "ReactJS",
          "React/Redux",
          "Тестирование десктопных приложений",
          "Тестирование web-приложений"
         ],
         "type": "pie",
         "values": [
          40,
          220,
          20,
          160,
          80,
          60,
          20,
          40,
          60,
          200,
          100,
          20,
          20,
          20,
          20,
          80,
          20,
          40,
          20,
          20
         ]
        }
       ],
       "layout": {
        "template": {
         "data": {
          "bar": [
           {
            "error_x": {
             "color": "#2a3f5f"
            },
            "error_y": {
             "color": "#2a3f5f"
            },
            "marker": {
             "line": {
              "color": "#E5ECF6",
              "width": 0.5
             },
             "pattern": {
              "fillmode": "overlay",
              "size": 10,
              "solidity": 0.2
             }
            },
            "type": "bar"
           }
          ],
          "barpolar": [
           {
            "marker": {
             "line": {
              "color": "#E5ECF6",
              "width": 0.5
             },
             "pattern": {
              "fillmode": "overlay",
              "size": 10,
              "solidity": 0.2
             }
            },
            "type": "barpolar"
           }
          ],
          "carpet": [
           {
            "aaxis": {
             "endlinecolor": "#2a3f5f",
             "gridcolor": "white",
             "linecolor": "white",
             "minorgridcolor": "white",
             "startlinecolor": "#2a3f5f"
            },
            "baxis": {
             "endlinecolor": "#2a3f5f",
             "gridcolor": "white",
             "linecolor": "white",
             "minorgridcolor": "white",
             "startlinecolor": "#2a3f5f"
            },
            "type": "carpet"
           }
          ],
          "choropleth": [
           {
            "colorbar": {
             "outlinewidth": 0,
             "ticks": ""
            },
            "type": "choropleth"
           }
          ],
          "contour": [
           {
            "colorbar": {
             "outlinewidth": 0,
             "ticks": ""
            },
            "colorscale": [
             [
              0,
              "#0d0887"
             ],
             [
              0.1111111111111111,
              "#46039f"
             ],
             [
              0.2222222222222222,
              "#7201a8"
             ],
             [
              0.3333333333333333,
              "#9c179e"
             ],
             [
              0.4444444444444444,
              "#bd3786"
             ],
             [
              0.5555555555555556,
              "#d8576b"
             ],
             [
              0.6666666666666666,
              "#ed7953"
             ],
             [
              0.7777777777777778,
              "#fb9f3a"
             ],
             [
              0.8888888888888888,
              "#fdca26"
             ],
             [
              1,
              "#f0f921"
             ]
            ],
            "type": "contour"
           }
          ],
          "contourcarpet": [
           {
            "colorbar": {
             "outlinewidth": 0,
             "ticks": ""
            },
            "type": "contourcarpet"
           }
          ],
          "heatmap": [
           {
            "colorbar": {
             "outlinewidth": 0,
             "ticks": ""
            },
            "colorscale": [
             [
              0,
              "#0d0887"
             ],
             [
              0.1111111111111111,
              "#46039f"
             ],
             [
              0.2222222222222222,
              "#7201a8"
             ],
             [
              0.3333333333333333,
              "#9c179e"
             ],
             [
              0.4444444444444444,
              "#bd3786"
             ],
             [
              0.5555555555555556,
              "#d8576b"
             ],
             [
              0.6666666666666666,
              "#ed7953"
             ],
             [
              0.7777777777777778,
              "#fb9f3a"
             ],
             [
              0.8888888888888888,
              "#fdca26"
             ],
             [
              1,
              "#f0f921"
             ]
            ],
            "type": "heatmap"
           }
          ],
          "heatmapgl": [
           {
            "colorbar": {
             "outlinewidth": 0,
             "ticks": ""
            },
            "colorscale": [
             [
              0,
              "#0d0887"
             ],
             [
              0.1111111111111111,
              "#46039f"
             ],
             [
              0.2222222222222222,
              "#7201a8"
             ],
             [
              0.3333333333333333,
              "#9c179e"
             ],
             [
              0.4444444444444444,
              "#bd3786"
             ],
             [
              0.5555555555555556,
              "#d8576b"
             ],
             [
              0.6666666666666666,
              "#ed7953"
             ],
             [
              0.7777777777777778,
              "#fb9f3a"
             ],
             [
              0.8888888888888888,
              "#fdca26"
             ],
             [
              1,
              "#f0f921"
             ]
            ],
            "type": "heatmapgl"
           }
          ],
          "histogram": [
           {
            "marker": {
             "pattern": {
              "fillmode": "overlay",
              "size": 10,
              "solidity": 0.2
             }
            },
            "type": "histogram"
           }
          ],
          "histogram2d": [
           {
            "colorbar": {
             "outlinewidth": 0,
             "ticks": ""
            },
            "colorscale": [
             [
              0,
              "#0d0887"
             ],
             [
              0.1111111111111111,
              "#46039f"
             ],
             [
              0.2222222222222222,
              "#7201a8"
             ],
             [
              0.3333333333333333,
              "#9c179e"
             ],
             [
              0.4444444444444444,
              "#bd3786"
             ],
             [
              0.5555555555555556,
              "#d8576b"
             ],
             [
              0.6666666666666666,
              "#ed7953"
             ],
             [
              0.7777777777777778,
              "#fb9f3a"
             ],
             [
              0.8888888888888888,
              "#fdca26"
             ],
             [
              1,
              "#f0f921"
             ]
            ],
            "type": "histogram2d"
           }
          ],
          "histogram2dcontour": [
           {
            "colorbar": {
             "outlinewidth": 0,
             "ticks": ""
            },
            "colorscale": [
             [
              0,
              "#0d0887"
             ],
             [
              0.1111111111111111,
              "#46039f"
             ],
             [
              0.2222222222222222,
              "#7201a8"
             ],
             [
              0.3333333333333333,
              "#9c179e"
             ],
             [
              0.4444444444444444,
              "#bd3786"
             ],
             [
              0.5555555555555556,
              "#d8576b"
             ],
             [
              0.6666666666666666,
              "#ed7953"
             ],
             [
              0.7777777777777778,
              "#fb9f3a"
             ],
             [
              0.8888888888888888,
              "#fdca26"
             ],
             [
              1,
              "#f0f921"
             ]
            ],
            "type": "histogram2dcontour"
           }
          ],
          "mesh3d": [
           {
            "colorbar": {
             "outlinewidth": 0,
             "ticks": ""
            },
            "type": "mesh3d"
           }
          ],
          "parcoords": [
           {
            "line": {
             "colorbar": {
              "outlinewidth": 0,
              "ticks": ""
             }
            },
            "type": "parcoords"
           }
          ],
          "pie": [
           {
            "automargin": true,
            "type": "pie"
           }
          ],
          "scatter": [
           {
            "fillpattern": {
             "fillmode": "overlay",
             "size": 10,
             "solidity": 0.2
            },
            "type": "scatter"
           }
          ],
          "scatter3d": [
           {
            "line": {
             "colorbar": {
              "outlinewidth": 0,
              "ticks": ""
             }
            },
            "marker": {
             "colorbar": {
              "outlinewidth": 0,
              "ticks": ""
             }
            },
            "type": "scatter3d"
           }
          ],
          "scattercarpet": [
           {
            "marker": {
             "colorbar": {
              "outlinewidth": 0,
              "ticks": ""
             }
            },
            "type": "scattercarpet"
           }
          ],
          "scattergeo": [
           {
            "marker": {
             "colorbar": {
              "outlinewidth": 0,
              "ticks": ""
             }
            },
            "type": "scattergeo"
           }
          ],
          "scattergl": [
           {
            "marker": {
             "colorbar": {
              "outlinewidth": 0,
              "ticks": ""
             }
            },
            "type": "scattergl"
           }
          ],
          "scattermapbox": [
           {
            "marker": {
             "colorbar": {
              "outlinewidth": 0,
              "ticks": ""
             }
            },
            "type": "scattermapbox"
           }
          ],
          "scatterpolar": [
           {
            "marker": {
             "colorbar": {
              "outlinewidth": 0,
              "ticks": ""
             }
            },
            "type": "scatterpolar"
           }
          ],
          "scatterpolargl": [
           {
            "marker": {
             "colorbar": {
              "outlinewidth": 0,
              "ticks": ""
             }
            },
            "type": "scatterpolargl"
           }
          ],
          "scatterternary": [
           {
            "marker": {
             "colorbar": {
              "outlinewidth": 0,
              "ticks": ""
             }
            },
            "type": "scatterternary"
           }
          ],
          "surface": [
           {
            "colorbar": {
             "outlinewidth": 0,
             "ticks": ""
            },
            "colorscale": [
             [
              0,
              "#0d0887"
             ],
             [
              0.1111111111111111,
              "#46039f"
             ],
             [
              0.2222222222222222,
              "#7201a8"
             ],
             [
              0.3333333333333333,
              "#9c179e"
             ],
             [
              0.4444444444444444,
              "#bd3786"
             ],
             [
              0.5555555555555556,
              "#d8576b"
             ],
             [
              0.6666666666666666,
              "#ed7953"
             ],
             [
              0.7777777777777778,
              "#fb9f3a"
             ],
             [
              0.8888888888888888,
              "#fdca26"
             ],
             [
              1,
              "#f0f921"
             ]
            ],
            "type": "surface"
           }
          ],
          "table": [
           {
            "cells": {
             "fill": {
              "color": "#EBF0F8"
             },
             "line": {
              "color": "white"
             }
            },
            "header": {
             "fill": {
              "color": "#C8D4E3"
             },
             "line": {
              "color": "white"
             }
            },
            "type": "table"
           }
          ]
         },
         "layout": {
          "annotationdefaults": {
           "arrowcolor": "#2a3f5f",
           "arrowhead": 0,
           "arrowwidth": 1
          },
          "autotypenumbers": "strict",
          "coloraxis": {
           "colorbar": {
            "outlinewidth": 0,
            "ticks": ""
           }
          },
          "colorscale": {
           "diverging": [
            [
             0,
             "#8e0152"
            ],
            [
             0.1,
             "#c51b7d"
            ],
            [
             0.2,
             "#de77ae"
            ],
            [
             0.3,
             "#f1b6da"
            ],
            [
             0.4,
             "#fde0ef"
            ],
            [
             0.5,
             "#f7f7f7"
            ],
            [
             0.6,
             "#e6f5d0"
            ],
            [
             0.7,
             "#b8e186"
            ],
            [
             0.8,
             "#7fbc41"
            ],
            [
             0.9,
             "#4d9221"
            ],
            [
             1,
             "#276419"
            ]
           ],
           "sequential": [
            [
             0,
             "#0d0887"
            ],
            [
             0.1111111111111111,
             "#46039f"
            ],
            [
             0.2222222222222222,
             "#7201a8"
            ],
            [
             0.3333333333333333,
             "#9c179e"
            ],
            [
             0.4444444444444444,
             "#bd3786"
            ],
            [
             0.5555555555555556,
             "#d8576b"
            ],
            [
             0.6666666666666666,
             "#ed7953"
            ],
            [
             0.7777777777777778,
             "#fb9f3a"
            ],
            [
             0.8888888888888888,
             "#fdca26"
            ],
            [
             1,
             "#f0f921"
            ]
           ],
           "sequentialminus": [
            [
             0,
             "#0d0887"
            ],
            [
             0.1111111111111111,
             "#46039f"
            ],
            [
             0.2222222222222222,
             "#7201a8"
            ],
            [
             0.3333333333333333,
             "#9c179e"
            ],
            [
             0.4444444444444444,
             "#bd3786"
            ],
            [
             0.5555555555555556,
             "#d8576b"
            ],
            [
             0.6666666666666666,
             "#ed7953"
            ],
            [
             0.7777777777777778,
             "#fb9f3a"
            ],
            [
             0.8888888888888888,
             "#fdca26"
            ],
            [
             1,
             "#f0f921"
            ]
           ]
          },
          "colorway": [
           "#636efa",
           "#EF553B",
           "#00cc96",
           "#ab63fa",
           "#FFA15A",
           "#19d3f3",
           "#FF6692",
           "#B6E880",
           "#FF97FF",
           "#FECB52"
          ],
          "font": {
           "color": "#2a3f5f"
          },
          "geo": {
           "bgcolor": "white",
           "lakecolor": "white",
           "landcolor": "#E5ECF6",
           "showlakes": true,
           "showland": true,
           "subunitcolor": "white"
          },
          "hoverlabel": {
           "align": "left"
          },
          "hovermode": "closest",
          "mapbox": {
           "style": "light"
          },
          "paper_bgcolor": "white",
          "plot_bgcolor": "#E5ECF6",
          "polar": {
           "angularaxis": {
            "gridcolor": "white",
            "linecolor": "white",
            "ticks": ""
           },
           "bgcolor": "#E5ECF6",
           "radialaxis": {
            "gridcolor": "white",
            "linecolor": "white",
            "ticks": ""
           }
          },
          "scene": {
           "xaxis": {
            "backgroundcolor": "#E5ECF6",
            "gridcolor": "white",
            "gridwidth": 2,
            "linecolor": "white",
            "showbackground": true,
            "ticks": "",
            "zerolinecolor": "white"
           },
           "yaxis": {
            "backgroundcolor": "#E5ECF6",
            "gridcolor": "white",
            "gridwidth": 2,
            "linecolor": "white",
            "showbackground": true,
            "ticks": "",
            "zerolinecolor": "white"
           },
           "zaxis": {
            "backgroundcolor": "#E5ECF6",
            "gridcolor": "white",
            "gridwidth": 2,
            "linecolor": "white",
            "showbackground": true,
            "ticks": "",
            "zerolinecolor": "white"
           }
          },
          "shapedefaults": {
           "line": {
            "color": "#2a3f5f"
           }
          },
          "ternary": {
           "aaxis": {
            "gridcolor": "white",
            "linecolor": "white",
            "ticks": ""
           },
           "baxis": {
            "gridcolor": "white",
            "linecolor": "white",
            "ticks": ""
           },
           "bgcolor": "#E5ECF6",
           "caxis": {
            "gridcolor": "white",
            "linecolor": "white",
            "ticks": ""
           }
          },
          "title": {
           "x": 0.05
          },
          "xaxis": {
           "automargin": true,
           "gridcolor": "white",
           "linecolor": "white",
           "ticks": "",
           "title": {
            "standoff": 15
           },
           "zerolinecolor": "white",
           "zerolinewidth": 2
          },
          "yaxis": {
           "automargin": true,
           "gridcolor": "white",
           "linecolor": "white",
           "ticks": "",
           "title": {
            "standoff": 15
           },
           "zerolinecolor": "white",
           "zerolinewidth": 2
          }
         }
        },
        "title": {
         "text": "График процентов наиболее востребованных навыков"
        }
       }
      },
      "text/html": [
       "<div>                            <div id=\"604b907b-7a5c-4b81-8f17-dd4e66835f00\" class=\"plotly-graph-div\" style=\"height:525px; width:100%;\"></div>            <script type=\"text/javascript\">                require([\"plotly\"], function(Plotly) {                    window.PLOTLYENV=window.PLOTLYENV || {};                                    if (document.getElementById(\"604b907b-7a5c-4b81-8f17-dd4e66835f00\")) {                    Plotly.newPlot(                        \"604b907b-7a5c-4b81-8f17-dd4e66835f00\",                        [{\"labels\":[\"MySQL\",\"SQL\",\"Telegram\",\"\\u0422\\u0435\\u0441\\u0442\\u0438\\u0440\\u043e\\u0432\\u0430\\u043d\\u0438\\u0435\",\"QA\",\"\\u041f\\u0440\\u043e\\u0432\\u0435\\u0434\\u0435\\u043d\\u0438\\u0435 \\u0442\\u0435\\u0441\\u0442\\u0438\\u0440\\u043e\\u0432\\u0430\\u043d\\u0438\\u0439\",\"PHP\",\"HTML5\",\"CSS3\",\"JavaScript\",\"Python\",\"\\u0410\\u043d\\u0430\\u043b\\u0438\\u0437 \\u0434\\u0430\\u043d\\u043d\\u044b\\u0445\",\"\\u0411\\u0430\\u0437\\u044b \\u0434\\u0430\\u043d\\u043d\\u044b\\u0445\",\"\\u0421\\u0438\\u0441\\u0442\\u0435\\u043c\\u043d\\u044b\\u0439 \\u0430\\u043d\\u0430\\u043b\\u0438\\u0437\",\"DWH\",\"TypeScript\",\"ReactJS\",\"React/Redux\",\"\\u0422\\u0435\\u0441\\u0442\\u0438\\u0440\\u043e\\u0432\\u0430\\u043d\\u0438\\u0435 \\u0434\\u0435\\u0441\\u043a\\u0442\\u043e\\u043f\\u043d\\u044b\\u0445 \\u043f\\u0440\\u0438\\u043b\\u043e\\u0436\\u0435\\u043d\\u0438\\u0439\",\"\\u0422\\u0435\\u0441\\u0442\\u0438\\u0440\\u043e\\u0432\\u0430\\u043d\\u0438\\u0435 web-\\u043f\\u0440\\u0438\\u043b\\u043e\\u0436\\u0435\\u043d\\u0438\\u0439\"],\"values\":[40,220,20,160,80,60,20,40,60,200,100,20,20,20,20,80,20,40,20,20],\"type\":\"pie\"}],                        {\"title\":{\"text\":\"\\u0413\\u0440\\u0430\\u0444\\u0438\\u043a \\u043f\\u0440\\u043e\\u0446\\u0435\\u043d\\u0442\\u043e\\u0432 \\u043d\\u0430\\u0438\\u0431\\u043e\\u043b\\u0435\\u0435 \\u0432\\u043e\\u0441\\u0442\\u0440\\u0435\\u0431\\u043e\\u0432\\u0430\\u043d\\u043d\\u044b\\u0445 \\u043d\\u0430\\u0432\\u044b\\u043a\\u043e\\u0432\"},\"template\":{\"data\":{\"histogram2dcontour\":[{\"type\":\"histogram2dcontour\",\"colorbar\":{\"outlinewidth\":0,\"ticks\":\"\"},\"colorscale\":[[0.0,\"#0d0887\"],[0.1111111111111111,\"#46039f\"],[0.2222222222222222,\"#7201a8\"],[0.3333333333333333,\"#9c179e\"],[0.4444444444444444,\"#bd3786\"],[0.5555555555555556,\"#d8576b\"],[0.6666666666666666,\"#ed7953\"],[0.7777777777777778,\"#fb9f3a\"],[0.8888888888888888,\"#fdca26\"],[1.0,\"#f0f921\"]]}],\"choropleth\":[{\"type\":\"choropleth\",\"colorbar\":{\"outlinewidth\":0,\"ticks\":\"\"}}],\"histogram2d\":[{\"type\":\"histogram2d\",\"colorbar\":{\"outlinewidth\":0,\"ticks\":\"\"},\"colorscale\":[[0.0,\"#0d0887\"],[0.1111111111111111,\"#46039f\"],[0.2222222222222222,\"#7201a8\"],[0.3333333333333333,\"#9c179e\"],[0.4444444444444444,\"#bd3786\"],[0.5555555555555556,\"#d8576b\"],[0.6666666666666666,\"#ed7953\"],[0.7777777777777778,\"#fb9f3a\"],[0.8888888888888888,\"#fdca26\"],[1.0,\"#f0f921\"]]}],\"heatmap\":[{\"type\":\"heatmap\",\"colorbar\":{\"outlinewidth\":0,\"ticks\":\"\"},\"colorscale\":[[0.0,\"#0d0887\"],[0.1111111111111111,\"#46039f\"],[0.2222222222222222,\"#7201a8\"],[0.3333333333333333,\"#9c179e\"],[0.4444444444444444,\"#bd3786\"],[0.5555555555555556,\"#d8576b\"],[0.6666666666666666,\"#ed7953\"],[0.7777777777777778,\"#fb9f3a\"],[0.8888888888888888,\"#fdca26\"],[1.0,\"#f0f921\"]]}],\"heatmapgl\":[{\"type\":\"heatmapgl\",\"colorbar\":{\"outlinewidth\":0,\"ticks\":\"\"},\"colorscale\":[[0.0,\"#0d0887\"],[0.1111111111111111,\"#46039f\"],[0.2222222222222222,\"#7201a8\"],[0.3333333333333333,\"#9c179e\"],[0.4444444444444444,\"#bd3786\"],[0.5555555555555556,\"#d8576b\"],[0.6666666666666666,\"#ed7953\"],[0.7777777777777778,\"#fb9f3a\"],[0.8888888888888888,\"#fdca26\"],[1.0,\"#f0f921\"]]}],\"contourcarpet\":[{\"type\":\"contourcarpet\",\"colorbar\":{\"outlinewidth\":0,\"ticks\":\"\"}}],\"contour\":[{\"type\":\"contour\",\"colorbar\":{\"outlinewidth\":0,\"ticks\":\"\"},\"colorscale\":[[0.0,\"#0d0887\"],[0.1111111111111111,\"#46039f\"],[0.2222222222222222,\"#7201a8\"],[0.3333333333333333,\"#9c179e\"],[0.4444444444444444,\"#bd3786\"],[0.5555555555555556,\"#d8576b\"],[0.6666666666666666,\"#ed7953\"],[0.7777777777777778,\"#fb9f3a\"],[0.8888888888888888,\"#fdca26\"],[1.0,\"#f0f921\"]]}],\"surface\":[{\"type\":\"surface\",\"colorbar\":{\"outlinewidth\":0,\"ticks\":\"\"},\"colorscale\":[[0.0,\"#0d0887\"],[0.1111111111111111,\"#46039f\"],[0.2222222222222222,\"#7201a8\"],[0.3333333333333333,\"#9c179e\"],[0.4444444444444444,\"#bd3786\"],[0.5555555555555556,\"#d8576b\"],[0.6666666666666666,\"#ed7953\"],[0.7777777777777778,\"#fb9f3a\"],[0.8888888888888888,\"#fdca26\"],[1.0,\"#f0f921\"]]}],\"mesh3d\":[{\"type\":\"mesh3d\",\"colorbar\":{\"outlinewidth\":0,\"ticks\":\"\"}}],\"scatter\":[{\"fillpattern\":{\"fillmode\":\"overlay\",\"size\":10,\"solidity\":0.2},\"type\":\"scatter\"}],\"parcoords\":[{\"type\":\"parcoords\",\"line\":{\"colorbar\":{\"outlinewidth\":0,\"ticks\":\"\"}}}],\"scatterpolargl\":[{\"type\":\"scatterpolargl\",\"marker\":{\"colorbar\":{\"outlinewidth\":0,\"ticks\":\"\"}}}],\"bar\":[{\"error_x\":{\"color\":\"#2a3f5f\"},\"error_y\":{\"color\":\"#2a3f5f\"},\"marker\":{\"line\":{\"color\":\"#E5ECF6\",\"width\":0.5},\"pattern\":{\"fillmode\":\"overlay\",\"size\":10,\"solidity\":0.2}},\"type\":\"bar\"}],\"scattergeo\":[{\"type\":\"scattergeo\",\"marker\":{\"colorbar\":{\"outlinewidth\":0,\"ticks\":\"\"}}}],\"scatterpolar\":[{\"type\":\"scatterpolar\",\"marker\":{\"colorbar\":{\"outlinewidth\":0,\"ticks\":\"\"}}}],\"histogram\":[{\"marker\":{\"pattern\":{\"fillmode\":\"overlay\",\"size\":10,\"solidity\":0.2}},\"type\":\"histogram\"}],\"scattergl\":[{\"type\":\"scattergl\",\"marker\":{\"colorbar\":{\"outlinewidth\":0,\"ticks\":\"\"}}}],\"scatter3d\":[{\"type\":\"scatter3d\",\"line\":{\"colorbar\":{\"outlinewidth\":0,\"ticks\":\"\"}},\"marker\":{\"colorbar\":{\"outlinewidth\":0,\"ticks\":\"\"}}}],\"scattermapbox\":[{\"type\":\"scattermapbox\",\"marker\":{\"colorbar\":{\"outlinewidth\":0,\"ticks\":\"\"}}}],\"scatterternary\":[{\"type\":\"scatterternary\",\"marker\":{\"colorbar\":{\"outlinewidth\":0,\"ticks\":\"\"}}}],\"scattercarpet\":[{\"type\":\"scattercarpet\",\"marker\":{\"colorbar\":{\"outlinewidth\":0,\"ticks\":\"\"}}}],\"carpet\":[{\"aaxis\":{\"endlinecolor\":\"#2a3f5f\",\"gridcolor\":\"white\",\"linecolor\":\"white\",\"minorgridcolor\":\"white\",\"startlinecolor\":\"#2a3f5f\"},\"baxis\":{\"endlinecolor\":\"#2a3f5f\",\"gridcolor\":\"white\",\"linecolor\":\"white\",\"minorgridcolor\":\"white\",\"startlinecolor\":\"#2a3f5f\"},\"type\":\"carpet\"}],\"table\":[{\"cells\":{\"fill\":{\"color\":\"#EBF0F8\"},\"line\":{\"color\":\"white\"}},\"header\":{\"fill\":{\"color\":\"#C8D4E3\"},\"line\":{\"color\":\"white\"}},\"type\":\"table\"}],\"barpolar\":[{\"marker\":{\"line\":{\"color\":\"#E5ECF6\",\"width\":0.5},\"pattern\":{\"fillmode\":\"overlay\",\"size\":10,\"solidity\":0.2}},\"type\":\"barpolar\"}],\"pie\":[{\"automargin\":true,\"type\":\"pie\"}]},\"layout\":{\"autotypenumbers\":\"strict\",\"colorway\":[\"#636efa\",\"#EF553B\",\"#00cc96\",\"#ab63fa\",\"#FFA15A\",\"#19d3f3\",\"#FF6692\",\"#B6E880\",\"#FF97FF\",\"#FECB52\"],\"font\":{\"color\":\"#2a3f5f\"},\"hovermode\":\"closest\",\"hoverlabel\":{\"align\":\"left\"},\"paper_bgcolor\":\"white\",\"plot_bgcolor\":\"#E5ECF6\",\"polar\":{\"bgcolor\":\"#E5ECF6\",\"angularaxis\":{\"gridcolor\":\"white\",\"linecolor\":\"white\",\"ticks\":\"\"},\"radialaxis\":{\"gridcolor\":\"white\",\"linecolor\":\"white\",\"ticks\":\"\"}},\"ternary\":{\"bgcolor\":\"#E5ECF6\",\"aaxis\":{\"gridcolor\":\"white\",\"linecolor\":\"white\",\"ticks\":\"\"},\"baxis\":{\"gridcolor\":\"white\",\"linecolor\":\"white\",\"ticks\":\"\"},\"caxis\":{\"gridcolor\":\"white\",\"linecolor\":\"white\",\"ticks\":\"\"}},\"coloraxis\":{\"colorbar\":{\"outlinewidth\":0,\"ticks\":\"\"}},\"colorscale\":{\"sequential\":[[0.0,\"#0d0887\"],[0.1111111111111111,\"#46039f\"],[0.2222222222222222,\"#7201a8\"],[0.3333333333333333,\"#9c179e\"],[0.4444444444444444,\"#bd3786\"],[0.5555555555555556,\"#d8576b\"],[0.6666666666666666,\"#ed7953\"],[0.7777777777777778,\"#fb9f3a\"],[0.8888888888888888,\"#fdca26\"],[1.0,\"#f0f921\"]],\"sequentialminus\":[[0.0,\"#0d0887\"],[0.1111111111111111,\"#46039f\"],[0.2222222222222222,\"#7201a8\"],[0.3333333333333333,\"#9c179e\"],[0.4444444444444444,\"#bd3786\"],[0.5555555555555556,\"#d8576b\"],[0.6666666666666666,\"#ed7953\"],[0.7777777777777778,\"#fb9f3a\"],[0.8888888888888888,\"#fdca26\"],[1.0,\"#f0f921\"]],\"diverging\":[[0,\"#8e0152\"],[0.1,\"#c51b7d\"],[0.2,\"#de77ae\"],[0.3,\"#f1b6da\"],[0.4,\"#fde0ef\"],[0.5,\"#f7f7f7\"],[0.6,\"#e6f5d0\"],[0.7,\"#b8e186\"],[0.8,\"#7fbc41\"],[0.9,\"#4d9221\"],[1,\"#276419\"]]},\"xaxis\":{\"gridcolor\":\"white\",\"linecolor\":\"white\",\"ticks\":\"\",\"title\":{\"standoff\":15},\"zerolinecolor\":\"white\",\"automargin\":true,\"zerolinewidth\":2},\"yaxis\":{\"gridcolor\":\"white\",\"linecolor\":\"white\",\"ticks\":\"\",\"title\":{\"standoff\":15},\"zerolinecolor\":\"white\",\"automargin\":true,\"zerolinewidth\":2},\"scene\":{\"xaxis\":{\"backgroundcolor\":\"#E5ECF6\",\"gridcolor\":\"white\",\"linecolor\":\"white\",\"showbackground\":true,\"ticks\":\"\",\"zerolinecolor\":\"white\",\"gridwidth\":2},\"yaxis\":{\"backgroundcolor\":\"#E5ECF6\",\"gridcolor\":\"white\",\"linecolor\":\"white\",\"showbackground\":true,\"ticks\":\"\",\"zerolinecolor\":\"white\",\"gridwidth\":2},\"zaxis\":{\"backgroundcolor\":\"#E5ECF6\",\"gridcolor\":\"white\",\"linecolor\":\"white\",\"showbackground\":true,\"ticks\":\"\",\"zerolinecolor\":\"white\",\"gridwidth\":2}},\"shapedefaults\":{\"line\":{\"color\":\"#2a3f5f\"}},\"annotationdefaults\":{\"arrowcolor\":\"#2a3f5f\",\"arrowhead\":0,\"arrowwidth\":1},\"geo\":{\"bgcolor\":\"white\",\"landcolor\":\"#E5ECF6\",\"subunitcolor\":\"white\",\"showland\":true,\"showlakes\":true,\"lakecolor\":\"white\"},\"title\":{\"x\":0.05},\"mapbox\":{\"style\":\"light\"}}}},                        {\"responsive\": true}                    ).then(function(){\n",
       "                            \n",
       "var gd = document.getElementById('604b907b-7a5c-4b81-8f17-dd4e66835f00');\n",
       "var x = new MutationObserver(function (mutations, observer) {{\n",
       "        var display = window.getComputedStyle(gd).display;\n",
       "        if (!display || display === 'none') {{\n",
       "            console.log([gd, 'removed!']);\n",
       "            Plotly.purge(gd);\n",
       "            observer.disconnect();\n",
       "        }}\n",
       "}});\n",
       "\n",
       "// Listen for the removal of the full notebook cells\n",
       "var notebookContainer = gd.closest('#notebook-container');\n",
       "if (notebookContainer) {{\n",
       "    x.observe(notebookContainer, {childList: true});\n",
       "}}\n",
       "\n",
       "// Listen for the clearing of the current output cell\n",
       "var outputEl = gd.closest('.output');\n",
       "if (outputEl) {{\n",
       "    x.observe(outputEl, {childList: true});\n",
       "}}\n",
       "\n",
       "                        })                };                });            </script>        </div>"
      ]
     },
     "metadata": {},
     "output_type": "display_data"
    }
   ],
   "source": [
    "#Нагуглил круговую диаграмму и только через нее смог сделать:\n",
    "#выводим топ 20 навыков в диаграмму\n",
    "\n",
    "pyplt=py.offline.plot\n",
    "labels=list(dct_skill.keys())[0:20]\n",
    "values=list(dct_skill.values())[0:20]\n",
    "trace=[go.Pie(labels=labels,values=values)]\n",
    "layout=go.Layout(\n",
    "    title='График процентов наиболее востребованных навыков'\n",
    ")\n",
    "fig=go.Figure(data=trace,layout=layout)\n",
    "fig.show()"
   ]
  },
  {
   "cell_type": "code",
   "execution_count": null,
   "id": "2f5e8d7d",
   "metadata": {},
   "outputs": [],
   "source": []
  },
  {
   "cell_type": "code",
   "execution_count": null,
   "id": "5769fbb9",
   "metadata": {},
   "outputs": [],
   "source": []
  },
  {
   "cell_type": "code",
   "execution_count": null,
   "id": "95e90851",
   "metadata": {},
   "outputs": [],
   "source": []
  },
  {
   "cell_type": "code",
   "execution_count": 651,
   "id": "3fd10522",
   "metadata": {},
   "outputs": [
    {
     "data": {
      "text/html": [
       "<div>\n",
       "<style scoped>\n",
       "    .dataframe tbody tr th:only-of-type {\n",
       "        vertical-align: middle;\n",
       "    }\n",
       "\n",
       "    .dataframe tbody tr th {\n",
       "        vertical-align: top;\n",
       "    }\n",
       "\n",
       "    .dataframe thead th {\n",
       "        text-align: right;\n",
       "    }\n",
       "</style>\n",
       "<table border=\"1\" class=\"dataframe\">\n",
       "  <thead>\n",
       "    <tr style=\"text-align: right;\">\n",
       "      <th></th>\n",
       "      <th>id</th>\n",
       "      <th>name</th>\n",
       "      <th>area</th>\n",
       "      <th>salary</th>\n",
       "      <th>experience</th>\n",
       "      <th>schedule</th>\n",
       "      <th>employment</th>\n",
       "      <th>description</th>\n",
       "      <th>key_skills</th>\n",
       "      <th>professional_roles</th>\n",
       "      <th>employer</th>\n",
       "      <th>published_at</th>\n",
       "      <th>salary_from</th>\n",
       "      <th>salary_to</th>\n",
       "      <th>flag</th>\n",
       "      <th>vac_level</th>\n",
       "    </tr>\n",
       "  </thead>\n",
       "  <tbody>\n",
       "    <tr>\n",
       "      <th>0</th>\n",
       "      <td>79842507</td>\n",
       "      <td>Стажер (тестировщик) на летний период</td>\n",
       "      <td>Москва</td>\n",
       "      <td>None</td>\n",
       "      <td>Нет опыта</td>\n",
       "      <td>Полный день</td>\n",
       "      <td>Стажировка</td>\n",
       "      <td>&lt;p&gt;&lt;strong&gt;Мы:&lt;/strong&gt;&lt;/p&gt; &lt;p&gt;&lt;strong&gt;ГК «Хай...</td>\n",
       "      <td>None</td>\n",
       "      <td>Тестировщик</td>\n",
       "      <td>ГК «ХайТэк»</td>\n",
       "      <td>2023-04-26</td>\n",
       "      <td>NaN</td>\n",
       "      <td>NaN</td>\n",
       "      <td>1</td>\n",
       "      <td>None</td>\n",
       "    </tr>\n",
       "    <tr>\n",
       "      <th>1</th>\n",
       "      <td>79880730</td>\n",
       "      <td>Разработчик Junior</td>\n",
       "      <td>Москва</td>\n",
       "      <td>None</td>\n",
       "      <td>От 1 года до 3 лет</td>\n",
       "      <td>Полный день</td>\n",
       "      <td>Полная занятость</td>\n",
       "      <td>&lt;strong&gt;Обязанности:&lt;/strong&gt; &lt;ul&gt; &lt;li&gt;Поддерж...</td>\n",
       "      <td>[MySQL, SQL, Telegram]</td>\n",
       "      <td>Программист, разработчик</td>\n",
       "      <td>Суши WOK</td>\n",
       "      <td>2023-04-27</td>\n",
       "      <td>NaN</td>\n",
       "      <td>NaN</td>\n",
       "      <td>1</td>\n",
       "      <td>None</td>\n",
       "    </tr>\n",
       "  </tbody>\n",
       "</table>\n",
       "</div>"
      ],
      "text/plain": [
       "         id                                   name    area salary  \\\n",
       "0  79842507  Стажер (тестировщик) на летний период  Москва   None   \n",
       "1  79880730                     Разработчик Junior  Москва   None   \n",
       "\n",
       "           experience     schedule        employment  \\\n",
       "0           Нет опыта  Полный день        Стажировка   \n",
       "1  От 1 года до 3 лет  Полный день  Полная занятость   \n",
       "\n",
       "                                         description              key_skills  \\\n",
       "0  <p><strong>Мы:</strong></p> <p><strong>ГК «Хай...                    None   \n",
       "1  <strong>Обязанности:</strong> <ul> <li>Поддерж...  [MySQL, SQL, Telegram]   \n",
       "\n",
       "         professional_roles     employer published_at  salary_from  salary_to  \\\n",
       "0               Тестировщик  ГК «ХайТэк»   2023-04-26          NaN        NaN   \n",
       "1  Программист, разработчик     Суши WOK   2023-04-27          NaN        NaN   \n",
       "\n",
       "   flag vac_level  \n",
       "0     1      None  \n",
       "1     1      None  "
      ]
     },
     "execution_count": 651,
     "metadata": {},
     "output_type": "execute_result"
    }
   ],
   "source": [
    "vac_info_new.head(2)"
   ]
  },
  {
   "cell_type": "code",
   "execution_count": null,
   "id": "a5f0682c",
   "metadata": {},
   "outputs": [],
   "source": []
  },
  {
   "cell_type": "code",
   "execution_count": null,
   "id": "4ebdea94",
   "metadata": {},
   "outputs": [],
   "source": []
  },
  {
   "cell_type": "code",
   "execution_count": null,
   "id": "48ab1f38",
   "metadata": {},
   "outputs": [],
   "source": [
    "#приведем поля name description key_skills к нижнему регистру\n",
    "vac_info['name']=vac_info['name'].apply(lambda x: x.lower())"
   ]
  },
  {
   "cell_type": "code",
   "execution_count": null,
   "id": "2b3c6e66",
   "metadata": {},
   "outputs": [],
   "source": []
  },
  {
   "cell_type": "code",
   "execution_count": null,
   "id": "97e4f3a5",
   "metadata": {},
   "outputs": [],
   "source": []
  },
  {
   "cell_type": "code",
   "execution_count": 533,
   "id": "b64fdab6",
   "metadata": {},
   "outputs": [],
   "source": [
    "# def find_vasc (stroka):\n",
    "#     \"\"\"\n",
    "#     функция поиска цифровых вакансий\n",
    "#     \"\"\"\n",
    "#     vacs= ['аналитик данных', 'data scientist', 'data engineer', 'python', 'sql', 'java']\n",
    "#     sovpalo = 0\n",
    "#     for x in range(len(vacs)):\n",
    "#         if (vacs[x] in stroka) == True:\n",
    "#             sovpalo+=1\n",
    "#         #else: return 0\n",
    "#     if sovpalo > 0 : return 1\n",
    "#     else: return 0"
   ]
  },
  {
   "cell_type": "code",
   "execution_count": 534,
   "id": "7dde6492",
   "metadata": {},
   "outputs": [],
   "source": [
    "# #\n",
    "# vac_info['flag'] = vac_info['name'].apply(find_vasc)\n"
   ]
  },
  {
   "cell_type": "code",
   "execution_count": null,
   "id": "46360cf8",
   "metadata": {},
   "outputs": [],
   "source": []
  },
  {
   "cell_type": "code",
   "execution_count": null,
   "id": "df8d8589",
   "metadata": {},
   "outputs": [],
   "source": []
  },
  {
   "cell_type": "code",
   "execution_count": 412,
   "id": "8c25acd0",
   "metadata": {},
   "outputs": [],
   "source": []
  },
  {
   "cell_type": "code",
   "execution_count": 543,
   "id": "f7902576",
   "metadata": {},
   "outputs": [],
   "source": []
  },
  {
   "cell_type": "code",
   "execution_count": 415,
   "id": "e3b83f81",
   "metadata": {},
   "outputs": [],
   "source": []
  },
  {
   "cell_type": "code",
   "execution_count": 546,
   "id": "3968c3d5",
   "metadata": {},
   "outputs": [],
   "source": []
  },
  {
   "cell_type": "code",
   "execution_count": 389,
   "id": "9a40a6be",
   "metadata": {},
   "outputs": [],
   "source": [
    "\n"
   ]
  },
  {
   "cell_type": "code",
   "execution_count": null,
   "id": "4d84559a",
   "metadata": {},
   "outputs": [],
   "source": []
  },
  {
   "cell_type": "code",
   "execution_count": 547,
   "id": "a77caff8",
   "metadata": {},
   "outputs": [],
   "source": []
  },
  {
   "cell_type": "code",
   "execution_count": 548,
   "id": "bb063233",
   "metadata": {},
   "outputs": [],
   "source": []
  },
  {
   "cell_type": "code",
   "execution_count": 549,
   "id": "42ea9ee6",
   "metadata": {},
   "outputs": [],
   "source": []
  },
  {
   "cell_type": "code",
   "execution_count": 550,
   "id": "4b85824e",
   "metadata": {},
   "outputs": [],
   "source": []
  },
  {
   "cell_type": "code",
   "execution_count": 553,
   "id": "e278cdb9",
   "metadata": {},
   "outputs": [],
   "source": []
  },
  {
   "cell_type": "code",
   "execution_count": 554,
   "id": "182e79b1",
   "metadata": {},
   "outputs": [],
   "source": []
  },
  {
   "cell_type": "code",
   "execution_count": null,
   "id": "3d4d1e15",
   "metadata": {},
   "outputs": [],
   "source": [
    "# # функция удаления пунктуации и цифр\n",
    "def remove_trash(list): \n",
    "    pattern = r'[^А-Яа-я]+'\n",
    "    try:\n",
    "      list = [re.sub(pattern, ' ', i) for i in list] \n",
    "\n",
    "    except Exception as e:\n",
    "      print(e)\n",
    "    return list"
   ]
  },
  {
   "cell_type": "code",
   "execution_count": 555,
   "id": "10334b5c",
   "metadata": {},
   "outputs": [],
   "source": [
    "vac_info_new['description_clean']=remove_trash(vac_info_new['description'])"
   ]
  },
  {
   "cell_type": "code",
   "execution_count": 443,
   "id": "f7e914cd",
   "metadata": {},
   "outputs": [
    {
     "name": "stdout",
     "output_type": "stream",
     "text": [
      "showing info https://raw.githubusercontent.com/nltk/nltk_data/gh-pages/index.xml\n"
     ]
    },
    {
     "data": {
      "text/plain": [
       "True"
      ]
     },
     "execution_count": 443,
     "metadata": {},
     "output_type": "execute_result"
    }
   ],
   "source": [
    "try:\n",
    "    _create_unverified_https_context = ssl._create_unverified_context\n",
    "except AttributeError:\n",
    "    pass\n",
    "else:\n",
    "    ssl._create_default_https_context = _create_unverified_https_context\n",
    "\n",
    "nltk.download()"
   ]
  },
  {
   "cell_type": "code",
   "execution_count": 444,
   "id": "1bb68e24",
   "metadata": {},
   "outputs": [
    {
     "name": "stderr",
     "output_type": "stream",
     "text": [
      "[nltk_data] Downloading package stopwords to\n",
      "[nltk_data]     C:\\Users\\Tolyan\\AppData\\Roaming\\nltk_data...\n",
      "[nltk_data]   Package stopwords is already up-to-date!\n"
     ]
    },
    {
     "data": {
      "text/plain": [
       "True"
      ]
     },
     "execution_count": 444,
     "metadata": {},
     "output_type": "execute_result"
    }
   ],
   "source": [
    "nltk.download('stopwords')"
   ]
  },
  {
   "cell_type": "code",
   "execution_count": 447,
   "id": "ede27dd6",
   "metadata": {},
   "outputs": [],
   "source": [
    "stop_russian = stopwords.words('russian')"
   ]
  },
  {
   "cell_type": "code",
   "execution_count": 450,
   "id": "358f44d0",
   "metadata": {},
   "outputs": [],
   "source": [
    "morph = pymorphy2.MorphAnalyzer()"
   ]
  },
  {
   "cell_type": "code",
   "execution_count": 456,
   "id": "ed7e96f8",
   "metadata": {},
   "outputs": [],
   "source": [
    "# функция лемматизации\n",
    "def lemmatize(row):\n",
    "    t = []\n",
    "    text = row['description_clean']\n",
    "    for word in text.split():\n",
    "        if len(word)<=1:\n",
    "            continue\n",
    "        p = morph.parse(word)[0]\n",
    "        t.append(p.normal_form)\n",
    "    return \" \".join(t)"
   ]
  },
  {
   "cell_type": "code",
   "execution_count": 556,
   "id": "70d29b07",
   "metadata": {},
   "outputs": [
    {
     "name": "stdout",
     "output_type": "stream",
     "text": [
      "Wall time: 7.47 s\n"
     ]
    }
   ],
   "source": [
    "%%time\n",
    "#\n",
    "vac_info_new['description_clean_normal'] = vac_info_new.apply(lemmatize,axis=1)\n"
   ]
  },
  {
   "cell_type": "code",
   "execution_count": 637,
   "id": "37c77be4",
   "metadata": {
    "scrolled": false
   },
   "outputs": [],
   "source": [
    "#vac_info_new.head(5)"
   ]
  },
  {
   "cell_type": "code",
   "execution_count": null,
   "id": "a8442956",
   "metadata": {},
   "outputs": [],
   "source": []
  },
  {
   "cell_type": "code",
   "execution_count": 558,
   "id": "8852534e",
   "metadata": {},
   "outputs": [],
   "source": [
    "text_transformer = TfidfVectorizer(stop_words=stop_russian, \n",
    "                                   ngram_range=(1,1), \n",
    "                                   lowercase=True)"
   ]
  },
  {
   "cell_type": "code",
   "execution_count": 559,
   "id": "7111634c",
   "metadata": {},
   "outputs": [],
   "source": [
    "vac_info_new_for_level = vac_info_new[['vac_level',  'professional_roles', \n",
    "                                                     'description_clean_normal']]"
   ]
  },
  {
   "cell_type": "code",
   "execution_count": 560,
   "id": "f47badcc",
   "metadata": {},
   "outputs": [
    {
     "data": {
      "text/html": [
       "<div>\n",
       "<style scoped>\n",
       "    .dataframe tbody tr th:only-of-type {\n",
       "        vertical-align: middle;\n",
       "    }\n",
       "\n",
       "    .dataframe tbody tr th {\n",
       "        vertical-align: top;\n",
       "    }\n",
       "\n",
       "    .dataframe thead th {\n",
       "        text-align: right;\n",
       "    }\n",
       "</style>\n",
       "<table border=\"1\" class=\"dataframe\">\n",
       "  <thead>\n",
       "    <tr style=\"text-align: right;\">\n",
       "      <th></th>\n",
       "      <th>vac_level</th>\n",
       "      <th>professional_roles</th>\n",
       "      <th>description_clean_normal</th>\n",
       "    </tr>\n",
       "  </thead>\n",
       "  <tbody>\n",
       "    <tr>\n",
       "      <th>0</th>\n",
       "      <td>None</td>\n",
       "      <td>Программист, разработчик</td>\n",
       "      <td>наш команда объединять более специалист офис п...</td>\n",
       "    </tr>\n",
       "    <tr>\n",
       "      <th>1</th>\n",
       "      <td>Junior</td>\n",
       "      <td>Программист, разработчик</td>\n",
       "      <td>корусый консалтинг один из крупный консалтинго...</td>\n",
       "    </tr>\n",
       "    <tr>\n",
       "      <th>2</th>\n",
       "      <td>Junior</td>\n",
       "      <td>Аналитик</td>\n",
       "      <td>адв дивизион где создаваться уникальный технол...</td>\n",
       "    </tr>\n",
       "    <tr>\n",
       "      <th>3</th>\n",
       "      <td>None</td>\n",
       "      <td>Программист, разработчик</td>\n",
       "      <td>наш команда объединять более специалист офис п...</td>\n",
       "    </tr>\n",
       "    <tr>\n",
       "      <th>4</th>\n",
       "      <td>Junior</td>\n",
       "      <td>Программист, разработчик</td>\n",
       "      <td>корусый консалтинг один из крупный консалтинго...</td>\n",
       "    </tr>\n",
       "    <tr>\n",
       "      <th>...</th>\n",
       "      <td>...</td>\n",
       "      <td>...</td>\n",
       "      <td>...</td>\n",
       "    </tr>\n",
       "    <tr>\n",
       "      <th>175</th>\n",
       "      <td>Junior</td>\n",
       "      <td>Программист, разработчик</td>\n",
       "      <td>софтверный компания который уже более год явля...</td>\n",
       "    </tr>\n",
       "    <tr>\n",
       "      <th>176</th>\n",
       "      <td>Junior</td>\n",
       "      <td>Программист, разработчик</td>\n",
       "      <td>софтверный компания который уже более год явля...</td>\n",
       "    </tr>\n",
       "    <tr>\n",
       "      <th>177</th>\n",
       "      <td>Junior</td>\n",
       "      <td>Программист, разработчик</td>\n",
       "      <td>софтверный компания который уже более год явля...</td>\n",
       "    </tr>\n",
       "    <tr>\n",
       "      <th>178</th>\n",
       "      <td>Junior</td>\n",
       "      <td>Программист, разработчик</td>\n",
       "      <td>софтверный компания который уже более год явля...</td>\n",
       "    </tr>\n",
       "    <tr>\n",
       "      <th>179</th>\n",
       "      <td>Junior</td>\n",
       "      <td>Программист, разработчик</td>\n",
       "      <td>софтверный компания который уже более год явля...</td>\n",
       "    </tr>\n",
       "  </tbody>\n",
       "</table>\n",
       "<p>180 rows × 3 columns</p>\n",
       "</div>"
      ],
      "text/plain": [
       "    vac_level        professional_roles  \\\n",
       "0        None  Программист, разработчик   \n",
       "1      Junior  Программист, разработчик   \n",
       "2      Junior                  Аналитик   \n",
       "3        None  Программист, разработчик   \n",
       "4      Junior  Программист, разработчик   \n",
       "..        ...                       ...   \n",
       "175    Junior  Программист, разработчик   \n",
       "176    Junior  Программист, разработчик   \n",
       "177    Junior  Программист, разработчик   \n",
       "178    Junior  Программист, разработчик   \n",
       "179    Junior  Программист, разработчик   \n",
       "\n",
       "                              description_clean_normal  \n",
       "0    наш команда объединять более специалист офис п...  \n",
       "1    корусый консалтинг один из крупный консалтинго...  \n",
       "2    адв дивизион где создаваться уникальный технол...  \n",
       "3    наш команда объединять более специалист офис п...  \n",
       "4    корусый консалтинг один из крупный консалтинго...  \n",
       "..                                                 ...  \n",
       "175  софтверный компания который уже более год явля...  \n",
       "176  софтверный компания который уже более год явля...  \n",
       "177  софтверный компания который уже более год явля...  \n",
       "178  софтверный компания который уже более год явля...  \n",
       "179  софтверный компания который уже более год явля...  \n",
       "\n",
       "[180 rows x 3 columns]"
      ]
     },
     "execution_count": 560,
     "metadata": {},
     "output_type": "execute_result"
    }
   ],
   "source": [
    "vac_info_new_for_level"
   ]
  },
  {
   "cell_type": "code",
   "execution_count": null,
   "id": "1635a476",
   "metadata": {},
   "outputs": [],
   "source": []
  },
  {
   "cell_type": "code",
   "execution_count": 561,
   "id": "8ed7f4b8",
   "metadata": {},
   "outputs": [
    {
     "data": {
      "text/plain": [
       "array(['Junior'], dtype=object)"
      ]
     },
     "execution_count": 561,
     "metadata": {},
     "output_type": "execute_result"
    }
   ],
   "source": [
    "#уровень вакансий по тексту\n",
    "leveled_vacs = vac_info_new_for_level[vac_info_new_for_level['vac_level'].notnull()].copy()\n",
    "not_leveled_vacs = vac_info_new_for_level[vac_info_new_for_level['vac_level'].isnull()].copy()\n",
    "leveled_vacs['vac_level'].unique()"
   ]
  },
  {
   "cell_type": "code",
   "execution_count": 562,
   "id": "e18f4d56",
   "metadata": {},
   "outputs": [
    {
     "name": "stdout",
     "output_type": "stream",
     "text": [
      "Wall time: 26 ms\n"
     ]
    }
   ],
   "source": [
    "%%time\n",
    "text_norm = text_transformer.fit_transform(leveled_vacs['description_clean_normal'])\n",
    "X_train, X_test, y_train, y_test = train_test_split(text_norm, leveled_vacs['vac_level'], \n",
    "                                                    test_size=0.20, random_state=RANDOM_STATE)"
   ]
  },
  {
   "cell_type": "code",
   "execution_count": 563,
   "id": "2f682a62",
   "metadata": {},
   "outputs": [
    {
     "data": {
      "text/plain": [
       "(120, 482)"
      ]
     },
     "execution_count": 563,
     "metadata": {},
     "output_type": "execute_result"
    }
   ],
   "source": [
    "text_norm.shape"
   ]
  },
  {
   "cell_type": "code",
   "execution_count": 468,
   "id": "22d22a47",
   "metadata": {
    "scrolled": true
   },
   "outputs": [
    {
     "data": {
      "text/html": [
       "<div>\n",
       "<style scoped>\n",
       "    .dataframe tbody tr th:only-of-type {\n",
       "        vertical-align: middle;\n",
       "    }\n",
       "\n",
       "    .dataframe tbody tr th {\n",
       "        vertical-align: top;\n",
       "    }\n",
       "\n",
       "    .dataframe thead th {\n",
       "        text-align: right;\n",
       "    }\n",
       "</style>\n",
       "<table border=\"1\" class=\"dataframe\">\n",
       "  <thead>\n",
       "    <tr style=\"text-align: right;\">\n",
       "      <th></th>\n",
       "      <th>id</th>\n",
       "      <th>name</th>\n",
       "      <th>area</th>\n",
       "      <th>salary</th>\n",
       "      <th>experience</th>\n",
       "      <th>schedule</th>\n",
       "      <th>employment</th>\n",
       "      <th>description</th>\n",
       "      <th>key_skills</th>\n",
       "      <th>professional_roles</th>\n",
       "      <th>published_at</th>\n",
       "      <th>flag</th>\n",
       "      <th>salary_from</th>\n",
       "      <th>salary_to</th>\n",
       "      <th>vac_level</th>\n",
       "      <th>description_clean</th>\n",
       "      <th>description_clean_normal</th>\n",
       "    </tr>\n",
       "  </thead>\n",
       "  <tbody>\n",
       "    <tr>\n",
       "      <th>120</th>\n",
       "      <td>79747379</td>\n",
       "      <td>java script разработчик</td>\n",
       "      <td>Нижний Новгород</td>\n",
       "      <td>{'from': 70000, 'to': 100000, 'currency': 'RUR...</td>\n",
       "      <td>От 1 года до 3 лет</td>\n",
       "      <td>Полный день</td>\n",
       "      <td>Полная занятость</td>\n",
       "      <td>&lt;p&gt;Мы (компания &amp;quot;Микролайн&amp;quot; - www.mi...</td>\n",
       "      <td>[TypeScript, JavaScript, Node.js, Linux, React...</td>\n",
       "      <td>Программист, разработчик</td>\n",
       "      <td>2023-04-30</td>\n",
       "      <td>1</td>\n",
       "      <td>70000.0</td>\n",
       "      <td>100000.0</td>\n",
       "      <td>None</td>\n",
       "      <td>Мы компания Микролайн разрабатываем приложени...</td>\n",
       "      <td>мы компания микролайна разрабатывать приложени...</td>\n",
       "    </tr>\n",
       "    <tr>\n",
       "      <th>121</th>\n",
       "      <td>79833215</td>\n",
       "      <td>qa python engineer (стажер)</td>\n",
       "      <td>Нижний Новгород</td>\n",
       "      <td>None</td>\n",
       "      <td>Нет опыта</td>\n",
       "      <td>Полный день</td>\n",
       "      <td>Стажировка</td>\n",
       "      <td>&lt;p&gt;ШИФТ (Школа Информационных и Финансовых Тех...</td>\n",
       "      <td>[SQL, MS SQL, Тестирование, Теория тестировани...</td>\n",
       "      <td>Тестировщик</td>\n",
       "      <td>2023-04-26</td>\n",
       "      <td>1</td>\n",
       "      <td>NaN</td>\n",
       "      <td>NaN</td>\n",
       "      <td>Junior</td>\n",
       "      <td>ШИФТ Школа Информационных и Финансовых Технол...</td>\n",
       "      <td>шифт школа информационный финансовый технологи...</td>\n",
       "    </tr>\n",
       "    <tr>\n",
       "      <th>122</th>\n",
       "      <td>79747379</td>\n",
       "      <td>java script разработчик</td>\n",
       "      <td>Нижний Новгород</td>\n",
       "      <td>{'from': 70000, 'to': 100000, 'currency': 'RUR...</td>\n",
       "      <td>От 1 года до 3 лет</td>\n",
       "      <td>Полный день</td>\n",
       "      <td>Полная занятость</td>\n",
       "      <td>&lt;p&gt;Мы (компания &amp;quot;Микролайн&amp;quot; - www.mi...</td>\n",
       "      <td>[TypeScript, JavaScript, Node.js, Linux, React...</td>\n",
       "      <td>Программист, разработчик</td>\n",
       "      <td>2023-04-30</td>\n",
       "      <td>1</td>\n",
       "      <td>70000.0</td>\n",
       "      <td>100000.0</td>\n",
       "      <td>None</td>\n",
       "      <td>Мы компания Микролайн разрабатываем приложени...</td>\n",
       "      <td>мы компания микролайна разрабатывать приложени...</td>\n",
       "    </tr>\n",
       "    <tr>\n",
       "      <th>123</th>\n",
       "      <td>79833215</td>\n",
       "      <td>qa python engineer (стажер)</td>\n",
       "      <td>Нижний Новгород</td>\n",
       "      <td>None</td>\n",
       "      <td>Нет опыта</td>\n",
       "      <td>Полный день</td>\n",
       "      <td>Стажировка</td>\n",
       "      <td>&lt;p&gt;ШИФТ (Школа Информационных и Финансовых Тех...</td>\n",
       "      <td>[SQL, MS SQL, Тестирование, Теория тестировани...</td>\n",
       "      <td>Тестировщик</td>\n",
       "      <td>2023-04-26</td>\n",
       "      <td>1</td>\n",
       "      <td>NaN</td>\n",
       "      <td>NaN</td>\n",
       "      <td>Junior</td>\n",
       "      <td>ШИФТ Школа Информационных и Финансовых Технол...</td>\n",
       "      <td>шифт школа информационный финансовый технологи...</td>\n",
       "    </tr>\n",
       "    <tr>\n",
       "      <th>124</th>\n",
       "      <td>79747379</td>\n",
       "      <td>java script разработчик</td>\n",
       "      <td>Нижний Новгород</td>\n",
       "      <td>{'from': 70000, 'to': 100000, 'currency': 'RUR...</td>\n",
       "      <td>От 1 года до 3 лет</td>\n",
       "      <td>Полный день</td>\n",
       "      <td>Полная занятость</td>\n",
       "      <td>&lt;p&gt;Мы (компания &amp;quot;Микролайн&amp;quot; - www.mi...</td>\n",
       "      <td>[TypeScript, JavaScript, Node.js, Linux, React...</td>\n",
       "      <td>Программист, разработчик</td>\n",
       "      <td>2023-04-30</td>\n",
       "      <td>1</td>\n",
       "      <td>70000.0</td>\n",
       "      <td>100000.0</td>\n",
       "      <td>None</td>\n",
       "      <td>Мы компания Микролайн разрабатываем приложени...</td>\n",
       "      <td>мы компания микролайна разрабатывать приложени...</td>\n",
       "    </tr>\n",
       "    <tr>\n",
       "      <th>125</th>\n",
       "      <td>79833215</td>\n",
       "      <td>qa python engineer (стажер)</td>\n",
       "      <td>Нижний Новгород</td>\n",
       "      <td>None</td>\n",
       "      <td>Нет опыта</td>\n",
       "      <td>Полный день</td>\n",
       "      <td>Стажировка</td>\n",
       "      <td>&lt;p&gt;ШИФТ (Школа Информационных и Финансовых Тех...</td>\n",
       "      <td>[SQL, MS SQL, Тестирование, Теория тестировани...</td>\n",
       "      <td>Тестировщик</td>\n",
       "      <td>2023-04-26</td>\n",
       "      <td>1</td>\n",
       "      <td>NaN</td>\n",
       "      <td>NaN</td>\n",
       "      <td>Junior</td>\n",
       "      <td>ШИФТ Школа Информационных и Финансовых Технол...</td>\n",
       "      <td>шифт школа информационный финансовый технологи...</td>\n",
       "    </tr>\n",
       "    <tr>\n",
       "      <th>126</th>\n",
       "      <td>79747379</td>\n",
       "      <td>java script разработчик</td>\n",
       "      <td>Нижний Новгород</td>\n",
       "      <td>{'from': 70000, 'to': 100000, 'currency': 'RUR...</td>\n",
       "      <td>От 1 года до 3 лет</td>\n",
       "      <td>Полный день</td>\n",
       "      <td>Полная занятость</td>\n",
       "      <td>&lt;p&gt;Мы (компания &amp;quot;Микролайн&amp;quot; - www.mi...</td>\n",
       "      <td>[TypeScript, JavaScript, Node.js, Linux, React...</td>\n",
       "      <td>Программист, разработчик</td>\n",
       "      <td>2023-04-30</td>\n",
       "      <td>1</td>\n",
       "      <td>70000.0</td>\n",
       "      <td>100000.0</td>\n",
       "      <td>None</td>\n",
       "      <td>Мы компания Микролайн разрабатываем приложени...</td>\n",
       "      <td>мы компания микролайна разрабатывать приложени...</td>\n",
       "    </tr>\n",
       "    <tr>\n",
       "      <th>127</th>\n",
       "      <td>79833215</td>\n",
       "      <td>qa python engineer (стажер)</td>\n",
       "      <td>Нижний Новгород</td>\n",
       "      <td>None</td>\n",
       "      <td>Нет опыта</td>\n",
       "      <td>Полный день</td>\n",
       "      <td>Стажировка</td>\n",
       "      <td>&lt;p&gt;ШИФТ (Школа Информационных и Финансовых Тех...</td>\n",
       "      <td>[SQL, MS SQL, Тестирование, Теория тестировани...</td>\n",
       "      <td>Тестировщик</td>\n",
       "      <td>2023-04-26</td>\n",
       "      <td>1</td>\n",
       "      <td>NaN</td>\n",
       "      <td>NaN</td>\n",
       "      <td>Junior</td>\n",
       "      <td>ШИФТ Школа Информационных и Финансовых Технол...</td>\n",
       "      <td>шифт школа информационный финансовый технологи...</td>\n",
       "    </tr>\n",
       "    <tr>\n",
       "      <th>128</th>\n",
       "      <td>79747379</td>\n",
       "      <td>java script разработчик</td>\n",
       "      <td>Нижний Новгород</td>\n",
       "      <td>{'from': 70000, 'to': 100000, 'currency': 'RUR...</td>\n",
       "      <td>От 1 года до 3 лет</td>\n",
       "      <td>Полный день</td>\n",
       "      <td>Полная занятость</td>\n",
       "      <td>&lt;p&gt;Мы (компания &amp;quot;Микролайн&amp;quot; - www.mi...</td>\n",
       "      <td>[TypeScript, JavaScript, Node.js, Linux, React...</td>\n",
       "      <td>Программист, разработчик</td>\n",
       "      <td>2023-04-30</td>\n",
       "      <td>1</td>\n",
       "      <td>70000.0</td>\n",
       "      <td>100000.0</td>\n",
       "      <td>None</td>\n",
       "      <td>Мы компания Микролайн разрабатываем приложени...</td>\n",
       "      <td>мы компания микролайна разрабатывать приложени...</td>\n",
       "    </tr>\n",
       "    <tr>\n",
       "      <th>129</th>\n",
       "      <td>79833215</td>\n",
       "      <td>qa python engineer (стажер)</td>\n",
       "      <td>Нижний Новгород</td>\n",
       "      <td>None</td>\n",
       "      <td>Нет опыта</td>\n",
       "      <td>Полный день</td>\n",
       "      <td>Стажировка</td>\n",
       "      <td>&lt;p&gt;ШИФТ (Школа Информационных и Финансовых Тех...</td>\n",
       "      <td>[SQL, MS SQL, Тестирование, Теория тестировани...</td>\n",
       "      <td>Тестировщик</td>\n",
       "      <td>2023-04-26</td>\n",
       "      <td>1</td>\n",
       "      <td>NaN</td>\n",
       "      <td>NaN</td>\n",
       "      <td>Junior</td>\n",
       "      <td>ШИФТ Школа Информационных и Финансовых Технол...</td>\n",
       "      <td>шифт школа информационный финансовый технологи...</td>\n",
       "    </tr>\n",
       "    <tr>\n",
       "      <th>130</th>\n",
       "      <td>79747379</td>\n",
       "      <td>java script разработчик</td>\n",
       "      <td>Нижний Новгород</td>\n",
       "      <td>{'from': 70000, 'to': 100000, 'currency': 'RUR...</td>\n",
       "      <td>От 1 года до 3 лет</td>\n",
       "      <td>Полный день</td>\n",
       "      <td>Полная занятость</td>\n",
       "      <td>&lt;p&gt;Мы (компания &amp;quot;Микролайн&amp;quot; - www.mi...</td>\n",
       "      <td>[TypeScript, JavaScript, Node.js, Linux, React...</td>\n",
       "      <td>Программист, разработчик</td>\n",
       "      <td>2023-04-30</td>\n",
       "      <td>1</td>\n",
       "      <td>70000.0</td>\n",
       "      <td>100000.0</td>\n",
       "      <td>None</td>\n",
       "      <td>Мы компания Микролайн разрабатываем приложени...</td>\n",
       "      <td>мы компания микролайна разрабатывать приложени...</td>\n",
       "    </tr>\n",
       "    <tr>\n",
       "      <th>131</th>\n",
       "      <td>79833215</td>\n",
       "      <td>qa python engineer (стажер)</td>\n",
       "      <td>Нижний Новгород</td>\n",
       "      <td>None</td>\n",
       "      <td>Нет опыта</td>\n",
       "      <td>Полный день</td>\n",
       "      <td>Стажировка</td>\n",
       "      <td>&lt;p&gt;ШИФТ (Школа Информационных и Финансовых Тех...</td>\n",
       "      <td>[SQL, MS SQL, Тестирование, Теория тестировани...</td>\n",
       "      <td>Тестировщик</td>\n",
       "      <td>2023-04-26</td>\n",
       "      <td>1</td>\n",
       "      <td>NaN</td>\n",
       "      <td>NaN</td>\n",
       "      <td>Junior</td>\n",
       "      <td>ШИФТ Школа Информационных и Финансовых Технол...</td>\n",
       "      <td>шифт школа информационный финансовый технологи...</td>\n",
       "    </tr>\n",
       "    <tr>\n",
       "      <th>132</th>\n",
       "      <td>79747379</td>\n",
       "      <td>java script разработчик</td>\n",
       "      <td>Нижний Новгород</td>\n",
       "      <td>{'from': 70000, 'to': 100000, 'currency': 'RUR...</td>\n",
       "      <td>От 1 года до 3 лет</td>\n",
       "      <td>Полный день</td>\n",
       "      <td>Полная занятость</td>\n",
       "      <td>&lt;p&gt;Мы (компания &amp;quot;Микролайн&amp;quot; - www.mi...</td>\n",
       "      <td>[TypeScript, JavaScript, Node.js, Linux, React...</td>\n",
       "      <td>Программист, разработчик</td>\n",
       "      <td>2023-04-30</td>\n",
       "      <td>1</td>\n",
       "      <td>70000.0</td>\n",
       "      <td>100000.0</td>\n",
       "      <td>None</td>\n",
       "      <td>Мы компания Микролайн разрабатываем приложени...</td>\n",
       "      <td>мы компания микролайна разрабатывать приложени...</td>\n",
       "    </tr>\n",
       "    <tr>\n",
       "      <th>133</th>\n",
       "      <td>79833215</td>\n",
       "      <td>qa python engineer (стажер)</td>\n",
       "      <td>Нижний Новгород</td>\n",
       "      <td>None</td>\n",
       "      <td>Нет опыта</td>\n",
       "      <td>Полный день</td>\n",
       "      <td>Стажировка</td>\n",
       "      <td>&lt;p&gt;ШИФТ (Школа Информационных и Финансовых Тех...</td>\n",
       "      <td>[SQL, MS SQL, Тестирование, Теория тестировани...</td>\n",
       "      <td>Тестировщик</td>\n",
       "      <td>2023-04-26</td>\n",
       "      <td>1</td>\n",
       "      <td>NaN</td>\n",
       "      <td>NaN</td>\n",
       "      <td>Junior</td>\n",
       "      <td>ШИФТ Школа Информационных и Финансовых Технол...</td>\n",
       "      <td>шифт школа информационный финансовый технологи...</td>\n",
       "    </tr>\n",
       "    <tr>\n",
       "      <th>134</th>\n",
       "      <td>79747379</td>\n",
       "      <td>java script разработчик</td>\n",
       "      <td>Нижний Новгород</td>\n",
       "      <td>{'from': 70000, 'to': 100000, 'currency': 'RUR...</td>\n",
       "      <td>От 1 года до 3 лет</td>\n",
       "      <td>Полный день</td>\n",
       "      <td>Полная занятость</td>\n",
       "      <td>&lt;p&gt;Мы (компания &amp;quot;Микролайн&amp;quot; - www.mi...</td>\n",
       "      <td>[TypeScript, JavaScript, Node.js, Linux, React...</td>\n",
       "      <td>Программист, разработчик</td>\n",
       "      <td>2023-04-30</td>\n",
       "      <td>1</td>\n",
       "      <td>70000.0</td>\n",
       "      <td>100000.0</td>\n",
       "      <td>None</td>\n",
       "      <td>Мы компания Микролайн разрабатываем приложени...</td>\n",
       "      <td>мы компания микролайна разрабатывать приложени...</td>\n",
       "    </tr>\n",
       "    <tr>\n",
       "      <th>135</th>\n",
       "      <td>79833215</td>\n",
       "      <td>qa python engineer (стажер)</td>\n",
       "      <td>Нижний Новгород</td>\n",
       "      <td>None</td>\n",
       "      <td>Нет опыта</td>\n",
       "      <td>Полный день</td>\n",
       "      <td>Стажировка</td>\n",
       "      <td>&lt;p&gt;ШИФТ (Школа Информационных и Финансовых Тех...</td>\n",
       "      <td>[SQL, MS SQL, Тестирование, Теория тестировани...</td>\n",
       "      <td>Тестировщик</td>\n",
       "      <td>2023-04-26</td>\n",
       "      <td>1</td>\n",
       "      <td>NaN</td>\n",
       "      <td>NaN</td>\n",
       "      <td>Junior</td>\n",
       "      <td>ШИФТ Школа Информационных и Финансовых Технол...</td>\n",
       "      <td>шифт школа информационный финансовый технологи...</td>\n",
       "    </tr>\n",
       "    <tr>\n",
       "      <th>136</th>\n",
       "      <td>79747379</td>\n",
       "      <td>java script разработчик</td>\n",
       "      <td>Нижний Новгород</td>\n",
       "      <td>{'from': 70000, 'to': 100000, 'currency': 'RUR...</td>\n",
       "      <td>От 1 года до 3 лет</td>\n",
       "      <td>Полный день</td>\n",
       "      <td>Полная занятость</td>\n",
       "      <td>&lt;p&gt;Мы (компания &amp;quot;Микролайн&amp;quot; - www.mi...</td>\n",
       "      <td>[TypeScript, JavaScript, Node.js, Linux, React...</td>\n",
       "      <td>Программист, разработчик</td>\n",
       "      <td>2023-04-30</td>\n",
       "      <td>1</td>\n",
       "      <td>70000.0</td>\n",
       "      <td>100000.0</td>\n",
       "      <td>None</td>\n",
       "      <td>Мы компания Микролайн разрабатываем приложени...</td>\n",
       "      <td>мы компания микролайна разрабатывать приложени...</td>\n",
       "    </tr>\n",
       "    <tr>\n",
       "      <th>137</th>\n",
       "      <td>79833215</td>\n",
       "      <td>qa python engineer (стажер)</td>\n",
       "      <td>Нижний Новгород</td>\n",
       "      <td>None</td>\n",
       "      <td>Нет опыта</td>\n",
       "      <td>Полный день</td>\n",
       "      <td>Стажировка</td>\n",
       "      <td>&lt;p&gt;ШИФТ (Школа Информационных и Финансовых Тех...</td>\n",
       "      <td>[SQL, MS SQL, Тестирование, Теория тестировани...</td>\n",
       "      <td>Тестировщик</td>\n",
       "      <td>2023-04-26</td>\n",
       "      <td>1</td>\n",
       "      <td>NaN</td>\n",
       "      <td>NaN</td>\n",
       "      <td>Junior</td>\n",
       "      <td>ШИФТ Школа Информационных и Финансовых Технол...</td>\n",
       "      <td>шифт школа информационный финансовый технологи...</td>\n",
       "    </tr>\n",
       "    <tr>\n",
       "      <th>138</th>\n",
       "      <td>79747379</td>\n",
       "      <td>java script разработчик</td>\n",
       "      <td>Нижний Новгород</td>\n",
       "      <td>{'from': 70000, 'to': 100000, 'currency': 'RUR...</td>\n",
       "      <td>От 1 года до 3 лет</td>\n",
       "      <td>Полный день</td>\n",
       "      <td>Полная занятость</td>\n",
       "      <td>&lt;p&gt;Мы (компания &amp;quot;Микролайн&amp;quot; - www.mi...</td>\n",
       "      <td>[TypeScript, JavaScript, Node.js, Linux, React...</td>\n",
       "      <td>Программист, разработчик</td>\n",
       "      <td>2023-04-30</td>\n",
       "      <td>1</td>\n",
       "      <td>70000.0</td>\n",
       "      <td>100000.0</td>\n",
       "      <td>None</td>\n",
       "      <td>Мы компания Микролайн разрабатываем приложени...</td>\n",
       "      <td>мы компания микролайна разрабатывать приложени...</td>\n",
       "    </tr>\n",
       "    <tr>\n",
       "      <th>139</th>\n",
       "      <td>79833215</td>\n",
       "      <td>qa python engineer (стажер)</td>\n",
       "      <td>Нижний Новгород</td>\n",
       "      <td>None</td>\n",
       "      <td>Нет опыта</td>\n",
       "      <td>Полный день</td>\n",
       "      <td>Стажировка</td>\n",
       "      <td>&lt;p&gt;ШИФТ (Школа Информационных и Финансовых Тех...</td>\n",
       "      <td>[SQL, MS SQL, Тестирование, Теория тестировани...</td>\n",
       "      <td>Тестировщик</td>\n",
       "      <td>2023-04-26</td>\n",
       "      <td>1</td>\n",
       "      <td>NaN</td>\n",
       "      <td>NaN</td>\n",
       "      <td>Junior</td>\n",
       "      <td>ШИФТ Школа Информационных и Финансовых Технол...</td>\n",
       "      <td>шифт школа информационный финансовый технологи...</td>\n",
       "    </tr>\n",
       "    <tr>\n",
       "      <th>140</th>\n",
       "      <td>79747379</td>\n",
       "      <td>java script разработчик</td>\n",
       "      <td>Нижний Новгород</td>\n",
       "      <td>{'from': 70000, 'to': 100000, 'currency': 'RUR...</td>\n",
       "      <td>От 1 года до 3 лет</td>\n",
       "      <td>Полный день</td>\n",
       "      <td>Полная занятость</td>\n",
       "      <td>&lt;p&gt;Мы (компания &amp;quot;Микролайн&amp;quot; - www.mi...</td>\n",
       "      <td>[TypeScript, JavaScript, Node.js, Linux, React...</td>\n",
       "      <td>Программист, разработчик</td>\n",
       "      <td>2023-04-30</td>\n",
       "      <td>1</td>\n",
       "      <td>70000.0</td>\n",
       "      <td>100000.0</td>\n",
       "      <td>None</td>\n",
       "      <td>Мы компания Микролайн разрабатываем приложени...</td>\n",
       "      <td>мы компания микролайна разрабатывать приложени...</td>\n",
       "    </tr>\n",
       "    <tr>\n",
       "      <th>141</th>\n",
       "      <td>79833215</td>\n",
       "      <td>qa python engineer (стажер)</td>\n",
       "      <td>Нижний Новгород</td>\n",
       "      <td>None</td>\n",
       "      <td>Нет опыта</td>\n",
       "      <td>Полный день</td>\n",
       "      <td>Стажировка</td>\n",
       "      <td>&lt;p&gt;ШИФТ (Школа Информационных и Финансовых Тех...</td>\n",
       "      <td>[SQL, MS SQL, Тестирование, Теория тестировани...</td>\n",
       "      <td>Тестировщик</td>\n",
       "      <td>2023-04-26</td>\n",
       "      <td>1</td>\n",
       "      <td>NaN</td>\n",
       "      <td>NaN</td>\n",
       "      <td>Junior</td>\n",
       "      <td>ШИФТ Школа Информационных и Финансовых Технол...</td>\n",
       "      <td>шифт школа информационный финансовый технологи...</td>\n",
       "    </tr>\n",
       "    <tr>\n",
       "      <th>142</th>\n",
       "      <td>79747379</td>\n",
       "      <td>java script разработчик</td>\n",
       "      <td>Нижний Новгород</td>\n",
       "      <td>{'from': 70000, 'to': 100000, 'currency': 'RUR...</td>\n",
       "      <td>От 1 года до 3 лет</td>\n",
       "      <td>Полный день</td>\n",
       "      <td>Полная занятость</td>\n",
       "      <td>&lt;p&gt;Мы (компания &amp;quot;Микролайн&amp;quot; - www.mi...</td>\n",
       "      <td>[TypeScript, JavaScript, Node.js, Linux, React...</td>\n",
       "      <td>Программист, разработчик</td>\n",
       "      <td>2023-04-30</td>\n",
       "      <td>1</td>\n",
       "      <td>70000.0</td>\n",
       "      <td>100000.0</td>\n",
       "      <td>None</td>\n",
       "      <td>Мы компания Микролайн разрабатываем приложени...</td>\n",
       "      <td>мы компания микролайна разрабатывать приложени...</td>\n",
       "    </tr>\n",
       "    <tr>\n",
       "      <th>143</th>\n",
       "      <td>79833215</td>\n",
       "      <td>qa python engineer (стажер)</td>\n",
       "      <td>Нижний Новгород</td>\n",
       "      <td>None</td>\n",
       "      <td>Нет опыта</td>\n",
       "      <td>Полный день</td>\n",
       "      <td>Стажировка</td>\n",
       "      <td>&lt;p&gt;ШИФТ (Школа Информационных и Финансовых Тех...</td>\n",
       "      <td>[SQL, MS SQL, Тестирование, Теория тестировани...</td>\n",
       "      <td>Тестировщик</td>\n",
       "      <td>2023-04-26</td>\n",
       "      <td>1</td>\n",
       "      <td>NaN</td>\n",
       "      <td>NaN</td>\n",
       "      <td>Junior</td>\n",
       "      <td>ШИФТ Школа Информационных и Финансовых Технол...</td>\n",
       "      <td>шифт школа информационный финансовый технологи...</td>\n",
       "    </tr>\n",
       "    <tr>\n",
       "      <th>144</th>\n",
       "      <td>79747379</td>\n",
       "      <td>java script разработчик</td>\n",
       "      <td>Нижний Новгород</td>\n",
       "      <td>{'from': 70000, 'to': 100000, 'currency': 'RUR...</td>\n",
       "      <td>От 1 года до 3 лет</td>\n",
       "      <td>Полный день</td>\n",
       "      <td>Полная занятость</td>\n",
       "      <td>&lt;p&gt;Мы (компания &amp;quot;Микролайн&amp;quot; - www.mi...</td>\n",
       "      <td>[TypeScript, JavaScript, Node.js, Linux, React...</td>\n",
       "      <td>Программист, разработчик</td>\n",
       "      <td>2023-04-30</td>\n",
       "      <td>1</td>\n",
       "      <td>70000.0</td>\n",
       "      <td>100000.0</td>\n",
       "      <td>None</td>\n",
       "      <td>Мы компания Микролайн разрабатываем приложени...</td>\n",
       "      <td>мы компания микролайна разрабатывать приложени...</td>\n",
       "    </tr>\n",
       "    <tr>\n",
       "      <th>145</th>\n",
       "      <td>79833215</td>\n",
       "      <td>qa python engineer (стажер)</td>\n",
       "      <td>Нижний Новгород</td>\n",
       "      <td>None</td>\n",
       "      <td>Нет опыта</td>\n",
       "      <td>Полный день</td>\n",
       "      <td>Стажировка</td>\n",
       "      <td>&lt;p&gt;ШИФТ (Школа Информационных и Финансовых Тех...</td>\n",
       "      <td>[SQL, MS SQL, Тестирование, Теория тестировани...</td>\n",
       "      <td>Тестировщик</td>\n",
       "      <td>2023-04-26</td>\n",
       "      <td>1</td>\n",
       "      <td>NaN</td>\n",
       "      <td>NaN</td>\n",
       "      <td>Junior</td>\n",
       "      <td>ШИФТ Школа Информационных и Финансовых Технол...</td>\n",
       "      <td>шифт школа информационный финансовый технологи...</td>\n",
       "    </tr>\n",
       "    <tr>\n",
       "      <th>146</th>\n",
       "      <td>79747379</td>\n",
       "      <td>java script разработчик</td>\n",
       "      <td>Нижний Новгород</td>\n",
       "      <td>{'from': 70000, 'to': 100000, 'currency': 'RUR...</td>\n",
       "      <td>От 1 года до 3 лет</td>\n",
       "      <td>Полный день</td>\n",
       "      <td>Полная занятость</td>\n",
       "      <td>&lt;p&gt;Мы (компания &amp;quot;Микролайн&amp;quot; - www.mi...</td>\n",
       "      <td>[TypeScript, JavaScript, Node.js, Linux, React...</td>\n",
       "      <td>Программист, разработчик</td>\n",
       "      <td>2023-04-30</td>\n",
       "      <td>1</td>\n",
       "      <td>70000.0</td>\n",
       "      <td>100000.0</td>\n",
       "      <td>None</td>\n",
       "      <td>Мы компания Микролайн разрабатываем приложени...</td>\n",
       "      <td>мы компания микролайна разрабатывать приложени...</td>\n",
       "    </tr>\n",
       "    <tr>\n",
       "      <th>147</th>\n",
       "      <td>79833215</td>\n",
       "      <td>qa python engineer (стажер)</td>\n",
       "      <td>Нижний Новгород</td>\n",
       "      <td>None</td>\n",
       "      <td>Нет опыта</td>\n",
       "      <td>Полный день</td>\n",
       "      <td>Стажировка</td>\n",
       "      <td>&lt;p&gt;ШИФТ (Школа Информационных и Финансовых Тех...</td>\n",
       "      <td>[SQL, MS SQL, Тестирование, Теория тестировани...</td>\n",
       "      <td>Тестировщик</td>\n",
       "      <td>2023-04-26</td>\n",
       "      <td>1</td>\n",
       "      <td>NaN</td>\n",
       "      <td>NaN</td>\n",
       "      <td>Junior</td>\n",
       "      <td>ШИФТ Школа Информационных и Финансовых Технол...</td>\n",
       "      <td>шифт школа информационный финансовый технологи...</td>\n",
       "    </tr>\n",
       "    <tr>\n",
       "      <th>148</th>\n",
       "      <td>79747379</td>\n",
       "      <td>java script разработчик</td>\n",
       "      <td>Нижний Новгород</td>\n",
       "      <td>{'from': 70000, 'to': 100000, 'currency': 'RUR...</td>\n",
       "      <td>От 1 года до 3 лет</td>\n",
       "      <td>Полный день</td>\n",
       "      <td>Полная занятость</td>\n",
       "      <td>&lt;p&gt;Мы (компания &amp;quot;Микролайн&amp;quot; - www.mi...</td>\n",
       "      <td>[TypeScript, JavaScript, Node.js, Linux, React...</td>\n",
       "      <td>Программист, разработчик</td>\n",
       "      <td>2023-04-30</td>\n",
       "      <td>1</td>\n",
       "      <td>70000.0</td>\n",
       "      <td>100000.0</td>\n",
       "      <td>None</td>\n",
       "      <td>Мы компания Микролайн разрабатываем приложени...</td>\n",
       "      <td>мы компания микролайна разрабатывать приложени...</td>\n",
       "    </tr>\n",
       "    <tr>\n",
       "      <th>149</th>\n",
       "      <td>79833215</td>\n",
       "      <td>qa python engineer (стажер)</td>\n",
       "      <td>Нижний Новгород</td>\n",
       "      <td>None</td>\n",
       "      <td>Нет опыта</td>\n",
       "      <td>Полный день</td>\n",
       "      <td>Стажировка</td>\n",
       "      <td>&lt;p&gt;ШИФТ (Школа Информационных и Финансовых Тех...</td>\n",
       "      <td>[SQL, MS SQL, Тестирование, Теория тестировани...</td>\n",
       "      <td>Тестировщик</td>\n",
       "      <td>2023-04-26</td>\n",
       "      <td>1</td>\n",
       "      <td>NaN</td>\n",
       "      <td>NaN</td>\n",
       "      <td>Junior</td>\n",
       "      <td>ШИФТ Школа Информационных и Финансовых Технол...</td>\n",
       "      <td>шифт школа информационный финансовый технологи...</td>\n",
       "    </tr>\n",
       "    <tr>\n",
       "      <th>150</th>\n",
       "      <td>79747379</td>\n",
       "      <td>java script разработчик</td>\n",
       "      <td>Нижний Новгород</td>\n",
       "      <td>{'from': 70000, 'to': 100000, 'currency': 'RUR...</td>\n",
       "      <td>От 1 года до 3 лет</td>\n",
       "      <td>Полный день</td>\n",
       "      <td>Полная занятость</td>\n",
       "      <td>&lt;p&gt;Мы (компания &amp;quot;Микролайн&amp;quot; - www.mi...</td>\n",
       "      <td>[TypeScript, JavaScript, Node.js, Linux, React...</td>\n",
       "      <td>Программист, разработчик</td>\n",
       "      <td>2023-04-30</td>\n",
       "      <td>1</td>\n",
       "      <td>70000.0</td>\n",
       "      <td>100000.0</td>\n",
       "      <td>None</td>\n",
       "      <td>Мы компания Микролайн разрабатываем приложени...</td>\n",
       "      <td>мы компания микролайна разрабатывать приложени...</td>\n",
       "    </tr>\n",
       "    <tr>\n",
       "      <th>151</th>\n",
       "      <td>79833215</td>\n",
       "      <td>qa python engineer (стажер)</td>\n",
       "      <td>Нижний Новгород</td>\n",
       "      <td>None</td>\n",
       "      <td>Нет опыта</td>\n",
       "      <td>Полный день</td>\n",
       "      <td>Стажировка</td>\n",
       "      <td>&lt;p&gt;ШИФТ (Школа Информационных и Финансовых Тех...</td>\n",
       "      <td>[SQL, MS SQL, Тестирование, Теория тестировани...</td>\n",
       "      <td>Тестировщик</td>\n",
       "      <td>2023-04-26</td>\n",
       "      <td>1</td>\n",
       "      <td>NaN</td>\n",
       "      <td>NaN</td>\n",
       "      <td>Junior</td>\n",
       "      <td>ШИФТ Школа Информационных и Финансовых Технол...</td>\n",
       "      <td>шифт школа информационный финансовый технологи...</td>\n",
       "    </tr>\n",
       "    <tr>\n",
       "      <th>152</th>\n",
       "      <td>79747379</td>\n",
       "      <td>java script разработчик</td>\n",
       "      <td>Нижний Новгород</td>\n",
       "      <td>{'from': 70000, 'to': 100000, 'currency': 'RUR...</td>\n",
       "      <td>От 1 года до 3 лет</td>\n",
       "      <td>Полный день</td>\n",
       "      <td>Полная занятость</td>\n",
       "      <td>&lt;p&gt;Мы (компания &amp;quot;Микролайн&amp;quot; - www.mi...</td>\n",
       "      <td>[TypeScript, JavaScript, Node.js, Linux, React...</td>\n",
       "      <td>Программист, разработчик</td>\n",
       "      <td>2023-04-30</td>\n",
       "      <td>1</td>\n",
       "      <td>70000.0</td>\n",
       "      <td>100000.0</td>\n",
       "      <td>None</td>\n",
       "      <td>Мы компания Микролайн разрабатываем приложени...</td>\n",
       "      <td>мы компания микролайна разрабатывать приложени...</td>\n",
       "    </tr>\n",
       "    <tr>\n",
       "      <th>153</th>\n",
       "      <td>79833215</td>\n",
       "      <td>qa python engineer (стажер)</td>\n",
       "      <td>Нижний Новгород</td>\n",
       "      <td>None</td>\n",
       "      <td>Нет опыта</td>\n",
       "      <td>Полный день</td>\n",
       "      <td>Стажировка</td>\n",
       "      <td>&lt;p&gt;ШИФТ (Школа Информационных и Финансовых Тех...</td>\n",
       "      <td>[SQL, MS SQL, Тестирование, Теория тестировани...</td>\n",
       "      <td>Тестировщик</td>\n",
       "      <td>2023-04-26</td>\n",
       "      <td>1</td>\n",
       "      <td>NaN</td>\n",
       "      <td>NaN</td>\n",
       "      <td>Junior</td>\n",
       "      <td>ШИФТ Школа Информационных и Финансовых Технол...</td>\n",
       "      <td>шифт школа информационный финансовый технологи...</td>\n",
       "    </tr>\n",
       "    <tr>\n",
       "      <th>154</th>\n",
       "      <td>79747379</td>\n",
       "      <td>java script разработчик</td>\n",
       "      <td>Нижний Новгород</td>\n",
       "      <td>{'from': 70000, 'to': 100000, 'currency': 'RUR...</td>\n",
       "      <td>От 1 года до 3 лет</td>\n",
       "      <td>Полный день</td>\n",
       "      <td>Полная занятость</td>\n",
       "      <td>&lt;p&gt;Мы (компания &amp;quot;Микролайн&amp;quot; - www.mi...</td>\n",
       "      <td>[TypeScript, JavaScript, Node.js, Linux, React...</td>\n",
       "      <td>Программист, разработчик</td>\n",
       "      <td>2023-04-30</td>\n",
       "      <td>1</td>\n",
       "      <td>70000.0</td>\n",
       "      <td>100000.0</td>\n",
       "      <td>None</td>\n",
       "      <td>Мы компания Микролайн разрабатываем приложени...</td>\n",
       "      <td>мы компания микролайна разрабатывать приложени...</td>\n",
       "    </tr>\n",
       "    <tr>\n",
       "      <th>155</th>\n",
       "      <td>79833215</td>\n",
       "      <td>qa python engineer (стажер)</td>\n",
       "      <td>Нижний Новгород</td>\n",
       "      <td>None</td>\n",
       "      <td>Нет опыта</td>\n",
       "      <td>Полный день</td>\n",
       "      <td>Стажировка</td>\n",
       "      <td>&lt;p&gt;ШИФТ (Школа Информационных и Финансовых Тех...</td>\n",
       "      <td>[SQL, MS SQL, Тестирование, Теория тестировани...</td>\n",
       "      <td>Тестировщик</td>\n",
       "      <td>2023-04-26</td>\n",
       "      <td>1</td>\n",
       "      <td>NaN</td>\n",
       "      <td>NaN</td>\n",
       "      <td>Junior</td>\n",
       "      <td>ШИФТ Школа Информационных и Финансовых Технол...</td>\n",
       "      <td>шифт школа информационный финансовый технологи...</td>\n",
       "    </tr>\n",
       "    <tr>\n",
       "      <th>156</th>\n",
       "      <td>79747379</td>\n",
       "      <td>java script разработчик</td>\n",
       "      <td>Нижний Новгород</td>\n",
       "      <td>{'from': 70000, 'to': 100000, 'currency': 'RUR...</td>\n",
       "      <td>От 1 года до 3 лет</td>\n",
       "      <td>Полный день</td>\n",
       "      <td>Полная занятость</td>\n",
       "      <td>&lt;p&gt;Мы (компания &amp;quot;Микролайн&amp;quot; - www.mi...</td>\n",
       "      <td>[TypeScript, JavaScript, Node.js, Linux, React...</td>\n",
       "      <td>Программист, разработчик</td>\n",
       "      <td>2023-04-30</td>\n",
       "      <td>1</td>\n",
       "      <td>70000.0</td>\n",
       "      <td>100000.0</td>\n",
       "      <td>None</td>\n",
       "      <td>Мы компания Микролайн разрабатываем приложени...</td>\n",
       "      <td>мы компания микролайна разрабатывать приложени...</td>\n",
       "    </tr>\n",
       "    <tr>\n",
       "      <th>157</th>\n",
       "      <td>79833215</td>\n",
       "      <td>qa python engineer (стажер)</td>\n",
       "      <td>Нижний Новгород</td>\n",
       "      <td>None</td>\n",
       "      <td>Нет опыта</td>\n",
       "      <td>Полный день</td>\n",
       "      <td>Стажировка</td>\n",
       "      <td>&lt;p&gt;ШИФТ (Школа Информационных и Финансовых Тех...</td>\n",
       "      <td>[SQL, MS SQL, Тестирование, Теория тестировани...</td>\n",
       "      <td>Тестировщик</td>\n",
       "      <td>2023-04-26</td>\n",
       "      <td>1</td>\n",
       "      <td>NaN</td>\n",
       "      <td>NaN</td>\n",
       "      <td>Junior</td>\n",
       "      <td>ШИФТ Школа Информационных и Финансовых Технол...</td>\n",
       "      <td>шифт школа информационный финансовый технологи...</td>\n",
       "    </tr>\n",
       "    <tr>\n",
       "      <th>158</th>\n",
       "      <td>79747379</td>\n",
       "      <td>java script разработчик</td>\n",
       "      <td>Нижний Новгород</td>\n",
       "      <td>{'from': 70000, 'to': 100000, 'currency': 'RUR...</td>\n",
       "      <td>От 1 года до 3 лет</td>\n",
       "      <td>Полный день</td>\n",
       "      <td>Полная занятость</td>\n",
       "      <td>&lt;p&gt;Мы (компания &amp;quot;Микролайн&amp;quot; - www.mi...</td>\n",
       "      <td>[TypeScript, JavaScript, Node.js, Linux, React...</td>\n",
       "      <td>Программист, разработчик</td>\n",
       "      <td>2023-04-30</td>\n",
       "      <td>1</td>\n",
       "      <td>70000.0</td>\n",
       "      <td>100000.0</td>\n",
       "      <td>None</td>\n",
       "      <td>Мы компания Микролайн разрабатываем приложени...</td>\n",
       "      <td>мы компания микролайна разрабатывать приложени...</td>\n",
       "    </tr>\n",
       "    <tr>\n",
       "      <th>159</th>\n",
       "      <td>79833215</td>\n",
       "      <td>qa python engineer (стажер)</td>\n",
       "      <td>Нижний Новгород</td>\n",
       "      <td>None</td>\n",
       "      <td>Нет опыта</td>\n",
       "      <td>Полный день</td>\n",
       "      <td>Стажировка</td>\n",
       "      <td>&lt;p&gt;ШИФТ (Школа Информационных и Финансовых Тех...</td>\n",
       "      <td>[SQL, MS SQL, Тестирование, Теория тестировани...</td>\n",
       "      <td>Тестировщик</td>\n",
       "      <td>2023-04-26</td>\n",
       "      <td>1</td>\n",
       "      <td>NaN</td>\n",
       "      <td>NaN</td>\n",
       "      <td>Junior</td>\n",
       "      <td>ШИФТ Школа Информационных и Финансовых Технол...</td>\n",
       "      <td>шифт школа информационный финансовый технологи...</td>\n",
       "    </tr>\n",
       "    <tr>\n",
       "      <th>160</th>\n",
       "      <td>78983973</td>\n",
       "      <td>java developer (junior)</td>\n",
       "      <td>Самара</td>\n",
       "      <td>None</td>\n",
       "      <td>Нет опыта</td>\n",
       "      <td>Полный день</td>\n",
       "      <td>Полная занятость</td>\n",
       "      <td>&lt;p&gt;&lt;em&gt;&lt;strong&gt;Magenta&lt;/strong&gt; — софтверная I...</td>\n",
       "      <td>[Java, SQL, ООП, JavaScript, HTML]</td>\n",
       "      <td>Программист, разработчик</td>\n",
       "      <td>2023-04-06</td>\n",
       "      <td>1</td>\n",
       "      <td>NaN</td>\n",
       "      <td>NaN</td>\n",
       "      <td>Junior</td>\n",
       "      <td>софтверная компания которая уже более лет явл...</td>\n",
       "      <td>софтверный компания который уже более год явля...</td>\n",
       "    </tr>\n",
       "    <tr>\n",
       "      <th>161</th>\n",
       "      <td>78983973</td>\n",
       "      <td>java developer (junior)</td>\n",
       "      <td>Самара</td>\n",
       "      <td>None</td>\n",
       "      <td>Нет опыта</td>\n",
       "      <td>Полный день</td>\n",
       "      <td>Полная занятость</td>\n",
       "      <td>&lt;p&gt;&lt;em&gt;&lt;strong&gt;Magenta&lt;/strong&gt; — софтверная I...</td>\n",
       "      <td>[Java, SQL, ООП, JavaScript, HTML]</td>\n",
       "      <td>Программист, разработчик</td>\n",
       "      <td>2023-04-06</td>\n",
       "      <td>1</td>\n",
       "      <td>NaN</td>\n",
       "      <td>NaN</td>\n",
       "      <td>Junior</td>\n",
       "      <td>софтверная компания которая уже более лет явл...</td>\n",
       "      <td>софтверный компания который уже более год явля...</td>\n",
       "    </tr>\n",
       "    <tr>\n",
       "      <th>162</th>\n",
       "      <td>78983973</td>\n",
       "      <td>java developer (junior)</td>\n",
       "      <td>Самара</td>\n",
       "      <td>None</td>\n",
       "      <td>Нет опыта</td>\n",
       "      <td>Полный день</td>\n",
       "      <td>Полная занятость</td>\n",
       "      <td>&lt;p&gt;&lt;em&gt;&lt;strong&gt;Magenta&lt;/strong&gt; — софтверная I...</td>\n",
       "      <td>[Java, SQL, ООП, JavaScript, HTML]</td>\n",
       "      <td>Программист, разработчик</td>\n",
       "      <td>2023-04-06</td>\n",
       "      <td>1</td>\n",
       "      <td>NaN</td>\n",
       "      <td>NaN</td>\n",
       "      <td>Junior</td>\n",
       "      <td>софтверная компания которая уже более лет явл...</td>\n",
       "      <td>софтверный компания который уже более год явля...</td>\n",
       "    </tr>\n",
       "    <tr>\n",
       "      <th>163</th>\n",
       "      <td>78983973</td>\n",
       "      <td>java developer (junior)</td>\n",
       "      <td>Самара</td>\n",
       "      <td>None</td>\n",
       "      <td>Нет опыта</td>\n",
       "      <td>Полный день</td>\n",
       "      <td>Полная занятость</td>\n",
       "      <td>&lt;p&gt;&lt;em&gt;&lt;strong&gt;Magenta&lt;/strong&gt; — софтверная I...</td>\n",
       "      <td>[Java, SQL, ООП, JavaScript, HTML]</td>\n",
       "      <td>Программист, разработчик</td>\n",
       "      <td>2023-04-06</td>\n",
       "      <td>1</td>\n",
       "      <td>NaN</td>\n",
       "      <td>NaN</td>\n",
       "      <td>Junior</td>\n",
       "      <td>софтверная компания которая уже более лет явл...</td>\n",
       "      <td>софтверный компания который уже более год явля...</td>\n",
       "    </tr>\n",
       "    <tr>\n",
       "      <th>164</th>\n",
       "      <td>78983973</td>\n",
       "      <td>java developer (junior)</td>\n",
       "      <td>Самара</td>\n",
       "      <td>None</td>\n",
       "      <td>Нет опыта</td>\n",
       "      <td>Полный день</td>\n",
       "      <td>Полная занятость</td>\n",
       "      <td>&lt;p&gt;&lt;em&gt;&lt;strong&gt;Magenta&lt;/strong&gt; — софтверная I...</td>\n",
       "      <td>[Java, SQL, ООП, JavaScript, HTML]</td>\n",
       "      <td>Программист, разработчик</td>\n",
       "      <td>2023-04-06</td>\n",
       "      <td>1</td>\n",
       "      <td>NaN</td>\n",
       "      <td>NaN</td>\n",
       "      <td>Junior</td>\n",
       "      <td>софтверная компания которая уже более лет явл...</td>\n",
       "      <td>софтверный компания который уже более год явля...</td>\n",
       "    </tr>\n",
       "    <tr>\n",
       "      <th>165</th>\n",
       "      <td>78983973</td>\n",
       "      <td>java developer (junior)</td>\n",
       "      <td>Самара</td>\n",
       "      <td>None</td>\n",
       "      <td>Нет опыта</td>\n",
       "      <td>Полный день</td>\n",
       "      <td>Полная занятость</td>\n",
       "      <td>&lt;p&gt;&lt;em&gt;&lt;strong&gt;Magenta&lt;/strong&gt; — софтверная I...</td>\n",
       "      <td>[Java, SQL, ООП, JavaScript, HTML]</td>\n",
       "      <td>Программист, разработчик</td>\n",
       "      <td>2023-04-06</td>\n",
       "      <td>1</td>\n",
       "      <td>NaN</td>\n",
       "      <td>NaN</td>\n",
       "      <td>Junior</td>\n",
       "      <td>софтверная компания которая уже более лет явл...</td>\n",
       "      <td>софтверный компания который уже более год явля...</td>\n",
       "    </tr>\n",
       "    <tr>\n",
       "      <th>166</th>\n",
       "      <td>78983973</td>\n",
       "      <td>java developer (junior)</td>\n",
       "      <td>Самара</td>\n",
       "      <td>None</td>\n",
       "      <td>Нет опыта</td>\n",
       "      <td>Полный день</td>\n",
       "      <td>Полная занятость</td>\n",
       "      <td>&lt;p&gt;&lt;em&gt;&lt;strong&gt;Magenta&lt;/strong&gt; — софтверная I...</td>\n",
       "      <td>[Java, SQL, ООП, JavaScript, HTML]</td>\n",
       "      <td>Программист, разработчик</td>\n",
       "      <td>2023-04-06</td>\n",
       "      <td>1</td>\n",
       "      <td>NaN</td>\n",
       "      <td>NaN</td>\n",
       "      <td>Junior</td>\n",
       "      <td>софтверная компания которая уже более лет явл...</td>\n",
       "      <td>софтверный компания который уже более год явля...</td>\n",
       "    </tr>\n",
       "    <tr>\n",
       "      <th>167</th>\n",
       "      <td>78983973</td>\n",
       "      <td>java developer (junior)</td>\n",
       "      <td>Самара</td>\n",
       "      <td>None</td>\n",
       "      <td>Нет опыта</td>\n",
       "      <td>Полный день</td>\n",
       "      <td>Полная занятость</td>\n",
       "      <td>&lt;p&gt;&lt;em&gt;&lt;strong&gt;Magenta&lt;/strong&gt; — софтверная I...</td>\n",
       "      <td>[Java, SQL, ООП, JavaScript, HTML]</td>\n",
       "      <td>Программист, разработчик</td>\n",
       "      <td>2023-04-06</td>\n",
       "      <td>1</td>\n",
       "      <td>NaN</td>\n",
       "      <td>NaN</td>\n",
       "      <td>Junior</td>\n",
       "      <td>софтверная компания которая уже более лет явл...</td>\n",
       "      <td>софтверный компания который уже более год явля...</td>\n",
       "    </tr>\n",
       "    <tr>\n",
       "      <th>168</th>\n",
       "      <td>78983973</td>\n",
       "      <td>java developer (junior)</td>\n",
       "      <td>Самара</td>\n",
       "      <td>None</td>\n",
       "      <td>Нет опыта</td>\n",
       "      <td>Полный день</td>\n",
       "      <td>Полная занятость</td>\n",
       "      <td>&lt;p&gt;&lt;em&gt;&lt;strong&gt;Magenta&lt;/strong&gt; — софтверная I...</td>\n",
       "      <td>[Java, SQL, ООП, JavaScript, HTML]</td>\n",
       "      <td>Программист, разработчик</td>\n",
       "      <td>2023-04-06</td>\n",
       "      <td>1</td>\n",
       "      <td>NaN</td>\n",
       "      <td>NaN</td>\n",
       "      <td>Junior</td>\n",
       "      <td>софтверная компания которая уже более лет явл...</td>\n",
       "      <td>софтверный компания который уже более год явля...</td>\n",
       "    </tr>\n",
       "    <tr>\n",
       "      <th>169</th>\n",
       "      <td>78983973</td>\n",
       "      <td>java developer (junior)</td>\n",
       "      <td>Самара</td>\n",
       "      <td>None</td>\n",
       "      <td>Нет опыта</td>\n",
       "      <td>Полный день</td>\n",
       "      <td>Полная занятость</td>\n",
       "      <td>&lt;p&gt;&lt;em&gt;&lt;strong&gt;Magenta&lt;/strong&gt; — софтверная I...</td>\n",
       "      <td>[Java, SQL, ООП, JavaScript, HTML]</td>\n",
       "      <td>Программист, разработчик</td>\n",
       "      <td>2023-04-06</td>\n",
       "      <td>1</td>\n",
       "      <td>NaN</td>\n",
       "      <td>NaN</td>\n",
       "      <td>Junior</td>\n",
       "      <td>софтверная компания которая уже более лет явл...</td>\n",
       "      <td>софтверный компания который уже более год явля...</td>\n",
       "    </tr>\n",
       "    <tr>\n",
       "      <th>170</th>\n",
       "      <td>78983973</td>\n",
       "      <td>java developer (junior)</td>\n",
       "      <td>Самара</td>\n",
       "      <td>None</td>\n",
       "      <td>Нет опыта</td>\n",
       "      <td>Полный день</td>\n",
       "      <td>Полная занятость</td>\n",
       "      <td>&lt;p&gt;&lt;em&gt;&lt;strong&gt;Magenta&lt;/strong&gt; — софтверная I...</td>\n",
       "      <td>[Java, SQL, ООП, JavaScript, HTML]</td>\n",
       "      <td>Программист, разработчик</td>\n",
       "      <td>2023-04-06</td>\n",
       "      <td>1</td>\n",
       "      <td>NaN</td>\n",
       "      <td>NaN</td>\n",
       "      <td>Junior</td>\n",
       "      <td>софтверная компания которая уже более лет явл...</td>\n",
       "      <td>софтверный компания который уже более год явля...</td>\n",
       "    </tr>\n",
       "    <tr>\n",
       "      <th>171</th>\n",
       "      <td>78983973</td>\n",
       "      <td>java developer (junior)</td>\n",
       "      <td>Самара</td>\n",
       "      <td>None</td>\n",
       "      <td>Нет опыта</td>\n",
       "      <td>Полный день</td>\n",
       "      <td>Полная занятость</td>\n",
       "      <td>&lt;p&gt;&lt;em&gt;&lt;strong&gt;Magenta&lt;/strong&gt; — софтверная I...</td>\n",
       "      <td>[Java, SQL, ООП, JavaScript, HTML]</td>\n",
       "      <td>Программист, разработчик</td>\n",
       "      <td>2023-04-06</td>\n",
       "      <td>1</td>\n",
       "      <td>NaN</td>\n",
       "      <td>NaN</td>\n",
       "      <td>Junior</td>\n",
       "      <td>софтверная компания которая уже более лет явл...</td>\n",
       "      <td>софтверный компания который уже более год явля...</td>\n",
       "    </tr>\n",
       "    <tr>\n",
       "      <th>172</th>\n",
       "      <td>78983973</td>\n",
       "      <td>java developer (junior)</td>\n",
       "      <td>Самара</td>\n",
       "      <td>None</td>\n",
       "      <td>Нет опыта</td>\n",
       "      <td>Полный день</td>\n",
       "      <td>Полная занятость</td>\n",
       "      <td>&lt;p&gt;&lt;em&gt;&lt;strong&gt;Magenta&lt;/strong&gt; — софтверная I...</td>\n",
       "      <td>[Java, SQL, ООП, JavaScript, HTML]</td>\n",
       "      <td>Программист, разработчик</td>\n",
       "      <td>2023-04-06</td>\n",
       "      <td>1</td>\n",
       "      <td>NaN</td>\n",
       "      <td>NaN</td>\n",
       "      <td>Junior</td>\n",
       "      <td>софтверная компания которая уже более лет явл...</td>\n",
       "      <td>софтверный компания который уже более год явля...</td>\n",
       "    </tr>\n",
       "    <tr>\n",
       "      <th>173</th>\n",
       "      <td>78983973</td>\n",
       "      <td>java developer (junior)</td>\n",
       "      <td>Самара</td>\n",
       "      <td>None</td>\n",
       "      <td>Нет опыта</td>\n",
       "      <td>Полный день</td>\n",
       "      <td>Полная занятость</td>\n",
       "      <td>&lt;p&gt;&lt;em&gt;&lt;strong&gt;Magenta&lt;/strong&gt; — софтверная I...</td>\n",
       "      <td>[Java, SQL, ООП, JavaScript, HTML]</td>\n",
       "      <td>Программист, разработчик</td>\n",
       "      <td>2023-04-06</td>\n",
       "      <td>1</td>\n",
       "      <td>NaN</td>\n",
       "      <td>NaN</td>\n",
       "      <td>Junior</td>\n",
       "      <td>софтверная компания которая уже более лет явл...</td>\n",
       "      <td>софтверный компания который уже более год явля...</td>\n",
       "    </tr>\n",
       "    <tr>\n",
       "      <th>174</th>\n",
       "      <td>78983973</td>\n",
       "      <td>java developer (junior)</td>\n",
       "      <td>Самара</td>\n",
       "      <td>None</td>\n",
       "      <td>Нет опыта</td>\n",
       "      <td>Полный день</td>\n",
       "      <td>Полная занятость</td>\n",
       "      <td>&lt;p&gt;&lt;em&gt;&lt;strong&gt;Magenta&lt;/strong&gt; — софтверная I...</td>\n",
       "      <td>[Java, SQL, ООП, JavaScript, HTML]</td>\n",
       "      <td>Программист, разработчик</td>\n",
       "      <td>2023-04-06</td>\n",
       "      <td>1</td>\n",
       "      <td>NaN</td>\n",
       "      <td>NaN</td>\n",
       "      <td>Junior</td>\n",
       "      <td>софтверная компания которая уже более лет явл...</td>\n",
       "      <td>софтверный компания который уже более год явля...</td>\n",
       "    </tr>\n",
       "    <tr>\n",
       "      <th>175</th>\n",
       "      <td>78983973</td>\n",
       "      <td>java developer (junior)</td>\n",
       "      <td>Самара</td>\n",
       "      <td>None</td>\n",
       "      <td>Нет опыта</td>\n",
       "      <td>Полный день</td>\n",
       "      <td>Полная занятость</td>\n",
       "      <td>&lt;p&gt;&lt;em&gt;&lt;strong&gt;Magenta&lt;/strong&gt; — софтверная I...</td>\n",
       "      <td>[Java, SQL, ООП, JavaScript, HTML]</td>\n",
       "      <td>Программист, разработчик</td>\n",
       "      <td>2023-04-06</td>\n",
       "      <td>1</td>\n",
       "      <td>NaN</td>\n",
       "      <td>NaN</td>\n",
       "      <td>Junior</td>\n",
       "      <td>софтверная компания которая уже более лет явл...</td>\n",
       "      <td>софтверный компания который уже более год явля...</td>\n",
       "    </tr>\n",
       "    <tr>\n",
       "      <th>176</th>\n",
       "      <td>78983973</td>\n",
       "      <td>java developer (junior)</td>\n",
       "      <td>Самара</td>\n",
       "      <td>None</td>\n",
       "      <td>Нет опыта</td>\n",
       "      <td>Полный день</td>\n",
       "      <td>Полная занятость</td>\n",
       "      <td>&lt;p&gt;&lt;em&gt;&lt;strong&gt;Magenta&lt;/strong&gt; — софтверная I...</td>\n",
       "      <td>[Java, SQL, ООП, JavaScript, HTML]</td>\n",
       "      <td>Программист, разработчик</td>\n",
       "      <td>2023-04-06</td>\n",
       "      <td>1</td>\n",
       "      <td>NaN</td>\n",
       "      <td>NaN</td>\n",
       "      <td>Junior</td>\n",
       "      <td>софтверная компания которая уже более лет явл...</td>\n",
       "      <td>софтверный компания который уже более год явля...</td>\n",
       "    </tr>\n",
       "    <tr>\n",
       "      <th>177</th>\n",
       "      <td>78983973</td>\n",
       "      <td>java developer (junior)</td>\n",
       "      <td>Самара</td>\n",
       "      <td>None</td>\n",
       "      <td>Нет опыта</td>\n",
       "      <td>Полный день</td>\n",
       "      <td>Полная занятость</td>\n",
       "      <td>&lt;p&gt;&lt;em&gt;&lt;strong&gt;Magenta&lt;/strong&gt; — софтверная I...</td>\n",
       "      <td>[Java, SQL, ООП, JavaScript, HTML]</td>\n",
       "      <td>Программист, разработчик</td>\n",
       "      <td>2023-04-06</td>\n",
       "      <td>1</td>\n",
       "      <td>NaN</td>\n",
       "      <td>NaN</td>\n",
       "      <td>Junior</td>\n",
       "      <td>софтверная компания которая уже более лет явл...</td>\n",
       "      <td>софтверный компания который уже более год явля...</td>\n",
       "    </tr>\n",
       "    <tr>\n",
       "      <th>178</th>\n",
       "      <td>78983973</td>\n",
       "      <td>java developer (junior)</td>\n",
       "      <td>Самара</td>\n",
       "      <td>None</td>\n",
       "      <td>Нет опыта</td>\n",
       "      <td>Полный день</td>\n",
       "      <td>Полная занятость</td>\n",
       "      <td>&lt;p&gt;&lt;em&gt;&lt;strong&gt;Magenta&lt;/strong&gt; — софтверная I...</td>\n",
       "      <td>[Java, SQL, ООП, JavaScript, HTML]</td>\n",
       "      <td>Программист, разработчик</td>\n",
       "      <td>2023-04-06</td>\n",
       "      <td>1</td>\n",
       "      <td>NaN</td>\n",
       "      <td>NaN</td>\n",
       "      <td>Junior</td>\n",
       "      <td>софтверная компания которая уже более лет явл...</td>\n",
       "      <td>софтверный компания который уже более год явля...</td>\n",
       "    </tr>\n",
       "    <tr>\n",
       "      <th>179</th>\n",
       "      <td>78983973</td>\n",
       "      <td>java developer (junior)</td>\n",
       "      <td>Самара</td>\n",
       "      <td>None</td>\n",
       "      <td>Нет опыта</td>\n",
       "      <td>Полный день</td>\n",
       "      <td>Полная занятость</td>\n",
       "      <td>&lt;p&gt;&lt;em&gt;&lt;strong&gt;Magenta&lt;/strong&gt; — софтверная I...</td>\n",
       "      <td>[Java, SQL, ООП, JavaScript, HTML]</td>\n",
       "      <td>Программист, разработчик</td>\n",
       "      <td>2023-04-06</td>\n",
       "      <td>1</td>\n",
       "      <td>NaN</td>\n",
       "      <td>NaN</td>\n",
       "      <td>Junior</td>\n",
       "      <td>софтверная компания которая уже более лет явл...</td>\n",
       "      <td>софтверный компания который уже более год явля...</td>\n",
       "    </tr>\n",
       "  </tbody>\n",
       "</table>\n",
       "</div>"
      ],
      "text/plain": [
       "           id                         name             area  \\\n",
       "120  79747379      java script разработчик  Нижний Новгород   \n",
       "121  79833215  qa python engineer (стажер)  Нижний Новгород   \n",
       "122  79747379      java script разработчик  Нижний Новгород   \n",
       "123  79833215  qa python engineer (стажер)  Нижний Новгород   \n",
       "124  79747379      java script разработчик  Нижний Новгород   \n",
       "125  79833215  qa python engineer (стажер)  Нижний Новгород   \n",
       "126  79747379      java script разработчик  Нижний Новгород   \n",
       "127  79833215  qa python engineer (стажер)  Нижний Новгород   \n",
       "128  79747379      java script разработчик  Нижний Новгород   \n",
       "129  79833215  qa python engineer (стажер)  Нижний Новгород   \n",
       "130  79747379      java script разработчик  Нижний Новгород   \n",
       "131  79833215  qa python engineer (стажер)  Нижний Новгород   \n",
       "132  79747379      java script разработчик  Нижний Новгород   \n",
       "133  79833215  qa python engineer (стажер)  Нижний Новгород   \n",
       "134  79747379      java script разработчик  Нижний Новгород   \n",
       "135  79833215  qa python engineer (стажер)  Нижний Новгород   \n",
       "136  79747379      java script разработчик  Нижний Новгород   \n",
       "137  79833215  qa python engineer (стажер)  Нижний Новгород   \n",
       "138  79747379      java script разработчик  Нижний Новгород   \n",
       "139  79833215  qa python engineer (стажер)  Нижний Новгород   \n",
       "140  79747379      java script разработчик  Нижний Новгород   \n",
       "141  79833215  qa python engineer (стажер)  Нижний Новгород   \n",
       "142  79747379      java script разработчик  Нижний Новгород   \n",
       "143  79833215  qa python engineer (стажер)  Нижний Новгород   \n",
       "144  79747379      java script разработчик  Нижний Новгород   \n",
       "145  79833215  qa python engineer (стажер)  Нижний Новгород   \n",
       "146  79747379      java script разработчик  Нижний Новгород   \n",
       "147  79833215  qa python engineer (стажер)  Нижний Новгород   \n",
       "148  79747379      java script разработчик  Нижний Новгород   \n",
       "149  79833215  qa python engineer (стажер)  Нижний Новгород   \n",
       "150  79747379      java script разработчик  Нижний Новгород   \n",
       "151  79833215  qa python engineer (стажер)  Нижний Новгород   \n",
       "152  79747379      java script разработчик  Нижний Новгород   \n",
       "153  79833215  qa python engineer (стажер)  Нижний Новгород   \n",
       "154  79747379      java script разработчик  Нижний Новгород   \n",
       "155  79833215  qa python engineer (стажер)  Нижний Новгород   \n",
       "156  79747379      java script разработчик  Нижний Новгород   \n",
       "157  79833215  qa python engineer (стажер)  Нижний Новгород   \n",
       "158  79747379      java script разработчик  Нижний Новгород   \n",
       "159  79833215  qa python engineer (стажер)  Нижний Новгород   \n",
       "160  78983973      java developer (junior)           Самара   \n",
       "161  78983973      java developer (junior)           Самара   \n",
       "162  78983973      java developer (junior)           Самара   \n",
       "163  78983973      java developer (junior)           Самара   \n",
       "164  78983973      java developer (junior)           Самара   \n",
       "165  78983973      java developer (junior)           Самара   \n",
       "166  78983973      java developer (junior)           Самара   \n",
       "167  78983973      java developer (junior)           Самара   \n",
       "168  78983973      java developer (junior)           Самара   \n",
       "169  78983973      java developer (junior)           Самара   \n",
       "170  78983973      java developer (junior)           Самара   \n",
       "171  78983973      java developer (junior)           Самара   \n",
       "172  78983973      java developer (junior)           Самара   \n",
       "173  78983973      java developer (junior)           Самара   \n",
       "174  78983973      java developer (junior)           Самара   \n",
       "175  78983973      java developer (junior)           Самара   \n",
       "176  78983973      java developer (junior)           Самара   \n",
       "177  78983973      java developer (junior)           Самара   \n",
       "178  78983973      java developer (junior)           Самара   \n",
       "179  78983973      java developer (junior)           Самара   \n",
       "\n",
       "                                                salary          experience  \\\n",
       "120  {'from': 70000, 'to': 100000, 'currency': 'RUR...  От 1 года до 3 лет   \n",
       "121                                               None           Нет опыта   \n",
       "122  {'from': 70000, 'to': 100000, 'currency': 'RUR...  От 1 года до 3 лет   \n",
       "123                                               None           Нет опыта   \n",
       "124  {'from': 70000, 'to': 100000, 'currency': 'RUR...  От 1 года до 3 лет   \n",
       "125                                               None           Нет опыта   \n",
       "126  {'from': 70000, 'to': 100000, 'currency': 'RUR...  От 1 года до 3 лет   \n",
       "127                                               None           Нет опыта   \n",
       "128  {'from': 70000, 'to': 100000, 'currency': 'RUR...  От 1 года до 3 лет   \n",
       "129                                               None           Нет опыта   \n",
       "130  {'from': 70000, 'to': 100000, 'currency': 'RUR...  От 1 года до 3 лет   \n",
       "131                                               None           Нет опыта   \n",
       "132  {'from': 70000, 'to': 100000, 'currency': 'RUR...  От 1 года до 3 лет   \n",
       "133                                               None           Нет опыта   \n",
       "134  {'from': 70000, 'to': 100000, 'currency': 'RUR...  От 1 года до 3 лет   \n",
       "135                                               None           Нет опыта   \n",
       "136  {'from': 70000, 'to': 100000, 'currency': 'RUR...  От 1 года до 3 лет   \n",
       "137                                               None           Нет опыта   \n",
       "138  {'from': 70000, 'to': 100000, 'currency': 'RUR...  От 1 года до 3 лет   \n",
       "139                                               None           Нет опыта   \n",
       "140  {'from': 70000, 'to': 100000, 'currency': 'RUR...  От 1 года до 3 лет   \n",
       "141                                               None           Нет опыта   \n",
       "142  {'from': 70000, 'to': 100000, 'currency': 'RUR...  От 1 года до 3 лет   \n",
       "143                                               None           Нет опыта   \n",
       "144  {'from': 70000, 'to': 100000, 'currency': 'RUR...  От 1 года до 3 лет   \n",
       "145                                               None           Нет опыта   \n",
       "146  {'from': 70000, 'to': 100000, 'currency': 'RUR...  От 1 года до 3 лет   \n",
       "147                                               None           Нет опыта   \n",
       "148  {'from': 70000, 'to': 100000, 'currency': 'RUR...  От 1 года до 3 лет   \n",
       "149                                               None           Нет опыта   \n",
       "150  {'from': 70000, 'to': 100000, 'currency': 'RUR...  От 1 года до 3 лет   \n",
       "151                                               None           Нет опыта   \n",
       "152  {'from': 70000, 'to': 100000, 'currency': 'RUR...  От 1 года до 3 лет   \n",
       "153                                               None           Нет опыта   \n",
       "154  {'from': 70000, 'to': 100000, 'currency': 'RUR...  От 1 года до 3 лет   \n",
       "155                                               None           Нет опыта   \n",
       "156  {'from': 70000, 'to': 100000, 'currency': 'RUR...  От 1 года до 3 лет   \n",
       "157                                               None           Нет опыта   \n",
       "158  {'from': 70000, 'to': 100000, 'currency': 'RUR...  От 1 года до 3 лет   \n",
       "159                                               None           Нет опыта   \n",
       "160                                               None           Нет опыта   \n",
       "161                                               None           Нет опыта   \n",
       "162                                               None           Нет опыта   \n",
       "163                                               None           Нет опыта   \n",
       "164                                               None           Нет опыта   \n",
       "165                                               None           Нет опыта   \n",
       "166                                               None           Нет опыта   \n",
       "167                                               None           Нет опыта   \n",
       "168                                               None           Нет опыта   \n",
       "169                                               None           Нет опыта   \n",
       "170                                               None           Нет опыта   \n",
       "171                                               None           Нет опыта   \n",
       "172                                               None           Нет опыта   \n",
       "173                                               None           Нет опыта   \n",
       "174                                               None           Нет опыта   \n",
       "175                                               None           Нет опыта   \n",
       "176                                               None           Нет опыта   \n",
       "177                                               None           Нет опыта   \n",
       "178                                               None           Нет опыта   \n",
       "179                                               None           Нет опыта   \n",
       "\n",
       "        schedule        employment  \\\n",
       "120  Полный день  Полная занятость   \n",
       "121  Полный день        Стажировка   \n",
       "122  Полный день  Полная занятость   \n",
       "123  Полный день        Стажировка   \n",
       "124  Полный день  Полная занятость   \n",
       "125  Полный день        Стажировка   \n",
       "126  Полный день  Полная занятость   \n",
       "127  Полный день        Стажировка   \n",
       "128  Полный день  Полная занятость   \n",
       "129  Полный день        Стажировка   \n",
       "130  Полный день  Полная занятость   \n",
       "131  Полный день        Стажировка   \n",
       "132  Полный день  Полная занятость   \n",
       "133  Полный день        Стажировка   \n",
       "134  Полный день  Полная занятость   \n",
       "135  Полный день        Стажировка   \n",
       "136  Полный день  Полная занятость   \n",
       "137  Полный день        Стажировка   \n",
       "138  Полный день  Полная занятость   \n",
       "139  Полный день        Стажировка   \n",
       "140  Полный день  Полная занятость   \n",
       "141  Полный день        Стажировка   \n",
       "142  Полный день  Полная занятость   \n",
       "143  Полный день        Стажировка   \n",
       "144  Полный день  Полная занятость   \n",
       "145  Полный день        Стажировка   \n",
       "146  Полный день  Полная занятость   \n",
       "147  Полный день        Стажировка   \n",
       "148  Полный день  Полная занятость   \n",
       "149  Полный день        Стажировка   \n",
       "150  Полный день  Полная занятость   \n",
       "151  Полный день        Стажировка   \n",
       "152  Полный день  Полная занятость   \n",
       "153  Полный день        Стажировка   \n",
       "154  Полный день  Полная занятость   \n",
       "155  Полный день        Стажировка   \n",
       "156  Полный день  Полная занятость   \n",
       "157  Полный день        Стажировка   \n",
       "158  Полный день  Полная занятость   \n",
       "159  Полный день        Стажировка   \n",
       "160  Полный день  Полная занятость   \n",
       "161  Полный день  Полная занятость   \n",
       "162  Полный день  Полная занятость   \n",
       "163  Полный день  Полная занятость   \n",
       "164  Полный день  Полная занятость   \n",
       "165  Полный день  Полная занятость   \n",
       "166  Полный день  Полная занятость   \n",
       "167  Полный день  Полная занятость   \n",
       "168  Полный день  Полная занятость   \n",
       "169  Полный день  Полная занятость   \n",
       "170  Полный день  Полная занятость   \n",
       "171  Полный день  Полная занятость   \n",
       "172  Полный день  Полная занятость   \n",
       "173  Полный день  Полная занятость   \n",
       "174  Полный день  Полная занятость   \n",
       "175  Полный день  Полная занятость   \n",
       "176  Полный день  Полная занятость   \n",
       "177  Полный день  Полная занятость   \n",
       "178  Полный день  Полная занятость   \n",
       "179  Полный день  Полная занятость   \n",
       "\n",
       "                                           description  \\\n",
       "120  <p>Мы (компания &quot;Микролайн&quot; - www.mi...   \n",
       "121  <p>ШИФТ (Школа Информационных и Финансовых Тех...   \n",
       "122  <p>Мы (компания &quot;Микролайн&quot; - www.mi...   \n",
       "123  <p>ШИФТ (Школа Информационных и Финансовых Тех...   \n",
       "124  <p>Мы (компания &quot;Микролайн&quot; - www.mi...   \n",
       "125  <p>ШИФТ (Школа Информационных и Финансовых Тех...   \n",
       "126  <p>Мы (компания &quot;Микролайн&quot; - www.mi...   \n",
       "127  <p>ШИФТ (Школа Информационных и Финансовых Тех...   \n",
       "128  <p>Мы (компания &quot;Микролайн&quot; - www.mi...   \n",
       "129  <p>ШИФТ (Школа Информационных и Финансовых Тех...   \n",
       "130  <p>Мы (компания &quot;Микролайн&quot; - www.mi...   \n",
       "131  <p>ШИФТ (Школа Информационных и Финансовых Тех...   \n",
       "132  <p>Мы (компания &quot;Микролайн&quot; - www.mi...   \n",
       "133  <p>ШИФТ (Школа Информационных и Финансовых Тех...   \n",
       "134  <p>Мы (компания &quot;Микролайн&quot; - www.mi...   \n",
       "135  <p>ШИФТ (Школа Информационных и Финансовых Тех...   \n",
       "136  <p>Мы (компания &quot;Микролайн&quot; - www.mi...   \n",
       "137  <p>ШИФТ (Школа Информационных и Финансовых Тех...   \n",
       "138  <p>Мы (компания &quot;Микролайн&quot; - www.mi...   \n",
       "139  <p>ШИФТ (Школа Информационных и Финансовых Тех...   \n",
       "140  <p>Мы (компания &quot;Микролайн&quot; - www.mi...   \n",
       "141  <p>ШИФТ (Школа Информационных и Финансовых Тех...   \n",
       "142  <p>Мы (компания &quot;Микролайн&quot; - www.mi...   \n",
       "143  <p>ШИФТ (Школа Информационных и Финансовых Тех...   \n",
       "144  <p>Мы (компания &quot;Микролайн&quot; - www.mi...   \n",
       "145  <p>ШИФТ (Школа Информационных и Финансовых Тех...   \n",
       "146  <p>Мы (компания &quot;Микролайн&quot; - www.mi...   \n",
       "147  <p>ШИФТ (Школа Информационных и Финансовых Тех...   \n",
       "148  <p>Мы (компания &quot;Микролайн&quot; - www.mi...   \n",
       "149  <p>ШИФТ (Школа Информационных и Финансовых Тех...   \n",
       "150  <p>Мы (компания &quot;Микролайн&quot; - www.mi...   \n",
       "151  <p>ШИФТ (Школа Информационных и Финансовых Тех...   \n",
       "152  <p>Мы (компания &quot;Микролайн&quot; - www.mi...   \n",
       "153  <p>ШИФТ (Школа Информационных и Финансовых Тех...   \n",
       "154  <p>Мы (компания &quot;Микролайн&quot; - www.mi...   \n",
       "155  <p>ШИФТ (Школа Информационных и Финансовых Тех...   \n",
       "156  <p>Мы (компания &quot;Микролайн&quot; - www.mi...   \n",
       "157  <p>ШИФТ (Школа Информационных и Финансовых Тех...   \n",
       "158  <p>Мы (компания &quot;Микролайн&quot; - www.mi...   \n",
       "159  <p>ШИФТ (Школа Информационных и Финансовых Тех...   \n",
       "160  <p><em><strong>Magenta</strong> — софтверная I...   \n",
       "161  <p><em><strong>Magenta</strong> — софтверная I...   \n",
       "162  <p><em><strong>Magenta</strong> — софтверная I...   \n",
       "163  <p><em><strong>Magenta</strong> — софтверная I...   \n",
       "164  <p><em><strong>Magenta</strong> — софтверная I...   \n",
       "165  <p><em><strong>Magenta</strong> — софтверная I...   \n",
       "166  <p><em><strong>Magenta</strong> — софтверная I...   \n",
       "167  <p><em><strong>Magenta</strong> — софтверная I...   \n",
       "168  <p><em><strong>Magenta</strong> — софтверная I...   \n",
       "169  <p><em><strong>Magenta</strong> — софтверная I...   \n",
       "170  <p><em><strong>Magenta</strong> — софтверная I...   \n",
       "171  <p><em><strong>Magenta</strong> — софтверная I...   \n",
       "172  <p><em><strong>Magenta</strong> — софтверная I...   \n",
       "173  <p><em><strong>Magenta</strong> — софтверная I...   \n",
       "174  <p><em><strong>Magenta</strong> — софтверная I...   \n",
       "175  <p><em><strong>Magenta</strong> — софтверная I...   \n",
       "176  <p><em><strong>Magenta</strong> — софтверная I...   \n",
       "177  <p><em><strong>Magenta</strong> — софтверная I...   \n",
       "178  <p><em><strong>Magenta</strong> — софтверная I...   \n",
       "179  <p><em><strong>Magenta</strong> — софтверная I...   \n",
       "\n",
       "                                            key_skills  \\\n",
       "120  [TypeScript, JavaScript, Node.js, Linux, React...   \n",
       "121  [SQL, MS SQL, Тестирование, Теория тестировани...   \n",
       "122  [TypeScript, JavaScript, Node.js, Linux, React...   \n",
       "123  [SQL, MS SQL, Тестирование, Теория тестировани...   \n",
       "124  [TypeScript, JavaScript, Node.js, Linux, React...   \n",
       "125  [SQL, MS SQL, Тестирование, Теория тестировани...   \n",
       "126  [TypeScript, JavaScript, Node.js, Linux, React...   \n",
       "127  [SQL, MS SQL, Тестирование, Теория тестировани...   \n",
       "128  [TypeScript, JavaScript, Node.js, Linux, React...   \n",
       "129  [SQL, MS SQL, Тестирование, Теория тестировани...   \n",
       "130  [TypeScript, JavaScript, Node.js, Linux, React...   \n",
       "131  [SQL, MS SQL, Тестирование, Теория тестировани...   \n",
       "132  [TypeScript, JavaScript, Node.js, Linux, React...   \n",
       "133  [SQL, MS SQL, Тестирование, Теория тестировани...   \n",
       "134  [TypeScript, JavaScript, Node.js, Linux, React...   \n",
       "135  [SQL, MS SQL, Тестирование, Теория тестировани...   \n",
       "136  [TypeScript, JavaScript, Node.js, Linux, React...   \n",
       "137  [SQL, MS SQL, Тестирование, Теория тестировани...   \n",
       "138  [TypeScript, JavaScript, Node.js, Linux, React...   \n",
       "139  [SQL, MS SQL, Тестирование, Теория тестировани...   \n",
       "140  [TypeScript, JavaScript, Node.js, Linux, React...   \n",
       "141  [SQL, MS SQL, Тестирование, Теория тестировани...   \n",
       "142  [TypeScript, JavaScript, Node.js, Linux, React...   \n",
       "143  [SQL, MS SQL, Тестирование, Теория тестировани...   \n",
       "144  [TypeScript, JavaScript, Node.js, Linux, React...   \n",
       "145  [SQL, MS SQL, Тестирование, Теория тестировани...   \n",
       "146  [TypeScript, JavaScript, Node.js, Linux, React...   \n",
       "147  [SQL, MS SQL, Тестирование, Теория тестировани...   \n",
       "148  [TypeScript, JavaScript, Node.js, Linux, React...   \n",
       "149  [SQL, MS SQL, Тестирование, Теория тестировани...   \n",
       "150  [TypeScript, JavaScript, Node.js, Linux, React...   \n",
       "151  [SQL, MS SQL, Тестирование, Теория тестировани...   \n",
       "152  [TypeScript, JavaScript, Node.js, Linux, React...   \n",
       "153  [SQL, MS SQL, Тестирование, Теория тестировани...   \n",
       "154  [TypeScript, JavaScript, Node.js, Linux, React...   \n",
       "155  [SQL, MS SQL, Тестирование, Теория тестировани...   \n",
       "156  [TypeScript, JavaScript, Node.js, Linux, React...   \n",
       "157  [SQL, MS SQL, Тестирование, Теория тестировани...   \n",
       "158  [TypeScript, JavaScript, Node.js, Linux, React...   \n",
       "159  [SQL, MS SQL, Тестирование, Теория тестировани...   \n",
       "160                 [Java, SQL, ООП, JavaScript, HTML]   \n",
       "161                 [Java, SQL, ООП, JavaScript, HTML]   \n",
       "162                 [Java, SQL, ООП, JavaScript, HTML]   \n",
       "163                 [Java, SQL, ООП, JavaScript, HTML]   \n",
       "164                 [Java, SQL, ООП, JavaScript, HTML]   \n",
       "165                 [Java, SQL, ООП, JavaScript, HTML]   \n",
       "166                 [Java, SQL, ООП, JavaScript, HTML]   \n",
       "167                 [Java, SQL, ООП, JavaScript, HTML]   \n",
       "168                 [Java, SQL, ООП, JavaScript, HTML]   \n",
       "169                 [Java, SQL, ООП, JavaScript, HTML]   \n",
       "170                 [Java, SQL, ООП, JavaScript, HTML]   \n",
       "171                 [Java, SQL, ООП, JavaScript, HTML]   \n",
       "172                 [Java, SQL, ООП, JavaScript, HTML]   \n",
       "173                 [Java, SQL, ООП, JavaScript, HTML]   \n",
       "174                 [Java, SQL, ООП, JavaScript, HTML]   \n",
       "175                 [Java, SQL, ООП, JavaScript, HTML]   \n",
       "176                 [Java, SQL, ООП, JavaScript, HTML]   \n",
       "177                 [Java, SQL, ООП, JavaScript, HTML]   \n",
       "178                 [Java, SQL, ООП, JavaScript, HTML]   \n",
       "179                 [Java, SQL, ООП, JavaScript, HTML]   \n",
       "\n",
       "           professional_roles published_at  flag  salary_from  salary_to  \\\n",
       "120  Программист, разработчик   2023-04-30     1      70000.0   100000.0   \n",
       "121               Тестировщик   2023-04-26     1          NaN        NaN   \n",
       "122  Программист, разработчик   2023-04-30     1      70000.0   100000.0   \n",
       "123               Тестировщик   2023-04-26     1          NaN        NaN   \n",
       "124  Программист, разработчик   2023-04-30     1      70000.0   100000.0   \n",
       "125               Тестировщик   2023-04-26     1          NaN        NaN   \n",
       "126  Программист, разработчик   2023-04-30     1      70000.0   100000.0   \n",
       "127               Тестировщик   2023-04-26     1          NaN        NaN   \n",
       "128  Программист, разработчик   2023-04-30     1      70000.0   100000.0   \n",
       "129               Тестировщик   2023-04-26     1          NaN        NaN   \n",
       "130  Программист, разработчик   2023-04-30     1      70000.0   100000.0   \n",
       "131               Тестировщик   2023-04-26     1          NaN        NaN   \n",
       "132  Программист, разработчик   2023-04-30     1      70000.0   100000.0   \n",
       "133               Тестировщик   2023-04-26     1          NaN        NaN   \n",
       "134  Программист, разработчик   2023-04-30     1      70000.0   100000.0   \n",
       "135               Тестировщик   2023-04-26     1          NaN        NaN   \n",
       "136  Программист, разработчик   2023-04-30     1      70000.0   100000.0   \n",
       "137               Тестировщик   2023-04-26     1          NaN        NaN   \n",
       "138  Программист, разработчик   2023-04-30     1      70000.0   100000.0   \n",
       "139               Тестировщик   2023-04-26     1          NaN        NaN   \n",
       "140  Программист, разработчик   2023-04-30     1      70000.0   100000.0   \n",
       "141               Тестировщик   2023-04-26     1          NaN        NaN   \n",
       "142  Программист, разработчик   2023-04-30     1      70000.0   100000.0   \n",
       "143               Тестировщик   2023-04-26     1          NaN        NaN   \n",
       "144  Программист, разработчик   2023-04-30     1      70000.0   100000.0   \n",
       "145               Тестировщик   2023-04-26     1          NaN        NaN   \n",
       "146  Программист, разработчик   2023-04-30     1      70000.0   100000.0   \n",
       "147               Тестировщик   2023-04-26     1          NaN        NaN   \n",
       "148  Программист, разработчик   2023-04-30     1      70000.0   100000.0   \n",
       "149               Тестировщик   2023-04-26     1          NaN        NaN   \n",
       "150  Программист, разработчик   2023-04-30     1      70000.0   100000.0   \n",
       "151               Тестировщик   2023-04-26     1          NaN        NaN   \n",
       "152  Программист, разработчик   2023-04-30     1      70000.0   100000.0   \n",
       "153               Тестировщик   2023-04-26     1          NaN        NaN   \n",
       "154  Программист, разработчик   2023-04-30     1      70000.0   100000.0   \n",
       "155               Тестировщик   2023-04-26     1          NaN        NaN   \n",
       "156  Программист, разработчик   2023-04-30     1      70000.0   100000.0   \n",
       "157               Тестировщик   2023-04-26     1          NaN        NaN   \n",
       "158  Программист, разработчик   2023-04-30     1      70000.0   100000.0   \n",
       "159               Тестировщик   2023-04-26     1          NaN        NaN   \n",
       "160  Программист, разработчик   2023-04-06     1          NaN        NaN   \n",
       "161  Программист, разработчик   2023-04-06     1          NaN        NaN   \n",
       "162  Программист, разработчик   2023-04-06     1          NaN        NaN   \n",
       "163  Программист, разработчик   2023-04-06     1          NaN        NaN   \n",
       "164  Программист, разработчик   2023-04-06     1          NaN        NaN   \n",
       "165  Программист, разработчик   2023-04-06     1          NaN        NaN   \n",
       "166  Программист, разработчик   2023-04-06     1          NaN        NaN   \n",
       "167  Программист, разработчик   2023-04-06     1          NaN        NaN   \n",
       "168  Программист, разработчик   2023-04-06     1          NaN        NaN   \n",
       "169  Программист, разработчик   2023-04-06     1          NaN        NaN   \n",
       "170  Программист, разработчик   2023-04-06     1          NaN        NaN   \n",
       "171  Программист, разработчик   2023-04-06     1          NaN        NaN   \n",
       "172  Программист, разработчик   2023-04-06     1          NaN        NaN   \n",
       "173  Программист, разработчик   2023-04-06     1          NaN        NaN   \n",
       "174  Программист, разработчик   2023-04-06     1          NaN        NaN   \n",
       "175  Программист, разработчик   2023-04-06     1          NaN        NaN   \n",
       "176  Программист, разработчик   2023-04-06     1          NaN        NaN   \n",
       "177  Программист, разработчик   2023-04-06     1          NaN        NaN   \n",
       "178  Программист, разработчик   2023-04-06     1          NaN        NaN   \n",
       "179  Программист, разработчик   2023-04-06     1          NaN        NaN   \n",
       "\n",
       "    vac_level                                  description_clean  \\\n",
       "120      None   Мы компания Микролайн разрабатываем приложени...   \n",
       "121    Junior   ШИФТ Школа Информационных и Финансовых Технол...   \n",
       "122      None   Мы компания Микролайн разрабатываем приложени...   \n",
       "123    Junior   ШИФТ Школа Информационных и Финансовых Технол...   \n",
       "124      None   Мы компания Микролайн разрабатываем приложени...   \n",
       "125    Junior   ШИФТ Школа Информационных и Финансовых Технол...   \n",
       "126      None   Мы компания Микролайн разрабатываем приложени...   \n",
       "127    Junior   ШИФТ Школа Информационных и Финансовых Технол...   \n",
       "128      None   Мы компания Микролайн разрабатываем приложени...   \n",
       "129    Junior   ШИФТ Школа Информационных и Финансовых Технол...   \n",
       "130      None   Мы компания Микролайн разрабатываем приложени...   \n",
       "131    Junior   ШИФТ Школа Информационных и Финансовых Технол...   \n",
       "132      None   Мы компания Микролайн разрабатываем приложени...   \n",
       "133    Junior   ШИФТ Школа Информационных и Финансовых Технол...   \n",
       "134      None   Мы компания Микролайн разрабатываем приложени...   \n",
       "135    Junior   ШИФТ Школа Информационных и Финансовых Технол...   \n",
       "136      None   Мы компания Микролайн разрабатываем приложени...   \n",
       "137    Junior   ШИФТ Школа Информационных и Финансовых Технол...   \n",
       "138      None   Мы компания Микролайн разрабатываем приложени...   \n",
       "139    Junior   ШИФТ Школа Информационных и Финансовых Технол...   \n",
       "140      None   Мы компания Микролайн разрабатываем приложени...   \n",
       "141    Junior   ШИФТ Школа Информационных и Финансовых Технол...   \n",
       "142      None   Мы компания Микролайн разрабатываем приложени...   \n",
       "143    Junior   ШИФТ Школа Информационных и Финансовых Технол...   \n",
       "144      None   Мы компания Микролайн разрабатываем приложени...   \n",
       "145    Junior   ШИФТ Школа Информационных и Финансовых Технол...   \n",
       "146      None   Мы компания Микролайн разрабатываем приложени...   \n",
       "147    Junior   ШИФТ Школа Информационных и Финансовых Технол...   \n",
       "148      None   Мы компания Микролайн разрабатываем приложени...   \n",
       "149    Junior   ШИФТ Школа Информационных и Финансовых Технол...   \n",
       "150      None   Мы компания Микролайн разрабатываем приложени...   \n",
       "151    Junior   ШИФТ Школа Информационных и Финансовых Технол...   \n",
       "152      None   Мы компания Микролайн разрабатываем приложени...   \n",
       "153    Junior   ШИФТ Школа Информационных и Финансовых Технол...   \n",
       "154      None   Мы компания Микролайн разрабатываем приложени...   \n",
       "155    Junior   ШИФТ Школа Информационных и Финансовых Технол...   \n",
       "156      None   Мы компания Микролайн разрабатываем приложени...   \n",
       "157    Junior   ШИФТ Школа Информационных и Финансовых Технол...   \n",
       "158      None   Мы компания Микролайн разрабатываем приложени...   \n",
       "159    Junior   ШИФТ Школа Информационных и Финансовых Технол...   \n",
       "160    Junior   софтверная компания которая уже более лет явл...   \n",
       "161    Junior   софтверная компания которая уже более лет явл...   \n",
       "162    Junior   софтверная компания которая уже более лет явл...   \n",
       "163    Junior   софтверная компания которая уже более лет явл...   \n",
       "164    Junior   софтверная компания которая уже более лет явл...   \n",
       "165    Junior   софтверная компания которая уже более лет явл...   \n",
       "166    Junior   софтверная компания которая уже более лет явл...   \n",
       "167    Junior   софтверная компания которая уже более лет явл...   \n",
       "168    Junior   софтверная компания которая уже более лет явл...   \n",
       "169    Junior   софтверная компания которая уже более лет явл...   \n",
       "170    Junior   софтверная компания которая уже более лет явл...   \n",
       "171    Junior   софтверная компания которая уже более лет явл...   \n",
       "172    Junior   софтверная компания которая уже более лет явл...   \n",
       "173    Junior   софтверная компания которая уже более лет явл...   \n",
       "174    Junior   софтверная компания которая уже более лет явл...   \n",
       "175    Junior   софтверная компания которая уже более лет явл...   \n",
       "176    Junior   софтверная компания которая уже более лет явл...   \n",
       "177    Junior   софтверная компания которая уже более лет явл...   \n",
       "178    Junior   софтверная компания которая уже более лет явл...   \n",
       "179    Junior   софтверная компания которая уже более лет явл...   \n",
       "\n",
       "                              description_clean_normal  \n",
       "120  мы компания микролайна разрабатывать приложени...  \n",
       "121  шифт школа информационный финансовый технологи...  \n",
       "122  мы компания микролайна разрабатывать приложени...  \n",
       "123  шифт школа информационный финансовый технологи...  \n",
       "124  мы компания микролайна разрабатывать приложени...  \n",
       "125  шифт школа информационный финансовый технологи...  \n",
       "126  мы компания микролайна разрабатывать приложени...  \n",
       "127  шифт школа информационный финансовый технологи...  \n",
       "128  мы компания микролайна разрабатывать приложени...  \n",
       "129  шифт школа информационный финансовый технологи...  \n",
       "130  мы компания микролайна разрабатывать приложени...  \n",
       "131  шифт школа информационный финансовый технологи...  \n",
       "132  мы компания микролайна разрабатывать приложени...  \n",
       "133  шифт школа информационный финансовый технологи...  \n",
       "134  мы компания микролайна разрабатывать приложени...  \n",
       "135  шифт школа информационный финансовый технологи...  \n",
       "136  мы компания микролайна разрабатывать приложени...  \n",
       "137  шифт школа информационный финансовый технологи...  \n",
       "138  мы компания микролайна разрабатывать приложени...  \n",
       "139  шифт школа информационный финансовый технологи...  \n",
       "140  мы компания микролайна разрабатывать приложени...  \n",
       "141  шифт школа информационный финансовый технологи...  \n",
       "142  мы компания микролайна разрабатывать приложени...  \n",
       "143  шифт школа информационный финансовый технологи...  \n",
       "144  мы компания микролайна разрабатывать приложени...  \n",
       "145  шифт школа информационный финансовый технологи...  \n",
       "146  мы компания микролайна разрабатывать приложени...  \n",
       "147  шифт школа информационный финансовый технологи...  \n",
       "148  мы компания микролайна разрабатывать приложени...  \n",
       "149  шифт школа информационный финансовый технологи...  \n",
       "150  мы компания микролайна разрабатывать приложени...  \n",
       "151  шифт школа информационный финансовый технологи...  \n",
       "152  мы компания микролайна разрабатывать приложени...  \n",
       "153  шифт школа информационный финансовый технологи...  \n",
       "154  мы компания микролайна разрабатывать приложени...  \n",
       "155  шифт школа информационный финансовый технологи...  \n",
       "156  мы компания микролайна разрабатывать приложени...  \n",
       "157  шифт школа информационный финансовый технологи...  \n",
       "158  мы компания микролайна разрабатывать приложени...  \n",
       "159  шифт школа информационный финансовый технологи...  \n",
       "160  софтверный компания который уже более год явля...  \n",
       "161  софтверный компания который уже более год явля...  \n",
       "162  софтверный компания который уже более год явля...  \n",
       "163  софтверный компания который уже более год явля...  \n",
       "164  софтверный компания который уже более год явля...  \n",
       "165  софтверный компания который уже более год явля...  \n",
       "166  софтверный компания который уже более год явля...  \n",
       "167  софтверный компания который уже более год явля...  \n",
       "168  софтверный компания который уже более год явля...  \n",
       "169  софтверный компания который уже более год явля...  \n",
       "170  софтверный компания который уже более год явля...  \n",
       "171  софтверный компания который уже более год явля...  \n",
       "172  софтверный компания который уже более год явля...  \n",
       "173  софтверный компания который уже более год явля...  \n",
       "174  софтверный компания который уже более год явля...  \n",
       "175  софтверный компания который уже более год явля...  \n",
       "176  софтверный компания который уже более год явля...  \n",
       "177  софтверный компания который уже более год явля...  \n",
       "178  софтверный компания который уже более год явля...  \n",
       "179  софтверный компания который уже более год явля...  "
      ]
     },
     "execution_count": 468,
     "metadata": {},
     "output_type": "execute_result"
    }
   ],
   "source": []
  },
  {
   "cell_type": "code",
   "execution_count": 511,
   "id": "0bcb40f2",
   "metadata": {},
   "outputs": [
    {
     "name": "stdout",
     "output_type": "stream",
     "text": [
      "<class 'pandas.core.frame.DataFrame'>\n",
      "Int64Index: 120 entries, 1 to 179\n",
      "Data columns (total 3 columns):\n",
      " #   Column                    Non-Null Count  Dtype \n",
      "---  ------                    --------------  ----- \n",
      " 0   vac_level                 120 non-null    object\n",
      " 1   professional_roles        120 non-null    object\n",
      " 2   description_clean_normal  120 non-null    object\n",
      "dtypes: object(3)\n",
      "memory usage: 3.8+ KB\n"
     ]
    }
   ],
   "source": [
    "leveled_vacs.info()"
   ]
  },
  {
   "cell_type": "code",
   "execution_count": 512,
   "id": "8d8dc319",
   "metadata": {},
   "outputs": [
    {
     "name": "stdout",
     "output_type": "stream",
     "text": [
      "<class 'pandas.core.frame.DataFrame'>\n",
      "Int64Index: 60 entries, 0 to 158\n",
      "Data columns (total 3 columns):\n",
      " #   Column                    Non-Null Count  Dtype \n",
      "---  ------                    --------------  ----- \n",
      " 0   vac_level                 0 non-null      object\n",
      " 1   professional_roles        60 non-null     object\n",
      " 2   description_clean_normal  60 non-null     object\n",
      "dtypes: object(3)\n",
      "memory usage: 1.9+ KB\n"
     ]
    }
   ],
   "source": [
    "not_leveled_vacs.info()"
   ]
  },
  {
   "cell_type": "code",
   "execution_count": 464,
   "id": "adaff78f",
   "metadata": {},
   "outputs": [
    {
     "data": {
      "text/plain": [
       "0        None\n",
       "1      Junior\n",
       "2      Junior\n",
       "3        None\n",
       "4      Junior\n",
       "        ...  \n",
       "175    Junior\n",
       "176    Junior\n",
       "177    Junior\n",
       "178    Junior\n",
       "179    Junior\n",
       "Name: vac_level, Length: 180, dtype: object"
      ]
     },
     "execution_count": 464,
     "metadata": {},
     "output_type": "execute_result"
    }
   ],
   "source": [
    "vac_info_new['vac_level']"
   ]
  },
  {
   "cell_type": "code",
   "execution_count": 482,
   "id": "de17b9e7",
   "metadata": {},
   "outputs": [
    {
     "name": "stdout",
     "output_type": "stream",
     "text": [
      "Wall time: 0 ns\n"
     ]
    }
   ],
   "source": [
    "%%time\n"
   ]
  },
  {
   "cell_type": "code",
   "execution_count": 520,
   "id": "5da0cb53",
   "metadata": {},
   "outputs": [
    {
     "data": {
      "text/plain": [
       "<24x482 sparse matrix of type '<class 'numpy.float64'>'\n",
       "\twith 2552 stored elements in Compressed Sparse Row format>"
      ]
     },
     "execution_count": 520,
     "metadata": {},
     "output_type": "execute_result"
    }
   ],
   "source": []
  },
  {
   "cell_type": "code",
   "execution_count": 564,
   "id": "c3dd8d77",
   "metadata": {},
   "outputs": [
    {
     "name": "stdout",
     "output_type": "stream",
     "text": [
      "Wall time: 2 ms\n"
     ]
    },
    {
     "data": {
      "text/plain": [
       "DecisionTreeClassifier()"
      ]
     },
     "execution_count": 564,
     "metadata": {},
     "output_type": "execute_result"
    }
   ],
   "source": [
    "%%time\n",
    "clf = tree.DecisionTreeClassifier()\n",
    "clf.fit(X_train,y_train)"
   ]
  },
  {
   "cell_type": "code",
   "execution_count": 565,
   "id": "e29f5a7b",
   "metadata": {},
   "outputs": [
    {
     "name": "stdout",
     "output_type": "stream",
     "text": [
      "Wall time: 1 ms\n"
     ]
    }
   ],
   "source": [
    "%%time\n",
    "pred = clf.predict(X_test)"
   ]
  },
  {
   "cell_type": "code",
   "execution_count": 566,
   "id": "ae3618ce",
   "metadata": {},
   "outputs": [
    {
     "data": {
      "text/plain": [
       "array(['Junior', 'Junior', 'Junior', 'Junior', 'Junior', 'Junior',\n",
       "       'Junior', 'Junior', 'Junior', 'Junior', 'Junior', 'Junior',\n",
       "       'Junior', 'Junior', 'Junior', 'Junior', 'Junior', 'Junior',\n",
       "       'Junior', 'Junior', 'Junior', 'Junior', 'Junior', 'Junior'],\n",
       "      dtype=object)"
      ]
     },
     "execution_count": 566,
     "metadata": {},
     "output_type": "execute_result"
    }
   ],
   "source": [
    "pred"
   ]
  },
  {
   "cell_type": "code",
   "execution_count": 516,
   "id": "7459fd45",
   "metadata": {},
   "outputs": [
    {
     "name": "stdout",
     "output_type": "stream",
     "text": [
      "Качество модели по метрике F1 1.0\n"
     ]
    }
   ],
   "source": [
    "print('Качество модели по метрике F1', f1_score(y_test,pred,average='weighted'))"
   ]
  },
  {
   "cell_type": "code",
   "execution_count": 517,
   "id": "fda402dc",
   "metadata": {},
   "outputs": [],
   "source": [
    "text_norm_not_level = text_transformer.fit_transform(not_leveled_vacs['description_clean_normal'])"
   ]
  },
  {
   "cell_type": "code",
   "execution_count": 522,
   "id": "78d3b8e1",
   "metadata": {},
   "outputs": [
    {
     "data": {
      "text/plain": [
       "(60, 231)"
      ]
     },
     "execution_count": 522,
     "metadata": {},
     "output_type": "execute_result"
    }
   ],
   "source": [
    "text_norm_not_level.shape"
   ]
  },
  {
   "cell_type": "code",
   "execution_count": 519,
   "id": "97898552",
   "metadata": {},
   "outputs": [
    {
     "ename": "ValueError",
     "evalue": "X has 231 features, but DecisionTreeClassifier is expecting 482 features as input.",
     "output_type": "error",
     "traceback": [
      "\u001b[1;31m---------------------------------------------------------------------------\u001b[0m",
      "\u001b[1;31mValueError\u001b[0m                                Traceback (most recent call last)",
      "\u001b[1;32m~\\AppData\\Local\\Temp\\ipykernel_2116\\3125017928.py\u001b[0m in \u001b[0;36m<module>\u001b[1;34m\u001b[0m\n\u001b[1;32m----> 1\u001b[1;33m \u001b[0mpred_level\u001b[0m\u001b[1;33m=\u001b[0m\u001b[0mclf\u001b[0m\u001b[1;33m.\u001b[0m\u001b[0mpredict\u001b[0m\u001b[1;33m(\u001b[0m\u001b[0mtext_norm_not_level\u001b[0m\u001b[1;33m)\u001b[0m\u001b[1;33m\u001b[0m\u001b[1;33m\u001b[0m\u001b[0m\n\u001b[0m",
      "\u001b[1;32mC:\\ProgramData\\Anaconda3\\lib\\site-packages\\sklearn\\tree\\_classes.py\u001b[0m in \u001b[0;36mpredict\u001b[1;34m(self, X, check_input)\u001b[0m\n\u001b[0;32m    465\u001b[0m         \"\"\"\n\u001b[0;32m    466\u001b[0m         \u001b[0mcheck_is_fitted\u001b[0m\u001b[1;33m(\u001b[0m\u001b[0mself\u001b[0m\u001b[1;33m)\u001b[0m\u001b[1;33m\u001b[0m\u001b[1;33m\u001b[0m\u001b[0m\n\u001b[1;32m--> 467\u001b[1;33m         \u001b[0mX\u001b[0m \u001b[1;33m=\u001b[0m \u001b[0mself\u001b[0m\u001b[1;33m.\u001b[0m\u001b[0m_validate_X_predict\u001b[0m\u001b[1;33m(\u001b[0m\u001b[0mX\u001b[0m\u001b[1;33m,\u001b[0m \u001b[0mcheck_input\u001b[0m\u001b[1;33m)\u001b[0m\u001b[1;33m\u001b[0m\u001b[1;33m\u001b[0m\u001b[0m\n\u001b[0m\u001b[0;32m    468\u001b[0m         \u001b[0mproba\u001b[0m \u001b[1;33m=\u001b[0m \u001b[0mself\u001b[0m\u001b[1;33m.\u001b[0m\u001b[0mtree_\u001b[0m\u001b[1;33m.\u001b[0m\u001b[0mpredict\u001b[0m\u001b[1;33m(\u001b[0m\u001b[0mX\u001b[0m\u001b[1;33m)\u001b[0m\u001b[1;33m\u001b[0m\u001b[1;33m\u001b[0m\u001b[0m\n\u001b[0;32m    469\u001b[0m         \u001b[0mn_samples\u001b[0m \u001b[1;33m=\u001b[0m \u001b[0mX\u001b[0m\u001b[1;33m.\u001b[0m\u001b[0mshape\u001b[0m\u001b[1;33m[\u001b[0m\u001b[1;36m0\u001b[0m\u001b[1;33m]\u001b[0m\u001b[1;33m\u001b[0m\u001b[1;33m\u001b[0m\u001b[0m\n",
      "\u001b[1;32mC:\\ProgramData\\Anaconda3\\lib\\site-packages\\sklearn\\tree\\_classes.py\u001b[0m in \u001b[0;36m_validate_X_predict\u001b[1;34m(self, X, check_input)\u001b[0m\n\u001b[0;32m    431\u001b[0m         \u001b[1;34m\"\"\"Validate the training data on predict (probabilities).\"\"\"\u001b[0m\u001b[1;33m\u001b[0m\u001b[1;33m\u001b[0m\u001b[0m\n\u001b[0;32m    432\u001b[0m         \u001b[1;32mif\u001b[0m \u001b[0mcheck_input\u001b[0m\u001b[1;33m:\u001b[0m\u001b[1;33m\u001b[0m\u001b[1;33m\u001b[0m\u001b[0m\n\u001b[1;32m--> 433\u001b[1;33m             \u001b[0mX\u001b[0m \u001b[1;33m=\u001b[0m \u001b[0mself\u001b[0m\u001b[1;33m.\u001b[0m\u001b[0m_validate_data\u001b[0m\u001b[1;33m(\u001b[0m\u001b[0mX\u001b[0m\u001b[1;33m,\u001b[0m \u001b[0mdtype\u001b[0m\u001b[1;33m=\u001b[0m\u001b[0mDTYPE\u001b[0m\u001b[1;33m,\u001b[0m \u001b[0maccept_sparse\u001b[0m\u001b[1;33m=\u001b[0m\u001b[1;34m\"csr\"\u001b[0m\u001b[1;33m,\u001b[0m \u001b[0mreset\u001b[0m\u001b[1;33m=\u001b[0m\u001b[1;32mFalse\u001b[0m\u001b[1;33m)\u001b[0m\u001b[1;33m\u001b[0m\u001b[1;33m\u001b[0m\u001b[0m\n\u001b[0m\u001b[0;32m    434\u001b[0m             if issparse(X) and (\n\u001b[0;32m    435\u001b[0m                 \u001b[0mX\u001b[0m\u001b[1;33m.\u001b[0m\u001b[0mindices\u001b[0m\u001b[1;33m.\u001b[0m\u001b[0mdtype\u001b[0m \u001b[1;33m!=\u001b[0m \u001b[0mnp\u001b[0m\u001b[1;33m.\u001b[0m\u001b[0mintc\u001b[0m \u001b[1;32mor\u001b[0m \u001b[0mX\u001b[0m\u001b[1;33m.\u001b[0m\u001b[0mindptr\u001b[0m\u001b[1;33m.\u001b[0m\u001b[0mdtype\u001b[0m \u001b[1;33m!=\u001b[0m \u001b[0mnp\u001b[0m\u001b[1;33m.\u001b[0m\u001b[0mintc\u001b[0m\u001b[1;33m\u001b[0m\u001b[1;33m\u001b[0m\u001b[0m\n",
      "\u001b[1;32mC:\\ProgramData\\Anaconda3\\lib\\site-packages\\sklearn\\base.py\u001b[0m in \u001b[0;36m_validate_data\u001b[1;34m(self, X, y, reset, validate_separately, **check_params)\u001b[0m\n\u001b[0;32m    583\u001b[0m \u001b[1;33m\u001b[0m\u001b[0m\n\u001b[0;32m    584\u001b[0m         \u001b[1;32mif\u001b[0m \u001b[1;32mnot\u001b[0m \u001b[0mno_val_X\u001b[0m \u001b[1;32mand\u001b[0m \u001b[0mcheck_params\u001b[0m\u001b[1;33m.\u001b[0m\u001b[0mget\u001b[0m\u001b[1;33m(\u001b[0m\u001b[1;34m\"ensure_2d\"\u001b[0m\u001b[1;33m,\u001b[0m \u001b[1;32mTrue\u001b[0m\u001b[1;33m)\u001b[0m\u001b[1;33m:\u001b[0m\u001b[1;33m\u001b[0m\u001b[1;33m\u001b[0m\u001b[0m\n\u001b[1;32m--> 585\u001b[1;33m             \u001b[0mself\u001b[0m\u001b[1;33m.\u001b[0m\u001b[0m_check_n_features\u001b[0m\u001b[1;33m(\u001b[0m\u001b[0mX\u001b[0m\u001b[1;33m,\u001b[0m \u001b[0mreset\u001b[0m\u001b[1;33m=\u001b[0m\u001b[0mreset\u001b[0m\u001b[1;33m)\u001b[0m\u001b[1;33m\u001b[0m\u001b[1;33m\u001b[0m\u001b[0m\n\u001b[0m\u001b[0;32m    586\u001b[0m \u001b[1;33m\u001b[0m\u001b[0m\n\u001b[0;32m    587\u001b[0m         \u001b[1;32mreturn\u001b[0m \u001b[0mout\u001b[0m\u001b[1;33m\u001b[0m\u001b[1;33m\u001b[0m\u001b[0m\n",
      "\u001b[1;32mC:\\ProgramData\\Anaconda3\\lib\\site-packages\\sklearn\\base.py\u001b[0m in \u001b[0;36m_check_n_features\u001b[1;34m(self, X, reset)\u001b[0m\n\u001b[0;32m    398\u001b[0m \u001b[1;33m\u001b[0m\u001b[0m\n\u001b[0;32m    399\u001b[0m         \u001b[1;32mif\u001b[0m \u001b[0mn_features\u001b[0m \u001b[1;33m!=\u001b[0m \u001b[0mself\u001b[0m\u001b[1;33m.\u001b[0m\u001b[0mn_features_in_\u001b[0m\u001b[1;33m:\u001b[0m\u001b[1;33m\u001b[0m\u001b[1;33m\u001b[0m\u001b[0m\n\u001b[1;32m--> 400\u001b[1;33m             raise ValueError(\n\u001b[0m\u001b[0;32m    401\u001b[0m                 \u001b[1;34mf\"X has {n_features} features, but {self.__class__.__name__} \"\u001b[0m\u001b[1;33m\u001b[0m\u001b[1;33m\u001b[0m\u001b[0m\n\u001b[0;32m    402\u001b[0m                 \u001b[1;34mf\"is expecting {self.n_features_in_} features as input.\"\u001b[0m\u001b[1;33m\u001b[0m\u001b[1;33m\u001b[0m\u001b[0m\n",
      "\u001b[1;31mValueError\u001b[0m: X has 231 features, but DecisionTreeClassifier is expecting 482 features as input."
     ]
    }
   ],
   "source": [
    "pred_level=clf.predict(text_norm_not_level)"
   ]
  },
  {
   "cell_type": "code",
   "execution_count": null,
   "id": "fb593342",
   "metadata": {},
   "outputs": [],
   "source": []
  },
  {
   "cell_type": "code",
   "execution_count": null,
   "id": "a622d34c",
   "metadata": {},
   "outputs": [],
   "source": []
  },
  {
   "cell_type": "code",
   "execution_count": null,
   "id": "c098b654",
   "metadata": {},
   "outputs": [],
   "source": []
  },
  {
   "cell_type": "code",
   "execution_count": null,
   "id": "b622ccea",
   "metadata": {},
   "outputs": [],
   "source": []
  },
  {
   "cell_type": "code",
   "execution_count": null,
   "id": "0b8b4f61",
   "metadata": {},
   "outputs": [],
   "source": []
  },
  {
   "cell_type": "code",
   "execution_count": null,
   "id": "2b8ed39d",
   "metadata": {},
   "outputs": [],
   "source": []
  },
  {
   "cell_type": "code",
   "execution_count": null,
   "id": "fda6967c",
   "metadata": {},
   "outputs": [],
   "source": []
  },
  {
   "cell_type": "code",
   "execution_count": 459,
   "id": "108415db",
   "metadata": {},
   "outputs": [
    {
     "name": "stdout",
     "output_type": "stream",
     "text": [
      "<class 'pandas.core.frame.DataFrame'>\n",
      "RangeIndex: 180 entries, 0 to 179\n",
      "Data columns (total 17 columns):\n",
      " #   Column                    Non-Null Count  Dtype         \n",
      "---  ------                    --------------  -----         \n",
      " 0   id                        180 non-null    object        \n",
      " 1   name                      180 non-null    object        \n",
      " 2   area                      180 non-null    object        \n",
      " 3   salary                    80 non-null     object        \n",
      " 4   experience                180 non-null    object        \n",
      " 5   schedule                  180 non-null    object        \n",
      " 6   employment                180 non-null    object        \n",
      " 7   description               180 non-null    object        \n",
      " 8   key_skills                140 non-null    object        \n",
      " 9   professional_roles        180 non-null    object        \n",
      " 10  published_at              180 non-null    datetime64[ns]\n",
      " 11  flag                      180 non-null    int64         \n",
      " 12  salary_from               60 non-null     float64       \n",
      " 13  salary_to                 60 non-null     float64       \n",
      " 14  vac_level                 120 non-null    object        \n",
      " 15  description_clean         180 non-null    object        \n",
      " 16  description_clean_normal  180 non-null    object        \n",
      "dtypes: datetime64[ns](1), float64(2), int64(1), object(13)\n",
      "memory usage: 24.0+ KB\n"
     ]
    }
   ],
   "source": [
    "vac_info_new.info()\n"
   ]
  },
  {
   "cell_type": "code",
   "execution_count": 425,
   "id": "41e76597",
   "metadata": {},
   "outputs": [
    {
     "data": {
      "text/html": [
       "<div>\n",
       "<style scoped>\n",
       "    .dataframe tbody tr th:only-of-type {\n",
       "        vertical-align: middle;\n",
       "    }\n",
       "\n",
       "    .dataframe tbody tr th {\n",
       "        vertical-align: top;\n",
       "    }\n",
       "\n",
       "    .dataframe thead th {\n",
       "        text-align: right;\n",
       "    }\n",
       "</style>\n",
       "<table border=\"1\" class=\"dataframe\">\n",
       "  <thead>\n",
       "    <tr style=\"text-align: right;\">\n",
       "      <th></th>\n",
       "      <th>id</th>\n",
       "      <th>name</th>\n",
       "      <th>area</th>\n",
       "      <th>salary</th>\n",
       "      <th>experience</th>\n",
       "      <th>schedule</th>\n",
       "      <th>employment</th>\n",
       "      <th>description</th>\n",
       "      <th>key_skills</th>\n",
       "      <th>professional_roles</th>\n",
       "      <th>published_at</th>\n",
       "      <th>flag</th>\n",
       "      <th>salary_from</th>\n",
       "      <th>salary_to</th>\n",
       "      <th>vac_level</th>\n",
       "    </tr>\n",
       "  </thead>\n",
       "  <tbody>\n",
       "    <tr>\n",
       "      <th>60</th>\n",
       "      <td>79688681</td>\n",
       "      <td>junior python backend developer</td>\n",
       "      <td>Санкт-Петербург</td>\n",
       "      <td>{'from': None, 'to': 60000, 'currency': 'RUR',...</td>\n",
       "      <td>Нет опыта</td>\n",
       "      <td>Удаленная работа</td>\n",
       "      <td>Полная занятость</td>\n",
       "      <td>&lt;p&gt;&lt;strong&gt;UpTrader&lt;/strong&gt; – продуктовая Fin...</td>\n",
       "      <td>[Python, Django Framework, Git]</td>\n",
       "      <td>Программист, разработчик</td>\n",
       "      <td>2023-04-22</td>\n",
       "      <td>1</td>\n",
       "      <td>NaN</td>\n",
       "      <td>60000.0</td>\n",
       "      <td>Junior</td>\n",
       "    </tr>\n",
       "    <tr>\n",
       "      <th>61</th>\n",
       "      <td>79736326</td>\n",
       "      <td>младший аналитик данных</td>\n",
       "      <td>Санкт-Петербург</td>\n",
       "      <td>{'from': 70000, 'to': 70000, 'currency': 'RUR'...</td>\n",
       "      <td>От 1 года до 3 лет</td>\n",
       "      <td>Полный день</td>\n",
       "      <td>Полная занятость</td>\n",
       "      <td>&lt;p&gt;&lt;em&gt;STOMODOMO GROUP – группа компаний, рабо...</td>\n",
       "      <td>None</td>\n",
       "      <td>Аналитик</td>\n",
       "      <td>2023-04-24</td>\n",
       "      <td>1</td>\n",
       "      <td>70000.0</td>\n",
       "      <td>70000.0</td>\n",
       "      <td>Junior</td>\n",
       "    </tr>\n",
       "    <tr>\n",
       "      <th>62</th>\n",
       "      <td>79688681</td>\n",
       "      <td>junior python backend developer</td>\n",
       "      <td>Санкт-Петербург</td>\n",
       "      <td>{'from': None, 'to': 60000, 'currency': 'RUR',...</td>\n",
       "      <td>Нет опыта</td>\n",
       "      <td>Удаленная работа</td>\n",
       "      <td>Полная занятость</td>\n",
       "      <td>&lt;p&gt;&lt;strong&gt;UpTrader&lt;/strong&gt; – продуктовая Fin...</td>\n",
       "      <td>[Python, Django Framework, Git]</td>\n",
       "      <td>Программист, разработчик</td>\n",
       "      <td>2023-04-22</td>\n",
       "      <td>1</td>\n",
       "      <td>NaN</td>\n",
       "      <td>60000.0</td>\n",
       "      <td>Junior</td>\n",
       "    </tr>\n",
       "    <tr>\n",
       "      <th>63</th>\n",
       "      <td>79736326</td>\n",
       "      <td>младший аналитик данных</td>\n",
       "      <td>Санкт-Петербург</td>\n",
       "      <td>{'from': 70000, 'to': 70000, 'currency': 'RUR'...</td>\n",
       "      <td>От 1 года до 3 лет</td>\n",
       "      <td>Полный день</td>\n",
       "      <td>Полная занятость</td>\n",
       "      <td>&lt;p&gt;&lt;em&gt;STOMODOMO GROUP – группа компаний, рабо...</td>\n",
       "      <td>None</td>\n",
       "      <td>Аналитик</td>\n",
       "      <td>2023-04-24</td>\n",
       "      <td>1</td>\n",
       "      <td>70000.0</td>\n",
       "      <td>70000.0</td>\n",
       "      <td>Junior</td>\n",
       "    </tr>\n",
       "    <tr>\n",
       "      <th>64</th>\n",
       "      <td>79688681</td>\n",
       "      <td>junior python backend developer</td>\n",
       "      <td>Санкт-Петербург</td>\n",
       "      <td>{'from': None, 'to': 60000, 'currency': 'RUR',...</td>\n",
       "      <td>Нет опыта</td>\n",
       "      <td>Удаленная работа</td>\n",
       "      <td>Полная занятость</td>\n",
       "      <td>&lt;p&gt;&lt;strong&gt;UpTrader&lt;/strong&gt; – продуктовая Fin...</td>\n",
       "      <td>[Python, Django Framework, Git]</td>\n",
       "      <td>Программист, разработчик</td>\n",
       "      <td>2023-04-22</td>\n",
       "      <td>1</td>\n",
       "      <td>NaN</td>\n",
       "      <td>60000.0</td>\n",
       "      <td>Junior</td>\n",
       "    </tr>\n",
       "    <tr>\n",
       "      <th>...</th>\n",
       "      <td>...</td>\n",
       "      <td>...</td>\n",
       "      <td>...</td>\n",
       "      <td>...</td>\n",
       "      <td>...</td>\n",
       "      <td>...</td>\n",
       "      <td>...</td>\n",
       "      <td>...</td>\n",
       "      <td>...</td>\n",
       "      <td>...</td>\n",
       "      <td>...</td>\n",
       "      <td>...</td>\n",
       "      <td>...</td>\n",
       "      <td>...</td>\n",
       "      <td>...</td>\n",
       "    </tr>\n",
       "    <tr>\n",
       "      <th>150</th>\n",
       "      <td>79747379</td>\n",
       "      <td>java script разработчик</td>\n",
       "      <td>Нижний Новгород</td>\n",
       "      <td>{'from': 70000, 'to': 100000, 'currency': 'RUR...</td>\n",
       "      <td>От 1 года до 3 лет</td>\n",
       "      <td>Полный день</td>\n",
       "      <td>Полная занятость</td>\n",
       "      <td>&lt;p&gt;Мы (компания &amp;quot;Микролайн&amp;quot; - www.mi...</td>\n",
       "      <td>[TypeScript, JavaScript, Node.js, Linux, React...</td>\n",
       "      <td>Программист, разработчик</td>\n",
       "      <td>2023-04-30</td>\n",
       "      <td>1</td>\n",
       "      <td>70000.0</td>\n",
       "      <td>100000.0</td>\n",
       "      <td>None</td>\n",
       "    </tr>\n",
       "    <tr>\n",
       "      <th>152</th>\n",
       "      <td>79747379</td>\n",
       "      <td>java script разработчик</td>\n",
       "      <td>Нижний Новгород</td>\n",
       "      <td>{'from': 70000, 'to': 100000, 'currency': 'RUR...</td>\n",
       "      <td>От 1 года до 3 лет</td>\n",
       "      <td>Полный день</td>\n",
       "      <td>Полная занятость</td>\n",
       "      <td>&lt;p&gt;Мы (компания &amp;quot;Микролайн&amp;quot; - www.mi...</td>\n",
       "      <td>[TypeScript, JavaScript, Node.js, Linux, React...</td>\n",
       "      <td>Программист, разработчик</td>\n",
       "      <td>2023-04-30</td>\n",
       "      <td>1</td>\n",
       "      <td>70000.0</td>\n",
       "      <td>100000.0</td>\n",
       "      <td>None</td>\n",
       "    </tr>\n",
       "    <tr>\n",
       "      <th>154</th>\n",
       "      <td>79747379</td>\n",
       "      <td>java script разработчик</td>\n",
       "      <td>Нижний Новгород</td>\n",
       "      <td>{'from': 70000, 'to': 100000, 'currency': 'RUR...</td>\n",
       "      <td>От 1 года до 3 лет</td>\n",
       "      <td>Полный день</td>\n",
       "      <td>Полная занятость</td>\n",
       "      <td>&lt;p&gt;Мы (компания &amp;quot;Микролайн&amp;quot; - www.mi...</td>\n",
       "      <td>[TypeScript, JavaScript, Node.js, Linux, React...</td>\n",
       "      <td>Программист, разработчик</td>\n",
       "      <td>2023-04-30</td>\n",
       "      <td>1</td>\n",
       "      <td>70000.0</td>\n",
       "      <td>100000.0</td>\n",
       "      <td>None</td>\n",
       "    </tr>\n",
       "    <tr>\n",
       "      <th>156</th>\n",
       "      <td>79747379</td>\n",
       "      <td>java script разработчик</td>\n",
       "      <td>Нижний Новгород</td>\n",
       "      <td>{'from': 70000, 'to': 100000, 'currency': 'RUR...</td>\n",
       "      <td>От 1 года до 3 лет</td>\n",
       "      <td>Полный день</td>\n",
       "      <td>Полная занятость</td>\n",
       "      <td>&lt;p&gt;Мы (компания &amp;quot;Микролайн&amp;quot; - www.mi...</td>\n",
       "      <td>[TypeScript, JavaScript, Node.js, Linux, React...</td>\n",
       "      <td>Программист, разработчик</td>\n",
       "      <td>2023-04-30</td>\n",
       "      <td>1</td>\n",
       "      <td>70000.0</td>\n",
       "      <td>100000.0</td>\n",
       "      <td>None</td>\n",
       "    </tr>\n",
       "    <tr>\n",
       "      <th>158</th>\n",
       "      <td>79747379</td>\n",
       "      <td>java script разработчик</td>\n",
       "      <td>Нижний Новгород</td>\n",
       "      <td>{'from': 70000, 'to': 100000, 'currency': 'RUR...</td>\n",
       "      <td>От 1 года до 3 лет</td>\n",
       "      <td>Полный день</td>\n",
       "      <td>Полная занятость</td>\n",
       "      <td>&lt;p&gt;Мы (компания &amp;quot;Микролайн&amp;quot; - www.mi...</td>\n",
       "      <td>[TypeScript, JavaScript, Node.js, Linux, React...</td>\n",
       "      <td>Программист, разработчик</td>\n",
       "      <td>2023-04-30</td>\n",
       "      <td>1</td>\n",
       "      <td>70000.0</td>\n",
       "      <td>100000.0</td>\n",
       "      <td>None</td>\n",
       "    </tr>\n",
       "  </tbody>\n",
       "</table>\n",
       "<p>80 rows × 15 columns</p>\n",
       "</div>"
      ],
      "text/plain": [
       "           id                             name             area  \\\n",
       "60   79688681  junior python backend developer  Санкт-Петербург   \n",
       "61   79736326          младший аналитик данных  Санкт-Петербург   \n",
       "62   79688681  junior python backend developer  Санкт-Петербург   \n",
       "63   79736326          младший аналитик данных  Санкт-Петербург   \n",
       "64   79688681  junior python backend developer  Санкт-Петербург   \n",
       "..        ...                              ...              ...   \n",
       "150  79747379          java script разработчик  Нижний Новгород   \n",
       "152  79747379          java script разработчик  Нижний Новгород   \n",
       "154  79747379          java script разработчик  Нижний Новгород   \n",
       "156  79747379          java script разработчик  Нижний Новгород   \n",
       "158  79747379          java script разработчик  Нижний Новгород   \n",
       "\n",
       "                                                salary          experience  \\\n",
       "60   {'from': None, 'to': 60000, 'currency': 'RUR',...           Нет опыта   \n",
       "61   {'from': 70000, 'to': 70000, 'currency': 'RUR'...  От 1 года до 3 лет   \n",
       "62   {'from': None, 'to': 60000, 'currency': 'RUR',...           Нет опыта   \n",
       "63   {'from': 70000, 'to': 70000, 'currency': 'RUR'...  От 1 года до 3 лет   \n",
       "64   {'from': None, 'to': 60000, 'currency': 'RUR',...           Нет опыта   \n",
       "..                                                 ...                 ...   \n",
       "150  {'from': 70000, 'to': 100000, 'currency': 'RUR...  От 1 года до 3 лет   \n",
       "152  {'from': 70000, 'to': 100000, 'currency': 'RUR...  От 1 года до 3 лет   \n",
       "154  {'from': 70000, 'to': 100000, 'currency': 'RUR...  От 1 года до 3 лет   \n",
       "156  {'from': 70000, 'to': 100000, 'currency': 'RUR...  От 1 года до 3 лет   \n",
       "158  {'from': 70000, 'to': 100000, 'currency': 'RUR...  От 1 года до 3 лет   \n",
       "\n",
       "             schedule        employment  \\\n",
       "60   Удаленная работа  Полная занятость   \n",
       "61        Полный день  Полная занятость   \n",
       "62   Удаленная работа  Полная занятость   \n",
       "63        Полный день  Полная занятость   \n",
       "64   Удаленная работа  Полная занятость   \n",
       "..                ...               ...   \n",
       "150       Полный день  Полная занятость   \n",
       "152       Полный день  Полная занятость   \n",
       "154       Полный день  Полная занятость   \n",
       "156       Полный день  Полная занятость   \n",
       "158       Полный день  Полная занятость   \n",
       "\n",
       "                                           description  \\\n",
       "60   <p><strong>UpTrader</strong> – продуктовая Fin...   \n",
       "61   <p><em>STOMODOMO GROUP – группа компаний, рабо...   \n",
       "62   <p><strong>UpTrader</strong> – продуктовая Fin...   \n",
       "63   <p><em>STOMODOMO GROUP – группа компаний, рабо...   \n",
       "64   <p><strong>UpTrader</strong> – продуктовая Fin...   \n",
       "..                                                 ...   \n",
       "150  <p>Мы (компания &quot;Микролайн&quot; - www.mi...   \n",
       "152  <p>Мы (компания &quot;Микролайн&quot; - www.mi...   \n",
       "154  <p>Мы (компания &quot;Микролайн&quot; - www.mi...   \n",
       "156  <p>Мы (компания &quot;Микролайн&quot; - www.mi...   \n",
       "158  <p>Мы (компания &quot;Микролайн&quot; - www.mi...   \n",
       "\n",
       "                                            key_skills  \\\n",
       "60                     [Python, Django Framework, Git]   \n",
       "61                                                None   \n",
       "62                     [Python, Django Framework, Git]   \n",
       "63                                                None   \n",
       "64                     [Python, Django Framework, Git]   \n",
       "..                                                 ...   \n",
       "150  [TypeScript, JavaScript, Node.js, Linux, React...   \n",
       "152  [TypeScript, JavaScript, Node.js, Linux, React...   \n",
       "154  [TypeScript, JavaScript, Node.js, Linux, React...   \n",
       "156  [TypeScript, JavaScript, Node.js, Linux, React...   \n",
       "158  [TypeScript, JavaScript, Node.js, Linux, React...   \n",
       "\n",
       "           professional_roles published_at  flag  salary_from  salary_to  \\\n",
       "60   Программист, разработчик   2023-04-22     1          NaN    60000.0   \n",
       "61                   Аналитик   2023-04-24     1      70000.0    70000.0   \n",
       "62   Программист, разработчик   2023-04-22     1          NaN    60000.0   \n",
       "63                   Аналитик   2023-04-24     1      70000.0    70000.0   \n",
       "64   Программист, разработчик   2023-04-22     1          NaN    60000.0   \n",
       "..                        ...          ...   ...          ...        ...   \n",
       "150  Программист, разработчик   2023-04-30     1      70000.0   100000.0   \n",
       "152  Программист, разработчик   2023-04-30     1      70000.0   100000.0   \n",
       "154  Программист, разработчик   2023-04-30     1      70000.0   100000.0   \n",
       "156  Программист, разработчик   2023-04-30     1      70000.0   100000.0   \n",
       "158  Программист, разработчик   2023-04-30     1      70000.0   100000.0   \n",
       "\n",
       "    vac_level  \n",
       "60     Junior  \n",
       "61     Junior  \n",
       "62     Junior  \n",
       "63     Junior  \n",
       "64     Junior  \n",
       "..        ...  \n",
       "150      None  \n",
       "152      None  \n",
       "154      None  \n",
       "156      None  \n",
       "158      None  \n",
       "\n",
       "[80 rows x 15 columns]"
      ]
     },
     "execution_count": 425,
     "metadata": {},
     "output_type": "execute_result"
    }
   ],
   "source": [
    "vac_info_new.loc[vac_info_new['salary'].notnull()]"
   ]
  },
  {
   "cell_type": "code",
   "execution_count": 469,
   "id": "fd862017",
   "metadata": {},
   "outputs": [
    {
     "data": {
      "text/plain": [
       "'<p>Мы (компания &quot;Микролайн&quot; - www.microline.ru) разрабатываем приложения для управления ioT устройствами собственного производства (отопление, сигнализация, трекинг). Приложения у нас разные: веб, мобильные, десктопные. Объединяет их то, что мы стараемся разрабатывать их на веб-стеке: JS/TS, React, Redux. Нашими приборами и приложениями пользуются уже более 120 тысяч клиентов.</p> <p>Мы ищем веб-разработчика, который поможет нам создавать новые приложения и UI как для онлайн, так и для оффлайн использования.</p> <p><strong>Просим обратить особое внимание иногородних соискателей (!) Данная вакансия не предполагает удаленного режима работы (без каких-либо исключений).</strong></p> <p><strong>Разработчик, которого мы ищем, сможет:</strong></p> <ul> <li>Обсуждать бизнес-задачи, формулировать технические требования</li> <li>Придумывать способы реализации, обсуждать с командой пути решения, отстаивать свою точку зрения</li> <li>Разрабатывать классические клиент-серверные приложения, в т.ч. встраивать сетевую логику в приложения для работы с приборами по локальной сети</li> <li>Брать на себя ответственность за свой участок работы</li> <li>Быть готовым учиться и разбираться как со спецификой работы наших приборов, так и с новыми для себя IT-технологиями</li> </ul> <p><strong>Требования</strong></p> <ul> <li>Опыт работы с JavaScript/TypeScript</li> <li>Опыт работы с React.js, Redux, Router</li> <li>Умение работать с Linux</li> <li>Умение работать с git</li> </ul> <p><strong>Будет плюсом:</strong></p> <ul> <li>Опыт работы с Cordova</li> <li>Опыт работы с Node.js</li> <li>Знание Material 5</li> </ul> <p><strong>Уважаемый соискатель, просим Вас обратить внимание на то, что данная вакансия не предполагает удаленной работы!</strong></p>'"
      ]
     },
     "execution_count": 469,
     "metadata": {},
     "output_type": "execute_result"
    }
   ],
   "source": [
    "vac_info_new.description[120]"
   ]
  },
  {
   "cell_type": "code",
   "execution_count": 461,
   "id": "6f2679c6",
   "metadata": {},
   "outputs": [
    {
     "data": {
      "text/plain": [
       "' продуктовая компания мы созда м экосистему для брокерских компаний плагины под торговую платформу и систему копирования сделок Кого мы ищем разработчика готового работать в команде Что нужно будет делать Поддерживать и дополнять функционал Что жд м от кандидата Уверенное знание Уверенное знание и Опыт работы с Опыт работы с и умение писать запросы Английский на уровне чтения тех документации Готовность выполнить техническое задание Что предлагаем Слаженную но небольшую команду нас человек мы работаем из разных городов и стран Удал нную работу с гибким графиком Лояльное руководство отсутствие бюрократии отлаженный и комфортный процесс разработки Задачи любой сложности и работу над крутым продуктом Вакансия предполагает выполнение технического задания '"
      ]
     },
     "execution_count": 461,
     "metadata": {},
     "output_type": "execute_result"
    }
   ],
   "source": [
    "vac_info_new.description_clean[60]"
   ]
  },
  {
   "cell_type": "code",
   "execution_count": 462,
   "id": "bf3591b4",
   "metadata": {},
   "outputs": [
    {
     "data": {
      "text/plain": [
       "'продуктовый компания мы созд экосистема для брокерский компания плагин под торговый платформа система копирование сделка кто мы искать разработчик готовый работать команда что нужно быть делать поддерживать дополнять функционал что жд от кандидат уверенный знание уверенный знание опыт работа опыт работа умение писать запрос английский на уровень чтение тот документация готовность выполнить технический задание что предлагать слаженный но небольшой команда мы человек мы работать из разный город страна удалой нный работа гибкий график лояльный руководство отсутствие бюрократия отладить комфортный процесс разработка задача любой сложность работа над крутой продукт вакансия предполагать выполнение технический задание'"
      ]
     },
     "execution_count": 462,
     "metadata": {},
     "output_type": "execute_result"
    }
   ],
   "source": [
    "vac_info_new.description_clean_normal[60]"
   ]
  },
  {
   "cell_type": "code",
   "execution_count": null,
   "id": "fad4eea8",
   "metadata": {},
   "outputs": [],
   "source": []
  },
  {
   "cell_type": "code",
   "execution_count": null,
   "id": "43de6393",
   "metadata": {},
   "outputs": [],
   "source": []
  },
  {
   "cell_type": "code",
   "execution_count": null,
   "id": "59d2d987",
   "metadata": {},
   "outputs": [],
   "source": []
  },
  {
   "cell_type": "code",
   "execution_count": 381,
   "id": "4199563b",
   "metadata": {
    "scrolled": true
   },
   "outputs": [
    {
     "data": {
      "text/plain": [
       "[{'id': '96', 'name': 'Программист, разработчик'}]"
      ]
     },
     "execution_count": 381,
     "metadata": {},
     "output_type": "execute_result"
    }
   ],
   "source": [
    "vac_info_new.professional_roles[64]"
   ]
  },
  {
   "cell_type": "code",
   "execution_count": null,
   "id": "159ccecb",
   "metadata": {},
   "outputs": [],
   "source": []
  },
  {
   "cell_type": "code",
   "execution_count": null,
   "id": "854c49e5",
   "metadata": {},
   "outputs": [],
   "source": []
  }
 ],
 "metadata": {
  "kernelspec": {
   "display_name": "Python 3 (ipykernel)",
   "language": "python",
   "name": "python3"
  },
  "language_info": {
   "codemirror_mode": {
    "name": "ipython",
    "version": 3
   },
   "file_extension": ".py",
   "mimetype": "text/x-python",
   "name": "python",
   "nbconvert_exporter": "python",
   "pygments_lexer": "ipython3",
   "version": "3.9.13"
  }
 },
 "nbformat": 4,
 "nbformat_minor": 5
}
