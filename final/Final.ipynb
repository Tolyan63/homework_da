{
 "cells": [
  {
   "cell_type": "code",
   "execution_count": 1539,
   "id": "e09821d7",
   "metadata": {},
   "outputs": [],
   "source": [
    "import requests\n",
    "from tqdm.auto import tqdm\n",
    "import time #для цикла, чтобы сделать паузу между обращениями к api hh\n",
    "import joblib # для сохранкения дампа в файл\n",
    "import math # для окпругления в большую сторону\n",
    "import pandas as pd\n",
    "from datetime import datetime # для работы с дата время\n",
    "import re\n",
    "import plotly.express as px\n",
    "#для переворота словаря\n",
    "from operator import itemgetter\n",
    "import plotly as py\n",
    "import plotly.graph_objs as go\n",
    "from plotly.subplots import make_subplots\n",
    "import matplotlib.pyplot as plt\n",
    "import seaborn as sns\n",
    "import numpy as np\n",
    "from math import sqrt\n",
    "\n",
    "import nltk #стоп слова\n",
    "import ssl #стоп слова\n",
    "from nltk.corpus import stopwords\n",
    "import pymorphy2 #для лемматизации\n",
    "#для прогнозов sklearn\n",
    "from sklearn.ensemble import GradientBoostingRegressor\n",
    "from sklearn.metrics import mean_absolute_percentage_error\n",
    "from sklearn.metrics import mean_squared_error\n",
    "from sklearn.feature_extraction.text import TfidfVectorizer\n",
    "from sklearn.model_selection import train_test_split\n",
    "from sklearn import tree\n",
    "from sklearn.metrics.pairwise import cosine_similarity\n",
    "\n",
    "RANDOM_STATE=123\n",
    "\n",
    "\n",
    "\n",
    "\n"
   ]
  },
  {
   "cell_type": "markdown",
   "id": "f6aa1025",
   "metadata": {},
   "source": [
    "# Запрос вакансий с hh.ru"
   ]
  },
  {
   "cell_type": "markdown",
   "id": "4244163a",
   "metadata": {},
   "source": [
    "### Определим список городом где есть площадки МЦТП УП АРМ (мое подразделение) и для сравнения добавим туда Москву и Питер"
   ]
  },
  {
   "cell_type": "code",
   "execution_count": 2,
   "id": "9d51d6a0",
   "metadata": {},
   "outputs": [],
   "source": [
    "cities = ['Москва', 'Санкт-Петербург', 'Новосибирск', 'Екатеринбург', 'Нижний Новгород',  'Самара', 'Тула']"
   ]
  },
  {
   "cell_type": "markdown",
   "id": "264755ff",
   "metadata": {},
   "source": [
    "### Выясним номера регионов"
   ]
  },
  {
   "cell_type": "code",
   "execution_count": 29,
   "id": "aa6c69a9",
   "metadata": {},
   "outputs": [],
   "source": [
    "areas = []\n",
    "for city in cities:\n",
    "    url = f'https://api.hh.ru/suggests/area_leaves?text={city}'\n",
    "    res = requests.get(url)\n",
    "    for item in res.json()['items']:\n",
    "        if item['text'] in cities:\n",
    "            areas.append(item)"
   ]
  },
  {
   "cell_type": "code",
   "execution_count": 31,
   "id": "cf14447c",
   "metadata": {
    "scrolled": true
   },
   "outputs": [
    {
     "data": {
      "text/plain": [
       "[{'id': '1', 'text': 'Москва', 'url': 'https://api.hh.ru/areas/1'},\n",
       " {'id': '2', 'text': 'Санкт-Петербург', 'url': 'https://api.hh.ru/areas/2'},\n",
       " {'id': '4', 'text': 'Новосибирск', 'url': 'https://api.hh.ru/areas/4'},\n",
       " {'id': '3', 'text': 'Екатеринбург', 'url': 'https://api.hh.ru/areas/3'},\n",
       " {'id': '66', 'text': 'Нижний Новгород', 'url': 'https://api.hh.ru/areas/66'},\n",
       " {'id': '78', 'text': 'Самара', 'url': 'https://api.hh.ru/areas/78'},\n",
       " {'id': '92', 'text': 'Тула', 'url': 'https://api.hh.ru/areas/92'}]"
      ]
     },
     "execution_count": 31,
     "metadata": {},
     "output_type": "execute_result"
    }
   ],
   "source": [
    "areas"
   ]
  },
  {
   "cell_type": "markdown",
   "id": "34c6c6e4",
   "metadata": {},
   "source": [
    "### Сохраним все номера id вакансий"
   ]
  },
  {
   "cell_type": "code",
   "execution_count": 68,
   "id": "c2a90df0",
   "metadata": {
    "scrolled": true
   },
   "outputs": [
    {
     "data": {
      "application/vnd.jupyter.widget-view+json": {
       "model_id": "1769a71feb8241e8bba423f3631b59d4",
       "version_major": 2,
       "version_minor": 0
      },
      "text/plain": [
       "  0%|          | 0/7 [00:00<?, ?it/s]"
      ]
     },
     "metadata": {},
     "output_type": "display_data"
    }
   ],
   "source": [
    "%%time\n",
    "\n",
    "page = 1\n",
    "num_per_page = 100\n",
    "all_vacancy_ids=[]\n",
    "for region in tqdm(range(len(areas))):\n",
    "    reg_id = areas[region]['id']\n",
    "    time.sleep(60)\n",
    "    #print(reg_id)\n",
    "    url = f'https://api.hh.ru/vacancies?&page={page}&per_page={num_per_page}&area={reg_id}'\n",
    "    for i in range(20):\n",
    "        res = requests.get(url)\n",
    "        vacancies = res.json()\n",
    "        num_pages = vacancies.get('pages')\n",
    "        vacancy_ids = [el.get('id') for el in vacancies.get('items')]\n",
    "        all_vacancy_ids.extend(vacancy_ids)\n",
    "        "
   ]
  },
  {
   "cell_type": "code",
   "execution_count": 72,
   "id": "e5b48354",
   "metadata": {
    "scrolled": true
   },
   "outputs": [
    {
     "data": {
      "text/plain": [
       "['all_vacancy_ids_dump']"
      ]
     },
     "execution_count": 72,
     "metadata": {},
     "output_type": "execute_result"
    }
   ],
   "source": [
    "%%time\n",
    "#сохраним номера вакансий в файл\n",
    "#\n",
    "joblib.dump(all_vacancy_ids,'all_vacancy_ids_dump')\n"
   ]
  },
  {
   "cell_type": "code",
   "execution_count": null,
   "id": "cb324235",
   "metadata": {},
   "outputs": [],
   "source": [
    "#чтобы открыть =joblib.load('all_vacancy_ids_dump')"
   ]
  },
  {
   "cell_type": "markdown",
   "id": "40e72d35",
   "metadata": {},
   "source": [
    "### проверяем число вакансий"
   ]
  },
  {
   "cell_type": "code",
   "execution_count": 73,
   "id": "bc1b4c0c",
   "metadata": {},
   "outputs": [
    {
     "data": {
      "text/plain": [
       "14000"
      ]
     },
     "execution_count": 73,
     "metadata": {},
     "output_type": "execute_result"
    }
   ],
   "source": [
    "len(all_vacancy_ids)"
   ]
  },
  {
   "cell_type": "markdown",
   "id": "9c6ad1aa",
   "metadata": {},
   "source": [
    "### Скачиваем все по вакансиям, подробно с навыками и тд"
   ]
  },
  {
   "cell_type": "code",
   "execution_count": 111,
   "id": "4352145d",
   "metadata": {},
   "outputs": [
    {
     "name": "stdout",
     "output_type": "stream",
     "text": [
      "Wall time: 5h 17min 16s\n"
     ]
    }
   ],
   "source": [
    "%%time\n",
    "\n",
    "vacancy_all_info = []\n",
    "all_iteration = math.ceil((len(all_vacancy_ids))/50) #делим все вакансии на 50, и округляем в большую сторону.\n",
    "for ii in range(all_iteration): #создал цикл по 50  вакнсий\n",
    "    # Запрос исполняется Wall time: 5h 17min 16s\n",
    "    x=50*ii\n",
    "    ii+=1\n",
    "    y=50*ii\n",
    "    for i in range(x, y): #перебор вакансий с 0 по 49, с  50 по 99 и тд\n",
    "        vac_id = all_vacancy_ids[i]\n",
    "        url = f'https://api.hh.ru/vacancies/{vac_id}'\n",
    "        res = requests.get(url)\n",
    "        vacancy = res.json()\n",
    "        vacancy_all_info.append(vacancy)\n",
    "    #print(ii)\n",
    "    time.sleep(60) #пауза в 60 секунд после каждого запроса на 50 вакансий, чтобы небыло капчи"
   ]
  },
  {
   "cell_type": "code",
   "execution_count": 112,
   "id": "faa9f825",
   "metadata": {},
   "outputs": [
    {
     "name": "stdout",
     "output_type": "stream",
     "text": [
      "Wall time: 14.2 s\n"
     ]
    },
    {
     "data": {
      "text/plain": [
       "['vacancy_all_info_dump']"
      ]
     },
     "execution_count": 112,
     "metadata": {},
     "output_type": "execute_result"
    }
   ],
   "source": [
    "%%time\n",
    "#сохраним номера вакансий в файл\n",
    "#\n",
    "joblib.dump(vacancy_all_info,'vacancy_all_info_dump')"
   ]
  },
  {
   "cell_type": "code",
   "execution_count": 1192,
   "id": "d522d945",
   "metadata": {
    "scrolled": false
   },
   "outputs": [
    {
     "data": {
      "text/plain": [
       "{'id': '78393684',\n",
       " 'premium': False,\n",
       " 'billing_type': {'id': 'standard', 'name': 'Стандарт'},\n",
       " 'relations': [],\n",
       " 'name': 'Сотрудник на производство картин по номерам',\n",
       " 'insider_interview': None,\n",
       " 'response_letter_required': False,\n",
       " 'area': {'id': '4',\n",
       "  'name': 'Новосибирск',\n",
       "  'url': 'https://api.hh.ru/areas/4'},\n",
       " 'salary': {'from': 36000, 'to': 40000, 'currency': 'RUR', 'gross': False},\n",
       " 'type': {'id': 'open', 'name': 'Открытая'},\n",
       " 'address': None,\n",
       " 'allow_messages': True,\n",
       " 'experience': {'id': 'noExperience', 'name': 'Нет опыта'},\n",
       " 'schedule': {'id': 'fullDay', 'name': 'Полный день'},\n",
       " 'employment': {'id': 'full', 'name': 'Полная занятость'},\n",
       " 'department': None,\n",
       " 'contacts': None,\n",
       " 'description': '<p><em><strong>Мы ищем сотрудников на производство картин по номерам. Нам нужны трудолюбивые, ответственные люди. </strong></em></p> <p><em><strong>Эта работа для вас:</strong></em></p> <p><em><strong>если вы любите выполнять монотонную работу;</strong></em></p> <p><em><strong>если у вас есть возможность и желание работать пятидневную рабочую неделю с плавающими выходными. </strong></em></p> <p><strong>Что вы будете делать:</strong></p> <ul> <li>комплектование картин по номерам;</li> <li>печать на принтере;</li> <li>оформление на рамку;</li> <li>набор краски;</li> <li>погрузка готовой продукции на отправку.</li> </ul> <p><strong>Требования:</strong></p> <ul> <li>ответственность;</li> <li>внимательность;</li> <li>заинтересованность в постоянной работе.</li> </ul> <p><strong>Условия:</strong></p> <p><em>Заинтересованным кандидатам предоставляем обучение. </em></p> <ul> <li>полный рабочий день, 5/2 с 9 до 18 часов;</li> <li>работа в теплом помещении;</li> <li>зарплата без задержек (1800 ставка/день);</li> <li>рабочее место, Ленинский район, ул. Блюхера</li> </ul>',\n",
       " 'branded_description': None,\n",
       " 'vacancy_constructor_template': None,\n",
       " 'key_skills': [{'name': 'Работа в команде'},\n",
       "  {'name': 'Желание обучаться'},\n",
       "  {'name': 'Внимание к мелочам'},\n",
       "  {'name': 'Работа в условиях многозадачности'},\n",
       "  {'name': 'Ответственность и пунктуальность'},\n",
       "  {'name': 'Заинтересованность'}],\n",
       " 'accept_handicapped': False,\n",
       " 'accept_kids': False,\n",
       " 'archived': False,\n",
       " 'response_url': None,\n",
       " 'specializations': [],\n",
       " 'professional_roles': [{'id': '131', 'name': 'Упаковщик, комплектовщик'}],\n",
       " 'code': None,\n",
       " 'hidden': False,\n",
       " 'quick_responses_allowed': False,\n",
       " 'driver_license_types': [],\n",
       " 'accept_incomplete_resumes': False,\n",
       " 'employer': {'id': '115276',\n",
       "  'name': 'МыРисуем',\n",
       "  'url': 'https://api.hh.ru/employers/115276',\n",
       "  'alternate_url': 'https://hh.ru/employer/115276',\n",
       "  'logo_urls': {'original': 'https://hhcdn.ru/employer-logo-original/1072456.jpg',\n",
       "   '240': 'https://hhcdn.ru/employer-logo/5910454.jpeg',\n",
       "   '90': 'https://hhcdn.ru/employer-logo/5910453.jpeg'},\n",
       "  'vacancies_url': 'https://api.hh.ru/vacancies?employer_id=115276',\n",
       "  'trusted': True},\n",
       " 'published_at': '2023-04-05T06:18:52+0300',\n",
       " 'created_at': '2023-04-05T06:18:52+0300',\n",
       " 'initial_created_at': '2023-03-22T10:51:39+0300',\n",
       " 'negotiations_url': None,\n",
       " 'suitable_resumes_url': None,\n",
       " 'apply_alternate_url': 'https://hh.ru/applicant/vacancy_response?vacancyId=78393684',\n",
       " 'has_test': False,\n",
       " 'test': None,\n",
       " 'alternate_url': 'https://hh.ru/vacancy/78393684',\n",
       " 'working_days': [],\n",
       " 'working_time_intervals': [],\n",
       " 'working_time_modes': [],\n",
       " 'accept_temporary': False,\n",
       " 'languages': []}"
      ]
     },
     "execution_count": 1192,
     "metadata": {},
     "output_type": "execute_result"
    }
   ],
   "source": [
    "#посмотрим на одну вакансию\n",
    "vacancy_all_info[4000]"
   ]
  },
  {
   "cell_type": "markdown",
   "id": "42540997",
   "metadata": {},
   "source": [
    "### Создаем DataFrame с нужными нам полями из всего массива данных"
   ]
  },
  {
   "cell_type": "code",
   "execution_count": 1193,
   "id": "16565566",
   "metadata": {},
   "outputs": [],
   "source": [
    "\n",
    "vac_info = pd.DataFrame(vacancy_all_info, columns = ['id', 'name', 'area','salary', 'experience', 'schedule', \n",
    "                                                     'employment', 'description', 'key_skills', 'professional_roles', \n",
    "                                                     'employer', 'published_at'])"
   ]
  },
  {
   "cell_type": "code",
   "execution_count": 1194,
   "id": "8280374a",
   "metadata": {
    "scrolled": true
   },
   "outputs": [],
   "source": [
    "#vac_info.info()"
   ]
  },
  {
   "cell_type": "markdown",
   "id": "6947b868",
   "metadata": {},
   "source": [
    "### Работаем с данными, очищаем, выбираем нужное и тд, в том числе через написанные функции"
   ]
  },
  {
   "cell_type": "code",
   "execution_count": 1196,
   "id": "0d9a723f",
   "metadata": {},
   "outputs": [],
   "source": [
    "def name_of_property (slovar):\n",
    "    \"\"\"\n",
    "    функция вытягивания конкретного свойства из поля\n",
    "    \"\"\"\n",
    "    name_prop = slovar['name']\n",
    "    return name_prop"
   ]
  },
  {
   "cell_type": "code",
   "execution_count": 1197,
   "id": "896daaf4",
   "metadata": {},
   "outputs": [],
   "source": [
    "# применем функцию и оставим нужные нам свойства\n",
    "vac_info['area'] = vac_info['area'].apply(name_of_property)\n",
    "vac_info['experience'] = vac_info['experience'].apply(name_of_property)\n",
    "vac_info['schedule'] = vac_info['schedule'].apply(name_of_property)\n",
    "vac_info['employment'] = vac_info['employment'].apply(name_of_property)\n",
    "vac_info['employer'] = vac_info['employer'].apply(name_of_property)"
   ]
  },
  {
   "cell_type": "code",
   "execution_count": 1198,
   "id": "a177d3d8",
   "metadata": {},
   "outputs": [],
   "source": [
    "def name_professional_roles (slovar):\n",
    "    \"\"\"\n",
    "    функция вытягивания конкретного свойства из поля professional_roles\n",
    "    \"\"\"\n",
    "    name_prop = slovar[0]['name']\n",
    "    return name_prop"
   ]
  },
  {
   "cell_type": "code",
   "execution_count": 1199,
   "id": "ef42dedc",
   "metadata": {},
   "outputs": [],
   "source": [
    "vac_info['professional_roles']=vac_info['professional_roles'].apply(name_professional_roles)"
   ]
  },
  {
   "cell_type": "code",
   "execution_count": 1200,
   "id": "2d628dcc",
   "metadata": {},
   "outputs": [],
   "source": [
    "#функции для разбора поля salary на зарплату от и до \n",
    "def salary_from (slovar):\n",
    "    \"\"\"\n",
    "    функция зарплата от\n",
    "    \"\"\"\n",
    "    if type(slovar) ==dict:\n",
    "        if type(slovar['from']) == int:\n",
    "            salary_from = slovar['from']\n",
    "            return salary_from\n",
    "\n",
    "def salary_to (slovar):\n",
    "    \"\"\"\n",
    "    функция зарплата до\n",
    "    \"\"\"\n",
    "    if type(slovar) ==dict:\n",
    "        if type(slovar['to']) == int:\n",
    "            salary_to = slovar['to']\n",
    "            return salary_to"
   ]
  },
  {
   "cell_type": "code",
   "execution_count": 1201,
   "id": "ae45128d",
   "metadata": {},
   "outputs": [],
   "source": [
    "#применим функции зарплат\n",
    "vac_info['salary_from'] = vac_info['salary'].apply(salary_from)\n",
    "vac_info['salary_to'] = vac_info['salary'].apply(salary_to)"
   ]
  },
  {
   "cell_type": "code",
   "execution_count": 1202,
   "id": "eca712ce",
   "metadata": {},
   "outputs": [],
   "source": [
    "# создаем функцию для конвертации в дату столбца 'published_at'\n",
    "def convert_datetime(x):\n",
    "    \"\"\"\n",
    "    переводим строку в дату \n",
    "    \"\"\"\n",
    "    if type(x)==str:\n",
    "        new_x = datetime.strptime(x[:10], '%Y-%m-%d')\n",
    "        return new_x\n",
    "    else :\n",
    "        new_x = None  # не знал как обойти когда вместо строки приходит что то иное\n",
    "        return new_x"
   ]
  },
  {
   "cell_type": "code",
   "execution_count": 1203,
   "id": "b516ccc0",
   "metadata": {},
   "outputs": [],
   "source": [
    "vac_info['published_at']=vac_info['published_at'].apply(convert_datetime)"
   ]
  },
  {
   "cell_type": "code",
   "execution_count": 1204,
   "id": "06069f68",
   "metadata": {},
   "outputs": [],
   "source": [
    "#функция для преобразования требований в один список удобный нам\n",
    "def vac_skill(list_skill):\n",
    "    \"\"\"\n",
    "    Перебираем все существующие требования к навыкам в поле key_skills и записываем их в лист\n",
    "    \"\"\"\n",
    "    if len(list_skill) != 0: #смотрим только существующие значения\n",
    "        skill = []\n",
    "        for i in range(len(list_skill)): \n",
    "            skill.append(list_skill[i]['name'])\n",
    "        return skill"
   ]
  },
  {
   "cell_type": "code",
   "execution_count": 1205,
   "id": "cd65b118",
   "metadata": {},
   "outputs": [],
   "source": [
    "vac_info['key_skills']=vac_info['key_skills'].apply(vac_skill)"
   ]
  },
  {
   "cell_type": "markdown",
   "id": "cc4b3c00",
   "metadata": {},
   "source": [
    "### выберем из vac_info.professional_roles.unique() цифровые специальности(смотрел что вообще дает HH и выбрал что связано с IT)"
   ]
  },
  {
   "cell_type": "code",
   "execution_count": 1206,
   "id": "3c7983cb",
   "metadata": {},
   "outputs": [],
   "source": [
    "\n",
    "spisok = ['Тестировщик', 'Программист, разработчик','Специалист технической поддержки', \n",
    "          'Продуктовый аналитик', 'Руководитель группы разработки', 'Системный администратор', 'Менеджер продукта']"
   ]
  },
  {
   "cell_type": "code",
   "execution_count": 1207,
   "id": "574e8870",
   "metadata": {},
   "outputs": [],
   "source": [
    "def find_vasc_roles (stroka):\n",
    "    \"\"\"\n",
    "    функция поиска цифровых вакансий\n",
    "    \"\"\"\n",
    "    sovpalo = 0\n",
    "    for x in range(len(spisok)):\n",
    "        if (spisok[x] == stroka) == True:\n",
    "            sovpalo+=1\n",
    "        #else: return 0\n",
    "    if sovpalo > 0 : return 1\n",
    "    else: return 0"
   ]
  },
  {
   "cell_type": "code",
   "execution_count": 1208,
   "id": "5f187687",
   "metadata": {},
   "outputs": [],
   "source": [
    "# проставим flag = 1 там где цифровые вакансии\n",
    "vac_info['flag'] = vac_info['professional_roles'].apply(find_vasc_roles)"
   ]
  },
  {
   "cell_type": "code",
   "execution_count": 1516,
   "id": "4d0e7ca7",
   "metadata": {},
   "outputs": [
    {
     "name": "stdout",
     "output_type": "stream",
     "text": [
      "<class 'pandas.core.frame.DataFrame'>\n",
      "RangeIndex: 1120 entries, 0 to 1119\n",
      "Data columns (total 16 columns):\n",
      " #   Column              Non-Null Count  Dtype         \n",
      "---  ------              --------------  -----         \n",
      " 0   id                  1120 non-null   object        \n",
      " 1   name                1120 non-null   object        \n",
      " 2   area                1120 non-null   object        \n",
      " 3   salary              660 non-null    object        \n",
      " 4   experience          1120 non-null   object        \n",
      " 5   schedule            1120 non-null   object        \n",
      " 6   employment          1120 non-null   object        \n",
      " 7   description         1120 non-null   object        \n",
      " 8   key_skills          780 non-null    object        \n",
      " 9   professional_roles  1120 non-null   object        \n",
      " 10  employer            1120 non-null   object        \n",
      " 11  published_at        1120 non-null   datetime64[ns]\n",
      " 12  salary_from         600 non-null    float64       \n",
      " 13  salary_to           300 non-null    float64       \n",
      " 14  flag                1120 non-null   int64         \n",
      " 15  vac_level           80 non-null     object        \n",
      "dtypes: datetime64[ns](1), float64(2), int64(1), object(12)\n",
      "memory usage: 140.1+ KB\n"
     ]
    }
   ],
   "source": [
    "vac_info_new.info()"
   ]
  },
  {
   "cell_type": "code",
   "execution_count": 1209,
   "id": "3d22952e",
   "metadata": {},
   "outputs": [],
   "source": [
    "#создаим копию датасета, и поработаем с данными\n",
    "vac_info_new = vac_info.loc[vac_info['flag']==1].reset_index(drop=True).copy()"
   ]
  },
  {
   "cell_type": "code",
   "execution_count": 1210,
   "id": "64d59bd8",
   "metadata": {},
   "outputs": [],
   "source": [
    "def vac_level(row):\n",
    "    \"\"\"\n",
    "    функия опредления уровня вакансии из названия\n",
    "    \"\"\"\n",
    "    if ('junior' in row)|('младший' in row)|('стажер' in row):\n",
    "        return 'Junior'\n",
    "    if 'middle' in row:\n",
    "        return 'Middle'\n",
    "    if ('senior' in row)|('старший' in row):\n",
    "        return 'Senior'\n",
    "    if ('chief' in row)|('head' in row)|('lead' in row)|('руководитель' in row):\n",
    "        return 'Lead'"
   ]
  },
  {
   "cell_type": "code",
   "execution_count": 1211,
   "id": "23d548df",
   "metadata": {},
   "outputs": [],
   "source": [
    "vac_info_new['vac_level']=vac_info_new['name'].apply(vac_level)"
   ]
  },
  {
   "cell_type": "code",
   "execution_count": 1517,
   "id": "b04d4ef7",
   "metadata": {},
   "outputs": [
    {
     "data": {
      "text/plain": [
       "array([None, 'Junior'], dtype=object)"
      ]
     },
     "execution_count": 1517,
     "metadata": {},
     "output_type": "execute_result"
    }
   ],
   "source": [
    "#Смотрим какие уровни есть\n",
    "vac_info_new['vac_level'].unique()"
   ]
  },
  {
   "cell_type": "markdown",
   "id": "f07658b7",
   "metadata": {},
   "source": [
    "### К сожалению у нас уровень только новичок, исследования относительно уровня провести невозможно"
   ]
  },
  {
   "cell_type": "code",
   "execution_count": 1214,
   "id": "ee1e0034",
   "metadata": {},
   "outputs": [
    {
     "data": {
      "text/plain": [
       "id                       0\n",
       "name                     0\n",
       "area                     0\n",
       "salary                 460\n",
       "experience               0\n",
       "schedule                 0\n",
       "employment               0\n",
       "description              0\n",
       "key_skills             340\n",
       "professional_roles       0\n",
       "employer                 0\n",
       "published_at             0\n",
       "salary_from            520\n",
       "salary_to              820\n",
       "flag                     0\n",
       "vac_level             1040\n",
       "dtype: int64"
      ]
     },
     "execution_count": 1214,
     "metadata": {},
     "output_type": "execute_result"
    }
   ],
   "source": [
    "#оценим данные\n",
    "vac_info_new.isna().sum()"
   ]
  },
  {
   "cell_type": "markdown",
   "id": "0f1327c1",
   "metadata": {},
   "source": [
    "### Построим график уровень зарплат от какой суммы (там где данные есть). Нижняя планка зарплат.\n"
   ]
  },
  {
   "cell_type": "code",
   "execution_count": 1316,
   "id": "4e509c48",
   "metadata": {},
   "outputs": [
    {
     "data": {
      "application/vnd.plotly.v1+json": {
       "config": {
        "plotlyServerURL": "https://plot.ly"
       },
       "data": [
        {
         "alignmentgroup": "True",
         "hovertemplate": "Регион=%{x}<br>Зарплата от, руб.=%{y}<extra></extra>",
         "legendgroup": "Нижний Новгород",
         "marker": {
          "color": "#636efa"
         },
         "name": "Нижний Новгород",
         "notched": false,
         "offsetgroup": "Нижний Новгород",
         "orientation": "v",
         "showlegend": true,
         "type": "box",
         "x": [
          "Нижний Новгород",
          "Нижний Новгород",
          "Нижний Новгород",
          "Нижний Новгород",
          "Нижний Новгород",
          "Нижний Новгород",
          "Нижний Новгород",
          "Нижний Новгород",
          "Нижний Новгород",
          "Нижний Новгород",
          "Нижний Новгород",
          "Нижний Новгород",
          "Нижний Новгород",
          "Нижний Новгород",
          "Нижний Новгород",
          "Нижний Новгород",
          "Нижний Новгород",
          "Нижний Новгород",
          "Нижний Новгород",
          "Нижний Новгород",
          "Нижний Новгород",
          "Нижний Новгород",
          "Нижний Новгород",
          "Нижний Новгород",
          "Нижний Новгород",
          "Нижний Новгород",
          "Нижний Новгород",
          "Нижний Новгород",
          "Нижний Новгород",
          "Нижний Новгород",
          "Нижний Новгород",
          "Нижний Новгород",
          "Нижний Новгород",
          "Нижний Новгород",
          "Нижний Новгород",
          "Нижний Новгород",
          "Нижний Новгород",
          "Нижний Новгород",
          "Нижний Новгород",
          "Нижний Новгород",
          "Нижний Новгород",
          "Нижний Новгород",
          "Нижний Новгород",
          "Нижний Новгород",
          "Нижний Новгород",
          "Нижний Новгород",
          "Нижний Новгород",
          "Нижний Новгород",
          "Нижний Новгород",
          "Нижний Новгород",
          "Нижний Новгород",
          "Нижний Новгород",
          "Нижний Новгород",
          "Нижний Новгород",
          "Нижний Новгород",
          "Нижний Новгород",
          "Нижний Новгород",
          "Нижний Новгород",
          "Нижний Новгород",
          "Нижний Новгород",
          "Нижний Новгород",
          "Нижний Новгород",
          "Нижний Новгород",
          "Нижний Новгород",
          "Нижний Новгород",
          "Нижний Новгород",
          "Нижний Новгород",
          "Нижний Новгород",
          "Нижний Новгород",
          "Нижний Новгород",
          "Нижний Новгород",
          "Нижний Новгород",
          "Нижний Новгород",
          "Нижний Новгород",
          "Нижний Новгород",
          "Нижний Новгород",
          "Нижний Новгород",
          "Нижний Новгород",
          "Нижний Новгород",
          "Нижний Новгород",
          "Нижний Новгород",
          "Нижний Новгород",
          "Нижний Новгород",
          "Нижний Новгород",
          "Нижний Новгород",
          "Нижний Новгород",
          "Нижний Новгород",
          "Нижний Новгород",
          "Нижний Новгород",
          "Нижний Новгород",
          "Нижний Новгород",
          "Нижний Новгород",
          "Нижний Новгород",
          "Нижний Новгород",
          "Нижний Новгород",
          "Нижний Новгород",
          "Нижний Новгород",
          "Нижний Новгород",
          "Нижний Новгород",
          "Нижний Новгород",
          "Нижний Новгород",
          "Нижний Новгород",
          "Нижний Новгород",
          "Нижний Новгород",
          "Нижний Новгород",
          "Нижний Новгород",
          "Нижний Новгород",
          "Нижний Новгород",
          "Нижний Новгород",
          "Нижний Новгород",
          "Нижний Новгород",
          "Нижний Новгород",
          "Нижний Новгород",
          "Нижний Новгород",
          "Нижний Новгород",
          "Нижний Новгород",
          "Нижний Новгород",
          "Нижний Новгород",
          "Нижний Новгород",
          "Нижний Новгород",
          "Нижний Новгород",
          "Нижний Новгород",
          "Нижний Новгород",
          "Нижний Новгород",
          "Нижний Новгород",
          "Нижний Новгород",
          "Нижний Новгород",
          "Нижний Новгород",
          "Нижний Новгород",
          "Нижний Новгород",
          "Нижний Новгород",
          "Нижний Новгород",
          "Нижний Новгород",
          "Нижний Новгород",
          "Нижний Новгород",
          "Нижний Новгород",
          "Нижний Новгород",
          "Нижний Новгород",
          "Нижний Новгород",
          "Нижний Новгород",
          "Нижний Новгород",
          "Нижний Новгород",
          "Нижний Новгород",
          "Нижний Новгород",
          "Нижний Новгород",
          "Нижний Новгород",
          "Нижний Новгород",
          "Нижний Новгород",
          "Нижний Новгород",
          "Нижний Новгород",
          "Нижний Новгород",
          "Нижний Новгород",
          "Нижний Новгород",
          "Нижний Новгород",
          "Нижний Новгород",
          "Нижний Новгород",
          "Нижний Новгород",
          "Нижний Новгород",
          "Нижний Новгород",
          "Нижний Новгород"
         ],
         "x0": " ",
         "xaxis": "x",
         "y": [
          10000,
          80000,
          70000,
          30000,
          50000,
          40000,
          10000,
          86000,
          10000,
          80000,
          70000,
          30000,
          50000,
          40000,
          10000,
          86000,
          10000,
          80000,
          70000,
          30000,
          50000,
          40000,
          10000,
          86000,
          10000,
          80000,
          70000,
          30000,
          50000,
          40000,
          10000,
          86000,
          10000,
          80000,
          70000,
          30000,
          50000,
          40000,
          10000,
          86000,
          10000,
          80000,
          70000,
          30000,
          50000,
          40000,
          10000,
          86000,
          10000,
          80000,
          70000,
          30000,
          50000,
          40000,
          10000,
          86000,
          10000,
          80000,
          70000,
          30000,
          50000,
          40000,
          10000,
          86000,
          10000,
          80000,
          70000,
          30000,
          50000,
          40000,
          10000,
          86000,
          10000,
          80000,
          70000,
          30000,
          50000,
          40000,
          10000,
          86000,
          10000,
          80000,
          70000,
          30000,
          50000,
          40000,
          10000,
          86000,
          10000,
          80000,
          70000,
          30000,
          50000,
          40000,
          10000,
          86000,
          10000,
          80000,
          70000,
          30000,
          50000,
          40000,
          10000,
          86000,
          10000,
          80000,
          70000,
          30000,
          50000,
          40000,
          10000,
          86000,
          10000,
          80000,
          70000,
          30000,
          50000,
          40000,
          10000,
          86000,
          10000,
          80000,
          70000,
          30000,
          50000,
          40000,
          10000,
          86000,
          10000,
          80000,
          70000,
          30000,
          50000,
          40000,
          10000,
          86000,
          10000,
          80000,
          70000,
          30000,
          50000,
          40000,
          10000,
          86000,
          10000,
          80000,
          70000,
          30000,
          50000,
          40000,
          10000,
          86000,
          10000,
          80000,
          70000,
          30000,
          50000,
          40000,
          10000,
          86000
         ],
         "y0": " ",
         "yaxis": "y"
        },
        {
         "alignmentgroup": "True",
         "hovertemplate": "Регион=%{x}<br>Зарплата от, руб.=%{y}<extra></extra>",
         "legendgroup": "Москва",
         "marker": {
          "color": "#EF553B"
         },
         "name": "Москва",
         "notched": false,
         "offsetgroup": "Москва",
         "orientation": "v",
         "showlegend": true,
         "type": "box",
         "x": [
          "Москва",
          "Москва",
          "Москва",
          "Москва",
          "Москва",
          "Москва",
          "Москва",
          "Москва",
          "Москва",
          "Москва",
          "Москва",
          "Москва",
          "Москва",
          "Москва",
          "Москва",
          "Москва",
          "Москва",
          "Москва",
          "Москва",
          "Москва",
          "Москва",
          "Москва",
          "Москва",
          "Москва",
          "Москва",
          "Москва",
          "Москва",
          "Москва",
          "Москва",
          "Москва",
          "Москва",
          "Москва",
          "Москва",
          "Москва",
          "Москва",
          "Москва",
          "Москва",
          "Москва",
          "Москва",
          "Москва",
          "Москва",
          "Москва",
          "Москва",
          "Москва",
          "Москва",
          "Москва",
          "Москва",
          "Москва",
          "Москва",
          "Москва",
          "Москва",
          "Москва",
          "Москва",
          "Москва",
          "Москва",
          "Москва",
          "Москва",
          "Москва",
          "Москва",
          "Москва",
          "Москва",
          "Москва",
          "Москва",
          "Москва",
          "Москва",
          "Москва",
          "Москва",
          "Москва",
          "Москва",
          "Москва",
          "Москва",
          "Москва",
          "Москва",
          "Москва",
          "Москва",
          "Москва",
          "Москва",
          "Москва",
          "Москва",
          "Москва",
          "Москва",
          "Москва",
          "Москва",
          "Москва",
          "Москва",
          "Москва",
          "Москва",
          "Москва",
          "Москва",
          "Москва",
          "Москва",
          "Москва",
          "Москва",
          "Москва",
          "Москва",
          "Москва",
          "Москва",
          "Москва",
          "Москва",
          "Москва",
          "Москва",
          "Москва",
          "Москва",
          "Москва",
          "Москва",
          "Москва",
          "Москва",
          "Москва",
          "Москва",
          "Москва",
          "Москва",
          "Москва",
          "Москва",
          "Москва",
          "Москва",
          "Москва",
          "Москва",
          "Москва",
          "Москва",
          "Москва"
         ],
         "x0": " ",
         "xaxis": "x",
         "y": [
          60000,
          60000,
          60000,
          130000,
          80000,
          1600,
          60000,
          60000,
          60000,
          130000,
          80000,
          1600,
          60000,
          60000,
          60000,
          130000,
          80000,
          1600,
          60000,
          60000,
          60000,
          130000,
          80000,
          1600,
          60000,
          60000,
          60000,
          130000,
          80000,
          1600,
          60000,
          60000,
          60000,
          130000,
          80000,
          1600,
          60000,
          60000,
          60000,
          130000,
          80000,
          1600,
          60000,
          60000,
          60000,
          130000,
          80000,
          1600,
          60000,
          60000,
          60000,
          130000,
          80000,
          1600,
          60000,
          60000,
          60000,
          130000,
          80000,
          1600,
          60000,
          60000,
          60000,
          130000,
          80000,
          1600,
          60000,
          60000,
          60000,
          130000,
          80000,
          1600,
          60000,
          60000,
          60000,
          130000,
          80000,
          1600,
          60000,
          60000,
          60000,
          130000,
          80000,
          1600,
          60000,
          60000,
          60000,
          130000,
          80000,
          1600,
          60000,
          60000,
          60000,
          130000,
          80000,
          1600,
          60000,
          60000,
          60000,
          130000,
          80000,
          1600,
          60000,
          60000,
          60000,
          130000,
          80000,
          1600,
          60000,
          60000,
          60000,
          130000,
          80000,
          1600,
          60000,
          60000,
          60000,
          130000,
          80000,
          1600
         ],
         "y0": " ",
         "yaxis": "y"
        },
        {
         "alignmentgroup": "True",
         "hovertemplate": "Регион=%{x}<br>Зарплата от, руб.=%{y}<extra></extra>",
         "legendgroup": "Новосибирск",
         "marker": {
          "color": "#00cc96"
         },
         "name": "Новосибирск",
         "notched": false,
         "offsetgroup": "Новосибирск",
         "orientation": "v",
         "showlegend": true,
         "type": "box",
         "x": [
          "Новосибирск",
          "Новосибирск",
          "Новосибирск",
          "Новосибирск",
          "Новосибирск",
          "Новосибирск",
          "Новосибирск",
          "Новосибирск",
          "Новосибирск",
          "Новосибирск",
          "Новосибирск",
          "Новосибирск",
          "Новосибирск",
          "Новосибирск",
          "Новосибирск",
          "Новосибирск",
          "Новосибирск",
          "Новосибирск",
          "Новосибирск",
          "Новосибирск",
          "Новосибирск",
          "Новосибирск",
          "Новосибирск",
          "Новосибирск",
          "Новосибирск",
          "Новосибирск",
          "Новосибирск",
          "Новосибирск",
          "Новосибирск",
          "Новосибирск",
          "Новосибирск",
          "Новосибирск",
          "Новосибирск",
          "Новосибирск",
          "Новосибирск",
          "Новосибирск",
          "Новосибирск",
          "Новосибирск",
          "Новосибирск",
          "Новосибирск",
          "Новосибирск",
          "Новосибирск",
          "Новосибирск",
          "Новосибирск",
          "Новосибирск",
          "Новосибирск",
          "Новосибирск",
          "Новосибирск",
          "Новосибирск",
          "Новосибирск",
          "Новосибирск",
          "Новосибирск",
          "Новосибирск",
          "Новосибирск",
          "Новосибирск",
          "Новосибирск",
          "Новосибирск",
          "Новосибирск",
          "Новосибирск",
          "Новосибирск",
          "Новосибирск",
          "Новосибирск",
          "Новосибирск",
          "Новосибирск",
          "Новосибирск",
          "Новосибирск",
          "Новосибирск",
          "Новосибирск",
          "Новосибирск",
          "Новосибирск",
          "Новосибирск",
          "Новосибирск",
          "Новосибирск",
          "Новосибирск",
          "Новосибирск",
          "Новосибирск",
          "Новосибирск",
          "Новосибирск",
          "Новосибирск",
          "Новосибирск"
         ],
         "x0": " ",
         "xaxis": "x",
         "y": [
          90000,
          1000,
          70000,
          60000,
          90000,
          1000,
          70000,
          60000,
          90000,
          1000,
          70000,
          60000,
          90000,
          1000,
          70000,
          60000,
          90000,
          1000,
          70000,
          60000,
          90000,
          1000,
          70000,
          60000,
          90000,
          1000,
          70000,
          60000,
          90000,
          1000,
          70000,
          60000,
          90000,
          1000,
          70000,
          60000,
          90000,
          1000,
          70000,
          60000,
          90000,
          1000,
          70000,
          60000,
          90000,
          1000,
          70000,
          60000,
          90000,
          1000,
          70000,
          60000,
          90000,
          1000,
          70000,
          60000,
          90000,
          1000,
          70000,
          60000,
          90000,
          1000,
          70000,
          60000,
          90000,
          1000,
          70000,
          60000,
          90000,
          1000,
          70000,
          60000,
          90000,
          1000,
          70000,
          60000,
          90000,
          1000,
          70000,
          60000
         ],
         "y0": " ",
         "yaxis": "y"
        },
        {
         "alignmentgroup": "True",
         "hovertemplate": "Регион=%{x}<br>Зарплата от, руб.=%{y}<extra></extra>",
         "legendgroup": "Екатеринбург",
         "marker": {
          "color": "#ab63fa"
         },
         "name": "Екатеринбург",
         "notched": false,
         "offsetgroup": "Екатеринбург",
         "orientation": "v",
         "showlegend": true,
         "type": "box",
         "x": [
          "Екатеринбург",
          "Екатеринбург",
          "Екатеринбург",
          "Екатеринбург",
          "Екатеринбург",
          "Екатеринбург",
          "Екатеринбург",
          "Екатеринбург",
          "Екатеринбург",
          "Екатеринбург",
          "Екатеринбург",
          "Екатеринбург",
          "Екатеринбург",
          "Екатеринбург",
          "Екатеринбург",
          "Екатеринбург",
          "Екатеринбург",
          "Екатеринбург",
          "Екатеринбург",
          "Екатеринбург",
          "Екатеринбург",
          "Екатеринбург",
          "Екатеринбург",
          "Екатеринбург",
          "Екатеринбург",
          "Екатеринбург",
          "Екатеринбург",
          "Екатеринбург",
          "Екатеринбург",
          "Екатеринбург",
          "Екатеринбург",
          "Екатеринбург",
          "Екатеринбург",
          "Екатеринбург",
          "Екатеринбург",
          "Екатеринбург",
          "Екатеринбург",
          "Екатеринбург",
          "Екатеринбург",
          "Екатеринбург",
          "Екатеринбург",
          "Екатеринбург",
          "Екатеринбург",
          "Екатеринбург",
          "Екатеринбург",
          "Екатеринбург",
          "Екатеринбург",
          "Екатеринбург",
          "Екатеринбург",
          "Екатеринбург",
          "Екатеринбург",
          "Екатеринбург",
          "Екатеринбург",
          "Екатеринбург",
          "Екатеринбург",
          "Екатеринбург",
          "Екатеринбург",
          "Екатеринбург",
          "Екатеринбург",
          "Екатеринбург",
          "Екатеринбург",
          "Екатеринбург",
          "Екатеринбург",
          "Екатеринбург",
          "Екатеринбург",
          "Екатеринбург",
          "Екатеринбург",
          "Екатеринбург",
          "Екатеринбург",
          "Екатеринбург",
          "Екатеринбург",
          "Екатеринбург",
          "Екатеринбург",
          "Екатеринбург",
          "Екатеринбург",
          "Екатеринбург",
          "Екатеринбург",
          "Екатеринбург",
          "Екатеринбург",
          "Екатеринбург"
         ],
         "x0": " ",
         "xaxis": "x",
         "y": [
          35000,
          50000,
          200000,
          35000,
          35000,
          50000,
          200000,
          35000,
          35000,
          50000,
          200000,
          35000,
          35000,
          50000,
          200000,
          35000,
          35000,
          50000,
          200000,
          35000,
          35000,
          50000,
          200000,
          35000,
          35000,
          50000,
          200000,
          35000,
          35000,
          50000,
          200000,
          35000,
          35000,
          50000,
          200000,
          35000,
          35000,
          50000,
          200000,
          35000,
          35000,
          50000,
          200000,
          35000,
          35000,
          50000,
          200000,
          35000,
          35000,
          50000,
          200000,
          35000,
          35000,
          50000,
          200000,
          35000,
          35000,
          50000,
          200000,
          35000,
          35000,
          50000,
          200000,
          35000,
          35000,
          50000,
          200000,
          35000,
          35000,
          50000,
          200000,
          35000,
          35000,
          50000,
          200000,
          35000,
          35000,
          50000,
          200000,
          35000
         ],
         "y0": " ",
         "yaxis": "y"
        },
        {
         "alignmentgroup": "True",
         "hovertemplate": "Регион=%{x}<br>Зарплата от, руб.=%{y}<extra></extra>",
         "legendgroup": "Санкт-Петербург",
         "marker": {
          "color": "#FFA15A"
         },
         "name": "Санкт-Петербург",
         "notched": false,
         "offsetgroup": "Санкт-Петербург",
         "orientation": "v",
         "showlegend": true,
         "type": "box",
         "x": [
          "Санкт-Петербург",
          "Санкт-Петербург",
          "Санкт-Петербург",
          "Санкт-Петербург",
          "Санкт-Петербург",
          "Санкт-Петербург",
          "Санкт-Петербург",
          "Санкт-Петербург",
          "Санкт-Петербург",
          "Санкт-Петербург",
          "Санкт-Петербург",
          "Санкт-Петербург",
          "Санкт-Петербург",
          "Санкт-Петербург",
          "Санкт-Петербург",
          "Санкт-Петербург",
          "Санкт-Петербург",
          "Санкт-Петербург",
          "Санкт-Петербург",
          "Санкт-Петербург",
          "Санкт-Петербург",
          "Санкт-Петербург",
          "Санкт-Петербург",
          "Санкт-Петербург",
          "Санкт-Петербург",
          "Санкт-Петербург",
          "Санкт-Петербург",
          "Санкт-Петербург",
          "Санкт-Петербург",
          "Санкт-Петербург",
          "Санкт-Петербург",
          "Санкт-Петербург",
          "Санкт-Петербург",
          "Санкт-Петербург",
          "Санкт-Петербург",
          "Санкт-Петербург",
          "Санкт-Петербург",
          "Санкт-Петербург",
          "Санкт-Петербург",
          "Санкт-Петербург",
          "Санкт-Петербург",
          "Санкт-Петербург",
          "Санкт-Петербург",
          "Санкт-Петербург",
          "Санкт-Петербург",
          "Санкт-Петербург",
          "Санкт-Петербург",
          "Санкт-Петербург",
          "Санкт-Петербург",
          "Санкт-Петербург",
          "Санкт-Петербург",
          "Санкт-Петербург",
          "Санкт-Петербург",
          "Санкт-Петербург",
          "Санкт-Петербург",
          "Санкт-Петербург",
          "Санкт-Петербург",
          "Санкт-Петербург",
          "Санкт-Петербург",
          "Санкт-Петербург"
         ],
         "x0": " ",
         "xaxis": "x",
         "y": [
          60000,
          60000,
          80000,
          60000,
          60000,
          80000,
          60000,
          60000,
          80000,
          60000,
          60000,
          80000,
          60000,
          60000,
          80000,
          60000,
          60000,
          80000,
          60000,
          60000,
          80000,
          60000,
          60000,
          80000,
          60000,
          60000,
          80000,
          60000,
          60000,
          80000,
          60000,
          60000,
          80000,
          60000,
          60000,
          80000,
          60000,
          60000,
          80000,
          60000,
          60000,
          80000,
          60000,
          60000,
          80000,
          60000,
          60000,
          80000,
          60000,
          60000,
          80000,
          60000,
          60000,
          80000,
          60000,
          60000,
          80000,
          60000,
          60000,
          80000
         ],
         "y0": " ",
         "yaxis": "y"
        },
        {
         "alignmentgroup": "True",
         "hovertemplate": "Регион=%{x}<br>Зарплата от, руб.=%{y}<extra></extra>",
         "legendgroup": "Тула",
         "marker": {
          "color": "#19d3f3"
         },
         "name": "Тула",
         "notched": false,
         "offsetgroup": "Тула",
         "orientation": "v",
         "showlegend": true,
         "type": "box",
         "x": [
          "Тула",
          "Тула",
          "Тула",
          "Тула",
          "Тула",
          "Тула",
          "Тула",
          "Тула",
          "Тула",
          "Тула",
          "Тула",
          "Тула",
          "Тула",
          "Тула",
          "Тула",
          "Тула",
          "Тула",
          "Тула",
          "Тула",
          "Тула",
          "Тула",
          "Тула",
          "Тула",
          "Тула",
          "Тула",
          "Тула",
          "Тула",
          "Тула",
          "Тула",
          "Тула",
          "Тула",
          "Тула",
          "Тула",
          "Тула",
          "Тула",
          "Тула",
          "Тула",
          "Тула",
          "Тула",
          "Тула",
          "Тула",
          "Тула",
          "Тула",
          "Тула",
          "Тула",
          "Тула",
          "Тула",
          "Тула",
          "Тула",
          "Тула",
          "Тула",
          "Тула",
          "Тула",
          "Тула",
          "Тула",
          "Тула",
          "Тула",
          "Тула",
          "Тула",
          "Тула"
         ],
         "x0": " ",
         "xaxis": "x",
         "y": [
          50000,
          114000,
          35000,
          50000,
          114000,
          35000,
          50000,
          114000,
          35000,
          50000,
          114000,
          35000,
          50000,
          114000,
          35000,
          50000,
          114000,
          35000,
          50000,
          114000,
          35000,
          50000,
          114000,
          35000,
          50000,
          114000,
          35000,
          50000,
          114000,
          35000,
          50000,
          114000,
          35000,
          50000,
          114000,
          35000,
          50000,
          114000,
          35000,
          50000,
          114000,
          35000,
          50000,
          114000,
          35000,
          50000,
          114000,
          35000,
          50000,
          114000,
          35000,
          50000,
          114000,
          35000,
          50000,
          114000,
          35000,
          50000,
          114000,
          35000
         ],
         "y0": " ",
         "yaxis": "y"
        },
        {
         "alignmentgroup": "True",
         "hovertemplate": "Регион=%{x}<br>Зарплата от, руб.=%{y}<extra></extra>",
         "legendgroup": "Самара",
         "marker": {
          "color": "#FF6692"
         },
         "name": "Самара",
         "notched": false,
         "offsetgroup": "Самара",
         "orientation": "v",
         "showlegend": true,
         "type": "box",
         "x": [
          "Самара",
          "Самара",
          "Самара",
          "Самара",
          "Самара",
          "Самара",
          "Самара",
          "Самара",
          "Самара",
          "Самара",
          "Самара",
          "Самара",
          "Самара",
          "Самара",
          "Самара",
          "Самара",
          "Самара",
          "Самара",
          "Самара",
          "Самара",
          "Самара",
          "Самара",
          "Самара",
          "Самара",
          "Самара",
          "Самара",
          "Самара",
          "Самара",
          "Самара",
          "Самара",
          "Самара",
          "Самара",
          "Самара",
          "Самара",
          "Самара",
          "Самара",
          "Самара",
          "Самара",
          "Самара",
          "Самара"
         ],
         "x0": " ",
         "xaxis": "x",
         "y": [
          50000,
          80000,
          50000,
          80000,
          50000,
          80000,
          50000,
          80000,
          50000,
          80000,
          50000,
          80000,
          50000,
          80000,
          50000,
          80000,
          50000,
          80000,
          50000,
          80000,
          50000,
          80000,
          50000,
          80000,
          50000,
          80000,
          50000,
          80000,
          50000,
          80000,
          50000,
          80000,
          50000,
          80000,
          50000,
          80000,
          50000,
          80000,
          50000,
          80000
         ],
         "y0": " ",
         "yaxis": "y"
        }
       ],
       "layout": {
        "boxmode": "overlay",
        "legend": {
         "title": {
          "text": "Регион"
         },
         "tracegroupgap": 0
        },
        "margin": {
         "t": 60
        },
        "template": {
         "data": {
          "bar": [
           {
            "error_x": {
             "color": "#2a3f5f"
            },
            "error_y": {
             "color": "#2a3f5f"
            },
            "marker": {
             "line": {
              "color": "#E5ECF6",
              "width": 0.5
             },
             "pattern": {
              "fillmode": "overlay",
              "size": 10,
              "solidity": 0.2
             }
            },
            "type": "bar"
           }
          ],
          "barpolar": [
           {
            "marker": {
             "line": {
              "color": "#E5ECF6",
              "width": 0.5
             },
             "pattern": {
              "fillmode": "overlay",
              "size": 10,
              "solidity": 0.2
             }
            },
            "type": "barpolar"
           }
          ],
          "carpet": [
           {
            "aaxis": {
             "endlinecolor": "#2a3f5f",
             "gridcolor": "white",
             "linecolor": "white",
             "minorgridcolor": "white",
             "startlinecolor": "#2a3f5f"
            },
            "baxis": {
             "endlinecolor": "#2a3f5f",
             "gridcolor": "white",
             "linecolor": "white",
             "minorgridcolor": "white",
             "startlinecolor": "#2a3f5f"
            },
            "type": "carpet"
           }
          ],
          "choropleth": [
           {
            "colorbar": {
             "outlinewidth": 0,
             "ticks": ""
            },
            "type": "choropleth"
           }
          ],
          "contour": [
           {
            "colorbar": {
             "outlinewidth": 0,
             "ticks": ""
            },
            "colorscale": [
             [
              0,
              "#0d0887"
             ],
             [
              0.1111111111111111,
              "#46039f"
             ],
             [
              0.2222222222222222,
              "#7201a8"
             ],
             [
              0.3333333333333333,
              "#9c179e"
             ],
             [
              0.4444444444444444,
              "#bd3786"
             ],
             [
              0.5555555555555556,
              "#d8576b"
             ],
             [
              0.6666666666666666,
              "#ed7953"
             ],
             [
              0.7777777777777778,
              "#fb9f3a"
             ],
             [
              0.8888888888888888,
              "#fdca26"
             ],
             [
              1,
              "#f0f921"
             ]
            ],
            "type": "contour"
           }
          ],
          "contourcarpet": [
           {
            "colorbar": {
             "outlinewidth": 0,
             "ticks": ""
            },
            "type": "contourcarpet"
           }
          ],
          "heatmap": [
           {
            "colorbar": {
             "outlinewidth": 0,
             "ticks": ""
            },
            "colorscale": [
             [
              0,
              "#0d0887"
             ],
             [
              0.1111111111111111,
              "#46039f"
             ],
             [
              0.2222222222222222,
              "#7201a8"
             ],
             [
              0.3333333333333333,
              "#9c179e"
             ],
             [
              0.4444444444444444,
              "#bd3786"
             ],
             [
              0.5555555555555556,
              "#d8576b"
             ],
             [
              0.6666666666666666,
              "#ed7953"
             ],
             [
              0.7777777777777778,
              "#fb9f3a"
             ],
             [
              0.8888888888888888,
              "#fdca26"
             ],
             [
              1,
              "#f0f921"
             ]
            ],
            "type": "heatmap"
           }
          ],
          "heatmapgl": [
           {
            "colorbar": {
             "outlinewidth": 0,
             "ticks": ""
            },
            "colorscale": [
             [
              0,
              "#0d0887"
             ],
             [
              0.1111111111111111,
              "#46039f"
             ],
             [
              0.2222222222222222,
              "#7201a8"
             ],
             [
              0.3333333333333333,
              "#9c179e"
             ],
             [
              0.4444444444444444,
              "#bd3786"
             ],
             [
              0.5555555555555556,
              "#d8576b"
             ],
             [
              0.6666666666666666,
              "#ed7953"
             ],
             [
              0.7777777777777778,
              "#fb9f3a"
             ],
             [
              0.8888888888888888,
              "#fdca26"
             ],
             [
              1,
              "#f0f921"
             ]
            ],
            "type": "heatmapgl"
           }
          ],
          "histogram": [
           {
            "marker": {
             "pattern": {
              "fillmode": "overlay",
              "size": 10,
              "solidity": 0.2
             }
            },
            "type": "histogram"
           }
          ],
          "histogram2d": [
           {
            "colorbar": {
             "outlinewidth": 0,
             "ticks": ""
            },
            "colorscale": [
             [
              0,
              "#0d0887"
             ],
             [
              0.1111111111111111,
              "#46039f"
             ],
             [
              0.2222222222222222,
              "#7201a8"
             ],
             [
              0.3333333333333333,
              "#9c179e"
             ],
             [
              0.4444444444444444,
              "#bd3786"
             ],
             [
              0.5555555555555556,
              "#d8576b"
             ],
             [
              0.6666666666666666,
              "#ed7953"
             ],
             [
              0.7777777777777778,
              "#fb9f3a"
             ],
             [
              0.8888888888888888,
              "#fdca26"
             ],
             [
              1,
              "#f0f921"
             ]
            ],
            "type": "histogram2d"
           }
          ],
          "histogram2dcontour": [
           {
            "colorbar": {
             "outlinewidth": 0,
             "ticks": ""
            },
            "colorscale": [
             [
              0,
              "#0d0887"
             ],
             [
              0.1111111111111111,
              "#46039f"
             ],
             [
              0.2222222222222222,
              "#7201a8"
             ],
             [
              0.3333333333333333,
              "#9c179e"
             ],
             [
              0.4444444444444444,
              "#bd3786"
             ],
             [
              0.5555555555555556,
              "#d8576b"
             ],
             [
              0.6666666666666666,
              "#ed7953"
             ],
             [
              0.7777777777777778,
              "#fb9f3a"
             ],
             [
              0.8888888888888888,
              "#fdca26"
             ],
             [
              1,
              "#f0f921"
             ]
            ],
            "type": "histogram2dcontour"
           }
          ],
          "mesh3d": [
           {
            "colorbar": {
             "outlinewidth": 0,
             "ticks": ""
            },
            "type": "mesh3d"
           }
          ],
          "parcoords": [
           {
            "line": {
             "colorbar": {
              "outlinewidth": 0,
              "ticks": ""
             }
            },
            "type": "parcoords"
           }
          ],
          "pie": [
           {
            "automargin": true,
            "type": "pie"
           }
          ],
          "scatter": [
           {
            "fillpattern": {
             "fillmode": "overlay",
             "size": 10,
             "solidity": 0.2
            },
            "type": "scatter"
           }
          ],
          "scatter3d": [
           {
            "line": {
             "colorbar": {
              "outlinewidth": 0,
              "ticks": ""
             }
            },
            "marker": {
             "colorbar": {
              "outlinewidth": 0,
              "ticks": ""
             }
            },
            "type": "scatter3d"
           }
          ],
          "scattercarpet": [
           {
            "marker": {
             "colorbar": {
              "outlinewidth": 0,
              "ticks": ""
             }
            },
            "type": "scattercarpet"
           }
          ],
          "scattergeo": [
           {
            "marker": {
             "colorbar": {
              "outlinewidth": 0,
              "ticks": ""
             }
            },
            "type": "scattergeo"
           }
          ],
          "scattergl": [
           {
            "marker": {
             "colorbar": {
              "outlinewidth": 0,
              "ticks": ""
             }
            },
            "type": "scattergl"
           }
          ],
          "scattermapbox": [
           {
            "marker": {
             "colorbar": {
              "outlinewidth": 0,
              "ticks": ""
             }
            },
            "type": "scattermapbox"
           }
          ],
          "scatterpolar": [
           {
            "marker": {
             "colorbar": {
              "outlinewidth": 0,
              "ticks": ""
             }
            },
            "type": "scatterpolar"
           }
          ],
          "scatterpolargl": [
           {
            "marker": {
             "colorbar": {
              "outlinewidth": 0,
              "ticks": ""
             }
            },
            "type": "scatterpolargl"
           }
          ],
          "scatterternary": [
           {
            "marker": {
             "colorbar": {
              "outlinewidth": 0,
              "ticks": ""
             }
            },
            "type": "scatterternary"
           }
          ],
          "surface": [
           {
            "colorbar": {
             "outlinewidth": 0,
             "ticks": ""
            },
            "colorscale": [
             [
              0,
              "#0d0887"
             ],
             [
              0.1111111111111111,
              "#46039f"
             ],
             [
              0.2222222222222222,
              "#7201a8"
             ],
             [
              0.3333333333333333,
              "#9c179e"
             ],
             [
              0.4444444444444444,
              "#bd3786"
             ],
             [
              0.5555555555555556,
              "#d8576b"
             ],
             [
              0.6666666666666666,
              "#ed7953"
             ],
             [
              0.7777777777777778,
              "#fb9f3a"
             ],
             [
              0.8888888888888888,
              "#fdca26"
             ],
             [
              1,
              "#f0f921"
             ]
            ],
            "type": "surface"
           }
          ],
          "table": [
           {
            "cells": {
             "fill": {
              "color": "#EBF0F8"
             },
             "line": {
              "color": "white"
             }
            },
            "header": {
             "fill": {
              "color": "#C8D4E3"
             },
             "line": {
              "color": "white"
             }
            },
            "type": "table"
           }
          ]
         },
         "layout": {
          "annotationdefaults": {
           "arrowcolor": "#2a3f5f",
           "arrowhead": 0,
           "arrowwidth": 1
          },
          "autotypenumbers": "strict",
          "coloraxis": {
           "colorbar": {
            "outlinewidth": 0,
            "ticks": ""
           }
          },
          "colorscale": {
           "diverging": [
            [
             0,
             "#8e0152"
            ],
            [
             0.1,
             "#c51b7d"
            ],
            [
             0.2,
             "#de77ae"
            ],
            [
             0.3,
             "#f1b6da"
            ],
            [
             0.4,
             "#fde0ef"
            ],
            [
             0.5,
             "#f7f7f7"
            ],
            [
             0.6,
             "#e6f5d0"
            ],
            [
             0.7,
             "#b8e186"
            ],
            [
             0.8,
             "#7fbc41"
            ],
            [
             0.9,
             "#4d9221"
            ],
            [
             1,
             "#276419"
            ]
           ],
           "sequential": [
            [
             0,
             "#0d0887"
            ],
            [
             0.1111111111111111,
             "#46039f"
            ],
            [
             0.2222222222222222,
             "#7201a8"
            ],
            [
             0.3333333333333333,
             "#9c179e"
            ],
            [
             0.4444444444444444,
             "#bd3786"
            ],
            [
             0.5555555555555556,
             "#d8576b"
            ],
            [
             0.6666666666666666,
             "#ed7953"
            ],
            [
             0.7777777777777778,
             "#fb9f3a"
            ],
            [
             0.8888888888888888,
             "#fdca26"
            ],
            [
             1,
             "#f0f921"
            ]
           ],
           "sequentialminus": [
            [
             0,
             "#0d0887"
            ],
            [
             0.1111111111111111,
             "#46039f"
            ],
            [
             0.2222222222222222,
             "#7201a8"
            ],
            [
             0.3333333333333333,
             "#9c179e"
            ],
            [
             0.4444444444444444,
             "#bd3786"
            ],
            [
             0.5555555555555556,
             "#d8576b"
            ],
            [
             0.6666666666666666,
             "#ed7953"
            ],
            [
             0.7777777777777778,
             "#fb9f3a"
            ],
            [
             0.8888888888888888,
             "#fdca26"
            ],
            [
             1,
             "#f0f921"
            ]
           ]
          },
          "colorway": [
           "#636efa",
           "#EF553B",
           "#00cc96",
           "#ab63fa",
           "#FFA15A",
           "#19d3f3",
           "#FF6692",
           "#B6E880",
           "#FF97FF",
           "#FECB52"
          ],
          "font": {
           "color": "#2a3f5f"
          },
          "geo": {
           "bgcolor": "white",
           "lakecolor": "white",
           "landcolor": "#E5ECF6",
           "showlakes": true,
           "showland": true,
           "subunitcolor": "white"
          },
          "hoverlabel": {
           "align": "left"
          },
          "hovermode": "closest",
          "mapbox": {
           "style": "light"
          },
          "paper_bgcolor": "white",
          "plot_bgcolor": "#E5ECF6",
          "polar": {
           "angularaxis": {
            "gridcolor": "white",
            "linecolor": "white",
            "ticks": ""
           },
           "bgcolor": "#E5ECF6",
           "radialaxis": {
            "gridcolor": "white",
            "linecolor": "white",
            "ticks": ""
           }
          },
          "scene": {
           "xaxis": {
            "backgroundcolor": "#E5ECF6",
            "gridcolor": "white",
            "gridwidth": 2,
            "linecolor": "white",
            "showbackground": true,
            "ticks": "",
            "zerolinecolor": "white"
           },
           "yaxis": {
            "backgroundcolor": "#E5ECF6",
            "gridcolor": "white",
            "gridwidth": 2,
            "linecolor": "white",
            "showbackground": true,
            "ticks": "",
            "zerolinecolor": "white"
           },
           "zaxis": {
            "backgroundcolor": "#E5ECF6",
            "gridcolor": "white",
            "gridwidth": 2,
            "linecolor": "white",
            "showbackground": true,
            "ticks": "",
            "zerolinecolor": "white"
           }
          },
          "shapedefaults": {
           "line": {
            "color": "#2a3f5f"
           }
          },
          "ternary": {
           "aaxis": {
            "gridcolor": "white",
            "linecolor": "white",
            "ticks": ""
           },
           "baxis": {
            "gridcolor": "white",
            "linecolor": "white",
            "ticks": ""
           },
           "bgcolor": "#E5ECF6",
           "caxis": {
            "gridcolor": "white",
            "linecolor": "white",
            "ticks": ""
           }
          },
          "title": {
           "x": 0.05
          },
          "xaxis": {
           "automargin": true,
           "gridcolor": "white",
           "linecolor": "white",
           "ticks": "",
           "title": {
            "standoff": 15
           },
           "zerolinecolor": "white",
           "zerolinewidth": 2
          },
          "yaxis": {
           "automargin": true,
           "gridcolor": "white",
           "linecolor": "white",
           "ticks": "",
           "title": {
            "standoff": 15
           },
           "zerolinecolor": "white",
           "zerolinewidth": 2
          }
         }
        },
        "xaxis": {
         "anchor": "y",
         "categoryarray": [
          "Нижний Новгород",
          "Москва",
          "Новосибирск",
          "Екатеринбург",
          "Санкт-Петербург",
          "Тула",
          "Самара"
         ],
         "categoryorder": "array",
         "domain": [
          0,
          1
         ],
         "title": {
          "text": "Регион"
         }
        },
        "yaxis": {
         "anchor": "x",
         "domain": [
          0,
          1
         ],
         "title": {
          "text": "Зарплата от, руб."
         }
        }
       }
      },
      "text/html": [
       "<div>                            <div id=\"bc9e16dc-e1bc-42d7-9d6d-35e66355ea2c\" class=\"plotly-graph-div\" style=\"height:525px; width:100%;\"></div>            <script type=\"text/javascript\">                require([\"plotly\"], function(Plotly) {                    window.PLOTLYENV=window.PLOTLYENV || {};                                    if (document.getElementById(\"bc9e16dc-e1bc-42d7-9d6d-35e66355ea2c\")) {                    Plotly.newPlot(                        \"bc9e16dc-e1bc-42d7-9d6d-35e66355ea2c\",                        [{\"alignmentgroup\":\"True\",\"hovertemplate\":\"\\u0420\\u0435\\u0433\\u0438\\u043e\\u043d=%{x}<br>\\u0417\\u0430\\u0440\\u043f\\u043b\\u0430\\u0442\\u0430 \\u043e\\u0442, \\u0440\\u0443\\u0431.=%{y}<extra></extra>\",\"legendgroup\":\"\\u041d\\u0438\\u0436\\u043d\\u0438\\u0439 \\u041d\\u043e\\u0432\\u0433\\u043e\\u0440\\u043e\\u0434\",\"marker\":{\"color\":\"#636efa\"},\"name\":\"\\u041d\\u0438\\u0436\\u043d\\u0438\\u0439 \\u041d\\u043e\\u0432\\u0433\\u043e\\u0440\\u043e\\u0434\",\"notched\":false,\"offsetgroup\":\"\\u041d\\u0438\\u0436\\u043d\\u0438\\u0439 \\u041d\\u043e\\u0432\\u0433\\u043e\\u0440\\u043e\\u0434\",\"orientation\":\"v\",\"showlegend\":true,\"x\":[\"\\u041d\\u0438\\u0436\\u043d\\u0438\\u0439 \\u041d\\u043e\\u0432\\u0433\\u043e\\u0440\\u043e\\u0434\",\"\\u041d\\u0438\\u0436\\u043d\\u0438\\u0439 \\u041d\\u043e\\u0432\\u0433\\u043e\\u0440\\u043e\\u0434\",\"\\u041d\\u0438\\u0436\\u043d\\u0438\\u0439 \\u041d\\u043e\\u0432\\u0433\\u043e\\u0440\\u043e\\u0434\",\"\\u041d\\u0438\\u0436\\u043d\\u0438\\u0439 \\u041d\\u043e\\u0432\\u0433\\u043e\\u0440\\u043e\\u0434\",\"\\u041d\\u0438\\u0436\\u043d\\u0438\\u0439 \\u041d\\u043e\\u0432\\u0433\\u043e\\u0440\\u043e\\u0434\",\"\\u041d\\u0438\\u0436\\u043d\\u0438\\u0439 \\u041d\\u043e\\u0432\\u0433\\u043e\\u0440\\u043e\\u0434\",\"\\u041d\\u0438\\u0436\\u043d\\u0438\\u0439 \\u041d\\u043e\\u0432\\u0433\\u043e\\u0440\\u043e\\u0434\",\"\\u041d\\u0438\\u0436\\u043d\\u0438\\u0439 \\u041d\\u043e\\u0432\\u0433\\u043e\\u0440\\u043e\\u0434\",\"\\u041d\\u0438\\u0436\\u043d\\u0438\\u0439 \\u041d\\u043e\\u0432\\u0433\\u043e\\u0440\\u043e\\u0434\",\"\\u041d\\u0438\\u0436\\u043d\\u0438\\u0439 \\u041d\\u043e\\u0432\\u0433\\u043e\\u0440\\u043e\\u0434\",\"\\u041d\\u0438\\u0436\\u043d\\u0438\\u0439 \\u041d\\u043e\\u0432\\u0433\\u043e\\u0440\\u043e\\u0434\",\"\\u041d\\u0438\\u0436\\u043d\\u0438\\u0439 \\u041d\\u043e\\u0432\\u0433\\u043e\\u0440\\u043e\\u0434\",\"\\u041d\\u0438\\u0436\\u043d\\u0438\\u0439 \\u041d\\u043e\\u0432\\u0433\\u043e\\u0440\\u043e\\u0434\",\"\\u041d\\u0438\\u0436\\u043d\\u0438\\u0439 \\u041d\\u043e\\u0432\\u0433\\u043e\\u0440\\u043e\\u0434\",\"\\u041d\\u0438\\u0436\\u043d\\u0438\\u0439 \\u041d\\u043e\\u0432\\u0433\\u043e\\u0440\\u043e\\u0434\",\"\\u041d\\u0438\\u0436\\u043d\\u0438\\u0439 \\u041d\\u043e\\u0432\\u0433\\u043e\\u0440\\u043e\\u0434\",\"\\u041d\\u0438\\u0436\\u043d\\u0438\\u0439 \\u041d\\u043e\\u0432\\u0433\\u043e\\u0440\\u043e\\u0434\",\"\\u041d\\u0438\\u0436\\u043d\\u0438\\u0439 \\u041d\\u043e\\u0432\\u0433\\u043e\\u0440\\u043e\\u0434\",\"\\u041d\\u0438\\u0436\\u043d\\u0438\\u0439 \\u041d\\u043e\\u0432\\u0433\\u043e\\u0440\\u043e\\u0434\",\"\\u041d\\u0438\\u0436\\u043d\\u0438\\u0439 \\u041d\\u043e\\u0432\\u0433\\u043e\\u0440\\u043e\\u0434\",\"\\u041d\\u0438\\u0436\\u043d\\u0438\\u0439 \\u041d\\u043e\\u0432\\u0433\\u043e\\u0440\\u043e\\u0434\",\"\\u041d\\u0438\\u0436\\u043d\\u0438\\u0439 \\u041d\\u043e\\u0432\\u0433\\u043e\\u0440\\u043e\\u0434\",\"\\u041d\\u0438\\u0436\\u043d\\u0438\\u0439 \\u041d\\u043e\\u0432\\u0433\\u043e\\u0440\\u043e\\u0434\",\"\\u041d\\u0438\\u0436\\u043d\\u0438\\u0439 \\u041d\\u043e\\u0432\\u0433\\u043e\\u0440\\u043e\\u0434\",\"\\u041d\\u0438\\u0436\\u043d\\u0438\\u0439 \\u041d\\u043e\\u0432\\u0433\\u043e\\u0440\\u043e\\u0434\",\"\\u041d\\u0438\\u0436\\u043d\\u0438\\u0439 \\u041d\\u043e\\u0432\\u0433\\u043e\\u0440\\u043e\\u0434\",\"\\u041d\\u0438\\u0436\\u043d\\u0438\\u0439 \\u041d\\u043e\\u0432\\u0433\\u043e\\u0440\\u043e\\u0434\",\"\\u041d\\u0438\\u0436\\u043d\\u0438\\u0439 \\u041d\\u043e\\u0432\\u0433\\u043e\\u0440\\u043e\\u0434\",\"\\u041d\\u0438\\u0436\\u043d\\u0438\\u0439 \\u041d\\u043e\\u0432\\u0433\\u043e\\u0440\\u043e\\u0434\",\"\\u041d\\u0438\\u0436\\u043d\\u0438\\u0439 \\u041d\\u043e\\u0432\\u0433\\u043e\\u0440\\u043e\\u0434\",\"\\u041d\\u0438\\u0436\\u043d\\u0438\\u0439 \\u041d\\u043e\\u0432\\u0433\\u043e\\u0440\\u043e\\u0434\",\"\\u041d\\u0438\\u0436\\u043d\\u0438\\u0439 \\u041d\\u043e\\u0432\\u0433\\u043e\\u0440\\u043e\\u0434\",\"\\u041d\\u0438\\u0436\\u043d\\u0438\\u0439 \\u041d\\u043e\\u0432\\u0433\\u043e\\u0440\\u043e\\u0434\",\"\\u041d\\u0438\\u0436\\u043d\\u0438\\u0439 \\u041d\\u043e\\u0432\\u0433\\u043e\\u0440\\u043e\\u0434\",\"\\u041d\\u0438\\u0436\\u043d\\u0438\\u0439 \\u041d\\u043e\\u0432\\u0433\\u043e\\u0440\\u043e\\u0434\",\"\\u041d\\u0438\\u0436\\u043d\\u0438\\u0439 \\u041d\\u043e\\u0432\\u0433\\u043e\\u0440\\u043e\\u0434\",\"\\u041d\\u0438\\u0436\\u043d\\u0438\\u0439 \\u041d\\u043e\\u0432\\u0433\\u043e\\u0440\\u043e\\u0434\",\"\\u041d\\u0438\\u0436\\u043d\\u0438\\u0439 \\u041d\\u043e\\u0432\\u0433\\u043e\\u0440\\u043e\\u0434\",\"\\u041d\\u0438\\u0436\\u043d\\u0438\\u0439 \\u041d\\u043e\\u0432\\u0433\\u043e\\u0440\\u043e\\u0434\",\"\\u041d\\u0438\\u0436\\u043d\\u0438\\u0439 \\u041d\\u043e\\u0432\\u0433\\u043e\\u0440\\u043e\\u0434\",\"\\u041d\\u0438\\u0436\\u043d\\u0438\\u0439 \\u041d\\u043e\\u0432\\u0433\\u043e\\u0440\\u043e\\u0434\",\"\\u041d\\u0438\\u0436\\u043d\\u0438\\u0439 \\u041d\\u043e\\u0432\\u0433\\u043e\\u0440\\u043e\\u0434\",\"\\u041d\\u0438\\u0436\\u043d\\u0438\\u0439 \\u041d\\u043e\\u0432\\u0433\\u043e\\u0440\\u043e\\u0434\",\"\\u041d\\u0438\\u0436\\u043d\\u0438\\u0439 \\u041d\\u043e\\u0432\\u0433\\u043e\\u0440\\u043e\\u0434\",\"\\u041d\\u0438\\u0436\\u043d\\u0438\\u0439 \\u041d\\u043e\\u0432\\u0433\\u043e\\u0440\\u043e\\u0434\",\"\\u041d\\u0438\\u0436\\u043d\\u0438\\u0439 \\u041d\\u043e\\u0432\\u0433\\u043e\\u0440\\u043e\\u0434\",\"\\u041d\\u0438\\u0436\\u043d\\u0438\\u0439 \\u041d\\u043e\\u0432\\u0433\\u043e\\u0440\\u043e\\u0434\",\"\\u041d\\u0438\\u0436\\u043d\\u0438\\u0439 \\u041d\\u043e\\u0432\\u0433\\u043e\\u0440\\u043e\\u0434\",\"\\u041d\\u0438\\u0436\\u043d\\u0438\\u0439 \\u041d\\u043e\\u0432\\u0433\\u043e\\u0440\\u043e\\u0434\",\"\\u041d\\u0438\\u0436\\u043d\\u0438\\u0439 \\u041d\\u043e\\u0432\\u0433\\u043e\\u0440\\u043e\\u0434\",\"\\u041d\\u0438\\u0436\\u043d\\u0438\\u0439 \\u041d\\u043e\\u0432\\u0433\\u043e\\u0440\\u043e\\u0434\",\"\\u041d\\u0438\\u0436\\u043d\\u0438\\u0439 \\u041d\\u043e\\u0432\\u0433\\u043e\\u0440\\u043e\\u0434\",\"\\u041d\\u0438\\u0436\\u043d\\u0438\\u0439 \\u041d\\u043e\\u0432\\u0433\\u043e\\u0440\\u043e\\u0434\",\"\\u041d\\u0438\\u0436\\u043d\\u0438\\u0439 \\u041d\\u043e\\u0432\\u0433\\u043e\\u0440\\u043e\\u0434\",\"\\u041d\\u0438\\u0436\\u043d\\u0438\\u0439 \\u041d\\u043e\\u0432\\u0433\\u043e\\u0440\\u043e\\u0434\",\"\\u041d\\u0438\\u0436\\u043d\\u0438\\u0439 \\u041d\\u043e\\u0432\\u0433\\u043e\\u0440\\u043e\\u0434\",\"\\u041d\\u0438\\u0436\\u043d\\u0438\\u0439 \\u041d\\u043e\\u0432\\u0433\\u043e\\u0440\\u043e\\u0434\",\"\\u041d\\u0438\\u0436\\u043d\\u0438\\u0439 \\u041d\\u043e\\u0432\\u0433\\u043e\\u0440\\u043e\\u0434\",\"\\u041d\\u0438\\u0436\\u043d\\u0438\\u0439 \\u041d\\u043e\\u0432\\u0433\\u043e\\u0440\\u043e\\u0434\",\"\\u041d\\u0438\\u0436\\u043d\\u0438\\u0439 \\u041d\\u043e\\u0432\\u0433\\u043e\\u0440\\u043e\\u0434\",\"\\u041d\\u0438\\u0436\\u043d\\u0438\\u0439 \\u041d\\u043e\\u0432\\u0433\\u043e\\u0440\\u043e\\u0434\",\"\\u041d\\u0438\\u0436\\u043d\\u0438\\u0439 \\u041d\\u043e\\u0432\\u0433\\u043e\\u0440\\u043e\\u0434\",\"\\u041d\\u0438\\u0436\\u043d\\u0438\\u0439 \\u041d\\u043e\\u0432\\u0433\\u043e\\u0440\\u043e\\u0434\",\"\\u041d\\u0438\\u0436\\u043d\\u0438\\u0439 \\u041d\\u043e\\u0432\\u0433\\u043e\\u0440\\u043e\\u0434\",\"\\u041d\\u0438\\u0436\\u043d\\u0438\\u0439 \\u041d\\u043e\\u0432\\u0433\\u043e\\u0440\\u043e\\u0434\",\"\\u041d\\u0438\\u0436\\u043d\\u0438\\u0439 \\u041d\\u043e\\u0432\\u0433\\u043e\\u0440\\u043e\\u0434\",\"\\u041d\\u0438\\u0436\\u043d\\u0438\\u0439 \\u041d\\u043e\\u0432\\u0433\\u043e\\u0440\\u043e\\u0434\",\"\\u041d\\u0438\\u0436\\u043d\\u0438\\u0439 \\u041d\\u043e\\u0432\\u0433\\u043e\\u0440\\u043e\\u0434\",\"\\u041d\\u0438\\u0436\\u043d\\u0438\\u0439 \\u041d\\u043e\\u0432\\u0433\\u043e\\u0440\\u043e\\u0434\",\"\\u041d\\u0438\\u0436\\u043d\\u0438\\u0439 \\u041d\\u043e\\u0432\\u0433\\u043e\\u0440\\u043e\\u0434\",\"\\u041d\\u0438\\u0436\\u043d\\u0438\\u0439 \\u041d\\u043e\\u0432\\u0433\\u043e\\u0440\\u043e\\u0434\",\"\\u041d\\u0438\\u0436\\u043d\\u0438\\u0439 \\u041d\\u043e\\u0432\\u0433\\u043e\\u0440\\u043e\\u0434\",\"\\u041d\\u0438\\u0436\\u043d\\u0438\\u0439 \\u041d\\u043e\\u0432\\u0433\\u043e\\u0440\\u043e\\u0434\",\"\\u041d\\u0438\\u0436\\u043d\\u0438\\u0439 \\u041d\\u043e\\u0432\\u0433\\u043e\\u0440\\u043e\\u0434\",\"\\u041d\\u0438\\u0436\\u043d\\u0438\\u0439 \\u041d\\u043e\\u0432\\u0433\\u043e\\u0440\\u043e\\u0434\",\"\\u041d\\u0438\\u0436\\u043d\\u0438\\u0439 \\u041d\\u043e\\u0432\\u0433\\u043e\\u0440\\u043e\\u0434\",\"\\u041d\\u0438\\u0436\\u043d\\u0438\\u0439 \\u041d\\u043e\\u0432\\u0433\\u043e\\u0440\\u043e\\u0434\",\"\\u041d\\u0438\\u0436\\u043d\\u0438\\u0439 \\u041d\\u043e\\u0432\\u0433\\u043e\\u0440\\u043e\\u0434\",\"\\u041d\\u0438\\u0436\\u043d\\u0438\\u0439 \\u041d\\u043e\\u0432\\u0433\\u043e\\u0440\\u043e\\u0434\",\"\\u041d\\u0438\\u0436\\u043d\\u0438\\u0439 \\u041d\\u043e\\u0432\\u0433\\u043e\\u0440\\u043e\\u0434\",\"\\u041d\\u0438\\u0436\\u043d\\u0438\\u0439 \\u041d\\u043e\\u0432\\u0433\\u043e\\u0440\\u043e\\u0434\",\"\\u041d\\u0438\\u0436\\u043d\\u0438\\u0439 \\u041d\\u043e\\u0432\\u0433\\u043e\\u0440\\u043e\\u0434\",\"\\u041d\\u0438\\u0436\\u043d\\u0438\\u0439 \\u041d\\u043e\\u0432\\u0433\\u043e\\u0440\\u043e\\u0434\",\"\\u041d\\u0438\\u0436\\u043d\\u0438\\u0439 \\u041d\\u043e\\u0432\\u0433\\u043e\\u0440\\u043e\\u0434\",\"\\u041d\\u0438\\u0436\\u043d\\u0438\\u0439 \\u041d\\u043e\\u0432\\u0433\\u043e\\u0440\\u043e\\u0434\",\"\\u041d\\u0438\\u0436\\u043d\\u0438\\u0439 \\u041d\\u043e\\u0432\\u0433\\u043e\\u0440\\u043e\\u0434\",\"\\u041d\\u0438\\u0436\\u043d\\u0438\\u0439 \\u041d\\u043e\\u0432\\u0433\\u043e\\u0440\\u043e\\u0434\",\"\\u041d\\u0438\\u0436\\u043d\\u0438\\u0439 \\u041d\\u043e\\u0432\\u0433\\u043e\\u0440\\u043e\\u0434\",\"\\u041d\\u0438\\u0436\\u043d\\u0438\\u0439 \\u041d\\u043e\\u0432\\u0433\\u043e\\u0440\\u043e\\u0434\",\"\\u041d\\u0438\\u0436\\u043d\\u0438\\u0439 \\u041d\\u043e\\u0432\\u0433\\u043e\\u0440\\u043e\\u0434\",\"\\u041d\\u0438\\u0436\\u043d\\u0438\\u0439 \\u041d\\u043e\\u0432\\u0433\\u043e\\u0440\\u043e\\u0434\",\"\\u041d\\u0438\\u0436\\u043d\\u0438\\u0439 \\u041d\\u043e\\u0432\\u0433\\u043e\\u0440\\u043e\\u0434\",\"\\u041d\\u0438\\u0436\\u043d\\u0438\\u0439 \\u041d\\u043e\\u0432\\u0433\\u043e\\u0440\\u043e\\u0434\",\"\\u041d\\u0438\\u0436\\u043d\\u0438\\u0439 \\u041d\\u043e\\u0432\\u0433\\u043e\\u0440\\u043e\\u0434\",\"\\u041d\\u0438\\u0436\\u043d\\u0438\\u0439 \\u041d\\u043e\\u0432\\u0433\\u043e\\u0440\\u043e\\u0434\",\"\\u041d\\u0438\\u0436\\u043d\\u0438\\u0439 \\u041d\\u043e\\u0432\\u0433\\u043e\\u0440\\u043e\\u0434\",\"\\u041d\\u0438\\u0436\\u043d\\u0438\\u0439 \\u041d\\u043e\\u0432\\u0433\\u043e\\u0440\\u043e\\u0434\",\"\\u041d\\u0438\\u0436\\u043d\\u0438\\u0439 \\u041d\\u043e\\u0432\\u0433\\u043e\\u0440\\u043e\\u0434\",\"\\u041d\\u0438\\u0436\\u043d\\u0438\\u0439 \\u041d\\u043e\\u0432\\u0433\\u043e\\u0440\\u043e\\u0434\",\"\\u041d\\u0438\\u0436\\u043d\\u0438\\u0439 \\u041d\\u043e\\u0432\\u0433\\u043e\\u0440\\u043e\\u0434\",\"\\u041d\\u0438\\u0436\\u043d\\u0438\\u0439 \\u041d\\u043e\\u0432\\u0433\\u043e\\u0440\\u043e\\u0434\",\"\\u041d\\u0438\\u0436\\u043d\\u0438\\u0439 \\u041d\\u043e\\u0432\\u0433\\u043e\\u0440\\u043e\\u0434\",\"\\u041d\\u0438\\u0436\\u043d\\u0438\\u0439 \\u041d\\u043e\\u0432\\u0433\\u043e\\u0440\\u043e\\u0434\",\"\\u041d\\u0438\\u0436\\u043d\\u0438\\u0439 \\u041d\\u043e\\u0432\\u0433\\u043e\\u0440\\u043e\\u0434\",\"\\u041d\\u0438\\u0436\\u043d\\u0438\\u0439 \\u041d\\u043e\\u0432\\u0433\\u043e\\u0440\\u043e\\u0434\",\"\\u041d\\u0438\\u0436\\u043d\\u0438\\u0439 \\u041d\\u043e\\u0432\\u0433\\u043e\\u0440\\u043e\\u0434\",\"\\u041d\\u0438\\u0436\\u043d\\u0438\\u0439 \\u041d\\u043e\\u0432\\u0433\\u043e\\u0440\\u043e\\u0434\",\"\\u041d\\u0438\\u0436\\u043d\\u0438\\u0439 \\u041d\\u043e\\u0432\\u0433\\u043e\\u0440\\u043e\\u0434\",\"\\u041d\\u0438\\u0436\\u043d\\u0438\\u0439 \\u041d\\u043e\\u0432\\u0433\\u043e\\u0440\\u043e\\u0434\",\"\\u041d\\u0438\\u0436\\u043d\\u0438\\u0439 \\u041d\\u043e\\u0432\\u0433\\u043e\\u0440\\u043e\\u0434\",\"\\u041d\\u0438\\u0436\\u043d\\u0438\\u0439 \\u041d\\u043e\\u0432\\u0433\\u043e\\u0440\\u043e\\u0434\",\"\\u041d\\u0438\\u0436\\u043d\\u0438\\u0439 \\u041d\\u043e\\u0432\\u0433\\u043e\\u0440\\u043e\\u0434\",\"\\u041d\\u0438\\u0436\\u043d\\u0438\\u0439 \\u041d\\u043e\\u0432\\u0433\\u043e\\u0440\\u043e\\u0434\",\"\\u041d\\u0438\\u0436\\u043d\\u0438\\u0439 \\u041d\\u043e\\u0432\\u0433\\u043e\\u0440\\u043e\\u0434\",\"\\u041d\\u0438\\u0436\\u043d\\u0438\\u0439 \\u041d\\u043e\\u0432\\u0433\\u043e\\u0440\\u043e\\u0434\",\"\\u041d\\u0438\\u0436\\u043d\\u0438\\u0439 \\u041d\\u043e\\u0432\\u0433\\u043e\\u0440\\u043e\\u0434\",\"\\u041d\\u0438\\u0436\\u043d\\u0438\\u0439 \\u041d\\u043e\\u0432\\u0433\\u043e\\u0440\\u043e\\u0434\",\"\\u041d\\u0438\\u0436\\u043d\\u0438\\u0439 \\u041d\\u043e\\u0432\\u0433\\u043e\\u0440\\u043e\\u0434\",\"\\u041d\\u0438\\u0436\\u043d\\u0438\\u0439 \\u041d\\u043e\\u0432\\u0433\\u043e\\u0440\\u043e\\u0434\",\"\\u041d\\u0438\\u0436\\u043d\\u0438\\u0439 \\u041d\\u043e\\u0432\\u0433\\u043e\\u0440\\u043e\\u0434\",\"\\u041d\\u0438\\u0436\\u043d\\u0438\\u0439 \\u041d\\u043e\\u0432\\u0433\\u043e\\u0440\\u043e\\u0434\",\"\\u041d\\u0438\\u0436\\u043d\\u0438\\u0439 \\u041d\\u043e\\u0432\\u0433\\u043e\\u0440\\u043e\\u0434\",\"\\u041d\\u0438\\u0436\\u043d\\u0438\\u0439 \\u041d\\u043e\\u0432\\u0433\\u043e\\u0440\\u043e\\u0434\",\"\\u041d\\u0438\\u0436\\u043d\\u0438\\u0439 \\u041d\\u043e\\u0432\\u0433\\u043e\\u0440\\u043e\\u0434\",\"\\u041d\\u0438\\u0436\\u043d\\u0438\\u0439 \\u041d\\u043e\\u0432\\u0433\\u043e\\u0440\\u043e\\u0434\",\"\\u041d\\u0438\\u0436\\u043d\\u0438\\u0439 \\u041d\\u043e\\u0432\\u0433\\u043e\\u0440\\u043e\\u0434\",\"\\u041d\\u0438\\u0436\\u043d\\u0438\\u0439 \\u041d\\u043e\\u0432\\u0433\\u043e\\u0440\\u043e\\u0434\",\"\\u041d\\u0438\\u0436\\u043d\\u0438\\u0439 \\u041d\\u043e\\u0432\\u0433\\u043e\\u0440\\u043e\\u0434\",\"\\u041d\\u0438\\u0436\\u043d\\u0438\\u0439 \\u041d\\u043e\\u0432\\u0433\\u043e\\u0440\\u043e\\u0434\",\"\\u041d\\u0438\\u0436\\u043d\\u0438\\u0439 \\u041d\\u043e\\u0432\\u0433\\u043e\\u0440\\u043e\\u0434\",\"\\u041d\\u0438\\u0436\\u043d\\u0438\\u0439 \\u041d\\u043e\\u0432\\u0433\\u043e\\u0440\\u043e\\u0434\",\"\\u041d\\u0438\\u0436\\u043d\\u0438\\u0439 \\u041d\\u043e\\u0432\\u0433\\u043e\\u0440\\u043e\\u0434\",\"\\u041d\\u0438\\u0436\\u043d\\u0438\\u0439 \\u041d\\u043e\\u0432\\u0433\\u043e\\u0440\\u043e\\u0434\",\"\\u041d\\u0438\\u0436\\u043d\\u0438\\u0439 \\u041d\\u043e\\u0432\\u0433\\u043e\\u0440\\u043e\\u0434\",\"\\u041d\\u0438\\u0436\\u043d\\u0438\\u0439 \\u041d\\u043e\\u0432\\u0433\\u043e\\u0440\\u043e\\u0434\",\"\\u041d\\u0438\\u0436\\u043d\\u0438\\u0439 \\u041d\\u043e\\u0432\\u0433\\u043e\\u0440\\u043e\\u0434\",\"\\u041d\\u0438\\u0436\\u043d\\u0438\\u0439 \\u041d\\u043e\\u0432\\u0433\\u043e\\u0440\\u043e\\u0434\",\"\\u041d\\u0438\\u0436\\u043d\\u0438\\u0439 \\u041d\\u043e\\u0432\\u0433\\u043e\\u0440\\u043e\\u0434\",\"\\u041d\\u0438\\u0436\\u043d\\u0438\\u0439 \\u041d\\u043e\\u0432\\u0433\\u043e\\u0440\\u043e\\u0434\",\"\\u041d\\u0438\\u0436\\u043d\\u0438\\u0439 \\u041d\\u043e\\u0432\\u0433\\u043e\\u0440\\u043e\\u0434\",\"\\u041d\\u0438\\u0436\\u043d\\u0438\\u0439 \\u041d\\u043e\\u0432\\u0433\\u043e\\u0440\\u043e\\u0434\",\"\\u041d\\u0438\\u0436\\u043d\\u0438\\u0439 \\u041d\\u043e\\u0432\\u0433\\u043e\\u0440\\u043e\\u0434\",\"\\u041d\\u0438\\u0436\\u043d\\u0438\\u0439 \\u041d\\u043e\\u0432\\u0433\\u043e\\u0440\\u043e\\u0434\",\"\\u041d\\u0438\\u0436\\u043d\\u0438\\u0439 \\u041d\\u043e\\u0432\\u0433\\u043e\\u0440\\u043e\\u0434\",\"\\u041d\\u0438\\u0436\\u043d\\u0438\\u0439 \\u041d\\u043e\\u0432\\u0433\\u043e\\u0440\\u043e\\u0434\",\"\\u041d\\u0438\\u0436\\u043d\\u0438\\u0439 \\u041d\\u043e\\u0432\\u0433\\u043e\\u0440\\u043e\\u0434\",\"\\u041d\\u0438\\u0436\\u043d\\u0438\\u0439 \\u041d\\u043e\\u0432\\u0433\\u043e\\u0440\\u043e\\u0434\",\"\\u041d\\u0438\\u0436\\u043d\\u0438\\u0439 \\u041d\\u043e\\u0432\\u0433\\u043e\\u0440\\u043e\\u0434\",\"\\u041d\\u0438\\u0436\\u043d\\u0438\\u0439 \\u041d\\u043e\\u0432\\u0433\\u043e\\u0440\\u043e\\u0434\",\"\\u041d\\u0438\\u0436\\u043d\\u0438\\u0439 \\u041d\\u043e\\u0432\\u0433\\u043e\\u0440\\u043e\\u0434\",\"\\u041d\\u0438\\u0436\\u043d\\u0438\\u0439 \\u041d\\u043e\\u0432\\u0433\\u043e\\u0440\\u043e\\u0434\",\"\\u041d\\u0438\\u0436\\u043d\\u0438\\u0439 \\u041d\\u043e\\u0432\\u0433\\u043e\\u0440\\u043e\\u0434\",\"\\u041d\\u0438\\u0436\\u043d\\u0438\\u0439 \\u041d\\u043e\\u0432\\u0433\\u043e\\u0440\\u043e\\u0434\",\"\\u041d\\u0438\\u0436\\u043d\\u0438\\u0439 \\u041d\\u043e\\u0432\\u0433\\u043e\\u0440\\u043e\\u0434\",\"\\u041d\\u0438\\u0436\\u043d\\u0438\\u0439 \\u041d\\u043e\\u0432\\u0433\\u043e\\u0440\\u043e\\u0434\",\"\\u041d\\u0438\\u0436\\u043d\\u0438\\u0439 \\u041d\\u043e\\u0432\\u0433\\u043e\\u0440\\u043e\\u0434\",\"\\u041d\\u0438\\u0436\\u043d\\u0438\\u0439 \\u041d\\u043e\\u0432\\u0433\\u043e\\u0440\\u043e\\u0434\",\"\\u041d\\u0438\\u0436\\u043d\\u0438\\u0439 \\u041d\\u043e\\u0432\\u0433\\u043e\\u0440\\u043e\\u0434\",\"\\u041d\\u0438\\u0436\\u043d\\u0438\\u0439 \\u041d\\u043e\\u0432\\u0433\\u043e\\u0440\\u043e\\u0434\",\"\\u041d\\u0438\\u0436\\u043d\\u0438\\u0439 \\u041d\\u043e\\u0432\\u0433\\u043e\\u0440\\u043e\\u0434\"],\"x0\":\" \",\"xaxis\":\"x\",\"y\":[10000.0,80000.0,70000.0,30000.0,50000.0,40000.0,10000.0,86000.0,10000.0,80000.0,70000.0,30000.0,50000.0,40000.0,10000.0,86000.0,10000.0,80000.0,70000.0,30000.0,50000.0,40000.0,10000.0,86000.0,10000.0,80000.0,70000.0,30000.0,50000.0,40000.0,10000.0,86000.0,10000.0,80000.0,70000.0,30000.0,50000.0,40000.0,10000.0,86000.0,10000.0,80000.0,70000.0,30000.0,50000.0,40000.0,10000.0,86000.0,10000.0,80000.0,70000.0,30000.0,50000.0,40000.0,10000.0,86000.0,10000.0,80000.0,70000.0,30000.0,50000.0,40000.0,10000.0,86000.0,10000.0,80000.0,70000.0,30000.0,50000.0,40000.0,10000.0,86000.0,10000.0,80000.0,70000.0,30000.0,50000.0,40000.0,10000.0,86000.0,10000.0,80000.0,70000.0,30000.0,50000.0,40000.0,10000.0,86000.0,10000.0,80000.0,70000.0,30000.0,50000.0,40000.0,10000.0,86000.0,10000.0,80000.0,70000.0,30000.0,50000.0,40000.0,10000.0,86000.0,10000.0,80000.0,70000.0,30000.0,50000.0,40000.0,10000.0,86000.0,10000.0,80000.0,70000.0,30000.0,50000.0,40000.0,10000.0,86000.0,10000.0,80000.0,70000.0,30000.0,50000.0,40000.0,10000.0,86000.0,10000.0,80000.0,70000.0,30000.0,50000.0,40000.0,10000.0,86000.0,10000.0,80000.0,70000.0,30000.0,50000.0,40000.0,10000.0,86000.0,10000.0,80000.0,70000.0,30000.0,50000.0,40000.0,10000.0,86000.0,10000.0,80000.0,70000.0,30000.0,50000.0,40000.0,10000.0,86000.0],\"y0\":\" \",\"yaxis\":\"y\",\"type\":\"box\"},{\"alignmentgroup\":\"True\",\"hovertemplate\":\"\\u0420\\u0435\\u0433\\u0438\\u043e\\u043d=%{x}<br>\\u0417\\u0430\\u0440\\u043f\\u043b\\u0430\\u0442\\u0430 \\u043e\\u0442, \\u0440\\u0443\\u0431.=%{y}<extra></extra>\",\"legendgroup\":\"\\u041c\\u043e\\u0441\\u043a\\u0432\\u0430\",\"marker\":{\"color\":\"#EF553B\"},\"name\":\"\\u041c\\u043e\\u0441\\u043a\\u0432\\u0430\",\"notched\":false,\"offsetgroup\":\"\\u041c\\u043e\\u0441\\u043a\\u0432\\u0430\",\"orientation\":\"v\",\"showlegend\":true,\"x\":[\"\\u041c\\u043e\\u0441\\u043a\\u0432\\u0430\",\"\\u041c\\u043e\\u0441\\u043a\\u0432\\u0430\",\"\\u041c\\u043e\\u0441\\u043a\\u0432\\u0430\",\"\\u041c\\u043e\\u0441\\u043a\\u0432\\u0430\",\"\\u041c\\u043e\\u0441\\u043a\\u0432\\u0430\",\"\\u041c\\u043e\\u0441\\u043a\\u0432\\u0430\",\"\\u041c\\u043e\\u0441\\u043a\\u0432\\u0430\",\"\\u041c\\u043e\\u0441\\u043a\\u0432\\u0430\",\"\\u041c\\u043e\\u0441\\u043a\\u0432\\u0430\",\"\\u041c\\u043e\\u0441\\u043a\\u0432\\u0430\",\"\\u041c\\u043e\\u0441\\u043a\\u0432\\u0430\",\"\\u041c\\u043e\\u0441\\u043a\\u0432\\u0430\",\"\\u041c\\u043e\\u0441\\u043a\\u0432\\u0430\",\"\\u041c\\u043e\\u0441\\u043a\\u0432\\u0430\",\"\\u041c\\u043e\\u0441\\u043a\\u0432\\u0430\",\"\\u041c\\u043e\\u0441\\u043a\\u0432\\u0430\",\"\\u041c\\u043e\\u0441\\u043a\\u0432\\u0430\",\"\\u041c\\u043e\\u0441\\u043a\\u0432\\u0430\",\"\\u041c\\u043e\\u0441\\u043a\\u0432\\u0430\",\"\\u041c\\u043e\\u0441\\u043a\\u0432\\u0430\",\"\\u041c\\u043e\\u0441\\u043a\\u0432\\u0430\",\"\\u041c\\u043e\\u0441\\u043a\\u0432\\u0430\",\"\\u041c\\u043e\\u0441\\u043a\\u0432\\u0430\",\"\\u041c\\u043e\\u0441\\u043a\\u0432\\u0430\",\"\\u041c\\u043e\\u0441\\u043a\\u0432\\u0430\",\"\\u041c\\u043e\\u0441\\u043a\\u0432\\u0430\",\"\\u041c\\u043e\\u0441\\u043a\\u0432\\u0430\",\"\\u041c\\u043e\\u0441\\u043a\\u0432\\u0430\",\"\\u041c\\u043e\\u0441\\u043a\\u0432\\u0430\",\"\\u041c\\u043e\\u0441\\u043a\\u0432\\u0430\",\"\\u041c\\u043e\\u0441\\u043a\\u0432\\u0430\",\"\\u041c\\u043e\\u0441\\u043a\\u0432\\u0430\",\"\\u041c\\u043e\\u0441\\u043a\\u0432\\u0430\",\"\\u041c\\u043e\\u0441\\u043a\\u0432\\u0430\",\"\\u041c\\u043e\\u0441\\u043a\\u0432\\u0430\",\"\\u041c\\u043e\\u0441\\u043a\\u0432\\u0430\",\"\\u041c\\u043e\\u0441\\u043a\\u0432\\u0430\",\"\\u041c\\u043e\\u0441\\u043a\\u0432\\u0430\",\"\\u041c\\u043e\\u0441\\u043a\\u0432\\u0430\",\"\\u041c\\u043e\\u0441\\u043a\\u0432\\u0430\",\"\\u041c\\u043e\\u0441\\u043a\\u0432\\u0430\",\"\\u041c\\u043e\\u0441\\u043a\\u0432\\u0430\",\"\\u041c\\u043e\\u0441\\u043a\\u0432\\u0430\",\"\\u041c\\u043e\\u0441\\u043a\\u0432\\u0430\",\"\\u041c\\u043e\\u0441\\u043a\\u0432\\u0430\",\"\\u041c\\u043e\\u0441\\u043a\\u0432\\u0430\",\"\\u041c\\u043e\\u0441\\u043a\\u0432\\u0430\",\"\\u041c\\u043e\\u0441\\u043a\\u0432\\u0430\",\"\\u041c\\u043e\\u0441\\u043a\\u0432\\u0430\",\"\\u041c\\u043e\\u0441\\u043a\\u0432\\u0430\",\"\\u041c\\u043e\\u0441\\u043a\\u0432\\u0430\",\"\\u041c\\u043e\\u0441\\u043a\\u0432\\u0430\",\"\\u041c\\u043e\\u0441\\u043a\\u0432\\u0430\",\"\\u041c\\u043e\\u0441\\u043a\\u0432\\u0430\",\"\\u041c\\u043e\\u0441\\u043a\\u0432\\u0430\",\"\\u041c\\u043e\\u0441\\u043a\\u0432\\u0430\",\"\\u041c\\u043e\\u0441\\u043a\\u0432\\u0430\",\"\\u041c\\u043e\\u0441\\u043a\\u0432\\u0430\",\"\\u041c\\u043e\\u0441\\u043a\\u0432\\u0430\",\"\\u041c\\u043e\\u0441\\u043a\\u0432\\u0430\",\"\\u041c\\u043e\\u0441\\u043a\\u0432\\u0430\",\"\\u041c\\u043e\\u0441\\u043a\\u0432\\u0430\",\"\\u041c\\u043e\\u0441\\u043a\\u0432\\u0430\",\"\\u041c\\u043e\\u0441\\u043a\\u0432\\u0430\",\"\\u041c\\u043e\\u0441\\u043a\\u0432\\u0430\",\"\\u041c\\u043e\\u0441\\u043a\\u0432\\u0430\",\"\\u041c\\u043e\\u0441\\u043a\\u0432\\u0430\",\"\\u041c\\u043e\\u0441\\u043a\\u0432\\u0430\",\"\\u041c\\u043e\\u0441\\u043a\\u0432\\u0430\",\"\\u041c\\u043e\\u0441\\u043a\\u0432\\u0430\",\"\\u041c\\u043e\\u0441\\u043a\\u0432\\u0430\",\"\\u041c\\u043e\\u0441\\u043a\\u0432\\u0430\",\"\\u041c\\u043e\\u0441\\u043a\\u0432\\u0430\",\"\\u041c\\u043e\\u0441\\u043a\\u0432\\u0430\",\"\\u041c\\u043e\\u0441\\u043a\\u0432\\u0430\",\"\\u041c\\u043e\\u0441\\u043a\\u0432\\u0430\",\"\\u041c\\u043e\\u0441\\u043a\\u0432\\u0430\",\"\\u041c\\u043e\\u0441\\u043a\\u0432\\u0430\",\"\\u041c\\u043e\\u0441\\u043a\\u0432\\u0430\",\"\\u041c\\u043e\\u0441\\u043a\\u0432\\u0430\",\"\\u041c\\u043e\\u0441\\u043a\\u0432\\u0430\",\"\\u041c\\u043e\\u0441\\u043a\\u0432\\u0430\",\"\\u041c\\u043e\\u0441\\u043a\\u0432\\u0430\",\"\\u041c\\u043e\\u0441\\u043a\\u0432\\u0430\",\"\\u041c\\u043e\\u0441\\u043a\\u0432\\u0430\",\"\\u041c\\u043e\\u0441\\u043a\\u0432\\u0430\",\"\\u041c\\u043e\\u0441\\u043a\\u0432\\u0430\",\"\\u041c\\u043e\\u0441\\u043a\\u0432\\u0430\",\"\\u041c\\u043e\\u0441\\u043a\\u0432\\u0430\",\"\\u041c\\u043e\\u0441\\u043a\\u0432\\u0430\",\"\\u041c\\u043e\\u0441\\u043a\\u0432\\u0430\",\"\\u041c\\u043e\\u0441\\u043a\\u0432\\u0430\",\"\\u041c\\u043e\\u0441\\u043a\\u0432\\u0430\",\"\\u041c\\u043e\\u0441\\u043a\\u0432\\u0430\",\"\\u041c\\u043e\\u0441\\u043a\\u0432\\u0430\",\"\\u041c\\u043e\\u0441\\u043a\\u0432\\u0430\",\"\\u041c\\u043e\\u0441\\u043a\\u0432\\u0430\",\"\\u041c\\u043e\\u0441\\u043a\\u0432\\u0430\",\"\\u041c\\u043e\\u0441\\u043a\\u0432\\u0430\",\"\\u041c\\u043e\\u0441\\u043a\\u0432\\u0430\",\"\\u041c\\u043e\\u0441\\u043a\\u0432\\u0430\",\"\\u041c\\u043e\\u0441\\u043a\\u0432\\u0430\",\"\\u041c\\u043e\\u0441\\u043a\\u0432\\u0430\",\"\\u041c\\u043e\\u0441\\u043a\\u0432\\u0430\",\"\\u041c\\u043e\\u0441\\u043a\\u0432\\u0430\",\"\\u041c\\u043e\\u0441\\u043a\\u0432\\u0430\",\"\\u041c\\u043e\\u0441\\u043a\\u0432\\u0430\",\"\\u041c\\u043e\\u0441\\u043a\\u0432\\u0430\",\"\\u041c\\u043e\\u0441\\u043a\\u0432\\u0430\",\"\\u041c\\u043e\\u0441\\u043a\\u0432\\u0430\",\"\\u041c\\u043e\\u0441\\u043a\\u0432\\u0430\",\"\\u041c\\u043e\\u0441\\u043a\\u0432\\u0430\",\"\\u041c\\u043e\\u0441\\u043a\\u0432\\u0430\",\"\\u041c\\u043e\\u0441\\u043a\\u0432\\u0430\",\"\\u041c\\u043e\\u0441\\u043a\\u0432\\u0430\",\"\\u041c\\u043e\\u0441\\u043a\\u0432\\u0430\",\"\\u041c\\u043e\\u0441\\u043a\\u0432\\u0430\",\"\\u041c\\u043e\\u0441\\u043a\\u0432\\u0430\",\"\\u041c\\u043e\\u0441\\u043a\\u0432\\u0430\",\"\\u041c\\u043e\\u0441\\u043a\\u0432\\u0430\"],\"x0\":\" \",\"xaxis\":\"x\",\"y\":[60000.0,60000.0,60000.0,130000.0,80000.0,1600.0,60000.0,60000.0,60000.0,130000.0,80000.0,1600.0,60000.0,60000.0,60000.0,130000.0,80000.0,1600.0,60000.0,60000.0,60000.0,130000.0,80000.0,1600.0,60000.0,60000.0,60000.0,130000.0,80000.0,1600.0,60000.0,60000.0,60000.0,130000.0,80000.0,1600.0,60000.0,60000.0,60000.0,130000.0,80000.0,1600.0,60000.0,60000.0,60000.0,130000.0,80000.0,1600.0,60000.0,60000.0,60000.0,130000.0,80000.0,1600.0,60000.0,60000.0,60000.0,130000.0,80000.0,1600.0,60000.0,60000.0,60000.0,130000.0,80000.0,1600.0,60000.0,60000.0,60000.0,130000.0,80000.0,1600.0,60000.0,60000.0,60000.0,130000.0,80000.0,1600.0,60000.0,60000.0,60000.0,130000.0,80000.0,1600.0,60000.0,60000.0,60000.0,130000.0,80000.0,1600.0,60000.0,60000.0,60000.0,130000.0,80000.0,1600.0,60000.0,60000.0,60000.0,130000.0,80000.0,1600.0,60000.0,60000.0,60000.0,130000.0,80000.0,1600.0,60000.0,60000.0,60000.0,130000.0,80000.0,1600.0,60000.0,60000.0,60000.0,130000.0,80000.0,1600.0],\"y0\":\" \",\"yaxis\":\"y\",\"type\":\"box\"},{\"alignmentgroup\":\"True\",\"hovertemplate\":\"\\u0420\\u0435\\u0433\\u0438\\u043e\\u043d=%{x}<br>\\u0417\\u0430\\u0440\\u043f\\u043b\\u0430\\u0442\\u0430 \\u043e\\u0442, \\u0440\\u0443\\u0431.=%{y}<extra></extra>\",\"legendgroup\":\"\\u041d\\u043e\\u0432\\u043e\\u0441\\u0438\\u0431\\u0438\\u0440\\u0441\\u043a\",\"marker\":{\"color\":\"#00cc96\"},\"name\":\"\\u041d\\u043e\\u0432\\u043e\\u0441\\u0438\\u0431\\u0438\\u0440\\u0441\\u043a\",\"notched\":false,\"offsetgroup\":\"\\u041d\\u043e\\u0432\\u043e\\u0441\\u0438\\u0431\\u0438\\u0440\\u0441\\u043a\",\"orientation\":\"v\",\"showlegend\":true,\"x\":[\"\\u041d\\u043e\\u0432\\u043e\\u0441\\u0438\\u0431\\u0438\\u0440\\u0441\\u043a\",\"\\u041d\\u043e\\u0432\\u043e\\u0441\\u0438\\u0431\\u0438\\u0440\\u0441\\u043a\",\"\\u041d\\u043e\\u0432\\u043e\\u0441\\u0438\\u0431\\u0438\\u0440\\u0441\\u043a\",\"\\u041d\\u043e\\u0432\\u043e\\u0441\\u0438\\u0431\\u0438\\u0440\\u0441\\u043a\",\"\\u041d\\u043e\\u0432\\u043e\\u0441\\u0438\\u0431\\u0438\\u0440\\u0441\\u043a\",\"\\u041d\\u043e\\u0432\\u043e\\u0441\\u0438\\u0431\\u0438\\u0440\\u0441\\u043a\",\"\\u041d\\u043e\\u0432\\u043e\\u0441\\u0438\\u0431\\u0438\\u0440\\u0441\\u043a\",\"\\u041d\\u043e\\u0432\\u043e\\u0441\\u0438\\u0431\\u0438\\u0440\\u0441\\u043a\",\"\\u041d\\u043e\\u0432\\u043e\\u0441\\u0438\\u0431\\u0438\\u0440\\u0441\\u043a\",\"\\u041d\\u043e\\u0432\\u043e\\u0441\\u0438\\u0431\\u0438\\u0440\\u0441\\u043a\",\"\\u041d\\u043e\\u0432\\u043e\\u0441\\u0438\\u0431\\u0438\\u0440\\u0441\\u043a\",\"\\u041d\\u043e\\u0432\\u043e\\u0441\\u0438\\u0431\\u0438\\u0440\\u0441\\u043a\",\"\\u041d\\u043e\\u0432\\u043e\\u0441\\u0438\\u0431\\u0438\\u0440\\u0441\\u043a\",\"\\u041d\\u043e\\u0432\\u043e\\u0441\\u0438\\u0431\\u0438\\u0440\\u0441\\u043a\",\"\\u041d\\u043e\\u0432\\u043e\\u0441\\u0438\\u0431\\u0438\\u0440\\u0441\\u043a\",\"\\u041d\\u043e\\u0432\\u043e\\u0441\\u0438\\u0431\\u0438\\u0440\\u0441\\u043a\",\"\\u041d\\u043e\\u0432\\u043e\\u0441\\u0438\\u0431\\u0438\\u0440\\u0441\\u043a\",\"\\u041d\\u043e\\u0432\\u043e\\u0441\\u0438\\u0431\\u0438\\u0440\\u0441\\u043a\",\"\\u041d\\u043e\\u0432\\u043e\\u0441\\u0438\\u0431\\u0438\\u0440\\u0441\\u043a\",\"\\u041d\\u043e\\u0432\\u043e\\u0441\\u0438\\u0431\\u0438\\u0440\\u0441\\u043a\",\"\\u041d\\u043e\\u0432\\u043e\\u0441\\u0438\\u0431\\u0438\\u0440\\u0441\\u043a\",\"\\u041d\\u043e\\u0432\\u043e\\u0441\\u0438\\u0431\\u0438\\u0440\\u0441\\u043a\",\"\\u041d\\u043e\\u0432\\u043e\\u0441\\u0438\\u0431\\u0438\\u0440\\u0441\\u043a\",\"\\u041d\\u043e\\u0432\\u043e\\u0441\\u0438\\u0431\\u0438\\u0440\\u0441\\u043a\",\"\\u041d\\u043e\\u0432\\u043e\\u0441\\u0438\\u0431\\u0438\\u0440\\u0441\\u043a\",\"\\u041d\\u043e\\u0432\\u043e\\u0441\\u0438\\u0431\\u0438\\u0440\\u0441\\u043a\",\"\\u041d\\u043e\\u0432\\u043e\\u0441\\u0438\\u0431\\u0438\\u0440\\u0441\\u043a\",\"\\u041d\\u043e\\u0432\\u043e\\u0441\\u0438\\u0431\\u0438\\u0440\\u0441\\u043a\",\"\\u041d\\u043e\\u0432\\u043e\\u0441\\u0438\\u0431\\u0438\\u0440\\u0441\\u043a\",\"\\u041d\\u043e\\u0432\\u043e\\u0441\\u0438\\u0431\\u0438\\u0440\\u0441\\u043a\",\"\\u041d\\u043e\\u0432\\u043e\\u0441\\u0438\\u0431\\u0438\\u0440\\u0441\\u043a\",\"\\u041d\\u043e\\u0432\\u043e\\u0441\\u0438\\u0431\\u0438\\u0440\\u0441\\u043a\",\"\\u041d\\u043e\\u0432\\u043e\\u0441\\u0438\\u0431\\u0438\\u0440\\u0441\\u043a\",\"\\u041d\\u043e\\u0432\\u043e\\u0441\\u0438\\u0431\\u0438\\u0440\\u0441\\u043a\",\"\\u041d\\u043e\\u0432\\u043e\\u0441\\u0438\\u0431\\u0438\\u0440\\u0441\\u043a\",\"\\u041d\\u043e\\u0432\\u043e\\u0441\\u0438\\u0431\\u0438\\u0440\\u0441\\u043a\",\"\\u041d\\u043e\\u0432\\u043e\\u0441\\u0438\\u0431\\u0438\\u0440\\u0441\\u043a\",\"\\u041d\\u043e\\u0432\\u043e\\u0441\\u0438\\u0431\\u0438\\u0440\\u0441\\u043a\",\"\\u041d\\u043e\\u0432\\u043e\\u0441\\u0438\\u0431\\u0438\\u0440\\u0441\\u043a\",\"\\u041d\\u043e\\u0432\\u043e\\u0441\\u0438\\u0431\\u0438\\u0440\\u0441\\u043a\",\"\\u041d\\u043e\\u0432\\u043e\\u0441\\u0438\\u0431\\u0438\\u0440\\u0441\\u043a\",\"\\u041d\\u043e\\u0432\\u043e\\u0441\\u0438\\u0431\\u0438\\u0440\\u0441\\u043a\",\"\\u041d\\u043e\\u0432\\u043e\\u0441\\u0438\\u0431\\u0438\\u0440\\u0441\\u043a\",\"\\u041d\\u043e\\u0432\\u043e\\u0441\\u0438\\u0431\\u0438\\u0440\\u0441\\u043a\",\"\\u041d\\u043e\\u0432\\u043e\\u0441\\u0438\\u0431\\u0438\\u0440\\u0441\\u043a\",\"\\u041d\\u043e\\u0432\\u043e\\u0441\\u0438\\u0431\\u0438\\u0440\\u0441\\u043a\",\"\\u041d\\u043e\\u0432\\u043e\\u0441\\u0438\\u0431\\u0438\\u0440\\u0441\\u043a\",\"\\u041d\\u043e\\u0432\\u043e\\u0441\\u0438\\u0431\\u0438\\u0440\\u0441\\u043a\",\"\\u041d\\u043e\\u0432\\u043e\\u0441\\u0438\\u0431\\u0438\\u0440\\u0441\\u043a\",\"\\u041d\\u043e\\u0432\\u043e\\u0441\\u0438\\u0431\\u0438\\u0440\\u0441\\u043a\",\"\\u041d\\u043e\\u0432\\u043e\\u0441\\u0438\\u0431\\u0438\\u0440\\u0441\\u043a\",\"\\u041d\\u043e\\u0432\\u043e\\u0441\\u0438\\u0431\\u0438\\u0440\\u0441\\u043a\",\"\\u041d\\u043e\\u0432\\u043e\\u0441\\u0438\\u0431\\u0438\\u0440\\u0441\\u043a\",\"\\u041d\\u043e\\u0432\\u043e\\u0441\\u0438\\u0431\\u0438\\u0440\\u0441\\u043a\",\"\\u041d\\u043e\\u0432\\u043e\\u0441\\u0438\\u0431\\u0438\\u0440\\u0441\\u043a\",\"\\u041d\\u043e\\u0432\\u043e\\u0441\\u0438\\u0431\\u0438\\u0440\\u0441\\u043a\",\"\\u041d\\u043e\\u0432\\u043e\\u0441\\u0438\\u0431\\u0438\\u0440\\u0441\\u043a\",\"\\u041d\\u043e\\u0432\\u043e\\u0441\\u0438\\u0431\\u0438\\u0440\\u0441\\u043a\",\"\\u041d\\u043e\\u0432\\u043e\\u0441\\u0438\\u0431\\u0438\\u0440\\u0441\\u043a\",\"\\u041d\\u043e\\u0432\\u043e\\u0441\\u0438\\u0431\\u0438\\u0440\\u0441\\u043a\",\"\\u041d\\u043e\\u0432\\u043e\\u0441\\u0438\\u0431\\u0438\\u0440\\u0441\\u043a\",\"\\u041d\\u043e\\u0432\\u043e\\u0441\\u0438\\u0431\\u0438\\u0440\\u0441\\u043a\",\"\\u041d\\u043e\\u0432\\u043e\\u0441\\u0438\\u0431\\u0438\\u0440\\u0441\\u043a\",\"\\u041d\\u043e\\u0432\\u043e\\u0441\\u0438\\u0431\\u0438\\u0440\\u0441\\u043a\",\"\\u041d\\u043e\\u0432\\u043e\\u0441\\u0438\\u0431\\u0438\\u0440\\u0441\\u043a\",\"\\u041d\\u043e\\u0432\\u043e\\u0441\\u0438\\u0431\\u0438\\u0440\\u0441\\u043a\",\"\\u041d\\u043e\\u0432\\u043e\\u0441\\u0438\\u0431\\u0438\\u0440\\u0441\\u043a\",\"\\u041d\\u043e\\u0432\\u043e\\u0441\\u0438\\u0431\\u0438\\u0440\\u0441\\u043a\",\"\\u041d\\u043e\\u0432\\u043e\\u0441\\u0438\\u0431\\u0438\\u0440\\u0441\\u043a\",\"\\u041d\\u043e\\u0432\\u043e\\u0441\\u0438\\u0431\\u0438\\u0440\\u0441\\u043a\",\"\\u041d\\u043e\\u0432\\u043e\\u0441\\u0438\\u0431\\u0438\\u0440\\u0441\\u043a\",\"\\u041d\\u043e\\u0432\\u043e\\u0441\\u0438\\u0431\\u0438\\u0440\\u0441\\u043a\",\"\\u041d\\u043e\\u0432\\u043e\\u0441\\u0438\\u0431\\u0438\\u0440\\u0441\\u043a\",\"\\u041d\\u043e\\u0432\\u043e\\u0441\\u0438\\u0431\\u0438\\u0440\\u0441\\u043a\",\"\\u041d\\u043e\\u0432\\u043e\\u0441\\u0438\\u0431\\u0438\\u0440\\u0441\\u043a\",\"\\u041d\\u043e\\u0432\\u043e\\u0441\\u0438\\u0431\\u0438\\u0440\\u0441\\u043a\",\"\\u041d\\u043e\\u0432\\u043e\\u0441\\u0438\\u0431\\u0438\\u0440\\u0441\\u043a\",\"\\u041d\\u043e\\u0432\\u043e\\u0441\\u0438\\u0431\\u0438\\u0440\\u0441\\u043a\",\"\\u041d\\u043e\\u0432\\u043e\\u0441\\u0438\\u0431\\u0438\\u0440\\u0441\\u043a\",\"\\u041d\\u043e\\u0432\\u043e\\u0441\\u0438\\u0431\\u0438\\u0440\\u0441\\u043a\"],\"x0\":\" \",\"xaxis\":\"x\",\"y\":[90000.0,1000.0,70000.0,60000.0,90000.0,1000.0,70000.0,60000.0,90000.0,1000.0,70000.0,60000.0,90000.0,1000.0,70000.0,60000.0,90000.0,1000.0,70000.0,60000.0,90000.0,1000.0,70000.0,60000.0,90000.0,1000.0,70000.0,60000.0,90000.0,1000.0,70000.0,60000.0,90000.0,1000.0,70000.0,60000.0,90000.0,1000.0,70000.0,60000.0,90000.0,1000.0,70000.0,60000.0,90000.0,1000.0,70000.0,60000.0,90000.0,1000.0,70000.0,60000.0,90000.0,1000.0,70000.0,60000.0,90000.0,1000.0,70000.0,60000.0,90000.0,1000.0,70000.0,60000.0,90000.0,1000.0,70000.0,60000.0,90000.0,1000.0,70000.0,60000.0,90000.0,1000.0,70000.0,60000.0,90000.0,1000.0,70000.0,60000.0],\"y0\":\" \",\"yaxis\":\"y\",\"type\":\"box\"},{\"alignmentgroup\":\"True\",\"hovertemplate\":\"\\u0420\\u0435\\u0433\\u0438\\u043e\\u043d=%{x}<br>\\u0417\\u0430\\u0440\\u043f\\u043b\\u0430\\u0442\\u0430 \\u043e\\u0442, \\u0440\\u0443\\u0431.=%{y}<extra></extra>\",\"legendgroup\":\"\\u0415\\u043a\\u0430\\u0442\\u0435\\u0440\\u0438\\u043d\\u0431\\u0443\\u0440\\u0433\",\"marker\":{\"color\":\"#ab63fa\"},\"name\":\"\\u0415\\u043a\\u0430\\u0442\\u0435\\u0440\\u0438\\u043d\\u0431\\u0443\\u0440\\u0433\",\"notched\":false,\"offsetgroup\":\"\\u0415\\u043a\\u0430\\u0442\\u0435\\u0440\\u0438\\u043d\\u0431\\u0443\\u0440\\u0433\",\"orientation\":\"v\",\"showlegend\":true,\"x\":[\"\\u0415\\u043a\\u0430\\u0442\\u0435\\u0440\\u0438\\u043d\\u0431\\u0443\\u0440\\u0433\",\"\\u0415\\u043a\\u0430\\u0442\\u0435\\u0440\\u0438\\u043d\\u0431\\u0443\\u0440\\u0433\",\"\\u0415\\u043a\\u0430\\u0442\\u0435\\u0440\\u0438\\u043d\\u0431\\u0443\\u0440\\u0433\",\"\\u0415\\u043a\\u0430\\u0442\\u0435\\u0440\\u0438\\u043d\\u0431\\u0443\\u0440\\u0433\",\"\\u0415\\u043a\\u0430\\u0442\\u0435\\u0440\\u0438\\u043d\\u0431\\u0443\\u0440\\u0433\",\"\\u0415\\u043a\\u0430\\u0442\\u0435\\u0440\\u0438\\u043d\\u0431\\u0443\\u0440\\u0433\",\"\\u0415\\u043a\\u0430\\u0442\\u0435\\u0440\\u0438\\u043d\\u0431\\u0443\\u0440\\u0433\",\"\\u0415\\u043a\\u0430\\u0442\\u0435\\u0440\\u0438\\u043d\\u0431\\u0443\\u0440\\u0433\",\"\\u0415\\u043a\\u0430\\u0442\\u0435\\u0440\\u0438\\u043d\\u0431\\u0443\\u0440\\u0433\",\"\\u0415\\u043a\\u0430\\u0442\\u0435\\u0440\\u0438\\u043d\\u0431\\u0443\\u0440\\u0433\",\"\\u0415\\u043a\\u0430\\u0442\\u0435\\u0440\\u0438\\u043d\\u0431\\u0443\\u0440\\u0433\",\"\\u0415\\u043a\\u0430\\u0442\\u0435\\u0440\\u0438\\u043d\\u0431\\u0443\\u0440\\u0433\",\"\\u0415\\u043a\\u0430\\u0442\\u0435\\u0440\\u0438\\u043d\\u0431\\u0443\\u0440\\u0433\",\"\\u0415\\u043a\\u0430\\u0442\\u0435\\u0440\\u0438\\u043d\\u0431\\u0443\\u0440\\u0433\",\"\\u0415\\u043a\\u0430\\u0442\\u0435\\u0440\\u0438\\u043d\\u0431\\u0443\\u0440\\u0433\",\"\\u0415\\u043a\\u0430\\u0442\\u0435\\u0440\\u0438\\u043d\\u0431\\u0443\\u0440\\u0433\",\"\\u0415\\u043a\\u0430\\u0442\\u0435\\u0440\\u0438\\u043d\\u0431\\u0443\\u0440\\u0433\",\"\\u0415\\u043a\\u0430\\u0442\\u0435\\u0440\\u0438\\u043d\\u0431\\u0443\\u0440\\u0433\",\"\\u0415\\u043a\\u0430\\u0442\\u0435\\u0440\\u0438\\u043d\\u0431\\u0443\\u0440\\u0433\",\"\\u0415\\u043a\\u0430\\u0442\\u0435\\u0440\\u0438\\u043d\\u0431\\u0443\\u0440\\u0433\",\"\\u0415\\u043a\\u0430\\u0442\\u0435\\u0440\\u0438\\u043d\\u0431\\u0443\\u0440\\u0433\",\"\\u0415\\u043a\\u0430\\u0442\\u0435\\u0440\\u0438\\u043d\\u0431\\u0443\\u0440\\u0433\",\"\\u0415\\u043a\\u0430\\u0442\\u0435\\u0440\\u0438\\u043d\\u0431\\u0443\\u0440\\u0433\",\"\\u0415\\u043a\\u0430\\u0442\\u0435\\u0440\\u0438\\u043d\\u0431\\u0443\\u0440\\u0433\",\"\\u0415\\u043a\\u0430\\u0442\\u0435\\u0440\\u0438\\u043d\\u0431\\u0443\\u0440\\u0433\",\"\\u0415\\u043a\\u0430\\u0442\\u0435\\u0440\\u0438\\u043d\\u0431\\u0443\\u0440\\u0433\",\"\\u0415\\u043a\\u0430\\u0442\\u0435\\u0440\\u0438\\u043d\\u0431\\u0443\\u0440\\u0433\",\"\\u0415\\u043a\\u0430\\u0442\\u0435\\u0440\\u0438\\u043d\\u0431\\u0443\\u0440\\u0433\",\"\\u0415\\u043a\\u0430\\u0442\\u0435\\u0440\\u0438\\u043d\\u0431\\u0443\\u0440\\u0433\",\"\\u0415\\u043a\\u0430\\u0442\\u0435\\u0440\\u0438\\u043d\\u0431\\u0443\\u0440\\u0433\",\"\\u0415\\u043a\\u0430\\u0442\\u0435\\u0440\\u0438\\u043d\\u0431\\u0443\\u0440\\u0433\",\"\\u0415\\u043a\\u0430\\u0442\\u0435\\u0440\\u0438\\u043d\\u0431\\u0443\\u0440\\u0433\",\"\\u0415\\u043a\\u0430\\u0442\\u0435\\u0440\\u0438\\u043d\\u0431\\u0443\\u0440\\u0433\",\"\\u0415\\u043a\\u0430\\u0442\\u0435\\u0440\\u0438\\u043d\\u0431\\u0443\\u0440\\u0433\",\"\\u0415\\u043a\\u0430\\u0442\\u0435\\u0440\\u0438\\u043d\\u0431\\u0443\\u0440\\u0433\",\"\\u0415\\u043a\\u0430\\u0442\\u0435\\u0440\\u0438\\u043d\\u0431\\u0443\\u0440\\u0433\",\"\\u0415\\u043a\\u0430\\u0442\\u0435\\u0440\\u0438\\u043d\\u0431\\u0443\\u0440\\u0433\",\"\\u0415\\u043a\\u0430\\u0442\\u0435\\u0440\\u0438\\u043d\\u0431\\u0443\\u0440\\u0433\",\"\\u0415\\u043a\\u0430\\u0442\\u0435\\u0440\\u0438\\u043d\\u0431\\u0443\\u0440\\u0433\",\"\\u0415\\u043a\\u0430\\u0442\\u0435\\u0440\\u0438\\u043d\\u0431\\u0443\\u0440\\u0433\",\"\\u0415\\u043a\\u0430\\u0442\\u0435\\u0440\\u0438\\u043d\\u0431\\u0443\\u0440\\u0433\",\"\\u0415\\u043a\\u0430\\u0442\\u0435\\u0440\\u0438\\u043d\\u0431\\u0443\\u0440\\u0433\",\"\\u0415\\u043a\\u0430\\u0442\\u0435\\u0440\\u0438\\u043d\\u0431\\u0443\\u0440\\u0433\",\"\\u0415\\u043a\\u0430\\u0442\\u0435\\u0440\\u0438\\u043d\\u0431\\u0443\\u0440\\u0433\",\"\\u0415\\u043a\\u0430\\u0442\\u0435\\u0440\\u0438\\u043d\\u0431\\u0443\\u0440\\u0433\",\"\\u0415\\u043a\\u0430\\u0442\\u0435\\u0440\\u0438\\u043d\\u0431\\u0443\\u0440\\u0433\",\"\\u0415\\u043a\\u0430\\u0442\\u0435\\u0440\\u0438\\u043d\\u0431\\u0443\\u0440\\u0433\",\"\\u0415\\u043a\\u0430\\u0442\\u0435\\u0440\\u0438\\u043d\\u0431\\u0443\\u0440\\u0433\",\"\\u0415\\u043a\\u0430\\u0442\\u0435\\u0440\\u0438\\u043d\\u0431\\u0443\\u0440\\u0433\",\"\\u0415\\u043a\\u0430\\u0442\\u0435\\u0440\\u0438\\u043d\\u0431\\u0443\\u0440\\u0433\",\"\\u0415\\u043a\\u0430\\u0442\\u0435\\u0440\\u0438\\u043d\\u0431\\u0443\\u0440\\u0433\",\"\\u0415\\u043a\\u0430\\u0442\\u0435\\u0440\\u0438\\u043d\\u0431\\u0443\\u0440\\u0433\",\"\\u0415\\u043a\\u0430\\u0442\\u0435\\u0440\\u0438\\u043d\\u0431\\u0443\\u0440\\u0433\",\"\\u0415\\u043a\\u0430\\u0442\\u0435\\u0440\\u0438\\u043d\\u0431\\u0443\\u0440\\u0433\",\"\\u0415\\u043a\\u0430\\u0442\\u0435\\u0440\\u0438\\u043d\\u0431\\u0443\\u0440\\u0433\",\"\\u0415\\u043a\\u0430\\u0442\\u0435\\u0440\\u0438\\u043d\\u0431\\u0443\\u0440\\u0433\",\"\\u0415\\u043a\\u0430\\u0442\\u0435\\u0440\\u0438\\u043d\\u0431\\u0443\\u0440\\u0433\",\"\\u0415\\u043a\\u0430\\u0442\\u0435\\u0440\\u0438\\u043d\\u0431\\u0443\\u0440\\u0433\",\"\\u0415\\u043a\\u0430\\u0442\\u0435\\u0440\\u0438\\u043d\\u0431\\u0443\\u0440\\u0433\",\"\\u0415\\u043a\\u0430\\u0442\\u0435\\u0440\\u0438\\u043d\\u0431\\u0443\\u0440\\u0433\",\"\\u0415\\u043a\\u0430\\u0442\\u0435\\u0440\\u0438\\u043d\\u0431\\u0443\\u0440\\u0433\",\"\\u0415\\u043a\\u0430\\u0442\\u0435\\u0440\\u0438\\u043d\\u0431\\u0443\\u0440\\u0433\",\"\\u0415\\u043a\\u0430\\u0442\\u0435\\u0440\\u0438\\u043d\\u0431\\u0443\\u0440\\u0433\",\"\\u0415\\u043a\\u0430\\u0442\\u0435\\u0440\\u0438\\u043d\\u0431\\u0443\\u0440\\u0433\",\"\\u0415\\u043a\\u0430\\u0442\\u0435\\u0440\\u0438\\u043d\\u0431\\u0443\\u0440\\u0433\",\"\\u0415\\u043a\\u0430\\u0442\\u0435\\u0440\\u0438\\u043d\\u0431\\u0443\\u0440\\u0433\",\"\\u0415\\u043a\\u0430\\u0442\\u0435\\u0440\\u0438\\u043d\\u0431\\u0443\\u0440\\u0433\",\"\\u0415\\u043a\\u0430\\u0442\\u0435\\u0440\\u0438\\u043d\\u0431\\u0443\\u0440\\u0433\",\"\\u0415\\u043a\\u0430\\u0442\\u0435\\u0440\\u0438\\u043d\\u0431\\u0443\\u0440\\u0433\",\"\\u0415\\u043a\\u0430\\u0442\\u0435\\u0440\\u0438\\u043d\\u0431\\u0443\\u0440\\u0433\",\"\\u0415\\u043a\\u0430\\u0442\\u0435\\u0440\\u0438\\u043d\\u0431\\u0443\\u0440\\u0433\",\"\\u0415\\u043a\\u0430\\u0442\\u0435\\u0440\\u0438\\u043d\\u0431\\u0443\\u0440\\u0433\",\"\\u0415\\u043a\\u0430\\u0442\\u0435\\u0440\\u0438\\u043d\\u0431\\u0443\\u0440\\u0433\",\"\\u0415\\u043a\\u0430\\u0442\\u0435\\u0440\\u0438\\u043d\\u0431\\u0443\\u0440\\u0433\",\"\\u0415\\u043a\\u0430\\u0442\\u0435\\u0440\\u0438\\u043d\\u0431\\u0443\\u0440\\u0433\",\"\\u0415\\u043a\\u0430\\u0442\\u0435\\u0440\\u0438\\u043d\\u0431\\u0443\\u0440\\u0433\",\"\\u0415\\u043a\\u0430\\u0442\\u0435\\u0440\\u0438\\u043d\\u0431\\u0443\\u0440\\u0433\",\"\\u0415\\u043a\\u0430\\u0442\\u0435\\u0440\\u0438\\u043d\\u0431\\u0443\\u0440\\u0433\",\"\\u0415\\u043a\\u0430\\u0442\\u0435\\u0440\\u0438\\u043d\\u0431\\u0443\\u0440\\u0433\",\"\\u0415\\u043a\\u0430\\u0442\\u0435\\u0440\\u0438\\u043d\\u0431\\u0443\\u0440\\u0433\"],\"x0\":\" \",\"xaxis\":\"x\",\"y\":[35000.0,50000.0,200000.0,35000.0,35000.0,50000.0,200000.0,35000.0,35000.0,50000.0,200000.0,35000.0,35000.0,50000.0,200000.0,35000.0,35000.0,50000.0,200000.0,35000.0,35000.0,50000.0,200000.0,35000.0,35000.0,50000.0,200000.0,35000.0,35000.0,50000.0,200000.0,35000.0,35000.0,50000.0,200000.0,35000.0,35000.0,50000.0,200000.0,35000.0,35000.0,50000.0,200000.0,35000.0,35000.0,50000.0,200000.0,35000.0,35000.0,50000.0,200000.0,35000.0,35000.0,50000.0,200000.0,35000.0,35000.0,50000.0,200000.0,35000.0,35000.0,50000.0,200000.0,35000.0,35000.0,50000.0,200000.0,35000.0,35000.0,50000.0,200000.0,35000.0,35000.0,50000.0,200000.0,35000.0,35000.0,50000.0,200000.0,35000.0],\"y0\":\" \",\"yaxis\":\"y\",\"type\":\"box\"},{\"alignmentgroup\":\"True\",\"hovertemplate\":\"\\u0420\\u0435\\u0433\\u0438\\u043e\\u043d=%{x}<br>\\u0417\\u0430\\u0440\\u043f\\u043b\\u0430\\u0442\\u0430 \\u043e\\u0442, \\u0440\\u0443\\u0431.=%{y}<extra></extra>\",\"legendgroup\":\"\\u0421\\u0430\\u043d\\u043a\\u0442-\\u041f\\u0435\\u0442\\u0435\\u0440\\u0431\\u0443\\u0440\\u0433\",\"marker\":{\"color\":\"#FFA15A\"},\"name\":\"\\u0421\\u0430\\u043d\\u043a\\u0442-\\u041f\\u0435\\u0442\\u0435\\u0440\\u0431\\u0443\\u0440\\u0433\",\"notched\":false,\"offsetgroup\":\"\\u0421\\u0430\\u043d\\u043a\\u0442-\\u041f\\u0435\\u0442\\u0435\\u0440\\u0431\\u0443\\u0440\\u0433\",\"orientation\":\"v\",\"showlegend\":true,\"x\":[\"\\u0421\\u0430\\u043d\\u043a\\u0442-\\u041f\\u0435\\u0442\\u0435\\u0440\\u0431\\u0443\\u0440\\u0433\",\"\\u0421\\u0430\\u043d\\u043a\\u0442-\\u041f\\u0435\\u0442\\u0435\\u0440\\u0431\\u0443\\u0440\\u0433\",\"\\u0421\\u0430\\u043d\\u043a\\u0442-\\u041f\\u0435\\u0442\\u0435\\u0440\\u0431\\u0443\\u0440\\u0433\",\"\\u0421\\u0430\\u043d\\u043a\\u0442-\\u041f\\u0435\\u0442\\u0435\\u0440\\u0431\\u0443\\u0440\\u0433\",\"\\u0421\\u0430\\u043d\\u043a\\u0442-\\u041f\\u0435\\u0442\\u0435\\u0440\\u0431\\u0443\\u0440\\u0433\",\"\\u0421\\u0430\\u043d\\u043a\\u0442-\\u041f\\u0435\\u0442\\u0435\\u0440\\u0431\\u0443\\u0440\\u0433\",\"\\u0421\\u0430\\u043d\\u043a\\u0442-\\u041f\\u0435\\u0442\\u0435\\u0440\\u0431\\u0443\\u0440\\u0433\",\"\\u0421\\u0430\\u043d\\u043a\\u0442-\\u041f\\u0435\\u0442\\u0435\\u0440\\u0431\\u0443\\u0440\\u0433\",\"\\u0421\\u0430\\u043d\\u043a\\u0442-\\u041f\\u0435\\u0442\\u0435\\u0440\\u0431\\u0443\\u0440\\u0433\",\"\\u0421\\u0430\\u043d\\u043a\\u0442-\\u041f\\u0435\\u0442\\u0435\\u0440\\u0431\\u0443\\u0440\\u0433\",\"\\u0421\\u0430\\u043d\\u043a\\u0442-\\u041f\\u0435\\u0442\\u0435\\u0440\\u0431\\u0443\\u0440\\u0433\",\"\\u0421\\u0430\\u043d\\u043a\\u0442-\\u041f\\u0435\\u0442\\u0435\\u0440\\u0431\\u0443\\u0440\\u0433\",\"\\u0421\\u0430\\u043d\\u043a\\u0442-\\u041f\\u0435\\u0442\\u0435\\u0440\\u0431\\u0443\\u0440\\u0433\",\"\\u0421\\u0430\\u043d\\u043a\\u0442-\\u041f\\u0435\\u0442\\u0435\\u0440\\u0431\\u0443\\u0440\\u0433\",\"\\u0421\\u0430\\u043d\\u043a\\u0442-\\u041f\\u0435\\u0442\\u0435\\u0440\\u0431\\u0443\\u0440\\u0433\",\"\\u0421\\u0430\\u043d\\u043a\\u0442-\\u041f\\u0435\\u0442\\u0435\\u0440\\u0431\\u0443\\u0440\\u0433\",\"\\u0421\\u0430\\u043d\\u043a\\u0442-\\u041f\\u0435\\u0442\\u0435\\u0440\\u0431\\u0443\\u0440\\u0433\",\"\\u0421\\u0430\\u043d\\u043a\\u0442-\\u041f\\u0435\\u0442\\u0435\\u0440\\u0431\\u0443\\u0440\\u0433\",\"\\u0421\\u0430\\u043d\\u043a\\u0442-\\u041f\\u0435\\u0442\\u0435\\u0440\\u0431\\u0443\\u0440\\u0433\",\"\\u0421\\u0430\\u043d\\u043a\\u0442-\\u041f\\u0435\\u0442\\u0435\\u0440\\u0431\\u0443\\u0440\\u0433\",\"\\u0421\\u0430\\u043d\\u043a\\u0442-\\u041f\\u0435\\u0442\\u0435\\u0440\\u0431\\u0443\\u0440\\u0433\",\"\\u0421\\u0430\\u043d\\u043a\\u0442-\\u041f\\u0435\\u0442\\u0435\\u0440\\u0431\\u0443\\u0440\\u0433\",\"\\u0421\\u0430\\u043d\\u043a\\u0442-\\u041f\\u0435\\u0442\\u0435\\u0440\\u0431\\u0443\\u0440\\u0433\",\"\\u0421\\u0430\\u043d\\u043a\\u0442-\\u041f\\u0435\\u0442\\u0435\\u0440\\u0431\\u0443\\u0440\\u0433\",\"\\u0421\\u0430\\u043d\\u043a\\u0442-\\u041f\\u0435\\u0442\\u0435\\u0440\\u0431\\u0443\\u0440\\u0433\",\"\\u0421\\u0430\\u043d\\u043a\\u0442-\\u041f\\u0435\\u0442\\u0435\\u0440\\u0431\\u0443\\u0440\\u0433\",\"\\u0421\\u0430\\u043d\\u043a\\u0442-\\u041f\\u0435\\u0442\\u0435\\u0440\\u0431\\u0443\\u0440\\u0433\",\"\\u0421\\u0430\\u043d\\u043a\\u0442-\\u041f\\u0435\\u0442\\u0435\\u0440\\u0431\\u0443\\u0440\\u0433\",\"\\u0421\\u0430\\u043d\\u043a\\u0442-\\u041f\\u0435\\u0442\\u0435\\u0440\\u0431\\u0443\\u0440\\u0433\",\"\\u0421\\u0430\\u043d\\u043a\\u0442-\\u041f\\u0435\\u0442\\u0435\\u0440\\u0431\\u0443\\u0440\\u0433\",\"\\u0421\\u0430\\u043d\\u043a\\u0442-\\u041f\\u0435\\u0442\\u0435\\u0440\\u0431\\u0443\\u0440\\u0433\",\"\\u0421\\u0430\\u043d\\u043a\\u0442-\\u041f\\u0435\\u0442\\u0435\\u0440\\u0431\\u0443\\u0440\\u0433\",\"\\u0421\\u0430\\u043d\\u043a\\u0442-\\u041f\\u0435\\u0442\\u0435\\u0440\\u0431\\u0443\\u0440\\u0433\",\"\\u0421\\u0430\\u043d\\u043a\\u0442-\\u041f\\u0435\\u0442\\u0435\\u0440\\u0431\\u0443\\u0440\\u0433\",\"\\u0421\\u0430\\u043d\\u043a\\u0442-\\u041f\\u0435\\u0442\\u0435\\u0440\\u0431\\u0443\\u0440\\u0433\",\"\\u0421\\u0430\\u043d\\u043a\\u0442-\\u041f\\u0435\\u0442\\u0435\\u0440\\u0431\\u0443\\u0440\\u0433\",\"\\u0421\\u0430\\u043d\\u043a\\u0442-\\u041f\\u0435\\u0442\\u0435\\u0440\\u0431\\u0443\\u0440\\u0433\",\"\\u0421\\u0430\\u043d\\u043a\\u0442-\\u041f\\u0435\\u0442\\u0435\\u0440\\u0431\\u0443\\u0440\\u0433\",\"\\u0421\\u0430\\u043d\\u043a\\u0442-\\u041f\\u0435\\u0442\\u0435\\u0440\\u0431\\u0443\\u0440\\u0433\",\"\\u0421\\u0430\\u043d\\u043a\\u0442-\\u041f\\u0435\\u0442\\u0435\\u0440\\u0431\\u0443\\u0440\\u0433\",\"\\u0421\\u0430\\u043d\\u043a\\u0442-\\u041f\\u0435\\u0442\\u0435\\u0440\\u0431\\u0443\\u0440\\u0433\",\"\\u0421\\u0430\\u043d\\u043a\\u0442-\\u041f\\u0435\\u0442\\u0435\\u0440\\u0431\\u0443\\u0440\\u0433\",\"\\u0421\\u0430\\u043d\\u043a\\u0442-\\u041f\\u0435\\u0442\\u0435\\u0440\\u0431\\u0443\\u0440\\u0433\",\"\\u0421\\u0430\\u043d\\u043a\\u0442-\\u041f\\u0435\\u0442\\u0435\\u0440\\u0431\\u0443\\u0440\\u0433\",\"\\u0421\\u0430\\u043d\\u043a\\u0442-\\u041f\\u0435\\u0442\\u0435\\u0440\\u0431\\u0443\\u0440\\u0433\",\"\\u0421\\u0430\\u043d\\u043a\\u0442-\\u041f\\u0435\\u0442\\u0435\\u0440\\u0431\\u0443\\u0440\\u0433\",\"\\u0421\\u0430\\u043d\\u043a\\u0442-\\u041f\\u0435\\u0442\\u0435\\u0440\\u0431\\u0443\\u0440\\u0433\",\"\\u0421\\u0430\\u043d\\u043a\\u0442-\\u041f\\u0435\\u0442\\u0435\\u0440\\u0431\\u0443\\u0440\\u0433\",\"\\u0421\\u0430\\u043d\\u043a\\u0442-\\u041f\\u0435\\u0442\\u0435\\u0440\\u0431\\u0443\\u0440\\u0433\",\"\\u0421\\u0430\\u043d\\u043a\\u0442-\\u041f\\u0435\\u0442\\u0435\\u0440\\u0431\\u0443\\u0440\\u0433\",\"\\u0421\\u0430\\u043d\\u043a\\u0442-\\u041f\\u0435\\u0442\\u0435\\u0440\\u0431\\u0443\\u0440\\u0433\",\"\\u0421\\u0430\\u043d\\u043a\\u0442-\\u041f\\u0435\\u0442\\u0435\\u0440\\u0431\\u0443\\u0440\\u0433\",\"\\u0421\\u0430\\u043d\\u043a\\u0442-\\u041f\\u0435\\u0442\\u0435\\u0440\\u0431\\u0443\\u0440\\u0433\",\"\\u0421\\u0430\\u043d\\u043a\\u0442-\\u041f\\u0435\\u0442\\u0435\\u0440\\u0431\\u0443\\u0440\\u0433\",\"\\u0421\\u0430\\u043d\\u043a\\u0442-\\u041f\\u0435\\u0442\\u0435\\u0440\\u0431\\u0443\\u0440\\u0433\",\"\\u0421\\u0430\\u043d\\u043a\\u0442-\\u041f\\u0435\\u0442\\u0435\\u0440\\u0431\\u0443\\u0440\\u0433\",\"\\u0421\\u0430\\u043d\\u043a\\u0442-\\u041f\\u0435\\u0442\\u0435\\u0440\\u0431\\u0443\\u0440\\u0433\",\"\\u0421\\u0430\\u043d\\u043a\\u0442-\\u041f\\u0435\\u0442\\u0435\\u0440\\u0431\\u0443\\u0440\\u0433\",\"\\u0421\\u0430\\u043d\\u043a\\u0442-\\u041f\\u0435\\u0442\\u0435\\u0440\\u0431\\u0443\\u0440\\u0433\",\"\\u0421\\u0430\\u043d\\u043a\\u0442-\\u041f\\u0435\\u0442\\u0435\\u0440\\u0431\\u0443\\u0440\\u0433\"],\"x0\":\" \",\"xaxis\":\"x\",\"y\":[60000.0,60000.0,80000.0,60000.0,60000.0,80000.0,60000.0,60000.0,80000.0,60000.0,60000.0,80000.0,60000.0,60000.0,80000.0,60000.0,60000.0,80000.0,60000.0,60000.0,80000.0,60000.0,60000.0,80000.0,60000.0,60000.0,80000.0,60000.0,60000.0,80000.0,60000.0,60000.0,80000.0,60000.0,60000.0,80000.0,60000.0,60000.0,80000.0,60000.0,60000.0,80000.0,60000.0,60000.0,80000.0,60000.0,60000.0,80000.0,60000.0,60000.0,80000.0,60000.0,60000.0,80000.0,60000.0,60000.0,80000.0,60000.0,60000.0,80000.0],\"y0\":\" \",\"yaxis\":\"y\",\"type\":\"box\"},{\"alignmentgroup\":\"True\",\"hovertemplate\":\"\\u0420\\u0435\\u0433\\u0438\\u043e\\u043d=%{x}<br>\\u0417\\u0430\\u0440\\u043f\\u043b\\u0430\\u0442\\u0430 \\u043e\\u0442, \\u0440\\u0443\\u0431.=%{y}<extra></extra>\",\"legendgroup\":\"\\u0422\\u0443\\u043b\\u0430\",\"marker\":{\"color\":\"#19d3f3\"},\"name\":\"\\u0422\\u0443\\u043b\\u0430\",\"notched\":false,\"offsetgroup\":\"\\u0422\\u0443\\u043b\\u0430\",\"orientation\":\"v\",\"showlegend\":true,\"x\":[\"\\u0422\\u0443\\u043b\\u0430\",\"\\u0422\\u0443\\u043b\\u0430\",\"\\u0422\\u0443\\u043b\\u0430\",\"\\u0422\\u0443\\u043b\\u0430\",\"\\u0422\\u0443\\u043b\\u0430\",\"\\u0422\\u0443\\u043b\\u0430\",\"\\u0422\\u0443\\u043b\\u0430\",\"\\u0422\\u0443\\u043b\\u0430\",\"\\u0422\\u0443\\u043b\\u0430\",\"\\u0422\\u0443\\u043b\\u0430\",\"\\u0422\\u0443\\u043b\\u0430\",\"\\u0422\\u0443\\u043b\\u0430\",\"\\u0422\\u0443\\u043b\\u0430\",\"\\u0422\\u0443\\u043b\\u0430\",\"\\u0422\\u0443\\u043b\\u0430\",\"\\u0422\\u0443\\u043b\\u0430\",\"\\u0422\\u0443\\u043b\\u0430\",\"\\u0422\\u0443\\u043b\\u0430\",\"\\u0422\\u0443\\u043b\\u0430\",\"\\u0422\\u0443\\u043b\\u0430\",\"\\u0422\\u0443\\u043b\\u0430\",\"\\u0422\\u0443\\u043b\\u0430\",\"\\u0422\\u0443\\u043b\\u0430\",\"\\u0422\\u0443\\u043b\\u0430\",\"\\u0422\\u0443\\u043b\\u0430\",\"\\u0422\\u0443\\u043b\\u0430\",\"\\u0422\\u0443\\u043b\\u0430\",\"\\u0422\\u0443\\u043b\\u0430\",\"\\u0422\\u0443\\u043b\\u0430\",\"\\u0422\\u0443\\u043b\\u0430\",\"\\u0422\\u0443\\u043b\\u0430\",\"\\u0422\\u0443\\u043b\\u0430\",\"\\u0422\\u0443\\u043b\\u0430\",\"\\u0422\\u0443\\u043b\\u0430\",\"\\u0422\\u0443\\u043b\\u0430\",\"\\u0422\\u0443\\u043b\\u0430\",\"\\u0422\\u0443\\u043b\\u0430\",\"\\u0422\\u0443\\u043b\\u0430\",\"\\u0422\\u0443\\u043b\\u0430\",\"\\u0422\\u0443\\u043b\\u0430\",\"\\u0422\\u0443\\u043b\\u0430\",\"\\u0422\\u0443\\u043b\\u0430\",\"\\u0422\\u0443\\u043b\\u0430\",\"\\u0422\\u0443\\u043b\\u0430\",\"\\u0422\\u0443\\u043b\\u0430\",\"\\u0422\\u0443\\u043b\\u0430\",\"\\u0422\\u0443\\u043b\\u0430\",\"\\u0422\\u0443\\u043b\\u0430\",\"\\u0422\\u0443\\u043b\\u0430\",\"\\u0422\\u0443\\u043b\\u0430\",\"\\u0422\\u0443\\u043b\\u0430\",\"\\u0422\\u0443\\u043b\\u0430\",\"\\u0422\\u0443\\u043b\\u0430\",\"\\u0422\\u0443\\u043b\\u0430\",\"\\u0422\\u0443\\u043b\\u0430\",\"\\u0422\\u0443\\u043b\\u0430\",\"\\u0422\\u0443\\u043b\\u0430\",\"\\u0422\\u0443\\u043b\\u0430\",\"\\u0422\\u0443\\u043b\\u0430\",\"\\u0422\\u0443\\u043b\\u0430\"],\"x0\":\" \",\"xaxis\":\"x\",\"y\":[50000.0,114000.0,35000.0,50000.0,114000.0,35000.0,50000.0,114000.0,35000.0,50000.0,114000.0,35000.0,50000.0,114000.0,35000.0,50000.0,114000.0,35000.0,50000.0,114000.0,35000.0,50000.0,114000.0,35000.0,50000.0,114000.0,35000.0,50000.0,114000.0,35000.0,50000.0,114000.0,35000.0,50000.0,114000.0,35000.0,50000.0,114000.0,35000.0,50000.0,114000.0,35000.0,50000.0,114000.0,35000.0,50000.0,114000.0,35000.0,50000.0,114000.0,35000.0,50000.0,114000.0,35000.0,50000.0,114000.0,35000.0,50000.0,114000.0,35000.0],\"y0\":\" \",\"yaxis\":\"y\",\"type\":\"box\"},{\"alignmentgroup\":\"True\",\"hovertemplate\":\"\\u0420\\u0435\\u0433\\u0438\\u043e\\u043d=%{x}<br>\\u0417\\u0430\\u0440\\u043f\\u043b\\u0430\\u0442\\u0430 \\u043e\\u0442, \\u0440\\u0443\\u0431.=%{y}<extra></extra>\",\"legendgroup\":\"\\u0421\\u0430\\u043c\\u0430\\u0440\\u0430\",\"marker\":{\"color\":\"#FF6692\"},\"name\":\"\\u0421\\u0430\\u043c\\u0430\\u0440\\u0430\",\"notched\":false,\"offsetgroup\":\"\\u0421\\u0430\\u043c\\u0430\\u0440\\u0430\",\"orientation\":\"v\",\"showlegend\":true,\"x\":[\"\\u0421\\u0430\\u043c\\u0430\\u0440\\u0430\",\"\\u0421\\u0430\\u043c\\u0430\\u0440\\u0430\",\"\\u0421\\u0430\\u043c\\u0430\\u0440\\u0430\",\"\\u0421\\u0430\\u043c\\u0430\\u0440\\u0430\",\"\\u0421\\u0430\\u043c\\u0430\\u0440\\u0430\",\"\\u0421\\u0430\\u043c\\u0430\\u0440\\u0430\",\"\\u0421\\u0430\\u043c\\u0430\\u0440\\u0430\",\"\\u0421\\u0430\\u043c\\u0430\\u0440\\u0430\",\"\\u0421\\u0430\\u043c\\u0430\\u0440\\u0430\",\"\\u0421\\u0430\\u043c\\u0430\\u0440\\u0430\",\"\\u0421\\u0430\\u043c\\u0430\\u0440\\u0430\",\"\\u0421\\u0430\\u043c\\u0430\\u0440\\u0430\",\"\\u0421\\u0430\\u043c\\u0430\\u0440\\u0430\",\"\\u0421\\u0430\\u043c\\u0430\\u0440\\u0430\",\"\\u0421\\u0430\\u043c\\u0430\\u0440\\u0430\",\"\\u0421\\u0430\\u043c\\u0430\\u0440\\u0430\",\"\\u0421\\u0430\\u043c\\u0430\\u0440\\u0430\",\"\\u0421\\u0430\\u043c\\u0430\\u0440\\u0430\",\"\\u0421\\u0430\\u043c\\u0430\\u0440\\u0430\",\"\\u0421\\u0430\\u043c\\u0430\\u0440\\u0430\",\"\\u0421\\u0430\\u043c\\u0430\\u0440\\u0430\",\"\\u0421\\u0430\\u043c\\u0430\\u0440\\u0430\",\"\\u0421\\u0430\\u043c\\u0430\\u0440\\u0430\",\"\\u0421\\u0430\\u043c\\u0430\\u0440\\u0430\",\"\\u0421\\u0430\\u043c\\u0430\\u0440\\u0430\",\"\\u0421\\u0430\\u043c\\u0430\\u0440\\u0430\",\"\\u0421\\u0430\\u043c\\u0430\\u0440\\u0430\",\"\\u0421\\u0430\\u043c\\u0430\\u0440\\u0430\",\"\\u0421\\u0430\\u043c\\u0430\\u0440\\u0430\",\"\\u0421\\u0430\\u043c\\u0430\\u0440\\u0430\",\"\\u0421\\u0430\\u043c\\u0430\\u0440\\u0430\",\"\\u0421\\u0430\\u043c\\u0430\\u0440\\u0430\",\"\\u0421\\u0430\\u043c\\u0430\\u0440\\u0430\",\"\\u0421\\u0430\\u043c\\u0430\\u0440\\u0430\",\"\\u0421\\u0430\\u043c\\u0430\\u0440\\u0430\",\"\\u0421\\u0430\\u043c\\u0430\\u0440\\u0430\",\"\\u0421\\u0430\\u043c\\u0430\\u0440\\u0430\",\"\\u0421\\u0430\\u043c\\u0430\\u0440\\u0430\",\"\\u0421\\u0430\\u043c\\u0430\\u0440\\u0430\",\"\\u0421\\u0430\\u043c\\u0430\\u0440\\u0430\"],\"x0\":\" \",\"xaxis\":\"x\",\"y\":[50000.0,80000.0,50000.0,80000.0,50000.0,80000.0,50000.0,80000.0,50000.0,80000.0,50000.0,80000.0,50000.0,80000.0,50000.0,80000.0,50000.0,80000.0,50000.0,80000.0,50000.0,80000.0,50000.0,80000.0,50000.0,80000.0,50000.0,80000.0,50000.0,80000.0,50000.0,80000.0,50000.0,80000.0,50000.0,80000.0,50000.0,80000.0,50000.0,80000.0],\"y0\":\" \",\"yaxis\":\"y\",\"type\":\"box\"}],                        {\"template\":{\"data\":{\"histogram2dcontour\":[{\"type\":\"histogram2dcontour\",\"colorbar\":{\"outlinewidth\":0,\"ticks\":\"\"},\"colorscale\":[[0.0,\"#0d0887\"],[0.1111111111111111,\"#46039f\"],[0.2222222222222222,\"#7201a8\"],[0.3333333333333333,\"#9c179e\"],[0.4444444444444444,\"#bd3786\"],[0.5555555555555556,\"#d8576b\"],[0.6666666666666666,\"#ed7953\"],[0.7777777777777778,\"#fb9f3a\"],[0.8888888888888888,\"#fdca26\"],[1.0,\"#f0f921\"]]}],\"choropleth\":[{\"type\":\"choropleth\",\"colorbar\":{\"outlinewidth\":0,\"ticks\":\"\"}}],\"histogram2d\":[{\"type\":\"histogram2d\",\"colorbar\":{\"outlinewidth\":0,\"ticks\":\"\"},\"colorscale\":[[0.0,\"#0d0887\"],[0.1111111111111111,\"#46039f\"],[0.2222222222222222,\"#7201a8\"],[0.3333333333333333,\"#9c179e\"],[0.4444444444444444,\"#bd3786\"],[0.5555555555555556,\"#d8576b\"],[0.6666666666666666,\"#ed7953\"],[0.7777777777777778,\"#fb9f3a\"],[0.8888888888888888,\"#fdca26\"],[1.0,\"#f0f921\"]]}],\"heatmap\":[{\"type\":\"heatmap\",\"colorbar\":{\"outlinewidth\":0,\"ticks\":\"\"},\"colorscale\":[[0.0,\"#0d0887\"],[0.1111111111111111,\"#46039f\"],[0.2222222222222222,\"#7201a8\"],[0.3333333333333333,\"#9c179e\"],[0.4444444444444444,\"#bd3786\"],[0.5555555555555556,\"#d8576b\"],[0.6666666666666666,\"#ed7953\"],[0.7777777777777778,\"#fb9f3a\"],[0.8888888888888888,\"#fdca26\"],[1.0,\"#f0f921\"]]}],\"heatmapgl\":[{\"type\":\"heatmapgl\",\"colorbar\":{\"outlinewidth\":0,\"ticks\":\"\"},\"colorscale\":[[0.0,\"#0d0887\"],[0.1111111111111111,\"#46039f\"],[0.2222222222222222,\"#7201a8\"],[0.3333333333333333,\"#9c179e\"],[0.4444444444444444,\"#bd3786\"],[0.5555555555555556,\"#d8576b\"],[0.6666666666666666,\"#ed7953\"],[0.7777777777777778,\"#fb9f3a\"],[0.8888888888888888,\"#fdca26\"],[1.0,\"#f0f921\"]]}],\"contourcarpet\":[{\"type\":\"contourcarpet\",\"colorbar\":{\"outlinewidth\":0,\"ticks\":\"\"}}],\"contour\":[{\"type\":\"contour\",\"colorbar\":{\"outlinewidth\":0,\"ticks\":\"\"},\"colorscale\":[[0.0,\"#0d0887\"],[0.1111111111111111,\"#46039f\"],[0.2222222222222222,\"#7201a8\"],[0.3333333333333333,\"#9c179e\"],[0.4444444444444444,\"#bd3786\"],[0.5555555555555556,\"#d8576b\"],[0.6666666666666666,\"#ed7953\"],[0.7777777777777778,\"#fb9f3a\"],[0.8888888888888888,\"#fdca26\"],[1.0,\"#f0f921\"]]}],\"surface\":[{\"type\":\"surface\",\"colorbar\":{\"outlinewidth\":0,\"ticks\":\"\"},\"colorscale\":[[0.0,\"#0d0887\"],[0.1111111111111111,\"#46039f\"],[0.2222222222222222,\"#7201a8\"],[0.3333333333333333,\"#9c179e\"],[0.4444444444444444,\"#bd3786\"],[0.5555555555555556,\"#d8576b\"],[0.6666666666666666,\"#ed7953\"],[0.7777777777777778,\"#fb9f3a\"],[0.8888888888888888,\"#fdca26\"],[1.0,\"#f0f921\"]]}],\"mesh3d\":[{\"type\":\"mesh3d\",\"colorbar\":{\"outlinewidth\":0,\"ticks\":\"\"}}],\"scatter\":[{\"fillpattern\":{\"fillmode\":\"overlay\",\"size\":10,\"solidity\":0.2},\"type\":\"scatter\"}],\"parcoords\":[{\"type\":\"parcoords\",\"line\":{\"colorbar\":{\"outlinewidth\":0,\"ticks\":\"\"}}}],\"scatterpolargl\":[{\"type\":\"scatterpolargl\",\"marker\":{\"colorbar\":{\"outlinewidth\":0,\"ticks\":\"\"}}}],\"bar\":[{\"error_x\":{\"color\":\"#2a3f5f\"},\"error_y\":{\"color\":\"#2a3f5f\"},\"marker\":{\"line\":{\"color\":\"#E5ECF6\",\"width\":0.5},\"pattern\":{\"fillmode\":\"overlay\",\"size\":10,\"solidity\":0.2}},\"type\":\"bar\"}],\"scattergeo\":[{\"type\":\"scattergeo\",\"marker\":{\"colorbar\":{\"outlinewidth\":0,\"ticks\":\"\"}}}],\"scatterpolar\":[{\"type\":\"scatterpolar\",\"marker\":{\"colorbar\":{\"outlinewidth\":0,\"ticks\":\"\"}}}],\"histogram\":[{\"marker\":{\"pattern\":{\"fillmode\":\"overlay\",\"size\":10,\"solidity\":0.2}},\"type\":\"histogram\"}],\"scattergl\":[{\"type\":\"scattergl\",\"marker\":{\"colorbar\":{\"outlinewidth\":0,\"ticks\":\"\"}}}],\"scatter3d\":[{\"type\":\"scatter3d\",\"line\":{\"colorbar\":{\"outlinewidth\":0,\"ticks\":\"\"}},\"marker\":{\"colorbar\":{\"outlinewidth\":0,\"ticks\":\"\"}}}],\"scattermapbox\":[{\"type\":\"scattermapbox\",\"marker\":{\"colorbar\":{\"outlinewidth\":0,\"ticks\":\"\"}}}],\"scatterternary\":[{\"type\":\"scatterternary\",\"marker\":{\"colorbar\":{\"outlinewidth\":0,\"ticks\":\"\"}}}],\"scattercarpet\":[{\"type\":\"scattercarpet\",\"marker\":{\"colorbar\":{\"outlinewidth\":0,\"ticks\":\"\"}}}],\"carpet\":[{\"aaxis\":{\"endlinecolor\":\"#2a3f5f\",\"gridcolor\":\"white\",\"linecolor\":\"white\",\"minorgridcolor\":\"white\",\"startlinecolor\":\"#2a3f5f\"},\"baxis\":{\"endlinecolor\":\"#2a3f5f\",\"gridcolor\":\"white\",\"linecolor\":\"white\",\"minorgridcolor\":\"white\",\"startlinecolor\":\"#2a3f5f\"},\"type\":\"carpet\"}],\"table\":[{\"cells\":{\"fill\":{\"color\":\"#EBF0F8\"},\"line\":{\"color\":\"white\"}},\"header\":{\"fill\":{\"color\":\"#C8D4E3\"},\"line\":{\"color\":\"white\"}},\"type\":\"table\"}],\"barpolar\":[{\"marker\":{\"line\":{\"color\":\"#E5ECF6\",\"width\":0.5},\"pattern\":{\"fillmode\":\"overlay\",\"size\":10,\"solidity\":0.2}},\"type\":\"barpolar\"}],\"pie\":[{\"automargin\":true,\"type\":\"pie\"}]},\"layout\":{\"autotypenumbers\":\"strict\",\"colorway\":[\"#636efa\",\"#EF553B\",\"#00cc96\",\"#ab63fa\",\"#FFA15A\",\"#19d3f3\",\"#FF6692\",\"#B6E880\",\"#FF97FF\",\"#FECB52\"],\"font\":{\"color\":\"#2a3f5f\"},\"hovermode\":\"closest\",\"hoverlabel\":{\"align\":\"left\"},\"paper_bgcolor\":\"white\",\"plot_bgcolor\":\"#E5ECF6\",\"polar\":{\"bgcolor\":\"#E5ECF6\",\"angularaxis\":{\"gridcolor\":\"white\",\"linecolor\":\"white\",\"ticks\":\"\"},\"radialaxis\":{\"gridcolor\":\"white\",\"linecolor\":\"white\",\"ticks\":\"\"}},\"ternary\":{\"bgcolor\":\"#E5ECF6\",\"aaxis\":{\"gridcolor\":\"white\",\"linecolor\":\"white\",\"ticks\":\"\"},\"baxis\":{\"gridcolor\":\"white\",\"linecolor\":\"white\",\"ticks\":\"\"},\"caxis\":{\"gridcolor\":\"white\",\"linecolor\":\"white\",\"ticks\":\"\"}},\"coloraxis\":{\"colorbar\":{\"outlinewidth\":0,\"ticks\":\"\"}},\"colorscale\":{\"sequential\":[[0.0,\"#0d0887\"],[0.1111111111111111,\"#46039f\"],[0.2222222222222222,\"#7201a8\"],[0.3333333333333333,\"#9c179e\"],[0.4444444444444444,\"#bd3786\"],[0.5555555555555556,\"#d8576b\"],[0.6666666666666666,\"#ed7953\"],[0.7777777777777778,\"#fb9f3a\"],[0.8888888888888888,\"#fdca26\"],[1.0,\"#f0f921\"]],\"sequentialminus\":[[0.0,\"#0d0887\"],[0.1111111111111111,\"#46039f\"],[0.2222222222222222,\"#7201a8\"],[0.3333333333333333,\"#9c179e\"],[0.4444444444444444,\"#bd3786\"],[0.5555555555555556,\"#d8576b\"],[0.6666666666666666,\"#ed7953\"],[0.7777777777777778,\"#fb9f3a\"],[0.8888888888888888,\"#fdca26\"],[1.0,\"#f0f921\"]],\"diverging\":[[0,\"#8e0152\"],[0.1,\"#c51b7d\"],[0.2,\"#de77ae\"],[0.3,\"#f1b6da\"],[0.4,\"#fde0ef\"],[0.5,\"#f7f7f7\"],[0.6,\"#e6f5d0\"],[0.7,\"#b8e186\"],[0.8,\"#7fbc41\"],[0.9,\"#4d9221\"],[1,\"#276419\"]]},\"xaxis\":{\"gridcolor\":\"white\",\"linecolor\":\"white\",\"ticks\":\"\",\"title\":{\"standoff\":15},\"zerolinecolor\":\"white\",\"automargin\":true,\"zerolinewidth\":2},\"yaxis\":{\"gridcolor\":\"white\",\"linecolor\":\"white\",\"ticks\":\"\",\"title\":{\"standoff\":15},\"zerolinecolor\":\"white\",\"automargin\":true,\"zerolinewidth\":2},\"scene\":{\"xaxis\":{\"backgroundcolor\":\"#E5ECF6\",\"gridcolor\":\"white\",\"linecolor\":\"white\",\"showbackground\":true,\"ticks\":\"\",\"zerolinecolor\":\"white\",\"gridwidth\":2},\"yaxis\":{\"backgroundcolor\":\"#E5ECF6\",\"gridcolor\":\"white\",\"linecolor\":\"white\",\"showbackground\":true,\"ticks\":\"\",\"zerolinecolor\":\"white\",\"gridwidth\":2},\"zaxis\":{\"backgroundcolor\":\"#E5ECF6\",\"gridcolor\":\"white\",\"linecolor\":\"white\",\"showbackground\":true,\"ticks\":\"\",\"zerolinecolor\":\"white\",\"gridwidth\":2}},\"shapedefaults\":{\"line\":{\"color\":\"#2a3f5f\"}},\"annotationdefaults\":{\"arrowcolor\":\"#2a3f5f\",\"arrowhead\":0,\"arrowwidth\":1},\"geo\":{\"bgcolor\":\"white\",\"landcolor\":\"#E5ECF6\",\"subunitcolor\":\"white\",\"showland\":true,\"showlakes\":true,\"lakecolor\":\"white\"},\"title\":{\"x\":0.05},\"mapbox\":{\"style\":\"light\"}}},\"xaxis\":{\"anchor\":\"y\",\"domain\":[0.0,1.0],\"title\":{\"text\":\"\\u0420\\u0435\\u0433\\u0438\\u043e\\u043d\"},\"categoryorder\":\"array\",\"categoryarray\":[\"\\u041d\\u0438\\u0436\\u043d\\u0438\\u0439 \\u041d\\u043e\\u0432\\u0433\\u043e\\u0440\\u043e\\u0434\",\"\\u041c\\u043e\\u0441\\u043a\\u0432\\u0430\",\"\\u041d\\u043e\\u0432\\u043e\\u0441\\u0438\\u0431\\u0438\\u0440\\u0441\\u043a\",\"\\u0415\\u043a\\u0430\\u0442\\u0435\\u0440\\u0438\\u043d\\u0431\\u0443\\u0440\\u0433\",\"\\u0421\\u0430\\u043d\\u043a\\u0442-\\u041f\\u0435\\u0442\\u0435\\u0440\\u0431\\u0443\\u0440\\u0433\",\"\\u0422\\u0443\\u043b\\u0430\",\"\\u0421\\u0430\\u043c\\u0430\\u0440\\u0430\"]},\"yaxis\":{\"anchor\":\"x\",\"domain\":[0.0,1.0],\"title\":{\"text\":\"\\u0417\\u0430\\u0440\\u043f\\u043b\\u0430\\u0442\\u0430 \\u043e\\u0442, \\u0440\\u0443\\u0431.\"}},\"legend\":{\"title\":{\"text\":\"\\u0420\\u0435\\u0433\\u0438\\u043e\\u043d\"},\"tracegroupgap\":0},\"margin\":{\"t\":60},\"boxmode\":\"overlay\"},                        {\"responsive\": true}                    ).then(function(){\n",
       "                            \n",
       "var gd = document.getElementById('bc9e16dc-e1bc-42d7-9d6d-35e66355ea2c');\n",
       "var x = new MutationObserver(function (mutations, observer) {{\n",
       "        var display = window.getComputedStyle(gd).display;\n",
       "        if (!display || display === 'none') {{\n",
       "            console.log([gd, 'removed!']);\n",
       "            Plotly.purge(gd);\n",
       "            observer.disconnect();\n",
       "        }}\n",
       "}});\n",
       "\n",
       "// Listen for the removal of the full notebook cells\n",
       "var notebookContainer = gd.closest('#notebook-container');\n",
       "if (notebookContainer) {{\n",
       "    x.observe(notebookContainer, {childList: true});\n",
       "}}\n",
       "\n",
       "// Listen for the clearing of the current output cell\n",
       "var outputEl = gd.closest('.output');\n",
       "if (outputEl) {{\n",
       "    x.observe(outputEl, {childList: true});\n",
       "}}\n",
       "\n",
       "                        })                };                });            </script>        </div>"
      ]
     },
     "metadata": {},
     "output_type": "display_data"
    }
   ],
   "source": [
    "\n",
    "vac_info_new_salary_from = vac_info_new[vac_info_new['salary_from'].notnull()].copy()\n",
    "table_for_plot = vac_info_new_salary_from\n",
    "fig = px.box(table_for_plot, \n",
    "             x=\"area\", \n",
    "             y=\"salary_from\", \n",
    "             color = \"area\", \n",
    "             category_orders = {'area': table_for_plot['area'].value_counts().index}, \n",
    "             labels = {'area':'Регион', 'salary_from':'Зарплата от, руб.'})\n",
    "fig.show()"
   ]
  },
  {
   "cell_type": "markdown",
   "id": "6bf8e9aa",
   "metadata": {},
   "source": [
    "### Построим диаграмму рассеивания "
   ]
  },
  {
   "cell_type": "code",
   "execution_count": 1353,
   "id": "bf8ea2a2",
   "metadata": {},
   "outputs": [
    {
     "data": {
      "text/html": [
       "<div>\n",
       "<style scoped>\n",
       "    .dataframe tbody tr th:only-of-type {\n",
       "        vertical-align: middle;\n",
       "    }\n",
       "\n",
       "    .dataframe tbody tr th {\n",
       "        vertical-align: top;\n",
       "    }\n",
       "\n",
       "    .dataframe thead th {\n",
       "        text-align: right;\n",
       "    }\n",
       "</style>\n",
       "<table border=\"1\" class=\"dataframe\">\n",
       "  <thead>\n",
       "    <tr style=\"text-align: right;\">\n",
       "      <th></th>\n",
       "      <th>id</th>\n",
       "      <th>name</th>\n",
       "      <th>area</th>\n",
       "      <th>salary</th>\n",
       "      <th>experience</th>\n",
       "      <th>schedule</th>\n",
       "      <th>employment</th>\n",
       "      <th>description</th>\n",
       "      <th>key_skills</th>\n",
       "      <th>professional_roles</th>\n",
       "      <th>employer</th>\n",
       "      <th>published_at</th>\n",
       "      <th>salary_from</th>\n",
       "      <th>salary_to</th>\n",
       "      <th>flag</th>\n",
       "      <th>vac_level</th>\n",
       "    </tr>\n",
       "  </thead>\n",
       "  <tbody>\n",
       "    <tr>\n",
       "      <th>0</th>\n",
       "      <td>79912022</td>\n",
       "      <td>Специалист по тестированию ПО</td>\n",
       "      <td>Москва</td>\n",
       "      <td>{'from': 60000, 'to': None, 'currency': 'RUR',...</td>\n",
       "      <td>От 1 года до 3 лет</td>\n",
       "      <td>Полный день</td>\n",
       "      <td>Полная занятость</td>\n",
       "      <td>Мы ищем QA-инженера, который будет заниматься ...</td>\n",
       "      <td>None</td>\n",
       "      <td>Тестировщик</td>\n",
       "      <td>Долг-контроль</td>\n",
       "      <td>2023-04-28</td>\n",
       "      <td>60000.0</td>\n",
       "      <td>NaN</td>\n",
       "      <td>1</td>\n",
       "      <td>None</td>\n",
       "    </tr>\n",
       "    <tr>\n",
       "      <th>1</th>\n",
       "      <td>79295936</td>\n",
       "      <td>Junior Web-разработчик</td>\n",
       "      <td>Москва</td>\n",
       "      <td>{'from': 60000, 'to': None, 'currency': 'RUR',...</td>\n",
       "      <td>Нет опыта</td>\n",
       "      <td>Полный день</td>\n",
       "      <td>Полная занятость</td>\n",
       "      <td>&lt;p&gt;В веб студию &lt;strong&gt;Easy IT&lt;/strong&gt; требу...</td>\n",
       "      <td>[PHP, MySQL, HTML5, CSS3, JavaScript]</td>\n",
       "      <td>Программист, разработчик</td>\n",
       "      <td>EasyIT</td>\n",
       "      <td>2023-04-24</td>\n",
       "      <td>60000.0</td>\n",
       "      <td>NaN</td>\n",
       "      <td>1</td>\n",
       "      <td>None</td>\n",
       "    </tr>\n",
       "  </tbody>\n",
       "</table>\n",
       "</div>"
      ],
      "text/plain": [
       "         id                           name    area  \\\n",
       "0  79912022  Специалист по тестированию ПО  Москва   \n",
       "1  79295936         Junior Web-разработчик  Москва   \n",
       "\n",
       "                                              salary          experience  \\\n",
       "0  {'from': 60000, 'to': None, 'currency': 'RUR',...  От 1 года до 3 лет   \n",
       "1  {'from': 60000, 'to': None, 'currency': 'RUR',...           Нет опыта   \n",
       "\n",
       "      schedule        employment  \\\n",
       "0  Полный день  Полная занятость   \n",
       "1  Полный день  Полная занятость   \n",
       "\n",
       "                                         description  \\\n",
       "0  Мы ищем QA-инженера, который будет заниматься ...   \n",
       "1  <p>В веб студию <strong>Easy IT</strong> требу...   \n",
       "\n",
       "                              key_skills        professional_roles  \\\n",
       "0                                   None               Тестировщик   \n",
       "1  [PHP, MySQL, HTML5, CSS3, JavaScript]  Программист, разработчик   \n",
       "\n",
       "        employer published_at  salary_from  salary_to  flag vac_level  \n",
       "0  Долг-контроль   2023-04-28      60000.0        NaN     1      None  \n",
       "1         EasyIT   2023-04-24      60000.0        NaN     1      None  "
      ]
     },
     "execution_count": 1353,
     "metadata": {},
     "output_type": "execute_result"
    }
   ],
   "source": [
    "vac_info_new_salary_from_key_count = vac_info_new_salary_from.copy().reset_index(drop=True)\n",
    "vac_info_new_salary_from_key_count.head(2)"
   ]
  },
  {
   "cell_type": "code",
   "execution_count": 1348,
   "id": "6a09b160",
   "metadata": {},
   "outputs": [],
   "source": [
    "def key_skills_to_int(x):\n",
    "    \"\"\"\n",
    "    подсчет количества навыков\n",
    "    \"\"\"\n",
    "    if x == None:\n",
    "        return 0\n",
    "    else: \n",
    "        y=len(x)\n",
    "        return y\n"
   ]
  },
  {
   "cell_type": "code",
   "execution_count": 1355,
   "id": "aa815b56",
   "metadata": {},
   "outputs": [],
   "source": [
    "vac_info_new_salary_from_key_count['key_skills_count']=vac_info_new_salary_from_key_count['key_skills'].apply(key_skills_to_int)"
   ]
  },
  {
   "cell_type": "code",
   "execution_count": 1357,
   "id": "9af4c097",
   "metadata": {
    "scrolled": false
   },
   "outputs": [
    {
     "data": {
      "text/html": [
       "<div>\n",
       "<style scoped>\n",
       "    .dataframe tbody tr th:only-of-type {\n",
       "        vertical-align: middle;\n",
       "    }\n",
       "\n",
       "    .dataframe tbody tr th {\n",
       "        vertical-align: top;\n",
       "    }\n",
       "\n",
       "    .dataframe thead th {\n",
       "        text-align: right;\n",
       "    }\n",
       "</style>\n",
       "<table border=\"1\" class=\"dataframe\">\n",
       "  <thead>\n",
       "    <tr style=\"text-align: right;\">\n",
       "      <th></th>\n",
       "      <th>id</th>\n",
       "      <th>name</th>\n",
       "      <th>area</th>\n",
       "      <th>salary</th>\n",
       "      <th>experience</th>\n",
       "      <th>schedule</th>\n",
       "      <th>employment</th>\n",
       "      <th>description</th>\n",
       "      <th>key_skills</th>\n",
       "      <th>professional_roles</th>\n",
       "      <th>employer</th>\n",
       "      <th>published_at</th>\n",
       "      <th>salary_from</th>\n",
       "      <th>salary_to</th>\n",
       "      <th>flag</th>\n",
       "      <th>vac_level</th>\n",
       "      <th>key_skills_count</th>\n",
       "    </tr>\n",
       "  </thead>\n",
       "  <tbody>\n",
       "    <tr>\n",
       "      <th>0</th>\n",
       "      <td>79912022</td>\n",
       "      <td>Специалист по тестированию ПО</td>\n",
       "      <td>Москва</td>\n",
       "      <td>{'from': 60000, 'to': None, 'currency': 'RUR',...</td>\n",
       "      <td>От 1 года до 3 лет</td>\n",
       "      <td>Полный день</td>\n",
       "      <td>Полная занятость</td>\n",
       "      <td>Мы ищем QA-инженера, который будет заниматься ...</td>\n",
       "      <td>None</td>\n",
       "      <td>Тестировщик</td>\n",
       "      <td>Долг-контроль</td>\n",
       "      <td>2023-04-28</td>\n",
       "      <td>60000.0</td>\n",
       "      <td>NaN</td>\n",
       "      <td>1</td>\n",
       "      <td>None</td>\n",
       "      <td>0</td>\n",
       "    </tr>\n",
       "    <tr>\n",
       "      <th>1</th>\n",
       "      <td>79295936</td>\n",
       "      <td>Junior Web-разработчик</td>\n",
       "      <td>Москва</td>\n",
       "      <td>{'from': 60000, 'to': None, 'currency': 'RUR',...</td>\n",
       "      <td>Нет опыта</td>\n",
       "      <td>Полный день</td>\n",
       "      <td>Полная занятость</td>\n",
       "      <td>&lt;p&gt;В веб студию &lt;strong&gt;Easy IT&lt;/strong&gt; требу...</td>\n",
       "      <td>[PHP, MySQL, HTML5, CSS3, JavaScript]</td>\n",
       "      <td>Программист, разработчик</td>\n",
       "      <td>EasyIT</td>\n",
       "      <td>2023-04-24</td>\n",
       "      <td>60000.0</td>\n",
       "      <td>NaN</td>\n",
       "      <td>1</td>\n",
       "      <td>None</td>\n",
       "      <td>5</td>\n",
       "    </tr>\n",
       "    <tr>\n",
       "      <th>2</th>\n",
       "      <td>79879224</td>\n",
       "      <td>Тестировщик ПО / QA</td>\n",
       "      <td>Москва</td>\n",
       "      <td>{'from': 60000, 'to': 90000, 'currency': 'RUR'...</td>\n",
       "      <td>Нет опыта</td>\n",
       "      <td>Полный день</td>\n",
       "      <td>Полная занятость</td>\n",
       "      <td>&lt;p&gt;Группа компаний МЗТА&lt;/p&gt; &lt;p&gt;&amp;quot;РТК Автом...</td>\n",
       "      <td>[Тестирование десктопных приложений, Тестирова...</td>\n",
       "      <td>Тестировщик</td>\n",
       "      <td>РТК Автоматика</td>\n",
       "      <td>2023-04-27</td>\n",
       "      <td>60000.0</td>\n",
       "      <td>90000.0</td>\n",
       "      <td>1</td>\n",
       "      <td>None</td>\n",
       "      <td>5</td>\n",
       "    </tr>\n",
       "    <tr>\n",
       "      <th>3</th>\n",
       "      <td>79715558</td>\n",
       "      <td>Junior Project Manager</td>\n",
       "      <td>Москва</td>\n",
       "      <td>{'from': 130000, 'to': None, 'currency': 'RUR'...</td>\n",
       "      <td>От 1 года до 3 лет</td>\n",
       "      <td>Полный день</td>\n",
       "      <td>Полная занятость</td>\n",
       "      <td>&lt;p&gt;&lt;strong&gt;Responsibilities: &lt;/strong&gt;&lt;/p&gt; &lt;p&gt;...</td>\n",
       "      <td>[Английский язык, MS PowerPoint, Time manageme...</td>\n",
       "      <td>Менеджер продукта</td>\n",
       "      <td>ECCO</td>\n",
       "      <td>2023-04-24</td>\n",
       "      <td>130000.0</td>\n",
       "      <td>NaN</td>\n",
       "      <td>1</td>\n",
       "      <td>None</td>\n",
       "      <td>9</td>\n",
       "    </tr>\n",
       "  </tbody>\n",
       "</table>\n",
       "</div>"
      ],
      "text/plain": [
       "         id                           name    area  \\\n",
       "0  79912022  Специалист по тестированию ПО  Москва   \n",
       "1  79295936         Junior Web-разработчик  Москва   \n",
       "2  79879224            Тестировщик ПО / QA  Москва   \n",
       "3  79715558         Junior Project Manager  Москва   \n",
       "\n",
       "                                              salary          experience  \\\n",
       "0  {'from': 60000, 'to': None, 'currency': 'RUR',...  От 1 года до 3 лет   \n",
       "1  {'from': 60000, 'to': None, 'currency': 'RUR',...           Нет опыта   \n",
       "2  {'from': 60000, 'to': 90000, 'currency': 'RUR'...           Нет опыта   \n",
       "3  {'from': 130000, 'to': None, 'currency': 'RUR'...  От 1 года до 3 лет   \n",
       "\n",
       "      schedule        employment  \\\n",
       "0  Полный день  Полная занятость   \n",
       "1  Полный день  Полная занятость   \n",
       "2  Полный день  Полная занятость   \n",
       "3  Полный день  Полная занятость   \n",
       "\n",
       "                                         description  \\\n",
       "0  Мы ищем QA-инженера, который будет заниматься ...   \n",
       "1  <p>В веб студию <strong>Easy IT</strong> требу...   \n",
       "2  <p>Группа компаний МЗТА</p> <p>&quot;РТК Автом...   \n",
       "3  <p><strong>Responsibilities: </strong></p> <p>...   \n",
       "\n",
       "                                          key_skills  \\\n",
       "0                                               None   \n",
       "1              [PHP, MySQL, HTML5, CSS3, JavaScript]   \n",
       "2  [Тестирование десктопных приложений, Тестирова...   \n",
       "3  [Английский язык, MS PowerPoint, Time manageme...   \n",
       "\n",
       "         professional_roles        employer published_at  salary_from  \\\n",
       "0               Тестировщик   Долг-контроль   2023-04-28      60000.0   \n",
       "1  Программист, разработчик          EasyIT   2023-04-24      60000.0   \n",
       "2               Тестировщик  РТК Автоматика   2023-04-27      60000.0   \n",
       "3         Менеджер продукта            ECCO   2023-04-24     130000.0   \n",
       "\n",
       "   salary_to  flag vac_level  key_skills_count  \n",
       "0        NaN     1      None                 0  \n",
       "1        NaN     1      None                 5  \n",
       "2    90000.0     1      None                 5  \n",
       "3        NaN     1      None                 9  "
      ]
     },
     "execution_count": 1357,
     "metadata": {},
     "output_type": "execute_result"
    }
   ],
   "source": [
    "vac_info_new_salary_from_key_count.head(4)"
   ]
  },
  {
   "cell_type": "code",
   "execution_count": 1478,
   "id": "516a753c",
   "metadata": {
    "scrolled": false
   },
   "outputs": [
    {
     "data": {
      "image/png": "[encoded data removed]",
      "text/plain": [
       "<Figure size 640x480 with 1 Axes>"
      ]
     },
     "metadata": {},
     "output_type": "display_data"
    }
   ],
   "source": [
    "sns.regplot(\n",
    "    x='key_skills_count',\n",
    "    y='salary_from',\n",
    "    data=vac_info_new_salary_from_key_count,\n",
    ")\n",
    "plt.ylabel('Зарплата от', color='g')\n",
    "plt.xlabel('Кол-во требуемых навыков', color='g')\n",
    "plt.title('Диаграмма рассеяния с линией регресии уровня зарплаты от кол-ва требуемых навыков', color='g');\n",
    "plt.show()"
   ]
  },
  {
   "cell_type": "markdown",
   "id": "3f98d93f",
   "metadata": {},
   "source": [
    "#### Вывод: от количества навыков зарплата не зависит на прямую, могут требовать навыки, но зарплата будет не высокой."
   ]
  },
  {
   "cell_type": "code",
   "execution_count": null,
   "id": "13f85809",
   "metadata": {},
   "outputs": [],
   "source": []
  },
  {
   "cell_type": "code",
   "execution_count": null,
   "id": "a17bda94",
   "metadata": {},
   "outputs": [],
   "source": []
  },
  {
   "cell_type": "markdown",
   "id": "52595d14",
   "metadata": {},
   "source": [
    "### Посмотрим зависимость средней зарплаты в профессии от опыта\n"
   ]
  },
  {
   "cell_type": "code",
   "execution_count": 1392,
   "id": "ed6851b6",
   "metadata": {},
   "outputs": [
    {
     "data": {
      "text/html": [
       "<div>\n",
       "<style scoped>\n",
       "    .dataframe tbody tr th:only-of-type {\n",
       "        vertical-align: middle;\n",
       "    }\n",
       "\n",
       "    .dataframe tbody tr th {\n",
       "        vertical-align: top;\n",
       "    }\n",
       "\n",
       "    .dataframe thead th {\n",
       "        text-align: right;\n",
       "    }\n",
       "</style>\n",
       "<table border=\"1\" class=\"dataframe\">\n",
       "  <thead>\n",
       "    <tr style=\"text-align: right;\">\n",
       "      <th></th>\n",
       "      <th>id</th>\n",
       "      <th>name</th>\n",
       "      <th>area</th>\n",
       "      <th>salary</th>\n",
       "      <th>experience</th>\n",
       "      <th>schedule</th>\n",
       "      <th>employment</th>\n",
       "      <th>description</th>\n",
       "      <th>key_skills</th>\n",
       "      <th>professional_roles</th>\n",
       "      <th>employer</th>\n",
       "      <th>published_at</th>\n",
       "      <th>salary_from</th>\n",
       "      <th>salary_to</th>\n",
       "      <th>flag</th>\n",
       "      <th>vac_level</th>\n",
       "    </tr>\n",
       "  </thead>\n",
       "  <tbody>\n",
       "    <tr>\n",
       "      <th>2</th>\n",
       "      <td>79912022</td>\n",
       "      <td>Специалист по тестированию ПО</td>\n",
       "      <td>Москва</td>\n",
       "      <td>{'from': 60000, 'to': None, 'currency': 'RUR',...</td>\n",
       "      <td>От 1 года до 3 лет</td>\n",
       "      <td>Полный день</td>\n",
       "      <td>Полная занятость</td>\n",
       "      <td>Мы ищем QA-инженера, который будет заниматься ...</td>\n",
       "      <td>None</td>\n",
       "      <td>Тестировщик</td>\n",
       "      <td>Долг-контроль</td>\n",
       "      <td>2023-04-28</td>\n",
       "      <td>60000.0</td>\n",
       "      <td>NaN</td>\n",
       "      <td>1</td>\n",
       "      <td>None</td>\n",
       "    </tr>\n",
       "    <tr>\n",
       "      <th>5</th>\n",
       "      <td>79295936</td>\n",
       "      <td>Junior Web-разработчик</td>\n",
       "      <td>Москва</td>\n",
       "      <td>{'from': 60000, 'to': None, 'currency': 'RUR',...</td>\n",
       "      <td>Нет опыта</td>\n",
       "      <td>Полный день</td>\n",
       "      <td>Полная занятость</td>\n",
       "      <td>&lt;p&gt;В веб студию &lt;strong&gt;Easy IT&lt;/strong&gt; требу...</td>\n",
       "      <td>[PHP, MySQL, HTML5, CSS3, JavaScript]</td>\n",
       "      <td>Программист, разработчик</td>\n",
       "      <td>EasyIT</td>\n",
       "      <td>2023-04-24</td>\n",
       "      <td>60000.0</td>\n",
       "      <td>NaN</td>\n",
       "      <td>1</td>\n",
       "      <td>None</td>\n",
       "    </tr>\n",
       "    <tr>\n",
       "      <th>10</th>\n",
       "      <td>79879224</td>\n",
       "      <td>Тестировщик ПО / QA</td>\n",
       "      <td>Москва</td>\n",
       "      <td>{'from': 60000, 'to': 90000, 'currency': 'RUR'...</td>\n",
       "      <td>Нет опыта</td>\n",
       "      <td>Полный день</td>\n",
       "      <td>Полная занятость</td>\n",
       "      <td>&lt;p&gt;Группа компаний МЗТА&lt;/p&gt; &lt;p&gt;&amp;quot;РТК Автом...</td>\n",
       "      <td>[Тестирование десктопных приложений, Тестирова...</td>\n",
       "      <td>Тестировщик</td>\n",
       "      <td>РТК Автоматика</td>\n",
       "      <td>2023-04-27</td>\n",
       "      <td>60000.0</td>\n",
       "      <td>90000.0</td>\n",
       "      <td>1</td>\n",
       "      <td>None</td>\n",
       "    </tr>\n",
       "  </tbody>\n",
       "</table>\n",
       "</div>"
      ],
      "text/plain": [
       "          id                           name    area  \\\n",
       "2   79912022  Специалист по тестированию ПО  Москва   \n",
       "5   79295936         Junior Web-разработчик  Москва   \n",
       "10  79879224            Тестировщик ПО / QA  Москва   \n",
       "\n",
       "                                               salary          experience  \\\n",
       "2   {'from': 60000, 'to': None, 'currency': 'RUR',...  От 1 года до 3 лет   \n",
       "5   {'from': 60000, 'to': None, 'currency': 'RUR',...           Нет опыта   \n",
       "10  {'from': 60000, 'to': 90000, 'currency': 'RUR'...           Нет опыта   \n",
       "\n",
       "       schedule        employment  \\\n",
       "2   Полный день  Полная занятость   \n",
       "5   Полный день  Полная занятость   \n",
       "10  Полный день  Полная занятость   \n",
       "\n",
       "                                          description  \\\n",
       "2   Мы ищем QA-инженера, который будет заниматься ...   \n",
       "5   <p>В веб студию <strong>Easy IT</strong> требу...   \n",
       "10  <p>Группа компаний МЗТА</p> <p>&quot;РТК Автом...   \n",
       "\n",
       "                                           key_skills  \\\n",
       "2                                                None   \n",
       "5               [PHP, MySQL, HTML5, CSS3, JavaScript]   \n",
       "10  [Тестирование десктопных приложений, Тестирова...   \n",
       "\n",
       "          professional_roles        employer published_at  salary_from  \\\n",
       "2                Тестировщик   Долг-контроль   2023-04-28      60000.0   \n",
       "5   Программист, разработчик          EasyIT   2023-04-24      60000.0   \n",
       "10               Тестировщик  РТК Автоматика   2023-04-27      60000.0   \n",
       "\n",
       "    salary_to  flag vac_level  \n",
       "2         NaN     1      None  \n",
       "5         NaN     1      None  \n",
       "10    90000.0     1      None  "
      ]
     },
     "execution_count": 1392,
     "metadata": {},
     "output_type": "execute_result"
    }
   ],
   "source": [
    "vac_info_new_salary_from.head(3)"
   ]
  },
  {
   "cell_type": "code",
   "execution_count": 1465,
   "id": "fa9dd965",
   "metadata": {
    "scrolled": true
   },
   "outputs": [
    {
     "data": {
      "text/html": [
       "<div>\n",
       "<style scoped>\n",
       "    .dataframe tbody tr th:only-of-type {\n",
       "        vertical-align: middle;\n",
       "    }\n",
       "\n",
       "    .dataframe tbody tr th {\n",
       "        vertical-align: top;\n",
       "    }\n",
       "\n",
       "    .dataframe thead th {\n",
       "        text-align: right;\n",
       "    }\n",
       "</style>\n",
       "<table border=\"1\" class=\"dataframe\">\n",
       "  <thead>\n",
       "    <tr style=\"text-align: right;\">\n",
       "      <th></th>\n",
       "      <th>experience</th>\n",
       "      <th>professional_roles</th>\n",
       "      <th>salary_from</th>\n",
       "    </tr>\n",
       "  </thead>\n",
       "  <tbody>\n",
       "    <tr>\n",
       "      <th>0</th>\n",
       "      <td>От 1 года до 3 лет</td>\n",
       "      <td>Тестировщик</td>\n",
       "      <td>60000.0</td>\n",
       "    </tr>\n",
       "    <tr>\n",
       "      <th>1</th>\n",
       "      <td>Нет опыта</td>\n",
       "      <td>Программист, разработчик</td>\n",
       "      <td>60000.0</td>\n",
       "    </tr>\n",
       "    <tr>\n",
       "      <th>2</th>\n",
       "      <td>Нет опыта</td>\n",
       "      <td>Тестировщик</td>\n",
       "      <td>60000.0</td>\n",
       "    </tr>\n",
       "  </tbody>\n",
       "</table>\n",
       "</div>"
      ],
      "text/plain": [
       "           experience        professional_roles  salary_from\n",
       "0  От 1 года до 3 лет               Тестировщик      60000.0\n",
       "1           Нет опыта  Программист, разработчик      60000.0\n",
       "2           Нет опыта               Тестировщик      60000.0"
      ]
     },
     "execution_count": 1465,
     "metadata": {},
     "output_type": "execute_result"
    }
   ],
   "source": [
    "vac_salary_from_heatmap = vac_info_new_salary_from.copy().reset_index(drop=True)\n",
    "vac_salary_from_heatmap = vac_salary_from_heatmap.filter(items = [\"experience\",\"professional_roles\", \"salary_from\"])\n",
    "vac_salary_from_heatmap.head(3)"
   ]
  },
  {
   "cell_type": "code",
   "execution_count": 1400,
   "id": "4b5b8be9",
   "metadata": {},
   "outputs": [],
   "source": [
    "def experience_count(x):\n",
    "    \"\"\"\n",
    "    0 - можно без навыка\n",
    "    3- От 1 года до 3 лет\n",
    "    6 - 'От 3 до 6 лет'\n",
    "    \"\"\" \n",
    "    if x=='Нет опыта': return 0\n",
    "    if x=='От 1 года до 3 лет': return 3\n",
    "    if x=='От 3 до 6 лет': return 6\n",
    "    "
   ]
  },
  {
   "cell_type": "code",
   "execution_count": 1448,
   "id": "c7168938",
   "metadata": {},
   "outputs": [],
   "source": [
    "vac_salary_from_heatmap['experience'] = vac_salary_from_heatmap['experience'].apply(experience_count)"
   ]
  },
  {
   "cell_type": "code",
   "execution_count": 1449,
   "id": "87c7321c",
   "metadata": {},
   "outputs": [
    {
     "data": {
      "text/html": [
       "<div>\n",
       "<style scoped>\n",
       "    .dataframe tbody tr th:only-of-type {\n",
       "        vertical-align: middle;\n",
       "    }\n",
       "\n",
       "    .dataframe tbody tr th {\n",
       "        vertical-align: top;\n",
       "    }\n",
       "\n",
       "    .dataframe thead th {\n",
       "        text-align: right;\n",
       "    }\n",
       "</style>\n",
       "<table border=\"1\" class=\"dataframe\">\n",
       "  <thead>\n",
       "    <tr style=\"text-align: right;\">\n",
       "      <th></th>\n",
       "      <th>experience</th>\n",
       "      <th>professional_roles</th>\n",
       "      <th>salary_from</th>\n",
       "    </tr>\n",
       "  </thead>\n",
       "  <tbody>\n",
       "    <tr>\n",
       "      <th>0</th>\n",
       "      <td>3</td>\n",
       "      <td>Тестировщик</td>\n",
       "      <td>60000.0</td>\n",
       "    </tr>\n",
       "    <tr>\n",
       "      <th>1</th>\n",
       "      <td>0</td>\n",
       "      <td>Программист, разработчик</td>\n",
       "      <td>60000.0</td>\n",
       "    </tr>\n",
       "    <tr>\n",
       "      <th>2</th>\n",
       "      <td>0</td>\n",
       "      <td>Тестировщик</td>\n",
       "      <td>60000.0</td>\n",
       "    </tr>\n",
       "  </tbody>\n",
       "</table>\n",
       "</div>"
      ],
      "text/plain": [
       "   experience        professional_roles  salary_from\n",
       "0           3               Тестировщик      60000.0\n",
       "1           0  Программист, разработчик      60000.0\n",
       "2           0               Тестировщик      60000.0"
      ]
     },
     "execution_count": 1449,
     "metadata": {},
     "output_type": "execute_result"
    }
   ],
   "source": [
    "vac_salary_from_heatmap.head(3)"
   ]
  },
  {
   "cell_type": "code",
   "execution_count": 1472,
   "id": "e3b0e588",
   "metadata": {},
   "outputs": [
    {
     "data": {
      "text/html": [
       "<div>\n",
       "<style scoped>\n",
       "    .dataframe tbody tr th:only-of-type {\n",
       "        vertical-align: middle;\n",
       "    }\n",
       "\n",
       "    .dataframe tbody tr th {\n",
       "        vertical-align: top;\n",
       "    }\n",
       "\n",
       "    .dataframe thead th {\n",
       "        text-align: right;\n",
       "    }\n",
       "</style>\n",
       "<table border=\"1\" class=\"dataframe\">\n",
       "  <thead>\n",
       "    <tr style=\"text-align: right;\">\n",
       "      <th>experience</th>\n",
       "      <th>Нет опыта</th>\n",
       "      <th>От 1 года до 3 лет</th>\n",
       "      <th>От 3 до 6 лет</th>\n",
       "    </tr>\n",
       "    <tr>\n",
       "      <th>professional_roles</th>\n",
       "      <th></th>\n",
       "      <th></th>\n",
       "      <th></th>\n",
       "    </tr>\n",
       "  </thead>\n",
       "  <tbody>\n",
       "    <tr>\n",
       "      <th>Менеджер продукта</th>\n",
       "      <td>NaN</td>\n",
       "      <td>130000.000000</td>\n",
       "      <td>NaN</td>\n",
       "    </tr>\n",
       "    <tr>\n",
       "      <th>Программист, разработчик</th>\n",
       "      <td>56250.0</td>\n",
       "      <td>78777.777778</td>\n",
       "      <td>NaN</td>\n",
       "    </tr>\n",
       "    <tr>\n",
       "      <th>Продуктовый аналитик</th>\n",
       "      <td>1000.0</td>\n",
       "      <td>NaN</td>\n",
       "      <td>NaN</td>\n",
       "    </tr>\n",
       "    <tr>\n",
       "      <th>Руководитель группы разработки</th>\n",
       "      <td>10000.0</td>\n",
       "      <td>NaN</td>\n",
       "      <td>NaN</td>\n",
       "    </tr>\n",
       "    <tr>\n",
       "      <th>Системный администратор</th>\n",
       "      <td>45000.0</td>\n",
       "      <td>86000.000000</td>\n",
       "      <td>NaN</td>\n",
       "    </tr>\n",
       "  </tbody>\n",
       "</table>\n",
       "</div>"
      ],
      "text/plain": [
       "experience                      Нет опыта  От 1 года до 3 лет  От 3 до 6 лет\n",
       "professional_roles                                                          \n",
       "Менеджер продукта                     NaN       130000.000000            NaN\n",
       "Программист, разработчик          56250.0        78777.777778            NaN\n",
       "Продуктовый аналитик               1000.0                 NaN            NaN\n",
       "Руководитель группы разработки    10000.0                 NaN            NaN\n",
       "Системный администратор           45000.0        86000.000000            NaN"
      ]
     },
     "execution_count": 1472,
     "metadata": {},
     "output_type": "execute_result"
    }
   ],
   "source": [
    "g = pd.pivot_table(vac_salary_from_heatmap,\n",
    "                  index='professional_roles' ,\n",
    "                  columns = 'experience',\n",
    "                  values='salary_from',\n",
    "                  aggfunc='mean')\n",
    "#g=g.fillna(0)\n",
    "g.head()"
   ]
  },
  {
   "cell_type": "code",
   "execution_count": 1475,
   "id": "5b03ef6a",
   "metadata": {},
   "outputs": [
    {
     "data": {
      "image/png": "[encoded data removed]",
      "text/plain": [
       "<Figure size 640x480 with 2 Axes>"
      ]
     },
     "metadata": {},
     "output_type": "display_data"
    }
   ],
   "source": [
    "sns.heatmap(g,\n",
    "           cmap=\"Spectral\")\n",
    "plt.ylabel('специальность', color='g')\n",
    "plt.xlabel('опыт', color='g')\n",
    "plt.title('зависимость средней зарплаты в профессии от опыта', color='g');\n",
    "plt.show()"
   ]
  },
  {
   "cell_type": "code",
   "execution_count": null,
   "id": "f18ac63d",
   "metadata": {},
   "outputs": [],
   "source": []
  },
  {
   "cell_type": "markdown",
   "id": "303b2ec2",
   "metadata": {},
   "source": [
    "### Построим график уровень зарплат до (там где данные есть). Верхняя планка(потолок) зарплат."
   ]
  },
  {
   "cell_type": "code",
   "execution_count": 1317,
   "id": "2fa76ac3",
   "metadata": {},
   "outputs": [
    {
     "data": {
      "application/vnd.plotly.v1+json": {
       "config": {
        "plotlyServerURL": "https://plot.ly"
       },
       "data": [
        {
         "alignmentgroup": "True",
         "hovertemplate": "Регион=%{x}<br>Зарплата от, руб.=%{y}<extra></extra>",
         "legendgroup": "Санкт-Петербург",
         "marker": {
          "color": "#636efa"
         },
         "name": "Санкт-Петербург",
         "notched": false,
         "offsetgroup": "Санкт-Петербург",
         "orientation": "v",
         "showlegend": true,
         "type": "box",
         "x": [
          "Санкт-Петербург",
          "Санкт-Петербург",
          "Санкт-Петербург",
          "Санкт-Петербург",
          "Санкт-Петербург",
          "Санкт-Петербург",
          "Санкт-Петербург",
          "Санкт-Петербург",
          "Санкт-Петербург",
          "Санкт-Петербург",
          "Санкт-Петербург",
          "Санкт-Петербург",
          "Санкт-Петербург",
          "Санкт-Петербург",
          "Санкт-Петербург",
          "Санкт-Петербург",
          "Санкт-Петербург",
          "Санкт-Петербург",
          "Санкт-Петербург",
          "Санкт-Петербург",
          "Санкт-Петербург",
          "Санкт-Петербург",
          "Санкт-Петербург",
          "Санкт-Петербург",
          "Санкт-Петербург",
          "Санкт-Петербург",
          "Санкт-Петербург",
          "Санкт-Петербург",
          "Санкт-Петербург",
          "Санкт-Петербург",
          "Санкт-Петербург",
          "Санкт-Петербург",
          "Санкт-Петербург",
          "Санкт-Петербург",
          "Санкт-Петербург",
          "Санкт-Петербург",
          "Санкт-Петербург",
          "Санкт-Петербург",
          "Санкт-Петербург",
          "Санкт-Петербург",
          "Санкт-Петербург",
          "Санкт-Петербург",
          "Санкт-Петербург",
          "Санкт-Петербург",
          "Санкт-Петербург",
          "Санкт-Петербург",
          "Санкт-Петербург",
          "Санкт-Петербург",
          "Санкт-Петербург",
          "Санкт-Петербург",
          "Санкт-Петербург",
          "Санкт-Петербург",
          "Санкт-Петербург",
          "Санкт-Петербург",
          "Санкт-Петербург",
          "Санкт-Петербург",
          "Санкт-Петербург",
          "Санкт-Петербург",
          "Санкт-Петербург",
          "Санкт-Петербург",
          "Санкт-Петербург",
          "Санкт-Петербург",
          "Санкт-Петербург",
          "Санкт-Петербург",
          "Санкт-Петербург",
          "Санкт-Петербург",
          "Санкт-Петербург",
          "Санкт-Петербург",
          "Санкт-Петербург",
          "Санкт-Петербург",
          "Санкт-Петербург",
          "Санкт-Петербург",
          "Санкт-Петербург",
          "Санкт-Петербург",
          "Санкт-Петербург",
          "Санкт-Петербург",
          "Санкт-Петербург",
          "Санкт-Петербург",
          "Санкт-Петербург",
          "Санкт-Петербург"
         ],
         "x0": " ",
         "xaxis": "x",
         "y": [
          100000,
          130000,
          35000,
          60000,
          100000,
          130000,
          35000,
          60000,
          100000,
          130000,
          35000,
          60000,
          100000,
          130000,
          35000,
          60000,
          100000,
          130000,
          35000,
          60000,
          100000,
          130000,
          35000,
          60000,
          100000,
          130000,
          35000,
          60000,
          100000,
          130000,
          35000,
          60000,
          100000,
          130000,
          35000,
          60000,
          100000,
          130000,
          35000,
          60000,
          100000,
          130000,
          35000,
          60000,
          100000,
          130000,
          35000,
          60000,
          100000,
          130000,
          35000,
          60000,
          100000,
          130000,
          35000,
          60000,
          100000,
          130000,
          35000,
          60000,
          100000,
          130000,
          35000,
          60000,
          100000,
          130000,
          35000,
          60000,
          100000,
          130000,
          35000,
          60000,
          100000,
          130000,
          35000,
          60000,
          100000,
          130000,
          35000,
          60000
         ],
         "y0": " ",
         "yaxis": "y"
        },
        {
         "alignmentgroup": "True",
         "hovertemplate": "Регион=%{x}<br>Зарплата от, руб.=%{y}<extra></extra>",
         "legendgroup": "Нижний Новгород",
         "marker": {
          "color": "#EF553B"
         },
         "name": "Нижний Новгород",
         "notched": false,
         "offsetgroup": "Нижний Новгород",
         "orientation": "v",
         "showlegend": true,
         "type": "box",
         "x": [
          "Нижний Новгород",
          "Нижний Новгород",
          "Нижний Новгород",
          "Нижний Новгород",
          "Нижний Новгород",
          "Нижний Новгород",
          "Нижний Новгород",
          "Нижний Новгород",
          "Нижний Новгород",
          "Нижний Новгород",
          "Нижний Новгород",
          "Нижний Новгород",
          "Нижний Новгород",
          "Нижний Новгород",
          "Нижний Новгород",
          "Нижний Новгород",
          "Нижний Новгород",
          "Нижний Новгород",
          "Нижний Новгород",
          "Нижний Новгород",
          "Нижний Новгород",
          "Нижний Новгород",
          "Нижний Новгород",
          "Нижний Новгород",
          "Нижний Новгород",
          "Нижний Новгород",
          "Нижний Новгород",
          "Нижний Новгород",
          "Нижний Новгород",
          "Нижний Новгород",
          "Нижний Новгород",
          "Нижний Новгород",
          "Нижний Новгород",
          "Нижний Новгород",
          "Нижний Новгород",
          "Нижний Новгород",
          "Нижний Новгород",
          "Нижний Новгород",
          "Нижний Новгород",
          "Нижний Новгород",
          "Нижний Новгород",
          "Нижний Новгород",
          "Нижний Новгород",
          "Нижний Новгород",
          "Нижний Новгород",
          "Нижний Новгород",
          "Нижний Новгород",
          "Нижний Новгород",
          "Нижний Новгород",
          "Нижний Новгород",
          "Нижний Новгород",
          "Нижний Новгород",
          "Нижний Новгород",
          "Нижний Новгород",
          "Нижний Новгород",
          "Нижний Новгород",
          "Нижний Новгород",
          "Нижний Новгород",
          "Нижний Новгород",
          "Нижний Новгород"
         ],
         "x0": " ",
         "xaxis": "x",
         "y": [
          40000,
          100000,
          60000,
          40000,
          100000,
          60000,
          40000,
          100000,
          60000,
          40000,
          100000,
          60000,
          40000,
          100000,
          60000,
          40000,
          100000,
          60000,
          40000,
          100000,
          60000,
          40000,
          100000,
          60000,
          40000,
          100000,
          60000,
          40000,
          100000,
          60000,
          40000,
          100000,
          60000,
          40000,
          100000,
          60000,
          40000,
          100000,
          60000,
          40000,
          100000,
          60000,
          40000,
          100000,
          60000,
          40000,
          100000,
          60000,
          40000,
          100000,
          60000,
          40000,
          100000,
          60000,
          40000,
          100000,
          60000,
          40000,
          100000,
          60000
         ],
         "y0": " ",
         "yaxis": "y"
        },
        {
         "alignmentgroup": "True",
         "hovertemplate": "Регион=%{x}<br>Зарплата от, руб.=%{y}<extra></extra>",
         "legendgroup": "Москва",
         "marker": {
          "color": "#00cc96"
         },
         "name": "Москва",
         "notched": false,
         "offsetgroup": "Москва",
         "orientation": "v",
         "showlegend": true,
         "type": "box",
         "x": [
          "Москва",
          "Москва",
          "Москва",
          "Москва",
          "Москва",
          "Москва",
          "Москва",
          "Москва",
          "Москва",
          "Москва",
          "Москва",
          "Москва",
          "Москва",
          "Москва",
          "Москва",
          "Москва",
          "Москва",
          "Москва",
          "Москва",
          "Москва",
          "Москва",
          "Москва",
          "Москва",
          "Москва",
          "Москва",
          "Москва",
          "Москва",
          "Москва",
          "Москва",
          "Москва",
          "Москва",
          "Москва",
          "Москва",
          "Москва",
          "Москва",
          "Москва",
          "Москва",
          "Москва",
          "Москва",
          "Москва"
         ],
         "x0": " ",
         "xaxis": "x",
         "y": [
          90000,
          1600,
          90000,
          1600,
          90000,
          1600,
          90000,
          1600,
          90000,
          1600,
          90000,
          1600,
          90000,
          1600,
          90000,
          1600,
          90000,
          1600,
          90000,
          1600,
          90000,
          1600,
          90000,
          1600,
          90000,
          1600,
          90000,
          1600,
          90000,
          1600,
          90000,
          1600,
          90000,
          1600,
          90000,
          1600,
          90000,
          1600,
          90000,
          1600
         ],
         "y0": " ",
         "yaxis": "y"
        },
        {
         "alignmentgroup": "True",
         "hovertemplate": "Регион=%{x}<br>Зарплата от, руб.=%{y}<extra></extra>",
         "legendgroup": "Новосибирск",
         "marker": {
          "color": "#ab63fa"
         },
         "name": "Новосибирск",
         "notched": false,
         "offsetgroup": "Новосибирск",
         "orientation": "v",
         "showlegend": true,
         "type": "box",
         "x": [
          "Новосибирск",
          "Новосибирск",
          "Новосибирск",
          "Новосибирск",
          "Новосибирск",
          "Новосибирск",
          "Новосибирск",
          "Новосибирск",
          "Новосибирск",
          "Новосибирск",
          "Новосибирск",
          "Новосибирск",
          "Новосибирск",
          "Новосибирск",
          "Новосибирск",
          "Новосибирск",
          "Новосибирск",
          "Новосибирск",
          "Новосибирск",
          "Новосибирск",
          "Новосибирск",
          "Новосибирск",
          "Новосибирск",
          "Новосибирск",
          "Новосибирск",
          "Новосибирск",
          "Новосибирск",
          "Новосибирск",
          "Новосибирск",
          "Новосибирск",
          "Новосибирск",
          "Новосибирск",
          "Новосибирск",
          "Новосибирск",
          "Новосибирск",
          "Новосибирск",
          "Новосибирск",
          "Новосибирск",
          "Новосибирск",
          "Новосибирск"
         ],
         "x0": " ",
         "xaxis": "x",
         "y": [
          1500,
          80000,
          1500,
          80000,
          1500,
          80000,
          1500,
          80000,
          1500,
          80000,
          1500,
          80000,
          1500,
          80000,
          1500,
          80000,
          1500,
          80000,
          1500,
          80000,
          1500,
          80000,
          1500,
          80000,
          1500,
          80000,
          1500,
          80000,
          1500,
          80000,
          1500,
          80000,
          1500,
          80000,
          1500,
          80000,
          1500,
          80000,
          1500,
          80000
         ],
         "y0": " ",
         "yaxis": "y"
        },
        {
         "alignmentgroup": "True",
         "hovertemplate": "Регион=%{x}<br>Зарплата от, руб.=%{y}<extra></extra>",
         "legendgroup": "Самара",
         "marker": {
          "color": "#FFA15A"
         },
         "name": "Самара",
         "notched": false,
         "offsetgroup": "Самара",
         "orientation": "v",
         "showlegend": true,
         "type": "box",
         "x": [
          "Самара",
          "Самара",
          "Самара",
          "Самара",
          "Самара",
          "Самара",
          "Самара",
          "Самара",
          "Самара",
          "Самара",
          "Самара",
          "Самара",
          "Самара",
          "Самара",
          "Самара",
          "Самара",
          "Самара",
          "Самара",
          "Самара",
          "Самара",
          "Самара",
          "Самара",
          "Самара",
          "Самара",
          "Самара",
          "Самара",
          "Самара",
          "Самара",
          "Самара",
          "Самара",
          "Самара",
          "Самара",
          "Самара",
          "Самара",
          "Самара",
          "Самара",
          "Самара",
          "Самара",
          "Самара",
          "Самара"
         ],
         "x0": " ",
         "xaxis": "x",
         "y": [
          130000,
          100000,
          130000,
          100000,
          130000,
          100000,
          130000,
          100000,
          130000,
          100000,
          130000,
          100000,
          130000,
          100000,
          130000,
          100000,
          130000,
          100000,
          130000,
          100000,
          130000,
          100000,
          130000,
          100000,
          130000,
          100000,
          130000,
          100000,
          130000,
          100000,
          130000,
          100000,
          130000,
          100000,
          130000,
          100000,
          130000,
          100000,
          130000,
          100000
         ],
         "y0": " ",
         "yaxis": "y"
        },
        {
         "alignmentgroup": "True",
         "hovertemplate": "Регион=%{x}<br>Зарплата от, руб.=%{y}<extra></extra>",
         "legendgroup": "Тула",
         "marker": {
          "color": "#19d3f3"
         },
         "name": "Тула",
         "notched": false,
         "offsetgroup": "Тула",
         "orientation": "v",
         "showlegend": true,
         "type": "box",
         "x": [
          "Тула",
          "Тула",
          "Тула",
          "Тула",
          "Тула",
          "Тула",
          "Тула",
          "Тула",
          "Тула",
          "Тула",
          "Тула",
          "Тула",
          "Тула",
          "Тула",
          "Тула",
          "Тула",
          "Тула",
          "Тула",
          "Тула",
          "Тула",
          "Тула",
          "Тула",
          "Тула",
          "Тула",
          "Тула",
          "Тула",
          "Тула",
          "Тула",
          "Тула",
          "Тула",
          "Тула",
          "Тула",
          "Тула",
          "Тула",
          "Тула",
          "Тула",
          "Тула",
          "Тула",
          "Тула",
          "Тула"
         ],
         "x0": " ",
         "xaxis": "x",
         "y": [
          80000,
          114000,
          80000,
          114000,
          80000,
          114000,
          80000,
          114000,
          80000,
          114000,
          80000,
          114000,
          80000,
          114000,
          80000,
          114000,
          80000,
          114000,
          80000,
          114000,
          80000,
          114000,
          80000,
          114000,
          80000,
          114000,
          80000,
          114000,
          80000,
          114000,
          80000,
          114000,
          80000,
          114000,
          80000,
          114000,
          80000,
          114000,
          80000,
          114000
         ],
         "y0": " ",
         "yaxis": "y"
        }
       ],
       "layout": {
        "boxmode": "overlay",
        "legend": {
         "title": {
          "text": "Регион"
         },
         "tracegroupgap": 0
        },
        "margin": {
         "t": 60
        },
        "template": {
         "data": {
          "bar": [
           {
            "error_x": {
             "color": "#2a3f5f"
            },
            "error_y": {
             "color": "#2a3f5f"
            },
            "marker": {
             "line": {
              "color": "#E5ECF6",
              "width": 0.5
             },
             "pattern": {
              "fillmode": "overlay",
              "size": 10,
              "solidity": 0.2
             }
            },
            "type": "bar"
           }
          ],
          "barpolar": [
           {
            "marker": {
             "line": {
              "color": "#E5ECF6",
              "width": 0.5
             },
             "pattern": {
              "fillmode": "overlay",
              "size": 10,
              "solidity": 0.2
             }
            },
            "type": "barpolar"
           }
          ],
          "carpet": [
           {
            "aaxis": {
             "endlinecolor": "#2a3f5f",
             "gridcolor": "white",
             "linecolor": "white",
             "minorgridcolor": "white",
             "startlinecolor": "#2a3f5f"
            },
            "baxis": {
             "endlinecolor": "#2a3f5f",
             "gridcolor": "white",
             "linecolor": "white",
             "minorgridcolor": "white",
             "startlinecolor": "#2a3f5f"
            },
            "type": "carpet"
           }
          ],
          "choropleth": [
           {
            "colorbar": {
             "outlinewidth": 0,
             "ticks": ""
            },
            "type": "choropleth"
           }
          ],
          "contour": [
           {
            "colorbar": {
             "outlinewidth": 0,
             "ticks": ""
            },
            "colorscale": [
             [
              0,
              "#0d0887"
             ],
             [
              0.1111111111111111,
              "#46039f"
             ],
             [
              0.2222222222222222,
              "#7201a8"
             ],
             [
              0.3333333333333333,
              "#9c179e"
             ],
             [
              0.4444444444444444,
              "#bd3786"
             ],
             [
              0.5555555555555556,
              "#d8576b"
             ],
             [
              0.6666666666666666,
              "#ed7953"
             ],
             [
              0.7777777777777778,
              "#fb9f3a"
             ],
             [
              0.8888888888888888,
              "#fdca26"
             ],
             [
              1,
              "#f0f921"
             ]
            ],
            "type": "contour"
           }
          ],
          "contourcarpet": [
           {
            "colorbar": {
             "outlinewidth": 0,
             "ticks": ""
            },
            "type": "contourcarpet"
           }
          ],
          "heatmap": [
           {
            "colorbar": {
             "outlinewidth": 0,
             "ticks": ""
            },
            "colorscale": [
             [
              0,
              "#0d0887"
             ],
             [
              0.1111111111111111,
              "#46039f"
             ],
             [
              0.2222222222222222,
              "#7201a8"
             ],
             [
              0.3333333333333333,
              "#9c179e"
             ],
             [
              0.4444444444444444,
              "#bd3786"
             ],
             [
              0.5555555555555556,
              "#d8576b"
             ],
             [
              0.6666666666666666,
              "#ed7953"
             ],
             [
              0.7777777777777778,
              "#fb9f3a"
             ],
             [
              0.8888888888888888,
              "#fdca26"
             ],
             [
              1,
              "#f0f921"
             ]
            ],
            "type": "heatmap"
           }
          ],
          "heatmapgl": [
           {
            "colorbar": {
             "outlinewidth": 0,
             "ticks": ""
            },
            "colorscale": [
             [
              0,
              "#0d0887"
             ],
             [
              0.1111111111111111,
              "#46039f"
             ],
             [
              0.2222222222222222,
              "#7201a8"
             ],
             [
              0.3333333333333333,
              "#9c179e"
             ],
             [
              0.4444444444444444,
              "#bd3786"
             ],
             [
              0.5555555555555556,
              "#d8576b"
             ],
             [
              0.6666666666666666,
              "#ed7953"
             ],
             [
              0.7777777777777778,
              "#fb9f3a"
             ],
             [
              0.8888888888888888,
              "#fdca26"
             ],
             [
              1,
              "#f0f921"
             ]
            ],
            "type": "heatmapgl"
           }
          ],
          "histogram": [
           {
            "marker": {
             "pattern": {
              "fillmode": "overlay",
              "size": 10,
              "solidity": 0.2
             }
            },
            "type": "histogram"
           }
          ],
          "histogram2d": [
           {
            "colorbar": {
             "outlinewidth": 0,
             "ticks": ""
            },
            "colorscale": [
             [
              0,
              "#0d0887"
             ],
             [
              0.1111111111111111,
              "#46039f"
             ],
             [
              0.2222222222222222,
              "#7201a8"
             ],
             [
              0.3333333333333333,
              "#9c179e"
             ],
             [
              0.4444444444444444,
              "#bd3786"
             ],
             [
              0.5555555555555556,
              "#d8576b"
             ],
             [
              0.6666666666666666,
              "#ed7953"
             ],
             [
              0.7777777777777778,
              "#fb9f3a"
             ],
             [
              0.8888888888888888,
              "#fdca26"
             ],
             [
              1,
              "#f0f921"
             ]
            ],
            "type": "histogram2d"
           }
          ],
          "histogram2dcontour": [
           {
            "colorbar": {
             "outlinewidth": 0,
             "ticks": ""
            },
            "colorscale": [
             [
              0,
              "#0d0887"
             ],
             [
              0.1111111111111111,
              "#46039f"
             ],
             [
              0.2222222222222222,
              "#7201a8"
             ],
             [
              0.3333333333333333,
              "#9c179e"
             ],
             [
              0.4444444444444444,
              "#bd3786"
             ],
             [
              0.5555555555555556,
              "#d8576b"
             ],
             [
              0.6666666666666666,
              "#ed7953"
             ],
             [
              0.7777777777777778,
              "#fb9f3a"
             ],
             [
              0.8888888888888888,
              "#fdca26"
             ],
             [
              1,
              "#f0f921"
             ]
            ],
            "type": "histogram2dcontour"
           }
          ],
          "mesh3d": [
           {
            "colorbar": {
             "outlinewidth": 0,
             "ticks": ""
            },
            "type": "mesh3d"
           }
          ],
          "parcoords": [
           {
            "line": {
             "colorbar": {
              "outlinewidth": 0,
              "ticks": ""
             }
            },
            "type": "parcoords"
           }
          ],
          "pie": [
           {
            "automargin": true,
            "type": "pie"
           }
          ],
          "scatter": [
           {
            "fillpattern": {
             "fillmode": "overlay",
             "size": 10,
             "solidity": 0.2
            },
            "type": "scatter"
           }
          ],
          "scatter3d": [
           {
            "line": {
             "colorbar": {
              "outlinewidth": 0,
              "ticks": ""
             }
            },
            "marker": {
             "colorbar": {
              "outlinewidth": 0,
              "ticks": ""
             }
            },
            "type": "scatter3d"
           }
          ],
          "scattercarpet": [
           {
            "marker": {
             "colorbar": {
              "outlinewidth": 0,
              "ticks": ""
             }
            },
            "type": "scattercarpet"
           }
          ],
          "scattergeo": [
           {
            "marker": {
             "colorbar": {
              "outlinewidth": 0,
              "ticks": ""
             }
            },
            "type": "scattergeo"
           }
          ],
          "scattergl": [
           {
            "marker": {
             "colorbar": {
              "outlinewidth": 0,
              "ticks": ""
             }
            },
            "type": "scattergl"
           }
          ],
          "scattermapbox": [
           {
            "marker": {
             "colorbar": {
              "outlinewidth": 0,
              "ticks": ""
             }
            },
            "type": "scattermapbox"
           }
          ],
          "scatterpolar": [
           {
            "marker": {
             "colorbar": {
              "outlinewidth": 0,
              "ticks": ""
             }
            },
            "type": "scatterpolar"
           }
          ],
          "scatterpolargl": [
           {
            "marker": {
             "colorbar": {
              "outlinewidth": 0,
              "ticks": ""
             }
            },
            "type": "scatterpolargl"
           }
          ],
          "scatterternary": [
           {
            "marker": {
             "colorbar": {
              "outlinewidth": 0,
              "ticks": ""
             }
            },
            "type": "scatterternary"
           }
          ],
          "surface": [
           {
            "colorbar": {
             "outlinewidth": 0,
             "ticks": ""
            },
            "colorscale": [
             [
              0,
              "#0d0887"
             ],
             [
              0.1111111111111111,
              "#46039f"
             ],
             [
              0.2222222222222222,
              "#7201a8"
             ],
             [
              0.3333333333333333,
              "#9c179e"
             ],
             [
              0.4444444444444444,
              "#bd3786"
             ],
             [
              0.5555555555555556,
              "#d8576b"
             ],
             [
              0.6666666666666666,
              "#ed7953"
             ],
             [
              0.7777777777777778,
              "#fb9f3a"
             ],
             [
              0.8888888888888888,
              "#fdca26"
             ],
             [
              1,
              "#f0f921"
             ]
            ],
            "type": "surface"
           }
          ],
          "table": [
           {
            "cells": {
             "fill": {
              "color": "#EBF0F8"
             },
             "line": {
              "color": "white"
             }
            },
            "header": {
             "fill": {
              "color": "#C8D4E3"
             },
             "line": {
              "color": "white"
             }
            },
            "type": "table"
           }
          ]
         },
         "layout": {
          "annotationdefaults": {
           "arrowcolor": "#2a3f5f",
           "arrowhead": 0,
           "arrowwidth": 1
          },
          "autotypenumbers": "strict",
          "coloraxis": {
           "colorbar": {
            "outlinewidth": 0,
            "ticks": ""
           }
          },
          "colorscale": {
           "diverging": [
            [
             0,
             "#8e0152"
            ],
            [
             0.1,
             "#c51b7d"
            ],
            [
             0.2,
             "#de77ae"
            ],
            [
             0.3,
             "#f1b6da"
            ],
            [
             0.4,
             "#fde0ef"
            ],
            [
             0.5,
             "#f7f7f7"
            ],
            [
             0.6,
             "#e6f5d0"
            ],
            [
             0.7,
             "#b8e186"
            ],
            [
             0.8,
             "#7fbc41"
            ],
            [
             0.9,
             "#4d9221"
            ],
            [
             1,
             "#276419"
            ]
           ],
           "sequential": [
            [
             0,
             "#0d0887"
            ],
            [
             0.1111111111111111,
             "#46039f"
            ],
            [
             0.2222222222222222,
             "#7201a8"
            ],
            [
             0.3333333333333333,
             "#9c179e"
            ],
            [
             0.4444444444444444,
             "#bd3786"
            ],
            [
             0.5555555555555556,
             "#d8576b"
            ],
            [
             0.6666666666666666,
             "#ed7953"
            ],
            [
             0.7777777777777778,
             "#fb9f3a"
            ],
            [
             0.8888888888888888,
             "#fdca26"
            ],
            [
             1,
             "#f0f921"
            ]
           ],
           "sequentialminus": [
            [
             0,
             "#0d0887"
            ],
            [
             0.1111111111111111,
             "#46039f"
            ],
            [
             0.2222222222222222,
             "#7201a8"
            ],
            [
             0.3333333333333333,
             "#9c179e"
            ],
            [
             0.4444444444444444,
             "#bd3786"
            ],
            [
             0.5555555555555556,
             "#d8576b"
            ],
            [
             0.6666666666666666,
             "#ed7953"
            ],
            [
             0.7777777777777778,
             "#fb9f3a"
            ],
            [
             0.8888888888888888,
             "#fdca26"
            ],
            [
             1,
             "#f0f921"
            ]
           ]
          },
          "colorway": [
           "#636efa",
           "#EF553B",
           "#00cc96",
           "#ab63fa",
           "#FFA15A",
           "#19d3f3",
           "#FF6692",
           "#B6E880",
           "#FF97FF",
           "#FECB52"
          ],
          "font": {
           "color": "#2a3f5f"
          },
          "geo": {
           "bgcolor": "white",
           "lakecolor": "white",
           "landcolor": "#E5ECF6",
           "showlakes": true,
           "showland": true,
           "subunitcolor": "white"
          },
          "hoverlabel": {
           "align": "left"
          },
          "hovermode": "closest",
          "mapbox": {
           "style": "light"
          },
          "paper_bgcolor": "white",
          "plot_bgcolor": "#E5ECF6",
          "polar": {
           "angularaxis": {
            "gridcolor": "white",
            "linecolor": "white",
            "ticks": ""
           },
           "bgcolor": "#E5ECF6",
           "radialaxis": {
            "gridcolor": "white",
            "linecolor": "white",
            "ticks": ""
           }
          },
          "scene": {
           "xaxis": {
            "backgroundcolor": "#E5ECF6",
            "gridcolor": "white",
            "gridwidth": 2,
            "linecolor": "white",
            "showbackground": true,
            "ticks": "",
            "zerolinecolor": "white"
           },
           "yaxis": {
            "backgroundcolor": "#E5ECF6",
            "gridcolor": "white",
            "gridwidth": 2,
            "linecolor": "white",
            "showbackground": true,
            "ticks": "",
            "zerolinecolor": "white"
           },
           "zaxis": {
            "backgroundcolor": "#E5ECF6",
            "gridcolor": "white",
            "gridwidth": 2,
            "linecolor": "white",
            "showbackground": true,
            "ticks": "",
            "zerolinecolor": "white"
           }
          },
          "shapedefaults": {
           "line": {
            "color": "#2a3f5f"
           }
          },
          "ternary": {
           "aaxis": {
            "gridcolor": "white",
            "linecolor": "white",
            "ticks": ""
           },
           "baxis": {
            "gridcolor": "white",
            "linecolor": "white",
            "ticks": ""
           },
           "bgcolor": "#E5ECF6",
           "caxis": {
            "gridcolor": "white",
            "linecolor": "white",
            "ticks": ""
           }
          },
          "title": {
           "x": 0.05
          },
          "xaxis": {
           "automargin": true,
           "gridcolor": "white",
           "linecolor": "white",
           "ticks": "",
           "title": {
            "standoff": 15
           },
           "zerolinecolor": "white",
           "zerolinewidth": 2
          },
          "yaxis": {
           "automargin": true,
           "gridcolor": "white",
           "linecolor": "white",
           "ticks": "",
           "title": {
            "standoff": 15
           },
           "zerolinecolor": "white",
           "zerolinewidth": 2
          }
         }
        },
        "xaxis": {
         "anchor": "y",
         "categoryarray": [
          "Санкт-Петербург",
          "Нижний Новгород",
          "Москва",
          "Новосибирск",
          "Самара",
          "Тула"
         ],
         "categoryorder": "array",
         "domain": [
          0,
          1
         ],
         "title": {
          "text": "Регион"
         }
        },
        "yaxis": {
         "anchor": "x",
         "domain": [
          0,
          1
         ],
         "title": {
          "text": "Зарплата от, руб."
         }
        }
       }
      },
      "text/html": [
       "<div>                            <div id=\"3696fc26-ed08-4842-9932-84feea0cf0a9\" class=\"plotly-graph-div\" style=\"height:525px; width:100%;\"></div>            <script type=\"text/javascript\">                require([\"plotly\"], function(Plotly) {                    window.PLOTLYENV=window.PLOTLYENV || {};                                    if (document.getElementById(\"3696fc26-ed08-4842-9932-84feea0cf0a9\")) {                    Plotly.newPlot(                        \"3696fc26-ed08-4842-9932-84feea0cf0a9\",                        [{\"alignmentgroup\":\"True\",\"hovertemplate\":\"\\u0420\\u0435\\u0433\\u0438\\u043e\\u043d=%{x}<br>\\u0417\\u0430\\u0440\\u043f\\u043b\\u0430\\u0442\\u0430 \\u043e\\u0442, \\u0440\\u0443\\u0431.=%{y}<extra></extra>\",\"legendgroup\":\"\\u0421\\u0430\\u043d\\u043a\\u0442-\\u041f\\u0435\\u0442\\u0435\\u0440\\u0431\\u0443\\u0440\\u0433\",\"marker\":{\"color\":\"#636efa\"},\"name\":\"\\u0421\\u0430\\u043d\\u043a\\u0442-\\u041f\\u0435\\u0442\\u0435\\u0440\\u0431\\u0443\\u0440\\u0433\",\"notched\":false,\"offsetgroup\":\"\\u0421\\u0430\\u043d\\u043a\\u0442-\\u041f\\u0435\\u0442\\u0435\\u0440\\u0431\\u0443\\u0440\\u0433\",\"orientation\":\"v\",\"showlegend\":true,\"x\":[\"\\u0421\\u0430\\u043d\\u043a\\u0442-\\u041f\\u0435\\u0442\\u0435\\u0440\\u0431\\u0443\\u0440\\u0433\",\"\\u0421\\u0430\\u043d\\u043a\\u0442-\\u041f\\u0435\\u0442\\u0435\\u0440\\u0431\\u0443\\u0440\\u0433\",\"\\u0421\\u0430\\u043d\\u043a\\u0442-\\u041f\\u0435\\u0442\\u0435\\u0440\\u0431\\u0443\\u0440\\u0433\",\"\\u0421\\u0430\\u043d\\u043a\\u0442-\\u041f\\u0435\\u0442\\u0435\\u0440\\u0431\\u0443\\u0440\\u0433\",\"\\u0421\\u0430\\u043d\\u043a\\u0442-\\u041f\\u0435\\u0442\\u0435\\u0440\\u0431\\u0443\\u0440\\u0433\",\"\\u0421\\u0430\\u043d\\u043a\\u0442-\\u041f\\u0435\\u0442\\u0435\\u0440\\u0431\\u0443\\u0440\\u0433\",\"\\u0421\\u0430\\u043d\\u043a\\u0442-\\u041f\\u0435\\u0442\\u0435\\u0440\\u0431\\u0443\\u0440\\u0433\",\"\\u0421\\u0430\\u043d\\u043a\\u0442-\\u041f\\u0435\\u0442\\u0435\\u0440\\u0431\\u0443\\u0440\\u0433\",\"\\u0421\\u0430\\u043d\\u043a\\u0442-\\u041f\\u0435\\u0442\\u0435\\u0440\\u0431\\u0443\\u0440\\u0433\",\"\\u0421\\u0430\\u043d\\u043a\\u0442-\\u041f\\u0435\\u0442\\u0435\\u0440\\u0431\\u0443\\u0440\\u0433\",\"\\u0421\\u0430\\u043d\\u043a\\u0442-\\u041f\\u0435\\u0442\\u0435\\u0440\\u0431\\u0443\\u0440\\u0433\",\"\\u0421\\u0430\\u043d\\u043a\\u0442-\\u041f\\u0435\\u0442\\u0435\\u0440\\u0431\\u0443\\u0440\\u0433\",\"\\u0421\\u0430\\u043d\\u043a\\u0442-\\u041f\\u0435\\u0442\\u0435\\u0440\\u0431\\u0443\\u0440\\u0433\",\"\\u0421\\u0430\\u043d\\u043a\\u0442-\\u041f\\u0435\\u0442\\u0435\\u0440\\u0431\\u0443\\u0440\\u0433\",\"\\u0421\\u0430\\u043d\\u043a\\u0442-\\u041f\\u0435\\u0442\\u0435\\u0440\\u0431\\u0443\\u0440\\u0433\",\"\\u0421\\u0430\\u043d\\u043a\\u0442-\\u041f\\u0435\\u0442\\u0435\\u0440\\u0431\\u0443\\u0440\\u0433\",\"\\u0421\\u0430\\u043d\\u043a\\u0442-\\u041f\\u0435\\u0442\\u0435\\u0440\\u0431\\u0443\\u0440\\u0433\",\"\\u0421\\u0430\\u043d\\u043a\\u0442-\\u041f\\u0435\\u0442\\u0435\\u0440\\u0431\\u0443\\u0440\\u0433\",\"\\u0421\\u0430\\u043d\\u043a\\u0442-\\u041f\\u0435\\u0442\\u0435\\u0440\\u0431\\u0443\\u0440\\u0433\",\"\\u0421\\u0430\\u043d\\u043a\\u0442-\\u041f\\u0435\\u0442\\u0435\\u0440\\u0431\\u0443\\u0440\\u0433\",\"\\u0421\\u0430\\u043d\\u043a\\u0442-\\u041f\\u0435\\u0442\\u0435\\u0440\\u0431\\u0443\\u0440\\u0433\",\"\\u0421\\u0430\\u043d\\u043a\\u0442-\\u041f\\u0435\\u0442\\u0435\\u0440\\u0431\\u0443\\u0440\\u0433\",\"\\u0421\\u0430\\u043d\\u043a\\u0442-\\u041f\\u0435\\u0442\\u0435\\u0440\\u0431\\u0443\\u0440\\u0433\",\"\\u0421\\u0430\\u043d\\u043a\\u0442-\\u041f\\u0435\\u0442\\u0435\\u0440\\u0431\\u0443\\u0440\\u0433\",\"\\u0421\\u0430\\u043d\\u043a\\u0442-\\u041f\\u0435\\u0442\\u0435\\u0440\\u0431\\u0443\\u0440\\u0433\",\"\\u0421\\u0430\\u043d\\u043a\\u0442-\\u041f\\u0435\\u0442\\u0435\\u0440\\u0431\\u0443\\u0440\\u0433\",\"\\u0421\\u0430\\u043d\\u043a\\u0442-\\u041f\\u0435\\u0442\\u0435\\u0440\\u0431\\u0443\\u0440\\u0433\",\"\\u0421\\u0430\\u043d\\u043a\\u0442-\\u041f\\u0435\\u0442\\u0435\\u0440\\u0431\\u0443\\u0440\\u0433\",\"\\u0421\\u0430\\u043d\\u043a\\u0442-\\u041f\\u0435\\u0442\\u0435\\u0440\\u0431\\u0443\\u0440\\u0433\",\"\\u0421\\u0430\\u043d\\u043a\\u0442-\\u041f\\u0435\\u0442\\u0435\\u0440\\u0431\\u0443\\u0440\\u0433\",\"\\u0421\\u0430\\u043d\\u043a\\u0442-\\u041f\\u0435\\u0442\\u0435\\u0440\\u0431\\u0443\\u0440\\u0433\",\"\\u0421\\u0430\\u043d\\u043a\\u0442-\\u041f\\u0435\\u0442\\u0435\\u0440\\u0431\\u0443\\u0440\\u0433\",\"\\u0421\\u0430\\u043d\\u043a\\u0442-\\u041f\\u0435\\u0442\\u0435\\u0440\\u0431\\u0443\\u0440\\u0433\",\"\\u0421\\u0430\\u043d\\u043a\\u0442-\\u041f\\u0435\\u0442\\u0435\\u0440\\u0431\\u0443\\u0440\\u0433\",\"\\u0421\\u0430\\u043d\\u043a\\u0442-\\u041f\\u0435\\u0442\\u0435\\u0440\\u0431\\u0443\\u0440\\u0433\",\"\\u0421\\u0430\\u043d\\u043a\\u0442-\\u041f\\u0435\\u0442\\u0435\\u0440\\u0431\\u0443\\u0440\\u0433\",\"\\u0421\\u0430\\u043d\\u043a\\u0442-\\u041f\\u0435\\u0442\\u0435\\u0440\\u0431\\u0443\\u0440\\u0433\",\"\\u0421\\u0430\\u043d\\u043a\\u0442-\\u041f\\u0435\\u0442\\u0435\\u0440\\u0431\\u0443\\u0440\\u0433\",\"\\u0421\\u0430\\u043d\\u043a\\u0442-\\u041f\\u0435\\u0442\\u0435\\u0440\\u0431\\u0443\\u0440\\u0433\",\"\\u0421\\u0430\\u043d\\u043a\\u0442-\\u041f\\u0435\\u0442\\u0435\\u0440\\u0431\\u0443\\u0440\\u0433\",\"\\u0421\\u0430\\u043d\\u043a\\u0442-\\u041f\\u0435\\u0442\\u0435\\u0440\\u0431\\u0443\\u0440\\u0433\",\"\\u0421\\u0430\\u043d\\u043a\\u0442-\\u041f\\u0435\\u0442\\u0435\\u0440\\u0431\\u0443\\u0440\\u0433\",\"\\u0421\\u0430\\u043d\\u043a\\u0442-\\u041f\\u0435\\u0442\\u0435\\u0440\\u0431\\u0443\\u0440\\u0433\",\"\\u0421\\u0430\\u043d\\u043a\\u0442-\\u041f\\u0435\\u0442\\u0435\\u0440\\u0431\\u0443\\u0440\\u0433\",\"\\u0421\\u0430\\u043d\\u043a\\u0442-\\u041f\\u0435\\u0442\\u0435\\u0440\\u0431\\u0443\\u0440\\u0433\",\"\\u0421\\u0430\\u043d\\u043a\\u0442-\\u041f\\u0435\\u0442\\u0435\\u0440\\u0431\\u0443\\u0440\\u0433\",\"\\u0421\\u0430\\u043d\\u043a\\u0442-\\u041f\\u0435\\u0442\\u0435\\u0440\\u0431\\u0443\\u0440\\u0433\",\"\\u0421\\u0430\\u043d\\u043a\\u0442-\\u041f\\u0435\\u0442\\u0435\\u0440\\u0431\\u0443\\u0440\\u0433\",\"\\u0421\\u0430\\u043d\\u043a\\u0442-\\u041f\\u0435\\u0442\\u0435\\u0440\\u0431\\u0443\\u0440\\u0433\",\"\\u0421\\u0430\\u043d\\u043a\\u0442-\\u041f\\u0435\\u0442\\u0435\\u0440\\u0431\\u0443\\u0440\\u0433\",\"\\u0421\\u0430\\u043d\\u043a\\u0442-\\u041f\\u0435\\u0442\\u0435\\u0440\\u0431\\u0443\\u0440\\u0433\",\"\\u0421\\u0430\\u043d\\u043a\\u0442-\\u041f\\u0435\\u0442\\u0435\\u0440\\u0431\\u0443\\u0440\\u0433\",\"\\u0421\\u0430\\u043d\\u043a\\u0442-\\u041f\\u0435\\u0442\\u0435\\u0440\\u0431\\u0443\\u0440\\u0433\",\"\\u0421\\u0430\\u043d\\u043a\\u0442-\\u041f\\u0435\\u0442\\u0435\\u0440\\u0431\\u0443\\u0440\\u0433\",\"\\u0421\\u0430\\u043d\\u043a\\u0442-\\u041f\\u0435\\u0442\\u0435\\u0440\\u0431\\u0443\\u0440\\u0433\",\"\\u0421\\u0430\\u043d\\u043a\\u0442-\\u041f\\u0435\\u0442\\u0435\\u0440\\u0431\\u0443\\u0440\\u0433\",\"\\u0421\\u0430\\u043d\\u043a\\u0442-\\u041f\\u0435\\u0442\\u0435\\u0440\\u0431\\u0443\\u0440\\u0433\",\"\\u0421\\u0430\\u043d\\u043a\\u0442-\\u041f\\u0435\\u0442\\u0435\\u0440\\u0431\\u0443\\u0440\\u0433\",\"\\u0421\\u0430\\u043d\\u043a\\u0442-\\u041f\\u0435\\u0442\\u0435\\u0440\\u0431\\u0443\\u0440\\u0433\",\"\\u0421\\u0430\\u043d\\u043a\\u0442-\\u041f\\u0435\\u0442\\u0435\\u0440\\u0431\\u0443\\u0440\\u0433\",\"\\u0421\\u0430\\u043d\\u043a\\u0442-\\u041f\\u0435\\u0442\\u0435\\u0440\\u0431\\u0443\\u0440\\u0433\",\"\\u0421\\u0430\\u043d\\u043a\\u0442-\\u041f\\u0435\\u0442\\u0435\\u0440\\u0431\\u0443\\u0440\\u0433\",\"\\u0421\\u0430\\u043d\\u043a\\u0442-\\u041f\\u0435\\u0442\\u0435\\u0440\\u0431\\u0443\\u0440\\u0433\",\"\\u0421\\u0430\\u043d\\u043a\\u0442-\\u041f\\u0435\\u0442\\u0435\\u0440\\u0431\\u0443\\u0440\\u0433\",\"\\u0421\\u0430\\u043d\\u043a\\u0442-\\u041f\\u0435\\u0442\\u0435\\u0440\\u0431\\u0443\\u0440\\u0433\",\"\\u0421\\u0430\\u043d\\u043a\\u0442-\\u041f\\u0435\\u0442\\u0435\\u0440\\u0431\\u0443\\u0440\\u0433\",\"\\u0421\\u0430\\u043d\\u043a\\u0442-\\u041f\\u0435\\u0442\\u0435\\u0440\\u0431\\u0443\\u0440\\u0433\",\"\\u0421\\u0430\\u043d\\u043a\\u0442-\\u041f\\u0435\\u0442\\u0435\\u0440\\u0431\\u0443\\u0440\\u0433\",\"\\u0421\\u0430\\u043d\\u043a\\u0442-\\u041f\\u0435\\u0442\\u0435\\u0440\\u0431\\u0443\\u0440\\u0433\",\"\\u0421\\u0430\\u043d\\u043a\\u0442-\\u041f\\u0435\\u0442\\u0435\\u0440\\u0431\\u0443\\u0440\\u0433\",\"\\u0421\\u0430\\u043d\\u043a\\u0442-\\u041f\\u0435\\u0442\\u0435\\u0440\\u0431\\u0443\\u0440\\u0433\",\"\\u0421\\u0430\\u043d\\u043a\\u0442-\\u041f\\u0435\\u0442\\u0435\\u0440\\u0431\\u0443\\u0440\\u0433\",\"\\u0421\\u0430\\u043d\\u043a\\u0442-\\u041f\\u0435\\u0442\\u0435\\u0440\\u0431\\u0443\\u0440\\u0433\",\"\\u0421\\u0430\\u043d\\u043a\\u0442-\\u041f\\u0435\\u0442\\u0435\\u0440\\u0431\\u0443\\u0440\\u0433\",\"\\u0421\\u0430\\u043d\\u043a\\u0442-\\u041f\\u0435\\u0442\\u0435\\u0440\\u0431\\u0443\\u0440\\u0433\",\"\\u0421\\u0430\\u043d\\u043a\\u0442-\\u041f\\u0435\\u0442\\u0435\\u0440\\u0431\\u0443\\u0440\\u0433\",\"\\u0421\\u0430\\u043d\\u043a\\u0442-\\u041f\\u0435\\u0442\\u0435\\u0440\\u0431\\u0443\\u0440\\u0433\",\"\\u0421\\u0430\\u043d\\u043a\\u0442-\\u041f\\u0435\\u0442\\u0435\\u0440\\u0431\\u0443\\u0440\\u0433\",\"\\u0421\\u0430\\u043d\\u043a\\u0442-\\u041f\\u0435\\u0442\\u0435\\u0440\\u0431\\u0443\\u0440\\u0433\",\"\\u0421\\u0430\\u043d\\u043a\\u0442-\\u041f\\u0435\\u0442\\u0435\\u0440\\u0431\\u0443\\u0440\\u0433\"],\"x0\":\" \",\"xaxis\":\"x\",\"y\":[100000.0,130000.0,35000.0,60000.0,100000.0,130000.0,35000.0,60000.0,100000.0,130000.0,35000.0,60000.0,100000.0,130000.0,35000.0,60000.0,100000.0,130000.0,35000.0,60000.0,100000.0,130000.0,35000.0,60000.0,100000.0,130000.0,35000.0,60000.0,100000.0,130000.0,35000.0,60000.0,100000.0,130000.0,35000.0,60000.0,100000.0,130000.0,35000.0,60000.0,100000.0,130000.0,35000.0,60000.0,100000.0,130000.0,35000.0,60000.0,100000.0,130000.0,35000.0,60000.0,100000.0,130000.0,35000.0,60000.0,100000.0,130000.0,35000.0,60000.0,100000.0,130000.0,35000.0,60000.0,100000.0,130000.0,35000.0,60000.0,100000.0,130000.0,35000.0,60000.0,100000.0,130000.0,35000.0,60000.0,100000.0,130000.0,35000.0,60000.0],\"y0\":\" \",\"yaxis\":\"y\",\"type\":\"box\"},{\"alignmentgroup\":\"True\",\"hovertemplate\":\"\\u0420\\u0435\\u0433\\u0438\\u043e\\u043d=%{x}<br>\\u0417\\u0430\\u0440\\u043f\\u043b\\u0430\\u0442\\u0430 \\u043e\\u0442, \\u0440\\u0443\\u0431.=%{y}<extra></extra>\",\"legendgroup\":\"\\u041d\\u0438\\u0436\\u043d\\u0438\\u0439 \\u041d\\u043e\\u0432\\u0433\\u043e\\u0440\\u043e\\u0434\",\"marker\":{\"color\":\"#EF553B\"},\"name\":\"\\u041d\\u0438\\u0436\\u043d\\u0438\\u0439 \\u041d\\u043e\\u0432\\u0433\\u043e\\u0440\\u043e\\u0434\",\"notched\":false,\"offsetgroup\":\"\\u041d\\u0438\\u0436\\u043d\\u0438\\u0439 \\u041d\\u043e\\u0432\\u0433\\u043e\\u0440\\u043e\\u0434\",\"orientation\":\"v\",\"showlegend\":true,\"x\":[\"\\u041d\\u0438\\u0436\\u043d\\u0438\\u0439 \\u041d\\u043e\\u0432\\u0433\\u043e\\u0440\\u043e\\u0434\",\"\\u041d\\u0438\\u0436\\u043d\\u0438\\u0439 \\u041d\\u043e\\u0432\\u0433\\u043e\\u0440\\u043e\\u0434\",\"\\u041d\\u0438\\u0436\\u043d\\u0438\\u0439 \\u041d\\u043e\\u0432\\u0433\\u043e\\u0440\\u043e\\u0434\",\"\\u041d\\u0438\\u0436\\u043d\\u0438\\u0439 \\u041d\\u043e\\u0432\\u0433\\u043e\\u0440\\u043e\\u0434\",\"\\u041d\\u0438\\u0436\\u043d\\u0438\\u0439 \\u041d\\u043e\\u0432\\u0433\\u043e\\u0440\\u043e\\u0434\",\"\\u041d\\u0438\\u0436\\u043d\\u0438\\u0439 \\u041d\\u043e\\u0432\\u0433\\u043e\\u0440\\u043e\\u0434\",\"\\u041d\\u0438\\u0436\\u043d\\u0438\\u0439 \\u041d\\u043e\\u0432\\u0433\\u043e\\u0440\\u043e\\u0434\",\"\\u041d\\u0438\\u0436\\u043d\\u0438\\u0439 \\u041d\\u043e\\u0432\\u0433\\u043e\\u0440\\u043e\\u0434\",\"\\u041d\\u0438\\u0436\\u043d\\u0438\\u0439 \\u041d\\u043e\\u0432\\u0433\\u043e\\u0440\\u043e\\u0434\",\"\\u041d\\u0438\\u0436\\u043d\\u0438\\u0439 \\u041d\\u043e\\u0432\\u0433\\u043e\\u0440\\u043e\\u0434\",\"\\u041d\\u0438\\u0436\\u043d\\u0438\\u0439 \\u041d\\u043e\\u0432\\u0433\\u043e\\u0440\\u043e\\u0434\",\"\\u041d\\u0438\\u0436\\u043d\\u0438\\u0439 \\u041d\\u043e\\u0432\\u0433\\u043e\\u0440\\u043e\\u0434\",\"\\u041d\\u0438\\u0436\\u043d\\u0438\\u0439 \\u041d\\u043e\\u0432\\u0433\\u043e\\u0440\\u043e\\u0434\",\"\\u041d\\u0438\\u0436\\u043d\\u0438\\u0439 \\u041d\\u043e\\u0432\\u0433\\u043e\\u0440\\u043e\\u0434\",\"\\u041d\\u0438\\u0436\\u043d\\u0438\\u0439 \\u041d\\u043e\\u0432\\u0433\\u043e\\u0440\\u043e\\u0434\",\"\\u041d\\u0438\\u0436\\u043d\\u0438\\u0439 \\u041d\\u043e\\u0432\\u0433\\u043e\\u0440\\u043e\\u0434\",\"\\u041d\\u0438\\u0436\\u043d\\u0438\\u0439 \\u041d\\u043e\\u0432\\u0433\\u043e\\u0440\\u043e\\u0434\",\"\\u041d\\u0438\\u0436\\u043d\\u0438\\u0439 \\u041d\\u043e\\u0432\\u0433\\u043e\\u0440\\u043e\\u0434\",\"\\u041d\\u0438\\u0436\\u043d\\u0438\\u0439 \\u041d\\u043e\\u0432\\u0433\\u043e\\u0440\\u043e\\u0434\",\"\\u041d\\u0438\\u0436\\u043d\\u0438\\u0439 \\u041d\\u043e\\u0432\\u0433\\u043e\\u0440\\u043e\\u0434\",\"\\u041d\\u0438\\u0436\\u043d\\u0438\\u0439 \\u041d\\u043e\\u0432\\u0433\\u043e\\u0440\\u043e\\u0434\",\"\\u041d\\u0438\\u0436\\u043d\\u0438\\u0439 \\u041d\\u043e\\u0432\\u0433\\u043e\\u0440\\u043e\\u0434\",\"\\u041d\\u0438\\u0436\\u043d\\u0438\\u0439 \\u041d\\u043e\\u0432\\u0433\\u043e\\u0440\\u043e\\u0434\",\"\\u041d\\u0438\\u0436\\u043d\\u0438\\u0439 \\u041d\\u043e\\u0432\\u0433\\u043e\\u0440\\u043e\\u0434\",\"\\u041d\\u0438\\u0436\\u043d\\u0438\\u0439 \\u041d\\u043e\\u0432\\u0433\\u043e\\u0440\\u043e\\u0434\",\"\\u041d\\u0438\\u0436\\u043d\\u0438\\u0439 \\u041d\\u043e\\u0432\\u0433\\u043e\\u0440\\u043e\\u0434\",\"\\u041d\\u0438\\u0436\\u043d\\u0438\\u0439 \\u041d\\u043e\\u0432\\u0433\\u043e\\u0440\\u043e\\u0434\",\"\\u041d\\u0438\\u0436\\u043d\\u0438\\u0439 \\u041d\\u043e\\u0432\\u0433\\u043e\\u0440\\u043e\\u0434\",\"\\u041d\\u0438\\u0436\\u043d\\u0438\\u0439 \\u041d\\u043e\\u0432\\u0433\\u043e\\u0440\\u043e\\u0434\",\"\\u041d\\u0438\\u0436\\u043d\\u0438\\u0439 \\u041d\\u043e\\u0432\\u0433\\u043e\\u0440\\u043e\\u0434\",\"\\u041d\\u0438\\u0436\\u043d\\u0438\\u0439 \\u041d\\u043e\\u0432\\u0433\\u043e\\u0440\\u043e\\u0434\",\"\\u041d\\u0438\\u0436\\u043d\\u0438\\u0439 \\u041d\\u043e\\u0432\\u0433\\u043e\\u0440\\u043e\\u0434\",\"\\u041d\\u0438\\u0436\\u043d\\u0438\\u0439 \\u041d\\u043e\\u0432\\u0433\\u043e\\u0440\\u043e\\u0434\",\"\\u041d\\u0438\\u0436\\u043d\\u0438\\u0439 \\u041d\\u043e\\u0432\\u0433\\u043e\\u0440\\u043e\\u0434\",\"\\u041d\\u0438\\u0436\\u043d\\u0438\\u0439 \\u041d\\u043e\\u0432\\u0433\\u043e\\u0440\\u043e\\u0434\",\"\\u041d\\u0438\\u0436\\u043d\\u0438\\u0439 \\u041d\\u043e\\u0432\\u0433\\u043e\\u0440\\u043e\\u0434\",\"\\u041d\\u0438\\u0436\\u043d\\u0438\\u0439 \\u041d\\u043e\\u0432\\u0433\\u043e\\u0440\\u043e\\u0434\",\"\\u041d\\u0438\\u0436\\u043d\\u0438\\u0439 \\u041d\\u043e\\u0432\\u0433\\u043e\\u0440\\u043e\\u0434\",\"\\u041d\\u0438\\u0436\\u043d\\u0438\\u0439 \\u041d\\u043e\\u0432\\u0433\\u043e\\u0440\\u043e\\u0434\",\"\\u041d\\u0438\\u0436\\u043d\\u0438\\u0439 \\u041d\\u043e\\u0432\\u0433\\u043e\\u0440\\u043e\\u0434\",\"\\u041d\\u0438\\u0436\\u043d\\u0438\\u0439 \\u041d\\u043e\\u0432\\u0433\\u043e\\u0440\\u043e\\u0434\",\"\\u041d\\u0438\\u0436\\u043d\\u0438\\u0439 \\u041d\\u043e\\u0432\\u0433\\u043e\\u0440\\u043e\\u0434\",\"\\u041d\\u0438\\u0436\\u043d\\u0438\\u0439 \\u041d\\u043e\\u0432\\u0433\\u043e\\u0440\\u043e\\u0434\",\"\\u041d\\u0438\\u0436\\u043d\\u0438\\u0439 \\u041d\\u043e\\u0432\\u0433\\u043e\\u0440\\u043e\\u0434\",\"\\u041d\\u0438\\u0436\\u043d\\u0438\\u0439 \\u041d\\u043e\\u0432\\u0433\\u043e\\u0440\\u043e\\u0434\",\"\\u041d\\u0438\\u0436\\u043d\\u0438\\u0439 \\u041d\\u043e\\u0432\\u0433\\u043e\\u0440\\u043e\\u0434\",\"\\u041d\\u0438\\u0436\\u043d\\u0438\\u0439 \\u041d\\u043e\\u0432\\u0433\\u043e\\u0440\\u043e\\u0434\",\"\\u041d\\u0438\\u0436\\u043d\\u0438\\u0439 \\u041d\\u043e\\u0432\\u0433\\u043e\\u0440\\u043e\\u0434\",\"\\u041d\\u0438\\u0436\\u043d\\u0438\\u0439 \\u041d\\u043e\\u0432\\u0433\\u043e\\u0440\\u043e\\u0434\",\"\\u041d\\u0438\\u0436\\u043d\\u0438\\u0439 \\u041d\\u043e\\u0432\\u0433\\u043e\\u0440\\u043e\\u0434\",\"\\u041d\\u0438\\u0436\\u043d\\u0438\\u0439 \\u041d\\u043e\\u0432\\u0433\\u043e\\u0440\\u043e\\u0434\",\"\\u041d\\u0438\\u0436\\u043d\\u0438\\u0439 \\u041d\\u043e\\u0432\\u0433\\u043e\\u0440\\u043e\\u0434\",\"\\u041d\\u0438\\u0436\\u043d\\u0438\\u0439 \\u041d\\u043e\\u0432\\u0433\\u043e\\u0440\\u043e\\u0434\",\"\\u041d\\u0438\\u0436\\u043d\\u0438\\u0439 \\u041d\\u043e\\u0432\\u0433\\u043e\\u0440\\u043e\\u0434\",\"\\u041d\\u0438\\u0436\\u043d\\u0438\\u0439 \\u041d\\u043e\\u0432\\u0433\\u043e\\u0440\\u043e\\u0434\",\"\\u041d\\u0438\\u0436\\u043d\\u0438\\u0439 \\u041d\\u043e\\u0432\\u0433\\u043e\\u0440\\u043e\\u0434\",\"\\u041d\\u0438\\u0436\\u043d\\u0438\\u0439 \\u041d\\u043e\\u0432\\u0433\\u043e\\u0440\\u043e\\u0434\",\"\\u041d\\u0438\\u0436\\u043d\\u0438\\u0439 \\u041d\\u043e\\u0432\\u0433\\u043e\\u0440\\u043e\\u0434\",\"\\u041d\\u0438\\u0436\\u043d\\u0438\\u0439 \\u041d\\u043e\\u0432\\u0433\\u043e\\u0440\\u043e\\u0434\",\"\\u041d\\u0438\\u0436\\u043d\\u0438\\u0439 \\u041d\\u043e\\u0432\\u0433\\u043e\\u0440\\u043e\\u0434\"],\"x0\":\" \",\"xaxis\":\"x\",\"y\":[40000.0,100000.0,60000.0,40000.0,100000.0,60000.0,40000.0,100000.0,60000.0,40000.0,100000.0,60000.0,40000.0,100000.0,60000.0,40000.0,100000.0,60000.0,40000.0,100000.0,60000.0,40000.0,100000.0,60000.0,40000.0,100000.0,60000.0,40000.0,100000.0,60000.0,40000.0,100000.0,60000.0,40000.0,100000.0,60000.0,40000.0,100000.0,60000.0,40000.0,100000.0,60000.0,40000.0,100000.0,60000.0,40000.0,100000.0,60000.0,40000.0,100000.0,60000.0,40000.0,100000.0,60000.0,40000.0,100000.0,60000.0,40000.0,100000.0,60000.0],\"y0\":\" \",\"yaxis\":\"y\",\"type\":\"box\"},{\"alignmentgroup\":\"True\",\"hovertemplate\":\"\\u0420\\u0435\\u0433\\u0438\\u043e\\u043d=%{x}<br>\\u0417\\u0430\\u0440\\u043f\\u043b\\u0430\\u0442\\u0430 \\u043e\\u0442, \\u0440\\u0443\\u0431.=%{y}<extra></extra>\",\"legendgroup\":\"\\u041c\\u043e\\u0441\\u043a\\u0432\\u0430\",\"marker\":{\"color\":\"#00cc96\"},\"name\":\"\\u041c\\u043e\\u0441\\u043a\\u0432\\u0430\",\"notched\":false,\"offsetgroup\":\"\\u041c\\u043e\\u0441\\u043a\\u0432\\u0430\",\"orientation\":\"v\",\"showlegend\":true,\"x\":[\"\\u041c\\u043e\\u0441\\u043a\\u0432\\u0430\",\"\\u041c\\u043e\\u0441\\u043a\\u0432\\u0430\",\"\\u041c\\u043e\\u0441\\u043a\\u0432\\u0430\",\"\\u041c\\u043e\\u0441\\u043a\\u0432\\u0430\",\"\\u041c\\u043e\\u0441\\u043a\\u0432\\u0430\",\"\\u041c\\u043e\\u0441\\u043a\\u0432\\u0430\",\"\\u041c\\u043e\\u0441\\u043a\\u0432\\u0430\",\"\\u041c\\u043e\\u0441\\u043a\\u0432\\u0430\",\"\\u041c\\u043e\\u0441\\u043a\\u0432\\u0430\",\"\\u041c\\u043e\\u0441\\u043a\\u0432\\u0430\",\"\\u041c\\u043e\\u0441\\u043a\\u0432\\u0430\",\"\\u041c\\u043e\\u0441\\u043a\\u0432\\u0430\",\"\\u041c\\u043e\\u0441\\u043a\\u0432\\u0430\",\"\\u041c\\u043e\\u0441\\u043a\\u0432\\u0430\",\"\\u041c\\u043e\\u0441\\u043a\\u0432\\u0430\",\"\\u041c\\u043e\\u0441\\u043a\\u0432\\u0430\",\"\\u041c\\u043e\\u0441\\u043a\\u0432\\u0430\",\"\\u041c\\u043e\\u0441\\u043a\\u0432\\u0430\",\"\\u041c\\u043e\\u0441\\u043a\\u0432\\u0430\",\"\\u041c\\u043e\\u0441\\u043a\\u0432\\u0430\",\"\\u041c\\u043e\\u0441\\u043a\\u0432\\u0430\",\"\\u041c\\u043e\\u0441\\u043a\\u0432\\u0430\",\"\\u041c\\u043e\\u0441\\u043a\\u0432\\u0430\",\"\\u041c\\u043e\\u0441\\u043a\\u0432\\u0430\",\"\\u041c\\u043e\\u0441\\u043a\\u0432\\u0430\",\"\\u041c\\u043e\\u0441\\u043a\\u0432\\u0430\",\"\\u041c\\u043e\\u0441\\u043a\\u0432\\u0430\",\"\\u041c\\u043e\\u0441\\u043a\\u0432\\u0430\",\"\\u041c\\u043e\\u0441\\u043a\\u0432\\u0430\",\"\\u041c\\u043e\\u0441\\u043a\\u0432\\u0430\",\"\\u041c\\u043e\\u0441\\u043a\\u0432\\u0430\",\"\\u041c\\u043e\\u0441\\u043a\\u0432\\u0430\",\"\\u041c\\u043e\\u0441\\u043a\\u0432\\u0430\",\"\\u041c\\u043e\\u0441\\u043a\\u0432\\u0430\",\"\\u041c\\u043e\\u0441\\u043a\\u0432\\u0430\",\"\\u041c\\u043e\\u0441\\u043a\\u0432\\u0430\",\"\\u041c\\u043e\\u0441\\u043a\\u0432\\u0430\",\"\\u041c\\u043e\\u0441\\u043a\\u0432\\u0430\",\"\\u041c\\u043e\\u0441\\u043a\\u0432\\u0430\",\"\\u041c\\u043e\\u0441\\u043a\\u0432\\u0430\"],\"x0\":\" \",\"xaxis\":\"x\",\"y\":[90000.0,1600.0,90000.0,1600.0,90000.0,1600.0,90000.0,1600.0,90000.0,1600.0,90000.0,1600.0,90000.0,1600.0,90000.0,1600.0,90000.0,1600.0,90000.0,1600.0,90000.0,1600.0,90000.0,1600.0,90000.0,1600.0,90000.0,1600.0,90000.0,1600.0,90000.0,1600.0,90000.0,1600.0,90000.0,1600.0,90000.0,1600.0,90000.0,1600.0],\"y0\":\" \",\"yaxis\":\"y\",\"type\":\"box\"},{\"alignmentgroup\":\"True\",\"hovertemplate\":\"\\u0420\\u0435\\u0433\\u0438\\u043e\\u043d=%{x}<br>\\u0417\\u0430\\u0440\\u043f\\u043b\\u0430\\u0442\\u0430 \\u043e\\u0442, \\u0440\\u0443\\u0431.=%{y}<extra></extra>\",\"legendgroup\":\"\\u041d\\u043e\\u0432\\u043e\\u0441\\u0438\\u0431\\u0438\\u0440\\u0441\\u043a\",\"marker\":{\"color\":\"#ab63fa\"},\"name\":\"\\u041d\\u043e\\u0432\\u043e\\u0441\\u0438\\u0431\\u0438\\u0440\\u0441\\u043a\",\"notched\":false,\"offsetgroup\":\"\\u041d\\u043e\\u0432\\u043e\\u0441\\u0438\\u0431\\u0438\\u0440\\u0441\\u043a\",\"orientation\":\"v\",\"showlegend\":true,\"x\":[\"\\u041d\\u043e\\u0432\\u043e\\u0441\\u0438\\u0431\\u0438\\u0440\\u0441\\u043a\",\"\\u041d\\u043e\\u0432\\u043e\\u0441\\u0438\\u0431\\u0438\\u0440\\u0441\\u043a\",\"\\u041d\\u043e\\u0432\\u043e\\u0441\\u0438\\u0431\\u0438\\u0440\\u0441\\u043a\",\"\\u041d\\u043e\\u0432\\u043e\\u0441\\u0438\\u0431\\u0438\\u0440\\u0441\\u043a\",\"\\u041d\\u043e\\u0432\\u043e\\u0441\\u0438\\u0431\\u0438\\u0440\\u0441\\u043a\",\"\\u041d\\u043e\\u0432\\u043e\\u0441\\u0438\\u0431\\u0438\\u0440\\u0441\\u043a\",\"\\u041d\\u043e\\u0432\\u043e\\u0441\\u0438\\u0431\\u0438\\u0440\\u0441\\u043a\",\"\\u041d\\u043e\\u0432\\u043e\\u0441\\u0438\\u0431\\u0438\\u0440\\u0441\\u043a\",\"\\u041d\\u043e\\u0432\\u043e\\u0441\\u0438\\u0431\\u0438\\u0440\\u0441\\u043a\",\"\\u041d\\u043e\\u0432\\u043e\\u0441\\u0438\\u0431\\u0438\\u0440\\u0441\\u043a\",\"\\u041d\\u043e\\u0432\\u043e\\u0441\\u0438\\u0431\\u0438\\u0440\\u0441\\u043a\",\"\\u041d\\u043e\\u0432\\u043e\\u0441\\u0438\\u0431\\u0438\\u0440\\u0441\\u043a\",\"\\u041d\\u043e\\u0432\\u043e\\u0441\\u0438\\u0431\\u0438\\u0440\\u0441\\u043a\",\"\\u041d\\u043e\\u0432\\u043e\\u0441\\u0438\\u0431\\u0438\\u0440\\u0441\\u043a\",\"\\u041d\\u043e\\u0432\\u043e\\u0441\\u0438\\u0431\\u0438\\u0440\\u0441\\u043a\",\"\\u041d\\u043e\\u0432\\u043e\\u0441\\u0438\\u0431\\u0438\\u0440\\u0441\\u043a\",\"\\u041d\\u043e\\u0432\\u043e\\u0441\\u0438\\u0431\\u0438\\u0440\\u0441\\u043a\",\"\\u041d\\u043e\\u0432\\u043e\\u0441\\u0438\\u0431\\u0438\\u0440\\u0441\\u043a\",\"\\u041d\\u043e\\u0432\\u043e\\u0441\\u0438\\u0431\\u0438\\u0440\\u0441\\u043a\",\"\\u041d\\u043e\\u0432\\u043e\\u0441\\u0438\\u0431\\u0438\\u0440\\u0441\\u043a\",\"\\u041d\\u043e\\u0432\\u043e\\u0441\\u0438\\u0431\\u0438\\u0440\\u0441\\u043a\",\"\\u041d\\u043e\\u0432\\u043e\\u0441\\u0438\\u0431\\u0438\\u0440\\u0441\\u043a\",\"\\u041d\\u043e\\u0432\\u043e\\u0441\\u0438\\u0431\\u0438\\u0440\\u0441\\u043a\",\"\\u041d\\u043e\\u0432\\u043e\\u0441\\u0438\\u0431\\u0438\\u0440\\u0441\\u043a\",\"\\u041d\\u043e\\u0432\\u043e\\u0441\\u0438\\u0431\\u0438\\u0440\\u0441\\u043a\",\"\\u041d\\u043e\\u0432\\u043e\\u0441\\u0438\\u0431\\u0438\\u0440\\u0441\\u043a\",\"\\u041d\\u043e\\u0432\\u043e\\u0441\\u0438\\u0431\\u0438\\u0440\\u0441\\u043a\",\"\\u041d\\u043e\\u0432\\u043e\\u0441\\u0438\\u0431\\u0438\\u0440\\u0441\\u043a\",\"\\u041d\\u043e\\u0432\\u043e\\u0441\\u0438\\u0431\\u0438\\u0440\\u0441\\u043a\",\"\\u041d\\u043e\\u0432\\u043e\\u0441\\u0438\\u0431\\u0438\\u0440\\u0441\\u043a\",\"\\u041d\\u043e\\u0432\\u043e\\u0441\\u0438\\u0431\\u0438\\u0440\\u0441\\u043a\",\"\\u041d\\u043e\\u0432\\u043e\\u0441\\u0438\\u0431\\u0438\\u0440\\u0441\\u043a\",\"\\u041d\\u043e\\u0432\\u043e\\u0441\\u0438\\u0431\\u0438\\u0440\\u0441\\u043a\",\"\\u041d\\u043e\\u0432\\u043e\\u0441\\u0438\\u0431\\u0438\\u0440\\u0441\\u043a\",\"\\u041d\\u043e\\u0432\\u043e\\u0441\\u0438\\u0431\\u0438\\u0440\\u0441\\u043a\",\"\\u041d\\u043e\\u0432\\u043e\\u0441\\u0438\\u0431\\u0438\\u0440\\u0441\\u043a\",\"\\u041d\\u043e\\u0432\\u043e\\u0441\\u0438\\u0431\\u0438\\u0440\\u0441\\u043a\",\"\\u041d\\u043e\\u0432\\u043e\\u0441\\u0438\\u0431\\u0438\\u0440\\u0441\\u043a\",\"\\u041d\\u043e\\u0432\\u043e\\u0441\\u0438\\u0431\\u0438\\u0440\\u0441\\u043a\",\"\\u041d\\u043e\\u0432\\u043e\\u0441\\u0438\\u0431\\u0438\\u0440\\u0441\\u043a\"],\"x0\":\" \",\"xaxis\":\"x\",\"y\":[1500.0,80000.0,1500.0,80000.0,1500.0,80000.0,1500.0,80000.0,1500.0,80000.0,1500.0,80000.0,1500.0,80000.0,1500.0,80000.0,1500.0,80000.0,1500.0,80000.0,1500.0,80000.0,1500.0,80000.0,1500.0,80000.0,1500.0,80000.0,1500.0,80000.0,1500.0,80000.0,1500.0,80000.0,1500.0,80000.0,1500.0,80000.0,1500.0,80000.0],\"y0\":\" \",\"yaxis\":\"y\",\"type\":\"box\"},{\"alignmentgroup\":\"True\",\"hovertemplate\":\"\\u0420\\u0435\\u0433\\u0438\\u043e\\u043d=%{x}<br>\\u0417\\u0430\\u0440\\u043f\\u043b\\u0430\\u0442\\u0430 \\u043e\\u0442, \\u0440\\u0443\\u0431.=%{y}<extra></extra>\",\"legendgroup\":\"\\u0421\\u0430\\u043c\\u0430\\u0440\\u0430\",\"marker\":{\"color\":\"#FFA15A\"},\"name\":\"\\u0421\\u0430\\u043c\\u0430\\u0440\\u0430\",\"notched\":false,\"offsetgroup\":\"\\u0421\\u0430\\u043c\\u0430\\u0440\\u0430\",\"orientation\":\"v\",\"showlegend\":true,\"x\":[\"\\u0421\\u0430\\u043c\\u0430\\u0440\\u0430\",\"\\u0421\\u0430\\u043c\\u0430\\u0440\\u0430\",\"\\u0421\\u0430\\u043c\\u0430\\u0440\\u0430\",\"\\u0421\\u0430\\u043c\\u0430\\u0440\\u0430\",\"\\u0421\\u0430\\u043c\\u0430\\u0440\\u0430\",\"\\u0421\\u0430\\u043c\\u0430\\u0440\\u0430\",\"\\u0421\\u0430\\u043c\\u0430\\u0440\\u0430\",\"\\u0421\\u0430\\u043c\\u0430\\u0440\\u0430\",\"\\u0421\\u0430\\u043c\\u0430\\u0440\\u0430\",\"\\u0421\\u0430\\u043c\\u0430\\u0440\\u0430\",\"\\u0421\\u0430\\u043c\\u0430\\u0440\\u0430\",\"\\u0421\\u0430\\u043c\\u0430\\u0440\\u0430\",\"\\u0421\\u0430\\u043c\\u0430\\u0440\\u0430\",\"\\u0421\\u0430\\u043c\\u0430\\u0440\\u0430\",\"\\u0421\\u0430\\u043c\\u0430\\u0440\\u0430\",\"\\u0421\\u0430\\u043c\\u0430\\u0440\\u0430\",\"\\u0421\\u0430\\u043c\\u0430\\u0440\\u0430\",\"\\u0421\\u0430\\u043c\\u0430\\u0440\\u0430\",\"\\u0421\\u0430\\u043c\\u0430\\u0440\\u0430\",\"\\u0421\\u0430\\u043c\\u0430\\u0440\\u0430\",\"\\u0421\\u0430\\u043c\\u0430\\u0440\\u0430\",\"\\u0421\\u0430\\u043c\\u0430\\u0440\\u0430\",\"\\u0421\\u0430\\u043c\\u0430\\u0440\\u0430\",\"\\u0421\\u0430\\u043c\\u0430\\u0440\\u0430\",\"\\u0421\\u0430\\u043c\\u0430\\u0440\\u0430\",\"\\u0421\\u0430\\u043c\\u0430\\u0440\\u0430\",\"\\u0421\\u0430\\u043c\\u0430\\u0440\\u0430\",\"\\u0421\\u0430\\u043c\\u0430\\u0440\\u0430\",\"\\u0421\\u0430\\u043c\\u0430\\u0440\\u0430\",\"\\u0421\\u0430\\u043c\\u0430\\u0440\\u0430\",\"\\u0421\\u0430\\u043c\\u0430\\u0440\\u0430\",\"\\u0421\\u0430\\u043c\\u0430\\u0440\\u0430\",\"\\u0421\\u0430\\u043c\\u0430\\u0440\\u0430\",\"\\u0421\\u0430\\u043c\\u0430\\u0440\\u0430\",\"\\u0421\\u0430\\u043c\\u0430\\u0440\\u0430\",\"\\u0421\\u0430\\u043c\\u0430\\u0440\\u0430\",\"\\u0421\\u0430\\u043c\\u0430\\u0440\\u0430\",\"\\u0421\\u0430\\u043c\\u0430\\u0440\\u0430\",\"\\u0421\\u0430\\u043c\\u0430\\u0440\\u0430\",\"\\u0421\\u0430\\u043c\\u0430\\u0440\\u0430\"],\"x0\":\" \",\"xaxis\":\"x\",\"y\":[130000.0,100000.0,130000.0,100000.0,130000.0,100000.0,130000.0,100000.0,130000.0,100000.0,130000.0,100000.0,130000.0,100000.0,130000.0,100000.0,130000.0,100000.0,130000.0,100000.0,130000.0,100000.0,130000.0,100000.0,130000.0,100000.0,130000.0,100000.0,130000.0,100000.0,130000.0,100000.0,130000.0,100000.0,130000.0,100000.0,130000.0,100000.0,130000.0,100000.0],\"y0\":\" \",\"yaxis\":\"y\",\"type\":\"box\"},{\"alignmentgroup\":\"True\",\"hovertemplate\":\"\\u0420\\u0435\\u0433\\u0438\\u043e\\u043d=%{x}<br>\\u0417\\u0430\\u0440\\u043f\\u043b\\u0430\\u0442\\u0430 \\u043e\\u0442, \\u0440\\u0443\\u0431.=%{y}<extra></extra>\",\"legendgroup\":\"\\u0422\\u0443\\u043b\\u0430\",\"marker\":{\"color\":\"#19d3f3\"},\"name\":\"\\u0422\\u0443\\u043b\\u0430\",\"notched\":false,\"offsetgroup\":\"\\u0422\\u0443\\u043b\\u0430\",\"orientation\":\"v\",\"showlegend\":true,\"x\":[\"\\u0422\\u0443\\u043b\\u0430\",\"\\u0422\\u0443\\u043b\\u0430\",\"\\u0422\\u0443\\u043b\\u0430\",\"\\u0422\\u0443\\u043b\\u0430\",\"\\u0422\\u0443\\u043b\\u0430\",\"\\u0422\\u0443\\u043b\\u0430\",\"\\u0422\\u0443\\u043b\\u0430\",\"\\u0422\\u0443\\u043b\\u0430\",\"\\u0422\\u0443\\u043b\\u0430\",\"\\u0422\\u0443\\u043b\\u0430\",\"\\u0422\\u0443\\u043b\\u0430\",\"\\u0422\\u0443\\u043b\\u0430\",\"\\u0422\\u0443\\u043b\\u0430\",\"\\u0422\\u0443\\u043b\\u0430\",\"\\u0422\\u0443\\u043b\\u0430\",\"\\u0422\\u0443\\u043b\\u0430\",\"\\u0422\\u0443\\u043b\\u0430\",\"\\u0422\\u0443\\u043b\\u0430\",\"\\u0422\\u0443\\u043b\\u0430\",\"\\u0422\\u0443\\u043b\\u0430\",\"\\u0422\\u0443\\u043b\\u0430\",\"\\u0422\\u0443\\u043b\\u0430\",\"\\u0422\\u0443\\u043b\\u0430\",\"\\u0422\\u0443\\u043b\\u0430\",\"\\u0422\\u0443\\u043b\\u0430\",\"\\u0422\\u0443\\u043b\\u0430\",\"\\u0422\\u0443\\u043b\\u0430\",\"\\u0422\\u0443\\u043b\\u0430\",\"\\u0422\\u0443\\u043b\\u0430\",\"\\u0422\\u0443\\u043b\\u0430\",\"\\u0422\\u0443\\u043b\\u0430\",\"\\u0422\\u0443\\u043b\\u0430\",\"\\u0422\\u0443\\u043b\\u0430\",\"\\u0422\\u0443\\u043b\\u0430\",\"\\u0422\\u0443\\u043b\\u0430\",\"\\u0422\\u0443\\u043b\\u0430\",\"\\u0422\\u0443\\u043b\\u0430\",\"\\u0422\\u0443\\u043b\\u0430\",\"\\u0422\\u0443\\u043b\\u0430\",\"\\u0422\\u0443\\u043b\\u0430\"],\"x0\":\" \",\"xaxis\":\"x\",\"y\":[80000.0,114000.0,80000.0,114000.0,80000.0,114000.0,80000.0,114000.0,80000.0,114000.0,80000.0,114000.0,80000.0,114000.0,80000.0,114000.0,80000.0,114000.0,80000.0,114000.0,80000.0,114000.0,80000.0,114000.0,80000.0,114000.0,80000.0,114000.0,80000.0,114000.0,80000.0,114000.0,80000.0,114000.0,80000.0,114000.0,80000.0,114000.0,80000.0,114000.0],\"y0\":\" \",\"yaxis\":\"y\",\"type\":\"box\"}],                        {\"template\":{\"data\":{\"histogram2dcontour\":[{\"type\":\"histogram2dcontour\",\"colorbar\":{\"outlinewidth\":0,\"ticks\":\"\"},\"colorscale\":[[0.0,\"#0d0887\"],[0.1111111111111111,\"#46039f\"],[0.2222222222222222,\"#7201a8\"],[0.3333333333333333,\"#9c179e\"],[0.4444444444444444,\"#bd3786\"],[0.5555555555555556,\"#d8576b\"],[0.6666666666666666,\"#ed7953\"],[0.7777777777777778,\"#fb9f3a\"],[0.8888888888888888,\"#fdca26\"],[1.0,\"#f0f921\"]]}],\"choropleth\":[{\"type\":\"choropleth\",\"colorbar\":{\"outlinewidth\":0,\"ticks\":\"\"}}],\"histogram2d\":[{\"type\":\"histogram2d\",\"colorbar\":{\"outlinewidth\":0,\"ticks\":\"\"},\"colorscale\":[[0.0,\"#0d0887\"],[0.1111111111111111,\"#46039f\"],[0.2222222222222222,\"#7201a8\"],[0.3333333333333333,\"#9c179e\"],[0.4444444444444444,\"#bd3786\"],[0.5555555555555556,\"#d8576b\"],[0.6666666666666666,\"#ed7953\"],[0.7777777777777778,\"#fb9f3a\"],[0.8888888888888888,\"#fdca26\"],[1.0,\"#f0f921\"]]}],\"heatmap\":[{\"type\":\"heatmap\",\"colorbar\":{\"outlinewidth\":0,\"ticks\":\"\"},\"colorscale\":[[0.0,\"#0d0887\"],[0.1111111111111111,\"#46039f\"],[0.2222222222222222,\"#7201a8\"],[0.3333333333333333,\"#9c179e\"],[0.4444444444444444,\"#bd3786\"],[0.5555555555555556,\"#d8576b\"],[0.6666666666666666,\"#ed7953\"],[0.7777777777777778,\"#fb9f3a\"],[0.8888888888888888,\"#fdca26\"],[1.0,\"#f0f921\"]]}],\"heatmapgl\":[{\"type\":\"heatmapgl\",\"colorbar\":{\"outlinewidth\":0,\"ticks\":\"\"},\"colorscale\":[[0.0,\"#0d0887\"],[0.1111111111111111,\"#46039f\"],[0.2222222222222222,\"#7201a8\"],[0.3333333333333333,\"#9c179e\"],[0.4444444444444444,\"#bd3786\"],[0.5555555555555556,\"#d8576b\"],[0.6666666666666666,\"#ed7953\"],[0.7777777777777778,\"#fb9f3a\"],[0.8888888888888888,\"#fdca26\"],[1.0,\"#f0f921\"]]}],\"contourcarpet\":[{\"type\":\"contourcarpet\",\"colorbar\":{\"outlinewidth\":0,\"ticks\":\"\"}}],\"contour\":[{\"type\":\"contour\",\"colorbar\":{\"outlinewidth\":0,\"ticks\":\"\"},\"colorscale\":[[0.0,\"#0d0887\"],[0.1111111111111111,\"#46039f\"],[0.2222222222222222,\"#7201a8\"],[0.3333333333333333,\"#9c179e\"],[0.4444444444444444,\"#bd3786\"],[0.5555555555555556,\"#d8576b\"],[0.6666666666666666,\"#ed7953\"],[0.7777777777777778,\"#fb9f3a\"],[0.8888888888888888,\"#fdca26\"],[1.0,\"#f0f921\"]]}],\"surface\":[{\"type\":\"surface\",\"colorbar\":{\"outlinewidth\":0,\"ticks\":\"\"},\"colorscale\":[[0.0,\"#0d0887\"],[0.1111111111111111,\"#46039f\"],[0.2222222222222222,\"#7201a8\"],[0.3333333333333333,\"#9c179e\"],[0.4444444444444444,\"#bd3786\"],[0.5555555555555556,\"#d8576b\"],[0.6666666666666666,\"#ed7953\"],[0.7777777777777778,\"#fb9f3a\"],[0.8888888888888888,\"#fdca26\"],[1.0,\"#f0f921\"]]}],\"mesh3d\":[{\"type\":\"mesh3d\",\"colorbar\":{\"outlinewidth\":0,\"ticks\":\"\"}}],\"scatter\":[{\"fillpattern\":{\"fillmode\":\"overlay\",\"size\":10,\"solidity\":0.2},\"type\":\"scatter\"}],\"parcoords\":[{\"type\":\"parcoords\",\"line\":{\"colorbar\":{\"outlinewidth\":0,\"ticks\":\"\"}}}],\"scatterpolargl\":[{\"type\":\"scatterpolargl\",\"marker\":{\"colorbar\":{\"outlinewidth\":0,\"ticks\":\"\"}}}],\"bar\":[{\"error_x\":{\"color\":\"#2a3f5f\"},\"error_y\":{\"color\":\"#2a3f5f\"},\"marker\":{\"line\":{\"color\":\"#E5ECF6\",\"width\":0.5},\"pattern\":{\"fillmode\":\"overlay\",\"size\":10,\"solidity\":0.2}},\"type\":\"bar\"}],\"scattergeo\":[{\"type\":\"scattergeo\",\"marker\":{\"colorbar\":{\"outlinewidth\":0,\"ticks\":\"\"}}}],\"scatterpolar\":[{\"type\":\"scatterpolar\",\"marker\":{\"colorbar\":{\"outlinewidth\":0,\"ticks\":\"\"}}}],\"histogram\":[{\"marker\":{\"pattern\":{\"fillmode\":\"overlay\",\"size\":10,\"solidity\":0.2}},\"type\":\"histogram\"}],\"scattergl\":[{\"type\":\"scattergl\",\"marker\":{\"colorbar\":{\"outlinewidth\":0,\"ticks\":\"\"}}}],\"scatter3d\":[{\"type\":\"scatter3d\",\"line\":{\"colorbar\":{\"outlinewidth\":0,\"ticks\":\"\"}},\"marker\":{\"colorbar\":{\"outlinewidth\":0,\"ticks\":\"\"}}}],\"scattermapbox\":[{\"type\":\"scattermapbox\",\"marker\":{\"colorbar\":{\"outlinewidth\":0,\"ticks\":\"\"}}}],\"scatterternary\":[{\"type\":\"scatterternary\",\"marker\":{\"colorbar\":{\"outlinewidth\":0,\"ticks\":\"\"}}}],\"scattercarpet\":[{\"type\":\"scattercarpet\",\"marker\":{\"colorbar\":{\"outlinewidth\":0,\"ticks\":\"\"}}}],\"carpet\":[{\"aaxis\":{\"endlinecolor\":\"#2a3f5f\",\"gridcolor\":\"white\",\"linecolor\":\"white\",\"minorgridcolor\":\"white\",\"startlinecolor\":\"#2a3f5f\"},\"baxis\":{\"endlinecolor\":\"#2a3f5f\",\"gridcolor\":\"white\",\"linecolor\":\"white\",\"minorgridcolor\":\"white\",\"startlinecolor\":\"#2a3f5f\"},\"type\":\"carpet\"}],\"table\":[{\"cells\":{\"fill\":{\"color\":\"#EBF0F8\"},\"line\":{\"color\":\"white\"}},\"header\":{\"fill\":{\"color\":\"#C8D4E3\"},\"line\":{\"color\":\"white\"}},\"type\":\"table\"}],\"barpolar\":[{\"marker\":{\"line\":{\"color\":\"#E5ECF6\",\"width\":0.5},\"pattern\":{\"fillmode\":\"overlay\",\"size\":10,\"solidity\":0.2}},\"type\":\"barpolar\"}],\"pie\":[{\"automargin\":true,\"type\":\"pie\"}]},\"layout\":{\"autotypenumbers\":\"strict\",\"colorway\":[\"#636efa\",\"#EF553B\",\"#00cc96\",\"#ab63fa\",\"#FFA15A\",\"#19d3f3\",\"#FF6692\",\"#B6E880\",\"#FF97FF\",\"#FECB52\"],\"font\":{\"color\":\"#2a3f5f\"},\"hovermode\":\"closest\",\"hoverlabel\":{\"align\":\"left\"},\"paper_bgcolor\":\"white\",\"plot_bgcolor\":\"#E5ECF6\",\"polar\":{\"bgcolor\":\"#E5ECF6\",\"angularaxis\":{\"gridcolor\":\"white\",\"linecolor\":\"white\",\"ticks\":\"\"},\"radialaxis\":{\"gridcolor\":\"white\",\"linecolor\":\"white\",\"ticks\":\"\"}},\"ternary\":{\"bgcolor\":\"#E5ECF6\",\"aaxis\":{\"gridcolor\":\"white\",\"linecolor\":\"white\",\"ticks\":\"\"},\"baxis\":{\"gridcolor\":\"white\",\"linecolor\":\"white\",\"ticks\":\"\"},\"caxis\":{\"gridcolor\":\"white\",\"linecolor\":\"white\",\"ticks\":\"\"}},\"coloraxis\":{\"colorbar\":{\"outlinewidth\":0,\"ticks\":\"\"}},\"colorscale\":{\"sequential\":[[0.0,\"#0d0887\"],[0.1111111111111111,\"#46039f\"],[0.2222222222222222,\"#7201a8\"],[0.3333333333333333,\"#9c179e\"],[0.4444444444444444,\"#bd3786\"],[0.5555555555555556,\"#d8576b\"],[0.6666666666666666,\"#ed7953\"],[0.7777777777777778,\"#fb9f3a\"],[0.8888888888888888,\"#fdca26\"],[1.0,\"#f0f921\"]],\"sequentialminus\":[[0.0,\"#0d0887\"],[0.1111111111111111,\"#46039f\"],[0.2222222222222222,\"#7201a8\"],[0.3333333333333333,\"#9c179e\"],[0.4444444444444444,\"#bd3786\"],[0.5555555555555556,\"#d8576b\"],[0.6666666666666666,\"#ed7953\"],[0.7777777777777778,\"#fb9f3a\"],[0.8888888888888888,\"#fdca26\"],[1.0,\"#f0f921\"]],\"diverging\":[[0,\"#8e0152\"],[0.1,\"#c51b7d\"],[0.2,\"#de77ae\"],[0.3,\"#f1b6da\"],[0.4,\"#fde0ef\"],[0.5,\"#f7f7f7\"],[0.6,\"#e6f5d0\"],[0.7,\"#b8e186\"],[0.8,\"#7fbc41\"],[0.9,\"#4d9221\"],[1,\"#276419\"]]},\"xaxis\":{\"gridcolor\":\"white\",\"linecolor\":\"white\",\"ticks\":\"\",\"title\":{\"standoff\":15},\"zerolinecolor\":\"white\",\"automargin\":true,\"zerolinewidth\":2},\"yaxis\":{\"gridcolor\":\"white\",\"linecolor\":\"white\",\"ticks\":\"\",\"title\":{\"standoff\":15},\"zerolinecolor\":\"white\",\"automargin\":true,\"zerolinewidth\":2},\"scene\":{\"xaxis\":{\"backgroundcolor\":\"#E5ECF6\",\"gridcolor\":\"white\",\"linecolor\":\"white\",\"showbackground\":true,\"ticks\":\"\",\"zerolinecolor\":\"white\",\"gridwidth\":2},\"yaxis\":{\"backgroundcolor\":\"#E5ECF6\",\"gridcolor\":\"white\",\"linecolor\":\"white\",\"showbackground\":true,\"ticks\":\"\",\"zerolinecolor\":\"white\",\"gridwidth\":2},\"zaxis\":{\"backgroundcolor\":\"#E5ECF6\",\"gridcolor\":\"white\",\"linecolor\":\"white\",\"showbackground\":true,\"ticks\":\"\",\"zerolinecolor\":\"white\",\"gridwidth\":2}},\"shapedefaults\":{\"line\":{\"color\":\"#2a3f5f\"}},\"annotationdefaults\":{\"arrowcolor\":\"#2a3f5f\",\"arrowhead\":0,\"arrowwidth\":1},\"geo\":{\"bgcolor\":\"white\",\"landcolor\":\"#E5ECF6\",\"subunitcolor\":\"white\",\"showland\":true,\"showlakes\":true,\"lakecolor\":\"white\"},\"title\":{\"x\":0.05},\"mapbox\":{\"style\":\"light\"}}},\"xaxis\":{\"anchor\":\"y\",\"domain\":[0.0,1.0],\"title\":{\"text\":\"\\u0420\\u0435\\u0433\\u0438\\u043e\\u043d\"},\"categoryorder\":\"array\",\"categoryarray\":[\"\\u0421\\u0430\\u043d\\u043a\\u0442-\\u041f\\u0435\\u0442\\u0435\\u0440\\u0431\\u0443\\u0440\\u0433\",\"\\u041d\\u0438\\u0436\\u043d\\u0438\\u0439 \\u041d\\u043e\\u0432\\u0433\\u043e\\u0440\\u043e\\u0434\",\"\\u041c\\u043e\\u0441\\u043a\\u0432\\u0430\",\"\\u041d\\u043e\\u0432\\u043e\\u0441\\u0438\\u0431\\u0438\\u0440\\u0441\\u043a\",\"\\u0421\\u0430\\u043c\\u0430\\u0440\\u0430\",\"\\u0422\\u0443\\u043b\\u0430\"]},\"yaxis\":{\"anchor\":\"x\",\"domain\":[0.0,1.0],\"title\":{\"text\":\"\\u0417\\u0430\\u0440\\u043f\\u043b\\u0430\\u0442\\u0430 \\u043e\\u0442, \\u0440\\u0443\\u0431.\"}},\"legend\":{\"title\":{\"text\":\"\\u0420\\u0435\\u0433\\u0438\\u043e\\u043d\"},\"tracegroupgap\":0},\"margin\":{\"t\":60},\"boxmode\":\"overlay\"},                        {\"responsive\": true}                    ).then(function(){\n",
       "                            \n",
       "var gd = document.getElementById('3696fc26-ed08-4842-9932-84feea0cf0a9');\n",
       "var x = new MutationObserver(function (mutations, observer) {{\n",
       "        var display = window.getComputedStyle(gd).display;\n",
       "        if (!display || display === 'none') {{\n",
       "            console.log([gd, 'removed!']);\n",
       "            Plotly.purge(gd);\n",
       "            observer.disconnect();\n",
       "        }}\n",
       "}});\n",
       "\n",
       "// Listen for the removal of the full notebook cells\n",
       "var notebookContainer = gd.closest('#notebook-container');\n",
       "if (notebookContainer) {{\n",
       "    x.observe(notebookContainer, {childList: true});\n",
       "}}\n",
       "\n",
       "// Listen for the clearing of the current output cell\n",
       "var outputEl = gd.closest('.output');\n",
       "if (outputEl) {{\n",
       "    x.observe(outputEl, {childList: true});\n",
       "}}\n",
       "\n",
       "                        })                };                });            </script>        </div>"
      ]
     },
     "metadata": {},
     "output_type": "display_data"
    }
   ],
   "source": [
    "\n",
    "vac_info_new_salary_to = vac_info_new[vac_info_new['salary_to'].notnull()].copy()\n",
    "table_for_plot = vac_info_new_salary_to\n",
    "fig = px.box(table_for_plot, \n",
    "             x=\"area\", \n",
    "             y=\"salary_to\", \n",
    "             color = \"area\", \n",
    "             category_orders = {'area': table_for_plot['area'].value_counts().index}, \n",
    "             labels = {'area':'Регион', 'salary_to':'Зарплата от, руб.'})\n",
    "fig.show()"
   ]
  },
  {
   "cell_type": "markdown",
   "id": "9af4df81",
   "metadata": {},
   "source": [
    "### Видим из двух графиков как выровнялась сетка зарплат, вероятно из за ковида"
   ]
  },
  {
   "cell_type": "code",
   "execution_count": null,
   "id": "298eaed1",
   "metadata": {},
   "outputs": [],
   "source": []
  },
  {
   "cell_type": "code",
   "execution_count": null,
   "id": "67e4843b",
   "metadata": {},
   "outputs": [],
   "source": []
  },
  {
   "cell_type": "markdown",
   "id": "c8b3dc10",
   "metadata": {},
   "source": [
    "### Определим топ 20 популярных навыков и отобразим на графике"
   ]
  },
  {
   "cell_type": "code",
   "execution_count": 1219,
   "id": "7bc525e2",
   "metadata": {},
   "outputs": [
    {
     "data": {
      "text/html": [
       "<div>\n",
       "<style scoped>\n",
       "    .dataframe tbody tr th:only-of-type {\n",
       "        vertical-align: middle;\n",
       "    }\n",
       "\n",
       "    .dataframe tbody tr th {\n",
       "        vertical-align: top;\n",
       "    }\n",
       "\n",
       "    .dataframe thead th {\n",
       "        text-align: right;\n",
       "    }\n",
       "</style>\n",
       "<table border=\"1\" class=\"dataframe\">\n",
       "  <thead>\n",
       "    <tr style=\"text-align: right;\">\n",
       "      <th></th>\n",
       "      <th>count</th>\n",
       "    </tr>\n",
       "    <tr>\n",
       "      <th>key_skills</th>\n",
       "      <th></th>\n",
       "    </tr>\n",
       "  </thead>\n",
       "  <tbody>\n",
       "    <tr>\n",
       "      <th>SQL</th>\n",
       "      <td>220</td>\n",
       "    </tr>\n",
       "    <tr>\n",
       "      <th>JavaScript</th>\n",
       "      <td>200</td>\n",
       "    </tr>\n",
       "    <tr>\n",
       "      <th>Тестирование</th>\n",
       "      <td>160</td>\n",
       "    </tr>\n",
       "    <tr>\n",
       "      <th>Python</th>\n",
       "      <td>100</td>\n",
       "    </tr>\n",
       "    <tr>\n",
       "      <th>Atlassian Jira</th>\n",
       "      <td>80</td>\n",
       "    </tr>\n",
       "    <tr>\n",
       "      <th>HTML</th>\n",
       "      <td>80</td>\n",
       "    </tr>\n",
       "    <tr>\n",
       "      <th>TypeScript</th>\n",
       "      <td>80</td>\n",
       "    </tr>\n",
       "    <tr>\n",
       "      <th>Git</th>\n",
       "      <td>80</td>\n",
       "    </tr>\n",
       "    <tr>\n",
       "      <th>QA</th>\n",
       "      <td>80</td>\n",
       "    </tr>\n",
       "    <tr>\n",
       "      <th>MS SQL</th>\n",
       "      <td>60</td>\n",
       "    </tr>\n",
       "    <tr>\n",
       "      <th>Проведение тестирований</th>\n",
       "      <td>60</td>\n",
       "    </tr>\n",
       "    <tr>\n",
       "      <th>CSS3</th>\n",
       "      <td>60</td>\n",
       "    </tr>\n",
       "    <tr>\n",
       "      <th>Postman</th>\n",
       "      <td>60</td>\n",
       "    </tr>\n",
       "    <tr>\n",
       "      <th>React</th>\n",
       "      <td>40</td>\n",
       "    </tr>\n",
       "    <tr>\n",
       "      <th>React.js</th>\n",
       "      <td>40</td>\n",
       "    </tr>\n",
       "    <tr>\n",
       "      <th>Linux</th>\n",
       "      <td>40</td>\n",
       "    </tr>\n",
       "    <tr>\n",
       "      <th>Грамотная речь</th>\n",
       "      <td>40</td>\n",
       "    </tr>\n",
       "    <tr>\n",
       "      <th>REST API</th>\n",
       "      <td>40</td>\n",
       "    </tr>\n",
       "    <tr>\n",
       "      <th>React/Redux</th>\n",
       "      <td>40</td>\n",
       "    </tr>\n",
       "    <tr>\n",
       "      <th>MySQL</th>\n",
       "      <td>40</td>\n",
       "    </tr>\n",
       "  </tbody>\n",
       "</table>\n",
       "</div>"
      ],
      "text/plain": [
       "                         count\n",
       "key_skills                    \n",
       "SQL                        220\n",
       "JavaScript                 200\n",
       "Тестирование               160\n",
       "Python                     100\n",
       "Atlassian Jira              80\n",
       "HTML                        80\n",
       "TypeScript                  80\n",
       "Git                         80\n",
       "QA                          80\n",
       "MS SQL                      60\n",
       "Проведение тестирований     60\n",
       "CSS3                        60\n",
       "Postman                     60\n",
       "React                       40\n",
       "React.js                    40\n",
       "Linux                       40\n",
       "Грамотная речь              40\n",
       "REST API                    40\n",
       "React/Redux                 40\n",
       "MySQL                       40"
      ]
     },
     "execution_count": 1219,
     "metadata": {},
     "output_type": "execute_result"
    }
   ],
   "source": [
    "#\n",
    "skills_table = vac_info_new.copy()\n",
    "skills_table = skills_table.filter(items = [\"id\", \"name\", \"key_skills\",\"salary_from\",\"Level\"])\n",
    "skills_table_count = skills_table.explode(\"key_skills\").groupby(\"key_skills\").count()['id']\n",
    "skills_table_count = pd.DataFrame(skills_table_count).rename(mapper = {'id':'count'}, axis = 1)\n",
    "skills_table_count = skills_table_count.sort_values(by = 'count',ascending = False)\n",
    "skills_table_count.head(20)"
   ]
  },
  {
   "cell_type": "code",
   "execution_count": 1220,
   "id": "b7beddd5",
   "metadata": {
    "scrolled": false
   },
   "outputs": [
    {
     "data": {
      "application/vnd.plotly.v1+json": {
       "config": {
        "plotlyServerURL": "https://plot.ly"
       },
       "data": [
        {
         "alignmentgroup": "True",
         "hovertemplate": "variable=count<br>Навык=%{x}<br>Количество вакансий=%{y}<extra></extra>",
         "legendgroup": "count",
         "marker": {
          "color": "#636efa",
          "pattern": {
           "shape": ""
          }
         },
         "name": "count",
         "offsetgroup": "count",
         "orientation": "v",
         "showlegend": true,
         "textposition": "auto",
         "type": "bar",
         "x": [
          "SQL",
          "JavaScript",
          "Тестирование",
          "Python",
          "Atlassian Jira",
          "HTML",
          "TypeScript",
          "Git",
          "QA",
          "MS SQL",
          "Проведение тестирований",
          "CSS3",
          "Postman",
          "React",
          "React.js",
          "Linux",
          "Грамотная речь",
          "REST API",
          "React/Redux",
          "MySQL"
         ],
         "xaxis": "x",
         "y": [
          220,
          200,
          160,
          100,
          80,
          80,
          80,
          80,
          80,
          60,
          60,
          60,
          60,
          40,
          40,
          40,
          40,
          40,
          40,
          40
         ],
         "yaxis": "y"
        }
       ],
       "layout": {
        "barmode": "relative",
        "legend": {
         "title": {
          "text": "variable"
         },
         "tracegroupgap": 0
        },
        "margin": {
         "t": 60
        },
        "showlegend": false,
        "template": {
         "data": {
          "bar": [
           {
            "error_x": {
             "color": "#2a3f5f"
            },
            "error_y": {
             "color": "#2a3f5f"
            },
            "marker": {
             "line": {
              "color": "#E5ECF6",
              "width": 0.5
             },
             "pattern": {
              "fillmode": "overlay",
              "size": 10,
              "solidity": 0.2
             }
            },
            "type": "bar"
           }
          ],
          "barpolar": [
           {
            "marker": {
             "line": {
              "color": "#E5ECF6",
              "width": 0.5
             },
             "pattern": {
              "fillmode": "overlay",
              "size": 10,
              "solidity": 0.2
             }
            },
            "type": "barpolar"
           }
          ],
          "carpet": [
           {
            "aaxis": {
             "endlinecolor": "#2a3f5f",
             "gridcolor": "white",
             "linecolor": "white",
             "minorgridcolor": "white",
             "startlinecolor": "#2a3f5f"
            },
            "baxis": {
             "endlinecolor": "#2a3f5f",
             "gridcolor": "white",
             "linecolor": "white",
             "minorgridcolor": "white",
             "startlinecolor": "#2a3f5f"
            },
            "type": "carpet"
           }
          ],
          "choropleth": [
           {
            "colorbar": {
             "outlinewidth": 0,
             "ticks": ""
            },
            "type": "choropleth"
           }
          ],
          "contour": [
           {
            "colorbar": {
             "outlinewidth": 0,
             "ticks": ""
            },
            "colorscale": [
             [
              0,
              "#0d0887"
             ],
             [
              0.1111111111111111,
              "#46039f"
             ],
             [
              0.2222222222222222,
              "#7201a8"
             ],
             [
              0.3333333333333333,
              "#9c179e"
             ],
             [
              0.4444444444444444,
              "#bd3786"
             ],
             [
              0.5555555555555556,
              "#d8576b"
             ],
             [
              0.6666666666666666,
              "#ed7953"
             ],
             [
              0.7777777777777778,
              "#fb9f3a"
             ],
             [
              0.8888888888888888,
              "#fdca26"
             ],
             [
              1,
              "#f0f921"
             ]
            ],
            "type": "contour"
           }
          ],
          "contourcarpet": [
           {
            "colorbar": {
             "outlinewidth": 0,
             "ticks": ""
            },
            "type": "contourcarpet"
           }
          ],
          "heatmap": [
           {
            "colorbar": {
             "outlinewidth": 0,
             "ticks": ""
            },
            "colorscale": [
             [
              0,
              "#0d0887"
             ],
             [
              0.1111111111111111,
              "#46039f"
             ],
             [
              0.2222222222222222,
              "#7201a8"
             ],
             [
              0.3333333333333333,
              "#9c179e"
             ],
             [
              0.4444444444444444,
              "#bd3786"
             ],
             [
              0.5555555555555556,
              "#d8576b"
             ],
             [
              0.6666666666666666,
              "#ed7953"
             ],
             [
              0.7777777777777778,
              "#fb9f3a"
             ],
             [
              0.8888888888888888,
              "#fdca26"
             ],
             [
              1,
              "#f0f921"
             ]
            ],
            "type": "heatmap"
           }
          ],
          "heatmapgl": [
           {
            "colorbar": {
             "outlinewidth": 0,
             "ticks": ""
            },
            "colorscale": [
             [
              0,
              "#0d0887"
             ],
             [
              0.1111111111111111,
              "#46039f"
             ],
             [
              0.2222222222222222,
              "#7201a8"
             ],
             [
              0.3333333333333333,
              "#9c179e"
             ],
             [
              0.4444444444444444,
              "#bd3786"
             ],
             [
              0.5555555555555556,
              "#d8576b"
             ],
             [
              0.6666666666666666,
              "#ed7953"
             ],
             [
              0.7777777777777778,
              "#fb9f3a"
             ],
             [
              0.8888888888888888,
              "#fdca26"
             ],
             [
              1,
              "#f0f921"
             ]
            ],
            "type": "heatmapgl"
           }
          ],
          "histogram": [
           {
            "marker": {
             "pattern": {
              "fillmode": "overlay",
              "size": 10,
              "solidity": 0.2
             }
            },
            "type": "histogram"
           }
          ],
          "histogram2d": [
           {
            "colorbar": {
             "outlinewidth": 0,
             "ticks": ""
            },
            "colorscale": [
             [
              0,
              "#0d0887"
             ],
             [
              0.1111111111111111,
              "#46039f"
             ],
             [
              0.2222222222222222,
              "#7201a8"
             ],
             [
              0.3333333333333333,
              "#9c179e"
             ],
             [
              0.4444444444444444,
              "#bd3786"
             ],
             [
              0.5555555555555556,
              "#d8576b"
             ],
             [
              0.6666666666666666,
              "#ed7953"
             ],
             [
              0.7777777777777778,
              "#fb9f3a"
             ],
             [
              0.8888888888888888,
              "#fdca26"
             ],
             [
              1,
              "#f0f921"
             ]
            ],
            "type": "histogram2d"
           }
          ],
          "histogram2dcontour": [
           {
            "colorbar": {
             "outlinewidth": 0,
             "ticks": ""
            },
            "colorscale": [
             [
              0,
              "#0d0887"
             ],
             [
              0.1111111111111111,
              "#46039f"
             ],
             [
              0.2222222222222222,
              "#7201a8"
             ],
             [
              0.3333333333333333,
              "#9c179e"
             ],
             [
              0.4444444444444444,
              "#bd3786"
             ],
             [
              0.5555555555555556,
              "#d8576b"
             ],
             [
              0.6666666666666666,
              "#ed7953"
             ],
             [
              0.7777777777777778,
              "#fb9f3a"
             ],
             [
              0.8888888888888888,
              "#fdca26"
             ],
             [
              1,
              "#f0f921"
             ]
            ],
            "type": "histogram2dcontour"
           }
          ],
          "mesh3d": [
           {
            "colorbar": {
             "outlinewidth": 0,
             "ticks": ""
            },
            "type": "mesh3d"
           }
          ],
          "parcoords": [
           {
            "line": {
             "colorbar": {
              "outlinewidth": 0,
              "ticks": ""
             }
            },
            "type": "parcoords"
           }
          ],
          "pie": [
           {
            "automargin": true,
            "type": "pie"
           }
          ],
          "scatter": [
           {
            "fillpattern": {
             "fillmode": "overlay",
             "size": 10,
             "solidity": 0.2
            },
            "type": "scatter"
           }
          ],
          "scatter3d": [
           {
            "line": {
             "colorbar": {
              "outlinewidth": 0,
              "ticks": ""
             }
            },
            "marker": {
             "colorbar": {
              "outlinewidth": 0,
              "ticks": ""
             }
            },
            "type": "scatter3d"
           }
          ],
          "scattercarpet": [
           {
            "marker": {
             "colorbar": {
              "outlinewidth": 0,
              "ticks": ""
             }
            },
            "type": "scattercarpet"
           }
          ],
          "scattergeo": [
           {
            "marker": {
             "colorbar": {
              "outlinewidth": 0,
              "ticks": ""
             }
            },
            "type": "scattergeo"
           }
          ],
          "scattergl": [
           {
            "marker": {
             "colorbar": {
              "outlinewidth": 0,
              "ticks": ""
             }
            },
            "type": "scattergl"
           }
          ],
          "scattermapbox": [
           {
            "marker": {
             "colorbar": {
              "outlinewidth": 0,
              "ticks": ""
             }
            },
            "type": "scattermapbox"
           }
          ],
          "scatterpolar": [
           {
            "marker": {
             "colorbar": {
              "outlinewidth": 0,
              "ticks": ""
             }
            },
            "type": "scatterpolar"
           }
          ],
          "scatterpolargl": [
           {
            "marker": {
             "colorbar": {
              "outlinewidth": 0,
              "ticks": ""
             }
            },
            "type": "scatterpolargl"
           }
          ],
          "scatterternary": [
           {
            "marker": {
             "colorbar": {
              "outlinewidth": 0,
              "ticks": ""
             }
            },
            "type": "scatterternary"
           }
          ],
          "surface": [
           {
            "colorbar": {
             "outlinewidth": 0,
             "ticks": ""
            },
            "colorscale": [
             [
              0,
              "#0d0887"
             ],
             [
              0.1111111111111111,
              "#46039f"
             ],
             [
              0.2222222222222222,
              "#7201a8"
             ],
             [
              0.3333333333333333,
              "#9c179e"
             ],
             [
              0.4444444444444444,
              "#bd3786"
             ],
             [
              0.5555555555555556,
              "#d8576b"
             ],
             [
              0.6666666666666666,
              "#ed7953"
             ],
             [
              0.7777777777777778,
              "#fb9f3a"
             ],
             [
              0.8888888888888888,
              "#fdca26"
             ],
             [
              1,
              "#f0f921"
             ]
            ],
            "type": "surface"
           }
          ],
          "table": [
           {
            "cells": {
             "fill": {
              "color": "#EBF0F8"
             },
             "line": {
              "color": "white"
             }
            },
            "header": {
             "fill": {
              "color": "#C8D4E3"
             },
             "line": {
              "color": "white"
             }
            },
            "type": "table"
           }
          ]
         },
         "layout": {
          "annotationdefaults": {
           "arrowcolor": "#2a3f5f",
           "arrowhead": 0,
           "arrowwidth": 1
          },
          "autotypenumbers": "strict",
          "coloraxis": {
           "colorbar": {
            "outlinewidth": 0,
            "ticks": ""
           }
          },
          "colorscale": {
           "diverging": [
            [
             0,
             "#8e0152"
            ],
            [
             0.1,
             "#c51b7d"
            ],
            [
             0.2,
             "#de77ae"
            ],
            [
             0.3,
             "#f1b6da"
            ],
            [
             0.4,
             "#fde0ef"
            ],
            [
             0.5,
             "#f7f7f7"
            ],
            [
             0.6,
             "#e6f5d0"
            ],
            [
             0.7,
             "#b8e186"
            ],
            [
             0.8,
             "#7fbc41"
            ],
            [
             0.9,
             "#4d9221"
            ],
            [
             1,
             "#276419"
            ]
           ],
           "sequential": [
            [
             0,
             "#0d0887"
            ],
            [
             0.1111111111111111,
             "#46039f"
            ],
            [
             0.2222222222222222,
             "#7201a8"
            ],
            [
             0.3333333333333333,
             "#9c179e"
            ],
            [
             0.4444444444444444,
             "#bd3786"
            ],
            [
             0.5555555555555556,
             "#d8576b"
            ],
            [
             0.6666666666666666,
             "#ed7953"
            ],
            [
             0.7777777777777778,
             "#fb9f3a"
            ],
            [
             0.8888888888888888,
             "#fdca26"
            ],
            [
             1,
             "#f0f921"
            ]
           ],
           "sequentialminus": [
            [
             0,
             "#0d0887"
            ],
            [
             0.1111111111111111,
             "#46039f"
            ],
            [
             0.2222222222222222,
             "#7201a8"
            ],
            [
             0.3333333333333333,
             "#9c179e"
            ],
            [
             0.4444444444444444,
             "#bd3786"
            ],
            [
             0.5555555555555556,
             "#d8576b"
            ],
            [
             0.6666666666666666,
             "#ed7953"
            ],
            [
             0.7777777777777778,
             "#fb9f3a"
            ],
            [
             0.8888888888888888,
             "#fdca26"
            ],
            [
             1,
             "#f0f921"
            ]
           ]
          },
          "colorway": [
           "#636efa",
           "#EF553B",
           "#00cc96",
           "#ab63fa",
           "#FFA15A",
           "#19d3f3",
           "#FF6692",
           "#B6E880",
           "#FF97FF",
           "#FECB52"
          ],
          "font": {
           "color": "#2a3f5f"
          },
          "geo": {
           "bgcolor": "white",
           "lakecolor": "white",
           "landcolor": "#E5ECF6",
           "showlakes": true,
           "showland": true,
           "subunitcolor": "white"
          },
          "hoverlabel": {
           "align": "left"
          },
          "hovermode": "closest",
          "mapbox": {
           "style": "light"
          },
          "paper_bgcolor": "white",
          "plot_bgcolor": "#E5ECF6",
          "polar": {
           "angularaxis": {
            "gridcolor": "white",
            "linecolor": "white",
            "ticks": ""
           },
           "bgcolor": "#E5ECF6",
           "radialaxis": {
            "gridcolor": "white",
            "linecolor": "white",
            "ticks": ""
           }
          },
          "scene": {
           "xaxis": {
            "backgroundcolor": "#E5ECF6",
            "gridcolor": "white",
            "gridwidth": 2,
            "linecolor": "white",
            "showbackground": true,
            "ticks": "",
            "zerolinecolor": "white"
           },
           "yaxis": {
            "backgroundcolor": "#E5ECF6",
            "gridcolor": "white",
            "gridwidth": 2,
            "linecolor": "white",
            "showbackground": true,
            "ticks": "",
            "zerolinecolor": "white"
           },
           "zaxis": {
            "backgroundcolor": "#E5ECF6",
            "gridcolor": "white",
            "gridwidth": 2,
            "linecolor": "white",
            "showbackground": true,
            "ticks": "",
            "zerolinecolor": "white"
           }
          },
          "shapedefaults": {
           "line": {
            "color": "#2a3f5f"
           }
          },
          "ternary": {
           "aaxis": {
            "gridcolor": "white",
            "linecolor": "white",
            "ticks": ""
           },
           "baxis": {
            "gridcolor": "white",
            "linecolor": "white",
            "ticks": ""
           },
           "bgcolor": "#E5ECF6",
           "caxis": {
            "gridcolor": "white",
            "linecolor": "white",
            "ticks": ""
           }
          },
          "title": {
           "x": 0.05
          },
          "xaxis": {
           "automargin": true,
           "gridcolor": "white",
           "linecolor": "white",
           "ticks": "",
           "title": {
            "standoff": 15
           },
           "zerolinecolor": "white",
           "zerolinewidth": 2
          },
          "yaxis": {
           "automargin": true,
           "gridcolor": "white",
           "linecolor": "white",
           "ticks": "",
           "title": {
            "standoff": 15
           },
           "zerolinecolor": "white",
           "zerolinewidth": 2
          }
         }
        },
        "xaxis": {
         "anchor": "y",
         "domain": [
          0,
          1
         ],
         "title": {
          "text": "Навык"
         }
        },
        "yaxis": {
         "anchor": "x",
         "domain": [
          0,
          1
         ],
         "title": {
          "text": "Количество вакансий"
         }
        }
       }
      },
      "text/html": [
       "<div>                            <div id=\"f7c9f337-a447-4646-b89c-36f4d4cf6fa3\" class=\"plotly-graph-div\" style=\"height:525px; width:100%;\"></div>            <script type=\"text/javascript\">                require([\"plotly\"], function(Plotly) {                    window.PLOTLYENV=window.PLOTLYENV || {};                                    if (document.getElementById(\"f7c9f337-a447-4646-b89c-36f4d4cf6fa3\")) {                    Plotly.newPlot(                        \"f7c9f337-a447-4646-b89c-36f4d4cf6fa3\",                        [{\"alignmentgroup\":\"True\",\"hovertemplate\":\"variable=count<br>\\u041d\\u0430\\u0432\\u044b\\u043a=%{x}<br>\\u041a\\u043e\\u043b\\u0438\\u0447\\u0435\\u0441\\u0442\\u0432\\u043e \\u0432\\u0430\\u043a\\u0430\\u043d\\u0441\\u0438\\u0439=%{y}<extra></extra>\",\"legendgroup\":\"count\",\"marker\":{\"color\":\"#636efa\",\"pattern\":{\"shape\":\"\"}},\"name\":\"count\",\"offsetgroup\":\"count\",\"orientation\":\"v\",\"showlegend\":true,\"textposition\":\"auto\",\"x\":[\"SQL\",\"JavaScript\",\"\\u0422\\u0435\\u0441\\u0442\\u0438\\u0440\\u043e\\u0432\\u0430\\u043d\\u0438\\u0435\",\"Python\",\"Atlassian Jira\",\"HTML\",\"TypeScript\",\"Git\",\"QA\",\"MS SQL\",\"\\u041f\\u0440\\u043e\\u0432\\u0435\\u0434\\u0435\\u043d\\u0438\\u0435 \\u0442\\u0435\\u0441\\u0442\\u0438\\u0440\\u043e\\u0432\\u0430\\u043d\\u0438\\u0439\",\"CSS3\",\"Postman\",\"React\",\"React.js\",\"Linux\",\"\\u0413\\u0440\\u0430\\u043c\\u043e\\u0442\\u043d\\u0430\\u044f \\u0440\\u0435\\u0447\\u044c\",\"REST API\",\"React/Redux\",\"MySQL\"],\"xaxis\":\"x\",\"y\":[220,200,160,100,80,80,80,80,80,60,60,60,60,40,40,40,40,40,40,40],\"yaxis\":\"y\",\"type\":\"bar\"}],                        {\"template\":{\"data\":{\"histogram2dcontour\":[{\"type\":\"histogram2dcontour\",\"colorbar\":{\"outlinewidth\":0,\"ticks\":\"\"},\"colorscale\":[[0.0,\"#0d0887\"],[0.1111111111111111,\"#46039f\"],[0.2222222222222222,\"#7201a8\"],[0.3333333333333333,\"#9c179e\"],[0.4444444444444444,\"#bd3786\"],[0.5555555555555556,\"#d8576b\"],[0.6666666666666666,\"#ed7953\"],[0.7777777777777778,\"#fb9f3a\"],[0.8888888888888888,\"#fdca26\"],[1.0,\"#f0f921\"]]}],\"choropleth\":[{\"type\":\"choropleth\",\"colorbar\":{\"outlinewidth\":0,\"ticks\":\"\"}}],\"histogram2d\":[{\"type\":\"histogram2d\",\"colorbar\":{\"outlinewidth\":0,\"ticks\":\"\"},\"colorscale\":[[0.0,\"#0d0887\"],[0.1111111111111111,\"#46039f\"],[0.2222222222222222,\"#7201a8\"],[0.3333333333333333,\"#9c179e\"],[0.4444444444444444,\"#bd3786\"],[0.5555555555555556,\"#d8576b\"],[0.6666666666666666,\"#ed7953\"],[0.7777777777777778,\"#fb9f3a\"],[0.8888888888888888,\"#fdca26\"],[1.0,\"#f0f921\"]]}],\"heatmap\":[{\"type\":\"heatmap\",\"colorbar\":{\"outlinewidth\":0,\"ticks\":\"\"},\"colorscale\":[[0.0,\"#0d0887\"],[0.1111111111111111,\"#46039f\"],[0.2222222222222222,\"#7201a8\"],[0.3333333333333333,\"#9c179e\"],[0.4444444444444444,\"#bd3786\"],[0.5555555555555556,\"#d8576b\"],[0.6666666666666666,\"#ed7953\"],[0.7777777777777778,\"#fb9f3a\"],[0.8888888888888888,\"#fdca26\"],[1.0,\"#f0f921\"]]}],\"heatmapgl\":[{\"type\":\"heatmapgl\",\"colorbar\":{\"outlinewidth\":0,\"ticks\":\"\"},\"colorscale\":[[0.0,\"#0d0887\"],[0.1111111111111111,\"#46039f\"],[0.2222222222222222,\"#7201a8\"],[0.3333333333333333,\"#9c179e\"],[0.4444444444444444,\"#bd3786\"],[0.5555555555555556,\"#d8576b\"],[0.6666666666666666,\"#ed7953\"],[0.7777777777777778,\"#fb9f3a\"],[0.8888888888888888,\"#fdca26\"],[1.0,\"#f0f921\"]]}],\"contourcarpet\":[{\"type\":\"contourcarpet\",\"colorbar\":{\"outlinewidth\":0,\"ticks\":\"\"}}],\"contour\":[{\"type\":\"contour\",\"colorbar\":{\"outlinewidth\":0,\"ticks\":\"\"},\"colorscale\":[[0.0,\"#0d0887\"],[0.1111111111111111,\"#46039f\"],[0.2222222222222222,\"#7201a8\"],[0.3333333333333333,\"#9c179e\"],[0.4444444444444444,\"#bd3786\"],[0.5555555555555556,\"#d8576b\"],[0.6666666666666666,\"#ed7953\"],[0.7777777777777778,\"#fb9f3a\"],[0.8888888888888888,\"#fdca26\"],[1.0,\"#f0f921\"]]}],\"surface\":[{\"type\":\"surface\",\"colorbar\":{\"outlinewidth\":0,\"ticks\":\"\"},\"colorscale\":[[0.0,\"#0d0887\"],[0.1111111111111111,\"#46039f\"],[0.2222222222222222,\"#7201a8\"],[0.3333333333333333,\"#9c179e\"],[0.4444444444444444,\"#bd3786\"],[0.5555555555555556,\"#d8576b\"],[0.6666666666666666,\"#ed7953\"],[0.7777777777777778,\"#fb9f3a\"],[0.8888888888888888,\"#fdca26\"],[1.0,\"#f0f921\"]]}],\"mesh3d\":[{\"type\":\"mesh3d\",\"colorbar\":{\"outlinewidth\":0,\"ticks\":\"\"}}],\"scatter\":[{\"fillpattern\":{\"fillmode\":\"overlay\",\"size\":10,\"solidity\":0.2},\"type\":\"scatter\"}],\"parcoords\":[{\"type\":\"parcoords\",\"line\":{\"colorbar\":{\"outlinewidth\":0,\"ticks\":\"\"}}}],\"scatterpolargl\":[{\"type\":\"scatterpolargl\",\"marker\":{\"colorbar\":{\"outlinewidth\":0,\"ticks\":\"\"}}}],\"bar\":[{\"error_x\":{\"color\":\"#2a3f5f\"},\"error_y\":{\"color\":\"#2a3f5f\"},\"marker\":{\"line\":{\"color\":\"#E5ECF6\",\"width\":0.5},\"pattern\":{\"fillmode\":\"overlay\",\"size\":10,\"solidity\":0.2}},\"type\":\"bar\"}],\"scattergeo\":[{\"type\":\"scattergeo\",\"marker\":{\"colorbar\":{\"outlinewidth\":0,\"ticks\":\"\"}}}],\"scatterpolar\":[{\"type\":\"scatterpolar\",\"marker\":{\"colorbar\":{\"outlinewidth\":0,\"ticks\":\"\"}}}],\"histogram\":[{\"marker\":{\"pattern\":{\"fillmode\":\"overlay\",\"size\":10,\"solidity\":0.2}},\"type\":\"histogram\"}],\"scattergl\":[{\"type\":\"scattergl\",\"marker\":{\"colorbar\":{\"outlinewidth\":0,\"ticks\":\"\"}}}],\"scatter3d\":[{\"type\":\"scatter3d\",\"line\":{\"colorbar\":{\"outlinewidth\":0,\"ticks\":\"\"}},\"marker\":{\"colorbar\":{\"outlinewidth\":0,\"ticks\":\"\"}}}],\"scattermapbox\":[{\"type\":\"scattermapbox\",\"marker\":{\"colorbar\":{\"outlinewidth\":0,\"ticks\":\"\"}}}],\"scatterternary\":[{\"type\":\"scatterternary\",\"marker\":{\"colorbar\":{\"outlinewidth\":0,\"ticks\":\"\"}}}],\"scattercarpet\":[{\"type\":\"scattercarpet\",\"marker\":{\"colorbar\":{\"outlinewidth\":0,\"ticks\":\"\"}}}],\"carpet\":[{\"aaxis\":{\"endlinecolor\":\"#2a3f5f\",\"gridcolor\":\"white\",\"linecolor\":\"white\",\"minorgridcolor\":\"white\",\"startlinecolor\":\"#2a3f5f\"},\"baxis\":{\"endlinecolor\":\"#2a3f5f\",\"gridcolor\":\"white\",\"linecolor\":\"white\",\"minorgridcolor\":\"white\",\"startlinecolor\":\"#2a3f5f\"},\"type\":\"carpet\"}],\"table\":[{\"cells\":{\"fill\":{\"color\":\"#EBF0F8\"},\"line\":{\"color\":\"white\"}},\"header\":{\"fill\":{\"color\":\"#C8D4E3\"},\"line\":{\"color\":\"white\"}},\"type\":\"table\"}],\"barpolar\":[{\"marker\":{\"line\":{\"color\":\"#E5ECF6\",\"width\":0.5},\"pattern\":{\"fillmode\":\"overlay\",\"size\":10,\"solidity\":0.2}},\"type\":\"barpolar\"}],\"pie\":[{\"automargin\":true,\"type\":\"pie\"}]},\"layout\":{\"autotypenumbers\":\"strict\",\"colorway\":[\"#636efa\",\"#EF553B\",\"#00cc96\",\"#ab63fa\",\"#FFA15A\",\"#19d3f3\",\"#FF6692\",\"#B6E880\",\"#FF97FF\",\"#FECB52\"],\"font\":{\"color\":\"#2a3f5f\"},\"hovermode\":\"closest\",\"hoverlabel\":{\"align\":\"left\"},\"paper_bgcolor\":\"white\",\"plot_bgcolor\":\"#E5ECF6\",\"polar\":{\"bgcolor\":\"#E5ECF6\",\"angularaxis\":{\"gridcolor\":\"white\",\"linecolor\":\"white\",\"ticks\":\"\"},\"radialaxis\":{\"gridcolor\":\"white\",\"linecolor\":\"white\",\"ticks\":\"\"}},\"ternary\":{\"bgcolor\":\"#E5ECF6\",\"aaxis\":{\"gridcolor\":\"white\",\"linecolor\":\"white\",\"ticks\":\"\"},\"baxis\":{\"gridcolor\":\"white\",\"linecolor\":\"white\",\"ticks\":\"\"},\"caxis\":{\"gridcolor\":\"white\",\"linecolor\":\"white\",\"ticks\":\"\"}},\"coloraxis\":{\"colorbar\":{\"outlinewidth\":0,\"ticks\":\"\"}},\"colorscale\":{\"sequential\":[[0.0,\"#0d0887\"],[0.1111111111111111,\"#46039f\"],[0.2222222222222222,\"#7201a8\"],[0.3333333333333333,\"#9c179e\"],[0.4444444444444444,\"#bd3786\"],[0.5555555555555556,\"#d8576b\"],[0.6666666666666666,\"#ed7953\"],[0.7777777777777778,\"#fb9f3a\"],[0.8888888888888888,\"#fdca26\"],[1.0,\"#f0f921\"]],\"sequentialminus\":[[0.0,\"#0d0887\"],[0.1111111111111111,\"#46039f\"],[0.2222222222222222,\"#7201a8\"],[0.3333333333333333,\"#9c179e\"],[0.4444444444444444,\"#bd3786\"],[0.5555555555555556,\"#d8576b\"],[0.6666666666666666,\"#ed7953\"],[0.7777777777777778,\"#fb9f3a\"],[0.8888888888888888,\"#fdca26\"],[1.0,\"#f0f921\"]],\"diverging\":[[0,\"#8e0152\"],[0.1,\"#c51b7d\"],[0.2,\"#de77ae\"],[0.3,\"#f1b6da\"],[0.4,\"#fde0ef\"],[0.5,\"#f7f7f7\"],[0.6,\"#e6f5d0\"],[0.7,\"#b8e186\"],[0.8,\"#7fbc41\"],[0.9,\"#4d9221\"],[1,\"#276419\"]]},\"xaxis\":{\"gridcolor\":\"white\",\"linecolor\":\"white\",\"ticks\":\"\",\"title\":{\"standoff\":15},\"zerolinecolor\":\"white\",\"automargin\":true,\"zerolinewidth\":2},\"yaxis\":{\"gridcolor\":\"white\",\"linecolor\":\"white\",\"ticks\":\"\",\"title\":{\"standoff\":15},\"zerolinecolor\":\"white\",\"automargin\":true,\"zerolinewidth\":2},\"scene\":{\"xaxis\":{\"backgroundcolor\":\"#E5ECF6\",\"gridcolor\":\"white\",\"linecolor\":\"white\",\"showbackground\":true,\"ticks\":\"\",\"zerolinecolor\":\"white\",\"gridwidth\":2},\"yaxis\":{\"backgroundcolor\":\"#E5ECF6\",\"gridcolor\":\"white\",\"linecolor\":\"white\",\"showbackground\":true,\"ticks\":\"\",\"zerolinecolor\":\"white\",\"gridwidth\":2},\"zaxis\":{\"backgroundcolor\":\"#E5ECF6\",\"gridcolor\":\"white\",\"linecolor\":\"white\",\"showbackground\":true,\"ticks\":\"\",\"zerolinecolor\":\"white\",\"gridwidth\":2}},\"shapedefaults\":{\"line\":{\"color\":\"#2a3f5f\"}},\"annotationdefaults\":{\"arrowcolor\":\"#2a3f5f\",\"arrowhead\":0,\"arrowwidth\":1},\"geo\":{\"bgcolor\":\"white\",\"landcolor\":\"#E5ECF6\",\"subunitcolor\":\"white\",\"showland\":true,\"showlakes\":true,\"lakecolor\":\"white\"},\"title\":{\"x\":0.05},\"mapbox\":{\"style\":\"light\"}}},\"xaxis\":{\"anchor\":\"y\",\"domain\":[0.0,1.0],\"title\":{\"text\":\"\\u041d\\u0430\\u0432\\u044b\\u043a\"}},\"yaxis\":{\"anchor\":\"x\",\"domain\":[0.0,1.0],\"title\":{\"text\":\"\\u041a\\u043e\\u043b\\u0438\\u0447\\u0435\\u0441\\u0442\\u0432\\u043e \\u0432\\u0430\\u043a\\u0430\\u043d\\u0441\\u0438\\u0439\"}},\"legend\":{\"title\":{\"text\":\"variable\"},\"tracegroupgap\":0},\"margin\":{\"t\":60},\"barmode\":\"relative\",\"showlegend\":false},                        {\"responsive\": true}                    ).then(function(){\n",
       "                            \n",
       "var gd = document.getElementById('f7c9f337-a447-4646-b89c-36f4d4cf6fa3');\n",
       "var x = new MutationObserver(function (mutations, observer) {{\n",
       "        var display = window.getComputedStyle(gd).display;\n",
       "        if (!display || display === 'none') {{\n",
       "            console.log([gd, 'removed!']);\n",
       "            Plotly.purge(gd);\n",
       "            observer.disconnect();\n",
       "        }}\n",
       "}});\n",
       "\n",
       "// Listen for the removal of the full notebook cells\n",
       "var notebookContainer = gd.closest('#notebook-container');\n",
       "if (notebookContainer) {{\n",
       "    x.observe(notebookContainer, {childList: true});\n",
       "}}\n",
       "\n",
       "// Listen for the clearing of the current output cell\n",
       "var outputEl = gd.closest('.output');\n",
       "if (outputEl) {{\n",
       "    x.observe(outputEl, {childList: true});\n",
       "}}\n",
       "\n",
       "                        })                };                });            </script>        </div>"
      ]
     },
     "metadata": {},
     "output_type": "display_data"
    }
   ],
   "source": [
    "#\n",
    "fig = px.bar(skills_table_count.head(20),labels = {'key_skills':'Навык', 'value':'Количество вакансий'})\n",
    "fig.update_layout(showlegend=False)\n",
    "fig.show()"
   ]
  },
  {
   "cell_type": "markdown",
   "id": "b301e695",
   "metadata": {},
   "source": [
    "### Вывод : SQL и Python входят в топ 5 самых востребованных навыков"
   ]
  },
  {
   "cell_type": "code",
   "execution_count": null,
   "id": "ce2ef27b",
   "metadata": {},
   "outputs": [],
   "source": []
  },
  {
   "cell_type": "markdown",
   "id": "1d65e528",
   "metadata": {},
   "source": [
    "### Посторим график процентов наиболее востребованных навыков в виде круговой диаграммы"
   ]
  },
  {
   "cell_type": "code",
   "execution_count": 1221,
   "id": "88cbdd09",
   "metadata": {},
   "outputs": [],
   "source": [
    "\n",
    "skills_table_count_new = skills_table_count.head(20).copy()\n",
    "skills_table_count_new = skills_table_count_new.reset_index()"
   ]
  },
  {
   "cell_type": "code",
   "execution_count": 1222,
   "id": "b22573f6",
   "metadata": {},
   "outputs": [
    {
     "data": {
      "application/vnd.plotly.v1+json": {
       "config": {
        "plotlyServerURL": "https://plot.ly"
       },
       "data": [
        {
         "labels": [
          "SQL",
          "JavaScript",
          "Тестирование",
          "Python",
          "Atlassian Jira",
          "HTML",
          "TypeScript",
          "Git",
          "QA",
          "MS SQL",
          "Проведение тестирований",
          "CSS3",
          "Postman",
          "React",
          "React.js",
          "Linux",
          "Грамотная речь",
          "REST API",
          "React/Redux",
          "MySQL"
         ],
         "type": "pie",
         "values": [
          220,
          200,
          160,
          100,
          80,
          80,
          80,
          80,
          80,
          60,
          60,
          60,
          60,
          40,
          40,
          40,
          40,
          40,
          40,
          40
         ]
        }
       ],
       "layout": {
        "template": {
         "data": {
          "bar": [
           {
            "error_x": {
             "color": "#2a3f5f"
            },
            "error_y": {
             "color": "#2a3f5f"
            },
            "marker": {
             "line": {
              "color": "#E5ECF6",
              "width": 0.5
             },
             "pattern": {
              "fillmode": "overlay",
              "size": 10,
              "solidity": 0.2
             }
            },
            "type": "bar"
           }
          ],
          "barpolar": [
           {
            "marker": {
             "line": {
              "color": "#E5ECF6",
              "width": 0.5
             },
             "pattern": {
              "fillmode": "overlay",
              "size": 10,
              "solidity": 0.2
             }
            },
            "type": "barpolar"
           }
          ],
          "carpet": [
           {
            "aaxis": {
             "endlinecolor": "#2a3f5f",
             "gridcolor": "white",
             "linecolor": "white",
             "minorgridcolor": "white",
             "startlinecolor": "#2a3f5f"
            },
            "baxis": {
             "endlinecolor": "#2a3f5f",
             "gridcolor": "white",
             "linecolor": "white",
             "minorgridcolor": "white",
             "startlinecolor": "#2a3f5f"
            },
            "type": "carpet"
           }
          ],
          "choropleth": [
           {
            "colorbar": {
             "outlinewidth": 0,
             "ticks": ""
            },
            "type": "choropleth"
           }
          ],
          "contour": [
           {
            "colorbar": {
             "outlinewidth": 0,
             "ticks": ""
            },
            "colorscale": [
             [
              0,
              "#0d0887"
             ],
             [
              0.1111111111111111,
              "#46039f"
             ],
             [
              0.2222222222222222,
              "#7201a8"
             ],
             [
              0.3333333333333333,
              "#9c179e"
             ],
             [
              0.4444444444444444,
              "#bd3786"
             ],
             [
              0.5555555555555556,
              "#d8576b"
             ],
             [
              0.6666666666666666,
              "#ed7953"
             ],
             [
              0.7777777777777778,
              "#fb9f3a"
             ],
             [
              0.8888888888888888,
              "#fdca26"
             ],
             [
              1,
              "#f0f921"
             ]
            ],
            "type": "contour"
           }
          ],
          "contourcarpet": [
           {
            "colorbar": {
             "outlinewidth": 0,
             "ticks": ""
            },
            "type": "contourcarpet"
           }
          ],
          "heatmap": [
           {
            "colorbar": {
             "outlinewidth": 0,
             "ticks": ""
            },
            "colorscale": [
             [
              0,
              "#0d0887"
             ],
             [
              0.1111111111111111,
              "#46039f"
             ],
             [
              0.2222222222222222,
              "#7201a8"
             ],
             [
              0.3333333333333333,
              "#9c179e"
             ],
             [
              0.4444444444444444,
              "#bd3786"
             ],
             [
              0.5555555555555556,
              "#d8576b"
             ],
             [
              0.6666666666666666,
              "#ed7953"
             ],
             [
              0.7777777777777778,
              "#fb9f3a"
             ],
             [
              0.8888888888888888,
              "#fdca26"
             ],
             [
              1,
              "#f0f921"
             ]
            ],
            "type": "heatmap"
           }
          ],
          "heatmapgl": [
           {
            "colorbar": {
             "outlinewidth": 0,
             "ticks": ""
            },
            "colorscale": [
             [
              0,
              "#0d0887"
             ],
             [
              0.1111111111111111,
              "#46039f"
             ],
             [
              0.2222222222222222,
              "#7201a8"
             ],
             [
              0.3333333333333333,
              "#9c179e"
             ],
             [
              0.4444444444444444,
              "#bd3786"
             ],
             [
              0.5555555555555556,
              "#d8576b"
             ],
             [
              0.6666666666666666,
              "#ed7953"
             ],
             [
              0.7777777777777778,
              "#fb9f3a"
             ],
             [
              0.8888888888888888,
              "#fdca26"
             ],
             [
              1,
              "#f0f921"
             ]
            ],
            "type": "heatmapgl"
           }
          ],
          "histogram": [
           {
            "marker": {
             "pattern": {
              "fillmode": "overlay",
              "size": 10,
              "solidity": 0.2
             }
            },
            "type": "histogram"
           }
          ],
          "histogram2d": [
           {
            "colorbar": {
             "outlinewidth": 0,
             "ticks": ""
            },
            "colorscale": [
             [
              0,
              "#0d0887"
             ],
             [
              0.1111111111111111,
              "#46039f"
             ],
             [
              0.2222222222222222,
              "#7201a8"
             ],
             [
              0.3333333333333333,
              "#9c179e"
             ],
             [
              0.4444444444444444,
              "#bd3786"
             ],
             [
              0.5555555555555556,
              "#d8576b"
             ],
             [
              0.6666666666666666,
              "#ed7953"
             ],
             [
              0.7777777777777778,
              "#fb9f3a"
             ],
             [
              0.8888888888888888,
              "#fdca26"
             ],
             [
              1,
              "#f0f921"
             ]
            ],
            "type": "histogram2d"
           }
          ],
          "histogram2dcontour": [
           {
            "colorbar": {
             "outlinewidth": 0,
             "ticks": ""
            },
            "colorscale": [
             [
              0,
              "#0d0887"
             ],
             [
              0.1111111111111111,
              "#46039f"
             ],
             [
              0.2222222222222222,
              "#7201a8"
             ],
             [
              0.3333333333333333,
              "#9c179e"
             ],
             [
              0.4444444444444444,
              "#bd3786"
             ],
             [
              0.5555555555555556,
              "#d8576b"
             ],
             [
              0.6666666666666666,
              "#ed7953"
             ],
             [
              0.7777777777777778,
              "#fb9f3a"
             ],
             [
              0.8888888888888888,
              "#fdca26"
             ],
             [
              1,
              "#f0f921"
             ]
            ],
            "type": "histogram2dcontour"
           }
          ],
          "mesh3d": [
           {
            "colorbar": {
             "outlinewidth": 0,
             "ticks": ""
            },
            "type": "mesh3d"
           }
          ],
          "parcoords": [
           {
            "line": {
             "colorbar": {
              "outlinewidth": 0,
              "ticks": ""
             }
            },
            "type": "parcoords"
           }
          ],
          "pie": [
           {
            "automargin": true,
            "type": "pie"
           }
          ],
          "scatter": [
           {
            "fillpattern": {
             "fillmode": "overlay",
             "size": 10,
             "solidity": 0.2
            },
            "type": "scatter"
           }
          ],
          "scatter3d": [
           {
            "line": {
             "colorbar": {
              "outlinewidth": 0,
              "ticks": ""
             }
            },
            "marker": {
             "colorbar": {
              "outlinewidth": 0,
              "ticks": ""
             }
            },
            "type": "scatter3d"
           }
          ],
          "scattercarpet": [
           {
            "marker": {
             "colorbar": {
              "outlinewidth": 0,
              "ticks": ""
             }
            },
            "type": "scattercarpet"
           }
          ],
          "scattergeo": [
           {
            "marker": {
             "colorbar": {
              "outlinewidth": 0,
              "ticks": ""
             }
            },
            "type": "scattergeo"
           }
          ],
          "scattergl": [
           {
            "marker": {
             "colorbar": {
              "outlinewidth": 0,
              "ticks": ""
             }
            },
            "type": "scattergl"
           }
          ],
          "scattermapbox": [
           {
            "marker": {
             "colorbar": {
              "outlinewidth": 0,
              "ticks": ""
             }
            },
            "type": "scattermapbox"
           }
          ],
          "scatterpolar": [
           {
            "marker": {
             "colorbar": {
              "outlinewidth": 0,
              "ticks": ""
             }
            },
            "type": "scatterpolar"
           }
          ],
          "scatterpolargl": [
           {
            "marker": {
             "colorbar": {
              "outlinewidth": 0,
              "ticks": ""
             }
            },
            "type": "scatterpolargl"
           }
          ],
          "scatterternary": [
           {
            "marker": {
             "colorbar": {
              "outlinewidth": 0,
              "ticks": ""
             }
            },
            "type": "scatterternary"
           }
          ],
          "surface": [
           {
            "colorbar": {
             "outlinewidth": 0,
             "ticks": ""
            },
            "colorscale": [
             [
              0,
              "#0d0887"
             ],
             [
              0.1111111111111111,
              "#46039f"
             ],
             [
              0.2222222222222222,
              "#7201a8"
             ],
             [
              0.3333333333333333,
              "#9c179e"
             ],
             [
              0.4444444444444444,
              "#bd3786"
             ],
             [
              0.5555555555555556,
              "#d8576b"
             ],
             [
              0.6666666666666666,
              "#ed7953"
             ],
             [
              0.7777777777777778,
              "#fb9f3a"
             ],
             [
              0.8888888888888888,
              "#fdca26"
             ],
             [
              1,
              "#f0f921"
             ]
            ],
            "type": "surface"
           }
          ],
          "table": [
           {
            "cells": {
             "fill": {
              "color": "#EBF0F8"
             },
             "line": {
              "color": "white"
             }
            },
            "header": {
             "fill": {
              "color": "#C8D4E3"
             },
             "line": {
              "color": "white"
             }
            },
            "type": "table"
           }
          ]
         },
         "layout": {
          "annotationdefaults": {
           "arrowcolor": "#2a3f5f",
           "arrowhead": 0,
           "arrowwidth": 1
          },
          "autotypenumbers": "strict",
          "coloraxis": {
           "colorbar": {
            "outlinewidth": 0,
            "ticks": ""
           }
          },
          "colorscale": {
           "diverging": [
            [
             0,
             "#8e0152"
            ],
            [
             0.1,
             "#c51b7d"
            ],
            [
             0.2,
             "#de77ae"
            ],
            [
             0.3,
             "#f1b6da"
            ],
            [
             0.4,
             "#fde0ef"
            ],
            [
             0.5,
             "#f7f7f7"
            ],
            [
             0.6,
             "#e6f5d0"
            ],
            [
             0.7,
             "#b8e186"
            ],
            [
             0.8,
             "#7fbc41"
            ],
            [
             0.9,
             "#4d9221"
            ],
            [
             1,
             "#276419"
            ]
           ],
           "sequential": [
            [
             0,
             "#0d0887"
            ],
            [
             0.1111111111111111,
             "#46039f"
            ],
            [
             0.2222222222222222,
             "#7201a8"
            ],
            [
             0.3333333333333333,
             "#9c179e"
            ],
            [
             0.4444444444444444,
             "#bd3786"
            ],
            [
             0.5555555555555556,
             "#d8576b"
            ],
            [
             0.6666666666666666,
             "#ed7953"
            ],
            [
             0.7777777777777778,
             "#fb9f3a"
            ],
            [
             0.8888888888888888,
             "#fdca26"
            ],
            [
             1,
             "#f0f921"
            ]
           ],
           "sequentialminus": [
            [
             0,
             "#0d0887"
            ],
            [
             0.1111111111111111,
             "#46039f"
            ],
            [
             0.2222222222222222,
             "#7201a8"
            ],
            [
             0.3333333333333333,
             "#9c179e"
            ],
            [
             0.4444444444444444,
             "#bd3786"
            ],
            [
             0.5555555555555556,
             "#d8576b"
            ],
            [
             0.6666666666666666,
             "#ed7953"
            ],
            [
             0.7777777777777778,
             "#fb9f3a"
            ],
            [
             0.8888888888888888,
             "#fdca26"
            ],
            [
             1,
             "#f0f921"
            ]
           ]
          },
          "colorway": [
           "#636efa",
           "#EF553B",
           "#00cc96",
           "#ab63fa",
           "#FFA15A",
           "#19d3f3",
           "#FF6692",
           "#B6E880",
           "#FF97FF",
           "#FECB52"
          ],
          "font": {
           "color": "#2a3f5f"
          },
          "geo": {
           "bgcolor": "white",
           "lakecolor": "white",
           "landcolor": "#E5ECF6",
           "showlakes": true,
           "showland": true,
           "subunitcolor": "white"
          },
          "hoverlabel": {
           "align": "left"
          },
          "hovermode": "closest",
          "mapbox": {
           "style": "light"
          },
          "paper_bgcolor": "white",
          "plot_bgcolor": "#E5ECF6",
          "polar": {
           "angularaxis": {
            "gridcolor": "white",
            "linecolor": "white",
            "ticks": ""
           },
           "bgcolor": "#E5ECF6",
           "radialaxis": {
            "gridcolor": "white",
            "linecolor": "white",
            "ticks": ""
           }
          },
          "scene": {
           "xaxis": {
            "backgroundcolor": "#E5ECF6",
            "gridcolor": "white",
            "gridwidth": 2,
            "linecolor": "white",
            "showbackground": true,
            "ticks": "",
            "zerolinecolor": "white"
           },
           "yaxis": {
            "backgroundcolor": "#E5ECF6",
            "gridcolor": "white",
            "gridwidth": 2,
            "linecolor": "white",
            "showbackground": true,
            "ticks": "",
            "zerolinecolor": "white"
           },
           "zaxis": {
            "backgroundcolor": "#E5ECF6",
            "gridcolor": "white",
            "gridwidth": 2,
            "linecolor": "white",
            "showbackground": true,
            "ticks": "",
            "zerolinecolor": "white"
           }
          },
          "shapedefaults": {
           "line": {
            "color": "#2a3f5f"
           }
          },
          "ternary": {
           "aaxis": {
            "gridcolor": "white",
            "linecolor": "white",
            "ticks": ""
           },
           "baxis": {
            "gridcolor": "white",
            "linecolor": "white",
            "ticks": ""
           },
           "bgcolor": "#E5ECF6",
           "caxis": {
            "gridcolor": "white",
            "linecolor": "white",
            "ticks": ""
           }
          },
          "title": {
           "x": 0.05
          },
          "xaxis": {
           "automargin": true,
           "gridcolor": "white",
           "linecolor": "white",
           "ticks": "",
           "title": {
            "standoff": 15
           },
           "zerolinecolor": "white",
           "zerolinewidth": 2
          },
          "yaxis": {
           "automargin": true,
           "gridcolor": "white",
           "linecolor": "white",
           "ticks": "",
           "title": {
            "standoff": 15
           },
           "zerolinecolor": "white",
           "zerolinewidth": 2
          }
         }
        },
        "title": {
         "text": "График процентов наиболее востребованных навыков"
        }
       }
      },
      "text/html": [
       "<div>                            <div id=\"ff7fa848-cb7a-46cd-8a47-32d3cee5ecbb\" class=\"plotly-graph-div\" style=\"height:525px; width:100%;\"></div>            <script type=\"text/javascript\">                require([\"plotly\"], function(Plotly) {                    window.PLOTLYENV=window.PLOTLYENV || {};                                    if (document.getElementById(\"ff7fa848-cb7a-46cd-8a47-32d3cee5ecbb\")) {                    Plotly.newPlot(                        \"ff7fa848-cb7a-46cd-8a47-32d3cee5ecbb\",                        [{\"labels\":[\"SQL\",\"JavaScript\",\"\\u0422\\u0435\\u0441\\u0442\\u0438\\u0440\\u043e\\u0432\\u0430\\u043d\\u0438\\u0435\",\"Python\",\"Atlassian Jira\",\"HTML\",\"TypeScript\",\"Git\",\"QA\",\"MS SQL\",\"\\u041f\\u0440\\u043e\\u0432\\u0435\\u0434\\u0435\\u043d\\u0438\\u0435 \\u0442\\u0435\\u0441\\u0442\\u0438\\u0440\\u043e\\u0432\\u0430\\u043d\\u0438\\u0439\",\"CSS3\",\"Postman\",\"React\",\"React.js\",\"Linux\",\"\\u0413\\u0440\\u0430\\u043c\\u043e\\u0442\\u043d\\u0430\\u044f \\u0440\\u0435\\u0447\\u044c\",\"REST API\",\"React/Redux\",\"MySQL\"],\"values\":[220,200,160,100,80,80,80,80,80,60,60,60,60,40,40,40,40,40,40,40],\"type\":\"pie\"}],                        {\"title\":{\"text\":\"\\u0413\\u0440\\u0430\\u0444\\u0438\\u043a \\u043f\\u0440\\u043e\\u0446\\u0435\\u043d\\u0442\\u043e\\u0432 \\u043d\\u0430\\u0438\\u0431\\u043e\\u043b\\u0435\\u0435 \\u0432\\u043e\\u0441\\u0442\\u0440\\u0435\\u0431\\u043e\\u0432\\u0430\\u043d\\u043d\\u044b\\u0445 \\u043d\\u0430\\u0432\\u044b\\u043a\\u043e\\u0432\"},\"template\":{\"data\":{\"histogram2dcontour\":[{\"type\":\"histogram2dcontour\",\"colorbar\":{\"outlinewidth\":0,\"ticks\":\"\"},\"colorscale\":[[0.0,\"#0d0887\"],[0.1111111111111111,\"#46039f\"],[0.2222222222222222,\"#7201a8\"],[0.3333333333333333,\"#9c179e\"],[0.4444444444444444,\"#bd3786\"],[0.5555555555555556,\"#d8576b\"],[0.6666666666666666,\"#ed7953\"],[0.7777777777777778,\"#fb9f3a\"],[0.8888888888888888,\"#fdca26\"],[1.0,\"#f0f921\"]]}],\"choropleth\":[{\"type\":\"choropleth\",\"colorbar\":{\"outlinewidth\":0,\"ticks\":\"\"}}],\"histogram2d\":[{\"type\":\"histogram2d\",\"colorbar\":{\"outlinewidth\":0,\"ticks\":\"\"},\"colorscale\":[[0.0,\"#0d0887\"],[0.1111111111111111,\"#46039f\"],[0.2222222222222222,\"#7201a8\"],[0.3333333333333333,\"#9c179e\"],[0.4444444444444444,\"#bd3786\"],[0.5555555555555556,\"#d8576b\"],[0.6666666666666666,\"#ed7953\"],[0.7777777777777778,\"#fb9f3a\"],[0.8888888888888888,\"#fdca26\"],[1.0,\"#f0f921\"]]}],\"heatmap\":[{\"type\":\"heatmap\",\"colorbar\":{\"outlinewidth\":0,\"ticks\":\"\"},\"colorscale\":[[0.0,\"#0d0887\"],[0.1111111111111111,\"#46039f\"],[0.2222222222222222,\"#7201a8\"],[0.3333333333333333,\"#9c179e\"],[0.4444444444444444,\"#bd3786\"],[0.5555555555555556,\"#d8576b\"],[0.6666666666666666,\"#ed7953\"],[0.7777777777777778,\"#fb9f3a\"],[0.8888888888888888,\"#fdca26\"],[1.0,\"#f0f921\"]]}],\"heatmapgl\":[{\"type\":\"heatmapgl\",\"colorbar\":{\"outlinewidth\":0,\"ticks\":\"\"},\"colorscale\":[[0.0,\"#0d0887\"],[0.1111111111111111,\"#46039f\"],[0.2222222222222222,\"#7201a8\"],[0.3333333333333333,\"#9c179e\"],[0.4444444444444444,\"#bd3786\"],[0.5555555555555556,\"#d8576b\"],[0.6666666666666666,\"#ed7953\"],[0.7777777777777778,\"#fb9f3a\"],[0.8888888888888888,\"#fdca26\"],[1.0,\"#f0f921\"]]}],\"contourcarpet\":[{\"type\":\"contourcarpet\",\"colorbar\":{\"outlinewidth\":0,\"ticks\":\"\"}}],\"contour\":[{\"type\":\"contour\",\"colorbar\":{\"outlinewidth\":0,\"ticks\":\"\"},\"colorscale\":[[0.0,\"#0d0887\"],[0.1111111111111111,\"#46039f\"],[0.2222222222222222,\"#7201a8\"],[0.3333333333333333,\"#9c179e\"],[0.4444444444444444,\"#bd3786\"],[0.5555555555555556,\"#d8576b\"],[0.6666666666666666,\"#ed7953\"],[0.7777777777777778,\"#fb9f3a\"],[0.8888888888888888,\"#fdca26\"],[1.0,\"#f0f921\"]]}],\"surface\":[{\"type\":\"surface\",\"colorbar\":{\"outlinewidth\":0,\"ticks\":\"\"},\"colorscale\":[[0.0,\"#0d0887\"],[0.1111111111111111,\"#46039f\"],[0.2222222222222222,\"#7201a8\"],[0.3333333333333333,\"#9c179e\"],[0.4444444444444444,\"#bd3786\"],[0.5555555555555556,\"#d8576b\"],[0.6666666666666666,\"#ed7953\"],[0.7777777777777778,\"#fb9f3a\"],[0.8888888888888888,\"#fdca26\"],[1.0,\"#f0f921\"]]}],\"mesh3d\":[{\"type\":\"mesh3d\",\"colorbar\":{\"outlinewidth\":0,\"ticks\":\"\"}}],\"scatter\":[{\"fillpattern\":{\"fillmode\":\"overlay\",\"size\":10,\"solidity\":0.2},\"type\":\"scatter\"}],\"parcoords\":[{\"type\":\"parcoords\",\"line\":{\"colorbar\":{\"outlinewidth\":0,\"ticks\":\"\"}}}],\"scatterpolargl\":[{\"type\":\"scatterpolargl\",\"marker\":{\"colorbar\":{\"outlinewidth\":0,\"ticks\":\"\"}}}],\"bar\":[{\"error_x\":{\"color\":\"#2a3f5f\"},\"error_y\":{\"color\":\"#2a3f5f\"},\"marker\":{\"line\":{\"color\":\"#E5ECF6\",\"width\":0.5},\"pattern\":{\"fillmode\":\"overlay\",\"size\":10,\"solidity\":0.2}},\"type\":\"bar\"}],\"scattergeo\":[{\"type\":\"scattergeo\",\"marker\":{\"colorbar\":{\"outlinewidth\":0,\"ticks\":\"\"}}}],\"scatterpolar\":[{\"type\":\"scatterpolar\",\"marker\":{\"colorbar\":{\"outlinewidth\":0,\"ticks\":\"\"}}}],\"histogram\":[{\"marker\":{\"pattern\":{\"fillmode\":\"overlay\",\"size\":10,\"solidity\":0.2}},\"type\":\"histogram\"}],\"scattergl\":[{\"type\":\"scattergl\",\"marker\":{\"colorbar\":{\"outlinewidth\":0,\"ticks\":\"\"}}}],\"scatter3d\":[{\"type\":\"scatter3d\",\"line\":{\"colorbar\":{\"outlinewidth\":0,\"ticks\":\"\"}},\"marker\":{\"colorbar\":{\"outlinewidth\":0,\"ticks\":\"\"}}}],\"scattermapbox\":[{\"type\":\"scattermapbox\",\"marker\":{\"colorbar\":{\"outlinewidth\":0,\"ticks\":\"\"}}}],\"scatterternary\":[{\"type\":\"scatterternary\",\"marker\":{\"colorbar\":{\"outlinewidth\":0,\"ticks\":\"\"}}}],\"scattercarpet\":[{\"type\":\"scattercarpet\",\"marker\":{\"colorbar\":{\"outlinewidth\":0,\"ticks\":\"\"}}}],\"carpet\":[{\"aaxis\":{\"endlinecolor\":\"#2a3f5f\",\"gridcolor\":\"white\",\"linecolor\":\"white\",\"minorgridcolor\":\"white\",\"startlinecolor\":\"#2a3f5f\"},\"baxis\":{\"endlinecolor\":\"#2a3f5f\",\"gridcolor\":\"white\",\"linecolor\":\"white\",\"minorgridcolor\":\"white\",\"startlinecolor\":\"#2a3f5f\"},\"type\":\"carpet\"}],\"table\":[{\"cells\":{\"fill\":{\"color\":\"#EBF0F8\"},\"line\":{\"color\":\"white\"}},\"header\":{\"fill\":{\"color\":\"#C8D4E3\"},\"line\":{\"color\":\"white\"}},\"type\":\"table\"}],\"barpolar\":[{\"marker\":{\"line\":{\"color\":\"#E5ECF6\",\"width\":0.5},\"pattern\":{\"fillmode\":\"overlay\",\"size\":10,\"solidity\":0.2}},\"type\":\"barpolar\"}],\"pie\":[{\"automargin\":true,\"type\":\"pie\"}]},\"layout\":{\"autotypenumbers\":\"strict\",\"colorway\":[\"#636efa\",\"#EF553B\",\"#00cc96\",\"#ab63fa\",\"#FFA15A\",\"#19d3f3\",\"#FF6692\",\"#B6E880\",\"#FF97FF\",\"#FECB52\"],\"font\":{\"color\":\"#2a3f5f\"},\"hovermode\":\"closest\",\"hoverlabel\":{\"align\":\"left\"},\"paper_bgcolor\":\"white\",\"plot_bgcolor\":\"#E5ECF6\",\"polar\":{\"bgcolor\":\"#E5ECF6\",\"angularaxis\":{\"gridcolor\":\"white\",\"linecolor\":\"white\",\"ticks\":\"\"},\"radialaxis\":{\"gridcolor\":\"white\",\"linecolor\":\"white\",\"ticks\":\"\"}},\"ternary\":{\"bgcolor\":\"#E5ECF6\",\"aaxis\":{\"gridcolor\":\"white\",\"linecolor\":\"white\",\"ticks\":\"\"},\"baxis\":{\"gridcolor\":\"white\",\"linecolor\":\"white\",\"ticks\":\"\"},\"caxis\":{\"gridcolor\":\"white\",\"linecolor\":\"white\",\"ticks\":\"\"}},\"coloraxis\":{\"colorbar\":{\"outlinewidth\":0,\"ticks\":\"\"}},\"colorscale\":{\"sequential\":[[0.0,\"#0d0887\"],[0.1111111111111111,\"#46039f\"],[0.2222222222222222,\"#7201a8\"],[0.3333333333333333,\"#9c179e\"],[0.4444444444444444,\"#bd3786\"],[0.5555555555555556,\"#d8576b\"],[0.6666666666666666,\"#ed7953\"],[0.7777777777777778,\"#fb9f3a\"],[0.8888888888888888,\"#fdca26\"],[1.0,\"#f0f921\"]],\"sequentialminus\":[[0.0,\"#0d0887\"],[0.1111111111111111,\"#46039f\"],[0.2222222222222222,\"#7201a8\"],[0.3333333333333333,\"#9c179e\"],[0.4444444444444444,\"#bd3786\"],[0.5555555555555556,\"#d8576b\"],[0.6666666666666666,\"#ed7953\"],[0.7777777777777778,\"#fb9f3a\"],[0.8888888888888888,\"#fdca26\"],[1.0,\"#f0f921\"]],\"diverging\":[[0,\"#8e0152\"],[0.1,\"#c51b7d\"],[0.2,\"#de77ae\"],[0.3,\"#f1b6da\"],[0.4,\"#fde0ef\"],[0.5,\"#f7f7f7\"],[0.6,\"#e6f5d0\"],[0.7,\"#b8e186\"],[0.8,\"#7fbc41\"],[0.9,\"#4d9221\"],[1,\"#276419\"]]},\"xaxis\":{\"gridcolor\":\"white\",\"linecolor\":\"white\",\"ticks\":\"\",\"title\":{\"standoff\":15},\"zerolinecolor\":\"white\",\"automargin\":true,\"zerolinewidth\":2},\"yaxis\":{\"gridcolor\":\"white\",\"linecolor\":\"white\",\"ticks\":\"\",\"title\":{\"standoff\":15},\"zerolinecolor\":\"white\",\"automargin\":true,\"zerolinewidth\":2},\"scene\":{\"xaxis\":{\"backgroundcolor\":\"#E5ECF6\",\"gridcolor\":\"white\",\"linecolor\":\"white\",\"showbackground\":true,\"ticks\":\"\",\"zerolinecolor\":\"white\",\"gridwidth\":2},\"yaxis\":{\"backgroundcolor\":\"#E5ECF6\",\"gridcolor\":\"white\",\"linecolor\":\"white\",\"showbackground\":true,\"ticks\":\"\",\"zerolinecolor\":\"white\",\"gridwidth\":2},\"zaxis\":{\"backgroundcolor\":\"#E5ECF6\",\"gridcolor\":\"white\",\"linecolor\":\"white\",\"showbackground\":true,\"ticks\":\"\",\"zerolinecolor\":\"white\",\"gridwidth\":2}},\"shapedefaults\":{\"line\":{\"color\":\"#2a3f5f\"}},\"annotationdefaults\":{\"arrowcolor\":\"#2a3f5f\",\"arrowhead\":0,\"arrowwidth\":1},\"geo\":{\"bgcolor\":\"white\",\"landcolor\":\"#E5ECF6\",\"subunitcolor\":\"white\",\"showland\":true,\"showlakes\":true,\"lakecolor\":\"white\"},\"title\":{\"x\":0.05},\"mapbox\":{\"style\":\"light\"}}}},                        {\"responsive\": true}                    ).then(function(){\n",
       "                            \n",
       "var gd = document.getElementById('ff7fa848-cb7a-46cd-8a47-32d3cee5ecbb');\n",
       "var x = new MutationObserver(function (mutations, observer) {{\n",
       "        var display = window.getComputedStyle(gd).display;\n",
       "        if (!display || display === 'none') {{\n",
       "            console.log([gd, 'removed!']);\n",
       "            Plotly.purge(gd);\n",
       "            observer.disconnect();\n",
       "        }}\n",
       "}});\n",
       "\n",
       "// Listen for the removal of the full notebook cells\n",
       "var notebookContainer = gd.closest('#notebook-container');\n",
       "if (notebookContainer) {{\n",
       "    x.observe(notebookContainer, {childList: true});\n",
       "}}\n",
       "\n",
       "// Listen for the clearing of the current output cell\n",
       "var outputEl = gd.closest('.output');\n",
       "if (outputEl) {{\n",
       "    x.observe(outputEl, {childList: true});\n",
       "}}\n",
       "\n",
       "                        })                };                });            </script>        </div>"
      ]
     },
     "metadata": {},
     "output_type": "display_data"
    }
   ],
   "source": [
    "pyplt=py.offline.plot\n",
    "labels=list(skills_table_count_new['key_skills'])\n",
    "values=list(skills_table_count_new['count'])\n",
    "trace=[go.Pie(labels=labels,values=values)]\n",
    "layout=go.Layout(\n",
    "    title='График процентов наиболее востребованных навыков'\n",
    ")\n",
    "fig=go.Figure(data=trace,layout=layout)\n",
    "fig.show()"
   ]
  },
  {
   "cell_type": "markdown",
   "id": "3fa461f9",
   "metadata": {},
   "source": [
    "### Определим самые оплачиваемые навыки по среднему уровню зарплат и отобразим на графике"
   ]
  },
  {
   "cell_type": "code",
   "execution_count": 1223,
   "id": "7a18977d",
   "metadata": {},
   "outputs": [],
   "source": [
    "#\n",
    "skills_salary_table = skills_table.explode(\"key_skills\").groupby(\"key_skills\").mean().reset_index()\n",
    "skills_salary_table = skills_salary_table.dropna(axis=0).sort_values(by='salary_from',ascending = False)\n",
    "#skills_salary_table"
   ]
  },
  {
   "cell_type": "code",
   "execution_count": 1224,
   "id": "6275a96b",
   "metadata": {},
   "outputs": [],
   "source": [
    "def trim_string(x):\n",
    "    \"\"\"\n",
    "    отрежем первые 25 символов навыка, для красоты отображения на графике\n",
    "    \"\"\"\n",
    "    y=x[0:25]\n",
    "    return y"
   ]
  },
  {
   "cell_type": "code",
   "execution_count": 1225,
   "id": "37f8d05a",
   "metadata": {},
   "outputs": [],
   "source": [
    "skills_salary_table['key_skills']=skills_salary_table['key_skills'].apply(trim_string)"
   ]
  },
  {
   "cell_type": "code",
   "execution_count": 1226,
   "id": "ab79bf31",
   "metadata": {},
   "outputs": [],
   "source": [
    "skills_salary_table = skills_salary_table.set_index(['key_skills'])"
   ]
  },
  {
   "cell_type": "code",
   "execution_count": 1233,
   "id": "49bb0563",
   "metadata": {},
   "outputs": [],
   "source": [
    "#skills_salary_table.head(20)"
   ]
  },
  {
   "cell_type": "code",
   "execution_count": 1228,
   "id": "c61c1ee0",
   "metadata": {
    "scrolled": false
   },
   "outputs": [
    {
     "data": {
      "application/vnd.plotly.v1+json": {
       "config": {
        "plotlyServerURL": "https://plot.ly"
       },
       "data": [
        {
         "alignmentgroup": "True",
         "hovertemplate": "variable=salary_from<br>key_skills=%{x}<br>Средняя зарплата по вакансиям с навыком=%{y}<extra></extra>",
         "legendgroup": "salary_from",
         "marker": {
          "color": "#636efa",
          "pattern": {
           "shape": ""
          }
         },
         "name": "salary_from",
         "offsetgroup": "salary_from",
         "orientation": "v",
         "showlegend": true,
         "textposition": "auto",
         "type": "bar",
         "x": [
          "1С",
          "Business Correspondence",
          "Project Documentation",
          "Presentation skills",
          "Time management",
          "MS Project Expert",
          "Analytical skills",
          "MS PowerPoint",
          "Business communication",
          "Angular2..x",
          "PostgreSQL",
          "Django",
          "Английский язык",
          "Проведение тестирований",
          "GTest",
          "Умение работать в условия",
          "внимательность к деталям,",
          "Scrum",
          "С++14",
          "Высокие коммуникативные н"
         ],
         "xaxis": "x",
         "y": [
          200000,
          130000,
          130000,
          130000,
          130000,
          130000,
          130000,
          130000,
          130000,
          114000,
          90000,
          90000,
          90000,
          80000,
          80000,
          80000,
          80000,
          80000,
          80000,
          80000
         ],
         "yaxis": "y"
        }
       ],
       "layout": {
        "barmode": "relative",
        "legend": {
         "title": {
          "text": "variable"
         },
         "tracegroupgap": 0
        },
        "margin": {
         "t": 60
        },
        "showlegend": false,
        "template": {
         "data": {
          "bar": [
           {
            "error_x": {
             "color": "#2a3f5f"
            },
            "error_y": {
             "color": "#2a3f5f"
            },
            "marker": {
             "line": {
              "color": "#E5ECF6",
              "width": 0.5
             },
             "pattern": {
              "fillmode": "overlay",
              "size": 10,
              "solidity": 0.2
             }
            },
            "type": "bar"
           }
          ],
          "barpolar": [
           {
            "marker": {
             "line": {
              "color": "#E5ECF6",
              "width": 0.5
             },
             "pattern": {
              "fillmode": "overlay",
              "size": 10,
              "solidity": 0.2
             }
            },
            "type": "barpolar"
           }
          ],
          "carpet": [
           {
            "aaxis": {
             "endlinecolor": "#2a3f5f",
             "gridcolor": "white",
             "linecolor": "white",
             "minorgridcolor": "white",
             "startlinecolor": "#2a3f5f"
            },
            "baxis": {
             "endlinecolor": "#2a3f5f",
             "gridcolor": "white",
             "linecolor": "white",
             "minorgridcolor": "white",
             "startlinecolor": "#2a3f5f"
            },
            "type": "carpet"
           }
          ],
          "choropleth": [
           {
            "colorbar": {
             "outlinewidth": 0,
             "ticks": ""
            },
            "type": "choropleth"
           }
          ],
          "contour": [
           {
            "colorbar": {
             "outlinewidth": 0,
             "ticks": ""
            },
            "colorscale": [
             [
              0,
              "#0d0887"
             ],
             [
              0.1111111111111111,
              "#46039f"
             ],
             [
              0.2222222222222222,
              "#7201a8"
             ],
             [
              0.3333333333333333,
              "#9c179e"
             ],
             [
              0.4444444444444444,
              "#bd3786"
             ],
             [
              0.5555555555555556,
              "#d8576b"
             ],
             [
              0.6666666666666666,
              "#ed7953"
             ],
             [
              0.7777777777777778,
              "#fb9f3a"
             ],
             [
              0.8888888888888888,
              "#fdca26"
             ],
             [
              1,
              "#f0f921"
             ]
            ],
            "type": "contour"
           }
          ],
          "contourcarpet": [
           {
            "colorbar": {
             "outlinewidth": 0,
             "ticks": ""
            },
            "type": "contourcarpet"
           }
          ],
          "heatmap": [
           {
            "colorbar": {
             "outlinewidth": 0,
             "ticks": ""
            },
            "colorscale": [
             [
              0,
              "#0d0887"
             ],
             [
              0.1111111111111111,
              "#46039f"
             ],
             [
              0.2222222222222222,
              "#7201a8"
             ],
             [
              0.3333333333333333,
              "#9c179e"
             ],
             [
              0.4444444444444444,
              "#bd3786"
             ],
             [
              0.5555555555555556,
              "#d8576b"
             ],
             [
              0.6666666666666666,
              "#ed7953"
             ],
             [
              0.7777777777777778,
              "#fb9f3a"
             ],
             [
              0.8888888888888888,
              "#fdca26"
             ],
             [
              1,
              "#f0f921"
             ]
            ],
            "type": "heatmap"
           }
          ],
          "heatmapgl": [
           {
            "colorbar": {
             "outlinewidth": 0,
             "ticks": ""
            },
            "colorscale": [
             [
              0,
              "#0d0887"
             ],
             [
              0.1111111111111111,
              "#46039f"
             ],
             [
              0.2222222222222222,
              "#7201a8"
             ],
             [
              0.3333333333333333,
              "#9c179e"
             ],
             [
              0.4444444444444444,
              "#bd3786"
             ],
             [
              0.5555555555555556,
              "#d8576b"
             ],
             [
              0.6666666666666666,
              "#ed7953"
             ],
             [
              0.7777777777777778,
              "#fb9f3a"
             ],
             [
              0.8888888888888888,
              "#fdca26"
             ],
             [
              1,
              "#f0f921"
             ]
            ],
            "type": "heatmapgl"
           }
          ],
          "histogram": [
           {
            "marker": {
             "pattern": {
              "fillmode": "overlay",
              "size": 10,
              "solidity": 0.2
             }
            },
            "type": "histogram"
           }
          ],
          "histogram2d": [
           {
            "colorbar": {
             "outlinewidth": 0,
             "ticks": ""
            },
            "colorscale": [
             [
              0,
              "#0d0887"
             ],
             [
              0.1111111111111111,
              "#46039f"
             ],
             [
              0.2222222222222222,
              "#7201a8"
             ],
             [
              0.3333333333333333,
              "#9c179e"
             ],
             [
              0.4444444444444444,
              "#bd3786"
             ],
             [
              0.5555555555555556,
              "#d8576b"
             ],
             [
              0.6666666666666666,
              "#ed7953"
             ],
             [
              0.7777777777777778,
              "#fb9f3a"
             ],
             [
              0.8888888888888888,
              "#fdca26"
             ],
             [
              1,
              "#f0f921"
             ]
            ],
            "type": "histogram2d"
           }
          ],
          "histogram2dcontour": [
           {
            "colorbar": {
             "outlinewidth": 0,
             "ticks": ""
            },
            "colorscale": [
             [
              0,
              "#0d0887"
             ],
             [
              0.1111111111111111,
              "#46039f"
             ],
             [
              0.2222222222222222,
              "#7201a8"
             ],
             [
              0.3333333333333333,
              "#9c179e"
             ],
             [
              0.4444444444444444,
              "#bd3786"
             ],
             [
              0.5555555555555556,
              "#d8576b"
             ],
             [
              0.6666666666666666,
              "#ed7953"
             ],
             [
              0.7777777777777778,
              "#fb9f3a"
             ],
             [
              0.8888888888888888,
              "#fdca26"
             ],
             [
              1,
              "#f0f921"
             ]
            ],
            "type": "histogram2dcontour"
           }
          ],
          "mesh3d": [
           {
            "colorbar": {
             "outlinewidth": 0,
             "ticks": ""
            },
            "type": "mesh3d"
           }
          ],
          "parcoords": [
           {
            "line": {
             "colorbar": {
              "outlinewidth": 0,
              "ticks": ""
             }
            },
            "type": "parcoords"
           }
          ],
          "pie": [
           {
            "automargin": true,
            "type": "pie"
           }
          ],
          "scatter": [
           {
            "fillpattern": {
             "fillmode": "overlay",
             "size": 10,
             "solidity": 0.2
            },
            "type": "scatter"
           }
          ],
          "scatter3d": [
           {
            "line": {
             "colorbar": {
              "outlinewidth": 0,
              "ticks": ""
             }
            },
            "marker": {
             "colorbar": {
              "outlinewidth": 0,
              "ticks": ""
             }
            },
            "type": "scatter3d"
           }
          ],
          "scattercarpet": [
           {
            "marker": {
             "colorbar": {
              "outlinewidth": 0,
              "ticks": ""
             }
            },
            "type": "scattercarpet"
           }
          ],
          "scattergeo": [
           {
            "marker": {
             "colorbar": {
              "outlinewidth": 0,
              "ticks": ""
             }
            },
            "type": "scattergeo"
           }
          ],
          "scattergl": [
           {
            "marker": {
             "colorbar": {
              "outlinewidth": 0,
              "ticks": ""
             }
            },
            "type": "scattergl"
           }
          ],
          "scattermapbox": [
           {
            "marker": {
             "colorbar": {
              "outlinewidth": 0,
              "ticks": ""
             }
            },
            "type": "scattermapbox"
           }
          ],
          "scatterpolar": [
           {
            "marker": {
             "colorbar": {
              "outlinewidth": 0,
              "ticks": ""
             }
            },
            "type": "scatterpolar"
           }
          ],
          "scatterpolargl": [
           {
            "marker": {
             "colorbar": {
              "outlinewidth": 0,
              "ticks": ""
             }
            },
            "type": "scatterpolargl"
           }
          ],
          "scatterternary": [
           {
            "marker": {
             "colorbar": {
              "outlinewidth": 0,
              "ticks": ""
             }
            },
            "type": "scatterternary"
           }
          ],
          "surface": [
           {
            "colorbar": {
             "outlinewidth": 0,
             "ticks": ""
            },
            "colorscale": [
             [
              0,
              "#0d0887"
             ],
             [
              0.1111111111111111,
              "#46039f"
             ],
             [
              0.2222222222222222,
              "#7201a8"
             ],
             [
              0.3333333333333333,
              "#9c179e"
             ],
             [
              0.4444444444444444,
              "#bd3786"
             ],
             [
              0.5555555555555556,
              "#d8576b"
             ],
             [
              0.6666666666666666,
              "#ed7953"
             ],
             [
              0.7777777777777778,
              "#fb9f3a"
             ],
             [
              0.8888888888888888,
              "#fdca26"
             ],
             [
              1,
              "#f0f921"
             ]
            ],
            "type": "surface"
           }
          ],
          "table": [
           {
            "cells": {
             "fill": {
              "color": "#EBF0F8"
             },
             "line": {
              "color": "white"
             }
            },
            "header": {
             "fill": {
              "color": "#C8D4E3"
             },
             "line": {
              "color": "white"
             }
            },
            "type": "table"
           }
          ]
         },
         "layout": {
          "annotationdefaults": {
           "arrowcolor": "#2a3f5f",
           "arrowhead": 0,
           "arrowwidth": 1
          },
          "autotypenumbers": "strict",
          "coloraxis": {
           "colorbar": {
            "outlinewidth": 0,
            "ticks": ""
           }
          },
          "colorscale": {
           "diverging": [
            [
             0,
             "#8e0152"
            ],
            [
             0.1,
             "#c51b7d"
            ],
            [
             0.2,
             "#de77ae"
            ],
            [
             0.3,
             "#f1b6da"
            ],
            [
             0.4,
             "#fde0ef"
            ],
            [
             0.5,
             "#f7f7f7"
            ],
            [
             0.6,
             "#e6f5d0"
            ],
            [
             0.7,
             "#b8e186"
            ],
            [
             0.8,
             "#7fbc41"
            ],
            [
             0.9,
             "#4d9221"
            ],
            [
             1,
             "#276419"
            ]
           ],
           "sequential": [
            [
             0,
             "#0d0887"
            ],
            [
             0.1111111111111111,
             "#46039f"
            ],
            [
             0.2222222222222222,
             "#7201a8"
            ],
            [
             0.3333333333333333,
             "#9c179e"
            ],
            [
             0.4444444444444444,
             "#bd3786"
            ],
            [
             0.5555555555555556,
             "#d8576b"
            ],
            [
             0.6666666666666666,
             "#ed7953"
            ],
            [
             0.7777777777777778,
             "#fb9f3a"
            ],
            [
             0.8888888888888888,
             "#fdca26"
            ],
            [
             1,
             "#f0f921"
            ]
           ],
           "sequentialminus": [
            [
             0,
             "#0d0887"
            ],
            [
             0.1111111111111111,
             "#46039f"
            ],
            [
             0.2222222222222222,
             "#7201a8"
            ],
            [
             0.3333333333333333,
             "#9c179e"
            ],
            [
             0.4444444444444444,
             "#bd3786"
            ],
            [
             0.5555555555555556,
             "#d8576b"
            ],
            [
             0.6666666666666666,
             "#ed7953"
            ],
            [
             0.7777777777777778,
             "#fb9f3a"
            ],
            [
             0.8888888888888888,
             "#fdca26"
            ],
            [
             1,
             "#f0f921"
            ]
           ]
          },
          "colorway": [
           "#636efa",
           "#EF553B",
           "#00cc96",
           "#ab63fa",
           "#FFA15A",
           "#19d3f3",
           "#FF6692",
           "#B6E880",
           "#FF97FF",
           "#FECB52"
          ],
          "font": {
           "color": "#2a3f5f"
          },
          "geo": {
           "bgcolor": "white",
           "lakecolor": "white",
           "landcolor": "#E5ECF6",
           "showlakes": true,
           "showland": true,
           "subunitcolor": "white"
          },
          "hoverlabel": {
           "align": "left"
          },
          "hovermode": "closest",
          "mapbox": {
           "style": "light"
          },
          "paper_bgcolor": "white",
          "plot_bgcolor": "#E5ECF6",
          "polar": {
           "angularaxis": {
            "gridcolor": "white",
            "linecolor": "white",
            "ticks": ""
           },
           "bgcolor": "#E5ECF6",
           "radialaxis": {
            "gridcolor": "white",
            "linecolor": "white",
            "ticks": ""
           }
          },
          "scene": {
           "xaxis": {
            "backgroundcolor": "#E5ECF6",
            "gridcolor": "white",
            "gridwidth": 2,
            "linecolor": "white",
            "showbackground": true,
            "ticks": "",
            "zerolinecolor": "white"
           },
           "yaxis": {
            "backgroundcolor": "#E5ECF6",
            "gridcolor": "white",
            "gridwidth": 2,
            "linecolor": "white",
            "showbackground": true,
            "ticks": "",
            "zerolinecolor": "white"
           },
           "zaxis": {
            "backgroundcolor": "#E5ECF6",
            "gridcolor": "white",
            "gridwidth": 2,
            "linecolor": "white",
            "showbackground": true,
            "ticks": "",
            "zerolinecolor": "white"
           }
          },
          "shapedefaults": {
           "line": {
            "color": "#2a3f5f"
           }
          },
          "ternary": {
           "aaxis": {
            "gridcolor": "white",
            "linecolor": "white",
            "ticks": ""
           },
           "baxis": {
            "gridcolor": "white",
            "linecolor": "white",
            "ticks": ""
           },
           "bgcolor": "#E5ECF6",
           "caxis": {
            "gridcolor": "white",
            "linecolor": "white",
            "ticks": ""
           }
          },
          "title": {
           "x": 0.05
          },
          "xaxis": {
           "automargin": true,
           "gridcolor": "white",
           "linecolor": "white",
           "ticks": "",
           "title": {
            "standoff": 15
           },
           "zerolinecolor": "white",
           "zerolinewidth": 2
          },
          "yaxis": {
           "automargin": true,
           "gridcolor": "white",
           "linecolor": "white",
           "ticks": "",
           "title": {
            "standoff": 15
           },
           "zerolinecolor": "white",
           "zerolinewidth": 2
          }
         }
        },
        "xaxis": {
         "anchor": "y",
         "domain": [
          0,
          1
         ],
         "title": {
          "text": "key_skills"
         }
        },
        "yaxis": {
         "anchor": "x",
         "domain": [
          0,
          1
         ],
         "title": {
          "text": "Средняя зарплата по вакансиям с навыком"
         }
        }
       }
      },
      "text/html": [
       "<div>                            <div id=\"3408ac37-702d-4ed7-8e26-f9bd69c5f59f\" class=\"plotly-graph-div\" style=\"height:525px; width:100%;\"></div>            <script type=\"text/javascript\">                require([\"plotly\"], function(Plotly) {                    window.PLOTLYENV=window.PLOTLYENV || {};                                    if (document.getElementById(\"3408ac37-702d-4ed7-8e26-f9bd69c5f59f\")) {                    Plotly.newPlot(                        \"3408ac37-702d-4ed7-8e26-f9bd69c5f59f\",                        [{\"alignmentgroup\":\"True\",\"hovertemplate\":\"variable=salary_from<br>key_skills=%{x}<br>\\u0421\\u0440\\u0435\\u0434\\u043d\\u044f\\u044f \\u0437\\u0430\\u0440\\u043f\\u043b\\u0430\\u0442\\u0430 \\u043f\\u043e \\u0432\\u0430\\u043a\\u0430\\u043d\\u0441\\u0438\\u044f\\u043c \\u0441 \\u043d\\u0430\\u0432\\u044b\\u043a\\u043e\\u043c=%{y}<extra></extra>\",\"legendgroup\":\"salary_from\",\"marker\":{\"color\":\"#636efa\",\"pattern\":{\"shape\":\"\"}},\"name\":\"salary_from\",\"offsetgroup\":\"salary_from\",\"orientation\":\"v\",\"showlegend\":true,\"textposition\":\"auto\",\"x\":[\"1\\u0421\",\"Business Correspondence\",\"Project Documentation\",\"Presentation skills\",\"Time management\",\"MS Project Expert\",\"Analytical skills\",\"MS PowerPoint\",\"Business communication\",\"Angular2..x\",\"PostgreSQL\",\"Django\",\"\\u0410\\u043d\\u0433\\u043b\\u0438\\u0439\\u0441\\u043a\\u0438\\u0439 \\u044f\\u0437\\u044b\\u043a\",\"\\u041f\\u0440\\u043e\\u0432\\u0435\\u0434\\u0435\\u043d\\u0438\\u0435 \\u0442\\u0435\\u0441\\u0442\\u0438\\u0440\\u043e\\u0432\\u0430\\u043d\\u0438\\u0439\",\"GTest\",\"\\u0423\\u043c\\u0435\\u043d\\u0438\\u0435 \\u0440\\u0430\\u0431\\u043e\\u0442\\u0430\\u0442\\u044c \\u0432 \\u0443\\u0441\\u043b\\u043e\\u0432\\u0438\\u044f\",\"\\u0432\\u043d\\u0438\\u043c\\u0430\\u0442\\u0435\\u043b\\u044c\\u043d\\u043e\\u0441\\u0442\\u044c \\u043a \\u0434\\u0435\\u0442\\u0430\\u043b\\u044f\\u043c,\",\"Scrum\",\"\\u0421++14\",\"\\u0412\\u044b\\u0441\\u043e\\u043a\\u0438\\u0435 \\u043a\\u043e\\u043c\\u043c\\u0443\\u043d\\u0438\\u043a\\u0430\\u0442\\u0438\\u0432\\u043d\\u044b\\u0435 \\u043d\"],\"xaxis\":\"x\",\"y\":[200000.0,130000.0,130000.0,130000.0,130000.0,130000.0,130000.0,130000.0,130000.0,114000.0,90000.0,90000.0,90000.0,80000.0,80000.0,80000.0,80000.0,80000.0,80000.0,80000.0],\"yaxis\":\"y\",\"type\":\"bar\"}],                        {\"template\":{\"data\":{\"histogram2dcontour\":[{\"type\":\"histogram2dcontour\",\"colorbar\":{\"outlinewidth\":0,\"ticks\":\"\"},\"colorscale\":[[0.0,\"#0d0887\"],[0.1111111111111111,\"#46039f\"],[0.2222222222222222,\"#7201a8\"],[0.3333333333333333,\"#9c179e\"],[0.4444444444444444,\"#bd3786\"],[0.5555555555555556,\"#d8576b\"],[0.6666666666666666,\"#ed7953\"],[0.7777777777777778,\"#fb9f3a\"],[0.8888888888888888,\"#fdca26\"],[1.0,\"#f0f921\"]]}],\"choropleth\":[{\"type\":\"choropleth\",\"colorbar\":{\"outlinewidth\":0,\"ticks\":\"\"}}],\"histogram2d\":[{\"type\":\"histogram2d\",\"colorbar\":{\"outlinewidth\":0,\"ticks\":\"\"},\"colorscale\":[[0.0,\"#0d0887\"],[0.1111111111111111,\"#46039f\"],[0.2222222222222222,\"#7201a8\"],[0.3333333333333333,\"#9c179e\"],[0.4444444444444444,\"#bd3786\"],[0.5555555555555556,\"#d8576b\"],[0.6666666666666666,\"#ed7953\"],[0.7777777777777778,\"#fb9f3a\"],[0.8888888888888888,\"#fdca26\"],[1.0,\"#f0f921\"]]}],\"heatmap\":[{\"type\":\"heatmap\",\"colorbar\":{\"outlinewidth\":0,\"ticks\":\"\"},\"colorscale\":[[0.0,\"#0d0887\"],[0.1111111111111111,\"#46039f\"],[0.2222222222222222,\"#7201a8\"],[0.3333333333333333,\"#9c179e\"],[0.4444444444444444,\"#bd3786\"],[0.5555555555555556,\"#d8576b\"],[0.6666666666666666,\"#ed7953\"],[0.7777777777777778,\"#fb9f3a\"],[0.8888888888888888,\"#fdca26\"],[1.0,\"#f0f921\"]]}],\"heatmapgl\":[{\"type\":\"heatmapgl\",\"colorbar\":{\"outlinewidth\":0,\"ticks\":\"\"},\"colorscale\":[[0.0,\"#0d0887\"],[0.1111111111111111,\"#46039f\"],[0.2222222222222222,\"#7201a8\"],[0.3333333333333333,\"#9c179e\"],[0.4444444444444444,\"#bd3786\"],[0.5555555555555556,\"#d8576b\"],[0.6666666666666666,\"#ed7953\"],[0.7777777777777778,\"#fb9f3a\"],[0.8888888888888888,\"#fdca26\"],[1.0,\"#f0f921\"]]}],\"contourcarpet\":[{\"type\":\"contourcarpet\",\"colorbar\":{\"outlinewidth\":0,\"ticks\":\"\"}}],\"contour\":[{\"type\":\"contour\",\"colorbar\":{\"outlinewidth\":0,\"ticks\":\"\"},\"colorscale\":[[0.0,\"#0d0887\"],[0.1111111111111111,\"#46039f\"],[0.2222222222222222,\"#7201a8\"],[0.3333333333333333,\"#9c179e\"],[0.4444444444444444,\"#bd3786\"],[0.5555555555555556,\"#d8576b\"],[0.6666666666666666,\"#ed7953\"],[0.7777777777777778,\"#fb9f3a\"],[0.8888888888888888,\"#fdca26\"],[1.0,\"#f0f921\"]]}],\"surface\":[{\"type\":\"surface\",\"colorbar\":{\"outlinewidth\":0,\"ticks\":\"\"},\"colorscale\":[[0.0,\"#0d0887\"],[0.1111111111111111,\"#46039f\"],[0.2222222222222222,\"#7201a8\"],[0.3333333333333333,\"#9c179e\"],[0.4444444444444444,\"#bd3786\"],[0.5555555555555556,\"#d8576b\"],[0.6666666666666666,\"#ed7953\"],[0.7777777777777778,\"#fb9f3a\"],[0.8888888888888888,\"#fdca26\"],[1.0,\"#f0f921\"]]}],\"mesh3d\":[{\"type\":\"mesh3d\",\"colorbar\":{\"outlinewidth\":0,\"ticks\":\"\"}}],\"scatter\":[{\"fillpattern\":{\"fillmode\":\"overlay\",\"size\":10,\"solidity\":0.2},\"type\":\"scatter\"}],\"parcoords\":[{\"type\":\"parcoords\",\"line\":{\"colorbar\":{\"outlinewidth\":0,\"ticks\":\"\"}}}],\"scatterpolargl\":[{\"type\":\"scatterpolargl\",\"marker\":{\"colorbar\":{\"outlinewidth\":0,\"ticks\":\"\"}}}],\"bar\":[{\"error_x\":{\"color\":\"#2a3f5f\"},\"error_y\":{\"color\":\"#2a3f5f\"},\"marker\":{\"line\":{\"color\":\"#E5ECF6\",\"width\":0.5},\"pattern\":{\"fillmode\":\"overlay\",\"size\":10,\"solidity\":0.2}},\"type\":\"bar\"}],\"scattergeo\":[{\"type\":\"scattergeo\",\"marker\":{\"colorbar\":{\"outlinewidth\":0,\"ticks\":\"\"}}}],\"scatterpolar\":[{\"type\":\"scatterpolar\",\"marker\":{\"colorbar\":{\"outlinewidth\":0,\"ticks\":\"\"}}}],\"histogram\":[{\"marker\":{\"pattern\":{\"fillmode\":\"overlay\",\"size\":10,\"solidity\":0.2}},\"type\":\"histogram\"}],\"scattergl\":[{\"type\":\"scattergl\",\"marker\":{\"colorbar\":{\"outlinewidth\":0,\"ticks\":\"\"}}}],\"scatter3d\":[{\"type\":\"scatter3d\",\"line\":{\"colorbar\":{\"outlinewidth\":0,\"ticks\":\"\"}},\"marker\":{\"colorbar\":{\"outlinewidth\":0,\"ticks\":\"\"}}}],\"scattermapbox\":[{\"type\":\"scattermapbox\",\"marker\":{\"colorbar\":{\"outlinewidth\":0,\"ticks\":\"\"}}}],\"scatterternary\":[{\"type\":\"scatterternary\",\"marker\":{\"colorbar\":{\"outlinewidth\":0,\"ticks\":\"\"}}}],\"scattercarpet\":[{\"type\":\"scattercarpet\",\"marker\":{\"colorbar\":{\"outlinewidth\":0,\"ticks\":\"\"}}}],\"carpet\":[{\"aaxis\":{\"endlinecolor\":\"#2a3f5f\",\"gridcolor\":\"white\",\"linecolor\":\"white\",\"minorgridcolor\":\"white\",\"startlinecolor\":\"#2a3f5f\"},\"baxis\":{\"endlinecolor\":\"#2a3f5f\",\"gridcolor\":\"white\",\"linecolor\":\"white\",\"minorgridcolor\":\"white\",\"startlinecolor\":\"#2a3f5f\"},\"type\":\"carpet\"}],\"table\":[{\"cells\":{\"fill\":{\"color\":\"#EBF0F8\"},\"line\":{\"color\":\"white\"}},\"header\":{\"fill\":{\"color\":\"#C8D4E3\"},\"line\":{\"color\":\"white\"}},\"type\":\"table\"}],\"barpolar\":[{\"marker\":{\"line\":{\"color\":\"#E5ECF6\",\"width\":0.5},\"pattern\":{\"fillmode\":\"overlay\",\"size\":10,\"solidity\":0.2}},\"type\":\"barpolar\"}],\"pie\":[{\"automargin\":true,\"type\":\"pie\"}]},\"layout\":{\"autotypenumbers\":\"strict\",\"colorway\":[\"#636efa\",\"#EF553B\",\"#00cc96\",\"#ab63fa\",\"#FFA15A\",\"#19d3f3\",\"#FF6692\",\"#B6E880\",\"#FF97FF\",\"#FECB52\"],\"font\":{\"color\":\"#2a3f5f\"},\"hovermode\":\"closest\",\"hoverlabel\":{\"align\":\"left\"},\"paper_bgcolor\":\"white\",\"plot_bgcolor\":\"#E5ECF6\",\"polar\":{\"bgcolor\":\"#E5ECF6\",\"angularaxis\":{\"gridcolor\":\"white\",\"linecolor\":\"white\",\"ticks\":\"\"},\"radialaxis\":{\"gridcolor\":\"white\",\"linecolor\":\"white\",\"ticks\":\"\"}},\"ternary\":{\"bgcolor\":\"#E5ECF6\",\"aaxis\":{\"gridcolor\":\"white\",\"linecolor\":\"white\",\"ticks\":\"\"},\"baxis\":{\"gridcolor\":\"white\",\"linecolor\":\"white\",\"ticks\":\"\"},\"caxis\":{\"gridcolor\":\"white\",\"linecolor\":\"white\",\"ticks\":\"\"}},\"coloraxis\":{\"colorbar\":{\"outlinewidth\":0,\"ticks\":\"\"}},\"colorscale\":{\"sequential\":[[0.0,\"#0d0887\"],[0.1111111111111111,\"#46039f\"],[0.2222222222222222,\"#7201a8\"],[0.3333333333333333,\"#9c179e\"],[0.4444444444444444,\"#bd3786\"],[0.5555555555555556,\"#d8576b\"],[0.6666666666666666,\"#ed7953\"],[0.7777777777777778,\"#fb9f3a\"],[0.8888888888888888,\"#fdca26\"],[1.0,\"#f0f921\"]],\"sequentialminus\":[[0.0,\"#0d0887\"],[0.1111111111111111,\"#46039f\"],[0.2222222222222222,\"#7201a8\"],[0.3333333333333333,\"#9c179e\"],[0.4444444444444444,\"#bd3786\"],[0.5555555555555556,\"#d8576b\"],[0.6666666666666666,\"#ed7953\"],[0.7777777777777778,\"#fb9f3a\"],[0.8888888888888888,\"#fdca26\"],[1.0,\"#f0f921\"]],\"diverging\":[[0,\"#8e0152\"],[0.1,\"#c51b7d\"],[0.2,\"#de77ae\"],[0.3,\"#f1b6da\"],[0.4,\"#fde0ef\"],[0.5,\"#f7f7f7\"],[0.6,\"#e6f5d0\"],[0.7,\"#b8e186\"],[0.8,\"#7fbc41\"],[0.9,\"#4d9221\"],[1,\"#276419\"]]},\"xaxis\":{\"gridcolor\":\"white\",\"linecolor\":\"white\",\"ticks\":\"\",\"title\":{\"standoff\":15},\"zerolinecolor\":\"white\",\"automargin\":true,\"zerolinewidth\":2},\"yaxis\":{\"gridcolor\":\"white\",\"linecolor\":\"white\",\"ticks\":\"\",\"title\":{\"standoff\":15},\"zerolinecolor\":\"white\",\"automargin\":true,\"zerolinewidth\":2},\"scene\":{\"xaxis\":{\"backgroundcolor\":\"#E5ECF6\",\"gridcolor\":\"white\",\"linecolor\":\"white\",\"showbackground\":true,\"ticks\":\"\",\"zerolinecolor\":\"white\",\"gridwidth\":2},\"yaxis\":{\"backgroundcolor\":\"#E5ECF6\",\"gridcolor\":\"white\",\"linecolor\":\"white\",\"showbackground\":true,\"ticks\":\"\",\"zerolinecolor\":\"white\",\"gridwidth\":2},\"zaxis\":{\"backgroundcolor\":\"#E5ECF6\",\"gridcolor\":\"white\",\"linecolor\":\"white\",\"showbackground\":true,\"ticks\":\"\",\"zerolinecolor\":\"white\",\"gridwidth\":2}},\"shapedefaults\":{\"line\":{\"color\":\"#2a3f5f\"}},\"annotationdefaults\":{\"arrowcolor\":\"#2a3f5f\",\"arrowhead\":0,\"arrowwidth\":1},\"geo\":{\"bgcolor\":\"white\",\"landcolor\":\"#E5ECF6\",\"subunitcolor\":\"white\",\"showland\":true,\"showlakes\":true,\"lakecolor\":\"white\"},\"title\":{\"x\":0.05},\"mapbox\":{\"style\":\"light\"}}},\"xaxis\":{\"anchor\":\"y\",\"domain\":[0.0,1.0],\"title\":{\"text\":\"key_skills\"}},\"yaxis\":{\"anchor\":\"x\",\"domain\":[0.0,1.0],\"title\":{\"text\":\"\\u0421\\u0440\\u0435\\u0434\\u043d\\u044f\\u044f \\u0437\\u0430\\u0440\\u043f\\u043b\\u0430\\u0442\\u0430 \\u043f\\u043e \\u0432\\u0430\\u043a\\u0430\\u043d\\u0441\\u0438\\u044f\\u043c \\u0441 \\u043d\\u0430\\u0432\\u044b\\u043a\\u043e\\u043c\"}},\"legend\":{\"title\":{\"text\":\"variable\"},\"tracegroupgap\":0},\"margin\":{\"t\":60},\"barmode\":\"relative\",\"showlegend\":false},                        {\"responsive\": true}                    ).then(function(){\n",
       "                            \n",
       "var gd = document.getElementById('3408ac37-702d-4ed7-8e26-f9bd69c5f59f');\n",
       "var x = new MutationObserver(function (mutations, observer) {{\n",
       "        var display = window.getComputedStyle(gd).display;\n",
       "        if (!display || display === 'none') {{\n",
       "            console.log([gd, 'removed!']);\n",
       "            Plotly.purge(gd);\n",
       "            observer.disconnect();\n",
       "        }}\n",
       "}});\n",
       "\n",
       "// Listen for the removal of the full notebook cells\n",
       "var notebookContainer = gd.closest('#notebook-container');\n",
       "if (notebookContainer) {{\n",
       "    x.observe(notebookContainer, {childList: true});\n",
       "}}\n",
       "\n",
       "// Listen for the clearing of the current output cell\n",
       "var outputEl = gd.closest('.output');\n",
       "if (outputEl) {{\n",
       "    x.observe(outputEl, {childList: true});\n",
       "}}\n",
       "\n",
       "                        })                };                });            </script>        </div>"
      ]
     },
     "metadata": {},
     "output_type": "display_data"
    }
   ],
   "source": [
    "#отобразим на графике самые оплачиваемые навыки \n",
    "fig = px.bar(skills_salary_table.head(20),labels = {'skills':'Навык', 'value':'Средняя зарплата по вакансиям с навыком'})\n",
    "fig.update_layout(showlegend=False)\n",
    "fig.show()"
   ]
  },
  {
   "cell_type": "markdown",
   "id": "75da1737",
   "metadata": {},
   "source": [
    "### Вывод: за исключением 1С самыми оплачиваемыми навыками являются soft навыки (ведение документации, планирование, презентации и тд)"
   ]
  },
  {
   "cell_type": "code",
   "execution_count": null,
   "id": "77e799c8",
   "metadata": {},
   "outputs": [],
   "source": []
  },
  {
   "cell_type": "markdown",
   "id": "83a3633d",
   "metadata": {},
   "source": [
    "### Посторим график процентов наиболее оплачиваемых навыков в виде круговой диаграммы"
   ]
  },
  {
   "cell_type": "code",
   "execution_count": 1234,
   "id": "9dd0bddd",
   "metadata": {},
   "outputs": [],
   "source": [
    "\n",
    "skills_salary_table_new = skills_salary_table.head(20).copy()\n",
    "skills_salary_table_new = skills_salary_table_new.reset_index(drop = False)"
   ]
  },
  {
   "cell_type": "code",
   "execution_count": 1238,
   "id": "2f7f3b1f",
   "metadata": {},
   "outputs": [
    {
     "data": {
      "application/vnd.plotly.v1+json": {
       "config": {
        "plotlyServerURL": "https://plot.ly"
       },
       "data": [
        {
         "labels": [
          "1С",
          "Business Correspondence",
          "Project Documentation",
          "Presentation skills",
          "Time management",
          "MS Project Expert",
          "Analytical skills",
          "MS PowerPoint",
          "Business communication",
          "Angular2..x",
          "PostgreSQL",
          "Django",
          "Английский язык",
          "Проведение тестирований",
          "GTest",
          "Умение работать в условия",
          "внимательность к деталям,",
          "Scrum",
          "С++14",
          "Высокие коммуникативные н"
         ],
         "type": "pie",
         "values": [
          200000,
          130000,
          130000,
          130000,
          130000,
          130000,
          130000,
          130000,
          130000,
          114000,
          90000,
          90000,
          90000,
          80000,
          80000,
          80000,
          80000,
          80000,
          80000,
          80000
         ]
        }
       ],
       "layout": {
        "template": {
         "data": {
          "bar": [
           {
            "error_x": {
             "color": "#2a3f5f"
            },
            "error_y": {
             "color": "#2a3f5f"
            },
            "marker": {
             "line": {
              "color": "#E5ECF6",
              "width": 0.5
             },
             "pattern": {
              "fillmode": "overlay",
              "size": 10,
              "solidity": 0.2
             }
            },
            "type": "bar"
           }
          ],
          "barpolar": [
           {
            "marker": {
             "line": {
              "color": "#E5ECF6",
              "width": 0.5
             },
             "pattern": {
              "fillmode": "overlay",
              "size": 10,
              "solidity": 0.2
             }
            },
            "type": "barpolar"
           }
          ],
          "carpet": [
           {
            "aaxis": {
             "endlinecolor": "#2a3f5f",
             "gridcolor": "white",
             "linecolor": "white",
             "minorgridcolor": "white",
             "startlinecolor": "#2a3f5f"
            },
            "baxis": {
             "endlinecolor": "#2a3f5f",
             "gridcolor": "white",
             "linecolor": "white",
             "minorgridcolor": "white",
             "startlinecolor": "#2a3f5f"
            },
            "type": "carpet"
           }
          ],
          "choropleth": [
           {
            "colorbar": {
             "outlinewidth": 0,
             "ticks": ""
            },
            "type": "choropleth"
           }
          ],
          "contour": [
           {
            "colorbar": {
             "outlinewidth": 0,
             "ticks": ""
            },
            "colorscale": [
             [
              0,
              "#0d0887"
             ],
             [
              0.1111111111111111,
              "#46039f"
             ],
             [
              0.2222222222222222,
              "#7201a8"
             ],
             [
              0.3333333333333333,
              "#9c179e"
             ],
             [
              0.4444444444444444,
              "#bd3786"
             ],
             [
              0.5555555555555556,
              "#d8576b"
             ],
             [
              0.6666666666666666,
              "#ed7953"
             ],
             [
              0.7777777777777778,
              "#fb9f3a"
             ],
             [
              0.8888888888888888,
              "#fdca26"
             ],
             [
              1,
              "#f0f921"
             ]
            ],
            "type": "contour"
           }
          ],
          "contourcarpet": [
           {
            "colorbar": {
             "outlinewidth": 0,
             "ticks": ""
            },
            "type": "contourcarpet"
           }
          ],
          "heatmap": [
           {
            "colorbar": {
             "outlinewidth": 0,
             "ticks": ""
            },
            "colorscale": [
             [
              0,
              "#0d0887"
             ],
             [
              0.1111111111111111,
              "#46039f"
             ],
             [
              0.2222222222222222,
              "#7201a8"
             ],
             [
              0.3333333333333333,
              "#9c179e"
             ],
             [
              0.4444444444444444,
              "#bd3786"
             ],
             [
              0.5555555555555556,
              "#d8576b"
             ],
             [
              0.6666666666666666,
              "#ed7953"
             ],
             [
              0.7777777777777778,
              "#fb9f3a"
             ],
             [
              0.8888888888888888,
              "#fdca26"
             ],
             [
              1,
              "#f0f921"
             ]
            ],
            "type": "heatmap"
           }
          ],
          "heatmapgl": [
           {
            "colorbar": {
             "outlinewidth": 0,
             "ticks": ""
            },
            "colorscale": [
             [
              0,
              "#0d0887"
             ],
             [
              0.1111111111111111,
              "#46039f"
             ],
             [
              0.2222222222222222,
              "#7201a8"
             ],
             [
              0.3333333333333333,
              "#9c179e"
             ],
             [
              0.4444444444444444,
              "#bd3786"
             ],
             [
              0.5555555555555556,
              "#d8576b"
             ],
             [
              0.6666666666666666,
              "#ed7953"
             ],
             [
              0.7777777777777778,
              "#fb9f3a"
             ],
             [
              0.8888888888888888,
              "#fdca26"
             ],
             [
              1,
              "#f0f921"
             ]
            ],
            "type": "heatmapgl"
           }
          ],
          "histogram": [
           {
            "marker": {
             "pattern": {
              "fillmode": "overlay",
              "size": 10,
              "solidity": 0.2
             }
            },
            "type": "histogram"
           }
          ],
          "histogram2d": [
           {
            "colorbar": {
             "outlinewidth": 0,
             "ticks": ""
            },
            "colorscale": [
             [
              0,
              "#0d0887"
             ],
             [
              0.1111111111111111,
              "#46039f"
             ],
             [
              0.2222222222222222,
              "#7201a8"
             ],
             [
              0.3333333333333333,
              "#9c179e"
             ],
             [
              0.4444444444444444,
              "#bd3786"
             ],
             [
              0.5555555555555556,
              "#d8576b"
             ],
             [
              0.6666666666666666,
              "#ed7953"
             ],
             [
              0.7777777777777778,
              "#fb9f3a"
             ],
             [
              0.8888888888888888,
              "#fdca26"
             ],
             [
              1,
              "#f0f921"
             ]
            ],
            "type": "histogram2d"
           }
          ],
          "histogram2dcontour": [
           {
            "colorbar": {
             "outlinewidth": 0,
             "ticks": ""
            },
            "colorscale": [
             [
              0,
              "#0d0887"
             ],
             [
              0.1111111111111111,
              "#46039f"
             ],
             [
              0.2222222222222222,
              "#7201a8"
             ],
             [
              0.3333333333333333,
              "#9c179e"
             ],
             [
              0.4444444444444444,
              "#bd3786"
             ],
             [
              0.5555555555555556,
              "#d8576b"
             ],
             [
              0.6666666666666666,
              "#ed7953"
             ],
             [
              0.7777777777777778,
              "#fb9f3a"
             ],
             [
              0.8888888888888888,
              "#fdca26"
             ],
             [
              1,
              "#f0f921"
             ]
            ],
            "type": "histogram2dcontour"
           }
          ],
          "mesh3d": [
           {
            "colorbar": {
             "outlinewidth": 0,
             "ticks": ""
            },
            "type": "mesh3d"
           }
          ],
          "parcoords": [
           {
            "line": {
             "colorbar": {
              "outlinewidth": 0,
              "ticks": ""
             }
            },
            "type": "parcoords"
           }
          ],
          "pie": [
           {
            "automargin": true,
            "type": "pie"
           }
          ],
          "scatter": [
           {
            "fillpattern": {
             "fillmode": "overlay",
             "size": 10,
             "solidity": 0.2
            },
            "type": "scatter"
           }
          ],
          "scatter3d": [
           {
            "line": {
             "colorbar": {
              "outlinewidth": 0,
              "ticks": ""
             }
            },
            "marker": {
             "colorbar": {
              "outlinewidth": 0,
              "ticks": ""
             }
            },
            "type": "scatter3d"
           }
          ],
          "scattercarpet": [
           {
            "marker": {
             "colorbar": {
              "outlinewidth": 0,
              "ticks": ""
             }
            },
            "type": "scattercarpet"
           }
          ],
          "scattergeo": [
           {
            "marker": {
             "colorbar": {
              "outlinewidth": 0,
              "ticks": ""
             }
            },
            "type": "scattergeo"
           }
          ],
          "scattergl": [
           {
            "marker": {
             "colorbar": {
              "outlinewidth": 0,
              "ticks": ""
             }
            },
            "type": "scattergl"
           }
          ],
          "scattermapbox": [
           {
            "marker": {
             "colorbar": {
              "outlinewidth": 0,
              "ticks": ""
             }
            },
            "type": "scattermapbox"
           }
          ],
          "scatterpolar": [
           {
            "marker": {
             "colorbar": {
              "outlinewidth": 0,
              "ticks": ""
             }
            },
            "type": "scatterpolar"
           }
          ],
          "scatterpolargl": [
           {
            "marker": {
             "colorbar": {
              "outlinewidth": 0,
              "ticks": ""
             }
            },
            "type": "scatterpolargl"
           }
          ],
          "scatterternary": [
           {
            "marker": {
             "colorbar": {
              "outlinewidth": 0,
              "ticks": ""
             }
            },
            "type": "scatterternary"
           }
          ],
          "surface": [
           {
            "colorbar": {
             "outlinewidth": 0,
             "ticks": ""
            },
            "colorscale": [
             [
              0,
              "#0d0887"
             ],
             [
              0.1111111111111111,
              "#46039f"
             ],
             [
              0.2222222222222222,
              "#7201a8"
             ],
             [
              0.3333333333333333,
              "#9c179e"
             ],
             [
              0.4444444444444444,
              "#bd3786"
             ],
             [
              0.5555555555555556,
              "#d8576b"
             ],
             [
              0.6666666666666666,
              "#ed7953"
             ],
             [
              0.7777777777777778,
              "#fb9f3a"
             ],
             [
              0.8888888888888888,
              "#fdca26"
             ],
             [
              1,
              "#f0f921"
             ]
            ],
            "type": "surface"
           }
          ],
          "table": [
           {
            "cells": {
             "fill": {
              "color": "#EBF0F8"
             },
             "line": {
              "color": "white"
             }
            },
            "header": {
             "fill": {
              "color": "#C8D4E3"
             },
             "line": {
              "color": "white"
             }
            },
            "type": "table"
           }
          ]
         },
         "layout": {
          "annotationdefaults": {
           "arrowcolor": "#2a3f5f",
           "arrowhead": 0,
           "arrowwidth": 1
          },
          "autotypenumbers": "strict",
          "coloraxis": {
           "colorbar": {
            "outlinewidth": 0,
            "ticks": ""
           }
          },
          "colorscale": {
           "diverging": [
            [
             0,
             "#8e0152"
            ],
            [
             0.1,
             "#c51b7d"
            ],
            [
             0.2,
             "#de77ae"
            ],
            [
             0.3,
             "#f1b6da"
            ],
            [
             0.4,
             "#fde0ef"
            ],
            [
             0.5,
             "#f7f7f7"
            ],
            [
             0.6,
             "#e6f5d0"
            ],
            [
             0.7,
             "#b8e186"
            ],
            [
             0.8,
             "#7fbc41"
            ],
            [
             0.9,
             "#4d9221"
            ],
            [
             1,
             "#276419"
            ]
           ],
           "sequential": [
            [
             0,
             "#0d0887"
            ],
            [
             0.1111111111111111,
             "#46039f"
            ],
            [
             0.2222222222222222,
             "#7201a8"
            ],
            [
             0.3333333333333333,
             "#9c179e"
            ],
            [
             0.4444444444444444,
             "#bd3786"
            ],
            [
             0.5555555555555556,
             "#d8576b"
            ],
            [
             0.6666666666666666,
             "#ed7953"
            ],
            [
             0.7777777777777778,
             "#fb9f3a"
            ],
            [
             0.8888888888888888,
             "#fdca26"
            ],
            [
             1,
             "#f0f921"
            ]
           ],
           "sequentialminus": [
            [
             0,
             "#0d0887"
            ],
            [
             0.1111111111111111,
             "#46039f"
            ],
            [
             0.2222222222222222,
             "#7201a8"
            ],
            [
             0.3333333333333333,
             "#9c179e"
            ],
            [
             0.4444444444444444,
             "#bd3786"
            ],
            [
             0.5555555555555556,
             "#d8576b"
            ],
            [
             0.6666666666666666,
             "#ed7953"
            ],
            [
             0.7777777777777778,
             "#fb9f3a"
            ],
            [
             0.8888888888888888,
             "#fdca26"
            ],
            [
             1,
             "#f0f921"
            ]
           ]
          },
          "colorway": [
           "#636efa",
           "#EF553B",
           "#00cc96",
           "#ab63fa",
           "#FFA15A",
           "#19d3f3",
           "#FF6692",
           "#B6E880",
           "#FF97FF",
           "#FECB52"
          ],
          "font": {
           "color": "#2a3f5f"
          },
          "geo": {
           "bgcolor": "white",
           "lakecolor": "white",
           "landcolor": "#E5ECF6",
           "showlakes": true,
           "showland": true,
           "subunitcolor": "white"
          },
          "hoverlabel": {
           "align": "left"
          },
          "hovermode": "closest",
          "mapbox": {
           "style": "light"
          },
          "paper_bgcolor": "white",
          "plot_bgcolor": "#E5ECF6",
          "polar": {
           "angularaxis": {
            "gridcolor": "white",
            "linecolor": "white",
            "ticks": ""
           },
           "bgcolor": "#E5ECF6",
           "radialaxis": {
            "gridcolor": "white",
            "linecolor": "white",
            "ticks": ""
           }
          },
          "scene": {
           "xaxis": {
            "backgroundcolor": "#E5ECF6",
            "gridcolor": "white",
            "gridwidth": 2,
            "linecolor": "white",
            "showbackground": true,
            "ticks": "",
            "zerolinecolor": "white"
           },
           "yaxis": {
            "backgroundcolor": "#E5ECF6",
            "gridcolor": "white",
            "gridwidth": 2,
            "linecolor": "white",
            "showbackground": true,
            "ticks": "",
            "zerolinecolor": "white"
           },
           "zaxis": {
            "backgroundcolor": "#E5ECF6",
            "gridcolor": "white",
            "gridwidth": 2,
            "linecolor": "white",
            "showbackground": true,
            "ticks": "",
            "zerolinecolor": "white"
           }
          },
          "shapedefaults": {
           "line": {
            "color": "#2a3f5f"
           }
          },
          "ternary": {
           "aaxis": {
            "gridcolor": "white",
            "linecolor": "white",
            "ticks": ""
           },
           "baxis": {
            "gridcolor": "white",
            "linecolor": "white",
            "ticks": ""
           },
           "bgcolor": "#E5ECF6",
           "caxis": {
            "gridcolor": "white",
            "linecolor": "white",
            "ticks": ""
           }
          },
          "title": {
           "x": 0.05
          },
          "xaxis": {
           "automargin": true,
           "gridcolor": "white",
           "linecolor": "white",
           "ticks": "",
           "title": {
            "standoff": 15
           },
           "zerolinecolor": "white",
           "zerolinewidth": 2
          },
          "yaxis": {
           "automargin": true,
           "gridcolor": "white",
           "linecolor": "white",
           "ticks": "",
           "title": {
            "standoff": 15
           },
           "zerolinecolor": "white",
           "zerolinewidth": 2
          }
         }
        },
        "title": {
         "text": "График процентов наиболее оплачиваемых навыков"
        }
       }
      },
      "text/html": [
       "<div>                            <div id=\"4a5d1906-79c9-4f63-a000-c3a8efdb8ee7\" class=\"plotly-graph-div\" style=\"height:525px; width:100%;\"></div>            <script type=\"text/javascript\">                require([\"plotly\"], function(Plotly) {                    window.PLOTLYENV=window.PLOTLYENV || {};                                    if (document.getElementById(\"4a5d1906-79c9-4f63-a000-c3a8efdb8ee7\")) {                    Plotly.newPlot(                        \"4a5d1906-79c9-4f63-a000-c3a8efdb8ee7\",                        [{\"labels\":[\"1\\u0421\",\"Business Correspondence\",\"Project Documentation\",\"Presentation skills\",\"Time management\",\"MS Project Expert\",\"Analytical skills\",\"MS PowerPoint\",\"Business communication\",\"Angular2..x\",\"PostgreSQL\",\"Django\",\"\\u0410\\u043d\\u0433\\u043b\\u0438\\u0439\\u0441\\u043a\\u0438\\u0439 \\u044f\\u0437\\u044b\\u043a\",\"\\u041f\\u0440\\u043e\\u0432\\u0435\\u0434\\u0435\\u043d\\u0438\\u0435 \\u0442\\u0435\\u0441\\u0442\\u0438\\u0440\\u043e\\u0432\\u0430\\u043d\\u0438\\u0439\",\"GTest\",\"\\u0423\\u043c\\u0435\\u043d\\u0438\\u0435 \\u0440\\u0430\\u0431\\u043e\\u0442\\u0430\\u0442\\u044c \\u0432 \\u0443\\u0441\\u043b\\u043e\\u0432\\u0438\\u044f\",\"\\u0432\\u043d\\u0438\\u043c\\u0430\\u0442\\u0435\\u043b\\u044c\\u043d\\u043e\\u0441\\u0442\\u044c \\u043a \\u0434\\u0435\\u0442\\u0430\\u043b\\u044f\\u043c,\",\"Scrum\",\"\\u0421++14\",\"\\u0412\\u044b\\u0441\\u043e\\u043a\\u0438\\u0435 \\u043a\\u043e\\u043c\\u043c\\u0443\\u043d\\u0438\\u043a\\u0430\\u0442\\u0438\\u0432\\u043d\\u044b\\u0435 \\u043d\"],\"values\":[200000.0,130000.0,130000.0,130000.0,130000.0,130000.0,130000.0,130000.0,130000.0,114000.0,90000.0,90000.0,90000.0,80000.0,80000.0,80000.0,80000.0,80000.0,80000.0,80000.0],\"type\":\"pie\"}],                        {\"title\":{\"text\":\"\\u0413\\u0440\\u0430\\u0444\\u0438\\u043a \\u043f\\u0440\\u043e\\u0446\\u0435\\u043d\\u0442\\u043e\\u0432 \\u043d\\u0430\\u0438\\u0431\\u043e\\u043b\\u0435\\u0435 \\u043e\\u043f\\u043b\\u0430\\u0447\\u0438\\u0432\\u0430\\u0435\\u043c\\u044b\\u0445 \\u043d\\u0430\\u0432\\u044b\\u043a\\u043e\\u0432\"},\"template\":{\"data\":{\"histogram2dcontour\":[{\"type\":\"histogram2dcontour\",\"colorbar\":{\"outlinewidth\":0,\"ticks\":\"\"},\"colorscale\":[[0.0,\"#0d0887\"],[0.1111111111111111,\"#46039f\"],[0.2222222222222222,\"#7201a8\"],[0.3333333333333333,\"#9c179e\"],[0.4444444444444444,\"#bd3786\"],[0.5555555555555556,\"#d8576b\"],[0.6666666666666666,\"#ed7953\"],[0.7777777777777778,\"#fb9f3a\"],[0.8888888888888888,\"#fdca26\"],[1.0,\"#f0f921\"]]}],\"choropleth\":[{\"type\":\"choropleth\",\"colorbar\":{\"outlinewidth\":0,\"ticks\":\"\"}}],\"histogram2d\":[{\"type\":\"histogram2d\",\"colorbar\":{\"outlinewidth\":0,\"ticks\":\"\"},\"colorscale\":[[0.0,\"#0d0887\"],[0.1111111111111111,\"#46039f\"],[0.2222222222222222,\"#7201a8\"],[0.3333333333333333,\"#9c179e\"],[0.4444444444444444,\"#bd3786\"],[0.5555555555555556,\"#d8576b\"],[0.6666666666666666,\"#ed7953\"],[0.7777777777777778,\"#fb9f3a\"],[0.8888888888888888,\"#fdca26\"],[1.0,\"#f0f921\"]]}],\"heatmap\":[{\"type\":\"heatmap\",\"colorbar\":{\"outlinewidth\":0,\"ticks\":\"\"},\"colorscale\":[[0.0,\"#0d0887\"],[0.1111111111111111,\"#46039f\"],[0.2222222222222222,\"#7201a8\"],[0.3333333333333333,\"#9c179e\"],[0.4444444444444444,\"#bd3786\"],[0.5555555555555556,\"#d8576b\"],[0.6666666666666666,\"#ed7953\"],[0.7777777777777778,\"#fb9f3a\"],[0.8888888888888888,\"#fdca26\"],[1.0,\"#f0f921\"]]}],\"heatmapgl\":[{\"type\":\"heatmapgl\",\"colorbar\":{\"outlinewidth\":0,\"ticks\":\"\"},\"colorscale\":[[0.0,\"#0d0887\"],[0.1111111111111111,\"#46039f\"],[0.2222222222222222,\"#7201a8\"],[0.3333333333333333,\"#9c179e\"],[0.4444444444444444,\"#bd3786\"],[0.5555555555555556,\"#d8576b\"],[0.6666666666666666,\"#ed7953\"],[0.7777777777777778,\"#fb9f3a\"],[0.8888888888888888,\"#fdca26\"],[1.0,\"#f0f921\"]]}],\"contourcarpet\":[{\"type\":\"contourcarpet\",\"colorbar\":{\"outlinewidth\":0,\"ticks\":\"\"}}],\"contour\":[{\"type\":\"contour\",\"colorbar\":{\"outlinewidth\":0,\"ticks\":\"\"},\"colorscale\":[[0.0,\"#0d0887\"],[0.1111111111111111,\"#46039f\"],[0.2222222222222222,\"#7201a8\"],[0.3333333333333333,\"#9c179e\"],[0.4444444444444444,\"#bd3786\"],[0.5555555555555556,\"#d8576b\"],[0.6666666666666666,\"#ed7953\"],[0.7777777777777778,\"#fb9f3a\"],[0.8888888888888888,\"#fdca26\"],[1.0,\"#f0f921\"]]}],\"surface\":[{\"type\":\"surface\",\"colorbar\":{\"outlinewidth\":0,\"ticks\":\"\"},\"colorscale\":[[0.0,\"#0d0887\"],[0.1111111111111111,\"#46039f\"],[0.2222222222222222,\"#7201a8\"],[0.3333333333333333,\"#9c179e\"],[0.4444444444444444,\"#bd3786\"],[0.5555555555555556,\"#d8576b\"],[0.6666666666666666,\"#ed7953\"],[0.7777777777777778,\"#fb9f3a\"],[0.8888888888888888,\"#fdca26\"],[1.0,\"#f0f921\"]]}],\"mesh3d\":[{\"type\":\"mesh3d\",\"colorbar\":{\"outlinewidth\":0,\"ticks\":\"\"}}],\"scatter\":[{\"fillpattern\":{\"fillmode\":\"overlay\",\"size\":10,\"solidity\":0.2},\"type\":\"scatter\"}],\"parcoords\":[{\"type\":\"parcoords\",\"line\":{\"colorbar\":{\"outlinewidth\":0,\"ticks\":\"\"}}}],\"scatterpolargl\":[{\"type\":\"scatterpolargl\",\"marker\":{\"colorbar\":{\"outlinewidth\":0,\"ticks\":\"\"}}}],\"bar\":[{\"error_x\":{\"color\":\"#2a3f5f\"},\"error_y\":{\"color\":\"#2a3f5f\"},\"marker\":{\"line\":{\"color\":\"#E5ECF6\",\"width\":0.5},\"pattern\":{\"fillmode\":\"overlay\",\"size\":10,\"solidity\":0.2}},\"type\":\"bar\"}],\"scattergeo\":[{\"type\":\"scattergeo\",\"marker\":{\"colorbar\":{\"outlinewidth\":0,\"ticks\":\"\"}}}],\"scatterpolar\":[{\"type\":\"scatterpolar\",\"marker\":{\"colorbar\":{\"outlinewidth\":0,\"ticks\":\"\"}}}],\"histogram\":[{\"marker\":{\"pattern\":{\"fillmode\":\"overlay\",\"size\":10,\"solidity\":0.2}},\"type\":\"histogram\"}],\"scattergl\":[{\"type\":\"scattergl\",\"marker\":{\"colorbar\":{\"outlinewidth\":0,\"ticks\":\"\"}}}],\"scatter3d\":[{\"type\":\"scatter3d\",\"line\":{\"colorbar\":{\"outlinewidth\":0,\"ticks\":\"\"}},\"marker\":{\"colorbar\":{\"outlinewidth\":0,\"ticks\":\"\"}}}],\"scattermapbox\":[{\"type\":\"scattermapbox\",\"marker\":{\"colorbar\":{\"outlinewidth\":0,\"ticks\":\"\"}}}],\"scatterternary\":[{\"type\":\"scatterternary\",\"marker\":{\"colorbar\":{\"outlinewidth\":0,\"ticks\":\"\"}}}],\"scattercarpet\":[{\"type\":\"scattercarpet\",\"marker\":{\"colorbar\":{\"outlinewidth\":0,\"ticks\":\"\"}}}],\"carpet\":[{\"aaxis\":{\"endlinecolor\":\"#2a3f5f\",\"gridcolor\":\"white\",\"linecolor\":\"white\",\"minorgridcolor\":\"white\",\"startlinecolor\":\"#2a3f5f\"},\"baxis\":{\"endlinecolor\":\"#2a3f5f\",\"gridcolor\":\"white\",\"linecolor\":\"white\",\"minorgridcolor\":\"white\",\"startlinecolor\":\"#2a3f5f\"},\"type\":\"carpet\"}],\"table\":[{\"cells\":{\"fill\":{\"color\":\"#EBF0F8\"},\"line\":{\"color\":\"white\"}},\"header\":{\"fill\":{\"color\":\"#C8D4E3\"},\"line\":{\"color\":\"white\"}},\"type\":\"table\"}],\"barpolar\":[{\"marker\":{\"line\":{\"color\":\"#E5ECF6\",\"width\":0.5},\"pattern\":{\"fillmode\":\"overlay\",\"size\":10,\"solidity\":0.2}},\"type\":\"barpolar\"}],\"pie\":[{\"automargin\":true,\"type\":\"pie\"}]},\"layout\":{\"autotypenumbers\":\"strict\",\"colorway\":[\"#636efa\",\"#EF553B\",\"#00cc96\",\"#ab63fa\",\"#FFA15A\",\"#19d3f3\",\"#FF6692\",\"#B6E880\",\"#FF97FF\",\"#FECB52\"],\"font\":{\"color\":\"#2a3f5f\"},\"hovermode\":\"closest\",\"hoverlabel\":{\"align\":\"left\"},\"paper_bgcolor\":\"white\",\"plot_bgcolor\":\"#E5ECF6\",\"polar\":{\"bgcolor\":\"#E5ECF6\",\"angularaxis\":{\"gridcolor\":\"white\",\"linecolor\":\"white\",\"ticks\":\"\"},\"radialaxis\":{\"gridcolor\":\"white\",\"linecolor\":\"white\",\"ticks\":\"\"}},\"ternary\":{\"bgcolor\":\"#E5ECF6\",\"aaxis\":{\"gridcolor\":\"white\",\"linecolor\":\"white\",\"ticks\":\"\"},\"baxis\":{\"gridcolor\":\"white\",\"linecolor\":\"white\",\"ticks\":\"\"},\"caxis\":{\"gridcolor\":\"white\",\"linecolor\":\"white\",\"ticks\":\"\"}},\"coloraxis\":{\"colorbar\":{\"outlinewidth\":0,\"ticks\":\"\"}},\"colorscale\":{\"sequential\":[[0.0,\"#0d0887\"],[0.1111111111111111,\"#46039f\"],[0.2222222222222222,\"#7201a8\"],[0.3333333333333333,\"#9c179e\"],[0.4444444444444444,\"#bd3786\"],[0.5555555555555556,\"#d8576b\"],[0.6666666666666666,\"#ed7953\"],[0.7777777777777778,\"#fb9f3a\"],[0.8888888888888888,\"#fdca26\"],[1.0,\"#f0f921\"]],\"sequentialminus\":[[0.0,\"#0d0887\"],[0.1111111111111111,\"#46039f\"],[0.2222222222222222,\"#7201a8\"],[0.3333333333333333,\"#9c179e\"],[0.4444444444444444,\"#bd3786\"],[0.5555555555555556,\"#d8576b\"],[0.6666666666666666,\"#ed7953\"],[0.7777777777777778,\"#fb9f3a\"],[0.8888888888888888,\"#fdca26\"],[1.0,\"#f0f921\"]],\"diverging\":[[0,\"#8e0152\"],[0.1,\"#c51b7d\"],[0.2,\"#de77ae\"],[0.3,\"#f1b6da\"],[0.4,\"#fde0ef\"],[0.5,\"#f7f7f7\"],[0.6,\"#e6f5d0\"],[0.7,\"#b8e186\"],[0.8,\"#7fbc41\"],[0.9,\"#4d9221\"],[1,\"#276419\"]]},\"xaxis\":{\"gridcolor\":\"white\",\"linecolor\":\"white\",\"ticks\":\"\",\"title\":{\"standoff\":15},\"zerolinecolor\":\"white\",\"automargin\":true,\"zerolinewidth\":2},\"yaxis\":{\"gridcolor\":\"white\",\"linecolor\":\"white\",\"ticks\":\"\",\"title\":{\"standoff\":15},\"zerolinecolor\":\"white\",\"automargin\":true,\"zerolinewidth\":2},\"scene\":{\"xaxis\":{\"backgroundcolor\":\"#E5ECF6\",\"gridcolor\":\"white\",\"linecolor\":\"white\",\"showbackground\":true,\"ticks\":\"\",\"zerolinecolor\":\"white\",\"gridwidth\":2},\"yaxis\":{\"backgroundcolor\":\"#E5ECF6\",\"gridcolor\":\"white\",\"linecolor\":\"white\",\"showbackground\":true,\"ticks\":\"\",\"zerolinecolor\":\"white\",\"gridwidth\":2},\"zaxis\":{\"backgroundcolor\":\"#E5ECF6\",\"gridcolor\":\"white\",\"linecolor\":\"white\",\"showbackground\":true,\"ticks\":\"\",\"zerolinecolor\":\"white\",\"gridwidth\":2}},\"shapedefaults\":{\"line\":{\"color\":\"#2a3f5f\"}},\"annotationdefaults\":{\"arrowcolor\":\"#2a3f5f\",\"arrowhead\":0,\"arrowwidth\":1},\"geo\":{\"bgcolor\":\"white\",\"landcolor\":\"#E5ECF6\",\"subunitcolor\":\"white\",\"showland\":true,\"showlakes\":true,\"lakecolor\":\"white\"},\"title\":{\"x\":0.05},\"mapbox\":{\"style\":\"light\"}}}},                        {\"responsive\": true}                    ).then(function(){\n",
       "                            \n",
       "var gd = document.getElementById('4a5d1906-79c9-4f63-a000-c3a8efdb8ee7');\n",
       "var x = new MutationObserver(function (mutations, observer) {{\n",
       "        var display = window.getComputedStyle(gd).display;\n",
       "        if (!display || display === 'none') {{\n",
       "            console.log([gd, 'removed!']);\n",
       "            Plotly.purge(gd);\n",
       "            observer.disconnect();\n",
       "        }}\n",
       "}});\n",
       "\n",
       "// Listen for the removal of the full notebook cells\n",
       "var notebookContainer = gd.closest('#notebook-container');\n",
       "if (notebookContainer) {{\n",
       "    x.observe(notebookContainer, {childList: true});\n",
       "}}\n",
       "\n",
       "// Listen for the clearing of the current output cell\n",
       "var outputEl = gd.closest('.output');\n",
       "if (outputEl) {{\n",
       "    x.observe(outputEl, {childList: true});\n",
       "}}\n",
       "\n",
       "                        })                };                });            </script>        </div>"
      ]
     },
     "metadata": {},
     "output_type": "display_data"
    }
   ],
   "source": [
    "pyplt=py.offline.plot\n",
    "labels=list(skills_salary_table_new['key_skills'])\n",
    "values=list(skills_salary_table_new['salary_from'])\n",
    "trace=[go.Pie(labels=labels,values=values)]\n",
    "layout=go.Layout(\n",
    "    title='График процентов наиболее оплачиваемых навыков'\n",
    ")\n",
    "fig=go.Figure(data=trace,layout=layout)\n",
    "fig.show()"
   ]
  },
  {
   "cell_type": "markdown",
   "id": "4a842595",
   "metadata": {},
   "source": [
    "### Оценим количество вакансий по городам с навыками SQL и Python"
   ]
  },
  {
   "cell_type": "code",
   "execution_count": 1239,
   "id": "5f294f5a",
   "metadata": {},
   "outputs": [],
   "source": [
    "# \n",
    "area_table = vac_info_new.copy()\n",
    "area_table = employer_table.filter(items = [\"id\", \"employer\",\"key_skills\",\"area\"])\n",
    "area_table= employer_table.explode(\"key_skills\")\n"
   ]
  },
  {
   "cell_type": "code",
   "execution_count": 1240,
   "id": "f9764361",
   "metadata": {},
   "outputs": [],
   "source": [
    "area_table_count_sql = area_table[employer_table['key_skills']=='SQL'].groupby(['area']).count()['id']\n",
    "area_table_count_sql = pd.DataFrame(area_table_count_sql).rename(mapper = {'id':'count'}, axis = 1)\n",
    "area_table_count_sql  = area_table_count_sql.sort_values(by = 'count',ascending = False).reset_index()"
   ]
  },
  {
   "cell_type": "code",
   "execution_count": 1241,
   "id": "f0bf80ec",
   "metadata": {},
   "outputs": [],
   "source": [
    "area_table_count_Python = area_table[area_table['key_skills']=='Python'].groupby(['area']).count()['id']\n",
    "area_table_count_Python = pd.DataFrame(area_table_count_Python).rename(mapper = {'id':'count'}, axis = 1)\n",
    "area_table_count_Python  = area_table_count_Python.sort_values(by = 'count',ascending = False).reset_index()"
   ]
  },
  {
   "cell_type": "code",
   "execution_count": 1242,
   "id": "fd5e9029",
   "metadata": {
    "scrolled": false
   },
   "outputs": [
    {
     "data": {
      "application/vnd.plotly.v1+json": {
       "config": {
        "plotlyServerURL": "https://plot.ly"
       },
       "data": [
        {
         "name": "SQL",
         "type": "bar",
         "x": [
          "Нижний Новгород",
          "Москва",
          "Новосибирск",
          "Самара"
         ],
         "xaxis": "x",
         "y": [
          80,
          60,
          60,
          20
         ],
         "yaxis": "y"
        },
        {
         "name": "Python",
         "type": "bar",
         "x": [
          "Новосибирск",
          "Москва",
          "Нижний Новгород",
          "Санкт-Петербург"
         ],
         "xaxis": "x2",
         "y": [
          40,
          20,
          20,
          20
         ],
         "yaxis": "y2"
        }
       ],
       "layout": {
        "template": {
         "data": {
          "bar": [
           {
            "error_x": {
             "color": "#2a3f5f"
            },
            "error_y": {
             "color": "#2a3f5f"
            },
            "marker": {
             "line": {
              "color": "#E5ECF6",
              "width": 0.5
             },
             "pattern": {
              "fillmode": "overlay",
              "size": 10,
              "solidity": 0.2
             }
            },
            "type": "bar"
           }
          ],
          "barpolar": [
           {
            "marker": {
             "line": {
              "color": "#E5ECF6",
              "width": 0.5
             },
             "pattern": {
              "fillmode": "overlay",
              "size": 10,
              "solidity": 0.2
             }
            },
            "type": "barpolar"
           }
          ],
          "carpet": [
           {
            "aaxis": {
             "endlinecolor": "#2a3f5f",
             "gridcolor": "white",
             "linecolor": "white",
             "minorgridcolor": "white",
             "startlinecolor": "#2a3f5f"
            },
            "baxis": {
             "endlinecolor": "#2a3f5f",
             "gridcolor": "white",
             "linecolor": "white",
             "minorgridcolor": "white",
             "startlinecolor": "#2a3f5f"
            },
            "type": "carpet"
           }
          ],
          "choropleth": [
           {
            "colorbar": {
             "outlinewidth": 0,
             "ticks": ""
            },
            "type": "choropleth"
           }
          ],
          "contour": [
           {
            "colorbar": {
             "outlinewidth": 0,
             "ticks": ""
            },
            "colorscale": [
             [
              0,
              "#0d0887"
             ],
             [
              0.1111111111111111,
              "#46039f"
             ],
             [
              0.2222222222222222,
              "#7201a8"
             ],
             [
              0.3333333333333333,
              "#9c179e"
             ],
             [
              0.4444444444444444,
              "#bd3786"
             ],
             [
              0.5555555555555556,
              "#d8576b"
             ],
             [
              0.6666666666666666,
              "#ed7953"
             ],
             [
              0.7777777777777778,
              "#fb9f3a"
             ],
             [
              0.8888888888888888,
              "#fdca26"
             ],
             [
              1,
              "#f0f921"
             ]
            ],
            "type": "contour"
           }
          ],
          "contourcarpet": [
           {
            "colorbar": {
             "outlinewidth": 0,
             "ticks": ""
            },
            "type": "contourcarpet"
           }
          ],
          "heatmap": [
           {
            "colorbar": {
             "outlinewidth": 0,
             "ticks": ""
            },
            "colorscale": [
             [
              0,
              "#0d0887"
             ],
             [
              0.1111111111111111,
              "#46039f"
             ],
             [
              0.2222222222222222,
              "#7201a8"
             ],
             [
              0.3333333333333333,
              "#9c179e"
             ],
             [
              0.4444444444444444,
              "#bd3786"
             ],
             [
              0.5555555555555556,
              "#d8576b"
             ],
             [
              0.6666666666666666,
              "#ed7953"
             ],
             [
              0.7777777777777778,
              "#fb9f3a"
             ],
             [
              0.8888888888888888,
              "#fdca26"
             ],
             [
              1,
              "#f0f921"
             ]
            ],
            "type": "heatmap"
           }
          ],
          "heatmapgl": [
           {
            "colorbar": {
             "outlinewidth": 0,
             "ticks": ""
            },
            "colorscale": [
             [
              0,
              "#0d0887"
             ],
             [
              0.1111111111111111,
              "#46039f"
             ],
             [
              0.2222222222222222,
              "#7201a8"
             ],
             [
              0.3333333333333333,
              "#9c179e"
             ],
             [
              0.4444444444444444,
              "#bd3786"
             ],
             [
              0.5555555555555556,
              "#d8576b"
             ],
             [
              0.6666666666666666,
              "#ed7953"
             ],
             [
              0.7777777777777778,
              "#fb9f3a"
             ],
             [
              0.8888888888888888,
              "#fdca26"
             ],
             [
              1,
              "#f0f921"
             ]
            ],
            "type": "heatmapgl"
           }
          ],
          "histogram": [
           {
            "marker": {
             "pattern": {
              "fillmode": "overlay",
              "size": 10,
              "solidity": 0.2
             }
            },
            "type": "histogram"
           }
          ],
          "histogram2d": [
           {
            "colorbar": {
             "outlinewidth": 0,
             "ticks": ""
            },
            "colorscale": [
             [
              0,
              "#0d0887"
             ],
             [
              0.1111111111111111,
              "#46039f"
             ],
             [
              0.2222222222222222,
              "#7201a8"
             ],
             [
              0.3333333333333333,
              "#9c179e"
             ],
             [
              0.4444444444444444,
              "#bd3786"
             ],
             [
              0.5555555555555556,
              "#d8576b"
             ],
             [
              0.6666666666666666,
              "#ed7953"
             ],
             [
              0.7777777777777778,
              "#fb9f3a"
             ],
             [
              0.8888888888888888,
              "#fdca26"
             ],
             [
              1,
              "#f0f921"
             ]
            ],
            "type": "histogram2d"
           }
          ],
          "histogram2dcontour": [
           {
            "colorbar": {
             "outlinewidth": 0,
             "ticks": ""
            },
            "colorscale": [
             [
              0,
              "#0d0887"
             ],
             [
              0.1111111111111111,
              "#46039f"
             ],
             [
              0.2222222222222222,
              "#7201a8"
             ],
             [
              0.3333333333333333,
              "#9c179e"
             ],
             [
              0.4444444444444444,
              "#bd3786"
             ],
             [
              0.5555555555555556,
              "#d8576b"
             ],
             [
              0.6666666666666666,
              "#ed7953"
             ],
             [
              0.7777777777777778,
              "#fb9f3a"
             ],
             [
              0.8888888888888888,
              "#fdca26"
             ],
             [
              1,
              "#f0f921"
             ]
            ],
            "type": "histogram2dcontour"
           }
          ],
          "mesh3d": [
           {
            "colorbar": {
             "outlinewidth": 0,
             "ticks": ""
            },
            "type": "mesh3d"
           }
          ],
          "parcoords": [
           {
            "line": {
             "colorbar": {
              "outlinewidth": 0,
              "ticks": ""
             }
            },
            "type": "parcoords"
           }
          ],
          "pie": [
           {
            "automargin": true,
            "type": "pie"
           }
          ],
          "scatter": [
           {
            "fillpattern": {
             "fillmode": "overlay",
             "size": 10,
             "solidity": 0.2
            },
            "type": "scatter"
           }
          ],
          "scatter3d": [
           {
            "line": {
             "colorbar": {
              "outlinewidth": 0,
              "ticks": ""
             }
            },
            "marker": {
             "colorbar": {
              "outlinewidth": 0,
              "ticks": ""
             }
            },
            "type": "scatter3d"
           }
          ],
          "scattercarpet": [
           {
            "marker": {
             "colorbar": {
              "outlinewidth": 0,
              "ticks": ""
             }
            },
            "type": "scattercarpet"
           }
          ],
          "scattergeo": [
           {
            "marker": {
             "colorbar": {
              "outlinewidth": 0,
              "ticks": ""
             }
            },
            "type": "scattergeo"
           }
          ],
          "scattergl": [
           {
            "marker": {
             "colorbar": {
              "outlinewidth": 0,
              "ticks": ""
             }
            },
            "type": "scattergl"
           }
          ],
          "scattermapbox": [
           {
            "marker": {
             "colorbar": {
              "outlinewidth": 0,
              "ticks": ""
             }
            },
            "type": "scattermapbox"
           }
          ],
          "scatterpolar": [
           {
            "marker": {
             "colorbar": {
              "outlinewidth": 0,
              "ticks": ""
             }
            },
            "type": "scatterpolar"
           }
          ],
          "scatterpolargl": [
           {
            "marker": {
             "colorbar": {
              "outlinewidth": 0,
              "ticks": ""
             }
            },
            "type": "scatterpolargl"
           }
          ],
          "scatterternary": [
           {
            "marker": {
             "colorbar": {
              "outlinewidth": 0,
              "ticks": ""
             }
            },
            "type": "scatterternary"
           }
          ],
          "surface": [
           {
            "colorbar": {
             "outlinewidth": 0,
             "ticks": ""
            },
            "colorscale": [
             [
              0,
              "#0d0887"
             ],
             [
              0.1111111111111111,
              "#46039f"
             ],
             [
              0.2222222222222222,
              "#7201a8"
             ],
             [
              0.3333333333333333,
              "#9c179e"
             ],
             [
              0.4444444444444444,
              "#bd3786"
             ],
             [
              0.5555555555555556,
              "#d8576b"
             ],
             [
              0.6666666666666666,
              "#ed7953"
             ],
             [
              0.7777777777777778,
              "#fb9f3a"
             ],
             [
              0.8888888888888888,
              "#fdca26"
             ],
             [
              1,
              "#f0f921"
             ]
            ],
            "type": "surface"
           }
          ],
          "table": [
           {
            "cells": {
             "fill": {
              "color": "#EBF0F8"
             },
             "line": {
              "color": "white"
             }
            },
            "header": {
             "fill": {
              "color": "#C8D4E3"
             },
             "line": {
              "color": "white"
             }
            },
            "type": "table"
           }
          ]
         },
         "layout": {
          "annotationdefaults": {
           "arrowcolor": "#2a3f5f",
           "arrowhead": 0,
           "arrowwidth": 1
          },
          "autotypenumbers": "strict",
          "coloraxis": {
           "colorbar": {
            "outlinewidth": 0,
            "ticks": ""
           }
          },
          "colorscale": {
           "diverging": [
            [
             0,
             "#8e0152"
            ],
            [
             0.1,
             "#c51b7d"
            ],
            [
             0.2,
             "#de77ae"
            ],
            [
             0.3,
             "#f1b6da"
            ],
            [
             0.4,
             "#fde0ef"
            ],
            [
             0.5,
             "#f7f7f7"
            ],
            [
             0.6,
             "#e6f5d0"
            ],
            [
             0.7,
             "#b8e186"
            ],
            [
             0.8,
             "#7fbc41"
            ],
            [
             0.9,
             "#4d9221"
            ],
            [
             1,
             "#276419"
            ]
           ],
           "sequential": [
            [
             0,
             "#0d0887"
            ],
            [
             0.1111111111111111,
             "#46039f"
            ],
            [
             0.2222222222222222,
             "#7201a8"
            ],
            [
             0.3333333333333333,
             "#9c179e"
            ],
            [
             0.4444444444444444,
             "#bd3786"
            ],
            [
             0.5555555555555556,
             "#d8576b"
            ],
            [
             0.6666666666666666,
             "#ed7953"
            ],
            [
             0.7777777777777778,
             "#fb9f3a"
            ],
            [
             0.8888888888888888,
             "#fdca26"
            ],
            [
             1,
             "#f0f921"
            ]
           ],
           "sequentialminus": [
            [
             0,
             "#0d0887"
            ],
            [
             0.1111111111111111,
             "#46039f"
            ],
            [
             0.2222222222222222,
             "#7201a8"
            ],
            [
             0.3333333333333333,
             "#9c179e"
            ],
            [
             0.4444444444444444,
             "#bd3786"
            ],
            [
             0.5555555555555556,
             "#d8576b"
            ],
            [
             0.6666666666666666,
             "#ed7953"
            ],
            [
             0.7777777777777778,
             "#fb9f3a"
            ],
            [
             0.8888888888888888,
             "#fdca26"
            ],
            [
             1,
             "#f0f921"
            ]
           ]
          },
          "colorway": [
           "#636efa",
           "#EF553B",
           "#00cc96",
           "#ab63fa",
           "#FFA15A",
           "#19d3f3",
           "#FF6692",
           "#B6E880",
           "#FF97FF",
           "#FECB52"
          ],
          "font": {
           "color": "#2a3f5f"
          },
          "geo": {
           "bgcolor": "white",
           "lakecolor": "white",
           "landcolor": "#E5ECF6",
           "showlakes": true,
           "showland": true,
           "subunitcolor": "white"
          },
          "hoverlabel": {
           "align": "left"
          },
          "hovermode": "closest",
          "mapbox": {
           "style": "light"
          },
          "paper_bgcolor": "white",
          "plot_bgcolor": "#E5ECF6",
          "polar": {
           "angularaxis": {
            "gridcolor": "white",
            "linecolor": "white",
            "ticks": ""
           },
           "bgcolor": "#E5ECF6",
           "radialaxis": {
            "gridcolor": "white",
            "linecolor": "white",
            "ticks": ""
           }
          },
          "scene": {
           "xaxis": {
            "backgroundcolor": "#E5ECF6",
            "gridcolor": "white",
            "gridwidth": 2,
            "linecolor": "white",
            "showbackground": true,
            "ticks": "",
            "zerolinecolor": "white"
           },
           "yaxis": {
            "backgroundcolor": "#E5ECF6",
            "gridcolor": "white",
            "gridwidth": 2,
            "linecolor": "white",
            "showbackground": true,
            "ticks": "",
            "zerolinecolor": "white"
           },
           "zaxis": {
            "backgroundcolor": "#E5ECF6",
            "gridcolor": "white",
            "gridwidth": 2,
            "linecolor": "white",
            "showbackground": true,
            "ticks": "",
            "zerolinecolor": "white"
           }
          },
          "shapedefaults": {
           "line": {
            "color": "#2a3f5f"
           }
          },
          "ternary": {
           "aaxis": {
            "gridcolor": "white",
            "linecolor": "white",
            "ticks": ""
           },
           "baxis": {
            "gridcolor": "white",
            "linecolor": "white",
            "ticks": ""
           },
           "bgcolor": "#E5ECF6",
           "caxis": {
            "gridcolor": "white",
            "linecolor": "white",
            "ticks": ""
           }
          },
          "title": {
           "x": 0.05
          },
          "xaxis": {
           "automargin": true,
           "gridcolor": "white",
           "linecolor": "white",
           "ticks": "",
           "title": {
            "standoff": 15
           },
           "zerolinecolor": "white",
           "zerolinewidth": 2
          },
          "yaxis": {
           "automargin": true,
           "gridcolor": "white",
           "linecolor": "white",
           "ticks": "",
           "title": {
            "standoff": 15
           },
           "zerolinecolor": "white",
           "zerolinewidth": 2
          }
         }
        },
        "xaxis": {
         "anchor": "y",
         "domain": [
          0,
          1
         ]
        },
        "xaxis2": {
         "anchor": "y2",
         "domain": [
          0,
          1
         ]
        },
        "yaxis": {
         "anchor": "x",
         "domain": [
          0.575,
          1
         ]
        },
        "yaxis2": {
         "anchor": "x2",
         "domain": [
          0,
          0.425
         ]
        }
       }
      },
      "text/html": [
       "<div>                            <div id=\"e58dd858-3c3f-4bfd-ba09-5e0eb7d14eb5\" class=\"plotly-graph-div\" style=\"height:525px; width:100%;\"></div>            <script type=\"text/javascript\">                require([\"plotly\"], function(Plotly) {                    window.PLOTLYENV=window.PLOTLYENV || {};                                    if (document.getElementById(\"e58dd858-3c3f-4bfd-ba09-5e0eb7d14eb5\")) {                    Plotly.newPlot(                        \"e58dd858-3c3f-4bfd-ba09-5e0eb7d14eb5\",                        [{\"name\":\"SQL\",\"x\":[\"\\u041d\\u0438\\u0436\\u043d\\u0438\\u0439 \\u041d\\u043e\\u0432\\u0433\\u043e\\u0440\\u043e\\u0434\",\"\\u041c\\u043e\\u0441\\u043a\\u0432\\u0430\",\"\\u041d\\u043e\\u0432\\u043e\\u0441\\u0438\\u0431\\u0438\\u0440\\u0441\\u043a\",\"\\u0421\\u0430\\u043c\\u0430\\u0440\\u0430\"],\"y\":[80,60,60,20],\"type\":\"bar\",\"xaxis\":\"x\",\"yaxis\":\"y\"},{\"name\":\"Python\",\"x\":[\"\\u041d\\u043e\\u0432\\u043e\\u0441\\u0438\\u0431\\u0438\\u0440\\u0441\\u043a\",\"\\u041c\\u043e\\u0441\\u043a\\u0432\\u0430\",\"\\u041d\\u0438\\u0436\\u043d\\u0438\\u0439 \\u041d\\u043e\\u0432\\u0433\\u043e\\u0440\\u043e\\u0434\",\"\\u0421\\u0430\\u043d\\u043a\\u0442-\\u041f\\u0435\\u0442\\u0435\\u0440\\u0431\\u0443\\u0440\\u0433\"],\"y\":[40,20,20,20],\"type\":\"bar\",\"xaxis\":\"x2\",\"yaxis\":\"y2\"}],                        {\"template\":{\"data\":{\"histogram2dcontour\":[{\"type\":\"histogram2dcontour\",\"colorbar\":{\"outlinewidth\":0,\"ticks\":\"\"},\"colorscale\":[[0.0,\"#0d0887\"],[0.1111111111111111,\"#46039f\"],[0.2222222222222222,\"#7201a8\"],[0.3333333333333333,\"#9c179e\"],[0.4444444444444444,\"#bd3786\"],[0.5555555555555556,\"#d8576b\"],[0.6666666666666666,\"#ed7953\"],[0.7777777777777778,\"#fb9f3a\"],[0.8888888888888888,\"#fdca26\"],[1.0,\"#f0f921\"]]}],\"choropleth\":[{\"type\":\"choropleth\",\"colorbar\":{\"outlinewidth\":0,\"ticks\":\"\"}}],\"histogram2d\":[{\"type\":\"histogram2d\",\"colorbar\":{\"outlinewidth\":0,\"ticks\":\"\"},\"colorscale\":[[0.0,\"#0d0887\"],[0.1111111111111111,\"#46039f\"],[0.2222222222222222,\"#7201a8\"],[0.3333333333333333,\"#9c179e\"],[0.4444444444444444,\"#bd3786\"],[0.5555555555555556,\"#d8576b\"],[0.6666666666666666,\"#ed7953\"],[0.7777777777777778,\"#fb9f3a\"],[0.8888888888888888,\"#fdca26\"],[1.0,\"#f0f921\"]]}],\"heatmap\":[{\"type\":\"heatmap\",\"colorbar\":{\"outlinewidth\":0,\"ticks\":\"\"},\"colorscale\":[[0.0,\"#0d0887\"],[0.1111111111111111,\"#46039f\"],[0.2222222222222222,\"#7201a8\"],[0.3333333333333333,\"#9c179e\"],[0.4444444444444444,\"#bd3786\"],[0.5555555555555556,\"#d8576b\"],[0.6666666666666666,\"#ed7953\"],[0.7777777777777778,\"#fb9f3a\"],[0.8888888888888888,\"#fdca26\"],[1.0,\"#f0f921\"]]}],\"heatmapgl\":[{\"type\":\"heatmapgl\",\"colorbar\":{\"outlinewidth\":0,\"ticks\":\"\"},\"colorscale\":[[0.0,\"#0d0887\"],[0.1111111111111111,\"#46039f\"],[0.2222222222222222,\"#7201a8\"],[0.3333333333333333,\"#9c179e\"],[0.4444444444444444,\"#bd3786\"],[0.5555555555555556,\"#d8576b\"],[0.6666666666666666,\"#ed7953\"],[0.7777777777777778,\"#fb9f3a\"],[0.8888888888888888,\"#fdca26\"],[1.0,\"#f0f921\"]]}],\"contourcarpet\":[{\"type\":\"contourcarpet\",\"colorbar\":{\"outlinewidth\":0,\"ticks\":\"\"}}],\"contour\":[{\"type\":\"contour\",\"colorbar\":{\"outlinewidth\":0,\"ticks\":\"\"},\"colorscale\":[[0.0,\"#0d0887\"],[0.1111111111111111,\"#46039f\"],[0.2222222222222222,\"#7201a8\"],[0.3333333333333333,\"#9c179e\"],[0.4444444444444444,\"#bd3786\"],[0.5555555555555556,\"#d8576b\"],[0.6666666666666666,\"#ed7953\"],[0.7777777777777778,\"#fb9f3a\"],[0.8888888888888888,\"#fdca26\"],[1.0,\"#f0f921\"]]}],\"surface\":[{\"type\":\"surface\",\"colorbar\":{\"outlinewidth\":0,\"ticks\":\"\"},\"colorscale\":[[0.0,\"#0d0887\"],[0.1111111111111111,\"#46039f\"],[0.2222222222222222,\"#7201a8\"],[0.3333333333333333,\"#9c179e\"],[0.4444444444444444,\"#bd3786\"],[0.5555555555555556,\"#d8576b\"],[0.6666666666666666,\"#ed7953\"],[0.7777777777777778,\"#fb9f3a\"],[0.8888888888888888,\"#fdca26\"],[1.0,\"#f0f921\"]]}],\"mesh3d\":[{\"type\":\"mesh3d\",\"colorbar\":{\"outlinewidth\":0,\"ticks\":\"\"}}],\"scatter\":[{\"fillpattern\":{\"fillmode\":\"overlay\",\"size\":10,\"solidity\":0.2},\"type\":\"scatter\"}],\"parcoords\":[{\"type\":\"parcoords\",\"line\":{\"colorbar\":{\"outlinewidth\":0,\"ticks\":\"\"}}}],\"scatterpolargl\":[{\"type\":\"scatterpolargl\",\"marker\":{\"colorbar\":{\"outlinewidth\":0,\"ticks\":\"\"}}}],\"bar\":[{\"error_x\":{\"color\":\"#2a3f5f\"},\"error_y\":{\"color\":\"#2a3f5f\"},\"marker\":{\"line\":{\"color\":\"#E5ECF6\",\"width\":0.5},\"pattern\":{\"fillmode\":\"overlay\",\"size\":10,\"solidity\":0.2}},\"type\":\"bar\"}],\"scattergeo\":[{\"type\":\"scattergeo\",\"marker\":{\"colorbar\":{\"outlinewidth\":0,\"ticks\":\"\"}}}],\"scatterpolar\":[{\"type\":\"scatterpolar\",\"marker\":{\"colorbar\":{\"outlinewidth\":0,\"ticks\":\"\"}}}],\"histogram\":[{\"marker\":{\"pattern\":{\"fillmode\":\"overlay\",\"size\":10,\"solidity\":0.2}},\"type\":\"histogram\"}],\"scattergl\":[{\"type\":\"scattergl\",\"marker\":{\"colorbar\":{\"outlinewidth\":0,\"ticks\":\"\"}}}],\"scatter3d\":[{\"type\":\"scatter3d\",\"line\":{\"colorbar\":{\"outlinewidth\":0,\"ticks\":\"\"}},\"marker\":{\"colorbar\":{\"outlinewidth\":0,\"ticks\":\"\"}}}],\"scattermapbox\":[{\"type\":\"scattermapbox\",\"marker\":{\"colorbar\":{\"outlinewidth\":0,\"ticks\":\"\"}}}],\"scatterternary\":[{\"type\":\"scatterternary\",\"marker\":{\"colorbar\":{\"outlinewidth\":0,\"ticks\":\"\"}}}],\"scattercarpet\":[{\"type\":\"scattercarpet\",\"marker\":{\"colorbar\":{\"outlinewidth\":0,\"ticks\":\"\"}}}],\"carpet\":[{\"aaxis\":{\"endlinecolor\":\"#2a3f5f\",\"gridcolor\":\"white\",\"linecolor\":\"white\",\"minorgridcolor\":\"white\",\"startlinecolor\":\"#2a3f5f\"},\"baxis\":{\"endlinecolor\":\"#2a3f5f\",\"gridcolor\":\"white\",\"linecolor\":\"white\",\"minorgridcolor\":\"white\",\"startlinecolor\":\"#2a3f5f\"},\"type\":\"carpet\"}],\"table\":[{\"cells\":{\"fill\":{\"color\":\"#EBF0F8\"},\"line\":{\"color\":\"white\"}},\"header\":{\"fill\":{\"color\":\"#C8D4E3\"},\"line\":{\"color\":\"white\"}},\"type\":\"table\"}],\"barpolar\":[{\"marker\":{\"line\":{\"color\":\"#E5ECF6\",\"width\":0.5},\"pattern\":{\"fillmode\":\"overlay\",\"size\":10,\"solidity\":0.2}},\"type\":\"barpolar\"}],\"pie\":[{\"automargin\":true,\"type\":\"pie\"}]},\"layout\":{\"autotypenumbers\":\"strict\",\"colorway\":[\"#636efa\",\"#EF553B\",\"#00cc96\",\"#ab63fa\",\"#FFA15A\",\"#19d3f3\",\"#FF6692\",\"#B6E880\",\"#FF97FF\",\"#FECB52\"],\"font\":{\"color\":\"#2a3f5f\"},\"hovermode\":\"closest\",\"hoverlabel\":{\"align\":\"left\"},\"paper_bgcolor\":\"white\",\"plot_bgcolor\":\"#E5ECF6\",\"polar\":{\"bgcolor\":\"#E5ECF6\",\"angularaxis\":{\"gridcolor\":\"white\",\"linecolor\":\"white\",\"ticks\":\"\"},\"radialaxis\":{\"gridcolor\":\"white\",\"linecolor\":\"white\",\"ticks\":\"\"}},\"ternary\":{\"bgcolor\":\"#E5ECF6\",\"aaxis\":{\"gridcolor\":\"white\",\"linecolor\":\"white\",\"ticks\":\"\"},\"baxis\":{\"gridcolor\":\"white\",\"linecolor\":\"white\",\"ticks\":\"\"},\"caxis\":{\"gridcolor\":\"white\",\"linecolor\":\"white\",\"ticks\":\"\"}},\"coloraxis\":{\"colorbar\":{\"outlinewidth\":0,\"ticks\":\"\"}},\"colorscale\":{\"sequential\":[[0.0,\"#0d0887\"],[0.1111111111111111,\"#46039f\"],[0.2222222222222222,\"#7201a8\"],[0.3333333333333333,\"#9c179e\"],[0.4444444444444444,\"#bd3786\"],[0.5555555555555556,\"#d8576b\"],[0.6666666666666666,\"#ed7953\"],[0.7777777777777778,\"#fb9f3a\"],[0.8888888888888888,\"#fdca26\"],[1.0,\"#f0f921\"]],\"sequentialminus\":[[0.0,\"#0d0887\"],[0.1111111111111111,\"#46039f\"],[0.2222222222222222,\"#7201a8\"],[0.3333333333333333,\"#9c179e\"],[0.4444444444444444,\"#bd3786\"],[0.5555555555555556,\"#d8576b\"],[0.6666666666666666,\"#ed7953\"],[0.7777777777777778,\"#fb9f3a\"],[0.8888888888888888,\"#fdca26\"],[1.0,\"#f0f921\"]],\"diverging\":[[0,\"#8e0152\"],[0.1,\"#c51b7d\"],[0.2,\"#de77ae\"],[0.3,\"#f1b6da\"],[0.4,\"#fde0ef\"],[0.5,\"#f7f7f7\"],[0.6,\"#e6f5d0\"],[0.7,\"#b8e186\"],[0.8,\"#7fbc41\"],[0.9,\"#4d9221\"],[1,\"#276419\"]]},\"xaxis\":{\"gridcolor\":\"white\",\"linecolor\":\"white\",\"ticks\":\"\",\"title\":{\"standoff\":15},\"zerolinecolor\":\"white\",\"automargin\":true,\"zerolinewidth\":2},\"yaxis\":{\"gridcolor\":\"white\",\"linecolor\":\"white\",\"ticks\":\"\",\"title\":{\"standoff\":15},\"zerolinecolor\":\"white\",\"automargin\":true,\"zerolinewidth\":2},\"scene\":{\"xaxis\":{\"backgroundcolor\":\"#E5ECF6\",\"gridcolor\":\"white\",\"linecolor\":\"white\",\"showbackground\":true,\"ticks\":\"\",\"zerolinecolor\":\"white\",\"gridwidth\":2},\"yaxis\":{\"backgroundcolor\":\"#E5ECF6\",\"gridcolor\":\"white\",\"linecolor\":\"white\",\"showbackground\":true,\"ticks\":\"\",\"zerolinecolor\":\"white\",\"gridwidth\":2},\"zaxis\":{\"backgroundcolor\":\"#E5ECF6\",\"gridcolor\":\"white\",\"linecolor\":\"white\",\"showbackground\":true,\"ticks\":\"\",\"zerolinecolor\":\"white\",\"gridwidth\":2}},\"shapedefaults\":{\"line\":{\"color\":\"#2a3f5f\"}},\"annotationdefaults\":{\"arrowcolor\":\"#2a3f5f\",\"arrowhead\":0,\"arrowwidth\":1},\"geo\":{\"bgcolor\":\"white\",\"landcolor\":\"#E5ECF6\",\"subunitcolor\":\"white\",\"showland\":true,\"showlakes\":true,\"lakecolor\":\"white\"},\"title\":{\"x\":0.05},\"mapbox\":{\"style\":\"light\"}}},\"xaxis\":{\"anchor\":\"y\",\"domain\":[0.0,1.0]},\"yaxis\":{\"anchor\":\"x\",\"domain\":[0.575,1.0]},\"xaxis2\":{\"anchor\":\"y2\",\"domain\":[0.0,1.0]},\"yaxis2\":{\"anchor\":\"x2\",\"domain\":[0.0,0.425]}},                        {\"responsive\": true}                    ).then(function(){\n",
       "                            \n",
       "var gd = document.getElementById('e58dd858-3c3f-4bfd-ba09-5e0eb7d14eb5');\n",
       "var x = new MutationObserver(function (mutations, observer) {{\n",
       "        var display = window.getComputedStyle(gd).display;\n",
       "        if (!display || display === 'none') {{\n",
       "            console.log([gd, 'removed!']);\n",
       "            Plotly.purge(gd);\n",
       "            observer.disconnect();\n",
       "        }}\n",
       "}});\n",
       "\n",
       "// Listen for the removal of the full notebook cells\n",
       "var notebookContainer = gd.closest('#notebook-container');\n",
       "if (notebookContainer) {{\n",
       "    x.observe(notebookContainer, {childList: true});\n",
       "}}\n",
       "\n",
       "// Listen for the clearing of the current output cell\n",
       "var outputEl = gd.closest('.output');\n",
       "if (outputEl) {{\n",
       "    x.observe(outputEl, {childList: true});\n",
       "}}\n",
       "\n",
       "                        })                };                });            </script>        </div>"
      ]
     },
     "metadata": {},
     "output_type": "display_data"
    }
   ],
   "source": [
    "# отобразим на графике\n",
    "fig = make_subplots(rows=2, cols=1, shared_yaxes=False)\n",
    "\n",
    "fig.add_trace(go.Bar(x = area_table_count_sql['area'], \n",
    "                     y = area_table_count_sql['count'],  \n",
    "                     name='SQL'),\n",
    "              1, 1)\n",
    "\n",
    "fig.add_trace(go.Bar(x = area_table_count_Python['area'], \n",
    "                     y = area_table_count_Python['count'],  \n",
    "                     name='Python'),\n",
    "              2, 1)\n",
    "\n",
    "    \n",
    "fig.show()"
   ]
  },
  {
   "cell_type": "markdown",
   "id": "d4193413",
   "metadata": {},
   "source": [
    "### Вывод: как видим навыки очень востребованы за пределами двух столиц"
   ]
  },
  {
   "cell_type": "code",
   "execution_count": 1243,
   "id": "137f3cb6",
   "metadata": {},
   "outputs": [],
   "source": [
    "# хотел посмотреть по компаниям, но к сожалению как то так получилось что в основном по 20 вакансий от каждой компании\n",
    "# и график просто ровный, не красивый. Так же пытался покрутить данные по навыкам в этих компаниях, их тоже по 20\n",
    "# не интрестно. Ниже специально оставляю кусок вывода при разбивке, чтобы наглядно показать, что не интерестно"
   ]
  },
  {
   "cell_type": "code",
   "execution_count": 1244,
   "id": "fc6c27b9",
   "metadata": {},
   "outputs": [],
   "source": [
    "area_skills_table = vac_info_new.copy()\n",
    "area_skills_table = area_skills_table.filter(items = [\"id\", \"employer\",\"key_skills\",\"area\"])\n",
    "area_skills_table = area_skills_table.explode(\"key_skills\")\n",
    "area_skills_table_count = area_skills_table.groupby(['employer', 'key_skills']).count()['id']"
   ]
  },
  {
   "cell_type": "code",
   "execution_count": 1245,
   "id": "ebc5602c",
   "metadata": {
    "scrolled": true
   },
   "outputs": [
    {
     "data": {
      "text/plain": [
       "employer                     key_skills                 \n",
       "2ГИС                         Docker                         20\n",
       "                             Postman                        20\n",
       "                             REST API                       20\n",
       "                             Swagger                        20\n",
       "                             Unix                           20\n",
       "                                                            ..\n",
       "Центр финансовых технологий  SQL                            20\n",
       "                             Интеграционное тестирование    20\n",
       "                             Теория тестирования            20\n",
       "                             Тестирование                   20\n",
       "                             Тестирование backend           20\n",
       "Name: id, Length: 219, dtype: int64"
      ]
     },
     "execution_count": 1245,
     "metadata": {},
     "output_type": "execute_result"
    }
   ],
   "source": [
    "area_skills_table_count"
   ]
  },
  {
   "cell_type": "code",
   "execution_count": null,
   "id": "8d827849",
   "metadata": {},
   "outputs": [],
   "source": []
  },
  {
   "cell_type": "markdown",
   "id": "108191bb",
   "metadata": {},
   "source": [
    "### Оценим возможности работы на удаленке по городам"
   ]
  },
  {
   "cell_type": "code",
   "execution_count": 1247,
   "id": "cc88bc55",
   "metadata": {},
   "outputs": [],
   "source": [
    "UD_table = vac_info_new.copy()\n",
    "UD_table = UD_table.filter(items = [\"id\", \"employer\",\"schedule\",\"area\"])\n",
    "#UD_table_count = UD_table.groupby(['area','schedule']).count()['id']"
   ]
  },
  {
   "cell_type": "code",
   "execution_count": 1248,
   "id": "223c7ed9",
   "metadata": {},
   "outputs": [],
   "source": [
    "Office_table_count = UD_table[UD_table['schedule']=='Полный день'].groupby(['area']).count()['id']\n",
    "Office_table_count = pd.DataFrame(Office_table_count).rename(mapper = {'id':'count'}, axis = 1)\n",
    "Office_table_count  = Office_table_count.sort_values(by = 'count',ascending = False).reset_index()"
   ]
  },
  {
   "cell_type": "code",
   "execution_count": 1249,
   "id": "c4e26fda",
   "metadata": {},
   "outputs": [],
   "source": [
    "Gib_table_count = UD_table[UD_table['schedule']=='Гибкий график'].groupby(['area']).count()['id']\n",
    "Gib_table_count = pd.DataFrame(Gib_table_count).rename(mapper = {'id':'count'}, axis = 1)\n",
    "Gib_table_count  = Gib_table_count.sort_values(by = 'count',ascending = False).reset_index()"
   ]
  },
  {
   "cell_type": "code",
   "execution_count": 1250,
   "id": "781522dc",
   "metadata": {},
   "outputs": [],
   "source": [
    "UD_table_count = UD_table[UD_table['schedule']=='Удаленная работа'].groupby(['area']).count()['id']\n",
    "UD_table_count = pd.DataFrame(UD_table_count ).rename(mapper = {'id':'count'}, axis = 1)\n",
    "UD_table_count = UD_table_count .sort_values(by = 'count',ascending = False).reset_index()"
   ]
  },
  {
   "cell_type": "code",
   "execution_count": 1251,
   "id": "86dc7492",
   "metadata": {},
   "outputs": [
    {
     "data": {
      "application/vnd.plotly.v1+json": {
       "config": {
        "plotlyServerURL": "https://plot.ly"
       },
       "data": [
        {
         "name": "Полный день",
         "type": "bar",
         "x": [
          "Москва",
          "Нижний Новгород",
          "Санкт-Петербург",
          "Екатеринбург",
          "Новосибирск",
          "Самара",
          "Тула"
         ],
         "xaxis": "x",
         "y": [
          280,
          180,
          180,
          80,
          40,
          40,
          20
         ],
         "yaxis": "y"
        },
        {
         "name": "Гибкий график",
         "type": "bar",
         "x": [
          "Москва",
          "Новосибирск",
          "Тула"
         ],
         "xaxis": "x",
         "y": [
          20,
          20,
          20
         ],
         "yaxis": "y"
        },
        {
         "name": "Удаленная работа",
         "type": "bar",
         "x": [
          "Нижний Новгород",
          "Новосибирск",
          "Санкт-Петербург",
          "Тула",
          "Москва",
          "Самара"
         ],
         "xaxis": "x",
         "y": [
          60,
          60,
          40,
          40,
          20,
          20
         ],
         "yaxis": "y"
        }
       ],
       "layout": {
        "template": {
         "data": {
          "bar": [
           {
            "error_x": {
             "color": "#2a3f5f"
            },
            "error_y": {
             "color": "#2a3f5f"
            },
            "marker": {
             "line": {
              "color": "#E5ECF6",
              "width": 0.5
             },
             "pattern": {
              "fillmode": "overlay",
              "size": 10,
              "solidity": 0.2
             }
            },
            "type": "bar"
           }
          ],
          "barpolar": [
           {
            "marker": {
             "line": {
              "color": "#E5ECF6",
              "width": 0.5
             },
             "pattern": {
              "fillmode": "overlay",
              "size": 10,
              "solidity": 0.2
             }
            },
            "type": "barpolar"
           }
          ],
          "carpet": [
           {
            "aaxis": {
             "endlinecolor": "#2a3f5f",
             "gridcolor": "white",
             "linecolor": "white",
             "minorgridcolor": "white",
             "startlinecolor": "#2a3f5f"
            },
            "baxis": {
             "endlinecolor": "#2a3f5f",
             "gridcolor": "white",
             "linecolor": "white",
             "minorgridcolor": "white",
             "startlinecolor": "#2a3f5f"
            },
            "type": "carpet"
           }
          ],
          "choropleth": [
           {
            "colorbar": {
             "outlinewidth": 0,
             "ticks": ""
            },
            "type": "choropleth"
           }
          ],
          "contour": [
           {
            "colorbar": {
             "outlinewidth": 0,
             "ticks": ""
            },
            "colorscale": [
             [
              0,
              "#0d0887"
             ],
             [
              0.1111111111111111,
              "#46039f"
             ],
             [
              0.2222222222222222,
              "#7201a8"
             ],
             [
              0.3333333333333333,
              "#9c179e"
             ],
             [
              0.4444444444444444,
              "#bd3786"
             ],
             [
              0.5555555555555556,
              "#d8576b"
             ],
             [
              0.6666666666666666,
              "#ed7953"
             ],
             [
              0.7777777777777778,
              "#fb9f3a"
             ],
             [
              0.8888888888888888,
              "#fdca26"
             ],
             [
              1,
              "#f0f921"
             ]
            ],
            "type": "contour"
           }
          ],
          "contourcarpet": [
           {
            "colorbar": {
             "outlinewidth": 0,
             "ticks": ""
            },
            "type": "contourcarpet"
           }
          ],
          "heatmap": [
           {
            "colorbar": {
             "outlinewidth": 0,
             "ticks": ""
            },
            "colorscale": [
             [
              0,
              "#0d0887"
             ],
             [
              0.1111111111111111,
              "#46039f"
             ],
             [
              0.2222222222222222,
              "#7201a8"
             ],
             [
              0.3333333333333333,
              "#9c179e"
             ],
             [
              0.4444444444444444,
              "#bd3786"
             ],
             [
              0.5555555555555556,
              "#d8576b"
             ],
             [
              0.6666666666666666,
              "#ed7953"
             ],
             [
              0.7777777777777778,
              "#fb9f3a"
             ],
             [
              0.8888888888888888,
              "#fdca26"
             ],
             [
              1,
              "#f0f921"
             ]
            ],
            "type": "heatmap"
           }
          ],
          "heatmapgl": [
           {
            "colorbar": {
             "outlinewidth": 0,
             "ticks": ""
            },
            "colorscale": [
             [
              0,
              "#0d0887"
             ],
             [
              0.1111111111111111,
              "#46039f"
             ],
             [
              0.2222222222222222,
              "#7201a8"
             ],
             [
              0.3333333333333333,
              "#9c179e"
             ],
             [
              0.4444444444444444,
              "#bd3786"
             ],
             [
              0.5555555555555556,
              "#d8576b"
             ],
             [
              0.6666666666666666,
              "#ed7953"
             ],
             [
              0.7777777777777778,
              "#fb9f3a"
             ],
             [
              0.8888888888888888,
              "#fdca26"
             ],
             [
              1,
              "#f0f921"
             ]
            ],
            "type": "heatmapgl"
           }
          ],
          "histogram": [
           {
            "marker": {
             "pattern": {
              "fillmode": "overlay",
              "size": 10,
              "solidity": 0.2
             }
            },
            "type": "histogram"
           }
          ],
          "histogram2d": [
           {
            "colorbar": {
             "outlinewidth": 0,
             "ticks": ""
            },
            "colorscale": [
             [
              0,
              "#0d0887"
             ],
             [
              0.1111111111111111,
              "#46039f"
             ],
             [
              0.2222222222222222,
              "#7201a8"
             ],
             [
              0.3333333333333333,
              "#9c179e"
             ],
             [
              0.4444444444444444,
              "#bd3786"
             ],
             [
              0.5555555555555556,
              "#d8576b"
             ],
             [
              0.6666666666666666,
              "#ed7953"
             ],
             [
              0.7777777777777778,
              "#fb9f3a"
             ],
             [
              0.8888888888888888,
              "#fdca26"
             ],
             [
              1,
              "#f0f921"
             ]
            ],
            "type": "histogram2d"
           }
          ],
          "histogram2dcontour": [
           {
            "colorbar": {
             "outlinewidth": 0,
             "ticks": ""
            },
            "colorscale": [
             [
              0,
              "#0d0887"
             ],
             [
              0.1111111111111111,
              "#46039f"
             ],
             [
              0.2222222222222222,
              "#7201a8"
             ],
             [
              0.3333333333333333,
              "#9c179e"
             ],
             [
              0.4444444444444444,
              "#bd3786"
             ],
             [
              0.5555555555555556,
              "#d8576b"
             ],
             [
              0.6666666666666666,
              "#ed7953"
             ],
             [
              0.7777777777777778,
              "#fb9f3a"
             ],
             [
              0.8888888888888888,
              "#fdca26"
             ],
             [
              1,
              "#f0f921"
             ]
            ],
            "type": "histogram2dcontour"
           }
          ],
          "mesh3d": [
           {
            "colorbar": {
             "outlinewidth": 0,
             "ticks": ""
            },
            "type": "mesh3d"
           }
          ],
          "parcoords": [
           {
            "line": {
             "colorbar": {
              "outlinewidth": 0,
              "ticks": ""
             }
            },
            "type": "parcoords"
           }
          ],
          "pie": [
           {
            "automargin": true,
            "type": "pie"
           }
          ],
          "scatter": [
           {
            "fillpattern": {
             "fillmode": "overlay",
             "size": 10,
             "solidity": 0.2
            },
            "type": "scatter"
           }
          ],
          "scatter3d": [
           {
            "line": {
             "colorbar": {
              "outlinewidth": 0,
              "ticks": ""
             }
            },
            "marker": {
             "colorbar": {
              "outlinewidth": 0,
              "ticks": ""
             }
            },
            "type": "scatter3d"
           }
          ],
          "scattercarpet": [
           {
            "marker": {
             "colorbar": {
              "outlinewidth": 0,
              "ticks": ""
             }
            },
            "type": "scattercarpet"
           }
          ],
          "scattergeo": [
           {
            "marker": {
             "colorbar": {
              "outlinewidth": 0,
              "ticks": ""
             }
            },
            "type": "scattergeo"
           }
          ],
          "scattergl": [
           {
            "marker": {
             "colorbar": {
              "outlinewidth": 0,
              "ticks": ""
             }
            },
            "type": "scattergl"
           }
          ],
          "scattermapbox": [
           {
            "marker": {
             "colorbar": {
              "outlinewidth": 0,
              "ticks": ""
             }
            },
            "type": "scattermapbox"
           }
          ],
          "scatterpolar": [
           {
            "marker": {
             "colorbar": {
              "outlinewidth": 0,
              "ticks": ""
             }
            },
            "type": "scatterpolar"
           }
          ],
          "scatterpolargl": [
           {
            "marker": {
             "colorbar": {
              "outlinewidth": 0,
              "ticks": ""
             }
            },
            "type": "scatterpolargl"
           }
          ],
          "scatterternary": [
           {
            "marker": {
             "colorbar": {
              "outlinewidth": 0,
              "ticks": ""
             }
            },
            "type": "scatterternary"
           }
          ],
          "surface": [
           {
            "colorbar": {
             "outlinewidth": 0,
             "ticks": ""
            },
            "colorscale": [
             [
              0,
              "#0d0887"
             ],
             [
              0.1111111111111111,
              "#46039f"
             ],
             [
              0.2222222222222222,
              "#7201a8"
             ],
             [
              0.3333333333333333,
              "#9c179e"
             ],
             [
              0.4444444444444444,
              "#bd3786"
             ],
             [
              0.5555555555555556,
              "#d8576b"
             ],
             [
              0.6666666666666666,
              "#ed7953"
             ],
             [
              0.7777777777777778,
              "#fb9f3a"
             ],
             [
              0.8888888888888888,
              "#fdca26"
             ],
             [
              1,
              "#f0f921"
             ]
            ],
            "type": "surface"
           }
          ],
          "table": [
           {
            "cells": {
             "fill": {
              "color": "#EBF0F8"
             },
             "line": {
              "color": "white"
             }
            },
            "header": {
             "fill": {
              "color": "#C8D4E3"
             },
             "line": {
              "color": "white"
             }
            },
            "type": "table"
           }
          ]
         },
         "layout": {
          "annotationdefaults": {
           "arrowcolor": "#2a3f5f",
           "arrowhead": 0,
           "arrowwidth": 1
          },
          "autotypenumbers": "strict",
          "coloraxis": {
           "colorbar": {
            "outlinewidth": 0,
            "ticks": ""
           }
          },
          "colorscale": {
           "diverging": [
            [
             0,
             "#8e0152"
            ],
            [
             0.1,
             "#c51b7d"
            ],
            [
             0.2,
             "#de77ae"
            ],
            [
             0.3,
             "#f1b6da"
            ],
            [
             0.4,
             "#fde0ef"
            ],
            [
             0.5,
             "#f7f7f7"
            ],
            [
             0.6,
             "#e6f5d0"
            ],
            [
             0.7,
             "#b8e186"
            ],
            [
             0.8,
             "#7fbc41"
            ],
            [
             0.9,
             "#4d9221"
            ],
            [
             1,
             "#276419"
            ]
           ],
           "sequential": [
            [
             0,
             "#0d0887"
            ],
            [
             0.1111111111111111,
             "#46039f"
            ],
            [
             0.2222222222222222,
             "#7201a8"
            ],
            [
             0.3333333333333333,
             "#9c179e"
            ],
            [
             0.4444444444444444,
             "#bd3786"
            ],
            [
             0.5555555555555556,
             "#d8576b"
            ],
            [
             0.6666666666666666,
             "#ed7953"
            ],
            [
             0.7777777777777778,
             "#fb9f3a"
            ],
            [
             0.8888888888888888,
             "#fdca26"
            ],
            [
             1,
             "#f0f921"
            ]
           ],
           "sequentialminus": [
            [
             0,
             "#0d0887"
            ],
            [
             0.1111111111111111,
             "#46039f"
            ],
            [
             0.2222222222222222,
             "#7201a8"
            ],
            [
             0.3333333333333333,
             "#9c179e"
            ],
            [
             0.4444444444444444,
             "#bd3786"
            ],
            [
             0.5555555555555556,
             "#d8576b"
            ],
            [
             0.6666666666666666,
             "#ed7953"
            ],
            [
             0.7777777777777778,
             "#fb9f3a"
            ],
            [
             0.8888888888888888,
             "#fdca26"
            ],
            [
             1,
             "#f0f921"
            ]
           ]
          },
          "colorway": [
           "#636efa",
           "#EF553B",
           "#00cc96",
           "#ab63fa",
           "#FFA15A",
           "#19d3f3",
           "#FF6692",
           "#B6E880",
           "#FF97FF",
           "#FECB52"
          ],
          "font": {
           "color": "#2a3f5f"
          },
          "geo": {
           "bgcolor": "white",
           "lakecolor": "white",
           "landcolor": "#E5ECF6",
           "showlakes": true,
           "showland": true,
           "subunitcolor": "white"
          },
          "hoverlabel": {
           "align": "left"
          },
          "hovermode": "closest",
          "mapbox": {
           "style": "light"
          },
          "paper_bgcolor": "white",
          "plot_bgcolor": "#E5ECF6",
          "polar": {
           "angularaxis": {
            "gridcolor": "white",
            "linecolor": "white",
            "ticks": ""
           },
           "bgcolor": "#E5ECF6",
           "radialaxis": {
            "gridcolor": "white",
            "linecolor": "white",
            "ticks": ""
           }
          },
          "scene": {
           "xaxis": {
            "backgroundcolor": "#E5ECF6",
            "gridcolor": "white",
            "gridwidth": 2,
            "linecolor": "white",
            "showbackground": true,
            "ticks": "",
            "zerolinecolor": "white"
           },
           "yaxis": {
            "backgroundcolor": "#E5ECF6",
            "gridcolor": "white",
            "gridwidth": 2,
            "linecolor": "white",
            "showbackground": true,
            "ticks": "",
            "zerolinecolor": "white"
           },
           "zaxis": {
            "backgroundcolor": "#E5ECF6",
            "gridcolor": "white",
            "gridwidth": 2,
            "linecolor": "white",
            "showbackground": true,
            "ticks": "",
            "zerolinecolor": "white"
           }
          },
          "shapedefaults": {
           "line": {
            "color": "#2a3f5f"
           }
          },
          "ternary": {
           "aaxis": {
            "gridcolor": "white",
            "linecolor": "white",
            "ticks": ""
           },
           "baxis": {
            "gridcolor": "white",
            "linecolor": "white",
            "ticks": ""
           },
           "bgcolor": "#E5ECF6",
           "caxis": {
            "gridcolor": "white",
            "linecolor": "white",
            "ticks": ""
           }
          },
          "title": {
           "x": 0.05
          },
          "xaxis": {
           "automargin": true,
           "gridcolor": "white",
           "linecolor": "white",
           "ticks": "",
           "title": {
            "standoff": 15
           },
           "zerolinecolor": "white",
           "zerolinewidth": 2
          },
          "yaxis": {
           "automargin": true,
           "gridcolor": "white",
           "linecolor": "white",
           "ticks": "",
           "title": {
            "standoff": 15
           },
           "zerolinecolor": "white",
           "zerolinewidth": 2
          }
         }
        },
        "xaxis": {
         "anchor": "y",
         "domain": [
          0,
          1
         ]
        },
        "yaxis": {
         "anchor": "x",
         "domain": [
          0,
          1
         ]
        }
       }
      },
      "text/html": [
       "<div>                            <div id=\"95698d16-ecb7-4085-b895-ea8975818d37\" class=\"plotly-graph-div\" style=\"height:525px; width:100%;\"></div>            <script type=\"text/javascript\">                require([\"plotly\"], function(Plotly) {                    window.PLOTLYENV=window.PLOTLYENV || {};                                    if (document.getElementById(\"95698d16-ecb7-4085-b895-ea8975818d37\")) {                    Plotly.newPlot(                        \"95698d16-ecb7-4085-b895-ea8975818d37\",                        [{\"name\":\"\\u041f\\u043e\\u043b\\u043d\\u044b\\u0439 \\u0434\\u0435\\u043d\\u044c\",\"x\":[\"\\u041c\\u043e\\u0441\\u043a\\u0432\\u0430\",\"\\u041d\\u0438\\u0436\\u043d\\u0438\\u0439 \\u041d\\u043e\\u0432\\u0433\\u043e\\u0440\\u043e\\u0434\",\"\\u0421\\u0430\\u043d\\u043a\\u0442-\\u041f\\u0435\\u0442\\u0435\\u0440\\u0431\\u0443\\u0440\\u0433\",\"\\u0415\\u043a\\u0430\\u0442\\u0435\\u0440\\u0438\\u043d\\u0431\\u0443\\u0440\\u0433\",\"\\u041d\\u043e\\u0432\\u043e\\u0441\\u0438\\u0431\\u0438\\u0440\\u0441\\u043a\",\"\\u0421\\u0430\\u043c\\u0430\\u0440\\u0430\",\"\\u0422\\u0443\\u043b\\u0430\"],\"y\":[280,180,180,80,40,40,20],\"type\":\"bar\",\"xaxis\":\"x\",\"yaxis\":\"y\"},{\"name\":\"\\u0413\\u0438\\u0431\\u043a\\u0438\\u0439 \\u0433\\u0440\\u0430\\u0444\\u0438\\u043a\",\"x\":[\"\\u041c\\u043e\\u0441\\u043a\\u0432\\u0430\",\"\\u041d\\u043e\\u0432\\u043e\\u0441\\u0438\\u0431\\u0438\\u0440\\u0441\\u043a\",\"\\u0422\\u0443\\u043b\\u0430\"],\"y\":[20,20,20],\"type\":\"bar\",\"xaxis\":\"x\",\"yaxis\":\"y\"},{\"name\":\"\\u0423\\u0434\\u0430\\u043b\\u0435\\u043d\\u043d\\u0430\\u044f \\u0440\\u0430\\u0431\\u043e\\u0442\\u0430\",\"x\":[\"\\u041d\\u0438\\u0436\\u043d\\u0438\\u0439 \\u041d\\u043e\\u0432\\u0433\\u043e\\u0440\\u043e\\u0434\",\"\\u041d\\u043e\\u0432\\u043e\\u0441\\u0438\\u0431\\u0438\\u0440\\u0441\\u043a\",\"\\u0421\\u0430\\u043d\\u043a\\u0442-\\u041f\\u0435\\u0442\\u0435\\u0440\\u0431\\u0443\\u0440\\u0433\",\"\\u0422\\u0443\\u043b\\u0430\",\"\\u041c\\u043e\\u0441\\u043a\\u0432\\u0430\",\"\\u0421\\u0430\\u043c\\u0430\\u0440\\u0430\"],\"y\":[60,60,40,40,20,20],\"type\":\"bar\",\"xaxis\":\"x\",\"yaxis\":\"y\"}],                        {\"template\":{\"data\":{\"histogram2dcontour\":[{\"type\":\"histogram2dcontour\",\"colorbar\":{\"outlinewidth\":0,\"ticks\":\"\"},\"colorscale\":[[0.0,\"#0d0887\"],[0.1111111111111111,\"#46039f\"],[0.2222222222222222,\"#7201a8\"],[0.3333333333333333,\"#9c179e\"],[0.4444444444444444,\"#bd3786\"],[0.5555555555555556,\"#d8576b\"],[0.6666666666666666,\"#ed7953\"],[0.7777777777777778,\"#fb9f3a\"],[0.8888888888888888,\"#fdca26\"],[1.0,\"#f0f921\"]]}],\"choropleth\":[{\"type\":\"choropleth\",\"colorbar\":{\"outlinewidth\":0,\"ticks\":\"\"}}],\"histogram2d\":[{\"type\":\"histogram2d\",\"colorbar\":{\"outlinewidth\":0,\"ticks\":\"\"},\"colorscale\":[[0.0,\"#0d0887\"],[0.1111111111111111,\"#46039f\"],[0.2222222222222222,\"#7201a8\"],[0.3333333333333333,\"#9c179e\"],[0.4444444444444444,\"#bd3786\"],[0.5555555555555556,\"#d8576b\"],[0.6666666666666666,\"#ed7953\"],[0.7777777777777778,\"#fb9f3a\"],[0.8888888888888888,\"#fdca26\"],[1.0,\"#f0f921\"]]}],\"heatmap\":[{\"type\":\"heatmap\",\"colorbar\":{\"outlinewidth\":0,\"ticks\":\"\"},\"colorscale\":[[0.0,\"#0d0887\"],[0.1111111111111111,\"#46039f\"],[0.2222222222222222,\"#7201a8\"],[0.3333333333333333,\"#9c179e\"],[0.4444444444444444,\"#bd3786\"],[0.5555555555555556,\"#d8576b\"],[0.6666666666666666,\"#ed7953\"],[0.7777777777777778,\"#fb9f3a\"],[0.8888888888888888,\"#fdca26\"],[1.0,\"#f0f921\"]]}],\"heatmapgl\":[{\"type\":\"heatmapgl\",\"colorbar\":{\"outlinewidth\":0,\"ticks\":\"\"},\"colorscale\":[[0.0,\"#0d0887\"],[0.1111111111111111,\"#46039f\"],[0.2222222222222222,\"#7201a8\"],[0.3333333333333333,\"#9c179e\"],[0.4444444444444444,\"#bd3786\"],[0.5555555555555556,\"#d8576b\"],[0.6666666666666666,\"#ed7953\"],[0.7777777777777778,\"#fb9f3a\"],[0.8888888888888888,\"#fdca26\"],[1.0,\"#f0f921\"]]}],\"contourcarpet\":[{\"type\":\"contourcarpet\",\"colorbar\":{\"outlinewidth\":0,\"ticks\":\"\"}}],\"contour\":[{\"type\":\"contour\",\"colorbar\":{\"outlinewidth\":0,\"ticks\":\"\"},\"colorscale\":[[0.0,\"#0d0887\"],[0.1111111111111111,\"#46039f\"],[0.2222222222222222,\"#7201a8\"],[0.3333333333333333,\"#9c179e\"],[0.4444444444444444,\"#bd3786\"],[0.5555555555555556,\"#d8576b\"],[0.6666666666666666,\"#ed7953\"],[0.7777777777777778,\"#fb9f3a\"],[0.8888888888888888,\"#fdca26\"],[1.0,\"#f0f921\"]]}],\"surface\":[{\"type\":\"surface\",\"colorbar\":{\"outlinewidth\":0,\"ticks\":\"\"},\"colorscale\":[[0.0,\"#0d0887\"],[0.1111111111111111,\"#46039f\"],[0.2222222222222222,\"#7201a8\"],[0.3333333333333333,\"#9c179e\"],[0.4444444444444444,\"#bd3786\"],[0.5555555555555556,\"#d8576b\"],[0.6666666666666666,\"#ed7953\"],[0.7777777777777778,\"#fb9f3a\"],[0.8888888888888888,\"#fdca26\"],[1.0,\"#f0f921\"]]}],\"mesh3d\":[{\"type\":\"mesh3d\",\"colorbar\":{\"outlinewidth\":0,\"ticks\":\"\"}}],\"scatter\":[{\"fillpattern\":{\"fillmode\":\"overlay\",\"size\":10,\"solidity\":0.2},\"type\":\"scatter\"}],\"parcoords\":[{\"type\":\"parcoords\",\"line\":{\"colorbar\":{\"outlinewidth\":0,\"ticks\":\"\"}}}],\"scatterpolargl\":[{\"type\":\"scatterpolargl\",\"marker\":{\"colorbar\":{\"outlinewidth\":0,\"ticks\":\"\"}}}],\"bar\":[{\"error_x\":{\"color\":\"#2a3f5f\"},\"error_y\":{\"color\":\"#2a3f5f\"},\"marker\":{\"line\":{\"color\":\"#E5ECF6\",\"width\":0.5},\"pattern\":{\"fillmode\":\"overlay\",\"size\":10,\"solidity\":0.2}},\"type\":\"bar\"}],\"scattergeo\":[{\"type\":\"scattergeo\",\"marker\":{\"colorbar\":{\"outlinewidth\":0,\"ticks\":\"\"}}}],\"scatterpolar\":[{\"type\":\"scatterpolar\",\"marker\":{\"colorbar\":{\"outlinewidth\":0,\"ticks\":\"\"}}}],\"histogram\":[{\"marker\":{\"pattern\":{\"fillmode\":\"overlay\",\"size\":10,\"solidity\":0.2}},\"type\":\"histogram\"}],\"scattergl\":[{\"type\":\"scattergl\",\"marker\":{\"colorbar\":{\"outlinewidth\":0,\"ticks\":\"\"}}}],\"scatter3d\":[{\"type\":\"scatter3d\",\"line\":{\"colorbar\":{\"outlinewidth\":0,\"ticks\":\"\"}},\"marker\":{\"colorbar\":{\"outlinewidth\":0,\"ticks\":\"\"}}}],\"scattermapbox\":[{\"type\":\"scattermapbox\",\"marker\":{\"colorbar\":{\"outlinewidth\":0,\"ticks\":\"\"}}}],\"scatterternary\":[{\"type\":\"scatterternary\",\"marker\":{\"colorbar\":{\"outlinewidth\":0,\"ticks\":\"\"}}}],\"scattercarpet\":[{\"type\":\"scattercarpet\",\"marker\":{\"colorbar\":{\"outlinewidth\":0,\"ticks\":\"\"}}}],\"carpet\":[{\"aaxis\":{\"endlinecolor\":\"#2a3f5f\",\"gridcolor\":\"white\",\"linecolor\":\"white\",\"minorgridcolor\":\"white\",\"startlinecolor\":\"#2a3f5f\"},\"baxis\":{\"endlinecolor\":\"#2a3f5f\",\"gridcolor\":\"white\",\"linecolor\":\"white\",\"minorgridcolor\":\"white\",\"startlinecolor\":\"#2a3f5f\"},\"type\":\"carpet\"}],\"table\":[{\"cells\":{\"fill\":{\"color\":\"#EBF0F8\"},\"line\":{\"color\":\"white\"}},\"header\":{\"fill\":{\"color\":\"#C8D4E3\"},\"line\":{\"color\":\"white\"}},\"type\":\"table\"}],\"barpolar\":[{\"marker\":{\"line\":{\"color\":\"#E5ECF6\",\"width\":0.5},\"pattern\":{\"fillmode\":\"overlay\",\"size\":10,\"solidity\":0.2}},\"type\":\"barpolar\"}],\"pie\":[{\"automargin\":true,\"type\":\"pie\"}]},\"layout\":{\"autotypenumbers\":\"strict\",\"colorway\":[\"#636efa\",\"#EF553B\",\"#00cc96\",\"#ab63fa\",\"#FFA15A\",\"#19d3f3\",\"#FF6692\",\"#B6E880\",\"#FF97FF\",\"#FECB52\"],\"font\":{\"color\":\"#2a3f5f\"},\"hovermode\":\"closest\",\"hoverlabel\":{\"align\":\"left\"},\"paper_bgcolor\":\"white\",\"plot_bgcolor\":\"#E5ECF6\",\"polar\":{\"bgcolor\":\"#E5ECF6\",\"angularaxis\":{\"gridcolor\":\"white\",\"linecolor\":\"white\",\"ticks\":\"\"},\"radialaxis\":{\"gridcolor\":\"white\",\"linecolor\":\"white\",\"ticks\":\"\"}},\"ternary\":{\"bgcolor\":\"#E5ECF6\",\"aaxis\":{\"gridcolor\":\"white\",\"linecolor\":\"white\",\"ticks\":\"\"},\"baxis\":{\"gridcolor\":\"white\",\"linecolor\":\"white\",\"ticks\":\"\"},\"caxis\":{\"gridcolor\":\"white\",\"linecolor\":\"white\",\"ticks\":\"\"}},\"coloraxis\":{\"colorbar\":{\"outlinewidth\":0,\"ticks\":\"\"}},\"colorscale\":{\"sequential\":[[0.0,\"#0d0887\"],[0.1111111111111111,\"#46039f\"],[0.2222222222222222,\"#7201a8\"],[0.3333333333333333,\"#9c179e\"],[0.4444444444444444,\"#bd3786\"],[0.5555555555555556,\"#d8576b\"],[0.6666666666666666,\"#ed7953\"],[0.7777777777777778,\"#fb9f3a\"],[0.8888888888888888,\"#fdca26\"],[1.0,\"#f0f921\"]],\"sequentialminus\":[[0.0,\"#0d0887\"],[0.1111111111111111,\"#46039f\"],[0.2222222222222222,\"#7201a8\"],[0.3333333333333333,\"#9c179e\"],[0.4444444444444444,\"#bd3786\"],[0.5555555555555556,\"#d8576b\"],[0.6666666666666666,\"#ed7953\"],[0.7777777777777778,\"#fb9f3a\"],[0.8888888888888888,\"#fdca26\"],[1.0,\"#f0f921\"]],\"diverging\":[[0,\"#8e0152\"],[0.1,\"#c51b7d\"],[0.2,\"#de77ae\"],[0.3,\"#f1b6da\"],[0.4,\"#fde0ef\"],[0.5,\"#f7f7f7\"],[0.6,\"#e6f5d0\"],[0.7,\"#b8e186\"],[0.8,\"#7fbc41\"],[0.9,\"#4d9221\"],[1,\"#276419\"]]},\"xaxis\":{\"gridcolor\":\"white\",\"linecolor\":\"white\",\"ticks\":\"\",\"title\":{\"standoff\":15},\"zerolinecolor\":\"white\",\"automargin\":true,\"zerolinewidth\":2},\"yaxis\":{\"gridcolor\":\"white\",\"linecolor\":\"white\",\"ticks\":\"\",\"title\":{\"standoff\":15},\"zerolinecolor\":\"white\",\"automargin\":true,\"zerolinewidth\":2},\"scene\":{\"xaxis\":{\"backgroundcolor\":\"#E5ECF6\",\"gridcolor\":\"white\",\"linecolor\":\"white\",\"showbackground\":true,\"ticks\":\"\",\"zerolinecolor\":\"white\",\"gridwidth\":2},\"yaxis\":{\"backgroundcolor\":\"#E5ECF6\",\"gridcolor\":\"white\",\"linecolor\":\"white\",\"showbackground\":true,\"ticks\":\"\",\"zerolinecolor\":\"white\",\"gridwidth\":2},\"zaxis\":{\"backgroundcolor\":\"#E5ECF6\",\"gridcolor\":\"white\",\"linecolor\":\"white\",\"showbackground\":true,\"ticks\":\"\",\"zerolinecolor\":\"white\",\"gridwidth\":2}},\"shapedefaults\":{\"line\":{\"color\":\"#2a3f5f\"}},\"annotationdefaults\":{\"arrowcolor\":\"#2a3f5f\",\"arrowhead\":0,\"arrowwidth\":1},\"geo\":{\"bgcolor\":\"white\",\"landcolor\":\"#E5ECF6\",\"subunitcolor\":\"white\",\"showland\":true,\"showlakes\":true,\"lakecolor\":\"white\"},\"title\":{\"x\":0.05},\"mapbox\":{\"style\":\"light\"}}},\"xaxis\":{\"anchor\":\"y\",\"domain\":[0.0,1.0]},\"yaxis\":{\"anchor\":\"x\",\"domain\":[0.0,1.0]}},                        {\"responsive\": true}                    ).then(function(){\n",
       "                            \n",
       "var gd = document.getElementById('95698d16-ecb7-4085-b895-ea8975818d37');\n",
       "var x = new MutationObserver(function (mutations, observer) {{\n",
       "        var display = window.getComputedStyle(gd).display;\n",
       "        if (!display || display === 'none') {{\n",
       "            console.log([gd, 'removed!']);\n",
       "            Plotly.purge(gd);\n",
       "            observer.disconnect();\n",
       "        }}\n",
       "}});\n",
       "\n",
       "// Listen for the removal of the full notebook cells\n",
       "var notebookContainer = gd.closest('#notebook-container');\n",
       "if (notebookContainer) {{\n",
       "    x.observe(notebookContainer, {childList: true});\n",
       "}}\n",
       "\n",
       "// Listen for the clearing of the current output cell\n",
       "var outputEl = gd.closest('.output');\n",
       "if (outputEl) {{\n",
       "    x.observe(outputEl, {childList: true});\n",
       "}}\n",
       "\n",
       "                        })                };                });            </script>        </div>"
      ]
     },
     "metadata": {},
     "output_type": "display_data"
    }
   ],
   "source": [
    "# отобразим на графике\n",
    "fig = make_subplots(rows=1, cols=1, shared_yaxes=False)\n",
    "\n",
    "fig.add_trace(go.Bar(x = Office_table_count['area'], \n",
    "                     y = Office_table_count['count'],  \n",
    "                     name='Полный день'),\n",
    "              1, 1)\n",
    "\n",
    "fig.add_trace(go.Bar(x = Gib_table_count['area'], \n",
    "                     y = Gib_table_count['count'],  \n",
    "                     name='Гибкий график'),\n",
    "              1, 1)\n",
    "\n",
    "fig.add_trace(go.Bar(x = UD_table_count['area'], \n",
    "                     y = UD_table_count['count'],  \n",
    "                     name='Удаленная работа'),\n",
    "              1, 1)\n",
    "    \n",
    "fig.show()"
   ]
  },
  {
   "cell_type": "markdown",
   "id": "d987624f",
   "metadata": {},
   "source": [
    "### Вывод: возможность удаленной работы больше распространена в городах отличных от Москвы"
   ]
  },
  {
   "cell_type": "code",
   "execution_count": null,
   "id": "9b14a140",
   "metadata": {},
   "outputs": [],
   "source": []
  },
  {
   "cell_type": "code",
   "execution_count": null,
   "id": "2ec02635",
   "metadata": {},
   "outputs": [],
   "source": []
  },
  {
   "cell_type": "code",
   "execution_count": null,
   "id": "f802f6f7",
   "metadata": {},
   "outputs": [],
   "source": []
  },
  {
   "cell_type": "markdown",
   "id": "13e771be",
   "metadata": {},
   "source": [
    "### Попробуем предсказать начальный уровень зарплат, на основании описания вакансий. Чистой воды эксперемент"
   ]
  },
  {
   "cell_type": "code",
   "execution_count": 1253,
   "id": "7daf40cc",
   "metadata": {},
   "outputs": [
    {
     "data": {
      "text/html": [
       "<div>\n",
       "<style scoped>\n",
       "    .dataframe tbody tr th:only-of-type {\n",
       "        vertical-align: middle;\n",
       "    }\n",
       "\n",
       "    .dataframe tbody tr th {\n",
       "        vertical-align: top;\n",
       "    }\n",
       "\n",
       "    .dataframe thead th {\n",
       "        text-align: right;\n",
       "    }\n",
       "</style>\n",
       "<table border=\"1\" class=\"dataframe\">\n",
       "  <thead>\n",
       "    <tr style=\"text-align: right;\">\n",
       "      <th></th>\n",
       "      <th>id</th>\n",
       "      <th>name</th>\n",
       "      <th>area</th>\n",
       "      <th>experience</th>\n",
       "      <th>schedule</th>\n",
       "      <th>employment</th>\n",
       "      <th>description</th>\n",
       "      <th>professional_roles</th>\n",
       "      <th>salary_from</th>\n",
       "    </tr>\n",
       "  </thead>\n",
       "  <tbody>\n",
       "    <tr>\n",
       "      <th>0</th>\n",
       "      <td>79842507</td>\n",
       "      <td>Стажер (тестировщик) на летний период</td>\n",
       "      <td>Москва</td>\n",
       "      <td>Нет опыта</td>\n",
       "      <td>Полный день</td>\n",
       "      <td>Стажировка</td>\n",
       "      <td>&lt;p&gt;&lt;strong&gt;Мы:&lt;/strong&gt;&lt;/p&gt; &lt;p&gt;&lt;strong&gt;ГК «Хай...</td>\n",
       "      <td>Тестировщик</td>\n",
       "      <td>NaN</td>\n",
       "    </tr>\n",
       "    <tr>\n",
       "      <th>1</th>\n",
       "      <td>79880730</td>\n",
       "      <td>Разработчик Junior</td>\n",
       "      <td>Москва</td>\n",
       "      <td>От 1 года до 3 лет</td>\n",
       "      <td>Полный день</td>\n",
       "      <td>Полная занятость</td>\n",
       "      <td>&lt;strong&gt;Обязанности:&lt;/strong&gt; &lt;ul&gt; &lt;li&gt;Поддерж...</td>\n",
       "      <td>Программист, разработчик</td>\n",
       "      <td>NaN</td>\n",
       "    </tr>\n",
       "  </tbody>\n",
       "</table>\n",
       "</div>"
      ],
      "text/plain": [
       "         id                                   name    area  \\\n",
       "0  79842507  Стажер (тестировщик) на летний период  Москва   \n",
       "1  79880730                     Разработчик Junior  Москва   \n",
       "\n",
       "           experience     schedule        employment  \\\n",
       "0           Нет опыта  Полный день        Стажировка   \n",
       "1  От 1 года до 3 лет  Полный день  Полная занятость   \n",
       "\n",
       "                                         description  \\\n",
       "0  <p><strong>Мы:</strong></p> <p><strong>ГК «Хай...   \n",
       "1  <strong>Обязанности:</strong> <ul> <li>Поддерж...   \n",
       "\n",
       "         professional_roles  salary_from  \n",
       "0               Тестировщик          NaN  \n",
       "1  Программист, разработчик          NaN  "
      ]
     },
     "execution_count": 1253,
     "metadata": {},
     "output_type": "execute_result"
    }
   ],
   "source": [
    "#выбираем нужны нам колонки\n",
    "vac_info_new_salary = vac_info_new.copy() #vac_info_new[vac_info_new['salary_from'].notnull()].copy()\n",
    "vac_info_new_salary_no_del = vac_info_new_salary.drop(columns = [\"salary\", \"employer\",\"key_skills\",\"published_at\"\n",
    "                                                          , \"salary_to\", \"flag\", \"vac_level\"])\n",
    "vac_info_new_salary_no_del.head(2)"
   ]
  },
  {
   "cell_type": "markdown",
   "id": "f5c88a6e",
   "metadata": {},
   "source": [
    "### Поработаем над текстом в поле описание\n"
   ]
  },
  {
   "cell_type": "code",
   "execution_count": 1255,
   "id": "119801a4",
   "metadata": {},
   "outputs": [],
   "source": [
    "# # функция удаления пунктуации и цифр\n",
    "def remove_trash(list): \n",
    "    pattern = r'[^А-Яа-я]+'\n",
    "    try:\n",
    "      list = [re.sub(pattern, ' ', i) for i in list] \n",
    "\n",
    "    except Exception as e:\n",
    "      print(e)\n",
    "    return list"
   ]
  },
  {
   "cell_type": "code",
   "execution_count": 1256,
   "id": "3a24bc7a",
   "metadata": {},
   "outputs": [],
   "source": [
    "vac_info_new_salary_no_del['description_clean']=remove_trash(vac_info_new_salary_no_del['description'])"
   ]
  },
  {
   "cell_type": "code",
   "execution_count": 1257,
   "id": "f8e3373f",
   "metadata": {},
   "outputs": [],
   "source": [
    "# try:\n",
    "#     _create_unverified_https_context = ssl._create_unverified_context\n",
    "# except AttributeError:\n",
    "#     pass\n",
    "# else:\n",
    "#     ssl._create_default_https_context = _create_unverified_https_context\n",
    "\n",
    "# nltk.download()"
   ]
  },
  {
   "cell_type": "code",
   "execution_count": 1258,
   "id": "17e97de7",
   "metadata": {
    "scrolled": true
   },
   "outputs": [
    {
     "name": "stderr",
     "output_type": "stream",
     "text": [
      "[nltk_data] Downloading package stopwords to\n",
      "[nltk_data]     C:\\Users\\Tolyan\\AppData\\Roaming\\nltk_data...\n",
      "[nltk_data]   Package stopwords is already up-to-date!\n"
     ]
    },
    {
     "data": {
      "text/plain": [
       "True"
      ]
     },
     "execution_count": 1258,
     "metadata": {},
     "output_type": "execute_result"
    }
   ],
   "source": [
    "nltk.download('stopwords')"
   ]
  },
  {
   "cell_type": "code",
   "execution_count": 1259,
   "id": "7aeb479f",
   "metadata": {},
   "outputs": [],
   "source": [
    "stop_russian = stopwords.words('russian')"
   ]
  },
  {
   "cell_type": "code",
   "execution_count": 1260,
   "id": "9cf1ecd7",
   "metadata": {},
   "outputs": [],
   "source": [
    "morph = pymorphy2.MorphAnalyzer()"
   ]
  },
  {
   "cell_type": "code",
   "execution_count": 1261,
   "id": "ad1c9b5c",
   "metadata": {},
   "outputs": [],
   "source": [
    "# функция лемматизации\n",
    "def lemmatize(row):\n",
    "    t = []\n",
    "    text = row['description_clean']\n",
    "    for word in text.split():\n",
    "        if len(word)<=1:\n",
    "            continue\n",
    "        p = morph.parse(word)[0]\n",
    "        t.append(p.normal_form)\n",
    "    return \" \".join(t)"
   ]
  },
  {
   "cell_type": "code",
   "execution_count": 1262,
   "id": "5cd5a0ff",
   "metadata": {},
   "outputs": [
    {
     "data": {
      "text/html": [
       "<div>\n",
       "<style scoped>\n",
       "    .dataframe tbody tr th:only-of-type {\n",
       "        vertical-align: middle;\n",
       "    }\n",
       "\n",
       "    .dataframe tbody tr th {\n",
       "        vertical-align: top;\n",
       "    }\n",
       "\n",
       "    .dataframe thead th {\n",
       "        text-align: right;\n",
       "    }\n",
       "</style>\n",
       "<table border=\"1\" class=\"dataframe\">\n",
       "  <thead>\n",
       "    <tr style=\"text-align: right;\">\n",
       "      <th></th>\n",
       "      <th>description</th>\n",
       "      <th>description_clean</th>\n",
       "    </tr>\n",
       "  </thead>\n",
       "  <tbody>\n",
       "    <tr>\n",
       "      <th>0</th>\n",
       "      <td>&lt;p&gt;&lt;strong&gt;Мы:&lt;/strong&gt;&lt;/p&gt; &lt;p&gt;&lt;strong&gt;ГК «Хай...</td>\n",
       "      <td>Мы ГК ХайТэк российский системный интегратор ...</td>\n",
       "    </tr>\n",
       "    <tr>\n",
       "      <th>1</th>\n",
       "      <td>&lt;strong&gt;Обязанности:&lt;/strong&gt; &lt;ul&gt; &lt;li&gt;Поддерж...</td>\n",
       "      <td>Обязанности Поддержка действующих Ботов и про...</td>\n",
       "    </tr>\n",
       "  </tbody>\n",
       "</table>\n",
       "</div>"
      ],
      "text/plain": [
       "                                         description  \\\n",
       "0  <p><strong>Мы:</strong></p> <p><strong>ГК «Хай...   \n",
       "1  <strong>Обязанности:</strong> <ul> <li>Поддерж...   \n",
       "\n",
       "                                   description_clean  \n",
       "0   Мы ГК ХайТэк российский системный интегратор ...  \n",
       "1   Обязанности Поддержка действующих Ботов и про...  "
      ]
     },
     "execution_count": 1262,
     "metadata": {},
     "output_type": "execute_result"
    }
   ],
   "source": [
    "vac_info_new_salary_no_del.filter(items = ['description', 'description_clean']).head(2)"
   ]
  },
  {
   "cell_type": "code",
   "execution_count": 1263,
   "id": "56067002",
   "metadata": {},
   "outputs": [
    {
     "name": "stdout",
     "output_type": "stream",
     "text": [
      "Wall time: 46.3 s\n"
     ]
    }
   ],
   "source": [
    "%%time\n",
    "vac_info_new_salary_no_del['description_clean_normal'] = vac_info_new_salary_no_del.apply(lemmatize,axis=1)\n"
   ]
  },
  {
   "cell_type": "code",
   "execution_count": 1264,
   "id": "ba74d1fd",
   "metadata": {
    "scrolled": false
   },
   "outputs": [
    {
     "data": {
      "text/html": [
       "<div>\n",
       "<style scoped>\n",
       "    .dataframe tbody tr th:only-of-type {\n",
       "        vertical-align: middle;\n",
       "    }\n",
       "\n",
       "    .dataframe tbody tr th {\n",
       "        vertical-align: top;\n",
       "    }\n",
       "\n",
       "    .dataframe thead th {\n",
       "        text-align: right;\n",
       "    }\n",
       "</style>\n",
       "<table border=\"1\" class=\"dataframe\">\n",
       "  <thead>\n",
       "    <tr style=\"text-align: right;\">\n",
       "      <th></th>\n",
       "      <th>description</th>\n",
       "      <th>description_clean</th>\n",
       "      <th>description_clean_normal</th>\n",
       "    </tr>\n",
       "  </thead>\n",
       "  <tbody>\n",
       "    <tr>\n",
       "      <th>0</th>\n",
       "      <td>&lt;p&gt;&lt;strong&gt;Мы:&lt;/strong&gt;&lt;/p&gt; &lt;p&gt;&lt;strong&gt;ГК «Хай...</td>\n",
       "      <td>Мы ГК ХайТэк российский системный интегратор ...</td>\n",
       "      <td>мы гк хайтэк российский системный интегратор р...</td>\n",
       "    </tr>\n",
       "    <tr>\n",
       "      <th>1</th>\n",
       "      <td>&lt;strong&gt;Обязанности:&lt;/strong&gt; &lt;ul&gt; &lt;li&gt;Поддерж...</td>\n",
       "      <td>Обязанности Поддержка действующих Ботов и про...</td>\n",
       "      <td>обязанность поддержка действовать бот программ...</td>\n",
       "    </tr>\n",
       "  </tbody>\n",
       "</table>\n",
       "</div>"
      ],
      "text/plain": [
       "                                         description  \\\n",
       "0  <p><strong>Мы:</strong></p> <p><strong>ГК «Хай...   \n",
       "1  <strong>Обязанности:</strong> <ul> <li>Поддерж...   \n",
       "\n",
       "                                   description_clean  \\\n",
       "0   Мы ГК ХайТэк российский системный интегратор ...   \n",
       "1   Обязанности Поддержка действующих Ботов и про...   \n",
       "\n",
       "                            description_clean_normal  \n",
       "0  мы гк хайтэк российский системный интегратор р...  \n",
       "1  обязанность поддержка действовать бот программ...  "
      ]
     },
     "execution_count": 1264,
     "metadata": {},
     "output_type": "execute_result"
    }
   ],
   "source": [
    "vac_info_new_salary_no_del.filter(items = ['description', 'description_clean', 'description_clean_normal']).head(2)"
   ]
  },
  {
   "cell_type": "code",
   "execution_count": 1265,
   "id": "2ea92008",
   "metadata": {},
   "outputs": [],
   "source": [
    "vac_info_new_salary = vac_info_new_salary_no_del.drop(columns = ['description', 'description_clean'])"
   ]
  },
  {
   "cell_type": "code",
   "execution_count": 1266,
   "id": "0977b410",
   "metadata": {},
   "outputs": [],
   "source": [
    "#Трансформируем текст в вектора\n",
    "text_transformer = TfidfVectorizer(stop_words=stop_russian, \n",
    "                                   ngram_range=(1,1), \n",
    "                                   lowercase=True)"
   ]
  },
  {
   "cell_type": "code",
   "execution_count": 1267,
   "id": "af6eeb8b",
   "metadata": {},
   "outputs": [],
   "source": [
    "#разделим списки на там где указана зарплата от и где нет\n",
    "vac_info_new_salary_ok = vac_info_new_salary[vac_info_new_salary['salary_from'].notnull()].copy()\n",
    "vac_info_new_salary_no = vac_info_new_salary[vac_info_new_salary['salary_from'].isnull()].copy()\n",
    "#vac_info_new_salary_ok"
   ]
  },
  {
   "cell_type": "code",
   "execution_count": 1328,
   "id": "6ded003a",
   "metadata": {},
   "outputs": [
    {
     "name": "stdout",
     "output_type": "stream",
     "text": [
      "<class 'pandas.core.frame.DataFrame'>\n",
      "Int64Index: 600 entries, 2 to 1118\n",
      "Data columns (total 9 columns):\n",
      " #   Column                    Non-Null Count  Dtype  \n",
      "---  ------                    --------------  -----  \n",
      " 0   id                        600 non-null    object \n",
      " 1   name                      600 non-null    object \n",
      " 2   area                      600 non-null    object \n",
      " 3   experience                600 non-null    object \n",
      " 4   schedule                  600 non-null    object \n",
      " 5   employment                600 non-null    object \n",
      " 6   professional_roles        600 non-null    object \n",
      " 7   salary_from               600 non-null    float64\n",
      " 8   description_clean_normal  600 non-null    object \n",
      "dtypes: float64(1), object(8)\n",
      "memory usage: 46.9+ KB\n"
     ]
    }
   ],
   "source": [
    "vac_info_new_salary_ok.info()"
   ]
  },
  {
   "cell_type": "markdown",
   "id": "797d8670",
   "metadata": {},
   "source": [
    "### Строим и обучаем модель "
   ]
  },
  {
   "cell_type": "code",
   "execution_count": 1268,
   "id": "428732d8",
   "metadata": {},
   "outputs": [
    {
     "name": "stdout",
     "output_type": "stream",
     "text": [
      "Wall time: 99 ms\n"
     ]
    }
   ],
   "source": [
    "%%time\n",
    "text_norm = text_transformer.fit_transform(vac_info_new_salary_ok['description_clean_normal'])\n",
    "X_train, X_test, y_train, y_test = train_test_split(text_norm, vac_info_new_salary_ok['salary_from'], \n",
    "                                                    test_size=0.20, random_state=RANDOM_STATE)"
   ]
  },
  {
   "cell_type": "code",
   "execution_count": 1269,
   "id": "d3d21c35",
   "metadata": {},
   "outputs": [
    {
     "name": "stdout",
     "output_type": "stream",
     "text": [
      "Wall time: 543 ms\n"
     ]
    }
   ],
   "source": [
    "%%time\n",
    "#обучим модель\n",
    "clf_norm = GradientBoostingRegressor()\n",
    "salary_fit = clf_norm.fit(X_train,y_train)"
   ]
  },
  {
   "cell_type": "code",
   "execution_count": 1521,
   "id": "dbbfa030",
   "metadata": {},
   "outputs": [
    {
     "data": {
      "text/plain": [
       "(600, 1225)"
      ]
     },
     "execution_count": 1521,
     "metadata": {},
     "output_type": "execute_result"
    }
   ],
   "source": [
    "text_norm.shape"
   ]
  },
  {
   "cell_type": "code",
   "execution_count": null,
   "id": "776675df",
   "metadata": {},
   "outputs": [],
   "source": [
    "# найти топ фичей https://scikit-learn.org/stable/auto_examples/ensemble/plot_forest_importances.html "
   ]
  },
  {
   "cell_type": "code",
   "execution_count": 1575,
   "id": "72d02e30",
   "metadata": {},
   "outputs": [
    {
     "data": {
      "text/plain": [
       "array([0.00000000e+00, 0.00000000e+00, 0.00000000e+00, ...,\n",
       "       0.00000000e+00, 1.33685851e-07, 0.00000000e+00])"
      ]
     },
     "execution_count": 1575,
     "metadata": {},
     "output_type": "execute_result"
    }
   ],
   "source": [
    "salary_fit.feature_importances_"
   ]
  },
  {
   "cell_type": "code",
   "execution_count": null,
   "id": "b5bcd27d",
   "metadata": {},
   "outputs": [],
   "source": []
  },
  {
   "cell_type": "code",
   "execution_count": null,
   "id": "02cf94f8",
   "metadata": {},
   "outputs": [],
   "source": []
  },
  {
   "cell_type": "code",
   "execution_count": null,
   "id": "524570b8",
   "metadata": {},
   "outputs": [],
   "source": []
  },
  {
   "cell_type": "code",
   "execution_count": null,
   "id": "9894be16",
   "metadata": {},
   "outputs": [],
   "source": []
  },
  {
   "cell_type": "code",
   "execution_count": 1544,
   "id": "fffaf1ab",
   "metadata": {},
   "outputs": [
    {
     "name": "stdout",
     "output_type": "stream",
     "text": [
      "Качество модели по метрике MAPE в процентах на обчующей выборке: 0.004751033330808233\n"
     ]
    }
   ],
   "source": [
    "#Средняя абсолютная ошибка в процентах на обчующей выборке\n",
    "print('Качество модели по метрике MAPE в процентах на обчующей выборке:', mean_absolute_percentage_error(y_train,pred_norm_train ))"
   ]
  },
  {
   "cell_type": "code",
   "execution_count": 1545,
   "id": "0d446ad9",
   "metadata": {},
   "outputs": [
    {
     "name": "stdout",
     "output_type": "stream",
     "text": [
      "Качество модели по метрике MAPE в процентах на тестовой выборке: 0.007980129959314698\n"
     ]
    }
   ],
   "source": [
    "#mape - Mean absolute percentage error\n",
    "#Средняя абсолютная ошибка в процентах на тестовой выборке\n",
    "print('Качество модели по метрике MAPE в процентах на тестовой выборке:', mean_absolute_percentage_error(y_test,pred_norm))"
   ]
  },
  {
   "cell_type": "code",
   "execution_count": 1547,
   "id": "d4a27cd7",
   "metadata": {},
   "outputs": [
    {
     "name": "stdout",
     "output_type": "stream",
     "text": [
      "Корень из средней квадратичной ошибки RMSE на тестовой выборке: 82.17413000807964\n"
     ]
    }
   ],
   "source": [
    "# Корень из средней квадратичной ошибки RMSE на обучающей выборке\n",
    "print('Корень из средней квадратичной ошибки RMSE на обучающей выборке:', sqrt(mean_squared_error(y_train,pred_norm_train)))"
   ]
  },
  {
   "cell_type": "code",
   "execution_count": 1543,
   "id": "cad82fb5",
   "metadata": {},
   "outputs": [
    {
     "name": "stdout",
     "output_type": "stream",
     "text": [
      "Корень из средней квадратичной ошибки RMSE: 91.47795318730468\n"
     ]
    }
   ],
   "source": [
    "# Корень из средней квадратичной ошибки RMSE на тестовой выборке\n",
    "print('Корень из средней квадратичной ошибки RMSE на тестовой выборке:', sqrt(mean_squared_error(y_test,pred_norm)))"
   ]
  },
  {
   "cell_type": "markdown",
   "id": "4b48238a",
   "metadata": {},
   "source": [
    "### Предскажем нижний уровень зарплат для вакансий где их нет и запишем данные в общую таблицу"
   ]
  },
  {
   "cell_type": "code",
   "execution_count": 1273,
   "id": "16fde6f8",
   "metadata": {},
   "outputs": [],
   "source": [
    "text_pred = text_transformer.transform(vac_info_new_salary_no['description_clean_normal'])"
   ]
  },
  {
   "cell_type": "code",
   "execution_count": 1274,
   "id": "9ec88cb8",
   "metadata": {},
   "outputs": [],
   "source": [
    "pred_norm2 = salary_fit.predict(text_pred)"
   ]
  },
  {
   "cell_type": "code",
   "execution_count": 1283,
   "id": "d09daa40",
   "metadata": {},
   "outputs": [],
   "source": [
    "salary_pred = pd.DataFrame(pred_norm2, columns = ['salary_predict'])\n",
    "#test['id'] = vac_info_new_salary_no['id'].reset_index()"
   ]
  },
  {
   "cell_type": "code",
   "execution_count": 1327,
   "id": "a137fa34",
   "metadata": {},
   "outputs": [],
   "source": [
    "#vac_info_new_salary_ok_new"
   ]
  },
  {
   "cell_type": "code",
   "execution_count": 1295,
   "id": "8c6d9812",
   "metadata": {},
   "outputs": [],
   "source": [
    "vac_info_new_salary_no = vac_info_new_salary[vac_info_new_salary['salary_from'].isnull()].copy()"
   ]
  },
  {
   "cell_type": "code",
   "execution_count": 1303,
   "id": "e820ca45",
   "metadata": {},
   "outputs": [],
   "source": [
    "vac_info_new_salary_no_new = vac_info_new_salary_no.reset_index(drop=True).copy()"
   ]
  },
  {
   "cell_type": "code",
   "execution_count": 1305,
   "id": "c444479e",
   "metadata": {},
   "outputs": [],
   "source": [
    "vac_info_new_salary_no_new['salary_from'] = salary_pred['salary_predict']"
   ]
  },
  {
   "cell_type": "code",
   "execution_count": 1307,
   "id": "a3c2417d",
   "metadata": {},
   "outputs": [],
   "source": [
    "vac_info_new_salary_ok_new = vac_info_new_salary_ok.reset_index(drop=True).copy()"
   ]
  },
  {
   "cell_type": "code",
   "execution_count": 1309,
   "id": "45395bfd",
   "metadata": {},
   "outputs": [],
   "source": [
    "#соедим две таблицы\n",
    "new_vac_info_salary= pd.concat([vac_info_new_salary_no_new ,vac_info_new_salary_ok_new], ignore_index=True)"
   ]
  },
  {
   "cell_type": "code",
   "execution_count": 1310,
   "id": "68f1be55",
   "metadata": {},
   "outputs": [
    {
     "name": "stdout",
     "output_type": "stream",
     "text": [
      "<class 'pandas.core.frame.DataFrame'>\n",
      "RangeIndex: 1120 entries, 0 to 1119\n",
      "Data columns (total 9 columns):\n",
      " #   Column                    Non-Null Count  Dtype  \n",
      "---  ------                    --------------  -----  \n",
      " 0   id                        1120 non-null   object \n",
      " 1   name                      1120 non-null   object \n",
      " 2   area                      1120 non-null   object \n",
      " 3   experience                1120 non-null   object \n",
      " 4   schedule                  1120 non-null   object \n",
      " 5   employment                1120 non-null   object \n",
      " 6   professional_roles        1120 non-null   object \n",
      " 7   salary_from               1120 non-null   float64\n",
      " 8   description_clean_normal  1120 non-null   object \n",
      "dtypes: float64(1), object(8)\n",
      "memory usage: 78.9+ KB\n"
     ]
    }
   ],
   "source": [
    "new_vac_info_salary.info()"
   ]
  },
  {
   "cell_type": "code",
   "execution_count": 1315,
   "id": "9a783d00",
   "metadata": {},
   "outputs": [
    {
     "data": {
      "text/plain": [
       "0       63069.839157\n",
       "1       69318.947288\n",
       "2       62743.042085\n",
       "3       77517.352798\n",
       "4       45066.531128\n",
       "           ...      \n",
       "635     60000.000000\n",
       "636     60000.000000\n",
       "637    130000.000000\n",
       "638     80000.000000\n",
       "639      1600.000000\n",
       "Name: salary_from, Length: 320, dtype: float64"
      ]
     },
     "execution_count": 1315,
     "metadata": {},
     "output_type": "execute_result"
    }
   ],
   "source": [
    "new_vac_info_salary[new_vac_info_salary['area']=='Москва']['salary_from']"
   ]
  },
  {
   "cell_type": "markdown",
   "id": "73584d62",
   "metadata": {},
   "source": [
    "### Построим на одной плоскости графики, чтобы сравнить как измениться картина начальных зарплат по городам после применения модели "
   ]
  },
  {
   "cell_type": "code",
   "execution_count": 1319,
   "id": "c62ec6c1",
   "metadata": {},
   "outputs": [
    {
     "data": {
      "application/vnd.plotly.v1+json": {
       "config": {
        "plotlyServerURL": "https://plot.ly"
       },
       "data": [
        {
         "name": "Москва",
         "type": "box",
         "y": [
          60000,
          60000,
          60000,
          130000,
          80000,
          1600,
          60000,
          60000,
          60000,
          130000,
          80000,
          1600,
          60000,
          60000,
          60000,
          130000,
          80000,
          1600,
          60000,
          60000,
          60000,
          130000,
          80000,
          1600,
          60000,
          60000,
          60000,
          130000,
          80000,
          1600,
          60000,
          60000,
          60000,
          130000,
          80000,
          1600,
          60000,
          60000,
          60000,
          130000,
          80000,
          1600,
          60000,
          60000,
          60000,
          130000,
          80000,
          1600,
          60000,
          60000,
          60000,
          130000,
          80000,
          1600,
          60000,
          60000,
          60000,
          130000,
          80000,
          1600,
          60000,
          60000,
          60000,
          130000,
          80000,
          1600,
          60000,
          60000,
          60000,
          130000,
          80000,
          1600,
          60000,
          60000,
          60000,
          130000,
          80000,
          1600,
          60000,
          60000,
          60000,
          130000,
          80000,
          1600,
          60000,
          60000,
          60000,
          130000,
          80000,
          1600,
          60000,
          60000,
          60000,
          130000,
          80000,
          1600,
          60000,
          60000,
          60000,
          130000,
          80000,
          1600,
          60000,
          60000,
          60000,
          130000,
          80000,
          1600,
          60000,
          60000,
          60000,
          130000,
          80000,
          1600,
          60000,
          60000,
          60000,
          130000,
          80000,
          1600
         ]
        },
        {
         "fillcolor": "yellow",
         "name": "Москва+модель",
         "type": "box",
         "y": [
          63069.83915681295,
          69318.94728821355,
          62743.04208498767,
          77517.35279830461,
          45066.531128199116,
          64289.37695297291,
          55095.921642282185,
          37239.280387744504,
          55928.77115601307,
          60847.02350189914,
          63069.83915681295,
          69318.94728821355,
          62743.04208498767,
          77517.35279830461,
          45066.531128199116,
          64289.37695297291,
          55095.921642282185,
          37239.280387744504,
          55928.77115601307,
          60847.02350189914,
          63069.83915681295,
          69318.94728821355,
          62743.04208498767,
          77517.35279830461,
          45066.531128199116,
          64289.37695297291,
          55095.921642282185,
          37239.280387744504,
          55928.77115601307,
          60847.02350189914,
          63069.83915681295,
          69318.94728821355,
          62743.04208498767,
          77517.35279830461,
          45066.531128199116,
          64289.37695297291,
          55095.921642282185,
          37239.280387744504,
          55928.77115601307,
          60847.02350189914,
          63069.83915681295,
          69318.94728821355,
          62743.04208498767,
          77517.35279830461,
          45066.531128199116,
          64289.37695297291,
          55095.921642282185,
          37239.280387744504,
          55928.77115601307,
          60847.02350189914,
          63069.83915681295,
          69318.94728821355,
          62743.04208498767,
          77517.35279830461,
          45066.531128199116,
          64289.37695297291,
          55095.921642282185,
          37239.280387744504,
          55928.77115601307,
          60847.02350189914,
          63069.83915681295,
          69318.94728821355,
          62743.04208498767,
          77517.35279830461,
          45066.531128199116,
          64289.37695297291,
          55095.921642282185,
          37239.280387744504,
          55928.77115601307,
          60847.02350189914,
          63069.83915681295,
          69318.94728821355,
          62743.04208498767,
          77517.35279830461,
          45066.531128199116,
          64289.37695297291,
          55095.921642282185,
          37239.280387744504,
          55928.77115601307,
          60847.02350189914,
          63069.83915681295,
          69318.94728821355,
          62743.04208498767,
          77517.35279830461,
          45066.531128199116,
          64289.37695297291,
          55095.921642282185,
          37239.280387744504,
          55928.77115601307,
          60847.02350189914,
          63069.83915681295,
          69318.94728821355,
          62743.04208498767,
          77517.35279830461,
          45066.531128199116,
          64289.37695297291,
          55095.921642282185,
          37239.280387744504,
          55928.77115601307,
          60847.02350189914,
          63069.83915681295,
          69318.94728821355,
          62743.04208498767,
          77517.35279830461,
          45066.531128199116,
          64289.37695297291,
          55095.921642282185,
          37239.280387744504,
          55928.77115601307,
          60847.02350189914,
          63069.83915681295,
          69318.94728821355,
          62743.04208498767,
          77517.35279830461,
          45066.531128199116,
          64289.37695297291,
          55095.921642282185,
          37239.280387744504,
          55928.77115601307,
          60847.02350189914,
          63069.83915681295,
          69318.94728821355,
          62743.04208498767,
          77517.35279830461,
          45066.531128199116,
          64289.37695297291,
          55095.921642282185,
          37239.280387744504,
          55928.77115601307,
          60847.02350189914,
          63069.83915681295,
          69318.94728821355,
          62743.04208498767,
          77517.35279830461,
          45066.531128199116,
          64289.37695297291,
          55095.921642282185,
          37239.280387744504,
          55928.77115601307,
          60847.02350189914,
          63069.83915681295,
          69318.94728821355,
          62743.04208498767,
          77517.35279830461,
          45066.531128199116,
          64289.37695297291,
          55095.921642282185,
          37239.280387744504,
          55928.77115601307,
          60847.02350189914,
          63069.83915681295,
          69318.94728821355,
          62743.04208498767,
          77517.35279830461,
          45066.531128199116,
          64289.37695297291,
          55095.921642282185,
          37239.280387744504,
          55928.77115601307,
          60847.02350189914,
          63069.83915681295,
          69318.94728821355,
          62743.04208498767,
          77517.35279830461,
          45066.531128199116,
          64289.37695297291,
          55095.921642282185,
          37239.280387744504,
          55928.77115601307,
          60847.02350189914,
          63069.83915681295,
          69318.94728821355,
          62743.04208498767,
          77517.35279830461,
          45066.531128199116,
          64289.37695297291,
          55095.921642282185,
          37239.280387744504,
          55928.77115601307,
          60847.02350189914,
          63069.83915681295,
          69318.94728821355,
          62743.04208498767,
          77517.35279830461,
          45066.531128199116,
          64289.37695297291,
          55095.921642282185,
          37239.280387744504,
          55928.77115601307,
          60847.02350189914,
          63069.83915681295,
          69318.94728821355,
          62743.04208498767,
          77517.35279830461,
          45066.531128199116,
          64289.37695297291,
          55095.921642282185,
          37239.280387744504,
          55928.77115601307,
          60847.02350189914,
          60000,
          60000,
          60000,
          130000,
          80000,
          1600,
          60000,
          60000,
          60000,
          130000,
          80000,
          1600,
          60000,
          60000,
          60000,
          130000,
          80000,
          1600,
          60000,
          60000,
          60000,
          130000,
          80000,
          1600,
          60000,
          60000,
          60000,
          130000,
          80000,
          1600,
          60000,
          60000,
          60000,
          130000,
          80000,
          1600,
          60000,
          60000,
          60000,
          130000,
          80000,
          1600,
          60000,
          60000,
          60000,
          130000,
          80000,
          1600,
          60000,
          60000,
          60000,
          130000,
          80000,
          1600,
          60000,
          60000,
          60000,
          130000,
          80000,
          1600,
          60000,
          60000,
          60000,
          130000,
          80000,
          1600,
          60000,
          60000,
          60000,
          130000,
          80000,
          1600,
          60000,
          60000,
          60000,
          130000,
          80000,
          1600,
          60000,
          60000,
          60000,
          130000,
          80000,
          1600,
          60000,
          60000,
          60000,
          130000,
          80000,
          1600,
          60000,
          60000,
          60000,
          130000,
          80000,
          1600,
          60000,
          60000,
          60000,
          130000,
          80000,
          1600,
          60000,
          60000,
          60000,
          130000,
          80000,
          1600,
          60000,
          60000,
          60000,
          130000,
          80000,
          1600,
          60000,
          60000,
          60000,
          130000,
          80000,
          1600
         ]
        },
        {
         "name": "Санкт-Петербург",
         "type": "box",
         "y": [
          60000,
          60000,
          80000,
          60000,
          60000,
          80000,
          60000,
          60000,
          80000,
          60000,
          60000,
          80000,
          60000,
          60000,
          80000,
          60000,
          60000,
          80000,
          60000,
          60000,
          80000,
          60000,
          60000,
          80000,
          60000,
          60000,
          80000,
          60000,
          60000,
          80000,
          60000,
          60000,
          80000,
          60000,
          60000,
          80000,
          60000,
          60000,
          80000,
          60000,
          60000,
          80000,
          60000,
          60000,
          80000,
          60000,
          60000,
          80000,
          60000,
          60000,
          80000,
          60000,
          60000,
          80000,
          60000,
          60000,
          80000,
          60000,
          60000,
          80000
         ]
        },
        {
         "fillcolor": "yellow",
         "name": "Санкт-Петербург+модель",
         "type": "box",
         "y": [
          56554.70060034894,
          39426.734170726486,
          48341.76212541437,
          82465.91780363672,
          78132.25744971972,
          66255.15547437081,
          56686.88053428981,
          40321.8008782092,
          56554.70060034894,
          39426.734170726486,
          48341.76212541437,
          82465.91780363672,
          78132.25744971972,
          66255.15547437081,
          56686.88053428981,
          40321.8008782092,
          56554.70060034894,
          39426.734170726486,
          48341.76212541437,
          82465.91780363672,
          78132.25744971972,
          66255.15547437081,
          56686.88053428981,
          40321.8008782092,
          56554.70060034894,
          39426.734170726486,
          48341.76212541437,
          82465.91780363672,
          78132.25744971972,
          66255.15547437081,
          56686.88053428981,
          40321.8008782092,
          56554.70060034894,
          39426.734170726486,
          48341.76212541437,
          82465.91780363672,
          78132.25744971972,
          66255.15547437081,
          56686.88053428981,
          40321.8008782092,
          56554.70060034894,
          39426.734170726486,
          48341.76212541437,
          82465.91780363672,
          78132.25744971972,
          66255.15547437081,
          56686.88053428981,
          40321.8008782092,
          56554.70060034894,
          39426.734170726486,
          48341.76212541437,
          82465.91780363672,
          78132.25744971972,
          66255.15547437081,
          56686.88053428981,
          40321.8008782092,
          56554.70060034894,
          39426.734170726486,
          48341.76212541437,
          82465.91780363672,
          78132.25744971972,
          66255.15547437081,
          56686.88053428981,
          40321.8008782092,
          56554.70060034894,
          39426.734170726486,
          48341.76212541437,
          82465.91780363672,
          78132.25744971972,
          66255.15547437081,
          56686.88053428981,
          40321.8008782092,
          56554.70060034894,
          39426.734170726486,
          48341.76212541437,
          82465.91780363672,
          78132.25744971972,
          66255.15547437081,
          56686.88053428981,
          40321.8008782092,
          56554.70060034894,
          39426.734170726486,
          48341.76212541437,
          82465.91780363672,
          78132.25744971972,
          66255.15547437081,
          56686.88053428981,
          40321.8008782092,
          56554.70060034894,
          39426.734170726486,
          48341.76212541437,
          82465.91780363672,
          78132.25744971972,
          66255.15547437081,
          56686.88053428981,
          40321.8008782092,
          56554.70060034894,
          39426.734170726486,
          48341.76212541437,
          82465.91780363672,
          78132.25744971972,
          66255.15547437081,
          56686.88053428981,
          40321.8008782092,
          56554.70060034894,
          39426.734170726486,
          48341.76212541437,
          82465.91780363672,
          78132.25744971972,
          66255.15547437081,
          56686.88053428981,
          40321.8008782092,
          56554.70060034894,
          39426.734170726486,
          48341.76212541437,
          82465.91780363672,
          78132.25744971972,
          66255.15547437081,
          56686.88053428981,
          40321.8008782092,
          56554.70060034894,
          39426.734170726486,
          48341.76212541437,
          82465.91780363672,
          78132.25744971972,
          66255.15547437081,
          56686.88053428981,
          40321.8008782092,
          56554.70060034894,
          39426.734170726486,
          48341.76212541437,
          82465.91780363672,
          78132.25744971972,
          66255.15547437081,
          56686.88053428981,
          40321.8008782092,
          56554.70060034894,
          39426.734170726486,
          48341.76212541437,
          82465.91780363672,
          78132.25744971972,
          66255.15547437081,
          56686.88053428981,
          40321.8008782092,
          56554.70060034894,
          39426.734170726486,
          48341.76212541437,
          82465.91780363672,
          78132.25744971972,
          66255.15547437081,
          56686.88053428981,
          40321.8008782092,
          56554.70060034894,
          39426.734170726486,
          48341.76212541437,
          82465.91780363672,
          78132.25744971972,
          66255.15547437081,
          56686.88053428981,
          40321.8008782092,
          60000,
          60000,
          80000,
          60000,
          60000,
          80000,
          60000,
          60000,
          80000,
          60000,
          60000,
          80000,
          60000,
          60000,
          80000,
          60000,
          60000,
          80000,
          60000,
          60000,
          80000,
          60000,
          60000,
          80000,
          60000,
          60000,
          80000,
          60000,
          60000,
          80000,
          60000,
          60000,
          80000,
          60000,
          60000,
          80000,
          60000,
          60000,
          80000,
          60000,
          60000,
          80000,
          60000,
          60000,
          80000,
          60000,
          60000,
          80000,
          60000,
          60000,
          80000,
          60000,
          60000,
          80000,
          60000,
          60000,
          80000,
          60000,
          60000,
          80000
         ]
        },
        {
         "name": "Новосибирск",
         "type": "box",
         "y": [
          90000,
          1000,
          70000,
          60000,
          90000,
          1000,
          70000,
          60000,
          90000,
          1000,
          70000,
          60000,
          90000,
          1000,
          70000,
          60000,
          90000,
          1000,
          70000,
          60000,
          90000,
          1000,
          70000,
          60000,
          90000,
          1000,
          70000,
          60000,
          90000,
          1000,
          70000,
          60000,
          90000,
          1000,
          70000,
          60000,
          90000,
          1000,
          70000,
          60000,
          90000,
          1000,
          70000,
          60000,
          90000,
          1000,
          70000,
          60000,
          90000,
          1000,
          70000,
          60000,
          90000,
          1000,
          70000,
          60000,
          90000,
          1000,
          70000,
          60000,
          90000,
          1000,
          70000,
          60000,
          90000,
          1000,
          70000,
          60000,
          90000,
          1000,
          70000,
          60000,
          90000,
          1000,
          70000,
          60000,
          90000,
          1000,
          70000,
          60000
         ]
        },
        {
         "fillcolor": "yellow",
         "name": "Новосибирск+модель",
         "type": "box",
         "y": [
          51915.991415151184,
          60581.49834801787,
          51915.991415151184,
          60581.49834801787,
          51915.991415151184,
          60581.49834801787,
          51915.991415151184,
          60581.49834801787,
          51915.991415151184,
          60581.49834801787,
          51915.991415151184,
          60581.49834801787,
          51915.991415151184,
          60581.49834801787,
          51915.991415151184,
          60581.49834801787,
          51915.991415151184,
          60581.49834801787,
          51915.991415151184,
          60581.49834801787,
          51915.991415151184,
          60581.49834801787,
          51915.991415151184,
          60581.49834801787,
          51915.991415151184,
          60581.49834801787,
          51915.991415151184,
          60581.49834801787,
          51915.991415151184,
          60581.49834801787,
          51915.991415151184,
          60581.49834801787,
          51915.991415151184,
          60581.49834801787,
          51915.991415151184,
          60581.49834801787,
          51915.991415151184,
          60581.49834801787,
          51915.991415151184,
          60581.49834801787,
          90000,
          1000,
          70000,
          60000,
          90000,
          1000,
          70000,
          60000,
          90000,
          1000,
          70000,
          60000,
          90000,
          1000,
          70000,
          60000,
          90000,
          1000,
          70000,
          60000,
          90000,
          1000,
          70000,
          60000,
          90000,
          1000,
          70000,
          60000,
          90000,
          1000,
          70000,
          60000,
          90000,
          1000,
          70000,
          60000,
          90000,
          1000,
          70000,
          60000,
          90000,
          1000,
          70000,
          60000,
          90000,
          1000,
          70000,
          60000,
          90000,
          1000,
          70000,
          60000,
          90000,
          1000,
          70000,
          60000,
          90000,
          1000,
          70000,
          60000,
          90000,
          1000,
          70000,
          60000,
          90000,
          1000,
          70000,
          60000,
          90000,
          1000,
          70000,
          60000,
          90000,
          1000,
          70000,
          60000,
          90000,
          1000,
          70000,
          60000
         ]
        },
        {
         "name": "Самара",
         "type": "box",
         "y": [
          50000,
          80000,
          50000,
          80000,
          50000,
          80000,
          50000,
          80000,
          50000,
          80000,
          50000,
          80000,
          50000,
          80000,
          50000,
          80000,
          50000,
          80000,
          50000,
          80000,
          50000,
          80000,
          50000,
          80000,
          50000,
          80000,
          50000,
          80000,
          50000,
          80000,
          50000,
          80000,
          50000,
          80000,
          50000,
          80000,
          50000,
          80000,
          50000,
          80000
         ]
        },
        {
         "fillcolor": "yellow",
         "name": "Самара+модель",
         "type": "box",
         "y": [
          59943.4314235773,
          59943.4314235773,
          59943.4314235773,
          59943.4314235773,
          59943.4314235773,
          59943.4314235773,
          59943.4314235773,
          59943.4314235773,
          59943.4314235773,
          59943.4314235773,
          59943.4314235773,
          59943.4314235773,
          59943.4314235773,
          59943.4314235773,
          59943.4314235773,
          59943.4314235773,
          59943.4314235773,
          59943.4314235773,
          59943.4314235773,
          59943.4314235773,
          50000,
          80000,
          50000,
          80000,
          50000,
          80000,
          50000,
          80000,
          50000,
          80000,
          50000,
          80000,
          50000,
          80000,
          50000,
          80000,
          50000,
          80000,
          50000,
          80000,
          50000,
          80000,
          50000,
          80000,
          50000,
          80000,
          50000,
          80000,
          50000,
          80000,
          50000,
          80000,
          50000,
          80000,
          50000,
          80000,
          50000,
          80000,
          50000,
          80000
         ]
        },
        {
         "name": "Екатеринбург",
         "type": "box",
         "y": [
          35000,
          50000,
          200000,
          35000,
          35000,
          50000,
          200000,
          35000,
          35000,
          50000,
          200000,
          35000,
          35000,
          50000,
          200000,
          35000,
          35000,
          50000,
          200000,
          35000,
          35000,
          50000,
          200000,
          35000,
          35000,
          50000,
          200000,
          35000,
          35000,
          50000,
          200000,
          35000,
          35000,
          50000,
          200000,
          35000,
          35000,
          50000,
          200000,
          35000,
          35000,
          50000,
          200000,
          35000,
          35000,
          50000,
          200000,
          35000,
          35000,
          50000,
          200000,
          35000,
          35000,
          50000,
          200000,
          35000,
          35000,
          50000,
          200000,
          35000,
          35000,
          50000,
          200000,
          35000,
          35000,
          50000,
          200000,
          35000,
          35000,
          50000,
          200000,
          35000,
          35000,
          50000,
          200000,
          35000,
          35000,
          50000,
          200000,
          35000
         ]
        },
        {
         "fillcolor": "yellow",
         "name": "Екатеринбург+модель",
         "type": "box",
         "y": [
          35000,
          50000,
          200000,
          35000,
          35000,
          50000,
          200000,
          35000,
          35000,
          50000,
          200000,
          35000,
          35000,
          50000,
          200000,
          35000,
          35000,
          50000,
          200000,
          35000,
          35000,
          50000,
          200000,
          35000,
          35000,
          50000,
          200000,
          35000,
          35000,
          50000,
          200000,
          35000,
          35000,
          50000,
          200000,
          35000,
          35000,
          50000,
          200000,
          35000,
          35000,
          50000,
          200000,
          35000,
          35000,
          50000,
          200000,
          35000,
          35000,
          50000,
          200000,
          35000,
          35000,
          50000,
          200000,
          35000,
          35000,
          50000,
          200000,
          35000,
          35000,
          50000,
          200000,
          35000,
          35000,
          50000,
          200000,
          35000,
          35000,
          50000,
          200000,
          35000,
          35000,
          50000,
          200000,
          35000,
          35000,
          50000,
          200000,
          35000
         ]
        },
        {
         "name": "Нижний Новгород",
         "type": "box",
         "y": [
          10000,
          80000,
          70000,
          30000,
          50000,
          40000,
          10000,
          86000,
          10000,
          80000,
          70000,
          30000,
          50000,
          40000,
          10000,
          86000,
          10000,
          80000,
          70000,
          30000,
          50000,
          40000,
          10000,
          86000,
          10000,
          80000,
          70000,
          30000,
          50000,
          40000,
          10000,
          86000,
          10000,
          80000,
          70000,
          30000,
          50000,
          40000,
          10000,
          86000,
          10000,
          80000,
          70000,
          30000,
          50000,
          40000,
          10000,
          86000,
          10000,
          80000,
          70000,
          30000,
          50000,
          40000,
          10000,
          86000,
          10000,
          80000,
          70000,
          30000,
          50000,
          40000,
          10000,
          86000,
          10000,
          80000,
          70000,
          30000,
          50000,
          40000,
          10000,
          86000,
          10000,
          80000,
          70000,
          30000,
          50000,
          40000,
          10000,
          86000,
          10000,
          80000,
          70000,
          30000,
          50000,
          40000,
          10000,
          86000,
          10000,
          80000,
          70000,
          30000,
          50000,
          40000,
          10000,
          86000,
          10000,
          80000,
          70000,
          30000,
          50000,
          40000,
          10000,
          86000,
          10000,
          80000,
          70000,
          30000,
          50000,
          40000,
          10000,
          86000,
          10000,
          80000,
          70000,
          30000,
          50000,
          40000,
          10000,
          86000,
          10000,
          80000,
          70000,
          30000,
          50000,
          40000,
          10000,
          86000,
          10000,
          80000,
          70000,
          30000,
          50000,
          40000,
          10000,
          86000,
          10000,
          80000,
          70000,
          30000,
          50000,
          40000,
          10000,
          86000,
          10000,
          80000,
          70000,
          30000,
          50000,
          40000,
          10000,
          86000,
          10000,
          80000,
          70000,
          30000,
          50000,
          40000,
          10000,
          86000
         ]
        },
        {
         "fillcolor": "yellow",
         "name": "Нижний Новгород+модель",
         "type": "box",
         "y": [
          54459.53374666098,
          32923.48570100392,
          76420.40628379036,
          74401.67197343725,
          54459.53374666098,
          32923.48570100392,
          76420.40628379036,
          74401.67197343725,
          54459.53374666098,
          32923.48570100392,
          76420.40628379036,
          74401.67197343725,
          54459.53374666098,
          32923.48570100392,
          76420.40628379036,
          74401.67197343725,
          54459.53374666098,
          32923.48570100392,
          76420.40628379036,
          74401.67197343725,
          54459.53374666098,
          32923.48570100392,
          76420.40628379036,
          74401.67197343725,
          54459.53374666098,
          32923.48570100392,
          76420.40628379036,
          74401.67197343725,
          54459.53374666098,
          32923.48570100392,
          76420.40628379036,
          74401.67197343725,
          54459.53374666098,
          32923.48570100392,
          76420.40628379036,
          74401.67197343725,
          54459.53374666098,
          32923.48570100392,
          76420.40628379036,
          74401.67197343725,
          54459.53374666098,
          32923.48570100392,
          76420.40628379036,
          74401.67197343725,
          54459.53374666098,
          32923.48570100392,
          76420.40628379036,
          74401.67197343725,
          54459.53374666098,
          32923.48570100392,
          76420.40628379036,
          74401.67197343725,
          54459.53374666098,
          32923.48570100392,
          76420.40628379036,
          74401.67197343725,
          54459.53374666098,
          32923.48570100392,
          76420.40628379036,
          74401.67197343725,
          54459.53374666098,
          32923.48570100392,
          76420.40628379036,
          74401.67197343725,
          54459.53374666098,
          32923.48570100392,
          76420.40628379036,
          74401.67197343725,
          54459.53374666098,
          32923.48570100392,
          76420.40628379036,
          74401.67197343725,
          54459.53374666098,
          32923.48570100392,
          76420.40628379036,
          74401.67197343725,
          54459.53374666098,
          32923.48570100392,
          76420.40628379036,
          74401.67197343725,
          10000,
          80000,
          70000,
          30000,
          50000,
          40000,
          10000,
          86000,
          10000,
          80000,
          70000,
          30000,
          50000,
          40000,
          10000,
          86000,
          10000,
          80000,
          70000,
          30000,
          50000,
          40000,
          10000,
          86000,
          10000,
          80000,
          70000,
          30000,
          50000,
          40000,
          10000,
          86000,
          10000,
          80000,
          70000,
          30000,
          50000,
          40000,
          10000,
          86000,
          10000,
          80000,
          70000,
          30000,
          50000,
          40000,
          10000,
          86000,
          10000,
          80000,
          70000,
          30000,
          50000,
          40000,
          10000,
          86000,
          10000,
          80000,
          70000,
          30000,
          50000,
          40000,
          10000,
          86000,
          10000,
          80000,
          70000,
          30000,
          50000,
          40000,
          10000,
          86000,
          10000,
          80000,
          70000,
          30000,
          50000,
          40000,
          10000,
          86000,
          10000,
          80000,
          70000,
          30000,
          50000,
          40000,
          10000,
          86000,
          10000,
          80000,
          70000,
          30000,
          50000,
          40000,
          10000,
          86000,
          10000,
          80000,
          70000,
          30000,
          50000,
          40000,
          10000,
          86000,
          10000,
          80000,
          70000,
          30000,
          50000,
          40000,
          10000,
          86000,
          10000,
          80000,
          70000,
          30000,
          50000,
          40000,
          10000,
          86000,
          10000,
          80000,
          70000,
          30000,
          50000,
          40000,
          10000,
          86000,
          10000,
          80000,
          70000,
          30000,
          50000,
          40000,
          10000,
          86000,
          10000,
          80000,
          70000,
          30000,
          50000,
          40000,
          10000,
          86000,
          10000,
          80000,
          70000,
          30000,
          50000,
          40000,
          10000,
          86000,
          10000,
          80000,
          70000,
          30000,
          50000,
          40000,
          10000,
          86000
         ]
        },
        {
         "name": "Тула",
         "type": "box",
         "y": [
          50000,
          114000,
          35000,
          50000,
          114000,
          35000,
          50000,
          114000,
          35000,
          50000,
          114000,
          35000,
          50000,
          114000,
          35000,
          50000,
          114000,
          35000,
          50000,
          114000,
          35000,
          50000,
          114000,
          35000,
          50000,
          114000,
          35000,
          50000,
          114000,
          35000,
          50000,
          114000,
          35000,
          50000,
          114000,
          35000,
          50000,
          114000,
          35000,
          50000,
          114000,
          35000,
          50000,
          114000,
          35000,
          50000,
          114000,
          35000,
          50000,
          114000,
          35000,
          50000,
          114000,
          35000,
          50000,
          114000,
          35000,
          50000,
          114000,
          35000
         ]
        },
        {
         "fillcolor": "yellow",
         "name": "Тула+модель",
         "type": "box",
         "y": [
          73860.44965996186,
          73860.44965996186,
          73860.44965996186,
          73860.44965996186,
          73860.44965996186,
          73860.44965996186,
          73860.44965996186,
          73860.44965996186,
          73860.44965996186,
          73860.44965996186,
          73860.44965996186,
          73860.44965996186,
          73860.44965996186,
          73860.44965996186,
          73860.44965996186,
          73860.44965996186,
          73860.44965996186,
          73860.44965996186,
          73860.44965996186,
          73860.44965996186,
          50000,
          114000,
          35000,
          50000,
          114000,
          35000,
          50000,
          114000,
          35000,
          50000,
          114000,
          35000,
          50000,
          114000,
          35000,
          50000,
          114000,
          35000,
          50000,
          114000,
          35000,
          50000,
          114000,
          35000,
          50000,
          114000,
          35000,
          50000,
          114000,
          35000,
          50000,
          114000,
          35000,
          50000,
          114000,
          35000,
          50000,
          114000,
          35000,
          50000,
          114000,
          35000,
          50000,
          114000,
          35000,
          50000,
          114000,
          35000,
          50000,
          114000,
          35000,
          50000,
          114000,
          35000,
          50000,
          114000,
          35000,
          50000,
          114000,
          35000
         ]
        }
       ],
       "layout": {
        "template": {
         "data": {
          "bar": [
           {
            "error_x": {
             "color": "#2a3f5f"
            },
            "error_y": {
             "color": "#2a3f5f"
            },
            "marker": {
             "line": {
              "color": "#E5ECF6",
              "width": 0.5
             },
             "pattern": {
              "fillmode": "overlay",
              "size": 10,
              "solidity": 0.2
             }
            },
            "type": "bar"
           }
          ],
          "barpolar": [
           {
            "marker": {
             "line": {
              "color": "#E5ECF6",
              "width": 0.5
             },
             "pattern": {
              "fillmode": "overlay",
              "size": 10,
              "solidity": 0.2
             }
            },
            "type": "barpolar"
           }
          ],
          "carpet": [
           {
            "aaxis": {
             "endlinecolor": "#2a3f5f",
             "gridcolor": "white",
             "linecolor": "white",
             "minorgridcolor": "white",
             "startlinecolor": "#2a3f5f"
            },
            "baxis": {
             "endlinecolor": "#2a3f5f",
             "gridcolor": "white",
             "linecolor": "white",
             "minorgridcolor": "white",
             "startlinecolor": "#2a3f5f"
            },
            "type": "carpet"
           }
          ],
          "choropleth": [
           {
            "colorbar": {
             "outlinewidth": 0,
             "ticks": ""
            },
            "type": "choropleth"
           }
          ],
          "contour": [
           {
            "colorbar": {
             "outlinewidth": 0,
             "ticks": ""
            },
            "colorscale": [
             [
              0,
              "#0d0887"
             ],
             [
              0.1111111111111111,
              "#46039f"
             ],
             [
              0.2222222222222222,
              "#7201a8"
             ],
             [
              0.3333333333333333,
              "#9c179e"
             ],
             [
              0.4444444444444444,
              "#bd3786"
             ],
             [
              0.5555555555555556,
              "#d8576b"
             ],
             [
              0.6666666666666666,
              "#ed7953"
             ],
             [
              0.7777777777777778,
              "#fb9f3a"
             ],
             [
              0.8888888888888888,
              "#fdca26"
             ],
             [
              1,
              "#f0f921"
             ]
            ],
            "type": "contour"
           }
          ],
          "contourcarpet": [
           {
            "colorbar": {
             "outlinewidth": 0,
             "ticks": ""
            },
            "type": "contourcarpet"
           }
          ],
          "heatmap": [
           {
            "colorbar": {
             "outlinewidth": 0,
             "ticks": ""
            },
            "colorscale": [
             [
              0,
              "#0d0887"
             ],
             [
              0.1111111111111111,
              "#46039f"
             ],
             [
              0.2222222222222222,
              "#7201a8"
             ],
             [
              0.3333333333333333,
              "#9c179e"
             ],
             [
              0.4444444444444444,
              "#bd3786"
             ],
             [
              0.5555555555555556,
              "#d8576b"
             ],
             [
              0.6666666666666666,
              "#ed7953"
             ],
             [
              0.7777777777777778,
              "#fb9f3a"
             ],
             [
              0.8888888888888888,
              "#fdca26"
             ],
             [
              1,
              "#f0f921"
             ]
            ],
            "type": "heatmap"
           }
          ],
          "heatmapgl": [
           {
            "colorbar": {
             "outlinewidth": 0,
             "ticks": ""
            },
            "colorscale": [
             [
              0,
              "#0d0887"
             ],
             [
              0.1111111111111111,
              "#46039f"
             ],
             [
              0.2222222222222222,
              "#7201a8"
             ],
             [
              0.3333333333333333,
              "#9c179e"
             ],
             [
              0.4444444444444444,
              "#bd3786"
             ],
             [
              0.5555555555555556,
              "#d8576b"
             ],
             [
              0.6666666666666666,
              "#ed7953"
             ],
             [
              0.7777777777777778,
              "#fb9f3a"
             ],
             [
              0.8888888888888888,
              "#fdca26"
             ],
             [
              1,
              "#f0f921"
             ]
            ],
            "type": "heatmapgl"
           }
          ],
          "histogram": [
           {
            "marker": {
             "pattern": {
              "fillmode": "overlay",
              "size": 10,
              "solidity": 0.2
             }
            },
            "type": "histogram"
           }
          ],
          "histogram2d": [
           {
            "colorbar": {
             "outlinewidth": 0,
             "ticks": ""
            },
            "colorscale": [
             [
              0,
              "#0d0887"
             ],
             [
              0.1111111111111111,
              "#46039f"
             ],
             [
              0.2222222222222222,
              "#7201a8"
             ],
             [
              0.3333333333333333,
              "#9c179e"
             ],
             [
              0.4444444444444444,
              "#bd3786"
             ],
             [
              0.5555555555555556,
              "#d8576b"
             ],
             [
              0.6666666666666666,
              "#ed7953"
             ],
             [
              0.7777777777777778,
              "#fb9f3a"
             ],
             [
              0.8888888888888888,
              "#fdca26"
             ],
             [
              1,
              "#f0f921"
             ]
            ],
            "type": "histogram2d"
           }
          ],
          "histogram2dcontour": [
           {
            "colorbar": {
             "outlinewidth": 0,
             "ticks": ""
            },
            "colorscale": [
             [
              0,
              "#0d0887"
             ],
             [
              0.1111111111111111,
              "#46039f"
             ],
             [
              0.2222222222222222,
              "#7201a8"
             ],
             [
              0.3333333333333333,
              "#9c179e"
             ],
             [
              0.4444444444444444,
              "#bd3786"
             ],
             [
              0.5555555555555556,
              "#d8576b"
             ],
             [
              0.6666666666666666,
              "#ed7953"
             ],
             [
              0.7777777777777778,
              "#fb9f3a"
             ],
             [
              0.8888888888888888,
              "#fdca26"
             ],
             [
              1,
              "#f0f921"
             ]
            ],
            "type": "histogram2dcontour"
           }
          ],
          "mesh3d": [
           {
            "colorbar": {
             "outlinewidth": 0,
             "ticks": ""
            },
            "type": "mesh3d"
           }
          ],
          "parcoords": [
           {
            "line": {
             "colorbar": {
              "outlinewidth": 0,
              "ticks": ""
             }
            },
            "type": "parcoords"
           }
          ],
          "pie": [
           {
            "automargin": true,
            "type": "pie"
           }
          ],
          "scatter": [
           {
            "fillpattern": {
             "fillmode": "overlay",
             "size": 10,
             "solidity": 0.2
            },
            "type": "scatter"
           }
          ],
          "scatter3d": [
           {
            "line": {
             "colorbar": {
              "outlinewidth": 0,
              "ticks": ""
             }
            },
            "marker": {
             "colorbar": {
              "outlinewidth": 0,
              "ticks": ""
             }
            },
            "type": "scatter3d"
           }
          ],
          "scattercarpet": [
           {
            "marker": {
             "colorbar": {
              "outlinewidth": 0,
              "ticks": ""
             }
            },
            "type": "scattercarpet"
           }
          ],
          "scattergeo": [
           {
            "marker": {
             "colorbar": {
              "outlinewidth": 0,
              "ticks": ""
             }
            },
            "type": "scattergeo"
           }
          ],
          "scattergl": [
           {
            "marker": {
             "colorbar": {
              "outlinewidth": 0,
              "ticks": ""
             }
            },
            "type": "scattergl"
           }
          ],
          "scattermapbox": [
           {
            "marker": {
             "colorbar": {
              "outlinewidth": 0,
              "ticks": ""
             }
            },
            "type": "scattermapbox"
           }
          ],
          "scatterpolar": [
           {
            "marker": {
             "colorbar": {
              "outlinewidth": 0,
              "ticks": ""
             }
            },
            "type": "scatterpolar"
           }
          ],
          "scatterpolargl": [
           {
            "marker": {
             "colorbar": {
              "outlinewidth": 0,
              "ticks": ""
             }
            },
            "type": "scatterpolargl"
           }
          ],
          "scatterternary": [
           {
            "marker": {
             "colorbar": {
              "outlinewidth": 0,
              "ticks": ""
             }
            },
            "type": "scatterternary"
           }
          ],
          "surface": [
           {
            "colorbar": {
             "outlinewidth": 0,
             "ticks": ""
            },
            "colorscale": [
             [
              0,
              "#0d0887"
             ],
             [
              0.1111111111111111,
              "#46039f"
             ],
             [
              0.2222222222222222,
              "#7201a8"
             ],
             [
              0.3333333333333333,
              "#9c179e"
             ],
             [
              0.4444444444444444,
              "#bd3786"
             ],
             [
              0.5555555555555556,
              "#d8576b"
             ],
             [
              0.6666666666666666,
              "#ed7953"
             ],
             [
              0.7777777777777778,
              "#fb9f3a"
             ],
             [
              0.8888888888888888,
              "#fdca26"
             ],
             [
              1,
              "#f0f921"
             ]
            ],
            "type": "surface"
           }
          ],
          "table": [
           {
            "cells": {
             "fill": {
              "color": "#EBF0F8"
             },
             "line": {
              "color": "white"
             }
            },
            "header": {
             "fill": {
              "color": "#C8D4E3"
             },
             "line": {
              "color": "white"
             }
            },
            "type": "table"
           }
          ]
         },
         "layout": {
          "annotationdefaults": {
           "arrowcolor": "#2a3f5f",
           "arrowhead": 0,
           "arrowwidth": 1
          },
          "autotypenumbers": "strict",
          "coloraxis": {
           "colorbar": {
            "outlinewidth": 0,
            "ticks": ""
           }
          },
          "colorscale": {
           "diverging": [
            [
             0,
             "#8e0152"
            ],
            [
             0.1,
             "#c51b7d"
            ],
            [
             0.2,
             "#de77ae"
            ],
            [
             0.3,
             "#f1b6da"
            ],
            [
             0.4,
             "#fde0ef"
            ],
            [
             0.5,
             "#f7f7f7"
            ],
            [
             0.6,
             "#e6f5d0"
            ],
            [
             0.7,
             "#b8e186"
            ],
            [
             0.8,
             "#7fbc41"
            ],
            [
             0.9,
             "#4d9221"
            ],
            [
             1,
             "#276419"
            ]
           ],
           "sequential": [
            [
             0,
             "#0d0887"
            ],
            [
             0.1111111111111111,
             "#46039f"
            ],
            [
             0.2222222222222222,
             "#7201a8"
            ],
            [
             0.3333333333333333,
             "#9c179e"
            ],
            [
             0.4444444444444444,
             "#bd3786"
            ],
            [
             0.5555555555555556,
             "#d8576b"
            ],
            [
             0.6666666666666666,
             "#ed7953"
            ],
            [
             0.7777777777777778,
             "#fb9f3a"
            ],
            [
             0.8888888888888888,
             "#fdca26"
            ],
            [
             1,
             "#f0f921"
            ]
           ],
           "sequentialminus": [
            [
             0,
             "#0d0887"
            ],
            [
             0.1111111111111111,
             "#46039f"
            ],
            [
             0.2222222222222222,
             "#7201a8"
            ],
            [
             0.3333333333333333,
             "#9c179e"
            ],
            [
             0.4444444444444444,
             "#bd3786"
            ],
            [
             0.5555555555555556,
             "#d8576b"
            ],
            [
             0.6666666666666666,
             "#ed7953"
            ],
            [
             0.7777777777777778,
             "#fb9f3a"
            ],
            [
             0.8888888888888888,
             "#fdca26"
            ],
            [
             1,
             "#f0f921"
            ]
           ]
          },
          "colorway": [
           "#636efa",
           "#EF553B",
           "#00cc96",
           "#ab63fa",
           "#FFA15A",
           "#19d3f3",
           "#FF6692",
           "#B6E880",
           "#FF97FF",
           "#FECB52"
          ],
          "font": {
           "color": "#2a3f5f"
          },
          "geo": {
           "bgcolor": "white",
           "lakecolor": "white",
           "landcolor": "#E5ECF6",
           "showlakes": true,
           "showland": true,
           "subunitcolor": "white"
          },
          "hoverlabel": {
           "align": "left"
          },
          "hovermode": "closest",
          "mapbox": {
           "style": "light"
          },
          "paper_bgcolor": "white",
          "plot_bgcolor": "#E5ECF6",
          "polar": {
           "angularaxis": {
            "gridcolor": "white",
            "linecolor": "white",
            "ticks": ""
           },
           "bgcolor": "#E5ECF6",
           "radialaxis": {
            "gridcolor": "white",
            "linecolor": "white",
            "ticks": ""
           }
          },
          "scene": {
           "xaxis": {
            "backgroundcolor": "#E5ECF6",
            "gridcolor": "white",
            "gridwidth": 2,
            "linecolor": "white",
            "showbackground": true,
            "ticks": "",
            "zerolinecolor": "white"
           },
           "yaxis": {
            "backgroundcolor": "#E5ECF6",
            "gridcolor": "white",
            "gridwidth": 2,
            "linecolor": "white",
            "showbackground": true,
            "ticks": "",
            "zerolinecolor": "white"
           },
           "zaxis": {
            "backgroundcolor": "#E5ECF6",
            "gridcolor": "white",
            "gridwidth": 2,
            "linecolor": "white",
            "showbackground": true,
            "ticks": "",
            "zerolinecolor": "white"
           }
          },
          "shapedefaults": {
           "line": {
            "color": "#2a3f5f"
           }
          },
          "ternary": {
           "aaxis": {
            "gridcolor": "white",
            "linecolor": "white",
            "ticks": ""
           },
           "baxis": {
            "gridcolor": "white",
            "linecolor": "white",
            "ticks": ""
           },
           "bgcolor": "#E5ECF6",
           "caxis": {
            "gridcolor": "white",
            "linecolor": "white",
            "ticks": ""
           }
          },
          "title": {
           "x": 0.05
          },
          "xaxis": {
           "automargin": true,
           "gridcolor": "white",
           "linecolor": "white",
           "ticks": "",
           "title": {
            "standoff": 15
           },
           "zerolinecolor": "white",
           "zerolinewidth": 2
          },
          "yaxis": {
           "automargin": true,
           "gridcolor": "white",
           "linecolor": "white",
           "ticks": "",
           "title": {
            "standoff": 15
           },
           "zerolinecolor": "white",
           "zerolinewidth": 2
          }
         }
        }
       }
      },
      "text/html": [
       "<div>                            <div id=\"4cfc0112-c735-4f92-9039-84416fb6af11\" class=\"plotly-graph-div\" style=\"height:525px; width:100%;\"></div>            <script type=\"text/javascript\">                require([\"plotly\"], function(Plotly) {                    window.PLOTLYENV=window.PLOTLYENV || {};                                    if (document.getElementById(\"4cfc0112-c735-4f92-9039-84416fb6af11\")) {                    Plotly.newPlot(                        \"4cfc0112-c735-4f92-9039-84416fb6af11\",                        [{\"name\":\"\\u041c\\u043e\\u0441\\u043a\\u0432\\u0430\",\"y\":[60000.0,60000.0,60000.0,130000.0,80000.0,1600.0,60000.0,60000.0,60000.0,130000.0,80000.0,1600.0,60000.0,60000.0,60000.0,130000.0,80000.0,1600.0,60000.0,60000.0,60000.0,130000.0,80000.0,1600.0,60000.0,60000.0,60000.0,130000.0,80000.0,1600.0,60000.0,60000.0,60000.0,130000.0,80000.0,1600.0,60000.0,60000.0,60000.0,130000.0,80000.0,1600.0,60000.0,60000.0,60000.0,130000.0,80000.0,1600.0,60000.0,60000.0,60000.0,130000.0,80000.0,1600.0,60000.0,60000.0,60000.0,130000.0,80000.0,1600.0,60000.0,60000.0,60000.0,130000.0,80000.0,1600.0,60000.0,60000.0,60000.0,130000.0,80000.0,1600.0,60000.0,60000.0,60000.0,130000.0,80000.0,1600.0,60000.0,60000.0,60000.0,130000.0,80000.0,1600.0,60000.0,60000.0,60000.0,130000.0,80000.0,1600.0,60000.0,60000.0,60000.0,130000.0,80000.0,1600.0,60000.0,60000.0,60000.0,130000.0,80000.0,1600.0,60000.0,60000.0,60000.0,130000.0,80000.0,1600.0,60000.0,60000.0,60000.0,130000.0,80000.0,1600.0,60000.0,60000.0,60000.0,130000.0,80000.0,1600.0],\"type\":\"box\"},{\"fillcolor\":\"yellow\",\"name\":\"\\u041c\\u043e\\u0441\\u043a\\u0432\\u0430+\\u043c\\u043e\\u0434\\u0435\\u043b\\u044c\",\"y\":[63069.83915681295,69318.94728821355,62743.04208498767,77517.35279830461,45066.531128199116,64289.37695297291,55095.921642282185,37239.280387744504,55928.77115601307,60847.02350189914,63069.83915681295,69318.94728821355,62743.04208498767,77517.35279830461,45066.531128199116,64289.37695297291,55095.921642282185,37239.280387744504,55928.77115601307,60847.02350189914,63069.83915681295,69318.94728821355,62743.04208498767,77517.35279830461,45066.531128199116,64289.37695297291,55095.921642282185,37239.280387744504,55928.77115601307,60847.02350189914,63069.83915681295,69318.94728821355,62743.04208498767,77517.35279830461,45066.531128199116,64289.37695297291,55095.921642282185,37239.280387744504,55928.77115601307,60847.02350189914,63069.83915681295,69318.94728821355,62743.04208498767,77517.35279830461,45066.531128199116,64289.37695297291,55095.921642282185,37239.280387744504,55928.77115601307,60847.02350189914,63069.83915681295,69318.94728821355,62743.04208498767,77517.35279830461,45066.531128199116,64289.37695297291,55095.921642282185,37239.280387744504,55928.77115601307,60847.02350189914,63069.83915681295,69318.94728821355,62743.04208498767,77517.35279830461,45066.531128199116,64289.37695297291,55095.921642282185,37239.280387744504,55928.77115601307,60847.02350189914,63069.83915681295,69318.94728821355,62743.04208498767,77517.35279830461,45066.531128199116,64289.37695297291,55095.921642282185,37239.280387744504,55928.77115601307,60847.02350189914,63069.83915681295,69318.94728821355,62743.04208498767,77517.35279830461,45066.531128199116,64289.37695297291,55095.921642282185,37239.280387744504,55928.77115601307,60847.02350189914,63069.83915681295,69318.94728821355,62743.04208498767,77517.35279830461,45066.531128199116,64289.37695297291,55095.921642282185,37239.280387744504,55928.77115601307,60847.02350189914,63069.83915681295,69318.94728821355,62743.04208498767,77517.35279830461,45066.531128199116,64289.37695297291,55095.921642282185,37239.280387744504,55928.77115601307,60847.02350189914,63069.83915681295,69318.94728821355,62743.04208498767,77517.35279830461,45066.531128199116,64289.37695297291,55095.921642282185,37239.280387744504,55928.77115601307,60847.02350189914,63069.83915681295,69318.94728821355,62743.04208498767,77517.35279830461,45066.531128199116,64289.37695297291,55095.921642282185,37239.280387744504,55928.77115601307,60847.02350189914,63069.83915681295,69318.94728821355,62743.04208498767,77517.35279830461,45066.531128199116,64289.37695297291,55095.921642282185,37239.280387744504,55928.77115601307,60847.02350189914,63069.83915681295,69318.94728821355,62743.04208498767,77517.35279830461,45066.531128199116,64289.37695297291,55095.921642282185,37239.280387744504,55928.77115601307,60847.02350189914,63069.83915681295,69318.94728821355,62743.04208498767,77517.35279830461,45066.531128199116,64289.37695297291,55095.921642282185,37239.280387744504,55928.77115601307,60847.02350189914,63069.83915681295,69318.94728821355,62743.04208498767,77517.35279830461,45066.531128199116,64289.37695297291,55095.921642282185,37239.280387744504,55928.77115601307,60847.02350189914,63069.83915681295,69318.94728821355,62743.04208498767,77517.35279830461,45066.531128199116,64289.37695297291,55095.921642282185,37239.280387744504,55928.77115601307,60847.02350189914,63069.83915681295,69318.94728821355,62743.04208498767,77517.35279830461,45066.531128199116,64289.37695297291,55095.921642282185,37239.280387744504,55928.77115601307,60847.02350189914,63069.83915681295,69318.94728821355,62743.04208498767,77517.35279830461,45066.531128199116,64289.37695297291,55095.921642282185,37239.280387744504,55928.77115601307,60847.02350189914,60000.0,60000.0,60000.0,130000.0,80000.0,1600.0,60000.0,60000.0,60000.0,130000.0,80000.0,1600.0,60000.0,60000.0,60000.0,130000.0,80000.0,1600.0,60000.0,60000.0,60000.0,130000.0,80000.0,1600.0,60000.0,60000.0,60000.0,130000.0,80000.0,1600.0,60000.0,60000.0,60000.0,130000.0,80000.0,1600.0,60000.0,60000.0,60000.0,130000.0,80000.0,1600.0,60000.0,60000.0,60000.0,130000.0,80000.0,1600.0,60000.0,60000.0,60000.0,130000.0,80000.0,1600.0,60000.0,60000.0,60000.0,130000.0,80000.0,1600.0,60000.0,60000.0,60000.0,130000.0,80000.0,1600.0,60000.0,60000.0,60000.0,130000.0,80000.0,1600.0,60000.0,60000.0,60000.0,130000.0,80000.0,1600.0,60000.0,60000.0,60000.0,130000.0,80000.0,1600.0,60000.0,60000.0,60000.0,130000.0,80000.0,1600.0,60000.0,60000.0,60000.0,130000.0,80000.0,1600.0,60000.0,60000.0,60000.0,130000.0,80000.0,1600.0,60000.0,60000.0,60000.0,130000.0,80000.0,1600.0,60000.0,60000.0,60000.0,130000.0,80000.0,1600.0,60000.0,60000.0,60000.0,130000.0,80000.0,1600.0],\"type\":\"box\"},{\"name\":\"\\u0421\\u0430\\u043d\\u043a\\u0442-\\u041f\\u0435\\u0442\\u0435\\u0440\\u0431\\u0443\\u0440\\u0433\",\"y\":[60000.0,60000.0,80000.0,60000.0,60000.0,80000.0,60000.0,60000.0,80000.0,60000.0,60000.0,80000.0,60000.0,60000.0,80000.0,60000.0,60000.0,80000.0,60000.0,60000.0,80000.0,60000.0,60000.0,80000.0,60000.0,60000.0,80000.0,60000.0,60000.0,80000.0,60000.0,60000.0,80000.0,60000.0,60000.0,80000.0,60000.0,60000.0,80000.0,60000.0,60000.0,80000.0,60000.0,60000.0,80000.0,60000.0,60000.0,80000.0,60000.0,60000.0,80000.0,60000.0,60000.0,80000.0,60000.0,60000.0,80000.0,60000.0,60000.0,80000.0],\"type\":\"box\"},{\"fillcolor\":\"yellow\",\"name\":\"\\u0421\\u0430\\u043d\\u043a\\u0442-\\u041f\\u0435\\u0442\\u0435\\u0440\\u0431\\u0443\\u0440\\u0433+\\u043c\\u043e\\u0434\\u0435\\u043b\\u044c\",\"y\":[56554.70060034894,39426.734170726486,48341.76212541437,82465.91780363672,78132.25744971972,66255.15547437081,56686.88053428981,40321.8008782092,56554.70060034894,39426.734170726486,48341.76212541437,82465.91780363672,78132.25744971972,66255.15547437081,56686.88053428981,40321.8008782092,56554.70060034894,39426.734170726486,48341.76212541437,82465.91780363672,78132.25744971972,66255.15547437081,56686.88053428981,40321.8008782092,56554.70060034894,39426.734170726486,48341.76212541437,82465.91780363672,78132.25744971972,66255.15547437081,56686.88053428981,40321.8008782092,56554.70060034894,39426.734170726486,48341.76212541437,82465.91780363672,78132.25744971972,66255.15547437081,56686.88053428981,40321.8008782092,56554.70060034894,39426.734170726486,48341.76212541437,82465.91780363672,78132.25744971972,66255.15547437081,56686.88053428981,40321.8008782092,56554.70060034894,39426.734170726486,48341.76212541437,82465.91780363672,78132.25744971972,66255.15547437081,56686.88053428981,40321.8008782092,56554.70060034894,39426.734170726486,48341.76212541437,82465.91780363672,78132.25744971972,66255.15547437081,56686.88053428981,40321.8008782092,56554.70060034894,39426.734170726486,48341.76212541437,82465.91780363672,78132.25744971972,66255.15547437081,56686.88053428981,40321.8008782092,56554.70060034894,39426.734170726486,48341.76212541437,82465.91780363672,78132.25744971972,66255.15547437081,56686.88053428981,40321.8008782092,56554.70060034894,39426.734170726486,48341.76212541437,82465.91780363672,78132.25744971972,66255.15547437081,56686.88053428981,40321.8008782092,56554.70060034894,39426.734170726486,48341.76212541437,82465.91780363672,78132.25744971972,66255.15547437081,56686.88053428981,40321.8008782092,56554.70060034894,39426.734170726486,48341.76212541437,82465.91780363672,78132.25744971972,66255.15547437081,56686.88053428981,40321.8008782092,56554.70060034894,39426.734170726486,48341.76212541437,82465.91780363672,78132.25744971972,66255.15547437081,56686.88053428981,40321.8008782092,56554.70060034894,39426.734170726486,48341.76212541437,82465.91780363672,78132.25744971972,66255.15547437081,56686.88053428981,40321.8008782092,56554.70060034894,39426.734170726486,48341.76212541437,82465.91780363672,78132.25744971972,66255.15547437081,56686.88053428981,40321.8008782092,56554.70060034894,39426.734170726486,48341.76212541437,82465.91780363672,78132.25744971972,66255.15547437081,56686.88053428981,40321.8008782092,56554.70060034894,39426.734170726486,48341.76212541437,82465.91780363672,78132.25744971972,66255.15547437081,56686.88053428981,40321.8008782092,56554.70060034894,39426.734170726486,48341.76212541437,82465.91780363672,78132.25744971972,66255.15547437081,56686.88053428981,40321.8008782092,56554.70060034894,39426.734170726486,48341.76212541437,82465.91780363672,78132.25744971972,66255.15547437081,56686.88053428981,40321.8008782092,60000.0,60000.0,80000.0,60000.0,60000.0,80000.0,60000.0,60000.0,80000.0,60000.0,60000.0,80000.0,60000.0,60000.0,80000.0,60000.0,60000.0,80000.0,60000.0,60000.0,80000.0,60000.0,60000.0,80000.0,60000.0,60000.0,80000.0,60000.0,60000.0,80000.0,60000.0,60000.0,80000.0,60000.0,60000.0,80000.0,60000.0,60000.0,80000.0,60000.0,60000.0,80000.0,60000.0,60000.0,80000.0,60000.0,60000.0,80000.0,60000.0,60000.0,80000.0,60000.0,60000.0,80000.0,60000.0,60000.0,80000.0,60000.0,60000.0,80000.0],\"type\":\"box\"},{\"name\":\"\\u041d\\u043e\\u0432\\u043e\\u0441\\u0438\\u0431\\u0438\\u0440\\u0441\\u043a\",\"y\":[90000.0,1000.0,70000.0,60000.0,90000.0,1000.0,70000.0,60000.0,90000.0,1000.0,70000.0,60000.0,90000.0,1000.0,70000.0,60000.0,90000.0,1000.0,70000.0,60000.0,90000.0,1000.0,70000.0,60000.0,90000.0,1000.0,70000.0,60000.0,90000.0,1000.0,70000.0,60000.0,90000.0,1000.0,70000.0,60000.0,90000.0,1000.0,70000.0,60000.0,90000.0,1000.0,70000.0,60000.0,90000.0,1000.0,70000.0,60000.0,90000.0,1000.0,70000.0,60000.0,90000.0,1000.0,70000.0,60000.0,90000.0,1000.0,70000.0,60000.0,90000.0,1000.0,70000.0,60000.0,90000.0,1000.0,70000.0,60000.0,90000.0,1000.0,70000.0,60000.0,90000.0,1000.0,70000.0,60000.0,90000.0,1000.0,70000.0,60000.0],\"type\":\"box\"},{\"fillcolor\":\"yellow\",\"name\":\"\\u041d\\u043e\\u0432\\u043e\\u0441\\u0438\\u0431\\u0438\\u0440\\u0441\\u043a+\\u043c\\u043e\\u0434\\u0435\\u043b\\u044c\",\"y\":[51915.991415151184,60581.49834801787,51915.991415151184,60581.49834801787,51915.991415151184,60581.49834801787,51915.991415151184,60581.49834801787,51915.991415151184,60581.49834801787,51915.991415151184,60581.49834801787,51915.991415151184,60581.49834801787,51915.991415151184,60581.49834801787,51915.991415151184,60581.49834801787,51915.991415151184,60581.49834801787,51915.991415151184,60581.49834801787,51915.991415151184,60581.49834801787,51915.991415151184,60581.49834801787,51915.991415151184,60581.49834801787,51915.991415151184,60581.49834801787,51915.991415151184,60581.49834801787,51915.991415151184,60581.49834801787,51915.991415151184,60581.49834801787,51915.991415151184,60581.49834801787,51915.991415151184,60581.49834801787,90000.0,1000.0,70000.0,60000.0,90000.0,1000.0,70000.0,60000.0,90000.0,1000.0,70000.0,60000.0,90000.0,1000.0,70000.0,60000.0,90000.0,1000.0,70000.0,60000.0,90000.0,1000.0,70000.0,60000.0,90000.0,1000.0,70000.0,60000.0,90000.0,1000.0,70000.0,60000.0,90000.0,1000.0,70000.0,60000.0,90000.0,1000.0,70000.0,60000.0,90000.0,1000.0,70000.0,60000.0,90000.0,1000.0,70000.0,60000.0,90000.0,1000.0,70000.0,60000.0,90000.0,1000.0,70000.0,60000.0,90000.0,1000.0,70000.0,60000.0,90000.0,1000.0,70000.0,60000.0,90000.0,1000.0,70000.0,60000.0,90000.0,1000.0,70000.0,60000.0,90000.0,1000.0,70000.0,60000.0,90000.0,1000.0,70000.0,60000.0],\"type\":\"box\"},{\"name\":\"\\u0421\\u0430\\u043c\\u0430\\u0440\\u0430\",\"y\":[50000.0,80000.0,50000.0,80000.0,50000.0,80000.0,50000.0,80000.0,50000.0,80000.0,50000.0,80000.0,50000.0,80000.0,50000.0,80000.0,50000.0,80000.0,50000.0,80000.0,50000.0,80000.0,50000.0,80000.0,50000.0,80000.0,50000.0,80000.0,50000.0,80000.0,50000.0,80000.0,50000.0,80000.0,50000.0,80000.0,50000.0,80000.0,50000.0,80000.0],\"type\":\"box\"},{\"fillcolor\":\"yellow\",\"name\":\"\\u0421\\u0430\\u043c\\u0430\\u0440\\u0430+\\u043c\\u043e\\u0434\\u0435\\u043b\\u044c\",\"y\":[59943.4314235773,59943.4314235773,59943.4314235773,59943.4314235773,59943.4314235773,59943.4314235773,59943.4314235773,59943.4314235773,59943.4314235773,59943.4314235773,59943.4314235773,59943.4314235773,59943.4314235773,59943.4314235773,59943.4314235773,59943.4314235773,59943.4314235773,59943.4314235773,59943.4314235773,59943.4314235773,50000.0,80000.0,50000.0,80000.0,50000.0,80000.0,50000.0,80000.0,50000.0,80000.0,50000.0,80000.0,50000.0,80000.0,50000.0,80000.0,50000.0,80000.0,50000.0,80000.0,50000.0,80000.0,50000.0,80000.0,50000.0,80000.0,50000.0,80000.0,50000.0,80000.0,50000.0,80000.0,50000.0,80000.0,50000.0,80000.0,50000.0,80000.0,50000.0,80000.0],\"type\":\"box\"},{\"name\":\"\\u0415\\u043a\\u0430\\u0442\\u0435\\u0440\\u0438\\u043d\\u0431\\u0443\\u0440\\u0433\",\"y\":[35000.0,50000.0,200000.0,35000.0,35000.0,50000.0,200000.0,35000.0,35000.0,50000.0,200000.0,35000.0,35000.0,50000.0,200000.0,35000.0,35000.0,50000.0,200000.0,35000.0,35000.0,50000.0,200000.0,35000.0,35000.0,50000.0,200000.0,35000.0,35000.0,50000.0,200000.0,35000.0,35000.0,50000.0,200000.0,35000.0,35000.0,50000.0,200000.0,35000.0,35000.0,50000.0,200000.0,35000.0,35000.0,50000.0,200000.0,35000.0,35000.0,50000.0,200000.0,35000.0,35000.0,50000.0,200000.0,35000.0,35000.0,50000.0,200000.0,35000.0,35000.0,50000.0,200000.0,35000.0,35000.0,50000.0,200000.0,35000.0,35000.0,50000.0,200000.0,35000.0,35000.0,50000.0,200000.0,35000.0,35000.0,50000.0,200000.0,35000.0],\"type\":\"box\"},{\"fillcolor\":\"yellow\",\"name\":\"\\u0415\\u043a\\u0430\\u0442\\u0435\\u0440\\u0438\\u043d\\u0431\\u0443\\u0440\\u0433+\\u043c\\u043e\\u0434\\u0435\\u043b\\u044c\",\"y\":[35000.0,50000.0,200000.0,35000.0,35000.0,50000.0,200000.0,35000.0,35000.0,50000.0,200000.0,35000.0,35000.0,50000.0,200000.0,35000.0,35000.0,50000.0,200000.0,35000.0,35000.0,50000.0,200000.0,35000.0,35000.0,50000.0,200000.0,35000.0,35000.0,50000.0,200000.0,35000.0,35000.0,50000.0,200000.0,35000.0,35000.0,50000.0,200000.0,35000.0,35000.0,50000.0,200000.0,35000.0,35000.0,50000.0,200000.0,35000.0,35000.0,50000.0,200000.0,35000.0,35000.0,50000.0,200000.0,35000.0,35000.0,50000.0,200000.0,35000.0,35000.0,50000.0,200000.0,35000.0,35000.0,50000.0,200000.0,35000.0,35000.0,50000.0,200000.0,35000.0,35000.0,50000.0,200000.0,35000.0,35000.0,50000.0,200000.0,35000.0],\"type\":\"box\"},{\"name\":\"\\u041d\\u0438\\u0436\\u043d\\u0438\\u0439 \\u041d\\u043e\\u0432\\u0433\\u043e\\u0440\\u043e\\u0434\",\"y\":[10000.0,80000.0,70000.0,30000.0,50000.0,40000.0,10000.0,86000.0,10000.0,80000.0,70000.0,30000.0,50000.0,40000.0,10000.0,86000.0,10000.0,80000.0,70000.0,30000.0,50000.0,40000.0,10000.0,86000.0,10000.0,80000.0,70000.0,30000.0,50000.0,40000.0,10000.0,86000.0,10000.0,80000.0,70000.0,30000.0,50000.0,40000.0,10000.0,86000.0,10000.0,80000.0,70000.0,30000.0,50000.0,40000.0,10000.0,86000.0,10000.0,80000.0,70000.0,30000.0,50000.0,40000.0,10000.0,86000.0,10000.0,80000.0,70000.0,30000.0,50000.0,40000.0,10000.0,86000.0,10000.0,80000.0,70000.0,30000.0,50000.0,40000.0,10000.0,86000.0,10000.0,80000.0,70000.0,30000.0,50000.0,40000.0,10000.0,86000.0,10000.0,80000.0,70000.0,30000.0,50000.0,40000.0,10000.0,86000.0,10000.0,80000.0,70000.0,30000.0,50000.0,40000.0,10000.0,86000.0,10000.0,80000.0,70000.0,30000.0,50000.0,40000.0,10000.0,86000.0,10000.0,80000.0,70000.0,30000.0,50000.0,40000.0,10000.0,86000.0,10000.0,80000.0,70000.0,30000.0,50000.0,40000.0,10000.0,86000.0,10000.0,80000.0,70000.0,30000.0,50000.0,40000.0,10000.0,86000.0,10000.0,80000.0,70000.0,30000.0,50000.0,40000.0,10000.0,86000.0,10000.0,80000.0,70000.0,30000.0,50000.0,40000.0,10000.0,86000.0,10000.0,80000.0,70000.0,30000.0,50000.0,40000.0,10000.0,86000.0,10000.0,80000.0,70000.0,30000.0,50000.0,40000.0,10000.0,86000.0],\"type\":\"box\"},{\"fillcolor\":\"yellow\",\"name\":\"\\u041d\\u0438\\u0436\\u043d\\u0438\\u0439 \\u041d\\u043e\\u0432\\u0433\\u043e\\u0440\\u043e\\u0434+\\u043c\\u043e\\u0434\\u0435\\u043b\\u044c\",\"y\":[54459.53374666098,32923.48570100392,76420.40628379036,74401.67197343725,54459.53374666098,32923.48570100392,76420.40628379036,74401.67197343725,54459.53374666098,32923.48570100392,76420.40628379036,74401.67197343725,54459.53374666098,32923.48570100392,76420.40628379036,74401.67197343725,54459.53374666098,32923.48570100392,76420.40628379036,74401.67197343725,54459.53374666098,32923.48570100392,76420.40628379036,74401.67197343725,54459.53374666098,32923.48570100392,76420.40628379036,74401.67197343725,54459.53374666098,32923.48570100392,76420.40628379036,74401.67197343725,54459.53374666098,32923.48570100392,76420.40628379036,74401.67197343725,54459.53374666098,32923.48570100392,76420.40628379036,74401.67197343725,54459.53374666098,32923.48570100392,76420.40628379036,74401.67197343725,54459.53374666098,32923.48570100392,76420.40628379036,74401.67197343725,54459.53374666098,32923.48570100392,76420.40628379036,74401.67197343725,54459.53374666098,32923.48570100392,76420.40628379036,74401.67197343725,54459.53374666098,32923.48570100392,76420.40628379036,74401.67197343725,54459.53374666098,32923.48570100392,76420.40628379036,74401.67197343725,54459.53374666098,32923.48570100392,76420.40628379036,74401.67197343725,54459.53374666098,32923.48570100392,76420.40628379036,74401.67197343725,54459.53374666098,32923.48570100392,76420.40628379036,74401.67197343725,54459.53374666098,32923.48570100392,76420.40628379036,74401.67197343725,10000.0,80000.0,70000.0,30000.0,50000.0,40000.0,10000.0,86000.0,10000.0,80000.0,70000.0,30000.0,50000.0,40000.0,10000.0,86000.0,10000.0,80000.0,70000.0,30000.0,50000.0,40000.0,10000.0,86000.0,10000.0,80000.0,70000.0,30000.0,50000.0,40000.0,10000.0,86000.0,10000.0,80000.0,70000.0,30000.0,50000.0,40000.0,10000.0,86000.0,10000.0,80000.0,70000.0,30000.0,50000.0,40000.0,10000.0,86000.0,10000.0,80000.0,70000.0,30000.0,50000.0,40000.0,10000.0,86000.0,10000.0,80000.0,70000.0,30000.0,50000.0,40000.0,10000.0,86000.0,10000.0,80000.0,70000.0,30000.0,50000.0,40000.0,10000.0,86000.0,10000.0,80000.0,70000.0,30000.0,50000.0,40000.0,10000.0,86000.0,10000.0,80000.0,70000.0,30000.0,50000.0,40000.0,10000.0,86000.0,10000.0,80000.0,70000.0,30000.0,50000.0,40000.0,10000.0,86000.0,10000.0,80000.0,70000.0,30000.0,50000.0,40000.0,10000.0,86000.0,10000.0,80000.0,70000.0,30000.0,50000.0,40000.0,10000.0,86000.0,10000.0,80000.0,70000.0,30000.0,50000.0,40000.0,10000.0,86000.0,10000.0,80000.0,70000.0,30000.0,50000.0,40000.0,10000.0,86000.0,10000.0,80000.0,70000.0,30000.0,50000.0,40000.0,10000.0,86000.0,10000.0,80000.0,70000.0,30000.0,50000.0,40000.0,10000.0,86000.0,10000.0,80000.0,70000.0,30000.0,50000.0,40000.0,10000.0,86000.0,10000.0,80000.0,70000.0,30000.0,50000.0,40000.0,10000.0,86000.0],\"type\":\"box\"},{\"name\":\"\\u0422\\u0443\\u043b\\u0430\",\"y\":[50000.0,114000.0,35000.0,50000.0,114000.0,35000.0,50000.0,114000.0,35000.0,50000.0,114000.0,35000.0,50000.0,114000.0,35000.0,50000.0,114000.0,35000.0,50000.0,114000.0,35000.0,50000.0,114000.0,35000.0,50000.0,114000.0,35000.0,50000.0,114000.0,35000.0,50000.0,114000.0,35000.0,50000.0,114000.0,35000.0,50000.0,114000.0,35000.0,50000.0,114000.0,35000.0,50000.0,114000.0,35000.0,50000.0,114000.0,35000.0,50000.0,114000.0,35000.0,50000.0,114000.0,35000.0,50000.0,114000.0,35000.0,50000.0,114000.0,35000.0],\"type\":\"box\"},{\"fillcolor\":\"yellow\",\"name\":\"\\u0422\\u0443\\u043b\\u0430+\\u043c\\u043e\\u0434\\u0435\\u043b\\u044c\",\"y\":[73860.44965996186,73860.44965996186,73860.44965996186,73860.44965996186,73860.44965996186,73860.44965996186,73860.44965996186,73860.44965996186,73860.44965996186,73860.44965996186,73860.44965996186,73860.44965996186,73860.44965996186,73860.44965996186,73860.44965996186,73860.44965996186,73860.44965996186,73860.44965996186,73860.44965996186,73860.44965996186,50000.0,114000.0,35000.0,50000.0,114000.0,35000.0,50000.0,114000.0,35000.0,50000.0,114000.0,35000.0,50000.0,114000.0,35000.0,50000.0,114000.0,35000.0,50000.0,114000.0,35000.0,50000.0,114000.0,35000.0,50000.0,114000.0,35000.0,50000.0,114000.0,35000.0,50000.0,114000.0,35000.0,50000.0,114000.0,35000.0,50000.0,114000.0,35000.0,50000.0,114000.0,35000.0,50000.0,114000.0,35000.0,50000.0,114000.0,35000.0,50000.0,114000.0,35000.0,50000.0,114000.0,35000.0,50000.0,114000.0,35000.0,50000.0,114000.0,35000.0],\"type\":\"box\"}],                        {\"template\":{\"data\":{\"histogram2dcontour\":[{\"type\":\"histogram2dcontour\",\"colorbar\":{\"outlinewidth\":0,\"ticks\":\"\"},\"colorscale\":[[0.0,\"#0d0887\"],[0.1111111111111111,\"#46039f\"],[0.2222222222222222,\"#7201a8\"],[0.3333333333333333,\"#9c179e\"],[0.4444444444444444,\"#bd3786\"],[0.5555555555555556,\"#d8576b\"],[0.6666666666666666,\"#ed7953\"],[0.7777777777777778,\"#fb9f3a\"],[0.8888888888888888,\"#fdca26\"],[1.0,\"#f0f921\"]]}],\"choropleth\":[{\"type\":\"choropleth\",\"colorbar\":{\"outlinewidth\":0,\"ticks\":\"\"}}],\"histogram2d\":[{\"type\":\"histogram2d\",\"colorbar\":{\"outlinewidth\":0,\"ticks\":\"\"},\"colorscale\":[[0.0,\"#0d0887\"],[0.1111111111111111,\"#46039f\"],[0.2222222222222222,\"#7201a8\"],[0.3333333333333333,\"#9c179e\"],[0.4444444444444444,\"#bd3786\"],[0.5555555555555556,\"#d8576b\"],[0.6666666666666666,\"#ed7953\"],[0.7777777777777778,\"#fb9f3a\"],[0.8888888888888888,\"#fdca26\"],[1.0,\"#f0f921\"]]}],\"heatmap\":[{\"type\":\"heatmap\",\"colorbar\":{\"outlinewidth\":0,\"ticks\":\"\"},\"colorscale\":[[0.0,\"#0d0887\"],[0.1111111111111111,\"#46039f\"],[0.2222222222222222,\"#7201a8\"],[0.3333333333333333,\"#9c179e\"],[0.4444444444444444,\"#bd3786\"],[0.5555555555555556,\"#d8576b\"],[0.6666666666666666,\"#ed7953\"],[0.7777777777777778,\"#fb9f3a\"],[0.8888888888888888,\"#fdca26\"],[1.0,\"#f0f921\"]]}],\"heatmapgl\":[{\"type\":\"heatmapgl\",\"colorbar\":{\"outlinewidth\":0,\"ticks\":\"\"},\"colorscale\":[[0.0,\"#0d0887\"],[0.1111111111111111,\"#46039f\"],[0.2222222222222222,\"#7201a8\"],[0.3333333333333333,\"#9c179e\"],[0.4444444444444444,\"#bd3786\"],[0.5555555555555556,\"#d8576b\"],[0.6666666666666666,\"#ed7953\"],[0.7777777777777778,\"#fb9f3a\"],[0.8888888888888888,\"#fdca26\"],[1.0,\"#f0f921\"]]}],\"contourcarpet\":[{\"type\":\"contourcarpet\",\"colorbar\":{\"outlinewidth\":0,\"ticks\":\"\"}}],\"contour\":[{\"type\":\"contour\",\"colorbar\":{\"outlinewidth\":0,\"ticks\":\"\"},\"colorscale\":[[0.0,\"#0d0887\"],[0.1111111111111111,\"#46039f\"],[0.2222222222222222,\"#7201a8\"],[0.3333333333333333,\"#9c179e\"],[0.4444444444444444,\"#bd3786\"],[0.5555555555555556,\"#d8576b\"],[0.6666666666666666,\"#ed7953\"],[0.7777777777777778,\"#fb9f3a\"],[0.8888888888888888,\"#fdca26\"],[1.0,\"#f0f921\"]]}],\"surface\":[{\"type\":\"surface\",\"colorbar\":{\"outlinewidth\":0,\"ticks\":\"\"},\"colorscale\":[[0.0,\"#0d0887\"],[0.1111111111111111,\"#46039f\"],[0.2222222222222222,\"#7201a8\"],[0.3333333333333333,\"#9c179e\"],[0.4444444444444444,\"#bd3786\"],[0.5555555555555556,\"#d8576b\"],[0.6666666666666666,\"#ed7953\"],[0.7777777777777778,\"#fb9f3a\"],[0.8888888888888888,\"#fdca26\"],[1.0,\"#f0f921\"]]}],\"mesh3d\":[{\"type\":\"mesh3d\",\"colorbar\":{\"outlinewidth\":0,\"ticks\":\"\"}}],\"scatter\":[{\"fillpattern\":{\"fillmode\":\"overlay\",\"size\":10,\"solidity\":0.2},\"type\":\"scatter\"}],\"parcoords\":[{\"type\":\"parcoords\",\"line\":{\"colorbar\":{\"outlinewidth\":0,\"ticks\":\"\"}}}],\"scatterpolargl\":[{\"type\":\"scatterpolargl\",\"marker\":{\"colorbar\":{\"outlinewidth\":0,\"ticks\":\"\"}}}],\"bar\":[{\"error_x\":{\"color\":\"#2a3f5f\"},\"error_y\":{\"color\":\"#2a3f5f\"},\"marker\":{\"line\":{\"color\":\"#E5ECF6\",\"width\":0.5},\"pattern\":{\"fillmode\":\"overlay\",\"size\":10,\"solidity\":0.2}},\"type\":\"bar\"}],\"scattergeo\":[{\"type\":\"scattergeo\",\"marker\":{\"colorbar\":{\"outlinewidth\":0,\"ticks\":\"\"}}}],\"scatterpolar\":[{\"type\":\"scatterpolar\",\"marker\":{\"colorbar\":{\"outlinewidth\":0,\"ticks\":\"\"}}}],\"histogram\":[{\"marker\":{\"pattern\":{\"fillmode\":\"overlay\",\"size\":10,\"solidity\":0.2}},\"type\":\"histogram\"}],\"scattergl\":[{\"type\":\"scattergl\",\"marker\":{\"colorbar\":{\"outlinewidth\":0,\"ticks\":\"\"}}}],\"scatter3d\":[{\"type\":\"scatter3d\",\"line\":{\"colorbar\":{\"outlinewidth\":0,\"ticks\":\"\"}},\"marker\":{\"colorbar\":{\"outlinewidth\":0,\"ticks\":\"\"}}}],\"scattermapbox\":[{\"type\":\"scattermapbox\",\"marker\":{\"colorbar\":{\"outlinewidth\":0,\"ticks\":\"\"}}}],\"scatterternary\":[{\"type\":\"scatterternary\",\"marker\":{\"colorbar\":{\"outlinewidth\":0,\"ticks\":\"\"}}}],\"scattercarpet\":[{\"type\":\"scattercarpet\",\"marker\":{\"colorbar\":{\"outlinewidth\":0,\"ticks\":\"\"}}}],\"carpet\":[{\"aaxis\":{\"endlinecolor\":\"#2a3f5f\",\"gridcolor\":\"white\",\"linecolor\":\"white\",\"minorgridcolor\":\"white\",\"startlinecolor\":\"#2a3f5f\"},\"baxis\":{\"endlinecolor\":\"#2a3f5f\",\"gridcolor\":\"white\",\"linecolor\":\"white\",\"minorgridcolor\":\"white\",\"startlinecolor\":\"#2a3f5f\"},\"type\":\"carpet\"}],\"table\":[{\"cells\":{\"fill\":{\"color\":\"#EBF0F8\"},\"line\":{\"color\":\"white\"}},\"header\":{\"fill\":{\"color\":\"#C8D4E3\"},\"line\":{\"color\":\"white\"}},\"type\":\"table\"}],\"barpolar\":[{\"marker\":{\"line\":{\"color\":\"#E5ECF6\",\"width\":0.5},\"pattern\":{\"fillmode\":\"overlay\",\"size\":10,\"solidity\":0.2}},\"type\":\"barpolar\"}],\"pie\":[{\"automargin\":true,\"type\":\"pie\"}]},\"layout\":{\"autotypenumbers\":\"strict\",\"colorway\":[\"#636efa\",\"#EF553B\",\"#00cc96\",\"#ab63fa\",\"#FFA15A\",\"#19d3f3\",\"#FF6692\",\"#B6E880\",\"#FF97FF\",\"#FECB52\"],\"font\":{\"color\":\"#2a3f5f\"},\"hovermode\":\"closest\",\"hoverlabel\":{\"align\":\"left\"},\"paper_bgcolor\":\"white\",\"plot_bgcolor\":\"#E5ECF6\",\"polar\":{\"bgcolor\":\"#E5ECF6\",\"angularaxis\":{\"gridcolor\":\"white\",\"linecolor\":\"white\",\"ticks\":\"\"},\"radialaxis\":{\"gridcolor\":\"white\",\"linecolor\":\"white\",\"ticks\":\"\"}},\"ternary\":{\"bgcolor\":\"#E5ECF6\",\"aaxis\":{\"gridcolor\":\"white\",\"linecolor\":\"white\",\"ticks\":\"\"},\"baxis\":{\"gridcolor\":\"white\",\"linecolor\":\"white\",\"ticks\":\"\"},\"caxis\":{\"gridcolor\":\"white\",\"linecolor\":\"white\",\"ticks\":\"\"}},\"coloraxis\":{\"colorbar\":{\"outlinewidth\":0,\"ticks\":\"\"}},\"colorscale\":{\"sequential\":[[0.0,\"#0d0887\"],[0.1111111111111111,\"#46039f\"],[0.2222222222222222,\"#7201a8\"],[0.3333333333333333,\"#9c179e\"],[0.4444444444444444,\"#bd3786\"],[0.5555555555555556,\"#d8576b\"],[0.6666666666666666,\"#ed7953\"],[0.7777777777777778,\"#fb9f3a\"],[0.8888888888888888,\"#fdca26\"],[1.0,\"#f0f921\"]],\"sequentialminus\":[[0.0,\"#0d0887\"],[0.1111111111111111,\"#46039f\"],[0.2222222222222222,\"#7201a8\"],[0.3333333333333333,\"#9c179e\"],[0.4444444444444444,\"#bd3786\"],[0.5555555555555556,\"#d8576b\"],[0.6666666666666666,\"#ed7953\"],[0.7777777777777778,\"#fb9f3a\"],[0.8888888888888888,\"#fdca26\"],[1.0,\"#f0f921\"]],\"diverging\":[[0,\"#8e0152\"],[0.1,\"#c51b7d\"],[0.2,\"#de77ae\"],[0.3,\"#f1b6da\"],[0.4,\"#fde0ef\"],[0.5,\"#f7f7f7\"],[0.6,\"#e6f5d0\"],[0.7,\"#b8e186\"],[0.8,\"#7fbc41\"],[0.9,\"#4d9221\"],[1,\"#276419\"]]},\"xaxis\":{\"gridcolor\":\"white\",\"linecolor\":\"white\",\"ticks\":\"\",\"title\":{\"standoff\":15},\"zerolinecolor\":\"white\",\"automargin\":true,\"zerolinewidth\":2},\"yaxis\":{\"gridcolor\":\"white\",\"linecolor\":\"white\",\"ticks\":\"\",\"title\":{\"standoff\":15},\"zerolinecolor\":\"white\",\"automargin\":true,\"zerolinewidth\":2},\"scene\":{\"xaxis\":{\"backgroundcolor\":\"#E5ECF6\",\"gridcolor\":\"white\",\"linecolor\":\"white\",\"showbackground\":true,\"ticks\":\"\",\"zerolinecolor\":\"white\",\"gridwidth\":2},\"yaxis\":{\"backgroundcolor\":\"#E5ECF6\",\"gridcolor\":\"white\",\"linecolor\":\"white\",\"showbackground\":true,\"ticks\":\"\",\"zerolinecolor\":\"white\",\"gridwidth\":2},\"zaxis\":{\"backgroundcolor\":\"#E5ECF6\",\"gridcolor\":\"white\",\"linecolor\":\"white\",\"showbackground\":true,\"ticks\":\"\",\"zerolinecolor\":\"white\",\"gridwidth\":2}},\"shapedefaults\":{\"line\":{\"color\":\"#2a3f5f\"}},\"annotationdefaults\":{\"arrowcolor\":\"#2a3f5f\",\"arrowhead\":0,\"arrowwidth\":1},\"geo\":{\"bgcolor\":\"white\",\"landcolor\":\"#E5ECF6\",\"subunitcolor\":\"white\",\"showland\":true,\"showlakes\":true,\"lakecolor\":\"white\"},\"title\":{\"x\":0.05},\"mapbox\":{\"style\":\"light\"}}}},                        {\"responsive\": true}                    ).then(function(){\n",
       "                            \n",
       "var gd = document.getElementById('4cfc0112-c735-4f92-9039-84416fb6af11');\n",
       "var x = new MutationObserver(function (mutations, observer) {{\n",
       "        var display = window.getComputedStyle(gd).display;\n",
       "        if (!display || display === 'none') {{\n",
       "            console.log([gd, 'removed!']);\n",
       "            Plotly.purge(gd);\n",
       "            observer.disconnect();\n",
       "        }}\n",
       "}});\n",
       "\n",
       "// Listen for the removal of the full notebook cells\n",
       "var notebookContainer = gd.closest('#notebook-container');\n",
       "if (notebookContainer) {{\n",
       "    x.observe(notebookContainer, {childList: true});\n",
       "}}\n",
       "\n",
       "// Listen for the clearing of the current output cell\n",
       "var outputEl = gd.closest('.output');\n",
       "if (outputEl) {{\n",
       "    x.observe(outputEl, {childList: true});\n",
       "}}\n",
       "\n",
       "                        })                };                });            </script>        </div>"
      ]
     },
     "metadata": {},
     "output_type": "display_data"
    }
   ],
   "source": [
    "moskva1 = vac_info_new_salary_from[vac_info_new_salary_from['area']=='Москва']['salary_from']\n",
    "moskva2 = new_vac_info_salary[new_vac_info_salary['area']=='Москва']['salary_from']\n",
    "piter1 = vac_info_new_salary_from[vac_info_new_salary_from['area']=='Санкт-Петербург']['salary_from']\n",
    "piter2 = new_vac_info_salary[new_vac_info_salary['area']=='Санкт-Петербург']['salary_from']\n",
    "novosib1 = vac_info_new_salary_from[vac_info_new_salary_from['area']=='Новосибирск']['salary_from']\n",
    "novosib2 = new_vac_info_salary[new_vac_info_salary['area']=='Новосибирск']['salary_from']\n",
    "samara1 = vac_info_new_salary_from[vac_info_new_salary_from['area']=='Самара']['salary_from']\n",
    "samara2 = new_vac_info_salary[new_vac_info_salary['area']=='Самара']['salary_from']\n",
    "ekat1 = vac_info_new_salary_from[vac_info_new_salary_from['area']=='Екатеринбург']['salary_from']\n",
    "ekat2 = new_vac_info_salary[new_vac_info_salary['area']=='Екатеринбург']['salary_from']\n",
    "nizhni1 = vac_info_new_salary_from[vac_info_new_salary_from['area']=='Нижний Новгород']['salary_from']\n",
    "nizhni2 = new_vac_info_salary[new_vac_info_salary['area']=='Нижний Новгород']['salary_from']\n",
    "tula1 = vac_info_new_salary_from[vac_info_new_salary_from['area']=='Тула']['salary_from']\n",
    "tula2 = new_vac_info_salary[new_vac_info_salary['area']=='Тула']['salary_from']\n",
    "\n",
    "\n",
    "\n",
    "fig = go.Figure()\n",
    "fig.add_trace(go.Box(y=moskva1, name='Москва'))\n",
    "fig.add_trace(go.Box(y=moskva2, name='Москва+модель', fillcolor='yellow'))\n",
    "fig.add_trace(go.Box(y=piter1, name='Санкт-Петербург'))\n",
    "fig.add_trace(go.Box(y=piter2, name='Санкт-Петербург+модель', fillcolor='yellow'))\n",
    "fig.add_trace(go.Box(y=novosib1, name='Новосибирск'))\n",
    "fig.add_trace(go.Box(y=novosib2, name='Новосибирск+модель', fillcolor='yellow'))\n",
    "fig.add_trace(go.Box(y=samara1, name='Самара'))\n",
    "fig.add_trace(go.Box(y=samara2, name='Самара+модель', fillcolor='yellow'))\n",
    "fig.add_trace(go.Box(y=ekat1, name='Екатеринбург'))\n",
    "fig.add_trace(go.Box(y=ekat2, name='Екатеринбург+модель', fillcolor='yellow'))\n",
    "fig.add_trace(go.Box(y=nizhni1, name='Нижний Новгород'))\n",
    "fig.add_trace(go.Box(y=nizhni2, name='Нижний Новгород+модель', fillcolor='yellow'))\n",
    "fig.add_trace(go.Box(y=tula1, name='Тула'))\n",
    "fig.add_trace(go.Box(y=tula2, name='Тула+модель', fillcolor='yellow'))\n",
    "\n",
    "fig.show()"
   ]
  },
  {
   "cell_type": "markdown",
   "id": "8e5cad3f",
   "metadata": {},
   "source": [
    "### Видим по метрике MAPE и графикам, что наша модель не удачна, предсказания зарплаты по описанию дают слишком много факторов (feature) и из-за этого вероятно получается модель как переобученная, почти по всем городам предсказанные зарплаты вошли в пул уже известных зарплат."
   ]
  },
  {
   "cell_type": "code",
   "execution_count": null,
   "id": "b9b97221",
   "metadata": {},
   "outputs": [],
   "source": []
  },
  {
   "cell_type": "markdown",
   "id": "9c343773",
   "metadata": {},
   "source": [
    "#### Попробуем по кусочку рюзюме подобрать вакансию"
   ]
  },
  {
   "cell_type": "code",
   "execution_count": 1502,
   "id": "f851d664",
   "metadata": {},
   "outputs": [],
   "source": [
    "#кусок произвольного резюме\n",
    "tA = 'проектирование баз данных Access, MS SQL Server, Oracle работа c Oracle Developer, Oracle Enterprise Manager знание Transact-SQL, PL/SQL написание транзакций, запросов, простых хранимых процедур, функций, пакетов, триггеров создание аналитических кубов OLAP, репликаций MS SQL Server Analysis Services (SSAS) MS SQL Server Integration Services (SSIS) MS SQL Server Reporting Services (SSRS) Word, Excel, Visio, PowerPoint, Outlook Project Expert, Expert Choice навыки использования CASE средств средства моделирования BpWin, ErWin навыки описания схем IDEF, DFD работа на виртуальных машинах VMware имитационное моделирование бизнес-процессов GPSS опыт разработки и проектирования информационных систем, бизнес-проектов знание экономики, менеджмента, бухгалтерского учета, статистики аналитический склад ума; быстрая обучаемость, коммуникабельность, стрессоустойчивость. амбициозность в достижении поставленных задач ответственность, усидчивость, аккуратность умение работать в команде'"
   ]
  },
  {
   "cell_type": "code",
   "execution_count": null,
   "id": "5ce7d27a",
   "metadata": {},
   "outputs": [],
   "source": [
    "#преобразуем и нормализуем текст\n",
    "tA = remove_trash([tA])\n",
    "tA=''.join(lst)"
   ]
  },
  {
   "cell_type": "code",
   "execution_count": 1508,
   "id": "1575e5cb",
   "metadata": {},
   "outputs": [],
   "source": []
  },
  {
   "cell_type": "code",
   "execution_count": 1509,
   "id": "0e6118d5",
   "metadata": {},
   "outputs": [],
   "source": [
    "textA = text_transformer.transform([tA])\n",
    "test = cosine_similarity(text_norm, textA)"
   ]
  },
  {
   "cell_type": "code",
   "execution_count": 1510,
   "id": "cb0a7b2c",
   "metadata": {},
   "outputs": [],
   "source": [
    "testdf = pd.DataFrame(test)\n",
    "testdf.columns=['vector']"
   ]
  },
  {
   "cell_type": "code",
   "execution_count": 1511,
   "id": "95d2f861",
   "metadata": {},
   "outputs": [
    {
     "data": {
      "text/html": [
       "<div>\n",
       "<style scoped>\n",
       "    .dataframe tbody tr th:only-of-type {\n",
       "        vertical-align: middle;\n",
       "    }\n",
       "\n",
       "    .dataframe tbody tr th {\n",
       "        vertical-align: top;\n",
       "    }\n",
       "\n",
       "    .dataframe thead th {\n",
       "        text-align: right;\n",
       "    }\n",
       "</style>\n",
       "<table border=\"1\" class=\"dataframe\">\n",
       "  <thead>\n",
       "    <tr style=\"text-align: right;\">\n",
       "      <th></th>\n",
       "      <th>vector</th>\n",
       "    </tr>\n",
       "  </thead>\n",
       "  <tbody>\n",
       "    <tr>\n",
       "      <th>524</th>\n",
       "      <td>0.188658</td>\n",
       "    </tr>\n",
       "    <tr>\n",
       "      <th>500</th>\n",
       "      <td>0.188658</td>\n",
       "    </tr>\n",
       "    <tr>\n",
       "      <th>504</th>\n",
       "      <td>0.188658</td>\n",
       "    </tr>\n",
       "    <tr>\n",
       "      <th>506</th>\n",
       "      <td>0.188658</td>\n",
       "    </tr>\n",
       "    <tr>\n",
       "      <th>508</th>\n",
       "      <td>0.188658</td>\n",
       "    </tr>\n",
       "  </tbody>\n",
       "</table>\n",
       "</div>"
      ],
      "text/plain": [
       "       vector\n",
       "524  0.188658\n",
       "500  0.188658\n",
       "504  0.188658\n",
       "506  0.188658\n",
       "508  0.188658"
      ]
     },
     "execution_count": 1511,
     "metadata": {},
     "output_type": "execute_result"
    }
   ],
   "source": [
    "testdf.sort_values(by='vector',ascending=False).head(5)"
   ]
  },
  {
   "cell_type": "code",
   "execution_count": 1512,
   "id": "920c019a",
   "metadata": {},
   "outputs": [
    {
     "data": {
      "text/plain": [
       "array(['<p><strong>UpTrader</strong> – продуктовая FinTech компания, мы создаём экосистему для брокерских компаний: CRM, плагины под торговую платформу и систему копирования сделок.</p> <p><strong>Кого мы ищем:</strong><br />Junior Backend разработчика, готового работать в команде.</p> <p><strong>Что нужно будет делать:</strong></p> <ul> <li>Поддерживать и дополнять функционал CRM;</li> </ul> <p><strong>Что ждём от кандидата:</strong></p> <ul> <li><strong>Уверенное знание python;</strong></li> <li><strong>Уверенное знание django и DRF;</strong></li> <li>Опыт работы с git;</li> <li>Опыт работы с PostgreSQL и умение писать SQL-запросы;</li> <li><strong>Английский на уровне чтения тех. документации;</strong></li> <li>Готовность выполнить техническое задание.</li> </ul> <p><strong>Что предлагаем:</strong></p> <ul> <li>Слаженную, но небольшую команду: нас 15 человек, мы работаем из разных городов и стран;</li> <li>Удалённую работу с гибким графиком;</li> <li>Лояльное руководство, отсутствие бюрократии, отлаженный и комфортный процесс разработки;</li> <li>Задачи любой сложности и работу над крутым продуктом.</li> </ul> <p><strong>Вакансия предполагает выполнение технического задания.</strong></p>'],\n",
       "      dtype=object)"
      ]
     },
     "execution_count": 1512,
     "metadata": {},
     "output_type": "execute_result"
    }
   ],
   "source": [
    "vac_info_new_salary_no_del[vac_info_new_salary_no_del.index==524]['description'].values"
   ]
  },
  {
   "cell_type": "code",
   "execution_count": null,
   "id": "e3c7b7db",
   "metadata": {},
   "outputs": [],
   "source": []
  },
  {
   "cell_type": "code",
   "execution_count": null,
   "id": "fb295671",
   "metadata": {},
   "outputs": [],
   "source": []
  },
  {
   "cell_type": "code",
   "execution_count": null,
   "id": "8e3ed70a",
   "metadata": {},
   "outputs": [],
   "source": []
  },
  {
   "cell_type": "code",
   "execution_count": null,
   "id": "f4090a6a",
   "metadata": {},
   "outputs": [],
   "source": []
  },
  {
   "cell_type": "code",
   "execution_count": null,
   "id": "ca659f5b",
   "metadata": {},
   "outputs": [],
   "source": []
  },
  {
   "cell_type": "code",
   "execution_count": null,
   "id": "59b48ea8",
   "metadata": {},
   "outputs": [],
   "source": []
  }
 ],
 "metadata": {
  "kernelspec": {
   "display_name": "Python 3 (ipykernel)",
   "language": "python",
   "name": "python3"
  },
  "language_info": {
   "codemirror_mode": {
    "name": "ipython",
    "version": 3
   },
   "file_extension": ".py",
   "mimetype": "text/x-python",
   "name": "python",
   "nbconvert_exporter": "python",
   "pygments_lexer": "ipython3",
   "version": "3.9.13"
  }
 },
 "nbformat": 4,
 "nbformat_minor": 5
}
